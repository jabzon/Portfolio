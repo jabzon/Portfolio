{
 "cells": [
  {
   "cell_type": "markdown",
   "metadata": {
    "toc": true
   },
   "source": [
    "<h1>Содержание<span class=\"tocSkip\"></span></h1>\n",
    "<div class=\"toc\"><ul class=\"toc-item\"><li><span><a href=\"#Подготовка\" data-toc-modified-id=\"Подготовка-1\"><span class=\"toc-item-num\">1&nbsp;&nbsp;</span>Подготовка</a></span></li><li><span><a href=\"#Анализ\" data-toc-modified-id=\"Анализ-2\"><span class=\"toc-item-num\">2&nbsp;&nbsp;</span>Анализ</a></span></li><li><span><a href=\"#Обучение\" data-toc-modified-id=\"Обучение-3\"><span class=\"toc-item-num\">3&nbsp;&nbsp;</span>Обучение</a></span></li><li><span><a href=\"#Тестирование\" data-toc-modified-id=\"Тестирование-4\"><span class=\"toc-item-num\">4&nbsp;&nbsp;</span>Тестирование</a></span></li><li><span><a href=\"#Вывод\" data-toc-modified-id=\"Вывод-5\"><span class=\"toc-item-num\">5&nbsp;&nbsp;</span>Вывод</a></span></li><li><span><a href=\"#Чек-лист-проверки\" data-toc-modified-id=\"Чек-лист-проверки-6\"><span class=\"toc-item-num\">6&nbsp;&nbsp;</span>Чек-лист проверки</a></span></li></ul></div>"
   ]
  },
  {
   "cell_type": "markdown",
   "metadata": {},
   "source": [
    "#  Прогнозирование заказов такси"
   ]
  },
  {
   "cell_type": "markdown",
   "metadata": {},
   "source": [
    "**Описание проекта:**\n",
    "\n",
    "Компания «Чётенькое такси» собрала исторические данные о заказах такси в аэропортах. Чтобы привлекать больше водителей в период пиковой нагрузки, нужно спрогнозировать количество заказов такси на следующий час. Постройте модель для такого предсказания.\n",
    "\n",
    "Значение метрики *RMSE* на тестовой выборке должно быть не больше 48.\n",
    "\n",
    "**План работы**:\n",
    "\n",
    "1. Загрузить данные и выполнить их ресемплирование по одному часу.\n",
    "2. Проанализировать данные.\n",
    "3. Обучить разные модели с различными гиперпараметрами. Сделать тестовую выборку размером 10% от исходных данных.\n",
    "4. Проверить данные на тестовой выборке и сделать выводы."
   ]
  },
  {
   "cell_type": "markdown",
   "metadata": {},
   "source": [
    "## Подготовка"
   ]
  },
  {
   "cell_type": "code",
   "execution_count": 14,
   "metadata": {},
   "outputs": [],
   "source": [
    "# Импорт библиотек\n",
    "from catboost import CatBoostRegressor\n",
    "\n",
    "from lightgbm import LGBMRegressor\n",
    "\n",
    "import numpy as np\n",
    "\n",
    "import matplotlib.pyplot as plt\n",
    "\n",
    "import pandas as pd\n",
    "\n",
    "from sklearn.model_selection import train_test_split, GridSearchCV\n",
    "from sklearn.model_selection import TimeSeriesSplit\n",
    "\n",
    "from sklearn.ensemble import RandomForestRegressor\n",
    "from sklearn.linear_model import SGDRegressor\n",
    "from sklearn.preprocessing import StandardScaler\n",
    "from sklearn.metrics import mean_squared_error\n",
    "\n",
    "from statsmodels.tsa.seasonal import seasonal_decompose\n",
    "\n",
    "import warnings\n",
    "warnings.filterwarnings('ignore')"
   ]
  },
  {
   "cell_type": "code",
   "execution_count": 15,
   "metadata": {},
   "outputs": [
    {
     "data": {
      "text/html": [
       "<div>\n",
       "<style scoped>\n",
       "    .dataframe tbody tr th:only-of-type {\n",
       "        vertical-align: middle;\n",
       "    }\n",
       "\n",
       "    .dataframe tbody tr th {\n",
       "        vertical-align: top;\n",
       "    }\n",
       "\n",
       "    .dataframe thead th {\n",
       "        text-align: right;\n",
       "    }\n",
       "</style>\n",
       "<table border=\"1\" class=\"dataframe\">\n",
       "  <thead>\n",
       "    <tr style=\"text-align: right;\">\n",
       "      <th></th>\n",
       "      <th>num_orders</th>\n",
       "    </tr>\n",
       "    <tr>\n",
       "      <th>datetime</th>\n",
       "      <th></th>\n",
       "    </tr>\n",
       "  </thead>\n",
       "  <tbody>\n",
       "    <tr>\n",
       "      <th>2018-03-01 00:00:00</th>\n",
       "      <td>9</td>\n",
       "    </tr>\n",
       "    <tr>\n",
       "      <th>2018-03-01 00:10:00</th>\n",
       "      <td>14</td>\n",
       "    </tr>\n",
       "    <tr>\n",
       "      <th>2018-03-01 00:20:00</th>\n",
       "      <td>28</td>\n",
       "    </tr>\n",
       "    <tr>\n",
       "      <th>2018-03-01 00:30:00</th>\n",
       "      <td>20</td>\n",
       "    </tr>\n",
       "    <tr>\n",
       "      <th>2018-03-01 00:40:00</th>\n",
       "      <td>32</td>\n",
       "    </tr>\n",
       "  </tbody>\n",
       "</table>\n",
       "</div>"
      ],
      "text/plain": [
       "                     num_orders\n",
       "datetime                       \n",
       "2018-03-01 00:00:00           9\n",
       "2018-03-01 00:10:00          14\n",
       "2018-03-01 00:20:00          28\n",
       "2018-03-01 00:30:00          20\n",
       "2018-03-01 00:40:00          32"
      ]
     },
     "execution_count": 15,
     "metadata": {},
     "output_type": "execute_result"
    }
   ],
   "source": [
    "# Откроем файл\n",
    "df = pd.read_csv('/datasets/taxi.csv',index_col=[0], parse_dates=[0]) # сразу же зададим столбец с дататой как индекс\n",
    "df.sort_index(inplace=True)\n",
    "df.head()"
   ]
  },
  {
   "cell_type": "code",
   "execution_count": 16,
   "metadata": {},
   "outputs": [
    {
     "name": "stdout",
     "output_type": "stream",
     "text": [
      "<class 'pandas.core.frame.DataFrame'>\n",
      "DatetimeIndex: 26496 entries, 2018-03-01 00:00:00 to 2018-08-31 23:50:00\n",
      "Data columns (total 1 columns):\n",
      " #   Column      Non-Null Count  Dtype\n",
      "---  ------      --------------  -----\n",
      " 0   num_orders  26496 non-null  int64\n",
      "dtypes: int64(1)\n",
      "memory usage: 414.0 KB\n"
     ]
    }
   ],
   "source": [
    "df.info()"
   ]
  },
  {
   "cell_type": "markdown",
   "metadata": {},
   "source": [
    "Нам предоставленны данные за период с начала марта по конец августа 2018 года, с типами данных все впорядке, целевым признаком является num_orders - число заказов. Нужно выполнить ресемплирование по 1 часу."
   ]
  },
  {
   "cell_type": "code",
   "execution_count": 17,
   "metadata": {},
   "outputs": [
    {
     "data": {
      "text/html": [
       "<div>\n",
       "<style scoped>\n",
       "    .dataframe tbody tr th:only-of-type {\n",
       "        vertical-align: middle;\n",
       "    }\n",
       "\n",
       "    .dataframe tbody tr th {\n",
       "        vertical-align: top;\n",
       "    }\n",
       "\n",
       "    .dataframe thead th {\n",
       "        text-align: right;\n",
       "    }\n",
       "</style>\n",
       "<table border=\"1\" class=\"dataframe\">\n",
       "  <thead>\n",
       "    <tr style=\"text-align: right;\">\n",
       "      <th></th>\n",
       "      <th>num_orders</th>\n",
       "    </tr>\n",
       "    <tr>\n",
       "      <th>datetime</th>\n",
       "      <th></th>\n",
       "    </tr>\n",
       "  </thead>\n",
       "  <tbody>\n",
       "    <tr>\n",
       "      <th>2018-03-01 00:00:00</th>\n",
       "      <td>124</td>\n",
       "    </tr>\n",
       "    <tr>\n",
       "      <th>2018-03-01 01:00:00</th>\n",
       "      <td>85</td>\n",
       "    </tr>\n",
       "    <tr>\n",
       "      <th>2018-03-01 02:00:00</th>\n",
       "      <td>71</td>\n",
       "    </tr>\n",
       "    <tr>\n",
       "      <th>2018-03-01 03:00:00</th>\n",
       "      <td>66</td>\n",
       "    </tr>\n",
       "    <tr>\n",
       "      <th>2018-03-01 04:00:00</th>\n",
       "      <td>43</td>\n",
       "    </tr>\n",
       "  </tbody>\n",
       "</table>\n",
       "</div>"
      ],
      "text/plain": [
       "                     num_orders\n",
       "datetime                       \n",
       "2018-03-01 00:00:00         124\n",
       "2018-03-01 01:00:00          85\n",
       "2018-03-01 02:00:00          71\n",
       "2018-03-01 03:00:00          66\n",
       "2018-03-01 04:00:00          43"
      ]
     },
     "execution_count": 17,
     "metadata": {},
     "output_type": "execute_result"
    }
   ],
   "source": [
    "df = df.resample('1H').sum()\n",
    "df.head()"
   ]
  },
  {
   "cell_type": "code",
   "execution_count": 18,
   "metadata": {},
   "outputs": [
    {
     "name": "stdout",
     "output_type": "stream",
     "text": [
      "<class 'pandas.core.frame.DataFrame'>\n",
      "DatetimeIndex: 4416 entries, 2018-03-01 00:00:00 to 2018-08-31 23:00:00\n",
      "Freq: H\n",
      "Data columns (total 1 columns):\n",
      " #   Column      Non-Null Count  Dtype\n",
      "---  ------      --------------  -----\n",
      " 0   num_orders  4416 non-null   int64\n",
      "dtypes: int64(1)\n",
      "memory usage: 69.0 KB\n"
     ]
    }
   ],
   "source": [
    "df.info()"
   ]
  },
  {
   "cell_type": "markdown",
   "metadata": {},
   "source": [
    "## Анализ"
   ]
  },
  {
   "cell_type": "markdown",
   "metadata": {},
   "source": [
    "Проанализируем целевой признак, а после посмотрим графики сезонности и трендов."
   ]
  },
  {
   "cell_type": "code",
   "execution_count": 19,
   "metadata": {},
   "outputs": [
    {
     "data": {
      "image/png": "[encoded data removed]",
      "text/plain": [
       "<Figure size 432x288 with 1 Axes>"
      ]
     },
     "metadata": {
      "needs_background": "light"
     },
     "output_type": "display_data"
    }
   ],
   "source": [
    "# Построим рафик для целевого признака\n",
    "df['num_orders'].plot(title='target');"
   ]
  },
  {
   "cell_type": "markdown",
   "metadata": {},
   "source": [
    "Видно, что в августе заказов было гораздо больше, возможно часто шли дожди, посмотрим сезонность и тренды."
   ]
  },
  {
   "cell_type": "code",
   "execution_count": 20,
   "metadata": {},
   "outputs": [
    {
     "data": {
      "image/png": "[encoded data removed]",
      "text/plain": [
       "<Figure size 432x576 with 3 Axes>"
      ]
     },
     "metadata": {
      "needs_background": "light"
     },
     "output_type": "display_data"
    }
   ],
   "source": [
    "decomposed = seasonal_decompose(df) \n",
    "\n",
    "plt.figure(figsize=(6, 8))\n",
    "plt.subplot(311)\n",
    "\n",
    "decomposed.trend.plot(ax=plt.gca())\n",
    "plt.title('Trend')\n",
    "plt.subplot(312)\n",
    "decomposed.seasonal.plot(ax=plt.gca()) # < напишите код здесь >\n",
    "plt.title('Seasonality')\n",
    "plt.subplot(313)\n",
    "decomposed.resid.plot(ax=plt.gca()) # < напишите код здесь >\n",
    "plt.title('Residuals')\n",
    "plt.tight_layout()"
   ]
  },
  {
   "cell_type": "code",
   "execution_count": 21,
   "metadata": {},
   "outputs": [
    {
     "data": {
      "image/png": "[encoded data removed]",
      "text/plain": [
       "<Figure size 432x288 with 1 Axes>"
      ]
     },
     "metadata": {
      "needs_background": "light"
     },
     "output_type": "display_data"
    }
   ],
   "source": [
    "# Рассмотрим сезонность в течении 1 дня\n",
    "decomposed = seasonal_decompose(df)\n",
    "decomposed.seasonal['2018-03-01 00': '2018-03-02 00'].plot(ax=plt.gca(), title='Сезонность в течении дня');"
   ]
  },
  {
   "cell_type": "code",
   "execution_count": 22,
   "metadata": {},
   "outputs": [
    {
     "data": {
      "image/png": "[encoded data removed]",
      "text/plain": [
       "<Figure size 432x288 with 1 Axes>"
      ]
     },
     "metadata": {
      "needs_background": "light"
     },
     "output_type": "display_data"
    }
   ],
   "source": [
    "# Попробуем проанализировать сезонность сделав декомпозицию по дню и посмотрев данные за 1 месяц\n",
    "df_day = df.resample('1D').sum()\n",
    "decomposed = seasonal_decompose(df_day)\n",
    "decomposed.seasonal['2018-03': '2018-04'].plot(ax=plt.gca(), title='Сезонность в течнии месяца');"
   ]
  },
  {
   "cell_type": "markdown",
   "metadata": {},
   "source": [
    "тренд увеличивается с приближением к августу; сезонность распознать удалось лишь в течении дня - пик вызова такси приходится на 12 часов ночи, после чего идет спад и минимальное количество в 6 утра, далее идет рост(с 6 до 10, с 12 до 16 и с 18 до 00 ) с небольшими спадами(с 10 до 12, с 16 до 18); отстатки увеличиваются так же ближе к августу."
   ]
  },
  {
   "cell_type": "code",
   "execution_count": 23,
   "metadata": {},
   "outputs": [
    {
     "data": {
      "text/plain": [
       "<AxesSubplot:xlabel='datetime'>"
      ]
     },
     "execution_count": 23,
     "metadata": {},
     "output_type": "execute_result"
    },
    {
     "data": {
      "image/png": "[encoded data removed]",
      "text/plain": [
       "<Figure size 432x288 with 1 Axes>"
      ]
     },
     "metadata": {
      "needs_background": "light"
     },
     "output_type": "display_data"
    }
   ],
   "source": [
    "# Воспользуемся стационарными рядами для большего понимания\n",
    "df['mean'] = df['num_orders'].rolling(24).mean()\n",
    "df['std'] = df['num_orders'].rolling(24).std()\n",
    "df.plot() "
   ]
  },
  {
   "cell_type": "markdown",
   "metadata": {},
   "source": [
    "Наш датафрейм не является стационарным, его среднее не стоит на месте."
   ]
  },
  {
   "cell_type": "markdown",
   "metadata": {},
   "source": [
    "## Обучение"
   ]
  },
  {
   "cell_type": "code",
   "execution_count": 24,
   "metadata": {},
   "outputs": [],
   "source": [
    "# Создадим функцию для добавления каленарных признаков, отстающих значений и скользящего среднего\n",
    "def make_features(data, max_lag, rolling_mean_size): # функция принимает датафрейм, максимальное число отстающих значений\n",
    "# и размер окна для скользящего среднего\n",
    "  \n",
    "    data['dayofweek'] = data.index.dayofweek\n",
    "    data['hours'] = data.index.hour\n",
    "    \n",
    "    for lag in range(1, max_lag + 1):\n",
    "        data['lag_{}'.format(lag)] = data['num_orders'].shift(lag)\n",
    "        \n",
    "    data['rolling_mean'] = data['num_orders'].shift().rolling(rolling_mean_size).mean()"
   ]
  },
  {
   "cell_type": "code",
   "execution_count": 25,
   "metadata": {},
   "outputs": [
    {
     "name": "stdout",
     "output_type": "stream",
     "text": [
      "(3806, 171)\n",
      "(442, 171)\n"
     ]
    }
   ],
   "source": [
    "make_features(df, 168, 168) # остановимся пока на этих значениях\n",
    "\n",
    "# Разделим датафрейм на выборки и создадим features и target \n",
    "train, test = train_test_split(df, shuffle=False, test_size=0.1)\n",
    "train = train.dropna()\n",
    "\n",
    "features_train = train.drop(['num_orders', 'std', 'mean'], axis=1)\n",
    "features_test= test.drop(['num_orders', 'std', 'mean'], axis=1)\n",
    "\n",
    "target_train = train['num_orders']\n",
    "target_test = test['num_orders']\n",
    "\n",
    "print(features_train.shape)\n",
    "print(features_test.shape)"
   ]
  },
  {
   "cell_type": "markdown",
   "metadata": {},
   "source": [
    "Рассмотрим модели SGDRegressor, CatBoost и случайный лес"
   ]
  },
  {
   "cell_type": "code",
   "execution_count": 33,
   "metadata": {},
   "outputs": [
    {
     "name": "stdout",
     "output_type": "stream",
     "text": [
      "Лучшие параметры: {'eta0': 0.01}\n",
      "Лучшый счет: 24.590184322023372\n"
     ]
    }
   ],
   "source": [
    "# SGDRegressor\n",
    "\n",
    "scaler = StandardScaler()\n",
    "scaler.fit(features_train)\n",
    "features_scaler = scaler.transform(features_train)\n",
    "\n",
    "# Выбираем параметры\n",
    "linear_params = {\n",
    "'eta0': [0.01]\n",
    "}\n",
    "# Разделяем на выборки \n",
    "tscv = TimeSeriesSplit(n_splits=5)\n",
    "\n",
    "# Создаем модель\n",
    "linear = SGDRegressor()\n",
    "\n",
    "# Создаем способ подбора\n",
    "grid_linear = GridSearchCV(linear, linear_params, cv=tscv, \n",
    "                           scoring='neg_root_mean_squared_error')\n",
    "\n",
    "# Обучаем\n",
    "grid_linear.fit(features_scaler, target_train)\n",
    "\n",
    "print('Лучшие параметры:', grid_linear.best_params_)\n",
    "print('Лучший счет:', -grid_linear.best_score_)"
   ]
  },
  {
   "cell_type": "markdown",
   "metadata": {},
   "source": [
    "Хороший результат. Посмотрим далее."
   ]
  },
  {
   "cell_type": "code",
   "execution_count": 30,
   "metadata": {},
   "outputs": [
    {
     "name": "stdout",
     "output_type": "stream",
     "text": [
      "Лучшие параметры: {'depth': 3, 'grow_policy': 'Lossguide', 'learning_rate': 0.05, 'n_estimators': 200, 'num_leaves': 10, 'verbose': False}\n",
      "Лучший счет: 22.46435978524629\n",
      "CPU times: user 3min 26s, sys: 1.78 s, total: 3min 28s\n",
      "Wall time: 5min 36s\n"
     ]
    }
   ],
   "source": [
    "%%time\n",
    "# CatBoost\n",
    "cat_params = {\n",
    "'n_estimators': range(100, 300, 100),\n",
    "'learning_rate': [0.05, 0.1, 0.3],\n",
    "'verbose': [False],\n",
    "'grow_policy': ['Lossguide'],\n",
    "'num_leaves': [5, 10, 20],\n",
    "'depth': range(1, 5, 2),\n",
    "}\n",
    "\n",
    "tscv = TimeSeriesSplit(n_splits=5)\n",
    "\n",
    "cat = CatBoostRegressor()\n",
    "\n",
    "grid_cat = GridSearchCV(cat, cat_params, cv=tscv, scoring='neg_root_mean_squared_error')\n",
    "\n",
    "grid_cat.fit(features_train, target_train)\n",
    "\n",
    "print('Лучшие параметры:', grid_cat.best_params_)\n",
    "print('Лучший счет:', -grid_cat.best_score_)"
   ]
  },
  {
   "cell_type": "markdown",
   "metadata": {},
   "source": [
    "Результаты еще лучше, проверим так же случайный лес."
   ]
  },
  {
   "cell_type": "code",
   "execution_count": 34,
   "metadata": {},
   "outputs": [
    {
     "name": "stdout",
     "output_type": "stream",
     "text": [
      "Лучшие параметры: {'max_depth': 3, 'n_estimators': 50} \n",
      "\n",
      "Лучшый счет: 25.04077975920469 \n",
      "\n",
      "CPU times: user 42.3 s, sys: 47.2 ms, total: 42.3 s\n",
      "Wall time: 42.4 s\n"
     ]
    }
   ],
   "source": [
    "%%time\n",
    "# Случайный лес\n",
    "rfc = RandomForestRegressor(random_state=12345)\n",
    "\n",
    "parametrs = { 'n_estimators': range (30, 61, 10),\n",
    "              'max_depth': range (1,5, 2)}\n",
    "\n",
    "grid_rfc = GridSearchCV(rfc, parametrs, cv=tscv, scoring='neg_root_mean_squared_error')\n",
    "grid_rfc.fit(features_train, target_train)\n",
    "\n",
    "print('Лучшие параметры:', grid_rfc.best_params_, '\\n')\n",
    "print('Лучший счет:', -grid_rfc.best_score_, '\\n')"
   ]
  },
  {
   "cell_type": "markdown",
   "metadata": {},
   "source": [
    "Результаты хуже, чем у предшественников."
   ]
  },
  {
   "cell_type": "markdown",
   "metadata": {},
   "source": [
    "## Тестирование"
   ]
  },
  {
   "cell_type": "markdown",
   "metadata": {},
   "source": [
    "Проведем тестирование на модели CatBoost т.к. она показала лучшие результаты."
   ]
  },
  {
   "cell_type": "code",
   "execution_count": 31,
   "metadata": {},
   "outputs": [
    {
     "name": "stdout",
     "output_type": "stream",
     "text": [
      "RMSE: 36.56903957677199\n"
     ]
    }
   ],
   "source": [
    "pred = grid_cat.best_estimator_.predict(features_test)\n",
    "print('RMSE:',  mean_squared_error(pred, target_test, squared=False))"
   ]
  },
  {
   "cell_type": "markdown",
   "metadata": {},
   "source": [
    "Хороший результат"
   ]
  },
  {
   "cell_type": "markdown",
   "metadata": {},
   "source": [
    "## Вывод"
   ]
  },
  {
   "cell_type": "markdown",
   "metadata": {},
   "source": [
    "Был произведен осмотр данных, выделен целевой признак, выполнено ресемплирование по одному часу. в результаты исследований мы узнали, что тренд увеличивается с приближением к августу, сезонность распознать не удалось, отстатки увеличиваются так же ближе к августу. Датафрейм не является стационарным, его среднее не стоит на месте. Были обучены модели SGD, CatBoost, случайный лес. Лучшие результаты на тестовой выборки показала модель CatBoost с параметрами 'depth': 3, 'grow_policy': 'Lossguide', 'learning_rate': 0.05, 'n_estimators': 200, 'num_leaves': 10; значение метрики - RMSE: 36.569, задача выполнена, метрика ниже 48."
   ]
  }
 ],
 "metadata": {
  "ExecuteTimeLog": [
   {
    "duration": 1056,
    "start_time": "2022-12-20T15:39:37.734Z"
   },
   {
    "duration": 298,
    "start_time": "2022-12-20T15:40:54.237Z"
   },
   {
    "duration": 54,
    "start_time": "2022-12-20T15:40:58.018Z"
   },
   {
    "duration": 58,
    "start_time": "2022-12-20T15:41:13.544Z"
   },
   {
    "duration": 9,
    "start_time": "2022-12-20T15:41:21.553Z"
   },
   {
    "duration": 50,
    "start_time": "2022-12-20T15:56:49.416Z"
   },
   {
    "duration": 9,
    "start_time": "2022-12-20T15:56:52.174Z"
   },
   {
    "duration": 5,
    "start_time": "2022-12-20T15:58:41.270Z"
   },
   {
    "duration": 14,
    "start_time": "2022-12-20T16:01:31.836Z"
   },
   {
    "duration": 10,
    "start_time": "2022-12-20T16:01:45.193Z"
   },
   {
    "duration": 9,
    "start_time": "2022-12-20T16:01:50.445Z"
   },
   {
    "duration": 9,
    "start_time": "2022-12-20T16:02:19.542Z"
   },
   {
    "duration": 9,
    "start_time": "2022-12-20T16:02:27.595Z"
   },
   {
    "duration": 49,
    "start_time": "2022-12-20T16:02:46.520Z"
   },
   {
    "duration": 10,
    "start_time": "2022-12-20T16:02:46.666Z"
   },
   {
    "duration": 10,
    "start_time": "2022-12-20T16:02:47.701Z"
   },
   {
    "duration": 681,
    "start_time": "2022-12-20T16:16:22.647Z"
   },
   {
    "duration": 209,
    "start_time": "2022-12-20T16:16:30.899Z"
   },
   {
    "duration": 132,
    "start_time": "2022-12-20T16:16:52.917Z"
   },
   {
    "duration": 272,
    "start_time": "2022-12-20T16:17:08.418Z"
   },
   {
    "duration": 126,
    "start_time": "2022-12-20T16:19:43.004Z"
   },
   {
    "duration": 3,
    "start_time": "2022-12-20T16:21:28.968Z"
   },
   {
    "duration": 12,
    "start_time": "2022-12-20T16:22:38.891Z"
   },
   {
    "duration": 35,
    "start_time": "2022-12-20T16:22:55.475Z"
   },
   {
    "duration": 16,
    "start_time": "2022-12-20T16:22:59.876Z"
   },
   {
    "duration": 782,
    "start_time": "2022-12-20T16:23:06.226Z"
   },
   {
    "duration": 14,
    "start_time": "2022-12-20T16:25:00.177Z"
   },
   {
    "duration": 312,
    "start_time": "2022-12-20T16:25:05.486Z"
   },
   {
    "duration": 7,
    "start_time": "2022-12-20T16:34:43.863Z"
   },
   {
    "duration": 1326,
    "start_time": "2022-12-20T16:36:08.389Z"
   },
   {
    "duration": 1133,
    "start_time": "2022-12-20T16:36:51.666Z"
   },
   {
    "duration": 76,
    "start_time": "2022-12-20T16:37:03.273Z"
   },
   {
    "duration": 1178,
    "start_time": "2022-12-20T16:37:03.527Z"
   },
   {
    "duration": 5,
    "start_time": "2022-12-20T16:37:11.384Z"
   },
   {
    "duration": 9,
    "start_time": "2022-12-20T16:37:13.244Z"
   },
   {
    "duration": 22,
    "start_time": "2022-12-20T16:39:21.953Z"
   },
   {
    "duration": 14,
    "start_time": "2022-12-20T16:39:57.842Z"
   },
   {
    "duration": 18,
    "start_time": "2022-12-20T16:40:29.229Z"
   },
   {
    "duration": 75,
    "start_time": "2022-12-20T16:40:34.806Z"
   },
   {
    "duration": 20,
    "start_time": "2022-12-20T16:40:37.478Z"
   },
   {
    "duration": 15,
    "start_time": "2022-12-20T16:40:53.696Z"
   },
   {
    "duration": 28,
    "start_time": "2022-12-20T16:43:32.941Z"
   },
   {
    "duration": 4,
    "start_time": "2022-12-20T16:45:32.194Z"
   },
   {
    "duration": 9,
    "start_time": "2022-12-20T16:47:07.967Z"
   },
   {
    "duration": 94,
    "start_time": "2022-12-20T16:49:51.895Z"
   },
   {
    "duration": 89,
    "start_time": "2022-12-20T16:51:10.998Z"
   },
   {
    "duration": 4106,
    "start_time": "2022-12-20T16:51:44.947Z"
   },
   {
    "duration": 3080,
    "start_time": "2022-12-20T16:53:49.127Z"
   },
   {
    "duration": 3117,
    "start_time": "2022-12-20T16:54:13.540Z"
   },
   {
    "duration": 101,
    "start_time": "2022-12-20T16:56:15.512Z"
   },
   {
    "duration": 5,
    "start_time": "2022-12-20T16:56:45.237Z"
   },
   {
    "duration": 5903,
    "start_time": "2022-12-20T16:56:49.803Z"
   },
   {
    "duration": 14,
    "start_time": "2022-12-20T16:59:09.407Z"
   },
   {
    "duration": 5,
    "start_time": "2022-12-20T16:59:27.117Z"
   },
   {
    "duration": 15,
    "start_time": "2022-12-20T17:00:40.312Z"
   },
   {
    "duration": 155,
    "start_time": "2022-12-20T17:00:41.926Z"
   },
   {
    "duration": 3761,
    "start_time": "2022-12-20T17:00:42.326Z"
   },
   {
    "duration": 6995,
    "start_time": "2022-12-20T17:00:46.089Z"
   },
   {
    "duration": 7,
    "start_time": "2022-12-20T17:00:53.086Z"
   },
   {
    "duration": 15,
    "start_time": "2022-12-20T17:01:20.973Z"
   },
   {
    "duration": 95,
    "start_time": "2022-12-20T17:01:21.686Z"
   },
   {
    "duration": 3674,
    "start_time": "2022-12-20T17:01:22.014Z"
   },
   {
    "duration": 7271,
    "start_time": "2022-12-20T17:01:25.690Z"
   },
   {
    "duration": 6,
    "start_time": "2022-12-20T17:01:32.963Z"
   },
   {
    "duration": 8,
    "start_time": "2022-12-20T17:02:24.149Z"
   },
   {
    "duration": 5,
    "start_time": "2022-12-20T17:02:38.614Z"
   },
   {
    "duration": 20854,
    "start_time": "2022-12-20T17:04:18.296Z"
   },
   {
    "duration": 12,
    "start_time": "2022-12-20T17:05:04.313Z"
   },
   {
    "duration": 5,
    "start_time": "2022-12-20T17:05:28.790Z"
   },
   {
    "duration": 6969,
    "start_time": "2022-12-20T17:05:46.116Z"
   },
   {
    "duration": 16,
    "start_time": "2022-12-20T17:08:45.598Z"
   },
   {
    "duration": 18,
    "start_time": "2022-12-20T17:09:57.857Z"
   },
   {
    "duration": 15,
    "start_time": "2022-12-20T17:10:53.670Z"
   },
   {
    "duration": 17,
    "start_time": "2022-12-20T17:12:07.160Z"
   },
   {
    "duration": 12,
    "start_time": "2022-12-20T17:12:58.454Z"
   },
   {
    "duration": 3645,
    "start_time": "2022-12-20T17:19:16.436Z"
   },
   {
    "duration": 13,
    "start_time": "2022-12-20T17:19:22.432Z"
   },
   {
    "duration": 6,
    "start_time": "2022-12-20T17:19:28.538Z"
   },
   {
    "duration": 19911,
    "start_time": "2022-12-20T17:20:13.195Z"
   },
   {
    "duration": 6942,
    "start_time": "2022-12-20T17:22:34.306Z"
   },
   {
    "duration": 26,
    "start_time": "2022-12-20T17:33:38.039Z"
   },
   {
    "duration": 171,
    "start_time": "2022-12-20T17:33:38.909Z"
   },
   {
    "duration": 5772,
    "start_time": "2022-12-20T17:33:39.294Z"
   },
   {
    "duration": 7256,
    "start_time": "2022-12-20T17:33:45.069Z"
   },
   {
    "duration": 0,
    "start_time": "2022-12-20T17:33:52.328Z"
   },
   {
    "duration": 10536,
    "start_time": "2022-12-20T17:34:02.137Z"
   },
   {
    "duration": 15,
    "start_time": "2022-12-20T17:34:12.678Z"
   },
   {
    "duration": 6342,
    "start_time": "2022-12-20T17:34:27.736Z"
   },
   {
    "duration": 8,
    "start_time": "2022-12-20T17:34:34.184Z"
   },
   {
    "duration": 34,
    "start_time": "2022-12-20T17:35:03.559Z"
   },
   {
    "duration": 9727,
    "start_time": "2022-12-20T17:35:10.020Z"
   },
   {
    "duration": 11,
    "start_time": "2022-12-20T17:35:23.979Z"
   },
   {
    "duration": 8904,
    "start_time": "2022-12-20T17:36:09.317Z"
   },
   {
    "duration": 9,
    "start_time": "2022-12-20T17:36:22.307Z"
   },
   {
    "duration": 10310,
    "start_time": "2022-12-20T17:36:30.446Z"
   },
   {
    "duration": 10,
    "start_time": "2022-12-20T17:36:59.720Z"
   },
   {
    "duration": 21,
    "start_time": "2022-12-20T17:37:07.237Z"
   },
   {
    "duration": 5,
    "start_time": "2022-12-20T17:37:19.574Z"
   },
   {
    "duration": 24,
    "start_time": "2022-12-20T17:37:19.724Z"
   },
   {
    "duration": 262,
    "start_time": "2022-12-20T17:37:22.759Z"
   },
   {
    "duration": 30,
    "start_time": "2022-12-20T17:37:27.173Z"
   },
   {
    "duration": 25,
    "start_time": "2022-12-20T17:37:50.199Z"
   },
   {
    "duration": 192,
    "start_time": "2022-12-20T17:37:54.601Z"
   },
   {
    "duration": 23,
    "start_time": "2022-12-20T17:38:06.480Z"
   },
   {
    "duration": 132,
    "start_time": "2022-12-20T17:38:07.554Z"
   },
   {
    "duration": 22,
    "start_time": "2022-12-20T17:38:18.259Z"
   },
   {
    "duration": 1611,
    "start_time": "2022-12-20T17:38:43.097Z"
   },
   {
    "duration": 71,
    "start_time": "2022-12-20T17:38:44.711Z"
   },
   {
    "duration": 16,
    "start_time": "2022-12-20T17:38:44.787Z"
   },
   {
    "duration": 18,
    "start_time": "2022-12-20T17:38:44.806Z"
   },
   {
    "duration": 312,
    "start_time": "2022-12-20T17:38:44.826Z"
   },
   {
    "duration": 937,
    "start_time": "2022-12-20T17:38:45.142Z"
   },
   {
    "duration": 412,
    "start_time": "2022-12-20T17:38:46.081Z"
   },
   {
    "duration": 6,
    "start_time": "2022-12-20T17:38:46.495Z"
   },
   {
    "duration": 34,
    "start_time": "2022-12-20T17:38:46.502Z"
   },
   {
    "duration": 149,
    "start_time": "2022-12-20T17:38:46.540Z"
   },
   {
    "duration": 5254,
    "start_time": "2022-12-20T17:38:46.691Z"
   },
   {
    "duration": 8233,
    "start_time": "2022-12-20T17:38:51.947Z"
   },
   {
    "duration": 8,
    "start_time": "2022-12-20T17:39:00.182Z"
   },
   {
    "duration": 7,
    "start_time": "2022-12-20T17:39:31.834Z"
   },
   {
    "duration": 5,
    "start_time": "2022-12-20T17:39:55.266Z"
   },
   {
    "duration": 1423,
    "start_time": "2022-12-20T17:40:16.385Z"
   },
   {
    "duration": 57,
    "start_time": "2022-12-20T17:40:17.810Z"
   },
   {
    "duration": 10,
    "start_time": "2022-12-20T17:40:17.869Z"
   },
   {
    "duration": 17,
    "start_time": "2022-12-20T17:40:17.881Z"
   },
   {
    "duration": 201,
    "start_time": "2022-12-20T17:40:17.900Z"
   },
   {
    "duration": 764,
    "start_time": "2022-12-20T17:40:18.103Z"
   },
   {
    "duration": 302,
    "start_time": "2022-12-20T17:40:18.878Z"
   },
   {
    "duration": 6,
    "start_time": "2022-12-20T17:40:19.182Z"
   },
   {
    "duration": 29,
    "start_time": "2022-12-20T17:40:19.190Z"
   },
   {
    "duration": 158,
    "start_time": "2022-12-20T17:40:19.222Z"
   },
   {
    "duration": 5345,
    "start_time": "2022-12-20T17:40:19.382Z"
   },
   {
    "duration": 9848,
    "start_time": "2022-12-20T17:40:24.729Z"
   },
   {
    "duration": 7,
    "start_time": "2022-12-20T17:40:34.579Z"
   },
   {
    "duration": 1287,
    "start_time": "2022-12-20T17:40:57.234Z"
   },
   {
    "duration": 70,
    "start_time": "2022-12-20T17:40:58.522Z"
   },
   {
    "duration": 10,
    "start_time": "2022-12-20T17:40:58.593Z"
   },
   {
    "duration": 15,
    "start_time": "2022-12-20T17:40:58.605Z"
   },
   {
    "duration": 210,
    "start_time": "2022-12-20T17:40:58.622Z"
   },
   {
    "duration": 695,
    "start_time": "2022-12-20T17:40:58.834Z"
   },
   {
    "duration": 254,
    "start_time": "2022-12-20T17:40:59.531Z"
   },
   {
    "duration": 4,
    "start_time": "2022-12-20T17:40:59.786Z"
   },
   {
    "duration": 22,
    "start_time": "2022-12-20T17:40:59.792Z"
   },
   {
    "duration": 165,
    "start_time": "2022-12-20T17:40:59.816Z"
   },
   {
    "duration": 4474,
    "start_time": "2022-12-20T17:40:59.983Z"
   },
   {
    "duration": 8430,
    "start_time": "2022-12-20T17:41:04.458Z"
   },
   {
    "duration": 6,
    "start_time": "2022-12-20T17:41:12.890Z"
   },
   {
    "duration": 6412,
    "start_time": "2022-12-20T17:42:08.910Z"
   },
   {
    "duration": 6,
    "start_time": "2022-12-20T17:42:21.410Z"
   },
   {
    "duration": 6,
    "start_time": "2022-12-20T17:42:26.753Z"
   },
   {
    "duration": 6,
    "start_time": "2022-12-20T17:42:36.509Z"
   },
   {
    "duration": 5,
    "start_time": "2022-12-20T17:43:18.346Z"
   },
   {
    "duration": 6,
    "start_time": "2022-12-20T17:44:33.937Z"
   },
   {
    "duration": 115,
    "start_time": "2022-12-20T17:45:01.874Z"
   },
   {
    "duration": 13,
    "start_time": "2022-12-20T17:45:11.553Z"
   },
   {
    "duration": 6,
    "start_time": "2022-12-20T17:45:18.719Z"
   },
   {
    "duration": 7,
    "start_time": "2022-12-20T17:54:16.414Z"
   },
   {
    "duration": 6,
    "start_time": "2022-12-20T17:54:20.518Z"
   },
   {
    "duration": 1584,
    "start_time": "2022-12-22T12:29:28.208Z"
   },
   {
    "duration": 143,
    "start_time": "2022-12-22T12:29:29.794Z"
   },
   {
    "duration": 11,
    "start_time": "2022-12-22T12:29:29.938Z"
   },
   {
    "duration": 21,
    "start_time": "2022-12-22T12:29:29.951Z"
   },
   {
    "duration": 226,
    "start_time": "2022-12-22T12:29:29.974Z"
   },
   {
    "duration": 817,
    "start_time": "2022-12-22T12:29:30.623Z"
   },
   {
    "duration": 1286,
    "start_time": "2022-12-22T12:29:44.757Z"
   },
   {
    "duration": 1249,
    "start_time": "2022-12-22T12:30:05.464Z"
   },
   {
    "duration": 233,
    "start_time": "2022-12-22T12:32:00.149Z"
   },
   {
    "duration": 204,
    "start_time": "2022-12-22T12:32:10.995Z"
   },
   {
    "duration": 271,
    "start_time": "2022-12-22T12:32:19.937Z"
   },
   {
    "duration": 169,
    "start_time": "2022-12-22T12:32:26.809Z"
   },
   {
    "duration": 178,
    "start_time": "2022-12-22T12:32:30.752Z"
   },
   {
    "duration": 353,
    "start_time": "2022-12-22T12:32:37.925Z"
   },
   {
    "duration": 7,
    "start_time": "2022-12-22T12:34:35.208Z"
   },
   {
    "duration": 207,
    "start_time": "2022-12-22T12:35:25.482Z"
   },
   {
    "duration": 293,
    "start_time": "2022-12-22T12:36:00.835Z"
   },
   {
    "duration": 282,
    "start_time": "2022-12-22T12:36:19.704Z"
   },
   {
    "duration": 202,
    "start_time": "2022-12-22T12:36:35.102Z"
   },
   {
    "duration": 255,
    "start_time": "2022-12-22T12:38:00.225Z"
   },
   {
    "duration": 64,
    "start_time": "2022-12-22T12:40:37.111Z"
   },
   {
    "duration": 24,
    "start_time": "2022-12-22T12:41:45.086Z"
   },
   {
    "duration": 1421,
    "start_time": "2022-12-22T12:42:41.134Z"
   },
   {
    "duration": 54,
    "start_time": "2022-12-22T12:42:42.557Z"
   },
   {
    "duration": 10,
    "start_time": "2022-12-22T12:42:42.613Z"
   },
   {
    "duration": 13,
    "start_time": "2022-12-22T12:42:42.625Z"
   },
   {
    "duration": 215,
    "start_time": "2022-12-22T12:42:42.809Z"
   },
   {
    "duration": 807,
    "start_time": "2022-12-22T12:42:43.579Z"
   },
   {
    "duration": 290,
    "start_time": "2022-12-22T12:42:44.446Z"
   },
   {
    "duration": 70,
    "start_time": "2022-12-22T12:42:50.143Z"
   },
   {
    "duration": 86,
    "start_time": "2022-12-22T12:43:28.902Z"
   },
   {
    "duration": 221,
    "start_time": "2022-12-22T12:44:05.538Z"
   },
   {
    "duration": 268,
    "start_time": "2022-12-22T12:44:32.799Z"
   },
   {
    "duration": 269,
    "start_time": "2022-12-22T12:44:41.223Z"
   },
   {
    "duration": 114,
    "start_time": "2022-12-22T12:48:40.984Z"
   },
   {
    "duration": 4,
    "start_time": "2022-12-22T12:48:58.595Z"
   },
   {
    "duration": 50,
    "start_time": "2022-12-22T12:48:59.156Z"
   },
   {
    "duration": 10,
    "start_time": "2022-12-22T12:48:59.459Z"
   },
   {
    "duration": 11,
    "start_time": "2022-12-22T12:48:59.774Z"
   },
   {
    "duration": 291,
    "start_time": "2022-12-22T12:49:00.463Z"
   },
   {
    "duration": 716,
    "start_time": "2022-12-22T12:49:01.110Z"
   },
   {
    "duration": 232,
    "start_time": "2022-12-22T12:49:03.620Z"
   },
   {
    "duration": 145,
    "start_time": "2022-12-22T12:49:13.677Z"
   },
   {
    "duration": 143,
    "start_time": "2022-12-22T12:51:28.708Z"
   },
   {
    "duration": 145,
    "start_time": "2022-12-22T12:51:47.687Z"
   },
   {
    "duration": 4,
    "start_time": "2022-12-22T13:01:31.093Z"
   },
   {
    "duration": 6,
    "start_time": "2022-12-22T13:01:55.936Z"
   },
   {
    "duration": 80,
    "start_time": "2022-12-22T13:03:49.317Z"
   },
   {
    "duration": 44,
    "start_time": "2022-12-22T13:06:23.665Z"
   },
   {
    "duration": 1594,
    "start_time": "2022-12-22T13:06:42.466Z"
   },
   {
    "duration": 1491,
    "start_time": "2022-12-22T13:07:02.943Z"
   },
   {
    "duration": 57,
    "start_time": "2022-12-22T13:07:04.436Z"
   },
   {
    "duration": 10,
    "start_time": "2022-12-22T13:07:04.495Z"
   },
   {
    "duration": 14,
    "start_time": "2022-12-22T13:07:04.507Z"
   },
   {
    "duration": 230,
    "start_time": "2022-12-22T13:07:04.584Z"
   },
   {
    "duration": 843,
    "start_time": "2022-12-22T13:07:05.106Z"
   },
   {
    "duration": 157,
    "start_time": "2022-12-22T13:07:06.306Z"
   },
   {
    "duration": 292,
    "start_time": "2022-12-22T13:07:06.767Z"
   },
   {
    "duration": 279,
    "start_time": "2022-12-22T13:07:10.801Z"
   },
   {
    "duration": 4,
    "start_time": "2022-12-22T13:07:16.957Z"
   },
   {
    "duration": 30,
    "start_time": "2022-12-22T13:07:24.353Z"
   },
   {
    "duration": 81,
    "start_time": "2022-12-22T13:09:31.262Z"
   },
   {
    "duration": 3,
    "start_time": "2022-12-22T13:15:02.283Z"
   },
   {
    "duration": 128,
    "start_time": "2022-12-22T13:18:07.471Z"
   },
   {
    "duration": 807,
    "start_time": "2022-12-22T13:18:20.042Z"
   },
   {
    "duration": 8,
    "start_time": "2022-12-22T13:18:54.244Z"
   },
   {
    "duration": 21,
    "start_time": "2022-12-22T13:18:55.938Z"
   },
   {
    "duration": 827,
    "start_time": "2022-12-22T13:18:58.211Z"
   },
   {
    "duration": 344,
    "start_time": "2022-12-22T13:20:12.598Z"
   },
   {
    "duration": 23442,
    "start_time": "2022-12-22T13:20:21.242Z"
   },
   {
    "duration": 4,
    "start_time": "2022-12-22T13:21:59.038Z"
   },
   {
    "duration": 21,
    "start_time": "2022-12-22T13:22:04.393Z"
   },
   {
    "duration": 1302,
    "start_time": "2022-12-22T13:22:07.139Z"
   },
   {
    "duration": 24396,
    "start_time": "2022-12-22T13:22:13.576Z"
   },
   {
    "duration": 90,
    "start_time": "2022-12-22T13:23:13.866Z"
   },
   {
    "duration": 83,
    "start_time": "2022-12-22T13:24:37.891Z"
   },
   {
    "duration": 5,
    "start_time": "2022-12-22T13:24:41.639Z"
   },
   {
    "duration": 18,
    "start_time": "2022-12-22T13:31:18.478Z"
   },
   {
    "duration": 17,
    "start_time": "2022-12-22T13:31:29.373Z"
   },
   {
    "duration": 119,
    "start_time": "2022-12-22T13:31:46.649Z"
   },
   {
    "duration": 19,
    "start_time": "2022-12-22T13:31:52.653Z"
   },
   {
    "duration": 91,
    "start_time": "2022-12-22T13:34:37.698Z"
   },
   {
    "duration": 17,
    "start_time": "2022-12-22T13:34:43.817Z"
   },
   {
    "duration": 84,
    "start_time": "2022-12-22T13:43:38.244Z"
   },
   {
    "duration": 18,
    "start_time": "2022-12-22T13:43:42.893Z"
   },
   {
    "duration": 31,
    "start_time": "2022-12-22T13:44:01.451Z"
   },
   {
    "duration": 4,
    "start_time": "2022-12-22T13:45:03.300Z"
   },
   {
    "duration": 87,
    "start_time": "2022-12-22T13:49:12.304Z"
   },
   {
    "duration": 1000,
    "start_time": "2022-12-22T13:49:25.623Z"
   },
   {
    "duration": 2059,
    "start_time": "2022-12-22T13:50:42.563Z"
   },
   {
    "duration": 2575,
    "start_time": "2022-12-22T13:50:53.053Z"
   },
   {
    "duration": 1377,
    "start_time": "2022-12-22T13:52:37.472Z"
   },
   {
    "duration": 55,
    "start_time": "2022-12-22T13:52:38.851Z"
   },
   {
    "duration": 10,
    "start_time": "2022-12-22T13:52:38.908Z"
   },
   {
    "duration": 14,
    "start_time": "2022-12-22T13:52:38.920Z"
   },
   {
    "duration": 216,
    "start_time": "2022-12-22T13:52:39.087Z"
   },
   {
    "duration": 774,
    "start_time": "2022-12-22T13:52:39.564Z"
   },
   {
    "duration": 161,
    "start_time": "2022-12-22T13:52:40.340Z"
   },
   {
    "duration": 267,
    "start_time": "2022-12-22T13:52:41.213Z"
   },
   {
    "duration": 304,
    "start_time": "2022-12-22T13:52:51.412Z"
   },
   {
    "duration": 15,
    "start_time": "2022-12-22T13:53:00.987Z"
   },
   {
    "duration": 119,
    "start_time": "2022-12-22T14:02:11.316Z"
   },
   {
    "duration": 4,
    "start_time": "2022-12-22T14:02:31.533Z"
   },
   {
    "duration": 34,
    "start_time": "2022-12-22T14:02:35.578Z"
   },
   {
    "duration": 29,
    "start_time": "2022-12-22T14:05:21.848Z"
   },
   {
    "duration": 20,
    "start_time": "2022-12-22T14:06:15.541Z"
   },
   {
    "duration": 37,
    "start_time": "2022-12-22T14:06:18.588Z"
   },
   {
    "duration": 67,
    "start_time": "2022-12-22T14:06:42.056Z"
   },
   {
    "duration": 16,
    "start_time": "2022-12-22T14:09:59.771Z"
   },
   {
    "duration": 4979,
    "start_time": "2022-12-22T14:11:32.256Z"
   },
   {
    "duration": 4615,
    "start_time": "2022-12-22T14:11:49.009Z"
   },
   {
    "duration": 19,
    "start_time": "2022-12-22T14:15:48.975Z"
   },
   {
    "duration": 3,
    "start_time": "2022-12-22T14:15:57.245Z"
   },
   {
    "duration": 49,
    "start_time": "2022-12-22T14:15:57.556Z"
   },
   {
    "duration": 9,
    "start_time": "2022-12-22T14:15:57.861Z"
   },
   {
    "duration": 12,
    "start_time": "2022-12-22T14:15:58.196Z"
   },
   {
    "duration": 191,
    "start_time": "2022-12-22T14:15:58.851Z"
   },
   {
    "duration": 787,
    "start_time": "2022-12-22T14:15:59.297Z"
   },
   {
    "duration": 163,
    "start_time": "2022-12-22T14:16:00.086Z"
   },
   {
    "duration": 283,
    "start_time": "2022-12-22T14:16:00.250Z"
   },
   {
    "duration": 275,
    "start_time": "2022-12-22T14:16:00.628Z"
   },
   {
    "duration": 4,
    "start_time": "2022-12-22T14:16:01.849Z"
   },
   {
    "duration": 17,
    "start_time": "2022-12-22T14:16:04.362Z"
   },
   {
    "duration": 4,
    "start_time": "2022-12-22T14:16:15.885Z"
   },
   {
    "duration": 22,
    "start_time": "2022-12-22T14:16:18.304Z"
   },
   {
    "duration": 15,
    "start_time": "2022-12-22T14:16:20.127Z"
   },
   {
    "duration": 2864,
    "start_time": "2022-12-22T14:16:24.379Z"
   },
   {
    "duration": 30,
    "start_time": "2022-12-22T14:16:36.076Z"
   },
   {
    "duration": 4,
    "start_time": "2022-12-22T14:16:54.769Z"
   },
   {
    "duration": 50,
    "start_time": "2022-12-22T14:16:55.097Z"
   },
   {
    "duration": 10,
    "start_time": "2022-12-22T14:16:55.394Z"
   },
   {
    "duration": 12,
    "start_time": "2022-12-22T14:16:55.702Z"
   },
   {
    "duration": 209,
    "start_time": "2022-12-22T14:16:56.352Z"
   },
   {
    "duration": 790,
    "start_time": "2022-12-22T14:16:56.834Z"
   },
   {
    "duration": 165,
    "start_time": "2022-12-22T14:16:57.626Z"
   },
   {
    "duration": 290,
    "start_time": "2022-12-22T14:16:57.793Z"
   },
   {
    "duration": 275,
    "start_time": "2022-12-22T14:16:58.171Z"
   },
   {
    "duration": 4,
    "start_time": "2022-12-22T14:16:58.981Z"
   },
   {
    "duration": 35,
    "start_time": "2022-12-22T14:17:00.409Z"
   },
   {
    "duration": 26,
    "start_time": "2022-12-22T14:17:01.199Z"
   },
   {
    "duration": 4744,
    "start_time": "2022-12-22T14:17:04.870Z"
   },
   {
    "duration": 4,
    "start_time": "2022-12-22T14:17:30.518Z"
   },
   {
    "duration": 52,
    "start_time": "2022-12-22T14:17:30.843Z"
   },
   {
    "duration": 10,
    "start_time": "2022-12-22T14:17:31.169Z"
   },
   {
    "duration": 11,
    "start_time": "2022-12-22T14:17:31.464Z"
   },
   {
    "duration": 305,
    "start_time": "2022-12-22T14:17:32.120Z"
   },
   {
    "duration": 693,
    "start_time": "2022-12-22T14:17:32.602Z"
   },
   {
    "duration": 154,
    "start_time": "2022-12-22T14:17:33.297Z"
   },
   {
    "duration": 277,
    "start_time": "2022-12-22T14:17:33.453Z"
   },
   {
    "duration": 333,
    "start_time": "2022-12-22T14:17:33.948Z"
   },
   {
    "duration": 4,
    "start_time": "2022-12-22T14:17:34.757Z"
   },
   {
    "duration": 37,
    "start_time": "2022-12-22T14:17:35.935Z"
   },
   {
    "duration": 161,
    "start_time": "2022-12-22T14:17:37.161Z"
   },
   {
    "duration": 4586,
    "start_time": "2022-12-22T14:17:40.260Z"
   },
   {
    "duration": 80,
    "start_time": "2022-12-22T14:18:37.118Z"
   },
   {
    "duration": 2821,
    "start_time": "2022-12-22T14:19:12.159Z"
   },
   {
    "duration": 11,
    "start_time": "2022-12-22T14:19:43.996Z"
   },
   {
    "duration": 12,
    "start_time": "2022-12-22T14:20:07.171Z"
   },
   {
    "duration": 7,
    "start_time": "2022-12-22T14:20:54.520Z"
   },
   {
    "duration": 6,
    "start_time": "2022-12-22T14:21:09.502Z"
   },
   {
    "duration": 6,
    "start_time": "2022-12-22T14:21:18.890Z"
   },
   {
    "duration": 4,
    "start_time": "2022-12-22T14:22:01.072Z"
   },
   {
    "duration": 4,
    "start_time": "2022-12-22T14:22:08.091Z"
   },
   {
    "duration": 51,
    "start_time": "2022-12-22T14:22:08.374Z"
   },
   {
    "duration": 11,
    "start_time": "2022-12-22T14:22:08.645Z"
   },
   {
    "duration": 12,
    "start_time": "2022-12-22T14:22:08.937Z"
   },
   {
    "duration": 194,
    "start_time": "2022-12-22T14:22:09.488Z"
   },
   {
    "duration": 846,
    "start_time": "2022-12-22T14:22:09.906Z"
   },
   {
    "duration": 158,
    "start_time": "2022-12-22T14:22:10.754Z"
   },
   {
    "duration": 302,
    "start_time": "2022-12-22T14:22:10.913Z"
   },
   {
    "duration": 284,
    "start_time": "2022-12-22T14:22:11.217Z"
   },
   {
    "duration": 4,
    "start_time": "2022-12-22T14:22:11.858Z"
   },
   {
    "duration": 35,
    "start_time": "2022-12-22T14:22:12.953Z"
   },
   {
    "duration": 126,
    "start_time": "2022-12-22T14:22:13.602Z"
   },
   {
    "duration": 4671,
    "start_time": "2022-12-22T14:22:18.800Z"
   },
   {
    "duration": 2778,
    "start_time": "2022-12-22T14:22:26.459Z"
   },
   {
    "duration": 6,
    "start_time": "2022-12-22T14:22:29.239Z"
   },
   {
    "duration": 4,
    "start_time": "2022-12-22T14:23:02.509Z"
   },
   {
    "duration": 51,
    "start_time": "2022-12-22T14:23:02.844Z"
   },
   {
    "duration": 13,
    "start_time": "2022-12-22T14:23:03.121Z"
   },
   {
    "duration": 11,
    "start_time": "2022-12-22T14:23:03.441Z"
   },
   {
    "duration": 266,
    "start_time": "2022-12-22T14:23:04.042Z"
   },
   {
    "duration": 849,
    "start_time": "2022-12-22T14:23:04.531Z"
   },
   {
    "duration": 170,
    "start_time": "2022-12-22T14:23:05.382Z"
   },
   {
    "duration": 296,
    "start_time": "2022-12-22T14:23:05.553Z"
   },
   {
    "duration": 307,
    "start_time": "2022-12-22T14:23:05.851Z"
   },
   {
    "duration": 4,
    "start_time": "2022-12-22T14:23:06.660Z"
   },
   {
    "duration": 30,
    "start_time": "2022-12-22T14:23:08.017Z"
   },
   {
    "duration": 16,
    "start_time": "2022-12-22T14:23:08.898Z"
   },
   {
    "duration": 3700,
    "start_time": "2022-12-22T14:23:17.607Z"
   },
   {
    "duration": 85,
    "start_time": "2022-12-22T14:25:21.063Z"
   },
   {
    "duration": 26,
    "start_time": "2022-12-22T14:25:53.394Z"
   },
   {
    "duration": 48,
    "start_time": "2022-12-22T14:25:53.753Z"
   },
   {
    "duration": 14,
    "start_time": "2022-12-22T14:25:54.067Z"
   },
   {
    "duration": 12,
    "start_time": "2022-12-22T14:25:54.383Z"
   },
   {
    "duration": 214,
    "start_time": "2022-12-22T14:25:55.032Z"
   },
   {
    "duration": 910,
    "start_time": "2022-12-22T14:25:55.498Z"
   },
   {
    "duration": 174,
    "start_time": "2022-12-22T14:25:56.410Z"
   },
   {
    "duration": 307,
    "start_time": "2022-12-22T14:25:56.587Z"
   },
   {
    "duration": 334,
    "start_time": "2022-12-22T14:25:56.896Z"
   },
   {
    "duration": 5,
    "start_time": "2022-12-22T14:25:57.601Z"
   },
   {
    "duration": 36,
    "start_time": "2022-12-22T14:25:58.835Z"
   },
   {
    "duration": 332885,
    "start_time": "2022-12-22T14:26:04.761Z"
   },
   {
    "duration": 15,
    "start_time": "2022-12-22T14:33:02.196Z"
   },
   {
    "duration": 49,
    "start_time": "2022-12-22T14:34:17.493Z"
   },
   {
    "duration": 34,
    "start_time": "2022-12-22T14:35:45.063Z"
   },
   {
    "duration": 20,
    "start_time": "2022-12-22T14:38:12.692Z"
   },
   {
    "duration": 4,
    "start_time": "2022-12-22T14:38:17.277Z"
   },
   {
    "duration": 55,
    "start_time": "2022-12-22T14:38:17.595Z"
   },
   {
    "duration": 10,
    "start_time": "2022-12-22T14:38:17.902Z"
   },
   {
    "duration": 15,
    "start_time": "2022-12-22T14:38:18.217Z"
   },
   {
    "duration": 204,
    "start_time": "2022-12-22T14:38:18.836Z"
   },
   {
    "duration": 762,
    "start_time": "2022-12-22T14:38:19.483Z"
   },
   {
    "duration": 161,
    "start_time": "2022-12-22T14:38:20.247Z"
   },
   {
    "duration": 307,
    "start_time": "2022-12-22T14:38:20.409Z"
   },
   {
    "duration": 441,
    "start_time": "2022-12-22T14:38:20.791Z"
   },
   {
    "duration": 4,
    "start_time": "2022-12-22T14:38:22.606Z"
   },
   {
    "duration": 34,
    "start_time": "2022-12-22T14:38:25.600Z"
   },
   {
    "duration": 93,
    "start_time": "2022-12-22T14:38:29.554Z"
   },
   {
    "duration": 5107,
    "start_time": "2022-12-22T14:38:31.233Z"
   },
   {
    "duration": 2836,
    "start_time": "2022-12-22T14:38:39.732Z"
   },
   {
    "duration": 7,
    "start_time": "2022-12-22T14:38:53.541Z"
   },
   {
    "duration": 15,
    "start_time": "2022-12-22T14:39:36.436Z"
   },
   {
    "duration": 17,
    "start_time": "2022-12-22T14:39:45.772Z"
   },
   {
    "duration": 11,
    "start_time": "2022-12-22T14:40:00.997Z"
   },
   {
    "duration": 6,
    "start_time": "2022-12-22T14:40:06.918Z"
   },
   {
    "duration": 8,
    "start_time": "2022-12-22T14:40:07.132Z"
   },
   {
    "duration": 256687,
    "start_time": "2022-12-22T14:40:16.248Z"
   },
   {
    "duration": 4,
    "start_time": "2022-12-22T14:53:52.744Z"
   },
   {
    "duration": 48,
    "start_time": "2022-12-22T14:53:53.061Z"
   },
   {
    "duration": 10,
    "start_time": "2022-12-22T14:53:53.440Z"
   },
   {
    "duration": 12,
    "start_time": "2022-12-22T14:53:53.737Z"
   },
   {
    "duration": 239,
    "start_time": "2022-12-22T14:53:54.406Z"
   },
   {
    "duration": 743,
    "start_time": "2022-12-22T14:53:54.934Z"
   },
   {
    "duration": 182,
    "start_time": "2022-12-22T14:53:55.678Z"
   },
   {
    "duration": 341,
    "start_time": "2022-12-22T14:53:55.861Z"
   },
   {
    "duration": 333,
    "start_time": "2022-12-22T14:53:56.240Z"
   },
   {
    "duration": 5,
    "start_time": "2022-12-22T14:53:57.076Z"
   },
   {
    "duration": 31,
    "start_time": "2022-12-22T14:53:58.265Z"
   },
   {
    "duration": 144783,
    "start_time": "2022-12-22T14:53:59.040Z"
   },
   {
    "duration": 81,
    "start_time": "2022-12-22T14:56:23.826Z"
   },
   {
    "duration": 2847,
    "start_time": "2022-12-22T14:56:23.909Z"
   },
   {
    "duration": 82,
    "start_time": "2022-12-22T15:00:15.620Z"
   },
   {
    "duration": 1478,
    "start_time": "2022-12-22T15:13:00.024Z"
   },
   {
    "duration": 56,
    "start_time": "2022-12-22T15:13:02.999Z"
   },
   {
    "duration": 10,
    "start_time": "2022-12-22T15:13:03.390Z"
   },
   {
    "duration": 12,
    "start_time": "2022-12-22T15:13:03.694Z"
   },
   {
    "duration": 209,
    "start_time": "2022-12-22T15:13:04.341Z"
   },
   {
    "duration": 741,
    "start_time": "2022-12-22T15:13:04.981Z"
   },
   {
    "duration": 189,
    "start_time": "2022-12-22T15:13:05.725Z"
   },
   {
    "duration": 307,
    "start_time": "2022-12-22T15:13:05.916Z"
   },
   {
    "duration": 275,
    "start_time": "2022-12-22T15:13:06.440Z"
   },
   {
    "duration": 4,
    "start_time": "2022-12-22T15:13:07.336Z"
   },
   {
    "duration": 32,
    "start_time": "2022-12-22T15:13:11.397Z"
   },
   {
    "duration": 41,
    "start_time": "2022-12-22T15:13:18.682Z"
   },
   {
    "duration": 188,
    "start_time": "2022-12-22T15:13:26.013Z"
   },
   {
    "duration": 81,
    "start_time": "2022-12-22T15:13:59.316Z"
   },
   {
    "duration": 81,
    "start_time": "2022-12-22T15:14:17.414Z"
   },
   {
    "duration": 89252,
    "start_time": "2022-12-22T15:14:45.231Z"
   },
   {
    "duration": 45,
    "start_time": "2022-12-22T15:22:05.818Z"
   },
   {
    "duration": 18998,
    "start_time": "2022-12-22T15:22:16.328Z"
   },
   {
    "duration": 143179,
    "start_time": "2022-12-22T15:22:53.236Z"
   },
   {
    "duration": 5,
    "start_time": "2022-12-22T15:31:37.236Z"
   },
   {
    "duration": 62,
    "start_time": "2022-12-22T15:31:37.243Z"
   },
   {
    "duration": 10,
    "start_time": "2022-12-22T15:31:37.311Z"
   },
   {
    "duration": 11,
    "start_time": "2022-12-22T15:31:37.556Z"
   },
   {
    "duration": 184,
    "start_time": "2022-12-22T15:31:38.157Z"
   },
   {
    "duration": 684,
    "start_time": "2022-12-22T15:31:38.606Z"
   },
   {
    "duration": 159,
    "start_time": "2022-12-22T15:31:39.291Z"
   },
   {
    "duration": 294,
    "start_time": "2022-12-22T15:31:39.452Z"
   },
   {
    "duration": 382,
    "start_time": "2022-12-22T15:31:39.841Z"
   },
   {
    "duration": 3,
    "start_time": "2022-12-22T15:31:40.667Z"
   },
   {
    "duration": 32,
    "start_time": "2022-12-22T15:31:44.915Z"
   },
   {
    "duration": 49,
    "start_time": "2022-12-22T15:33:27.434Z"
   },
   {
    "duration": 1430,
    "start_time": "2022-12-22T15:33:32.446Z"
   },
   {
    "duration": 57,
    "start_time": "2022-12-22T15:33:33.878Z"
   },
   {
    "duration": 12,
    "start_time": "2022-12-22T15:33:33.937Z"
   },
   {
    "duration": 13,
    "start_time": "2022-12-22T15:33:33.951Z"
   },
   {
    "duration": 346,
    "start_time": "2022-12-22T15:33:33.966Z"
   },
   {
    "duration": 114,
    "start_time": "2022-12-22T15:33:34.314Z"
   },
   {
    "duration": 13,
    "start_time": "2022-12-22T15:35:44.641Z"
   },
   {
    "duration": 56,
    "start_time": "2022-12-22T15:36:13.527Z"
   },
   {
    "duration": 16,
    "start_time": "2022-12-22T15:36:13.600Z"
   },
   {
    "duration": 22,
    "start_time": "2022-12-22T15:36:14.809Z"
   },
   {
    "duration": 13,
    "start_time": "2022-12-22T15:36:24.593Z"
   },
   {
    "duration": 282,
    "start_time": "2022-12-22T15:36:58.715Z"
   },
   {
    "duration": 106,
    "start_time": "2022-12-22T15:36:59.000Z"
   },
   {
    "duration": 13,
    "start_time": "2022-12-22T15:36:59.178Z"
   },
   {
    "duration": 83,
    "start_time": "2022-12-22T15:36:59.621Z"
   },
   {
    "duration": 12,
    "start_time": "2022-12-22T15:37:00.054Z"
   },
   {
    "duration": 276,
    "start_time": "2022-12-22T15:37:00.200Z"
   },
   {
    "duration": 289,
    "start_time": "2022-12-22T15:37:00.812Z"
   },
   {
    "duration": 4,
    "start_time": "2022-12-22T15:37:01.573Z"
   },
   {
    "duration": 31,
    "start_time": "2022-12-22T15:37:02.602Z"
   },
   {
    "duration": 1434,
    "start_time": "2022-12-22T15:58:10.463Z"
   },
   {
    "duration": 66,
    "start_time": "2022-12-22T15:58:11.899Z"
   },
   {
    "duration": 12,
    "start_time": "2022-12-22T15:58:11.967Z"
   },
   {
    "duration": 12,
    "start_time": "2022-12-22T15:58:11.981Z"
   },
   {
    "duration": 10,
    "start_time": "2022-12-22T15:58:11.994Z"
   },
   {
    "duration": 232,
    "start_time": "2022-12-22T15:58:12.713Z"
   },
   {
    "duration": 116,
    "start_time": "2022-12-22T15:58:12.948Z"
   },
   {
    "duration": 13,
    "start_time": "2022-12-22T15:58:13.065Z"
   },
   {
    "duration": 235,
    "start_time": "2022-12-22T15:58:13.320Z"
   },
   {
    "duration": 11,
    "start_time": "2022-12-22T15:58:13.895Z"
   },
   {
    "duration": 122,
    "start_time": "2022-12-22T15:59:44.355Z"
   },
   {
    "duration": 13,
    "start_time": "2022-12-22T16:00:49.696Z"
   },
   {
    "duration": 4,
    "start_time": "2022-12-22T16:00:58.274Z"
   },
   {
    "duration": 60,
    "start_time": "2022-12-22T16:00:58.280Z"
   },
   {
    "duration": 10,
    "start_time": "2022-12-22T16:00:58.342Z"
   },
   {
    "duration": 13,
    "start_time": "2022-12-22T16:00:58.620Z"
   },
   {
    "duration": 10,
    "start_time": "2022-12-22T16:00:58.775Z"
   },
   {
    "duration": 231,
    "start_time": "2022-12-22T16:00:59.399Z"
   },
   {
    "duration": 124,
    "start_time": "2022-12-22T16:00:59.632Z"
   },
   {
    "duration": 11,
    "start_time": "2022-12-22T16:00:59.870Z"
   },
   {
    "duration": 13,
    "start_time": "2022-12-22T16:01:00.364Z"
   },
   {
    "duration": 4,
    "start_time": "2022-12-22T16:01:11.756Z"
   },
   {
    "duration": 51,
    "start_time": "2022-12-22T16:01:12.048Z"
   },
   {
    "duration": 16,
    "start_time": "2022-12-22T16:01:12.329Z"
   },
   {
    "duration": 13,
    "start_time": "2022-12-22T16:01:12.632Z"
   },
   {
    "duration": 10,
    "start_time": "2022-12-22T16:01:12.766Z"
   },
   {
    "duration": 214,
    "start_time": "2022-12-22T16:01:13.387Z"
   },
   {
    "duration": 727,
    "start_time": "2022-12-22T16:01:13.860Z"
   },
   {
    "duration": 167,
    "start_time": "2022-12-22T16:01:14.589Z"
   },
   {
    "duration": 392,
    "start_time": "2022-12-22T16:01:14.758Z"
   },
   {
    "duration": 274,
    "start_time": "2022-12-22T16:01:22.459Z"
   },
   {
    "duration": 117,
    "start_time": "2022-12-22T16:01:26.538Z"
   },
   {
    "duration": 14,
    "start_time": "2022-12-22T16:01:28.306Z"
   },
   {
    "duration": 4,
    "start_time": "2022-12-22T16:01:47.780Z"
   },
   {
    "duration": 28,
    "start_time": "2022-12-22T16:01:51.062Z"
   },
   {
    "duration": 115739,
    "start_time": "2022-12-22T16:01:54.097Z"
   },
   {
    "duration": 57163,
    "start_time": "2022-12-22T16:03:49.838Z"
   },
   {
    "duration": 33,
    "start_time": "2022-12-22T16:06:25.590Z"
   },
   {
    "duration": 10,
    "start_time": "2022-12-22T16:07:32.075Z"
   },
   {
    "duration": 7,
    "start_time": "2022-12-22T16:07:44.374Z"
   },
   {
    "duration": 5,
    "start_time": "2022-12-22T16:07:52.948Z"
   },
   {
    "duration": 33,
    "start_time": "2022-12-22T16:08:20.577Z"
   },
   {
    "duration": 4,
    "start_time": "2022-12-22T16:08:40.118Z"
   },
   {
    "duration": 50,
    "start_time": "2022-12-22T16:08:40.938Z"
   },
   {
    "duration": 11,
    "start_time": "2022-12-22T16:08:42.318Z"
   },
   {
    "duration": 14,
    "start_time": "2022-12-22T16:08:46.041Z"
   },
   {
    "duration": 10,
    "start_time": "2022-12-22T16:08:58.305Z"
   },
   {
    "duration": 187,
    "start_time": "2022-12-22T16:09:03.453Z"
   },
   {
    "duration": 783,
    "start_time": "2022-12-22T16:09:05.039Z"
   },
   {
    "duration": 159,
    "start_time": "2022-12-22T16:09:08.301Z"
   },
   {
    "duration": 292,
    "start_time": "2022-12-22T16:09:12.600Z"
   },
   {
    "duration": 305,
    "start_time": "2022-12-22T16:09:15.584Z"
   },
   {
    "duration": 121,
    "start_time": "2022-12-22T16:09:19.835Z"
   },
   {
    "duration": 14,
    "start_time": "2022-12-22T16:09:36.138Z"
   },
   {
    "duration": 12,
    "start_time": "2022-12-22T16:09:37.072Z"
   },
   {
    "duration": 4,
    "start_time": "2022-12-22T16:11:16.147Z"
   },
   {
    "duration": 64,
    "start_time": "2022-12-22T16:11:16.483Z"
   },
   {
    "duration": 10,
    "start_time": "2022-12-22T16:11:16.771Z"
   },
   {
    "duration": 11,
    "start_time": "2022-12-22T16:11:17.079Z"
   },
   {
    "duration": 9,
    "start_time": "2022-12-22T16:11:17.255Z"
   },
   {
    "duration": 189,
    "start_time": "2022-12-22T16:11:17.905Z"
   },
   {
    "duration": 821,
    "start_time": "2022-12-22T16:11:18.440Z"
   },
   {
    "duration": 160,
    "start_time": "2022-12-22T16:11:19.317Z"
   },
   {
    "duration": 304,
    "start_time": "2022-12-22T16:11:20.120Z"
   },
   {
    "duration": 9,
    "start_time": "2022-12-22T16:11:26.852Z"
   },
   {
    "duration": 289,
    "start_time": "2022-12-22T16:11:34.563Z"
   },
   {
    "duration": 13,
    "start_time": "2022-12-22T16:11:42.373Z"
   },
   {
    "duration": 4,
    "start_time": "2022-12-22T16:12:27.883Z"
   },
   {
    "duration": 50,
    "start_time": "2022-12-22T16:12:28.440Z"
   },
   {
    "duration": 10,
    "start_time": "2022-12-22T16:12:28.725Z"
   },
   {
    "duration": 14,
    "start_time": "2022-12-22T16:12:29.040Z"
   },
   {
    "duration": 11,
    "start_time": "2022-12-22T16:12:29.201Z"
   },
   {
    "duration": 208,
    "start_time": "2022-12-22T16:12:29.788Z"
   },
   {
    "duration": 830,
    "start_time": "2022-12-22T16:12:30.245Z"
   },
   {
    "duration": 155,
    "start_time": "2022-12-22T16:12:35.006Z"
   },
   {
    "duration": 376,
    "start_time": "2022-12-22T16:12:35.788Z"
   },
   {
    "duration": 292,
    "start_time": "2022-12-22T16:12:45.869Z"
   },
   {
    "duration": 276,
    "start_time": "2022-12-22T16:12:53.595Z"
   },
   {
    "duration": 14,
    "start_time": "2022-12-22T16:13:01.481Z"
   },
   {
    "duration": 111,
    "start_time": "2022-12-22T16:13:06.711Z"
   },
   {
    "duration": 18,
    "start_time": "2022-12-22T16:13:13.182Z"
   },
   {
    "duration": 14,
    "start_time": "2022-12-22T16:13:14.193Z"
   },
   {
    "duration": 4,
    "start_time": "2022-12-22T16:13:19.390Z"
   },
   {
    "duration": 31,
    "start_time": "2022-12-22T16:13:20.945Z"
   },
   {
    "duration": 1460,
    "start_time": "2022-12-22T16:29:46.680Z"
   },
   {
    "duration": 58,
    "start_time": "2022-12-22T16:29:48.142Z"
   },
   {
    "duration": 13,
    "start_time": "2022-12-22T16:29:48.202Z"
   },
   {
    "duration": 24,
    "start_time": "2022-12-22T16:29:48.217Z"
   },
   {
    "duration": 15,
    "start_time": "2022-12-22T16:29:48.242Z"
   },
   {
    "duration": 257,
    "start_time": "2022-12-22T16:29:48.260Z"
   },
   {
    "duration": 885,
    "start_time": "2022-12-22T16:29:48.521Z"
   },
   {
    "duration": 175,
    "start_time": "2022-12-22T16:29:49.407Z"
   },
   {
    "duration": 363,
    "start_time": "2022-12-22T16:29:49.584Z"
   },
   {
    "duration": 326,
    "start_time": "2022-12-22T16:29:49.949Z"
   },
   {
    "duration": 135,
    "start_time": "2022-12-22T16:29:50.277Z"
   },
   {
    "duration": 29,
    "start_time": "2022-12-22T16:29:50.415Z"
   },
   {
    "duration": 16,
    "start_time": "2022-12-22T16:29:50.446Z"
   },
   {
    "duration": 38,
    "start_time": "2022-12-22T16:29:50.465Z"
   },
   {
    "duration": 189813,
    "start_time": "2022-12-22T16:29:55.256Z"
   },
   {
    "duration": 8,
    "start_time": "2022-12-22T16:33:47.855Z"
   },
   {
    "duration": 6,
    "start_time": "2022-12-22T16:34:29.416Z"
   },
   {
    "duration": 1566,
    "start_time": "2022-12-24T09:57:23.451Z"
   },
   {
    "duration": 255,
    "start_time": "2022-12-24T09:57:25.019Z"
   },
   {
    "duration": 14,
    "start_time": "2022-12-24T09:57:25.276Z"
   },
   {
    "duration": 16,
    "start_time": "2022-12-24T09:57:25.292Z"
   },
   {
    "duration": 9,
    "start_time": "2022-12-24T09:57:25.310Z"
   },
   {
    "duration": 214,
    "start_time": "2022-12-24T09:57:26.137Z"
   },
   {
    "duration": 821,
    "start_time": "2022-12-24T09:57:26.715Z"
   },
   {
    "duration": 153,
    "start_time": "2022-12-24T09:57:28.980Z"
   },
   {
    "duration": 294,
    "start_time": "2022-12-24T09:57:30.854Z"
   },
   {
    "duration": 270,
    "start_time": "2022-12-24T09:57:33.686Z"
   },
   {
    "duration": 98,
    "start_time": "2022-12-24T09:57:38.456Z"
   },
   {
    "duration": 15,
    "start_time": "2022-12-24T09:57:39.750Z"
   },
   {
    "duration": 4,
    "start_time": "2022-12-24T10:00:20.980Z"
   },
   {
    "duration": 51,
    "start_time": "2022-12-24T10:00:21.336Z"
   },
   {
    "duration": 10,
    "start_time": "2022-12-24T10:00:21.779Z"
   },
   {
    "duration": 93,
    "start_time": "2022-12-24T10:00:22.023Z"
   },
   {
    "duration": 10,
    "start_time": "2022-12-24T10:00:22.181Z"
   },
   {
    "duration": 197,
    "start_time": "2022-12-24T10:00:23.169Z"
   },
   {
    "duration": 692,
    "start_time": "2022-12-24T10:00:23.727Z"
   },
   {
    "duration": 166,
    "start_time": "2022-12-24T10:00:24.421Z"
   },
   {
    "duration": 299,
    "start_time": "2022-12-24T10:00:24.706Z"
   },
   {
    "duration": 347,
    "start_time": "2022-12-24T10:00:26.534Z"
   },
   {
    "duration": 4,
    "start_time": "2022-12-24T10:02:25.464Z"
   },
   {
    "duration": 142,
    "start_time": "2022-12-24T10:02:52.571Z"
   },
   {
    "duration": 1510,
    "start_time": "2022-12-24T10:05:31.225Z"
   },
   {
    "duration": 57,
    "start_time": "2022-12-24T10:05:32.737Z"
   },
   {
    "duration": 11,
    "start_time": "2022-12-24T10:05:32.796Z"
   },
   {
    "duration": 20,
    "start_time": "2022-12-24T10:05:32.810Z"
   },
   {
    "duration": 11,
    "start_time": "2022-12-24T10:05:32.832Z"
   },
   {
    "duration": 254,
    "start_time": "2022-12-24T10:05:32.991Z"
   },
   {
    "duration": 830,
    "start_time": "2022-12-24T10:05:33.471Z"
   },
   {
    "duration": 174,
    "start_time": "2022-12-24T10:05:34.303Z"
   },
   {
    "duration": 295,
    "start_time": "2022-12-24T10:05:34.479Z"
   },
   {
    "duration": 280,
    "start_time": "2022-12-24T10:05:35.153Z"
   },
   {
    "duration": 4,
    "start_time": "2022-12-24T10:05:37.479Z"
   },
   {
    "duration": 136,
    "start_time": "2022-12-24T10:05:41.578Z"
   },
   {
    "duration": 209282,
    "start_time": "2022-12-24T10:05:46.499Z"
   },
   {
    "duration": 12,
    "start_time": "2022-12-24T10:09:57.301Z"
   },
   {
    "duration": 8,
    "start_time": "2022-12-24T10:10:05.530Z"
   },
   {
    "duration": 4,
    "start_time": "2022-12-24T10:15:07.136Z"
   },
   {
    "duration": 1743,
    "start_time": "2022-12-24T10:19:34.103Z"
   },
   {
    "duration": 50,
    "start_time": "2022-12-24T10:19:47.768Z"
   },
   {
    "duration": 1541,
    "start_time": "2022-12-24T10:19:51.834Z"
   },
   {
    "duration": 993,
    "start_time": "2022-12-24T10:22:05.839Z"
   },
   {
    "duration": 3,
    "start_time": "2022-12-24T10:24:15.652Z"
   },
   {
    "duration": 56,
    "start_time": "2022-12-24T10:24:16.032Z"
   },
   {
    "duration": 9,
    "start_time": "2022-12-24T10:24:16.297Z"
   },
   {
    "duration": 11,
    "start_time": "2022-12-24T10:24:16.600Z"
   },
   {
    "duration": 10,
    "start_time": "2022-12-24T10:24:16.744Z"
   },
   {
    "duration": 201,
    "start_time": "2022-12-24T10:24:17.382Z"
   },
   {
    "duration": 783,
    "start_time": "2022-12-24T10:24:17.888Z"
   },
   {
    "duration": 158,
    "start_time": "2022-12-24T10:24:18.672Z"
   },
   {
    "duration": 307,
    "start_time": "2022-12-24T10:24:18.840Z"
   },
   {
    "duration": 285,
    "start_time": "2022-12-24T10:24:19.708Z"
   },
   {
    "duration": 4,
    "start_time": "2022-12-24T10:24:21.441Z"
   },
   {
    "duration": 133,
    "start_time": "2022-12-24T10:24:23.241Z"
   },
   {
    "duration": 1059,
    "start_time": "2022-12-24T10:24:25.228Z"
   },
   {
    "duration": 42413,
    "start_time": "2022-12-24T10:24:32.034Z"
   },
   {
    "duration": 55,
    "start_time": "2023-06-04T16:21:25.447Z"
   },
   {
    "duration": 1427,
    "start_time": "2023-06-04T16:21:31.466Z"
   },
   {
    "duration": 205,
    "start_time": "2023-06-04T16:21:32.895Z"
   },
   {
    "duration": 10,
    "start_time": "2023-06-04T16:21:33.101Z"
   },
   {
    "duration": 10,
    "start_time": "2023-06-04T16:21:33.112Z"
   },
   {
    "duration": 17,
    "start_time": "2023-06-04T16:21:33.124Z"
   },
   {
    "duration": 180,
    "start_time": "2023-06-04T16:21:33.142Z"
   },
   {
    "duration": 664,
    "start_time": "2023-06-04T16:21:33.324Z"
   },
   {
    "duration": 132,
    "start_time": "2023-06-04T16:21:33.990Z"
   },
   {
    "duration": 225,
    "start_time": "2023-06-04T16:21:40.939Z"
   },
   {
    "duration": 131,
    "start_time": "2023-06-04T16:22:47.520Z"
   },
   {
    "duration": 246,
    "start_time": "2023-06-04T16:23:37.159Z"
   },
   {
    "duration": 172,
    "start_time": "2023-06-04T16:24:07.195Z"
   },
   {
    "duration": 4,
    "start_time": "2023-06-04T16:30:43.617Z"
   },
   {
    "duration": 59,
    "start_time": "2023-06-04T16:30:43.625Z"
   },
   {
    "duration": 9,
    "start_time": "2023-06-04T16:30:43.685Z"
   },
   {
    "duration": 9,
    "start_time": "2023-06-04T16:30:43.695Z"
   },
   {
    "duration": 8,
    "start_time": "2023-06-04T16:30:43.706Z"
   },
   {
    "duration": 249,
    "start_time": "2023-06-04T16:30:43.715Z"
   },
   {
    "duration": 590,
    "start_time": "2023-06-04T16:30:43.966Z"
   },
   {
    "duration": 139,
    "start_time": "2023-06-04T16:30:44.558Z"
   },
   {
    "duration": 240,
    "start_time": "2023-06-04T16:30:44.699Z"
   },
   {
    "duration": 310,
    "start_time": "2023-06-04T16:30:44.940Z"
   },
   {
    "duration": 3,
    "start_time": "2023-06-04T16:30:52.607Z"
   },
   {
    "duration": 119,
    "start_time": "2023-06-04T16:31:05.510Z"
   },
   {
    "duration": 832331,
    "start_time": "2023-06-04T16:31:55.026Z"
   },
   {
    "duration": 13,
    "start_time": "2023-06-04T16:47:11.081Z"
   },
   {
    "duration": 1830039,
    "start_time": "2023-06-04T16:51:25.586Z"
   },
   {
    "duration": 9,
    "start_time": "2023-06-04T17:23:20.043Z"
   },
   {
    "duration": 336525,
    "start_time": "2023-06-04T17:23:49.343Z"
   },
   {
    "duration": 7,
    "start_time": "2023-06-04T17:30:23.756Z"
   }
  ],
  "kernelspec": {
   "display_name": "Python 3 (ipykernel)",
   "language": "python",
   "name": "python3"
  },
  "language_info": {
   "codemirror_mode": {
    "name": "ipython",
    "version": 3
   },
   "file_extension": ".py",
   "mimetype": "text/x-python",
   "name": "python",
   "nbconvert_exporter": "python",
   "pygments_lexer": "ipython3",
   "version": "3.9.5"
  },
  "toc": {
   "base_numbering": 1,
   "nav_menu": {},
   "number_sections": true,
   "sideBar": true,
   "skip_h1_title": true,
   "title_cell": "Содержание",
   "title_sidebar": "Contents",
   "toc_cell": true,
   "toc_position": {
    "height": "calc(100% - 180px)",
    "left": "10px",
    "top": "150px",
    "width": "257.047px"
   },
   "toc_section_display": true,
   "toc_window_display": true
  }
 },
 "nbformat": 4,
 "nbformat_minor": 2
}
