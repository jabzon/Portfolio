{
 "cells": [
  {
   "cell_type": "markdown",
   "metadata": {},
   "source": [
    "# Прогнозирование оттока клиентов"
   ]
  },
  {
   "cell_type": "markdown",
   "metadata": {},
   "source": [
    "Оператор связи «Ниединогоразрыва.ком» хочет научиться прогнозировать отток клиентов. Если выяснится, что пользователь планирует уйти, ему будут предложены промокоды и специальные условия.\n",
    "\n",
    "Описание услуг:\n",
    "\n",
    "Оператор предоставляет два основных типа услуг: \n",
    "\n",
    "1. Стационарную телефонную связь. Возможно подключение телефонного аппарата к нескольким линиям одновременно.\n",
    "2. Интернет. Подключение может быть двух типов: через телефонную линию (DSL*,* от англ. *digital subscriber line*, «цифровая абонентская линия») или оптоволоконный кабель (*Fiber optic*).  \n",
    "\n",
    "Также доступны такие услуги:\n",
    "\n",
    "- Интернет-безопасность: антивирус (*DeviceProtection*) и блокировка небезопасных сайтов (*OnlineSecurity*);\n",
    "- Выделенная линия технической поддержки (*TechSupport*);\n",
    "- Облачное хранилище файлов для резервного копирования данных (*OnlineBackup*);\n",
    "- Стриминговое телевидение (*StreamingTV*) и каталог фильмов (*StreamingMovies*).\n",
    "\n",
    "За услуги клиенты могут платить каждый месяц или заключить договор на 1–2 года. Доступны различные способы расчёта и возможность получения электронного чека.\n"
   ]
  },
  {
   "cell_type": "code",
   "execution_count": 1,
   "metadata": {},
   "outputs": [],
   "source": [
    "# Импорт библиотек\n",
    "import pandas as pd\n",
    "\n",
    "import numpy as np\n",
    "\n",
    "import seaborn as sns\n",
    "\n",
    "import matplotlib.pyplot as plt\n",
    "\n",
    "from sklearn.metrics import roc_curve, roc_auc_score\n",
    "from sklearn.ensemble import RandomForestClassifier\n",
    "from sklearn.linear_model import LogisticRegression\n",
    "from sklearn.model_selection import (\n",
    "    GridSearchCV, \n",
    "    RandomizedSearchCV,\n",
    "    train_test_split\n",
    ")\n",
    "from sklearn.preprocessing import (\n",
    "    StandardScaler,\n",
    "    OneHotEncoder\n",
    ")\n",
    "from sklearn import preprocessing\n",
    "\n",
    "from catboost import CatBoostClassifier\n",
    "\n",
    "from scipy.stats import chi2_contingency\n",
    "\n",
    "import warnings\n",
    "warnings.filterwarnings(\"ignore\")\n",
    "RANDOM_STATE = 270223"
   ]
  },
  {
   "cell_type": "markdown",
   "metadata": {},
   "source": [
    "## Анализ данных"
   ]
  },
  {
   "cell_type": "code",
   "execution_count": 2,
   "metadata": {},
   "outputs": [],
   "source": [
    "# Выгрузка данных о контрактах\n",
    "contract = pd.read_csv('/datasets/final_provider/contract.csv')"
   ]
  },
  {
   "cell_type": "code",
   "execution_count": 3,
   "metadata": {},
   "outputs": [
    {
     "data": {
      "text/html": [
       "<div>\n",
       "<style scoped>\n",
       "    .dataframe tbody tr th:only-of-type {\n",
       "        vertical-align: middle;\n",
       "    }\n",
       "\n",
       "    .dataframe tbody tr th {\n",
       "        vertical-align: top;\n",
       "    }\n",
       "\n",
       "    .dataframe thead th {\n",
       "        text-align: right;\n",
       "    }\n",
       "</style>\n",
       "<table border=\"1\" class=\"dataframe\">\n",
       "  <thead>\n",
       "    <tr style=\"text-align: right;\">\n",
       "      <th></th>\n",
       "      <th>customerID</th>\n",
       "      <th>BeginDate</th>\n",
       "      <th>EndDate</th>\n",
       "      <th>Type</th>\n",
       "      <th>PaperlessBilling</th>\n",
       "      <th>PaymentMethod</th>\n",
       "      <th>MonthlyCharges</th>\n",
       "      <th>TotalCharges</th>\n",
       "    </tr>\n",
       "  </thead>\n",
       "  <tbody>\n",
       "    <tr>\n",
       "      <th>0</th>\n",
       "      <td>7590-VHVEG</td>\n",
       "      <td>2020-01-01</td>\n",
       "      <td>No</td>\n",
       "      <td>Month-to-month</td>\n",
       "      <td>Yes</td>\n",
       "      <td>Electronic check</td>\n",
       "      <td>29.85</td>\n",
       "      <td>29.85</td>\n",
       "    </tr>\n",
       "    <tr>\n",
       "      <th>1</th>\n",
       "      <td>5575-GNVDE</td>\n",
       "      <td>2017-04-01</td>\n",
       "      <td>No</td>\n",
       "      <td>One year</td>\n",
       "      <td>No</td>\n",
       "      <td>Mailed check</td>\n",
       "      <td>56.95</td>\n",
       "      <td>1889.5</td>\n",
       "    </tr>\n",
       "    <tr>\n",
       "      <th>2</th>\n",
       "      <td>3668-QPYBK</td>\n",
       "      <td>2019-10-01</td>\n",
       "      <td>2019-12-01 00:00:00</td>\n",
       "      <td>Month-to-month</td>\n",
       "      <td>Yes</td>\n",
       "      <td>Mailed check</td>\n",
       "      <td>53.85</td>\n",
       "      <td>108.15</td>\n",
       "    </tr>\n",
       "    <tr>\n",
       "      <th>3</th>\n",
       "      <td>7795-CFOCW</td>\n",
       "      <td>2016-05-01</td>\n",
       "      <td>No</td>\n",
       "      <td>One year</td>\n",
       "      <td>No</td>\n",
       "      <td>Bank transfer (automatic)</td>\n",
       "      <td>42.30</td>\n",
       "      <td>1840.75</td>\n",
       "    </tr>\n",
       "    <tr>\n",
       "      <th>4</th>\n",
       "      <td>9237-HQITU</td>\n",
       "      <td>2019-09-01</td>\n",
       "      <td>2019-11-01 00:00:00</td>\n",
       "      <td>Month-to-month</td>\n",
       "      <td>Yes</td>\n",
       "      <td>Electronic check</td>\n",
       "      <td>70.70</td>\n",
       "      <td>151.65</td>\n",
       "    </tr>\n",
       "  </tbody>\n",
       "</table>\n",
       "</div>"
      ],
      "text/plain": [
       "   customerID   BeginDate              EndDate            Type  \\\n",
       "0  7590-VHVEG  2020-01-01                   No  Month-to-month   \n",
       "1  5575-GNVDE  2017-04-01                   No        One year   \n",
       "2  3668-QPYBK  2019-10-01  2019-12-01 00:00:00  Month-to-month   \n",
       "3  7795-CFOCW  2016-05-01                   No        One year   \n",
       "4  9237-HQITU  2019-09-01  2019-11-01 00:00:00  Month-to-month   \n",
       "\n",
       "  PaperlessBilling              PaymentMethod  MonthlyCharges TotalCharges  \n",
       "0              Yes           Electronic check           29.85        29.85  \n",
       "1               No               Mailed check           56.95       1889.5  \n",
       "2              Yes               Mailed check           53.85       108.15  \n",
       "3               No  Bank transfer (automatic)           42.30      1840.75  \n",
       "4              Yes           Electronic check           70.70       151.65  "
      ]
     },
     "execution_count": 3,
     "metadata": {},
     "output_type": "execute_result"
    }
   ],
   "source": [
    "# Просмотр первых 5 строк\n",
    "contract.head()"
   ]
  },
  {
   "cell_type": "code",
   "execution_count": 4,
   "metadata": {},
   "outputs": [
    {
     "name": "stdout",
     "output_type": "stream",
     "text": [
      "<class 'pandas.core.frame.DataFrame'>\n",
      "RangeIndex: 7043 entries, 0 to 7042\n",
      "Data columns (total 8 columns):\n",
      " #   Column            Non-Null Count  Dtype  \n",
      "---  ------            --------------  -----  \n",
      " 0   customerID        7043 non-null   object \n",
      " 1   BeginDate         7043 non-null   object \n",
      " 2   EndDate           7043 non-null   object \n",
      " 3   Type              7043 non-null   object \n",
      " 4   PaperlessBilling  7043 non-null   object \n",
      " 5   PaymentMethod     7043 non-null   object \n",
      " 6   MonthlyCharges    7043 non-null   float64\n",
      " 7   TotalCharges      7043 non-null   object \n",
      "dtypes: float64(1), object(7)\n",
      "memory usage: 440.3+ KB\n"
     ]
    }
   ],
   "source": [
    "# Общая информация\n",
    "contract.info()"
   ]
  },
  {
   "cell_type": "code",
   "execution_count": 5,
   "metadata": {},
   "outputs": [
    {
     "data": {
      "text/plain": [
       "0"
      ]
     },
     "execution_count": 5,
     "metadata": {},
     "output_type": "execute_result"
    }
   ],
   "source": [
    "# Проверка на дубликаты\n",
    "contract.duplicated().sum()"
   ]
  },
  {
   "cell_type": "markdown",
   "metadata": {},
   "source": [
    "В датафрейме отсутствуют пропуски, нет явных дубликатов, типы признаков нужно будет поменять BeginDate на date и TotalCharges на float, так же стоит изучить атрибуты MonthlyCharges, TotalCharges, EndDate с помощью графиков. \n",
    "\n",
    "В датафрейме про данные из контрактов указаны признаки:\n",
    "- customerID - ID клиента\n",
    "- BeginDate - дата начала пользования услугами\n",
    "- EndDate - дата окончания пользования услугами\n",
    "- Type - типы оплаты\n",
    "- PaperlessBilling - эелектронный платежный документ\n",
    "- PaymentMethod - способ оплаты\n",
    "- MonthlyCharges - ежемесячные траты на услуги\n",
    "- TotalCharges - всего трат"
   ]
  },
  {
   "cell_type": "code",
   "execution_count": 6,
   "metadata": {},
   "outputs": [],
   "source": [
    "# Выгрузка персональных данных\n",
    "personal = pd.read_csv('/datasets/final_provider/personal.csv')"
   ]
  },
  {
   "cell_type": "code",
   "execution_count": 7,
   "metadata": {},
   "outputs": [
    {
     "data": {
      "text/html": [
       "<div>\n",
       "<style scoped>\n",
       "    .dataframe tbody tr th:only-of-type {\n",
       "        vertical-align: middle;\n",
       "    }\n",
       "\n",
       "    .dataframe tbody tr th {\n",
       "        vertical-align: top;\n",
       "    }\n",
       "\n",
       "    .dataframe thead th {\n",
       "        text-align: right;\n",
       "    }\n",
       "</style>\n",
       "<table border=\"1\" class=\"dataframe\">\n",
       "  <thead>\n",
       "    <tr style=\"text-align: right;\">\n",
       "      <th></th>\n",
       "      <th>customerID</th>\n",
       "      <th>gender</th>\n",
       "      <th>SeniorCitizen</th>\n",
       "      <th>Partner</th>\n",
       "      <th>Dependents</th>\n",
       "    </tr>\n",
       "  </thead>\n",
       "  <tbody>\n",
       "    <tr>\n",
       "      <th>0</th>\n",
       "      <td>7590-VHVEG</td>\n",
       "      <td>Female</td>\n",
       "      <td>0</td>\n",
       "      <td>Yes</td>\n",
       "      <td>No</td>\n",
       "    </tr>\n",
       "    <tr>\n",
       "      <th>1</th>\n",
       "      <td>5575-GNVDE</td>\n",
       "      <td>Male</td>\n",
       "      <td>0</td>\n",
       "      <td>No</td>\n",
       "      <td>No</td>\n",
       "    </tr>\n",
       "    <tr>\n",
       "      <th>2</th>\n",
       "      <td>3668-QPYBK</td>\n",
       "      <td>Male</td>\n",
       "      <td>0</td>\n",
       "      <td>No</td>\n",
       "      <td>No</td>\n",
       "    </tr>\n",
       "    <tr>\n",
       "      <th>3</th>\n",
       "      <td>7795-CFOCW</td>\n",
       "      <td>Male</td>\n",
       "      <td>0</td>\n",
       "      <td>No</td>\n",
       "      <td>No</td>\n",
       "    </tr>\n",
       "    <tr>\n",
       "      <th>4</th>\n",
       "      <td>9237-HQITU</td>\n",
       "      <td>Female</td>\n",
       "      <td>0</td>\n",
       "      <td>No</td>\n",
       "      <td>No</td>\n",
       "    </tr>\n",
       "  </tbody>\n",
       "</table>\n",
       "</div>"
      ],
      "text/plain": [
       "   customerID  gender  SeniorCitizen Partner Dependents\n",
       "0  7590-VHVEG  Female              0     Yes         No\n",
       "1  5575-GNVDE    Male              0      No         No\n",
       "2  3668-QPYBK    Male              0      No         No\n",
       "3  7795-CFOCW    Male              0      No         No\n",
       "4  9237-HQITU  Female              0      No         No"
      ]
     },
     "execution_count": 7,
     "metadata": {},
     "output_type": "execute_result"
    }
   ],
   "source": [
    "personal.head()"
   ]
  },
  {
   "cell_type": "code",
   "execution_count": 8,
   "metadata": {},
   "outputs": [
    {
     "name": "stdout",
     "output_type": "stream",
     "text": [
      "<class 'pandas.core.frame.DataFrame'>\n",
      "RangeIndex: 7043 entries, 0 to 7042\n",
      "Data columns (total 5 columns):\n",
      " #   Column         Non-Null Count  Dtype \n",
      "---  ------         --------------  ----- \n",
      " 0   customerID     7043 non-null   object\n",
      " 1   gender         7043 non-null   object\n",
      " 2   SeniorCitizen  7043 non-null   int64 \n",
      " 3   Partner        7043 non-null   object\n",
      " 4   Dependents     7043 non-null   object\n",
      "dtypes: int64(1), object(4)\n",
      "memory usage: 275.2+ KB\n"
     ]
    }
   ],
   "source": [
    "personal.info()"
   ]
  },
  {
   "cell_type": "code",
   "execution_count": 9,
   "metadata": {},
   "outputs": [
    {
     "data": {
      "text/plain": [
       "0"
      ]
     },
     "execution_count": 9,
     "metadata": {},
     "output_type": "execute_result"
    }
   ],
   "source": [
    "personal.duplicated().sum()"
   ]
  },
  {
   "cell_type": "markdown",
   "metadata": {},
   "source": [
    "В датафрейме с персональной информацией нет пропусков и явных дубликатов, все типы данных верны. Нужно будет построит график по каждому признаку кроме costomerID и исследовать их, т.к. они могут быть значимыми. \n",
    "\n",
    "Представленные атрибуты:\n",
    "- customerID\n",
    "- gender - гендр\n",
    "- SeniorCitizen - наличие пенсионного статуса по возрасту\n",
    "- Partner - наличие супруга(и)\n",
    "- Dependents - наличие иждевенцев"
   ]
  },
  {
   "cell_type": "code",
   "execution_count": 10,
   "metadata": {},
   "outputs": [],
   "source": [
    "# Выгрузка данных о интернете\n",
    "internet = pd.read_csv('/datasets/final_provider/internet.csv')"
   ]
  },
  {
   "cell_type": "code",
   "execution_count": 11,
   "metadata": {},
   "outputs": [
    {
     "data": {
      "text/html": [
       "<div>\n",
       "<style scoped>\n",
       "    .dataframe tbody tr th:only-of-type {\n",
       "        vertical-align: middle;\n",
       "    }\n",
       "\n",
       "    .dataframe tbody tr th {\n",
       "        vertical-align: top;\n",
       "    }\n",
       "\n",
       "    .dataframe thead th {\n",
       "        text-align: right;\n",
       "    }\n",
       "</style>\n",
       "<table border=\"1\" class=\"dataframe\">\n",
       "  <thead>\n",
       "    <tr style=\"text-align: right;\">\n",
       "      <th></th>\n",
       "      <th>customerID</th>\n",
       "      <th>InternetService</th>\n",
       "      <th>OnlineSecurity</th>\n",
       "      <th>OnlineBackup</th>\n",
       "      <th>DeviceProtection</th>\n",
       "      <th>TechSupport</th>\n",
       "      <th>StreamingTV</th>\n",
       "      <th>StreamingMovies</th>\n",
       "    </tr>\n",
       "  </thead>\n",
       "  <tbody>\n",
       "    <tr>\n",
       "      <th>0</th>\n",
       "      <td>7590-VHVEG</td>\n",
       "      <td>DSL</td>\n",
       "      <td>No</td>\n",
       "      <td>Yes</td>\n",
       "      <td>No</td>\n",
       "      <td>No</td>\n",
       "      <td>No</td>\n",
       "      <td>No</td>\n",
       "    </tr>\n",
       "    <tr>\n",
       "      <th>1</th>\n",
       "      <td>5575-GNVDE</td>\n",
       "      <td>DSL</td>\n",
       "      <td>Yes</td>\n",
       "      <td>No</td>\n",
       "      <td>Yes</td>\n",
       "      <td>No</td>\n",
       "      <td>No</td>\n",
       "      <td>No</td>\n",
       "    </tr>\n",
       "    <tr>\n",
       "      <th>2</th>\n",
       "      <td>3668-QPYBK</td>\n",
       "      <td>DSL</td>\n",
       "      <td>Yes</td>\n",
       "      <td>Yes</td>\n",
       "      <td>No</td>\n",
       "      <td>No</td>\n",
       "      <td>No</td>\n",
       "      <td>No</td>\n",
       "    </tr>\n",
       "    <tr>\n",
       "      <th>3</th>\n",
       "      <td>7795-CFOCW</td>\n",
       "      <td>DSL</td>\n",
       "      <td>Yes</td>\n",
       "      <td>No</td>\n",
       "      <td>Yes</td>\n",
       "      <td>Yes</td>\n",
       "      <td>No</td>\n",
       "      <td>No</td>\n",
       "    </tr>\n",
       "    <tr>\n",
       "      <th>4</th>\n",
       "      <td>9237-HQITU</td>\n",
       "      <td>Fiber optic</td>\n",
       "      <td>No</td>\n",
       "      <td>No</td>\n",
       "      <td>No</td>\n",
       "      <td>No</td>\n",
       "      <td>No</td>\n",
       "      <td>No</td>\n",
       "    </tr>\n",
       "  </tbody>\n",
       "</table>\n",
       "</div>"
      ],
      "text/plain": [
       "   customerID InternetService OnlineSecurity OnlineBackup DeviceProtection  \\\n",
       "0  7590-VHVEG             DSL             No          Yes               No   \n",
       "1  5575-GNVDE             DSL            Yes           No              Yes   \n",
       "2  3668-QPYBK             DSL            Yes          Yes               No   \n",
       "3  7795-CFOCW             DSL            Yes           No              Yes   \n",
       "4  9237-HQITU     Fiber optic             No           No               No   \n",
       "\n",
       "  TechSupport StreamingTV StreamingMovies  \n",
       "0          No          No              No  \n",
       "1          No          No              No  \n",
       "2          No          No              No  \n",
       "3         Yes          No              No  \n",
       "4          No          No              No  "
      ]
     },
     "execution_count": 11,
     "metadata": {},
     "output_type": "execute_result"
    }
   ],
   "source": [
    "internet.head()"
   ]
  },
  {
   "cell_type": "code",
   "execution_count": 12,
   "metadata": {},
   "outputs": [
    {
     "name": "stdout",
     "output_type": "stream",
     "text": [
      "<class 'pandas.core.frame.DataFrame'>\n",
      "RangeIndex: 5517 entries, 0 to 5516\n",
      "Data columns (total 8 columns):\n",
      " #   Column            Non-Null Count  Dtype \n",
      "---  ------            --------------  ----- \n",
      " 0   customerID        5517 non-null   object\n",
      " 1   InternetService   5517 non-null   object\n",
      " 2   OnlineSecurity    5517 non-null   object\n",
      " 3   OnlineBackup      5517 non-null   object\n",
      " 4   DeviceProtection  5517 non-null   object\n",
      " 5   TechSupport       5517 non-null   object\n",
      " 6   StreamingTV       5517 non-null   object\n",
      " 7   StreamingMovies   5517 non-null   object\n",
      "dtypes: object(8)\n",
      "memory usage: 344.9+ KB\n"
     ]
    }
   ],
   "source": [
    "internet.info()"
   ]
  },
  {
   "cell_type": "code",
   "execution_count": 13,
   "metadata": {},
   "outputs": [
    {
     "data": {
      "text/plain": [
       "0"
      ]
     },
     "execution_count": 13,
     "metadata": {},
     "output_type": "execute_result"
    }
   ],
   "source": [
    "internet.duplicated().sum()"
   ]
  },
  {
   "cell_type": "markdown",
   "metadata": {},
   "source": [
    "В этом датафрейме так же нет пропусков и явных дубликатов, все типы данных верны. Сразу видна разница в количестве строк, в прошлых датафреймах их было на 1526 больше, скорее всего есть пользователи, которые не пользуются интернетом. В этой таблицы представлены данные о провайдере и использование дополнительных услуг, которые описывались в начале проекта. Так же построим для каждого из признаков графики и исследуем их по отдельности."
   ]
  },
  {
   "cell_type": "code",
   "execution_count": 14,
   "metadata": {},
   "outputs": [],
   "source": [
    "# Выгрузка данных о наличии возможности ведения параллельных линий во время звонка\n",
    "phone = pd.read_csv('/datasets/final_provider/phone.csv')"
   ]
  },
  {
   "cell_type": "code",
   "execution_count": 15,
   "metadata": {},
   "outputs": [
    {
     "data": {
      "text/html": [
       "<div>\n",
       "<style scoped>\n",
       "    .dataframe tbody tr th:only-of-type {\n",
       "        vertical-align: middle;\n",
       "    }\n",
       "\n",
       "    .dataframe tbody tr th {\n",
       "        vertical-align: top;\n",
       "    }\n",
       "\n",
       "    .dataframe thead th {\n",
       "        text-align: right;\n",
       "    }\n",
       "</style>\n",
       "<table border=\"1\" class=\"dataframe\">\n",
       "  <thead>\n",
       "    <tr style=\"text-align: right;\">\n",
       "      <th></th>\n",
       "      <th>customerID</th>\n",
       "      <th>MultipleLines</th>\n",
       "    </tr>\n",
       "  </thead>\n",
       "  <tbody>\n",
       "    <tr>\n",
       "      <th>0</th>\n",
       "      <td>5575-GNVDE</td>\n",
       "      <td>No</td>\n",
       "    </tr>\n",
       "    <tr>\n",
       "      <th>1</th>\n",
       "      <td>3668-QPYBK</td>\n",
       "      <td>No</td>\n",
       "    </tr>\n",
       "    <tr>\n",
       "      <th>2</th>\n",
       "      <td>9237-HQITU</td>\n",
       "      <td>No</td>\n",
       "    </tr>\n",
       "    <tr>\n",
       "      <th>3</th>\n",
       "      <td>9305-CDSKC</td>\n",
       "      <td>Yes</td>\n",
       "    </tr>\n",
       "    <tr>\n",
       "      <th>4</th>\n",
       "      <td>1452-KIOVK</td>\n",
       "      <td>Yes</td>\n",
       "    </tr>\n",
       "  </tbody>\n",
       "</table>\n",
       "</div>"
      ],
      "text/plain": [
       "   customerID MultipleLines\n",
       "0  5575-GNVDE            No\n",
       "1  3668-QPYBK            No\n",
       "2  9237-HQITU            No\n",
       "3  9305-CDSKC           Yes\n",
       "4  1452-KIOVK           Yes"
      ]
     },
     "execution_count": 15,
     "metadata": {},
     "output_type": "execute_result"
    }
   ],
   "source": [
    "phone.head()"
   ]
  },
  {
   "cell_type": "code",
   "execution_count": 16,
   "metadata": {},
   "outputs": [
    {
     "name": "stdout",
     "output_type": "stream",
     "text": [
      "<class 'pandas.core.frame.DataFrame'>\n",
      "RangeIndex: 6361 entries, 0 to 6360\n",
      "Data columns (total 2 columns):\n",
      " #   Column         Non-Null Count  Dtype \n",
      "---  ------         --------------  ----- \n",
      " 0   customerID     6361 non-null   object\n",
      " 1   MultipleLines  6361 non-null   object\n",
      "dtypes: object(2)\n",
      "memory usage: 99.5+ KB\n"
     ]
    }
   ],
   "source": [
    "phone.info()"
   ]
  },
  {
   "cell_type": "code",
   "execution_count": 17,
   "metadata": {},
   "outputs": [
    {
     "data": {
      "text/plain": [
       "0"
      ]
     },
     "execution_count": 17,
     "metadata": {},
     "output_type": "execute_result"
    }
   ],
   "source": [
    "phone.duplicated().sum()"
   ]
  },
  {
   "cell_type": "markdown",
   "metadata": {},
   "source": [
    "Снова ни одного пропуска и ни одного дубликата, типы данных верны. В этот раз можно сказать, что телефонной связью пользуются тоже не все, 682 клиента видимо пользуются лишь интернет услугами. В этом датафрейме информация о том, может ли пользователь вести параллельные линии во время звонка. Так же построим график и исследуем данный признак."
   ]
  },
  {
   "cell_type": "markdown",
   "metadata": {},
   "source": [
    "# План проекта "
   ]
  },
  {
   "cell_type": "markdown",
   "metadata": {},
   "source": [
    "Для успешного написания данного проекта нужно:\n",
    "- поменять некоторые типы данных\n",
    "- проанализировать практически каждый признак с помощью построения графиков и их анализа\n",
    "- объединить датафреймы левым соединением к таблице contract, все пропуски заменить на 'No', можем себе позволить такую замену т.к. пропуски означают то, что клиент не пользуется данной услугой\n",
    "- создать target из столбца EndDate в contract(все значения равные 'No' заменить на 0, остальное на 1)\n",
    "- проанализировать признаки на мультиколлинеарсность\n",
    "- если будут выявлены ненужные столбцы, их нужно будет удалить\n",
    "- проверить дисбаланс классов в целевом признаке\n",
    "- разделить на выборки наш датафрейм (обучающая и тестовая в соотношении 3:1)\n",
    "- провести кодирование данных с помощью OHE для текста и StandardScaler для числовых переменных\n",
    "- рассмотрим модели CatBoost, LinearRegression и RandomForest\n",
    "- подобрать гиперпараметры с помощью GreadSearchCV\n",
    "- вывести на тест лучшею модель по результатам кросс-валидации(по метрике AUC_ROC)\n",
    "- достигнуть значение метрики не меньше 0.85\n",
    "- построить ROC-кривую, матрицу ошибок и провести анализ важности признаков\n",
    "- написать отчет о проделанной работе\n",
    "\n",
    "Вопросов по проекту нет."
   ]
  },
  {
   "cell_type": "markdown",
   "metadata": {},
   "source": [
    "## Исследовательский анализ данных, предобработка."
   ]
  },
  {
   "cell_type": "code",
   "execution_count": 18,
   "metadata": {},
   "outputs": [
    {
     "name": "stdout",
     "output_type": "stream",
     "text": [
      "<class 'pandas.core.frame.DataFrame'>\n",
      "RangeIndex: 7043 entries, 0 to 7042\n",
      "Data columns (total 8 columns):\n",
      " #   Column            Non-Null Count  Dtype         \n",
      "---  ------            --------------  -----         \n",
      " 0   customerID        7043 non-null   object        \n",
      " 1   BeginDate         7043 non-null   datetime64[ns]\n",
      " 2   EndDate           7043 non-null   object        \n",
      " 3   Type              7043 non-null   object        \n",
      " 4   PaperlessBilling  7043 non-null   object        \n",
      " 5   PaymentMethod     7043 non-null   object        \n",
      " 6   MonthlyCharges    7043 non-null   float64       \n",
      " 7   TotalCharges      7032 non-null   float64       \n",
      "dtypes: datetime64[ns](1), float64(2), object(5)\n",
      "memory usage: 440.3+ KB\n"
     ]
    }
   ],
   "source": [
    "# Поменяем типы данных\n",
    "contract['BeginDate'] = pd.to_datetime(contract['BeginDate'], format='%Y-%m-%d')\n",
    "contract['TotalCharges'] = pd.to_numeric(contract['TotalCharges'], errors='coerce') \n",
    "contract.info() # проверка"
   ]
  },
  {
   "cell_type": "markdown",
   "metadata": {},
   "source": [
    "В признаке TotalCharges остались пропуски, замена типа происходила с помощью параметра errors который игнорировал строки без чисел, логично будет заменить такие пропусски на 0"
   ]
  },
  {
   "cell_type": "code",
   "execution_count": 19,
   "metadata": {},
   "outputs": [
    {
     "name": "stdout",
     "output_type": "stream",
     "text": [
      "<class 'pandas.core.frame.DataFrame'>\n",
      "RangeIndex: 7043 entries, 0 to 7042\n",
      "Data columns (total 8 columns):\n",
      " #   Column            Non-Null Count  Dtype         \n",
      "---  ------            --------------  -----         \n",
      " 0   customerID        7043 non-null   object        \n",
      " 1   BeginDate         7043 non-null   datetime64[ns]\n",
      " 2   EndDate           7043 non-null   object        \n",
      " 3   Type              7043 non-null   object        \n",
      " 4   PaperlessBilling  7043 non-null   object        \n",
      " 5   PaymentMethod     7043 non-null   object        \n",
      " 6   MonthlyCharges    7043 non-null   float64       \n",
      " 7   TotalCharges      7043 non-null   float64       \n",
      "dtypes: datetime64[ns](1), float64(2), object(5)\n",
      "memory usage: 440.3+ KB\n"
     ]
    }
   ],
   "source": [
    "contract = contract.fillna(0)\n",
    "contract.info()"
   ]
  },
  {
   "cell_type": "code",
   "execution_count": 20,
   "metadata": {},
   "outputs": [
    {
     "data": {
      "text/html": [
       "<div>\n",
       "<style scoped>\n",
       "    .dataframe tbody tr th:only-of-type {\n",
       "        vertical-align: middle;\n",
       "    }\n",
       "\n",
       "    .dataframe tbody tr th {\n",
       "        vertical-align: top;\n",
       "    }\n",
       "\n",
       "    .dataframe thead th {\n",
       "        text-align: right;\n",
       "    }\n",
       "</style>\n",
       "<table border=\"1\" class=\"dataframe\">\n",
       "  <thead>\n",
       "    <tr style=\"text-align: right;\">\n",
       "      <th></th>\n",
       "      <th>customerID</th>\n",
       "      <th>BeginDate</th>\n",
       "      <th>EndDate</th>\n",
       "      <th>Type</th>\n",
       "      <th>PaperlessBilling</th>\n",
       "      <th>PaymentMethod</th>\n",
       "      <th>MonthlyCharges</th>\n",
       "      <th>TotalCharges</th>\n",
       "    </tr>\n",
       "  </thead>\n",
       "  <tbody>\n",
       "    <tr>\n",
       "      <th>488</th>\n",
       "      <td>4472-LVYGI</td>\n",
       "      <td>2020-02-01</td>\n",
       "      <td>No</td>\n",
       "      <td>Two year</td>\n",
       "      <td>Yes</td>\n",
       "      <td>Bank transfer (automatic)</td>\n",
       "      <td>52.55</td>\n",
       "      <td>0.0</td>\n",
       "    </tr>\n",
       "    <tr>\n",
       "      <th>753</th>\n",
       "      <td>3115-CZMZD</td>\n",
       "      <td>2020-02-01</td>\n",
       "      <td>No</td>\n",
       "      <td>Two year</td>\n",
       "      <td>No</td>\n",
       "      <td>Mailed check</td>\n",
       "      <td>20.25</td>\n",
       "      <td>0.0</td>\n",
       "    </tr>\n",
       "    <tr>\n",
       "      <th>936</th>\n",
       "      <td>5709-LVOEQ</td>\n",
       "      <td>2020-02-01</td>\n",
       "      <td>No</td>\n",
       "      <td>Two year</td>\n",
       "      <td>No</td>\n",
       "      <td>Mailed check</td>\n",
       "      <td>80.85</td>\n",
       "      <td>0.0</td>\n",
       "    </tr>\n",
       "    <tr>\n",
       "      <th>1082</th>\n",
       "      <td>4367-NUYAO</td>\n",
       "      <td>2020-02-01</td>\n",
       "      <td>No</td>\n",
       "      <td>Two year</td>\n",
       "      <td>No</td>\n",
       "      <td>Mailed check</td>\n",
       "      <td>25.75</td>\n",
       "      <td>0.0</td>\n",
       "    </tr>\n",
       "    <tr>\n",
       "      <th>1340</th>\n",
       "      <td>1371-DWPAZ</td>\n",
       "      <td>2020-02-01</td>\n",
       "      <td>No</td>\n",
       "      <td>Two year</td>\n",
       "      <td>No</td>\n",
       "      <td>Credit card (automatic)</td>\n",
       "      <td>56.05</td>\n",
       "      <td>0.0</td>\n",
       "    </tr>\n",
       "    <tr>\n",
       "      <th>3331</th>\n",
       "      <td>7644-OMVMY</td>\n",
       "      <td>2020-02-01</td>\n",
       "      <td>No</td>\n",
       "      <td>Two year</td>\n",
       "      <td>No</td>\n",
       "      <td>Mailed check</td>\n",
       "      <td>19.85</td>\n",
       "      <td>0.0</td>\n",
       "    </tr>\n",
       "    <tr>\n",
       "      <th>3826</th>\n",
       "      <td>3213-VVOLG</td>\n",
       "      <td>2020-02-01</td>\n",
       "      <td>No</td>\n",
       "      <td>Two year</td>\n",
       "      <td>No</td>\n",
       "      <td>Mailed check</td>\n",
       "      <td>25.35</td>\n",
       "      <td>0.0</td>\n",
       "    </tr>\n",
       "    <tr>\n",
       "      <th>4380</th>\n",
       "      <td>2520-SGTTA</td>\n",
       "      <td>2020-02-01</td>\n",
       "      <td>No</td>\n",
       "      <td>Two year</td>\n",
       "      <td>No</td>\n",
       "      <td>Mailed check</td>\n",
       "      <td>20.00</td>\n",
       "      <td>0.0</td>\n",
       "    </tr>\n",
       "    <tr>\n",
       "      <th>5218</th>\n",
       "      <td>2923-ARZLG</td>\n",
       "      <td>2020-02-01</td>\n",
       "      <td>No</td>\n",
       "      <td>One year</td>\n",
       "      <td>Yes</td>\n",
       "      <td>Mailed check</td>\n",
       "      <td>19.70</td>\n",
       "      <td>0.0</td>\n",
       "    </tr>\n",
       "    <tr>\n",
       "      <th>6670</th>\n",
       "      <td>4075-WKNIU</td>\n",
       "      <td>2020-02-01</td>\n",
       "      <td>No</td>\n",
       "      <td>Two year</td>\n",
       "      <td>No</td>\n",
       "      <td>Mailed check</td>\n",
       "      <td>73.35</td>\n",
       "      <td>0.0</td>\n",
       "    </tr>\n",
       "    <tr>\n",
       "      <th>6754</th>\n",
       "      <td>2775-SEFEE</td>\n",
       "      <td>2020-02-01</td>\n",
       "      <td>No</td>\n",
       "      <td>Two year</td>\n",
       "      <td>Yes</td>\n",
       "      <td>Bank transfer (automatic)</td>\n",
       "      <td>61.90</td>\n",
       "      <td>0.0</td>\n",
       "    </tr>\n",
       "  </tbody>\n",
       "</table>\n",
       "</div>"
      ],
      "text/plain": [
       "      customerID  BeginDate EndDate      Type PaperlessBilling  \\\n",
       "488   4472-LVYGI 2020-02-01      No  Two year              Yes   \n",
       "753   3115-CZMZD 2020-02-01      No  Two year               No   \n",
       "936   5709-LVOEQ 2020-02-01      No  Two year               No   \n",
       "1082  4367-NUYAO 2020-02-01      No  Two year               No   \n",
       "1340  1371-DWPAZ 2020-02-01      No  Two year               No   \n",
       "3331  7644-OMVMY 2020-02-01      No  Two year               No   \n",
       "3826  3213-VVOLG 2020-02-01      No  Two year               No   \n",
       "4380  2520-SGTTA 2020-02-01      No  Two year               No   \n",
       "5218  2923-ARZLG 2020-02-01      No  One year              Yes   \n",
       "6670  4075-WKNIU 2020-02-01      No  Two year               No   \n",
       "6754  2775-SEFEE 2020-02-01      No  Two year              Yes   \n",
       "\n",
       "                  PaymentMethod  MonthlyCharges  TotalCharges  \n",
       "488   Bank transfer (automatic)           52.55           0.0  \n",
       "753                Mailed check           20.25           0.0  \n",
       "936                Mailed check           80.85           0.0  \n",
       "1082               Mailed check           25.75           0.0  \n",
       "1340    Credit card (automatic)           56.05           0.0  \n",
       "3331               Mailed check           19.85           0.0  \n",
       "3826               Mailed check           25.35           0.0  \n",
       "4380               Mailed check           20.00           0.0  \n",
       "5218               Mailed check           19.70           0.0  \n",
       "6670               Mailed check           73.35           0.0  \n",
       "6754  Bank transfer (automatic)           61.90           0.0  "
      ]
     },
     "execution_count": 20,
     "metadata": {},
     "output_type": "execute_result"
    }
   ],
   "source": [
    "# Посмотрим какие строки в TotalChrges у нас равны 0\n",
    "contract.loc[contract['TotalCharges'] == 0]"
   ]
  },
  {
   "cell_type": "markdown",
   "metadata": {},
   "source": [
    "Возможно данные по сумме потраченных средств за все время еще не обновились для этих строк, можно вычислить их. В типы договора указано, что абонент платит за 2 года сразу и в одной строке за 1, можно умножить месячные затраты на 24 и 12 соответственно."
   ]
  },
  {
   "cell_type": "code",
   "execution_count": 21,
   "metadata": {},
   "outputs": [
    {
     "data": {
      "text/plain": [
       "18.8"
      ]
     },
     "execution_count": 21,
     "metadata": {},
     "output_type": "execute_result"
    }
   ],
   "source": [
    "contract.loc[(contract['TotalCharges'] == 0) & (contract['Type'] == 'Two year'),\n",
    "             'TotalCharges'] = contract['MonthlyCharges'] * 24\n",
    "contract.loc[(contract['TotalCharges'] == 0) & (contract['Type'] == 'One year'),\n",
    "             'TotalCharges'] = contract['MonthlyCharges'] * 12\n",
    "contract['TotalCharges'].min()"
   ]
  },
  {
   "cell_type": "markdown",
   "metadata": {},
   "source": [
    "Теперь нулей нет."
   ]
  },
  {
   "cell_type": "code",
   "execution_count": 22,
   "metadata": {},
   "outputs": [
    {
     "data": {
      "image/png": "[encoded data removed]",
      "text/plain": [
       "<Figure size 432x288 with 1 Axes>"
      ]
     },
     "metadata": {
      "needs_background": "light"
     },
     "output_type": "display_data"
    }
   ],
   "source": [
    "# Проанализиреум признаки, начнем с MonthlyCharges и TotalCharges\n",
    "contract['MonthlyCharges'].plot(kind='hist', title='Траты в месяц');"
   ]
  },
  {
   "cell_type": "markdown",
   "metadata": {},
   "source": [
    "Средняя месячная плата находится в районе 20-30, так же есть всплески в районе 70-110. "
   ]
  },
  {
   "cell_type": "code",
   "execution_count": 23,
   "metadata": {},
   "outputs": [
    {
     "data": {
      "image/png": "[encoded data removed]",
      "text/plain": [
       "<Figure size 432x288 with 1 Axes>"
      ]
     },
     "metadata": {
      "needs_background": "light"
     },
     "output_type": "display_data"
    }
   ],
   "source": [
    "contract['TotalCharges'].plot(kind='hist', title='Всего потрачено', bins=50);"
   ]
  },
  {
   "cell_type": "code",
   "execution_count": 24,
   "metadata": {},
   "outputs": [
    {
     "data": {
      "image/png": "[encoded data removed]",
      "text/plain": [
       "<Figure size 432x288 with 1 Axes>"
      ]
     },
     "metadata": {
      "needs_background": "light"
     },
     "output_type": "display_data"
    }
   ],
   "source": [
    "# Уменьшим масштаб\n",
    "contract['TotalCharges'].plot(kind='hist', title='Всего потрачено', range=(0, 300));"
   ]
  },
  {
   "cell_type": "markdown",
   "metadata": {},
   "source": [
    "В среднем потраченные на услуги деньги находятся в промежутке от 15 до 700 и доходят до 9000."
   ]
  },
  {
   "cell_type": "markdown",
   "metadata": {},
   "source": [
    "Рассмотрим признаки Type, PaperlessBilling, PaymentMethod."
   ]
  },
  {
   "cell_type": "code",
   "execution_count": 25,
   "metadata": {},
   "outputs": [
    {
     "data": {
      "image/png": "[encoded data removed]",
      "text/plain": [
       "<Figure size 432x288 with 1 Axes>"
      ]
     },
     "metadata": {
      "needs_background": "light"
     },
     "output_type": "display_data"
    },
    {
     "data": {
      "image/png": "[encoded data removed]",
      "text/plain": [
       "<Figure size 432x288 with 1 Axes>"
      ]
     },
     "metadata": {
      "needs_background": "light"
     },
     "output_type": "display_data"
    },
    {
     "data": {
      "image/png": "[encoded data removed]",
      "text/plain": [
       "<Figure size 432x288 with 1 Axes>"
      ]
     },
     "metadata": {
      "needs_background": "light"
     },
     "output_type": "display_data"
    }
   ],
   "source": [
    "col = ['Type', 'PaperlessBilling', 'PaymentMethod'] # создадим список с названиями признаков\n",
    "# для построения графиков для каждого через цикл\n",
    "# создадим функцию для постройки графиков\n",
    "def plots(df, collom):\n",
    "    for i in collom:\n",
    "        df.pivot_table(index=i, values='customerID', aggfunc='count').plot(kind='bar', title=i)\n",
    "plots(contract, col)"
   ]
  },
  {
   "cell_type": "markdown",
   "metadata": {},
   "source": [
    "Большинство предпочитает платить за услуги каждый месяц, оплата сразу за 2 года немного перегоняет оплату за 1 год. Большее количество клиентов предпочитает получать чеки на электронную почту. Самый популярный способ оплаты - электронный чек, остальные методы - банковский перевод, кредитнаяя карта и почтовый чек распологаются на одном уровне популярности."
   ]
  },
  {
   "cell_type": "markdown",
   "metadata": {},
   "source": [
    "Рассмотрим графики для таблицы с персональными данными."
   ]
  },
  {
   "cell_type": "code",
   "execution_count": 26,
   "metadata": {},
   "outputs": [
    {
     "data": {
      "image/png": "[encoded data removed]",
      "text/plain": [
       "<Figure size 432x288 with 1 Axes>"
      ]
     },
     "metadata": {
      "needs_background": "light"
     },
     "output_type": "display_data"
    },
    {
     "data": {
      "image/png": "[encoded data removed]",
      "text/plain": [
       "<Figure size 432x288 with 1 Axes>"
      ]
     },
     "metadata": {
      "needs_background": "light"
     },
     "output_type": "display_data"
    },
    {
     "data": {
      "image/png": "[encoded data removed]",
      "text/plain": [
       "<Figure size 432x288 with 1 Axes>"
      ]
     },
     "metadata": {
      "needs_background": "light"
     },
     "output_type": "display_data"
    },
    {
     "data": {
      "image/png": "[encoded data removed]",
      "text/plain": [
       "<Figure size 432x288 with 1 Axes>"
      ]
     },
     "metadata": {
      "needs_background": "light"
     },
     "output_type": "display_data"
    }
   ],
   "source": [
    "col = ['gender', 'SeniorCitizen', 'Partner', 'Dependents']\n",
    "plots(personal, col)"
   ]
  },
  {
   "cell_type": "markdown",
   "metadata": {},
   "source": [
    "В нашей выборке одинаково количество мужчин и женщин, пенсионеров всего около 1200, замужние пользуются услугами на равне с холостымим, иждевенцы есть примерно у 2000 пользователей."
   ]
  },
  {
   "cell_type": "markdown",
   "metadata": {},
   "source": [
    "Рассмотрим признаки из датафрейма с интренет услугами."
   ]
  },
  {
   "cell_type": "code",
   "execution_count": 27,
   "metadata": {},
   "outputs": [
    {
     "data": {
      "image/png": "[encoded data removed]",
      "text/plain": [
       "<Figure size 432x288 with 1 Axes>"
      ]
     },
     "metadata": {
      "needs_background": "light"
     },
     "output_type": "display_data"
    },
    {
     "data": {
      "image/png": "[encoded data removed]",
      "text/plain": [
       "<Figure size 432x288 with 1 Axes>"
      ]
     },
     "metadata": {
      "needs_background": "light"
     },
     "output_type": "display_data"
    },
    {
     "data": {
      "image/png": "[encoded data removed]",
      "text/plain": [
       "<Figure size 432x288 with 1 Axes>"
      ]
     },
     "metadata": {
      "needs_background": "light"
     },
     "output_type": "display_data"
    },
    {
     "data": {
      "image/png": "[encoded data removed]",
      "text/plain": [
       "<Figure size 432x288 with 1 Axes>"
      ]
     },
     "metadata": {
      "needs_background": "light"
     },
     "output_type": "display_data"
    },
    {
     "data": {
      "image/png": "[encoded data removed]",
      "text/plain": [
       "<Figure size 432x288 with 1 Axes>"
      ]
     },
     "metadata": {
      "needs_background": "light"
     },
     "output_type": "display_data"
    },
    {
     "data": {
      "image/png": "[encoded data removed]",
      "text/plain": [
       "<Figure size 432x288 with 1 Axes>"
      ]
     },
     "metadata": {
      "needs_background": "light"
     },
     "output_type": "display_data"
    },
    {
     "data": {
      "image/png": "[encoded data removed]",
      "text/plain": [
       "<Figure size 432x288 with 1 Axes>"
      ]
     },
     "metadata": {
      "needs_background": "light"
     },
     "output_type": "display_data"
    }
   ],
   "source": [
    "col = ['InternetService', 'OnlineSecurity', 'OnlineBackup', 'DeviceProtection', 'TechSupport',\n",
    "       'StreamingTV', 'StreamingMovies']\n",
    "plots(internet, col)"
   ]
  },
  {
   "cell_type": "markdown",
   "metadata": {},
   "source": [
    "Сервис DSL немного отстает от сервиса Fiber optic по количеству пользователей, блокировка небезопасных сайтов есть у 2000 клиентов, облачным хранилищем пользуются почти 2500 тысяячи пользователей, антивирусом пользуются так же около 2500 человек, выделенной линией технической поддержки пользуется 2000 юзеров, стриминговым тв пользуется половина пользователейй подключивших интернет, так же и со каталогом стриминговых фильмов."
   ]
  },
  {
   "cell_type": "markdown",
   "metadata": {},
   "source": [
    "Теперь узнаем о наличии возможности ведения параллельных линий во время звонка."
   ]
  },
  {
   "cell_type": "code",
   "execution_count": 28,
   "metadata": {},
   "outputs": [
    {
     "data": {
      "image/png": "[encoded data removed]",
      "text/plain": [
       "<Figure size 432x288 with 1 Axes>"
      ]
     },
     "metadata": {
      "needs_background": "light"
     },
     "output_type": "display_data"
    }
   ],
   "source": [
    "col = ['MultipleLines']\n",
    "plots(phone, col)"
   ]
  },
  {
   "cell_type": "markdown",
   "metadata": {},
   "source": [
    "3000 пользователей пользуются ведением параллельных линий во время звонка."
   ]
  },
  {
   "cell_type": "markdown",
   "metadata": {},
   "source": [
    "Соединим наши датафреймы."
   ]
  },
  {
   "cell_type": "code",
   "execution_count": 29,
   "metadata": {},
   "outputs": [],
   "source": [
    "df = 0"
   ]
  },
  {
   "cell_type": "code",
   "execution_count": 30,
   "metadata": {},
   "outputs": [
    {
     "name": "stdout",
     "output_type": "stream",
     "text": [
      "<class 'pandas.core.frame.DataFrame'>\n",
      "Int64Index: 7043 entries, 0 to 7042\n",
      "Data columns (total 20 columns):\n",
      " #   Column            Non-Null Count  Dtype         \n",
      "---  ------            --------------  -----         \n",
      " 0   customerID        7043 non-null   object        \n",
      " 1   BeginDate         7043 non-null   datetime64[ns]\n",
      " 2   EndDate           7043 non-null   object        \n",
      " 3   Type              7043 non-null   object        \n",
      " 4   PaperlessBilling  7043 non-null   object        \n",
      " 5   PaymentMethod     7043 non-null   object        \n",
      " 6   MonthlyCharges    7043 non-null   float64       \n",
      " 7   TotalCharges      7043 non-null   float64       \n",
      " 8   gender            7043 non-null   object        \n",
      " 9   SeniorCitizen     7043 non-null   int64         \n",
      " 10  Partner           7043 non-null   object        \n",
      " 11  Dependents        7043 non-null   object        \n",
      " 12  InternetService   5517 non-null   object        \n",
      " 13  OnlineSecurity    5517 non-null   object        \n",
      " 14  OnlineBackup      5517 non-null   object        \n",
      " 15  DeviceProtection  5517 non-null   object        \n",
      " 16  TechSupport       5517 non-null   object        \n",
      " 17  StreamingTV       5517 non-null   object        \n",
      " 18  StreamingMovies   5517 non-null   object        \n",
      " 19  MultipleLines     6361 non-null   object        \n",
      "dtypes: datetime64[ns](1), float64(2), int64(1), object(16)\n",
      "memory usage: 1.1+ MB\n"
     ]
    }
   ],
   "source": [
    "# Воспользуемся merge для левого присоединения к таблице contract\n",
    "df = contract.merge(personal, on='customerID', how='left') \n",
    "df = df.merge(internet, on='customerID', how='left')\n",
    "df = df.merge(phone, on='customerID', how='left')\n",
    "df.info()"
   ]
  },
  {
   "cell_type": "code",
   "execution_count": 31,
   "metadata": {},
   "outputs": [
    {
     "data": {
      "text/html": [
       "<div>\n",
       "<style scoped>\n",
       "    .dataframe tbody tr th:only-of-type {\n",
       "        vertical-align: middle;\n",
       "    }\n",
       "\n",
       "    .dataframe tbody tr th {\n",
       "        vertical-align: top;\n",
       "    }\n",
       "\n",
       "    .dataframe thead th {\n",
       "        text-align: right;\n",
       "    }\n",
       "</style>\n",
       "<table border=\"1\" class=\"dataframe\">\n",
       "  <thead>\n",
       "    <tr style=\"text-align: right;\">\n",
       "      <th></th>\n",
       "      <th>customerID</th>\n",
       "      <th>BeginDate</th>\n",
       "      <th>EndDate</th>\n",
       "      <th>Type</th>\n",
       "      <th>PaperlessBilling</th>\n",
       "      <th>PaymentMethod</th>\n",
       "      <th>MonthlyCharges</th>\n",
       "      <th>TotalCharges</th>\n",
       "      <th>gender</th>\n",
       "      <th>SeniorCitizen</th>\n",
       "      <th>Partner</th>\n",
       "      <th>Dependents</th>\n",
       "      <th>InternetService</th>\n",
       "      <th>OnlineSecurity</th>\n",
       "      <th>OnlineBackup</th>\n",
       "      <th>DeviceProtection</th>\n",
       "      <th>TechSupport</th>\n",
       "      <th>StreamingTV</th>\n",
       "      <th>StreamingMovies</th>\n",
       "      <th>MultipleLines</th>\n",
       "    </tr>\n",
       "  </thead>\n",
       "  <tbody>\n",
       "    <tr>\n",
       "      <th>0</th>\n",
       "      <td>7590-VHVEG</td>\n",
       "      <td>2020-01-01</td>\n",
       "      <td>No</td>\n",
       "      <td>Month-to-month</td>\n",
       "      <td>Yes</td>\n",
       "      <td>Electronic check</td>\n",
       "      <td>29.85</td>\n",
       "      <td>29.85</td>\n",
       "      <td>Female</td>\n",
       "      <td>0</td>\n",
       "      <td>Yes</td>\n",
       "      <td>No</td>\n",
       "      <td>DSL</td>\n",
       "      <td>No</td>\n",
       "      <td>Yes</td>\n",
       "      <td>No</td>\n",
       "      <td>No</td>\n",
       "      <td>No</td>\n",
       "      <td>No</td>\n",
       "      <td>NaN</td>\n",
       "    </tr>\n",
       "    <tr>\n",
       "      <th>1</th>\n",
       "      <td>5575-GNVDE</td>\n",
       "      <td>2017-04-01</td>\n",
       "      <td>No</td>\n",
       "      <td>One year</td>\n",
       "      <td>No</td>\n",
       "      <td>Mailed check</td>\n",
       "      <td>56.95</td>\n",
       "      <td>1889.50</td>\n",
       "      <td>Male</td>\n",
       "      <td>0</td>\n",
       "      <td>No</td>\n",
       "      <td>No</td>\n",
       "      <td>DSL</td>\n",
       "      <td>Yes</td>\n",
       "      <td>No</td>\n",
       "      <td>Yes</td>\n",
       "      <td>No</td>\n",
       "      <td>No</td>\n",
       "      <td>No</td>\n",
       "      <td>No</td>\n",
       "    </tr>\n",
       "    <tr>\n",
       "      <th>2</th>\n",
       "      <td>3668-QPYBK</td>\n",
       "      <td>2019-10-01</td>\n",
       "      <td>2019-12-01 00:00:00</td>\n",
       "      <td>Month-to-month</td>\n",
       "      <td>Yes</td>\n",
       "      <td>Mailed check</td>\n",
       "      <td>53.85</td>\n",
       "      <td>108.15</td>\n",
       "      <td>Male</td>\n",
       "      <td>0</td>\n",
       "      <td>No</td>\n",
       "      <td>No</td>\n",
       "      <td>DSL</td>\n",
       "      <td>Yes</td>\n",
       "      <td>Yes</td>\n",
       "      <td>No</td>\n",
       "      <td>No</td>\n",
       "      <td>No</td>\n",
       "      <td>No</td>\n",
       "      <td>No</td>\n",
       "    </tr>\n",
       "    <tr>\n",
       "      <th>3</th>\n",
       "      <td>7795-CFOCW</td>\n",
       "      <td>2016-05-01</td>\n",
       "      <td>No</td>\n",
       "      <td>One year</td>\n",
       "      <td>No</td>\n",
       "      <td>Bank transfer (automatic)</td>\n",
       "      <td>42.30</td>\n",
       "      <td>1840.75</td>\n",
       "      <td>Male</td>\n",
       "      <td>0</td>\n",
       "      <td>No</td>\n",
       "      <td>No</td>\n",
       "      <td>DSL</td>\n",
       "      <td>Yes</td>\n",
       "      <td>No</td>\n",
       "      <td>Yes</td>\n",
       "      <td>Yes</td>\n",
       "      <td>No</td>\n",
       "      <td>No</td>\n",
       "      <td>NaN</td>\n",
       "    </tr>\n",
       "    <tr>\n",
       "      <th>4</th>\n",
       "      <td>9237-HQITU</td>\n",
       "      <td>2019-09-01</td>\n",
       "      <td>2019-11-01 00:00:00</td>\n",
       "      <td>Month-to-month</td>\n",
       "      <td>Yes</td>\n",
       "      <td>Electronic check</td>\n",
       "      <td>70.70</td>\n",
       "      <td>151.65</td>\n",
       "      <td>Female</td>\n",
       "      <td>0</td>\n",
       "      <td>No</td>\n",
       "      <td>No</td>\n",
       "      <td>Fiber optic</td>\n",
       "      <td>No</td>\n",
       "      <td>No</td>\n",
       "      <td>No</td>\n",
       "      <td>No</td>\n",
       "      <td>No</td>\n",
       "      <td>No</td>\n",
       "      <td>No</td>\n",
       "    </tr>\n",
       "  </tbody>\n",
       "</table>\n",
       "</div>"
      ],
      "text/plain": [
       "   customerID  BeginDate              EndDate            Type  \\\n",
       "0  7590-VHVEG 2020-01-01                   No  Month-to-month   \n",
       "1  5575-GNVDE 2017-04-01                   No        One year   \n",
       "2  3668-QPYBK 2019-10-01  2019-12-01 00:00:00  Month-to-month   \n",
       "3  7795-CFOCW 2016-05-01                   No        One year   \n",
       "4  9237-HQITU 2019-09-01  2019-11-01 00:00:00  Month-to-month   \n",
       "\n",
       "  PaperlessBilling              PaymentMethod  MonthlyCharges  TotalCharges  \\\n",
       "0              Yes           Electronic check           29.85         29.85   \n",
       "1               No               Mailed check           56.95       1889.50   \n",
       "2              Yes               Mailed check           53.85        108.15   \n",
       "3               No  Bank transfer (automatic)           42.30       1840.75   \n",
       "4              Yes           Electronic check           70.70        151.65   \n",
       "\n",
       "   gender  SeniorCitizen Partner Dependents InternetService OnlineSecurity  \\\n",
       "0  Female              0     Yes         No             DSL             No   \n",
       "1    Male              0      No         No             DSL            Yes   \n",
       "2    Male              0      No         No             DSL            Yes   \n",
       "3    Male              0      No         No             DSL            Yes   \n",
       "4  Female              0      No         No     Fiber optic             No   \n",
       "\n",
       "  OnlineBackup DeviceProtection TechSupport StreamingTV StreamingMovies  \\\n",
       "0          Yes               No          No          No              No   \n",
       "1           No              Yes          No          No              No   \n",
       "2          Yes               No          No          No              No   \n",
       "3           No              Yes         Yes          No              No   \n",
       "4           No               No          No          No              No   \n",
       "\n",
       "  MultipleLines  \n",
       "0           NaN  \n",
       "1            No  \n",
       "2            No  \n",
       "3           NaN  \n",
       "4            No  "
      ]
     },
     "execution_count": 31,
     "metadata": {},
     "output_type": "execute_result"
    }
   ],
   "source": [
    "df.head()"
   ]
  },
  {
   "cell_type": "code",
   "execution_count": 32,
   "metadata": {},
   "outputs": [
    {
     "name": "stdout",
     "output_type": "stream",
     "text": [
      "<class 'pandas.core.frame.DataFrame'>\n",
      "Int64Index: 7043 entries, 0 to 7042\n",
      "Data columns (total 20 columns):\n",
      " #   Column            Non-Null Count  Dtype         \n",
      "---  ------            --------------  -----         \n",
      " 0   customerID        7043 non-null   object        \n",
      " 1   BeginDate         7043 non-null   datetime64[ns]\n",
      " 2   EndDate           7043 non-null   object        \n",
      " 3   Type              7043 non-null   object        \n",
      " 4   PaperlessBilling  7043 non-null   object        \n",
      " 5   PaymentMethod     7043 non-null   object        \n",
      " 6   MonthlyCharges    7043 non-null   float64       \n",
      " 7   TotalCharges      7043 non-null   float64       \n",
      " 8   gender            7043 non-null   object        \n",
      " 9   SeniorCitizen     7043 non-null   int64         \n",
      " 10  Partner           7043 non-null   object        \n",
      " 11  Dependents        7043 non-null   object        \n",
      " 12  InternetService   7043 non-null   object        \n",
      " 13  OnlineSecurity    7043 non-null   object        \n",
      " 14  OnlineBackup      7043 non-null   object        \n",
      " 15  DeviceProtection  7043 non-null   object        \n",
      " 16  TechSupport       7043 non-null   object        \n",
      " 17  StreamingTV       7043 non-null   object        \n",
      " 18  StreamingMovies   7043 non-null   object        \n",
      " 19  MultipleLines     7043 non-null   object        \n",
      "dtypes: datetime64[ns](1), float64(2), int64(1), object(16)\n",
      "memory usage: 1.1+ MB\n"
     ]
    }
   ],
   "source": [
    "# Заменим все пропуски на 'No'\n",
    "df = df.fillna('No')\n",
    "df.info()"
   ]
  },
  {
   "cell_type": "code",
   "execution_count": 33,
   "metadata": {},
   "outputs": [
    {
     "data": {
      "text/html": [
       "<div>\n",
       "<style scoped>\n",
       "    .dataframe tbody tr th:only-of-type {\n",
       "        vertical-align: middle;\n",
       "    }\n",
       "\n",
       "    .dataframe tbody tr th {\n",
       "        vertical-align: top;\n",
       "    }\n",
       "\n",
       "    .dataframe thead th {\n",
       "        text-align: right;\n",
       "    }\n",
       "</style>\n",
       "<table border=\"1\" class=\"dataframe\">\n",
       "  <thead>\n",
       "    <tr style=\"text-align: right;\">\n",
       "      <th></th>\n",
       "      <th>customerID</th>\n",
       "      <th>BeginDate</th>\n",
       "      <th>EndDate</th>\n",
       "      <th>Type</th>\n",
       "      <th>PaperlessBilling</th>\n",
       "      <th>PaymentMethod</th>\n",
       "      <th>MonthlyCharges</th>\n",
       "      <th>TotalCharges</th>\n",
       "      <th>gender</th>\n",
       "      <th>SeniorCitizen</th>\n",
       "      <th>Partner</th>\n",
       "      <th>Dependents</th>\n",
       "      <th>InternetService</th>\n",
       "      <th>OnlineSecurity</th>\n",
       "      <th>OnlineBackup</th>\n",
       "      <th>DeviceProtection</th>\n",
       "      <th>TechSupport</th>\n",
       "      <th>StreamingTV</th>\n",
       "      <th>StreamingMovies</th>\n",
       "      <th>MultipleLines</th>\n",
       "    </tr>\n",
       "  </thead>\n",
       "  <tbody>\n",
       "    <tr>\n",
       "      <th>0</th>\n",
       "      <td>7590-VHVEG</td>\n",
       "      <td>2020-01-01</td>\n",
       "      <td>No</td>\n",
       "      <td>Month-to-month</td>\n",
       "      <td>Yes</td>\n",
       "      <td>Electronic check</td>\n",
       "      <td>29.85</td>\n",
       "      <td>29.85</td>\n",
       "      <td>Female</td>\n",
       "      <td>0</td>\n",
       "      <td>Yes</td>\n",
       "      <td>No</td>\n",
       "      <td>DSL</td>\n",
       "      <td>No</td>\n",
       "      <td>Yes</td>\n",
       "      <td>No</td>\n",
       "      <td>No</td>\n",
       "      <td>No</td>\n",
       "      <td>No</td>\n",
       "      <td>No</td>\n",
       "    </tr>\n",
       "    <tr>\n",
       "      <th>1</th>\n",
       "      <td>5575-GNVDE</td>\n",
       "      <td>2017-04-01</td>\n",
       "      <td>No</td>\n",
       "      <td>One year</td>\n",
       "      <td>No</td>\n",
       "      <td>Mailed check</td>\n",
       "      <td>56.95</td>\n",
       "      <td>1889.50</td>\n",
       "      <td>Male</td>\n",
       "      <td>0</td>\n",
       "      <td>No</td>\n",
       "      <td>No</td>\n",
       "      <td>DSL</td>\n",
       "      <td>Yes</td>\n",
       "      <td>No</td>\n",
       "      <td>Yes</td>\n",
       "      <td>No</td>\n",
       "      <td>No</td>\n",
       "      <td>No</td>\n",
       "      <td>No</td>\n",
       "    </tr>\n",
       "    <tr>\n",
       "      <th>2</th>\n",
       "      <td>3668-QPYBK</td>\n",
       "      <td>2019-10-01</td>\n",
       "      <td>2019-12-01 00:00:00</td>\n",
       "      <td>Month-to-month</td>\n",
       "      <td>Yes</td>\n",
       "      <td>Mailed check</td>\n",
       "      <td>53.85</td>\n",
       "      <td>108.15</td>\n",
       "      <td>Male</td>\n",
       "      <td>0</td>\n",
       "      <td>No</td>\n",
       "      <td>No</td>\n",
       "      <td>DSL</td>\n",
       "      <td>Yes</td>\n",
       "      <td>Yes</td>\n",
       "      <td>No</td>\n",
       "      <td>No</td>\n",
       "      <td>No</td>\n",
       "      <td>No</td>\n",
       "      <td>No</td>\n",
       "    </tr>\n",
       "    <tr>\n",
       "      <th>3</th>\n",
       "      <td>7795-CFOCW</td>\n",
       "      <td>2016-05-01</td>\n",
       "      <td>No</td>\n",
       "      <td>One year</td>\n",
       "      <td>No</td>\n",
       "      <td>Bank transfer (automatic)</td>\n",
       "      <td>42.30</td>\n",
       "      <td>1840.75</td>\n",
       "      <td>Male</td>\n",
       "      <td>0</td>\n",
       "      <td>No</td>\n",
       "      <td>No</td>\n",
       "      <td>DSL</td>\n",
       "      <td>Yes</td>\n",
       "      <td>No</td>\n",
       "      <td>Yes</td>\n",
       "      <td>Yes</td>\n",
       "      <td>No</td>\n",
       "      <td>No</td>\n",
       "      <td>No</td>\n",
       "    </tr>\n",
       "    <tr>\n",
       "      <th>4</th>\n",
       "      <td>9237-HQITU</td>\n",
       "      <td>2019-09-01</td>\n",
       "      <td>2019-11-01 00:00:00</td>\n",
       "      <td>Month-to-month</td>\n",
       "      <td>Yes</td>\n",
       "      <td>Electronic check</td>\n",
       "      <td>70.70</td>\n",
       "      <td>151.65</td>\n",
       "      <td>Female</td>\n",
       "      <td>0</td>\n",
       "      <td>No</td>\n",
       "      <td>No</td>\n",
       "      <td>Fiber optic</td>\n",
       "      <td>No</td>\n",
       "      <td>No</td>\n",
       "      <td>No</td>\n",
       "      <td>No</td>\n",
       "      <td>No</td>\n",
       "      <td>No</td>\n",
       "      <td>No</td>\n",
       "    </tr>\n",
       "  </tbody>\n",
       "</table>\n",
       "</div>"
      ],
      "text/plain": [
       "   customerID  BeginDate              EndDate            Type  \\\n",
       "0  7590-VHVEG 2020-01-01                   No  Month-to-month   \n",
       "1  5575-GNVDE 2017-04-01                   No        One year   \n",
       "2  3668-QPYBK 2019-10-01  2019-12-01 00:00:00  Month-to-month   \n",
       "3  7795-CFOCW 2016-05-01                   No        One year   \n",
       "4  9237-HQITU 2019-09-01  2019-11-01 00:00:00  Month-to-month   \n",
       "\n",
       "  PaperlessBilling              PaymentMethod  MonthlyCharges  TotalCharges  \\\n",
       "0              Yes           Electronic check           29.85         29.85   \n",
       "1               No               Mailed check           56.95       1889.50   \n",
       "2              Yes               Mailed check           53.85        108.15   \n",
       "3               No  Bank transfer (automatic)           42.30       1840.75   \n",
       "4              Yes           Electronic check           70.70        151.65   \n",
       "\n",
       "   gender  SeniorCitizen Partner Dependents InternetService OnlineSecurity  \\\n",
       "0  Female              0     Yes         No             DSL             No   \n",
       "1    Male              0      No         No             DSL            Yes   \n",
       "2    Male              0      No         No             DSL            Yes   \n",
       "3    Male              0      No         No             DSL            Yes   \n",
       "4  Female              0      No         No     Fiber optic             No   \n",
       "\n",
       "  OnlineBackup DeviceProtection TechSupport StreamingTV StreamingMovies  \\\n",
       "0          Yes               No          No          No              No   \n",
       "1           No              Yes          No          No              No   \n",
       "2          Yes               No          No          No              No   \n",
       "3           No              Yes         Yes          No              No   \n",
       "4           No               No          No          No              No   \n",
       "\n",
       "  MultipleLines  \n",
       "0            No  \n",
       "1            No  \n",
       "2            No  \n",
       "3            No  \n",
       "4            No  "
      ]
     },
     "execution_count": 33,
     "metadata": {},
     "output_type": "execute_result"
    }
   ],
   "source": [
    "df.head()"
   ]
  },
  {
   "cell_type": "markdown",
   "metadata": {},
   "source": [
    "Присоединение прошло успешно, данные не потеряны."
   ]
  },
  {
   "cell_type": "markdown",
   "metadata": {},
   "source": [
    "Рассмотрим категориальные признаки относящиеся к интернету и телефонии после присоединения."
   ]
  },
  {
   "cell_type": "code",
   "execution_count": 34,
   "metadata": {},
   "outputs": [
    {
     "data": {
      "image/png": "[encoded data removed]",
      "text/plain": [
       "<Figure size 432x288 with 1 Axes>"
      ]
     },
     "metadata": {
      "needs_background": "light"
     },
     "output_type": "display_data"
    },
    {
     "data": {
      "image/png": "[encoded data removed]",
      "text/plain": [
       "<Figure size 432x288 with 1 Axes>"
      ]
     },
     "metadata": {
      "needs_background": "light"
     },
     "output_type": "display_data"
    },
    {
     "data": {
      "image/png": "[encoded data removed]",
      "text/plain": [
       "<Figure size 432x288 with 1 Axes>"
      ]
     },
     "metadata": {
      "needs_background": "light"
     },
     "output_type": "display_data"
    },
    {
     "data": {
      "image/png": "[encoded data removed]",
      "text/plain": [
       "<Figure size 432x288 with 1 Axes>"
      ]
     },
     "metadata": {
      "needs_background": "light"
     },
     "output_type": "display_data"
    },
    {
     "data": {
      "image/png": "[encoded data removed]",
      "text/plain": [
       "<Figure size 432x288 with 1 Axes>"
      ]
     },
     "metadata": {
      "needs_background": "light"
     },
     "output_type": "display_data"
    },
    {
     "data": {
      "image/png": "[encoded data removed]",
      "text/plain": [
       "<Figure size 432x288 with 1 Axes>"
      ]
     },
     "metadata": {
      "needs_background": "light"
     },
     "output_type": "display_data"
    },
    {
     "data": {
      "image/png": "[encoded data removed]",
      "text/plain": [
       "<Figure size 432x288 with 1 Axes>"
      ]
     },
     "metadata": {
      "needs_background": "light"
     },
     "output_type": "display_data"
    },
    {
     "data": {
      "image/png": "[encoded data removed]",
      "text/plain": [
       "<Figure size 432x288 with 1 Axes>"
      ]
     },
     "metadata": {
      "needs_background": "light"
     },
     "output_type": "display_data"
    }
   ],
   "source": [
    "col = ['InternetService', 'OnlineSecurity', 'OnlineBackup', 'DeviceProtection', 'TechSupport',\n",
    "       'StreamingTV', 'StreamingMovies', 'MultipleLines']\n",
    "plots(df, col)"
   ]
  },
  {
   "cell_type": "markdown",
   "metadata": {},
   "source": [
    "Теперь мы видим, что количество людей, которые пользуются какими либо функциями, везде меньше тех, кто ими не пользуется. Самая малопопулярная функция - OnlineSecurity, а самая популярная - MultipleLines."
   ]
  },
  {
   "cell_type": "markdown",
   "metadata": {},
   "source": [
    "Создадим целевой признак c помощью столбца EndDate."
   ]
  },
  {
   "cell_type": "code",
   "execution_count": 35,
   "metadata": {},
   "outputs": [
    {
     "data": {
      "text/plain": [
       "0    0\n",
       "1    0\n",
       "2    1\n",
       "3    0\n",
       "4    1\n",
       "Name: target, dtype: int64"
      ]
     },
     "execution_count": 35,
     "metadata": {},
     "output_type": "execute_result"
    }
   ],
   "source": [
    "df['target'] = 0\n",
    "df.loc[df['EndDate'] != 'No', 'target'] = 1\n",
    "df['target'].head()"
   ]
  },
  {
   "cell_type": "markdown",
   "metadata": {},
   "source": [
    "Создадим так же столбец со временем пользования услугами"
   ]
  },
  {
   "cell_type": "code",
   "execution_count": 36,
   "metadata": {},
   "outputs": [
    {
     "data": {
      "text/plain": [
       "0         31.0\n",
       "1       1036.0\n",
       "2         61.0\n",
       "3       1371.0\n",
       "4         61.0\n",
       "         ...  \n",
       "7038     730.0\n",
       "7039    2191.0\n",
       "7040     337.0\n",
       "7041     123.0\n",
       "7042    2010.0\n",
       "Name: diff_days, Length: 7043, dtype: float64"
      ]
     },
     "execution_count": 36,
     "metadata": {},
     "output_type": "execute_result"
    }
   ],
   "source": [
    "# Заменим 'No' в EndDate последней датой из столбца BeginDate, будет считать его за последний день перед выгрузкой данных\n",
    "a = df['BeginDate'].max()\n",
    "df.loc[df['EndDate'] == 'No', 'EndDate'] = a\n",
    "# Поменяем тип признака EndDate \n",
    "df['EndDate'] = pd.to_datetime(df['EndDate'], format='%Y-%m-%d')\n",
    "df['diff_days'] =(df['EndDate'] - df['BeginDate']) / np.timedelta64 ( 1 , 'D')\n",
    "df['diff_days']"
   ]
  },
  {
   "cell_type": "markdown",
   "metadata": {},
   "source": [
    "Теперь признаки с началом и концом пользования услугами можно удалить, так же id пользователей больше не пригодятся."
   ]
  },
  {
   "cell_type": "code",
   "execution_count": 37,
   "metadata": {},
   "outputs": [
    {
     "name": "stdout",
     "output_type": "stream",
     "text": [
      "<class 'pandas.core.frame.DataFrame'>\n",
      "Int64Index: 7043 entries, 0 to 7042\n",
      "Data columns (total 19 columns):\n",
      " #   Column            Non-Null Count  Dtype  \n",
      "---  ------            --------------  -----  \n",
      " 0   Type              7043 non-null   object \n",
      " 1   PaperlessBilling  7043 non-null   object \n",
      " 2   PaymentMethod     7043 non-null   object \n",
      " 3   MonthlyCharges    7043 non-null   float64\n",
      " 4   TotalCharges      7043 non-null   float64\n",
      " 5   gender            7043 non-null   object \n",
      " 6   SeniorCitizen     7043 non-null   int64  \n",
      " 7   Partner           7043 non-null   object \n",
      " 8   Dependents        7043 non-null   object \n",
      " 9   InternetService   7043 non-null   object \n",
      " 10  OnlineSecurity    7043 non-null   object \n",
      " 11  OnlineBackup      7043 non-null   object \n",
      " 12  DeviceProtection  7043 non-null   object \n",
      " 13  TechSupport       7043 non-null   object \n",
      " 14  StreamingTV       7043 non-null   object \n",
      " 15  StreamingMovies   7043 non-null   object \n",
      " 16  MultipleLines     7043 non-null   object \n",
      " 17  target            7043 non-null   int64  \n",
      " 18  diff_days         7043 non-null   float64\n",
      "dtypes: float64(3), int64(2), object(14)\n",
      "memory usage: 1.1+ MB\n"
     ]
    }
   ],
   "source": [
    "df = df.drop(['EndDate', 'BeginDate', 'customerID'], axis=1)\n",
    "df.info()"
   ]
  },
  {
   "cell_type": "markdown",
   "metadata": {},
   "source": [
    "Проверим признаки на мультиколлинеарность."
   ]
  },
  {
   "cell_type": "code",
   "execution_count": 38,
   "metadata": {},
   "outputs": [
    {
     "data": {
      "image/png": "[encoded data removed]",
      "text/plain": [
       "<Figure size 960x800 with 2 Axes>"
      ]
     },
     "metadata": {
      "needs_background": "light"
     },
     "output_type": "display_data"
    }
   ],
   "source": [
    "# Начнем с численных признаков\n",
    "cor = df[['MonthlyCharges', 'TotalCharges', 'diff_days']].corr()\n",
    "plt.figure(figsize=(12,10), dpi= 80)\n",
    "sns.heatmap(cor, xticklabels=cor.columns, yticklabels=cor.columns, cmap='RdYlGn', center=0, annot=True)\n",
    "plt.title('Корреляция численных признаков', fontsize=22)\n",
    "plt.xticks(fontsize=12)\n",
    "plt.yticks(fontsize=12)\n",
    "plt.show()"
   ]
  },
  {
   "cell_type": "markdown",
   "metadata": {},
   "source": [
    "Самая большая корреляция есть между временем пользования услугами и общими затратами - чем больше вложено средств, тем больше время пользования услугами; далее идет корреляция между месячной оплатой и общими затратами, после чего незначительная корреляцция между месячными выплатами и временем пользования."
   ]
  },
  {
   "cell_type": "markdown",
   "metadata": {},
   "source": [
    "Построим матрицу корреляции для катеегориальных признаков с помощью Cramer's V"
   ]
  },
  {
   "cell_type": "code",
   "execution_count": 39,
   "metadata": {},
   "outputs": [
    {
     "data": {
      "text/html": [
       "<div>\n",
       "<style scoped>\n",
       "    .dataframe tbody tr th:only-of-type {\n",
       "        vertical-align: middle;\n",
       "    }\n",
       "\n",
       "    .dataframe tbody tr th {\n",
       "        vertical-align: top;\n",
       "    }\n",
       "\n",
       "    .dataframe thead th {\n",
       "        text-align: right;\n",
       "    }\n",
       "</style>\n",
       "<table border=\"1\" class=\"dataframe\">\n",
       "  <thead>\n",
       "    <tr style=\"text-align: right;\">\n",
       "      <th></th>\n",
       "      <th>Type</th>\n",
       "      <th>PaperlessBilling</th>\n",
       "      <th>PaymentMethod</th>\n",
       "      <th>gender</th>\n",
       "      <th>SeniorCitizen</th>\n",
       "      <th>Partner</th>\n",
       "      <th>Dependents</th>\n",
       "      <th>InternetService</th>\n",
       "      <th>OnlineSecurity</th>\n",
       "      <th>OnlineBackup</th>\n",
       "      <th>DeviceProtection</th>\n",
       "      <th>TechSupport</th>\n",
       "      <th>StreamingTV</th>\n",
       "      <th>StreamingMovies</th>\n",
       "      <th>MultipleLines</th>\n",
       "      <th>target</th>\n",
       "    </tr>\n",
       "  </thead>\n",
       "  <tbody>\n",
       "    <tr>\n",
       "      <th>0</th>\n",
       "      <td>0</td>\n",
       "      <td>1</td>\n",
       "      <td>2</td>\n",
       "      <td>0</td>\n",
       "      <td>0</td>\n",
       "      <td>1</td>\n",
       "      <td>0</td>\n",
       "      <td>0</td>\n",
       "      <td>0</td>\n",
       "      <td>1</td>\n",
       "      <td>0</td>\n",
       "      <td>0</td>\n",
       "      <td>0</td>\n",
       "      <td>0</td>\n",
       "      <td>0</td>\n",
       "      <td>0</td>\n",
       "    </tr>\n",
       "    <tr>\n",
       "      <th>1</th>\n",
       "      <td>1</td>\n",
       "      <td>0</td>\n",
       "      <td>3</td>\n",
       "      <td>1</td>\n",
       "      <td>0</td>\n",
       "      <td>0</td>\n",
       "      <td>0</td>\n",
       "      <td>0</td>\n",
       "      <td>1</td>\n",
       "      <td>0</td>\n",
       "      <td>1</td>\n",
       "      <td>0</td>\n",
       "      <td>0</td>\n",
       "      <td>0</td>\n",
       "      <td>0</td>\n",
       "      <td>0</td>\n",
       "    </tr>\n",
       "    <tr>\n",
       "      <th>2</th>\n",
       "      <td>0</td>\n",
       "      <td>1</td>\n",
       "      <td>3</td>\n",
       "      <td>1</td>\n",
       "      <td>0</td>\n",
       "      <td>0</td>\n",
       "      <td>0</td>\n",
       "      <td>0</td>\n",
       "      <td>1</td>\n",
       "      <td>1</td>\n",
       "      <td>0</td>\n",
       "      <td>0</td>\n",
       "      <td>0</td>\n",
       "      <td>0</td>\n",
       "      <td>0</td>\n",
       "      <td>1</td>\n",
       "    </tr>\n",
       "    <tr>\n",
       "      <th>3</th>\n",
       "      <td>1</td>\n",
       "      <td>0</td>\n",
       "      <td>0</td>\n",
       "      <td>1</td>\n",
       "      <td>0</td>\n",
       "      <td>0</td>\n",
       "      <td>0</td>\n",
       "      <td>0</td>\n",
       "      <td>1</td>\n",
       "      <td>0</td>\n",
       "      <td>1</td>\n",
       "      <td>1</td>\n",
       "      <td>0</td>\n",
       "      <td>0</td>\n",
       "      <td>0</td>\n",
       "      <td>0</td>\n",
       "    </tr>\n",
       "    <tr>\n",
       "      <th>4</th>\n",
       "      <td>0</td>\n",
       "      <td>1</td>\n",
       "      <td>2</td>\n",
       "      <td>0</td>\n",
       "      <td>0</td>\n",
       "      <td>0</td>\n",
       "      <td>0</td>\n",
       "      <td>1</td>\n",
       "      <td>0</td>\n",
       "      <td>0</td>\n",
       "      <td>0</td>\n",
       "      <td>0</td>\n",
       "      <td>0</td>\n",
       "      <td>0</td>\n",
       "      <td>0</td>\n",
       "      <td>1</td>\n",
       "    </tr>\n",
       "  </tbody>\n",
       "</table>\n",
       "</div>"
      ],
      "text/plain": [
       "   Type  PaperlessBilling  PaymentMethod  gender  SeniorCitizen  Partner  \\\n",
       "0     0                 1              2       0              0        1   \n",
       "1     1                 0              3       1              0        0   \n",
       "2     0                 1              3       1              0        0   \n",
       "3     1                 0              0       1              0        0   \n",
       "4     0                 1              2       0              0        0   \n",
       "\n",
       "   Dependents  InternetService  OnlineSecurity  OnlineBackup  \\\n",
       "0           0                0               0             1   \n",
       "1           0                0               1             0   \n",
       "2           0                0               1             1   \n",
       "3           0                0               1             0   \n",
       "4           0                1               0             0   \n",
       "\n",
       "   DeviceProtection  TechSupport  StreamingTV  StreamingMovies  MultipleLines  \\\n",
       "0                 0            0            0                0              0   \n",
       "1                 1            0            0                0              0   \n",
       "2                 0            0            0                0              0   \n",
       "3                 1            1            0                0              0   \n",
       "4                 0            0            0                0              0   \n",
       "\n",
       "   target  \n",
       "0       0  \n",
       "1       0  \n",
       "2       1  \n",
       "3       0  \n",
       "4       1  "
      ]
     },
     "execution_count": 39,
     "metadata": {},
     "output_type": "execute_result"
    }
   ],
   "source": [
    "# Сначало закодируем данные\n",
    "label = preprocessing.LabelEncoder()\n",
    "data_encoded = pd.DataFrame() \n",
    "\n",
    "for i in df.columns :\n",
    "  data_encoded[i]=label.fit_transform(df[i])\n",
    "data_encoded = data_encoded.drop(['MonthlyCharges', 'TotalCharges', 'diff_days'], axis=1)\n",
    "data_encoded.head()"
   ]
  },
  {
   "cell_type": "code",
   "execution_count": 40,
   "metadata": {},
   "outputs": [
    {
     "data": {
      "text/html": [
       "<div>\n",
       "<style scoped>\n",
       "    .dataframe tbody tr th:only-of-type {\n",
       "        vertical-align: middle;\n",
       "    }\n",
       "\n",
       "    .dataframe tbody tr th {\n",
       "        vertical-align: top;\n",
       "    }\n",
       "\n",
       "    .dataframe thead th {\n",
       "        text-align: right;\n",
       "    }\n",
       "</style>\n",
       "<table border=\"1\" class=\"dataframe\">\n",
       "  <thead>\n",
       "    <tr style=\"text-align: right;\">\n",
       "      <th></th>\n",
       "      <th>Type</th>\n",
       "      <th>PaperlessBilling</th>\n",
       "      <th>PaymentMethod</th>\n",
       "      <th>gender</th>\n",
       "      <th>SeniorCitizen</th>\n",
       "      <th>Partner</th>\n",
       "      <th>Dependents</th>\n",
       "      <th>InternetService</th>\n",
       "      <th>OnlineSecurity</th>\n",
       "      <th>OnlineBackup</th>\n",
       "      <th>DeviceProtection</th>\n",
       "      <th>TechSupport</th>\n",
       "      <th>StreamingTV</th>\n",
       "      <th>StreamingMovies</th>\n",
       "      <th>MultipleLines</th>\n",
       "      <th>target</th>\n",
       "    </tr>\n",
       "  </thead>\n",
       "  <tbody>\n",
       "    <tr>\n",
       "      <th>Type</th>\n",
       "      <td>1.00</td>\n",
       "      <td>0.03</td>\n",
       "      <td>0.07</td>\n",
       "      <td>0.0</td>\n",
       "      <td>0.02</td>\n",
       "      <td>0.09</td>\n",
       "      <td>0.06</td>\n",
       "      <td>0.04</td>\n",
       "      <td>0.06</td>\n",
       "      <td>0.03</td>\n",
       "      <td>0.05</td>\n",
       "      <td>0.09</td>\n",
       "      <td>0.01</td>\n",
       "      <td>0.01</td>\n",
       "      <td>0.01</td>\n",
       "      <td>0.17</td>\n",
       "    </tr>\n",
       "    <tr>\n",
       "      <th>PaperlessBilling</th>\n",
       "      <td>0.03</td>\n",
       "      <td>1.00</td>\n",
       "      <td>0.06</td>\n",
       "      <td>0.0</td>\n",
       "      <td>0.02</td>\n",
       "      <td>0.00</td>\n",
       "      <td>0.01</td>\n",
       "      <td>0.14</td>\n",
       "      <td>0.00</td>\n",
       "      <td>0.02</td>\n",
       "      <td>0.01</td>\n",
       "      <td>0.00</td>\n",
       "      <td>0.05</td>\n",
       "      <td>0.04</td>\n",
       "      <td>0.03</td>\n",
       "      <td>0.04</td>\n",
       "    </tr>\n",
       "    <tr>\n",
       "      <th>PaymentMethod</th>\n",
       "      <td>0.07</td>\n",
       "      <td>0.06</td>\n",
       "      <td>1.00</td>\n",
       "      <td>0.0</td>\n",
       "      <td>0.04</td>\n",
       "      <td>0.03</td>\n",
       "      <td>0.02</td>\n",
       "      <td>0.10</td>\n",
       "      <td>0.03</td>\n",
       "      <td>0.04</td>\n",
       "      <td>0.04</td>\n",
       "      <td>0.03</td>\n",
       "      <td>0.06</td>\n",
       "      <td>0.06</td>\n",
       "      <td>0.05</td>\n",
       "      <td>0.09</td>\n",
       "    </tr>\n",
       "    <tr>\n",
       "      <th>gender</th>\n",
       "      <td>0.00</td>\n",
       "      <td>0.00</td>\n",
       "      <td>0.00</td>\n",
       "      <td>1.0</td>\n",
       "      <td>0.00</td>\n",
       "      <td>0.00</td>\n",
       "      <td>0.00</td>\n",
       "      <td>0.00</td>\n",
       "      <td>0.00</td>\n",
       "      <td>0.00</td>\n",
       "      <td>0.00</td>\n",
       "      <td>0.00</td>\n",
       "      <td>0.00</td>\n",
       "      <td>0.00</td>\n",
       "      <td>0.00</td>\n",
       "      <td>0.00</td>\n",
       "    </tr>\n",
       "    <tr>\n",
       "      <th>SeniorCitizen</th>\n",
       "      <td>0.02</td>\n",
       "      <td>0.02</td>\n",
       "      <td>0.04</td>\n",
       "      <td>0.0</td>\n",
       "      <td>1.00</td>\n",
       "      <td>0.00</td>\n",
       "      <td>0.04</td>\n",
       "      <td>0.07</td>\n",
       "      <td>0.00</td>\n",
       "      <td>0.00</td>\n",
       "      <td>0.00</td>\n",
       "      <td>0.00</td>\n",
       "      <td>0.01</td>\n",
       "      <td>0.01</td>\n",
       "      <td>0.02</td>\n",
       "      <td>0.02</td>\n",
       "    </tr>\n",
       "    <tr>\n",
       "      <th>Partner</th>\n",
       "      <td>0.09</td>\n",
       "      <td>0.00</td>\n",
       "      <td>0.03</td>\n",
       "      <td>0.0</td>\n",
       "      <td>0.00</td>\n",
       "      <td>1.00</td>\n",
       "      <td>0.20</td>\n",
       "      <td>0.00</td>\n",
       "      <td>0.02</td>\n",
       "      <td>0.02</td>\n",
       "      <td>0.02</td>\n",
       "      <td>0.01</td>\n",
       "      <td>0.02</td>\n",
       "      <td>0.01</td>\n",
       "      <td>0.02</td>\n",
       "      <td>0.02</td>\n",
       "    </tr>\n",
       "    <tr>\n",
       "      <th>Dependents</th>\n",
       "      <td>0.06</td>\n",
       "      <td>0.01</td>\n",
       "      <td>0.02</td>\n",
       "      <td>0.0</td>\n",
       "      <td>0.04</td>\n",
       "      <td>0.20</td>\n",
       "      <td>1.00</td>\n",
       "      <td>0.03</td>\n",
       "      <td>0.01</td>\n",
       "      <td>0.00</td>\n",
       "      <td>0.00</td>\n",
       "      <td>0.00</td>\n",
       "      <td>0.00</td>\n",
       "      <td>0.00</td>\n",
       "      <td>0.00</td>\n",
       "      <td>0.03</td>\n",
       "    </tr>\n",
       "    <tr>\n",
       "      <th>InternetService</th>\n",
       "      <td>0.04</td>\n",
       "      <td>0.14</td>\n",
       "      <td>0.10</td>\n",
       "      <td>0.0</td>\n",
       "      <td>0.07</td>\n",
       "      <td>0.00</td>\n",
       "      <td>0.03</td>\n",
       "      <td>1.00</td>\n",
       "      <td>0.16</td>\n",
       "      <td>0.15</td>\n",
       "      <td>0.14</td>\n",
       "      <td>0.15</td>\n",
       "      <td>0.20</td>\n",
       "      <td>0.20</td>\n",
       "      <td>0.14</td>\n",
       "      <td>0.10</td>\n",
       "    </tr>\n",
       "    <tr>\n",
       "      <th>OnlineSecurity</th>\n",
       "      <td>0.06</td>\n",
       "      <td>0.00</td>\n",
       "      <td>0.03</td>\n",
       "      <td>0.0</td>\n",
       "      <td>0.00</td>\n",
       "      <td>0.02</td>\n",
       "      <td>0.01</td>\n",
       "      <td>0.16</td>\n",
       "      <td>1.00</td>\n",
       "      <td>0.08</td>\n",
       "      <td>0.08</td>\n",
       "      <td>0.13</td>\n",
       "      <td>0.03</td>\n",
       "      <td>0.03</td>\n",
       "      <td>0.01</td>\n",
       "      <td>0.03</td>\n",
       "    </tr>\n",
       "    <tr>\n",
       "      <th>OnlineBackup</th>\n",
       "      <td>0.03</td>\n",
       "      <td>0.02</td>\n",
       "      <td>0.04</td>\n",
       "      <td>0.0</td>\n",
       "      <td>0.00</td>\n",
       "      <td>0.02</td>\n",
       "      <td>0.00</td>\n",
       "      <td>0.15</td>\n",
       "      <td>0.08</td>\n",
       "      <td>1.00</td>\n",
       "      <td>0.09</td>\n",
       "      <td>0.09</td>\n",
       "      <td>0.08</td>\n",
       "      <td>0.08</td>\n",
       "      <td>0.04</td>\n",
       "      <td>0.01</td>\n",
       "    </tr>\n",
       "    <tr>\n",
       "      <th>DeviceProtection</th>\n",
       "      <td>0.05</td>\n",
       "      <td>0.01</td>\n",
       "      <td>0.04</td>\n",
       "      <td>0.0</td>\n",
       "      <td>0.00</td>\n",
       "      <td>0.02</td>\n",
       "      <td>0.00</td>\n",
       "      <td>0.14</td>\n",
       "      <td>0.08</td>\n",
       "      <td>0.09</td>\n",
       "      <td>1.00</td>\n",
       "      <td>0.11</td>\n",
       "      <td>0.15</td>\n",
       "      <td>0.16</td>\n",
       "      <td>0.04</td>\n",
       "      <td>0.00</td>\n",
       "    </tr>\n",
       "    <tr>\n",
       "      <th>TechSupport</th>\n",
       "      <td>0.09</td>\n",
       "      <td>0.00</td>\n",
       "      <td>0.03</td>\n",
       "      <td>0.0</td>\n",
       "      <td>0.00</td>\n",
       "      <td>0.01</td>\n",
       "      <td>0.00</td>\n",
       "      <td>0.15</td>\n",
       "      <td>0.13</td>\n",
       "      <td>0.09</td>\n",
       "      <td>0.11</td>\n",
       "      <td>1.00</td>\n",
       "      <td>0.08</td>\n",
       "      <td>0.08</td>\n",
       "      <td>0.01</td>\n",
       "      <td>0.03</td>\n",
       "    </tr>\n",
       "    <tr>\n",
       "      <th>StreamingTV</th>\n",
       "      <td>0.01</td>\n",
       "      <td>0.05</td>\n",
       "      <td>0.06</td>\n",
       "      <td>0.0</td>\n",
       "      <td>0.01</td>\n",
       "      <td>0.02</td>\n",
       "      <td>0.00</td>\n",
       "      <td>0.20</td>\n",
       "      <td>0.03</td>\n",
       "      <td>0.08</td>\n",
       "      <td>0.15</td>\n",
       "      <td>0.08</td>\n",
       "      <td>1.00</td>\n",
       "      <td>0.28</td>\n",
       "      <td>0.07</td>\n",
       "      <td>0.00</td>\n",
       "    </tr>\n",
       "    <tr>\n",
       "      <th>StreamingMovies</th>\n",
       "      <td>0.01</td>\n",
       "      <td>0.04</td>\n",
       "      <td>0.06</td>\n",
       "      <td>0.0</td>\n",
       "      <td>0.01</td>\n",
       "      <td>0.01</td>\n",
       "      <td>0.00</td>\n",
       "      <td>0.20</td>\n",
       "      <td>0.03</td>\n",
       "      <td>0.08</td>\n",
       "      <td>0.16</td>\n",
       "      <td>0.08</td>\n",
       "      <td>0.28</td>\n",
       "      <td>1.00</td>\n",
       "      <td>0.07</td>\n",
       "      <td>0.00</td>\n",
       "    </tr>\n",
       "    <tr>\n",
       "      <th>MultipleLines</th>\n",
       "      <td>0.01</td>\n",
       "      <td>0.03</td>\n",
       "      <td>0.05</td>\n",
       "      <td>0.0</td>\n",
       "      <td>0.02</td>\n",
       "      <td>0.02</td>\n",
       "      <td>0.00</td>\n",
       "      <td>0.14</td>\n",
       "      <td>0.01</td>\n",
       "      <td>0.04</td>\n",
       "      <td>0.04</td>\n",
       "      <td>0.01</td>\n",
       "      <td>0.07</td>\n",
       "      <td>0.07</td>\n",
       "      <td>1.00</td>\n",
       "      <td>0.00</td>\n",
       "    </tr>\n",
       "    <tr>\n",
       "      <th>target</th>\n",
       "      <td>0.17</td>\n",
       "      <td>0.04</td>\n",
       "      <td>0.09</td>\n",
       "      <td>0.0</td>\n",
       "      <td>0.02</td>\n",
       "      <td>0.02</td>\n",
       "      <td>0.03</td>\n",
       "      <td>0.10</td>\n",
       "      <td>0.03</td>\n",
       "      <td>0.01</td>\n",
       "      <td>0.00</td>\n",
       "      <td>0.03</td>\n",
       "      <td>0.00</td>\n",
       "      <td>0.00</td>\n",
       "      <td>0.00</td>\n",
       "      <td>1.00</td>\n",
       "    </tr>\n",
       "  </tbody>\n",
       "</table>\n",
       "</div>"
      ],
      "text/plain": [
       "                  Type  PaperlessBilling  PaymentMethod  gender  \\\n",
       "Type              1.00              0.03           0.07     0.0   \n",
       "PaperlessBilling  0.03              1.00           0.06     0.0   \n",
       "PaymentMethod     0.07              0.06           1.00     0.0   \n",
       "gender            0.00              0.00           0.00     1.0   \n",
       "SeniorCitizen     0.02              0.02           0.04     0.0   \n",
       "Partner           0.09              0.00           0.03     0.0   \n",
       "Dependents        0.06              0.01           0.02     0.0   \n",
       "InternetService   0.04              0.14           0.10     0.0   \n",
       "OnlineSecurity    0.06              0.00           0.03     0.0   \n",
       "OnlineBackup      0.03              0.02           0.04     0.0   \n",
       "DeviceProtection  0.05              0.01           0.04     0.0   \n",
       "TechSupport       0.09              0.00           0.03     0.0   \n",
       "StreamingTV       0.01              0.05           0.06     0.0   \n",
       "StreamingMovies   0.01              0.04           0.06     0.0   \n",
       "MultipleLines     0.01              0.03           0.05     0.0   \n",
       "target            0.17              0.04           0.09     0.0   \n",
       "\n",
       "                  SeniorCitizen  Partner  Dependents  InternetService  \\\n",
       "Type                       0.02     0.09        0.06             0.04   \n",
       "PaperlessBilling           0.02     0.00        0.01             0.14   \n",
       "PaymentMethod              0.04     0.03        0.02             0.10   \n",
       "gender                     0.00     0.00        0.00             0.00   \n",
       "SeniorCitizen              1.00     0.00        0.04             0.07   \n",
       "Partner                    0.00     1.00        0.20             0.00   \n",
       "Dependents                 0.04     0.20        1.00             0.03   \n",
       "InternetService            0.07     0.00        0.03             1.00   \n",
       "OnlineSecurity             0.00     0.02        0.01             0.16   \n",
       "OnlineBackup               0.00     0.02        0.00             0.15   \n",
       "DeviceProtection           0.00     0.02        0.00             0.14   \n",
       "TechSupport                0.00     0.01        0.00             0.15   \n",
       "StreamingTV                0.01     0.02        0.00             0.20   \n",
       "StreamingMovies            0.01     0.01        0.00             0.20   \n",
       "MultipleLines              0.02     0.02        0.00             0.14   \n",
       "target                     0.02     0.02        0.03             0.10   \n",
       "\n",
       "                  OnlineSecurity  OnlineBackup  DeviceProtection  TechSupport  \\\n",
       "Type                        0.06          0.03              0.05         0.09   \n",
       "PaperlessBilling            0.00          0.02              0.01         0.00   \n",
       "PaymentMethod               0.03          0.04              0.04         0.03   \n",
       "gender                      0.00          0.00              0.00         0.00   \n",
       "SeniorCitizen               0.00          0.00              0.00         0.00   \n",
       "Partner                     0.02          0.02              0.02         0.01   \n",
       "Dependents                  0.01          0.00              0.00         0.00   \n",
       "InternetService             0.16          0.15              0.14         0.15   \n",
       "OnlineSecurity              1.00          0.08              0.08         0.13   \n",
       "OnlineBackup                0.08          1.00              0.09         0.09   \n",
       "DeviceProtection            0.08          0.09              1.00         0.11   \n",
       "TechSupport                 0.13          0.09              0.11         1.00   \n",
       "StreamingTV                 0.03          0.08              0.15         0.08   \n",
       "StreamingMovies             0.03          0.08              0.16         0.08   \n",
       "MultipleLines               0.01          0.04              0.04         0.01   \n",
       "target                      0.03          0.01              0.00         0.03   \n",
       "\n",
       "                  StreamingTV  StreamingMovies  MultipleLines  target  \n",
       "Type                     0.01             0.01           0.01    0.17  \n",
       "PaperlessBilling         0.05             0.04           0.03    0.04  \n",
       "PaymentMethod            0.06             0.06           0.05    0.09  \n",
       "gender                   0.00             0.00           0.00    0.00  \n",
       "SeniorCitizen            0.01             0.01           0.02    0.02  \n",
       "Partner                  0.02             0.01           0.02    0.02  \n",
       "Dependents               0.00             0.00           0.00    0.03  \n",
       "InternetService          0.20             0.20           0.14    0.10  \n",
       "OnlineSecurity           0.03             0.03           0.01    0.03  \n",
       "OnlineBackup             0.08             0.08           0.04    0.01  \n",
       "DeviceProtection         0.15             0.16           0.04    0.00  \n",
       "TechSupport              0.08             0.08           0.01    0.03  \n",
       "StreamingTV              1.00             0.28           0.07    0.00  \n",
       "StreamingMovies          0.28             1.00           0.07    0.00  \n",
       "MultipleLines            0.07             0.07           1.00    0.00  \n",
       "target                   0.00             0.00           0.00    1.00  "
      ]
     },
     "execution_count": 40,
     "metadata": {},
     "output_type": "execute_result"
    }
   ],
   "source": [
    "# Создадим функцию для подсчета корреляции\n",
    "def cramers_V(var1,var2) :\n",
    "  crosstab =np.array(pd.crosstab(var1,var2, rownames=None, colnames=None)) # Cross table building\n",
    "  stat = chi2_contingency(crosstab)[0] # Keeping of the test statistic of the Chi2 test\n",
    "  obs = np.sum(crosstab) # Number of observations\n",
    "  mini = min(crosstab.shape)-1 # Take the minimum value between the columns and the rows of the cross table\n",
    "  return (stat/(obs*mini))\n",
    "\n",
    "# построим матрицу\n",
    "rows= []\n",
    "for var1 in data_encoded:\n",
    "  col = []\n",
    "\n",
    "  for var2 in data_encoded :\n",
    "    cramers =cramers_V(data_encoded[var1], data_encoded[var2]) # Cramer's V test\n",
    "    col.append(round(cramers,2)) # Keeping of the rounded value of the Cramer's V  \n",
    "  rows.append(col)\n",
    "\n",
    "cramers_results = np.array(rows)\n",
    "data = pd.DataFrame(cramers_results, columns = data_encoded.columns, index =data_encoded.columns)\n",
    "\n",
    "data"
   ]
  },
  {
   "cell_type": "code",
   "execution_count": 41,
   "metadata": {},
   "outputs": [
    {
     "data": {
      "image/png": "[encoded data removed]",
      "text/plain": [
       "<Figure size 432x288 with 2 Axes>"
      ]
     },
     "metadata": {},
     "output_type": "display_data"
    }
   ],
   "source": [
    "# сделаеем визуализацию\n",
    "mask = np.zeros_like(data, dtype=np.bool)\n",
    "mask[np.triu_indices_from(mask)] = True\n",
    "\n",
    "with sns.axes_style(\"white\"):\n",
    "  ax = sns.heatmap(data, mask=mask,vmin=0., vmax=1, square=True)\n",
    "plt.title('Корреляция категориальных признаков', fontsize=15)\n",
    "plt.xticks(fontsize=15)\n",
    "plt.yticks(fontsize=15)\n",
    "plt.show()"
   ]
  },
  {
   "cell_type": "markdown",
   "metadata": {},
   "source": [
    "Есть небольшая корреляция междку целевым признаком и типом оплаты, так же небольшая корреляция между стримминговым тв, фильмами и сервисом интернета, корреляция между замужесством и наличием иждевенцев. Остальные признаки плохо коррелируют междку собой."
   ]
  },
  {
   "cell_type": "markdown",
   "metadata": {},
   "source": [
    "Проверим дисбаланс классов в целевом признаке."
   ]
  },
  {
   "cell_type": "code",
   "execution_count": 42,
   "metadata": {},
   "outputs": [
    {
     "name": "stdout",
     "output_type": "stream",
     "text": [
      "0    0.73463\n",
      "1    0.26537\n",
      "Name: target, dtype: float64\n"
     ]
    },
    {
     "data": {
      "text/plain": [
       "<AxesSubplot:>"
      ]
     },
     "execution_count": 42,
     "metadata": {},
     "output_type": "execute_result"
    },
    {
     "data": {
      "image/png": "[encoded data removed]",
      "text/plain": [
       "<Figure size 432x288 with 1 Axes>"
      ]
     },
     "metadata": {
      "needs_background": "light"
     },
     "output_type": "display_data"
    }
   ],
   "source": [
    "class_frequency = df['target'].value_counts(normalize=2/len(df['target']))\n",
    "print(class_frequency)\n",
    "class_frequency.plot(kind='bar') "
   ]
  },
  {
   "cell_type": "markdown",
   "metadata": {},
   "source": [
    "Имеется дисбаланс классов, только четверть пользователей перестала пользоваться услугами компании, но т.к. метрика ROC-AUC, которую мы будем рассматривать при создании модели, устойчива к дисбалансу, мы с ним ничего делать не будем."
   ]
  },
  {
   "cell_type": "markdown",
   "metadata": {},
   "source": [
    "## Построение модели"
   ]
  },
  {
   "cell_type": "code",
   "execution_count": 43,
   "metadata": {},
   "outputs": [
    {
     "name": "stdout",
     "output_type": "stream",
     "text": [
      "<class 'pandas.core.frame.DataFrame'>\n",
      "Int64Index: 5282 entries, 3792 to 5629\n",
      "Data columns (total 18 columns):\n",
      " #   Column            Non-Null Count  Dtype  \n",
      "---  ------            --------------  -----  \n",
      " 0   Type              5282 non-null   object \n",
      " 1   PaperlessBilling  5282 non-null   object \n",
      " 2   PaymentMethod     5282 non-null   object \n",
      " 3   MonthlyCharges    5282 non-null   float64\n",
      " 4   TotalCharges      5282 non-null   float64\n",
      " 5   gender            5282 non-null   object \n",
      " 6   SeniorCitizen     5282 non-null   int64  \n",
      " 7   Partner           5282 non-null   object \n",
      " 8   Dependents        5282 non-null   object \n",
      " 9   InternetService   5282 non-null   object \n",
      " 10  OnlineSecurity    5282 non-null   object \n",
      " 11  OnlineBackup      5282 non-null   object \n",
      " 12  DeviceProtection  5282 non-null   object \n",
      " 13  TechSupport       5282 non-null   object \n",
      " 14  StreamingTV       5282 non-null   object \n",
      " 15  StreamingMovies   5282 non-null   object \n",
      " 16  MultipleLines     5282 non-null   object \n",
      " 17  diff_days         5282 non-null   float64\n",
      "dtypes: float64(3), int64(1), object(14)\n",
      "memory usage: 784.0+ KB\n",
      "None\n",
      "<class 'pandas.core.frame.DataFrame'>\n",
      "Int64Index: 1761 entries, 6199 to 2215\n",
      "Data columns (total 18 columns):\n",
      " #   Column            Non-Null Count  Dtype  \n",
      "---  ------            --------------  -----  \n",
      " 0   Type              1761 non-null   object \n",
      " 1   PaperlessBilling  1761 non-null   object \n",
      " 2   PaymentMethod     1761 non-null   object \n",
      " 3   MonthlyCharges    1761 non-null   float64\n",
      " 4   TotalCharges      1761 non-null   float64\n",
      " 5   gender            1761 non-null   object \n",
      " 6   SeniorCitizen     1761 non-null   int64  \n",
      " 7   Partner           1761 non-null   object \n",
      " 8   Dependents        1761 non-null   object \n",
      " 9   InternetService   1761 non-null   object \n",
      " 10  OnlineSecurity    1761 non-null   object \n",
      " 11  OnlineBackup      1761 non-null   object \n",
      " 12  DeviceProtection  1761 non-null   object \n",
      " 13  TechSupport       1761 non-null   object \n",
      " 14  StreamingTV       1761 non-null   object \n",
      " 15  StreamingMovies   1761 non-null   object \n",
      " 16  MultipleLines     1761 non-null   object \n",
      " 17  diff_days         1761 non-null   float64\n",
      "dtypes: float64(3), int64(1), object(14)\n",
      "memory usage: 261.4+ KB\n",
      "None\n"
     ]
    }
   ],
   "source": [
    "# Разделим наш датафрейм на выборки в соотношении 3:1\n",
    "features = df.drop(['target'], axis=1)\n",
    "target = df['target']\n",
    "features_train, features_test, target_train, target_test = train_test_split(\n",
    "    features, target, test_size=0.25, random_state=RANDOM_STATE)\n",
    "print(features_train.info())\n",
    "print(features_test.info())"
   ]
  },
  {
   "cell_type": "code",
   "execution_count": 44,
   "metadata": {},
   "outputs": [
    {
     "name": "stdout",
     "output_type": "stream",
     "text": [
      "категорилаьные: ['Type', 'PaperlessBilling', 'PaymentMethod', 'gender', 'Partner', 'Dependents', 'InternetService', 'OnlineSecurity', 'OnlineBackup', 'DeviceProtection', 'TechSupport', 'StreamingTV', 'StreamingMovies', 'MultipleLines', 'SeniorCitizen']\n",
      "численные: ['MonthlyCharges', 'TotalCharges', 'diff_days']\n"
     ]
    }
   ],
   "source": [
    "# Создадим переменные с названием категориальных и численных признаков\n",
    "categorical_features = list(features.select_dtypes(include='object').columns)\n",
    "categorical_features.append('SeniorCitizen')\n",
    "num_features = list(features.select_dtypes(exclude='object').columns) \n",
    "num_features.remove('SeniorCitizen')\n",
    "print('категорилаьные:', categorical_features)\n",
    "print('численные:', num_features)"
   ]
  },
  {
   "cell_type": "code",
   "execution_count": 45,
   "metadata": {},
   "outputs": [],
   "source": [
    "# Создадим датафреймы для закодированных данных\n",
    "features_train_ridge = features_train.copy()\n",
    "features_test_ridge = features_test.copy()\n",
    "\n",
    "# для кодирования категориальных признаков используем One-Hot encoding\n",
    "features_train_ridge = pd.get_dummies(features_train, columns = categorical_features, drop_first=True)\n",
    "features_test_ridge = pd.get_dummies(features_test, columns = categorical_features, drop_first=True)\n",
    "features_test_ridge.head()\n",
    "\n",
    "# приведем признаки к единому виду\n",
    "features_train_ridge, features_test_ridge = features_train_ridge.align(features_test_ridge, join='inner', axis=1)"
   ]
  },
  {
   "cell_type": "code",
   "execution_count": 46,
   "metadata": {},
   "outputs": [
    {
     "data": {
      "text/html": [
       "<div>\n",
       "<style scoped>\n",
       "    .dataframe tbody tr th:only-of-type {\n",
       "        vertical-align: middle;\n",
       "    }\n",
       "\n",
       "    .dataframe tbody tr th {\n",
       "        vertical-align: top;\n",
       "    }\n",
       "\n",
       "    .dataframe thead th {\n",
       "        text-align: right;\n",
       "    }\n",
       "</style>\n",
       "<table border=\"1\" class=\"dataframe\">\n",
       "  <thead>\n",
       "    <tr style=\"text-align: right;\">\n",
       "      <th></th>\n",
       "      <th>MonthlyCharges</th>\n",
       "      <th>TotalCharges</th>\n",
       "      <th>diff_days</th>\n",
       "      <th>Type_One year</th>\n",
       "      <th>Type_Two year</th>\n",
       "      <th>PaperlessBilling_Yes</th>\n",
       "      <th>PaymentMethod_Credit card (automatic)</th>\n",
       "      <th>PaymentMethod_Electronic check</th>\n",
       "      <th>PaymentMethod_Mailed check</th>\n",
       "      <th>gender_Male</th>\n",
       "      <th>...</th>\n",
       "      <th>InternetService_Fiber optic</th>\n",
       "      <th>InternetService_No</th>\n",
       "      <th>OnlineSecurity_Yes</th>\n",
       "      <th>OnlineBackup_Yes</th>\n",
       "      <th>DeviceProtection_Yes</th>\n",
       "      <th>TechSupport_Yes</th>\n",
       "      <th>StreamingTV_Yes</th>\n",
       "      <th>StreamingMovies_Yes</th>\n",
       "      <th>MultipleLines_Yes</th>\n",
       "      <th>SeniorCitizen_1</th>\n",
       "    </tr>\n",
       "  </thead>\n",
       "  <tbody>\n",
       "    <tr>\n",
       "      <th>3792</th>\n",
       "      <td>0.881365</td>\n",
       "      <td>0.032710</td>\n",
       "      <td>-0.257657</td>\n",
       "      <td>0</td>\n",
       "      <td>0</td>\n",
       "      <td>1</td>\n",
       "      <td>0</td>\n",
       "      <td>1</td>\n",
       "      <td>0</td>\n",
       "      <td>0</td>\n",
       "      <td>...</td>\n",
       "      <td>1</td>\n",
       "      <td>0</td>\n",
       "      <td>0</td>\n",
       "      <td>0</td>\n",
       "      <td>0</td>\n",
       "      <td>0</td>\n",
       "      <td>1</td>\n",
       "      <td>1</td>\n",
       "      <td>0</td>\n",
       "      <td>1</td>\n",
       "    </tr>\n",
       "    <tr>\n",
       "      <th>4005</th>\n",
       "      <td>-1.364515</td>\n",
       "      <td>-0.997495</td>\n",
       "      <td>-1.273501</td>\n",
       "      <td>0</td>\n",
       "      <td>0</td>\n",
       "      <td>1</td>\n",
       "      <td>0</td>\n",
       "      <td>0</td>\n",
       "      <td>1</td>\n",
       "      <td>1</td>\n",
       "      <td>...</td>\n",
       "      <td>0</td>\n",
       "      <td>1</td>\n",
       "      <td>0</td>\n",
       "      <td>0</td>\n",
       "      <td>0</td>\n",
       "      <td>0</td>\n",
       "      <td>0</td>\n",
       "      <td>0</td>\n",
       "      <td>1</td>\n",
       "      <td>0</td>\n",
       "    </tr>\n",
       "    <tr>\n",
       "      <th>1766</th>\n",
       "      <td>-1.481488</td>\n",
       "      <td>-0.749985</td>\n",
       "      <td>-0.216222</td>\n",
       "      <td>1</td>\n",
       "      <td>0</td>\n",
       "      <td>1</td>\n",
       "      <td>0</td>\n",
       "      <td>0</td>\n",
       "      <td>1</td>\n",
       "      <td>0</td>\n",
       "      <td>...</td>\n",
       "      <td>0</td>\n",
       "      <td>1</td>\n",
       "      <td>0</td>\n",
       "      <td>0</td>\n",
       "      <td>0</td>\n",
       "      <td>0</td>\n",
       "      <td>0</td>\n",
       "      <td>0</td>\n",
       "      <td>0</td>\n",
       "      <td>0</td>\n",
       "    </tr>\n",
       "    <tr>\n",
       "      <th>210</th>\n",
       "      <td>-0.630928</td>\n",
       "      <td>-0.970741</td>\n",
       "      <td>-1.233401</td>\n",
       "      <td>0</td>\n",
       "      <td>0</td>\n",
       "      <td>1</td>\n",
       "      <td>1</td>\n",
       "      <td>0</td>\n",
       "      <td>0</td>\n",
       "      <td>1</td>\n",
       "      <td>...</td>\n",
       "      <td>0</td>\n",
       "      <td>0</td>\n",
       "      <td>0</td>\n",
       "      <td>0</td>\n",
       "      <td>0</td>\n",
       "      <td>0</td>\n",
       "      <td>0</td>\n",
       "      <td>0</td>\n",
       "      <td>0</td>\n",
       "      <td>0</td>\n",
       "    </tr>\n",
       "    <tr>\n",
       "      <th>3419</th>\n",
       "      <td>0.911444</td>\n",
       "      <td>1.860147</td>\n",
       "      <td>1.494672</td>\n",
       "      <td>0</td>\n",
       "      <td>1</td>\n",
       "      <td>1</td>\n",
       "      <td>0</td>\n",
       "      <td>0</td>\n",
       "      <td>1</td>\n",
       "      <td>1</td>\n",
       "      <td>...</td>\n",
       "      <td>1</td>\n",
       "      <td>0</td>\n",
       "      <td>0</td>\n",
       "      <td>1</td>\n",
       "      <td>0</td>\n",
       "      <td>1</td>\n",
       "      <td>1</td>\n",
       "      <td>0</td>\n",
       "      <td>0</td>\n",
       "      <td>0</td>\n",
       "    </tr>\n",
       "  </tbody>\n",
       "</table>\n",
       "<p>5 rows × 22 columns</p>\n",
       "</div>"
      ],
      "text/plain": [
       "      MonthlyCharges  TotalCharges  diff_days  Type_One year  Type_Two year  \\\n",
       "3792        0.881365      0.032710  -0.257657              0              0   \n",
       "4005       -1.364515     -0.997495  -1.273501              0              0   \n",
       "1766       -1.481488     -0.749985  -0.216222              1              0   \n",
       "210        -0.630928     -0.970741  -1.233401              0              0   \n",
       "3419        0.911444      1.860147   1.494672              0              1   \n",
       "\n",
       "      PaperlessBilling_Yes  PaymentMethod_Credit card (automatic)  \\\n",
       "3792                     1                                      0   \n",
       "4005                     1                                      0   \n",
       "1766                     1                                      0   \n",
       "210                      1                                      1   \n",
       "3419                     1                                      0   \n",
       "\n",
       "      PaymentMethod_Electronic check  PaymentMethod_Mailed check  gender_Male  \\\n",
       "3792                               1                           0            0   \n",
       "4005                               0                           1            1   \n",
       "1766                               0                           1            0   \n",
       "210                                0                           0            1   \n",
       "3419                               0                           1            1   \n",
       "\n",
       "      ...  InternetService_Fiber optic  InternetService_No  \\\n",
       "3792  ...                            1                   0   \n",
       "4005  ...                            0                   1   \n",
       "1766  ...                            0                   1   \n",
       "210   ...                            0                   0   \n",
       "3419  ...                            1                   0   \n",
       "\n",
       "      OnlineSecurity_Yes  OnlineBackup_Yes  DeviceProtection_Yes  \\\n",
       "3792                   0                 0                     0   \n",
       "4005                   0                 0                     0   \n",
       "1766                   0                 0                     0   \n",
       "210                    0                 0                     0   \n",
       "3419                   0                 1                     0   \n",
       "\n",
       "      TechSupport_Yes  StreamingTV_Yes  StreamingMovies_Yes  \\\n",
       "3792                0                1                    1   \n",
       "4005                0                0                    0   \n",
       "1766                0                0                    0   \n",
       "210                 0                0                    0   \n",
       "3419                1                1                    0   \n",
       "\n",
       "      MultipleLines_Yes  SeniorCitizen_1  \n",
       "3792                  0                1  \n",
       "4005                  1                0  \n",
       "1766                  0                0  \n",
       "210                   0                0  \n",
       "3419                  0                0  \n",
       "\n",
       "[5 rows x 22 columns]"
      ]
     },
     "execution_count": 46,
     "metadata": {},
     "output_type": "execute_result"
    }
   ],
   "source": [
    "# Для кодирования численных признаков используем StandardScaler\n",
    "scaler = StandardScaler()\n",
    "\n",
    "# обучаем его на численных признаках тренировочной выборки, трансформируем её же\n",
    "features_train_ridge[num_features] = scaler.fit_transform(features_train_ridge[num_features])\n",
    "features_test_ridge[num_features] = scaler.transform(features_test_ridge[num_features])\n",
    "features_train_ridge.head()"
   ]
  },
  {
   "cell_type": "markdown",
   "metadata": {},
   "source": [
    "Начнем обучение моделей, первой будет LinearRegression"
   ]
  },
  {
   "cell_type": "code",
   "execution_count": 47,
   "metadata": {},
   "outputs": [
    {
     "name": "stdout",
     "output_type": "stream",
     "text": [
      "Fitting 5 folds for each of 24 candidates, totalling 120 fits\n",
      "Лучшие параметры: {'C': 10, 'max_iter': 100, 'penalty': 'l2'}\n",
      "Лучшый счет: 0.8506613988494388\n",
      "CPU times: user 25.4 s, sys: 1min 5s, total: 1min 30s\n",
      "Wall time: 1min 30s\n"
     ]
    }
   ],
   "source": [
    "%%time\n",
    "# Создаем модель\n",
    "lr = LogisticRegression(random_state=RANDOM_STATE, solver='lbfgs', class_weight='balanced')\n",
    "\n",
    "# Выбираем гиперпараметры для подбора\n",
    "params = { \n",
    "    'penalty': ['l1', 'l2'],\n",
    "    'C': [0.5, 1, 10, 50],\n",
    "    'max_iter': [100, 1000, 2000],\n",
    "    }\n",
    "\n",
    "# используем GridSearchCV для подбора гиперпараметров\n",
    "grid_lr = GridSearchCV(lr, param_grid=params, cv = 5, verbose =1, scoring='roc_auc') \n",
    "grid_lr.fit(features_train_ridge, target_train)\n",
    "# Обучаем на закадированных данных\n",
    "print('Лучшие параметры:', grid_lr.best_params_)\n",
    "print('Лучшый счет:', grid_lr.best_score_)"
   ]
  },
  {
   "cell_type": "markdown",
   "metadata": {},
   "source": [
    "Хороший результат, посмотрим какие значения покажет CatBoost."
   ]
  },
  {
   "cell_type": "code",
   "execution_count": 48,
   "metadata": {
    "scrolled": true
   },
   "outputs": [
    {
     "name": "stdout",
     "output_type": "stream",
     "text": [
      "Fitting 5 folds for each of 18 candidates, totalling 90 fits\n",
      "Лучшие параметры: {'depth': 3, 'learning_rate': 0.7, 'n_estimators': 200}\n",
      "Лучший счет: 0.9204874689363833\n",
      "CPU times: user 47.7 s, sys: 22.9 ms, total: 47.7 s\n",
      "Wall time: 1min 50s\n"
     ]
    }
   ],
   "source": [
    "%%time\n",
    "# Создаем модель\n",
    "cat = CatBoostClassifier(random_state=RANDOM_STATE)\n",
    "\n",
    "# Выбираем параметры\n",
    "cat_params = {\n",
    "'learning_rate': [0.6, 0.7, 0.8],\n",
    "'n_estimators': range(100, 400, 100),\n",
    "'depth': range(1, 5, 2),\n",
    "\n",
    "}\n",
    "\n",
    "grid_cat = GridSearchCV(cat, cat_params, cv=5, verbose =1, scoring='roc_auc')\n",
    "# Обучать будем на незакодированных данных, CatBoost с ними справится с помощью cat_features\n",
    "grid_cat.fit(features_train, target_train,\n",
    "             cat_features=categorical_features, verbose=False)\n",
    "\n",
    "print('Лучшие параметры:', grid_cat.best_params_)\n",
    "print('Лучший счет:', grid_cat.best_score_)"
   ]
  },
  {
   "cell_type": "markdown",
   "metadata": {},
   "source": [
    "Результаты лучше прошлых, это радует. Теперь рассмотрим RandomForestClassifier"
   ]
  },
  {
   "cell_type": "code",
   "execution_count": 49,
   "metadata": {},
   "outputs": [
    {
     "name": "stdout",
     "output_type": "stream",
     "text": [
      "Fitting 5 folds for each of 8 candidates, totalling 40 fits\n",
      "Лучшие параметры: {'max_depth': 3, 'n_estimators': 60}\n",
      "Лучший счет: 0.8521299258054593\n",
      "CPU times: user 3.82 s, sys: 0 ns, total: 3.82 s\n",
      "Wall time: 3.82 s\n"
     ]
    }
   ],
   "source": [
    "%%time\n",
    "# Создаем модель\n",
    "rfc = RandomForestClassifier(random_state=RANDOM_STATE)\n",
    "\n",
    "# выбираем праметры\n",
    "parametrs = { \n",
    "'n_estimators': range (30, 61, 10),\n",
    "'max_depth': range (1,5, 2)\n",
    "}\n",
    "\n",
    "grid_rfc = GridSearchCV(rfc, parametrs, cv=5, verbose =1, scoring='roc_auc')\n",
    "\n",
    "# обучаем модель\n",
    "grid_rfc.fit(features_train_ridge, target_train)\n",
    "\n",
    "print('Лучшие параметры:', grid_rfc.best_params_)\n",
    "print('Лучший счет:', grid_rfc.best_score_)"
   ]
  },
  {
   "cell_type": "markdown",
   "metadata": {},
   "source": [
    "Лучший результат показала модель CatBoost, выведем ее на тест."
   ]
  },
  {
   "cell_type": "code",
   "execution_count": 50,
   "metadata": {},
   "outputs": [
    {
     "name": "stdout",
     "output_type": "stream",
     "text": [
      "0.9109555797484907\n"
     ]
    },
    {
     "data": {
      "text/plain": [
       "Text(0.5, 1.0, 'ROC-кривая')"
      ]
     },
     "execution_count": 50,
     "metadata": {},
     "output_type": "execute_result"
    },
    {
     "data": {
      "image/png": "[encoded data removed]",
      "text/plain": [
       "<Figure size 432x288 with 1 Axes>"
      ]
     },
     "metadata": {
      "needs_background": "light"
     },
     "output_type": "display_data"
    }
   ],
   "source": [
    "# Делаем предсказание на тестовых данных\n",
    "probabilities_test = grid_cat.predict_proba(features_test)\n",
    "probabilities_one_test = probabilities_test[:, 1]\n",
    "print(roc_auc_score(target_test, probabilities_one_test))\n",
    "# Визуализируем ROC-кривую\n",
    "fpr, tpr, thresholds = roc_curve(target_test, probabilities_one_test)\n",
    "\n",
    "plt.figure()\n",
    "plt.plot(fpr, tpr)\n",
    "plt.plot([0, 1], [0, 1], linestyle='--')\n",
    "plt.xlim([0.0, 1.0])\n",
    "plt.ylim([0.0, 1.0])\n",
    "plt.xlabel('False Positive Rate') \n",
    "plt.ylabel('True Positive Rate')\n",
    "plt.title(\"ROC-кривая\") "
   ]
  },
  {
   "cell_type": "markdown",
   "metadata": {},
   "source": [
    "Достигнуты нужные значения метрики."
   ]
  },
  {
   "cell_type": "code",
   "execution_count": 51,
   "metadata": {},
   "outputs": [
    {
     "data": {
      "image/png": "[encoded data removed]",
      "text/plain": [
       "<Figure size 432x288 with 1 Axes>"
      ]
     },
     "metadata": {
      "needs_background": "light"
     },
     "output_type": "display_data"
    }
   ],
   "source": [
    "# Рассмотрим важность факторов \n",
    "feature_importance = grid_cat.best_estimator_.feature_importances_\n",
    "feature_imp = pd.DataFrame(sorted(zip(feature_importance, features.columns)), columns=['Value','Feature'])\n",
    "sns.barplot(x=\"Value\", y=\"Feature\", data=feature_imp.sort_values(by=\"Value\", ascending=False))\n",
    "plt.title('Feature importance')\n",
    "plt.tight_layout()\n",
    "plt.show();"
   ]
  },
  {
   "cell_type": "markdown",
   "metadata": {},
   "source": [
    "В топ 3 по важности вошли - время пользования услугами, месячные выплаты и тип оплаты вместе с общими выплатами. Самые маловажные признаки - гендр, облачное хранилище и стриминговое ТВ."
   ]
  },
  {
   "cell_type": "markdown",
   "metadata": {},
   "source": [
    "## Отчет о проделанной работе"
   ]
  },
  {
   "cell_type": "markdown",
   "metadata": {},
   "source": [
    "Каждый пункт плана был выполнен. Возникали трудности с признаками BeginDate и EndDate, в итоге EndDate был преобразован в целевой признак, путем замены значения 'No' на 0, а даты на 1, после чего был создан признак со временем пользования услугами(Бралась дата последнего контракта, заключенного до выгрузки данных. Из нее вычитались значения даты начала пользования услугами, так получалась время пользования услугами для тех, кто еще является пользователями услугами. Для тех, кто расторгнул контракт, просто вычиталось BeginDate из EndDate). \n",
    "\n",
    "Ключевые шаги выявленные в решении задачи:\n",
    "- Небольшая предобработка данных(замена типов, соединение выборок, устранение пропусков, создание новых признаков)\n",
    "- Исследование признаков по одному\n",
    "- Исследование признаков на мультиколлериальность\n",
    "- Кодирование данных, правильное выявление категориальных признаков\n",
    "- Построение моделей\n",
    "\n",
    "Для обучения были использованы все признаки кроме customerID, BeginDate, EndDate. Так же был использован новый признак - diff_days, как оказалось самый важный. Для итоговой модели были применены незакодированные признаки, которые нуждались лишь в заполнение пропусков(замена на 'No').\n",
    "\n",
    "Финальной моделью является CatBoost - она получила лучшие показатели на валидации: 0.9204874689363833 метрики ROC-AUC. На тест она попала с такими гиперпараметрами: depth(глубина) - 3, learning_rate(коэффициент скорости обучения) - 0.7, n_estimators(количество итераций) - 200. В итоге тестирования модель показала отличные результаты - 0.9109555797484907 метрики ROC-AUC."
   ]
  }
 ],
 "metadata": {
  "ExecuteTimeLog": [
   {
    "duration": 101,
    "start_time": "2023-03-01T11:51:57.397Z"
   },
   {
    "duration": 1596,
    "start_time": "2023-03-01T12:06:23.388Z"
   },
   {
    "duration": 140,
    "start_time": "2023-03-01T12:07:32.367Z"
   },
   {
    "duration": 16,
    "start_time": "2023-03-01T12:07:32.512Z"
   },
   {
    "duration": 16,
    "start_time": "2023-03-01T12:07:40.603Z"
   },
   {
    "duration": 12,
    "start_time": "2023-03-01T12:07:48.168Z"
   },
   {
    "duration": 78,
    "start_time": "2023-03-01T12:07:55.498Z"
   },
   {
    "duration": 131,
    "start_time": "2023-03-01T12:08:09.056Z"
   },
   {
    "duration": 9,
    "start_time": "2023-03-01T12:08:15.208Z"
   },
   {
    "duration": 13,
    "start_time": "2023-03-01T12:08:24.288Z"
   },
   {
    "duration": 9,
    "start_time": "2023-03-01T12:08:31.393Z"
   },
   {
    "duration": 101,
    "start_time": "2023-03-01T12:08:37.231Z"
   },
   {
    "duration": 151,
    "start_time": "2023-03-01T12:08:48.835Z"
   },
   {
    "duration": 11,
    "start_time": "2023-03-01T12:08:57.356Z"
   },
   {
    "duration": 22,
    "start_time": "2023-03-01T12:09:04.819Z"
   },
   {
    "duration": 21,
    "start_time": "2023-03-01T12:09:12.830Z"
   },
   {
    "duration": 117,
    "start_time": "2023-03-01T12:09:29.952Z"
   },
   {
    "duration": 8,
    "start_time": "2023-03-01T12:09:39.875Z"
   },
   {
    "duration": 12,
    "start_time": "2023-03-01T12:09:46.711Z"
   },
   {
    "duration": 7,
    "start_time": "2023-03-01T12:09:54.883Z"
   },
   {
    "duration": 2,
    "start_time": "2023-03-01T12:11:06.279Z"
   },
   {
    "duration": 6,
    "start_time": "2023-03-01T12:13:32.969Z"
   },
   {
    "duration": 78,
    "start_time": "2023-03-01T12:15:26.179Z"
   },
   {
    "duration": 705,
    "start_time": "2023-03-01T12:15:34.172Z"
   },
   {
    "duration": 7,
    "start_time": "2023-03-01T12:15:56.865Z"
   },
   {
    "duration": 16,
    "start_time": "2023-03-01T12:17:08.525Z"
   },
   {
    "duration": 25,
    "start_time": "2023-03-01T12:17:21.508Z"
   },
   {
    "duration": 18,
    "start_time": "2023-03-01T12:19:03.479Z"
   },
   {
    "duration": 19,
    "start_time": "2023-03-01T12:19:12.652Z"
   },
   {
    "duration": 19,
    "start_time": "2023-03-01T12:31:00.515Z"
   },
   {
    "duration": 14,
    "start_time": "2023-03-01T12:31:10.988Z"
   },
   {
    "duration": 16,
    "start_time": "2023-03-01T12:31:20.284Z"
   },
   {
    "duration": 3,
    "start_time": "2023-03-01T12:32:54.665Z"
   },
   {
    "duration": 228,
    "start_time": "2023-03-01T12:48:07.607Z"
   },
   {
    "duration": 89495,
    "start_time": "2023-03-01T12:48:18.325Z"
   },
   {
    "duration": 149,
    "start_time": "2023-03-01T12:49:57.336Z"
   },
   {
    "duration": 145,
    "start_time": "2023-03-01T12:50:15.560Z"
   },
   {
    "duration": 173,
    "start_time": "2023-03-01T12:51:01.858Z"
   },
   {
    "duration": 153,
    "start_time": "2023-03-01T12:51:09.916Z"
   },
   {
    "duration": 146,
    "start_time": "2023-03-01T12:51:16.510Z"
   },
   {
    "duration": 156,
    "start_time": "2023-03-01T12:53:49.948Z"
   },
   {
    "duration": 118,
    "start_time": "2023-03-01T13:19:56.322Z"
   },
   {
    "duration": 72,
    "start_time": "2023-03-01T13:26:27.429Z"
   },
   {
    "duration": 413,
    "start_time": "2023-03-01T13:34:03.342Z"
   },
   {
    "duration": 413,
    "start_time": "2023-03-01T13:34:27.307Z"
   },
   {
    "duration": 99,
    "start_time": "2023-03-01T13:37:36.129Z"
   },
   {
    "duration": 450,
    "start_time": "2023-03-01T13:37:41.079Z"
   },
   {
    "duration": 527,
    "start_time": "2023-03-01T13:47:09.864Z"
   },
   {
    "duration": 95,
    "start_time": "2023-03-01T13:52:17.582Z"
   },
   {
    "duration": 122,
    "start_time": "2023-03-01T13:54:00.095Z"
   },
   {
    "duration": 3,
    "start_time": "2023-03-01T13:54:05.159Z"
   },
   {
    "duration": 961,
    "start_time": "2023-03-01T13:54:23.311Z"
   },
   {
    "duration": 127,
    "start_time": "2023-03-01T14:03:09.671Z"
   },
   {
    "duration": 35,
    "start_time": "2023-03-01T14:10:46.703Z"
   },
   {
    "duration": 3,
    "start_time": "2023-03-01T14:12:43.997Z"
   },
   {
    "duration": 18,
    "start_time": "2023-03-01T14:12:52.629Z"
   },
   {
    "duration": 22,
    "start_time": "2023-03-01T14:15:35.554Z"
   },
   {
    "duration": 3,
    "start_time": "2023-03-01T14:15:49.658Z"
   },
   {
    "duration": 23,
    "start_time": "2023-03-01T14:16:09.263Z"
   },
   {
    "duration": 25,
    "start_time": "2023-03-01T14:16:15.173Z"
   },
   {
    "duration": 25,
    "start_time": "2023-03-01T14:16:25.083Z"
   },
   {
    "duration": 22,
    "start_time": "2023-03-01T14:16:31.154Z"
   },
   {
    "duration": 40,
    "start_time": "2023-03-01T14:16:56.488Z"
   },
   {
    "duration": 27,
    "start_time": "2023-03-01T14:18:09.877Z"
   },
   {
    "duration": 78,
    "start_time": "2023-03-01T14:22:47.915Z"
   },
   {
    "duration": 5,
    "start_time": "2023-03-01T14:25:22.457Z"
   },
   {
    "duration": 8,
    "start_time": "2023-03-01T14:25:30.865Z"
   },
   {
    "duration": 9,
    "start_time": "2023-03-01T14:26:00.833Z"
   },
   {
    "duration": 5,
    "start_time": "2023-03-01T15:30:07.812Z"
   },
   {
    "duration": 28,
    "start_time": "2023-03-01T15:31:53.597Z"
   },
   {
    "duration": 25,
    "start_time": "2023-03-01T15:34:16.476Z"
   },
   {
    "duration": 25,
    "start_time": "2023-03-01T15:34:28.765Z"
   },
   {
    "duration": 56,
    "start_time": "2023-03-01T15:35:35.394Z"
   },
   {
    "duration": 50,
    "start_time": "2023-03-01T15:36:18.842Z"
   },
   {
    "duration": 1522,
    "start_time": "2023-03-01T15:38:54.671Z"
   },
   {
    "duration": 15,
    "start_time": "2023-03-01T15:39:33.879Z"
   },
   {
    "duration": 6,
    "start_time": "2023-03-01T15:49:27.754Z"
   },
   {
    "duration": 17,
    "start_time": "2023-03-01T15:49:51.253Z"
   },
   {
    "duration": 8,
    "start_time": "2023-03-01T15:50:44.982Z"
   },
   {
    "duration": 19,
    "start_time": "2023-03-01T15:51:01.508Z"
   },
   {
    "duration": 123,
    "start_time": "2023-03-01T15:51:20.981Z"
   },
   {
    "duration": 136,
    "start_time": "2023-03-01T15:52:19.808Z"
   },
   {
    "duration": 173,
    "start_time": "2023-03-01T15:52:32.348Z"
   },
   {
    "duration": 123,
    "start_time": "2023-03-01T15:52:42.248Z"
   },
   {
    "duration": 137,
    "start_time": "2023-03-01T15:52:54.549Z"
   },
   {
    "duration": 128,
    "start_time": "2023-03-01T15:53:04.011Z"
   },
   {
    "duration": 5,
    "start_time": "2023-03-01T15:54:07.269Z"
   },
   {
    "duration": 50,
    "start_time": "2023-03-01T15:54:07.581Z"
   },
   {
    "duration": 11,
    "start_time": "2023-03-01T15:54:07.750Z"
   },
   {
    "duration": 13,
    "start_time": "2023-03-01T15:54:07.894Z"
   },
   {
    "duration": 11,
    "start_time": "2023-03-01T15:54:08.037Z"
   },
   {
    "duration": 22,
    "start_time": "2023-03-01T15:54:08.365Z"
   },
   {
    "duration": 11,
    "start_time": "2023-03-01T15:54:08.531Z"
   },
   {
    "duration": 12,
    "start_time": "2023-03-01T15:54:08.686Z"
   },
   {
    "duration": 10,
    "start_time": "2023-03-01T15:54:08.841Z"
   },
   {
    "duration": 45,
    "start_time": "2023-03-01T15:54:09.162Z"
   },
   {
    "duration": 13,
    "start_time": "2023-03-01T15:54:09.325Z"
   },
   {
    "duration": 13,
    "start_time": "2023-03-01T15:54:09.486Z"
   },
   {
    "duration": 8,
    "start_time": "2023-03-01T15:54:09.642Z"
   },
   {
    "duration": 19,
    "start_time": "2023-03-01T15:54:09.964Z"
   },
   {
    "duration": 9,
    "start_time": "2023-03-01T15:54:10.126Z"
   },
   {
    "duration": 12,
    "start_time": "2023-03-01T15:54:10.298Z"
   },
   {
    "duration": 7,
    "start_time": "2023-03-01T15:54:10.507Z"
   },
   {
    "duration": 21,
    "start_time": "2023-03-01T15:54:11.308Z"
   },
   {
    "duration": 16,
    "start_time": "2023-03-01T15:54:11.644Z"
   },
   {
    "duration": 15,
    "start_time": "2023-03-01T15:54:11.812Z"
   },
   {
    "duration": 20,
    "start_time": "2023-03-01T15:54:12.227Z"
   },
   {
    "duration": 140,
    "start_time": "2023-03-01T15:54:12.328Z"
   },
   {
    "duration": 124,
    "start_time": "2023-03-01T15:54:12.656Z"
   },
   {
    "duration": 151,
    "start_time": "2023-03-01T15:54:12.832Z"
   },
   {
    "duration": 410,
    "start_time": "2023-03-01T15:54:13.442Z"
   },
   {
    "duration": 521,
    "start_time": "2023-03-01T15:54:13.855Z"
   },
   {
    "duration": 884,
    "start_time": "2023-03-01T15:54:14.432Z"
   },
   {
    "duration": 145,
    "start_time": "2023-03-01T15:54:15.319Z"
   },
   {
    "duration": 3,
    "start_time": "2023-03-01T15:54:15.585Z"
   },
   {
    "duration": 39,
    "start_time": "2023-03-01T15:54:15.733Z"
   },
   {
    "duration": 26,
    "start_time": "2023-03-01T15:54:15.895Z"
   },
   {
    "duration": 7,
    "start_time": "2023-03-01T15:54:16.416Z"
   },
   {
    "duration": 239,
    "start_time": "2023-03-01T15:56:22.887Z"
   },
   {
    "duration": 170,
    "start_time": "2023-03-01T15:56:36.742Z"
   },
   {
    "duration": 235,
    "start_time": "2023-03-01T15:56:48.758Z"
   },
   {
    "duration": 125,
    "start_time": "2023-03-01T15:57:07.079Z"
   },
   {
    "duration": 157,
    "start_time": "2023-03-01T15:57:14.407Z"
   },
   {
    "duration": 17,
    "start_time": "2023-03-01T16:00:13.228Z"
   },
   {
    "duration": 10,
    "start_time": "2023-03-01T16:09:09.816Z"
   },
   {
    "duration": 2242,
    "start_time": "2023-03-01T16:09:15.364Z"
   },
   {
    "duration": 2944,
    "start_time": "2023-03-01T16:09:21.157Z"
   },
   {
    "duration": 14,
    "start_time": "2023-03-01T16:14:49.889Z"
   },
   {
    "duration": 4,
    "start_time": "2023-03-01T16:15:32.101Z"
   },
   {
    "duration": 258,
    "start_time": "2023-03-01T16:15:36.551Z"
   },
   {
    "duration": 259,
    "start_time": "2023-03-01T16:24:24.774Z"
   },
   {
    "duration": 80,
    "start_time": "2023-03-01T16:26:59.908Z"
   },
   {
    "duration": 10,
    "start_time": "2023-03-01T16:27:10.200Z"
   },
   {
    "duration": 16,
    "start_time": "2023-03-01T16:32:54.860Z"
   },
   {
    "duration": 14,
    "start_time": "2023-03-01T16:33:14.944Z"
   },
   {
    "duration": 14,
    "start_time": "2023-03-01T16:33:53.057Z"
   },
   {
    "duration": 4,
    "start_time": "2023-03-01T16:34:07.121Z"
   },
   {
    "duration": 66,
    "start_time": "2023-03-01T16:34:07.408Z"
   },
   {
    "duration": 11,
    "start_time": "2023-03-01T16:34:07.570Z"
   },
   {
    "duration": 13,
    "start_time": "2023-03-01T16:34:07.708Z"
   },
   {
    "duration": 10,
    "start_time": "2023-03-01T16:34:07.857Z"
   },
   {
    "duration": 21,
    "start_time": "2023-03-01T16:34:08.161Z"
   },
   {
    "duration": 12,
    "start_time": "2023-03-01T16:34:08.306Z"
   },
   {
    "duration": 16,
    "start_time": "2023-03-01T16:34:08.457Z"
   },
   {
    "duration": 8,
    "start_time": "2023-03-01T16:34:08.612Z"
   },
   {
    "duration": 48,
    "start_time": "2023-03-01T16:34:08.938Z"
   },
   {
    "duration": 12,
    "start_time": "2023-03-01T16:34:09.099Z"
   },
   {
    "duration": 13,
    "start_time": "2023-03-01T16:34:09.254Z"
   },
   {
    "duration": 10,
    "start_time": "2023-03-01T16:34:09.408Z"
   },
   {
    "duration": 19,
    "start_time": "2023-03-01T16:34:09.729Z"
   },
   {
    "duration": 8,
    "start_time": "2023-03-01T16:34:09.885Z"
   },
   {
    "duration": 11,
    "start_time": "2023-03-01T16:34:10.060Z"
   },
   {
    "duration": 6,
    "start_time": "2023-03-01T16:34:10.219Z"
   },
   {
    "duration": 19,
    "start_time": "2023-03-01T16:34:11.031Z"
   },
   {
    "duration": 16,
    "start_time": "2023-03-01T16:34:11.349Z"
   },
   {
    "duration": 10,
    "start_time": "2023-03-01T16:34:11.510Z"
   },
   {
    "duration": 14,
    "start_time": "2023-03-01T16:34:11.831Z"
   },
   {
    "duration": 150,
    "start_time": "2023-03-01T16:34:11.991Z"
   },
   {
    "duration": 176,
    "start_time": "2023-03-01T16:34:12.310Z"
   },
   {
    "duration": 150,
    "start_time": "2023-03-01T16:34:12.488Z"
   },
   {
    "duration": 438,
    "start_time": "2023-03-01T16:34:12.968Z"
   },
   {
    "duration": 492,
    "start_time": "2023-03-01T16:34:13.492Z"
   },
   {
    "duration": 898,
    "start_time": "2023-03-01T16:34:14.003Z"
   },
   {
    "duration": 136,
    "start_time": "2023-03-01T16:34:14.903Z"
   },
   {
    "duration": 3,
    "start_time": "2023-03-01T16:34:15.042Z"
   },
   {
    "duration": 37,
    "start_time": "2023-03-01T16:34:15.183Z"
   },
   {
    "duration": 24,
    "start_time": "2023-03-01T16:34:15.349Z"
   },
   {
    "duration": 9,
    "start_time": "2023-03-01T16:34:15.871Z"
   },
   {
    "duration": 16,
    "start_time": "2023-03-01T16:34:16.599Z"
   },
   {
    "duration": 40,
    "start_time": "2023-03-01T16:35:28.912Z"
   },
   {
    "duration": 25,
    "start_time": "2023-03-01T16:35:30.480Z"
   },
   {
    "duration": 8,
    "start_time": "2023-03-01T16:35:38.696Z"
   },
   {
    "duration": 5,
    "start_time": "2023-03-01T16:36:03.680Z"
   },
   {
    "duration": 6,
    "start_time": "2023-03-01T16:36:30.152Z"
   },
   {
    "duration": 9,
    "start_time": "2023-03-01T16:37:09.190Z"
   },
   {
    "duration": 9,
    "start_time": "2023-03-01T16:37:12.113Z"
   },
   {
    "duration": 20,
    "start_time": "2023-03-01T16:37:32.938Z"
   },
   {
    "duration": 38,
    "start_time": "2023-03-01T16:38:15.236Z"
   },
   {
    "duration": 26,
    "start_time": "2023-03-01T16:38:15.715Z"
   },
   {
    "duration": 9,
    "start_time": "2023-03-01T16:38:16.888Z"
   },
   {
    "duration": 5,
    "start_time": "2023-03-01T16:38:17.709Z"
   },
   {
    "duration": 20,
    "start_time": "2023-03-01T16:38:19.965Z"
   },
   {
    "duration": 18,
    "start_time": "2023-03-01T16:39:36.637Z"
   },
   {
    "duration": 44,
    "start_time": "2023-03-01T16:39:54.402Z"
   },
   {
    "duration": 27,
    "start_time": "2023-03-01T16:39:54.584Z"
   },
   {
    "duration": 9,
    "start_time": "2023-03-01T16:39:55.054Z"
   },
   {
    "duration": 16,
    "start_time": "2023-03-01T16:39:55.359Z"
   },
   {
    "duration": 312,
    "start_time": "2023-03-01T16:39:55.689Z"
   },
   {
    "duration": 89,
    "start_time": "2023-03-01T16:42:46.039Z"
   },
   {
    "duration": 21,
    "start_time": "2023-03-01T16:42:59.360Z"
   },
   {
    "duration": 302,
    "start_time": "2023-03-01T16:43:17.628Z"
   },
   {
    "duration": 17,
    "start_time": "2023-03-01T16:48:04.794Z"
   },
   {
    "duration": 40,
    "start_time": "2023-03-01T16:48:12.683Z"
   },
   {
    "duration": 25,
    "start_time": "2023-03-01T16:48:12.847Z"
   },
   {
    "duration": 8,
    "start_time": "2023-03-01T16:48:13.283Z"
   },
   {
    "duration": 16,
    "start_time": "2023-03-01T16:48:13.568Z"
   },
   {
    "duration": 19,
    "start_time": "2023-03-01T16:48:13.864Z"
   },
   {
    "duration": 4,
    "start_time": "2023-03-01T17:12:57.012Z"
   },
   {
    "duration": 45,
    "start_time": "2023-03-01T17:14:39.881Z"
   },
   {
    "duration": 47,
    "start_time": "2023-03-01T17:16:19.661Z"
   },
   {
    "duration": 3,
    "start_time": "2023-03-01T17:16:49.501Z"
   },
   {
    "duration": 45,
    "start_time": "2023-03-01T17:16:53.861Z"
   },
   {
    "duration": 43,
    "start_time": "2023-03-01T17:17:05.351Z"
   },
   {
    "duration": 41,
    "start_time": "2023-03-01T17:17:20.006Z"
   },
   {
    "duration": 2404,
    "start_time": "2023-03-01T17:21:22.886Z"
   },
   {
    "duration": 3004,
    "start_time": "2023-03-01T17:22:36.407Z"
   },
   {
    "duration": 3000,
    "start_time": "2023-03-01T17:23:44.875Z"
   },
   {
    "duration": 3064,
    "start_time": "2023-03-01T17:24:01.875Z"
   },
   {
    "duration": 3279,
    "start_time": "2023-03-01T17:24:30.190Z"
   },
   {
    "duration": 120,
    "start_time": "2023-03-01T17:32:11.195Z"
   },
   {
    "duration": 5,
    "start_time": "2023-03-01T17:39:39.140Z"
   },
   {
    "duration": 28,
    "start_time": "2023-03-01T17:40:43.500Z"
   },
   {
    "duration": 51,
    "start_time": "2023-03-01T20:46:30.117Z"
   },
   {
    "duration": 41,
    "start_time": "2023-03-01T20:46:56.855Z"
   },
   {
    "duration": 2768,
    "start_time": "2023-03-01T20:48:24.694Z"
   },
   {
    "duration": 9,
    "start_time": "2023-03-01T20:49:53.240Z"
   },
   {
    "duration": 3499,
    "start_time": "2023-03-01T20:49:53.376Z"
   },
   {
    "duration": 15,
    "start_time": "2023-03-01T20:52:02.683Z"
   },
   {
    "duration": 39,
    "start_time": "2023-03-01T20:53:59.009Z"
   },
   {
    "duration": 14,
    "start_time": "2023-03-01T20:54:02.895Z"
   },
   {
    "duration": 32,
    "start_time": "2023-03-01T20:54:47.502Z"
   },
   {
    "duration": 119,
    "start_time": "2023-03-01T21:00:17.094Z"
   },
   {
    "duration": 9258,
    "start_time": "2023-03-01T21:00:27.331Z"
   },
   {
    "duration": 37,
    "start_time": "2023-03-01T21:00:40.007Z"
   },
   {
    "duration": 13,
    "start_time": "2023-03-01T21:00:42.562Z"
   },
   {
    "duration": 10,
    "start_time": "2023-03-01T21:04:10.923Z"
   },
   {
    "duration": 23,
    "start_time": "2023-03-01T21:04:18.828Z"
   },
   {
    "duration": 14,
    "start_time": "2023-03-01T21:04:43.561Z"
   },
   {
    "duration": 35,
    "start_time": "2023-03-01T21:13:08.327Z"
   },
   {
    "duration": 8669,
    "start_time": "2023-03-01T21:13:10.559Z"
   },
   {
    "duration": 18,
    "start_time": "2023-03-01T21:13:24.377Z"
   },
   {
    "duration": 29,
    "start_time": "2023-03-01T21:13:40.107Z"
   },
   {
    "duration": 9303,
    "start_time": "2023-03-01T21:13:41.121Z"
   },
   {
    "duration": 16,
    "start_time": "2023-03-01T21:13:50.426Z"
   },
   {
    "duration": 44,
    "start_time": "2023-03-06T19:51:43.931Z"
   },
   {
    "duration": 1596,
    "start_time": "2023-03-06T19:51:52.103Z"
   },
   {
    "duration": 273,
    "start_time": "2023-03-06T19:51:53.701Z"
   },
   {
    "duration": 15,
    "start_time": "2023-03-06T19:51:53.975Z"
   },
   {
    "duration": 12,
    "start_time": "2023-03-06T19:51:53.992Z"
   },
   {
    "duration": 14,
    "start_time": "2023-03-06T19:51:54.006Z"
   },
   {
    "duration": 53,
    "start_time": "2023-03-06T19:51:54.022Z"
   },
   {
    "duration": 11,
    "start_time": "2023-03-06T19:51:54.077Z"
   },
   {
    "duration": 16,
    "start_time": "2023-03-06T19:51:54.090Z"
   },
   {
    "duration": 10,
    "start_time": "2023-03-06T19:51:54.108Z"
   },
   {
    "duration": 98,
    "start_time": "2023-03-06T19:51:54.120Z"
   },
   {
    "duration": 14,
    "start_time": "2023-03-06T19:51:54.244Z"
   },
   {
    "duration": 12,
    "start_time": "2023-03-06T19:51:54.426Z"
   },
   {
    "duration": 10,
    "start_time": "2023-03-06T19:51:54.615Z"
   },
   {
    "duration": 62,
    "start_time": "2023-03-06T19:51:54.924Z"
   },
   {
    "duration": 7,
    "start_time": "2023-03-06T19:51:55.107Z"
   },
   {
    "duration": 13,
    "start_time": "2023-03-06T19:51:55.280Z"
   },
   {
    "duration": 6,
    "start_time": "2023-03-06T19:51:55.440Z"
   },
   {
    "duration": 18,
    "start_time": "2023-03-06T19:51:56.300Z"
   },
   {
    "duration": 20,
    "start_time": "2023-03-06T19:51:56.621Z"
   },
   {
    "duration": 88,
    "start_time": "2023-03-06T19:51:56.812Z"
   },
   {
    "duration": 15,
    "start_time": "2023-03-06T19:51:57.134Z"
   },
   {
    "duration": 160,
    "start_time": "2023-03-06T19:51:57.326Z"
   },
   {
    "duration": 180,
    "start_time": "2023-03-06T19:51:57.694Z"
   },
   {
    "duration": 141,
    "start_time": "2023-03-06T19:51:57.876Z"
   },
   {
    "duration": 471,
    "start_time": "2023-03-06T19:51:58.342Z"
   },
   {
    "duration": 472,
    "start_time": "2023-03-06T19:51:58.919Z"
   },
   {
    "duration": 856,
    "start_time": "2023-03-06T19:51:59.515Z"
   },
   {
    "duration": 141,
    "start_time": "2023-03-06T19:52:00.373Z"
   },
   {
    "duration": 2,
    "start_time": "2023-03-06T19:52:00.554Z"
   },
   {
    "duration": 36,
    "start_time": "2023-03-06T19:52:00.734Z"
   },
   {
    "duration": 27,
    "start_time": "2023-03-06T19:52:00.935Z"
   },
   {
    "duration": 8,
    "start_time": "2023-03-06T19:52:01.483Z"
   },
   {
    "duration": 14,
    "start_time": "2023-03-06T19:52:01.825Z"
   },
   {
    "duration": 17,
    "start_time": "2023-03-06T19:52:02.211Z"
   },
   {
    "duration": 285,
    "start_time": "2023-03-06T19:52:02.590Z"
   },
   {
    "duration": 41,
    "start_time": "2023-03-06T19:52:03.119Z"
   },
   {
    "duration": 2983,
    "start_time": "2023-03-06T19:52:03.290Z"
   },
   {
    "duration": 221,
    "start_time": "2023-03-06T19:52:06.275Z"
   },
   {
    "duration": 36,
    "start_time": "2023-03-06T19:52:06.497Z"
   },
   {
    "duration": 5,
    "start_time": "2023-03-06T19:52:06.535Z"
   },
   {
    "duration": 9,
    "start_time": "2023-03-06T19:52:44.173Z"
   },
   {
    "duration": 6,
    "start_time": "2023-03-06T19:52:51.615Z"
   },
   {
    "duration": 49,
    "start_time": "2023-03-06T19:52:51.925Z"
   },
   {
    "duration": 16,
    "start_time": "2023-03-06T19:52:52.111Z"
   },
   {
    "duration": 12,
    "start_time": "2023-03-06T19:52:52.273Z"
   },
   {
    "duration": 10,
    "start_time": "2023-03-06T19:52:52.453Z"
   },
   {
    "duration": 19,
    "start_time": "2023-03-06T19:52:52.819Z"
   },
   {
    "duration": 9,
    "start_time": "2023-03-06T19:52:52.952Z"
   },
   {
    "duration": 12,
    "start_time": "2023-03-06T19:52:53.126Z"
   },
   {
    "duration": 8,
    "start_time": "2023-03-06T19:52:53.275Z"
   },
   {
    "duration": 43,
    "start_time": "2023-03-06T19:52:53.742Z"
   },
   {
    "duration": 9,
    "start_time": "2023-03-06T19:52:53.922Z"
   },
   {
    "duration": 14,
    "start_time": "2023-03-06T19:52:54.116Z"
   },
   {
    "duration": 11,
    "start_time": "2023-03-06T19:52:54.277Z"
   },
   {
    "duration": 18,
    "start_time": "2023-03-06T19:52:54.615Z"
   },
   {
    "duration": 7,
    "start_time": "2023-03-06T19:52:54.807Z"
   },
   {
    "duration": 10,
    "start_time": "2023-03-06T19:52:54.937Z"
   },
   {
    "duration": 7,
    "start_time": "2023-03-06T19:52:55.115Z"
   },
   {
    "duration": 18,
    "start_time": "2023-03-06T19:52:56.029Z"
   },
   {
    "duration": 16,
    "start_time": "2023-03-06T19:52:56.377Z"
   },
   {
    "duration": 15,
    "start_time": "2023-03-06T19:52:56.578Z"
   },
   {
    "duration": 13,
    "start_time": "2023-03-06T19:52:56.935Z"
   },
   {
    "duration": 137,
    "start_time": "2023-03-06T19:52:57.118Z"
   },
   {
    "duration": 171,
    "start_time": "2023-03-06T19:53:02.099Z"
   },
   {
    "duration": 142,
    "start_time": "2023-03-06T19:53:02.274Z"
   },
   {
    "duration": 417,
    "start_time": "2023-03-06T19:53:02.741Z"
   },
   {
    "duration": 472,
    "start_time": "2023-03-06T19:53:03.272Z"
   },
   {
    "duration": 1042,
    "start_time": "2023-03-06T19:53:03.746Z"
   },
   {
    "duration": 132,
    "start_time": "2023-03-06T19:53:04.790Z"
   },
   {
    "duration": 2,
    "start_time": "2023-03-06T19:53:04.924Z"
   },
   {
    "duration": 38,
    "start_time": "2023-03-06T19:53:04.958Z"
   },
   {
    "duration": 23,
    "start_time": "2023-03-06T19:53:05.125Z"
   },
   {
    "duration": 7,
    "start_time": "2023-03-06T19:53:05.624Z"
   },
   {
    "duration": 14,
    "start_time": "2023-03-06T19:53:05.979Z"
   },
   {
    "duration": 17,
    "start_time": "2023-03-06T19:53:06.341Z"
   },
   {
    "duration": 320,
    "start_time": "2023-03-06T19:53:06.719Z"
   },
   {
    "duration": 44,
    "start_time": "2023-03-06T19:53:07.225Z"
   },
   {
    "duration": 2807,
    "start_time": "2023-03-06T19:53:07.423Z"
   },
   {
    "duration": 116,
    "start_time": "2023-03-06T19:53:10.232Z"
   },
   {
    "duration": 26,
    "start_time": "2023-03-06T19:53:10.349Z"
   },
   {
    "duration": 8,
    "start_time": "2023-03-06T19:53:13.553Z"
   },
   {
    "duration": 17,
    "start_time": "2023-03-06T19:57:40.909Z"
   },
   {
    "duration": 23,
    "start_time": "2023-03-06T19:58:03.443Z"
   },
   {
    "duration": 7,
    "start_time": "2023-03-06T20:17:47.209Z"
   },
   {
    "duration": 22,
    "start_time": "2023-03-06T20:18:55.043Z"
   },
   {
    "duration": 36,
    "start_time": "2023-03-06T20:19:37.806Z"
   },
   {
    "duration": 39,
    "start_time": "2023-03-06T20:20:12.433Z"
   },
   {
    "duration": 45,
    "start_time": "2023-03-06T20:21:55.136Z"
   },
   {
    "duration": 48,
    "start_time": "2023-03-06T20:24:05.295Z"
   },
   {
    "duration": 37,
    "start_time": "2023-03-06T20:24:18.170Z"
   },
   {
    "duration": 36,
    "start_time": "2023-03-06T20:27:15.414Z"
   },
   {
    "duration": 13,
    "start_time": "2023-03-06T20:27:35.138Z"
   },
   {
    "duration": 6515,
    "start_time": "2023-03-06T20:31:41.238Z"
   },
   {
    "duration": 24,
    "start_time": "2023-03-06T20:32:20.916Z"
   },
   {
    "duration": 2008,
    "start_time": "2023-03-06T20:33:43.423Z"
   },
   {
    "duration": 52,
    "start_time": "2023-03-06T20:33:47.109Z"
   },
   {
    "duration": 10,
    "start_time": "2023-03-06T20:33:47.163Z"
   },
   {
    "duration": 13,
    "start_time": "2023-03-06T20:33:47.297Z"
   },
   {
    "duration": 10,
    "start_time": "2023-03-06T20:33:47.462Z"
   },
   {
    "duration": 20,
    "start_time": "2023-03-06T20:33:47.810Z"
   },
   {
    "duration": 8,
    "start_time": "2023-03-06T20:33:47.963Z"
   },
   {
    "duration": 12,
    "start_time": "2023-03-06T20:33:48.138Z"
   },
   {
    "duration": 8,
    "start_time": "2023-03-06T20:33:48.306Z"
   },
   {
    "duration": 44,
    "start_time": "2023-03-06T20:33:48.634Z"
   },
   {
    "duration": 10,
    "start_time": "2023-03-06T20:33:48.793Z"
   },
   {
    "duration": 12,
    "start_time": "2023-03-06T20:33:48.940Z"
   },
   {
    "duration": 8,
    "start_time": "2023-03-06T20:33:49.109Z"
   },
   {
    "duration": 18,
    "start_time": "2023-03-06T20:33:49.458Z"
   },
   {
    "duration": 6,
    "start_time": "2023-03-06T20:33:49.639Z"
   },
   {
    "duration": 9,
    "start_time": "2023-03-06T20:33:49.805Z"
   },
   {
    "duration": 7,
    "start_time": "2023-03-06T20:33:49.964Z"
   },
   {
    "duration": 18,
    "start_time": "2023-03-06T20:33:50.802Z"
   },
   {
    "duration": 15,
    "start_time": "2023-03-06T20:33:51.136Z"
   },
   {
    "duration": 15,
    "start_time": "2023-03-06T20:33:51.307Z"
   },
   {
    "duration": 14,
    "start_time": "2023-03-06T20:33:51.623Z"
   },
   {
    "duration": 143,
    "start_time": "2023-03-06T20:33:51.807Z"
   },
   {
    "duration": 168,
    "start_time": "2023-03-06T20:33:52.133Z"
   },
   {
    "duration": 136,
    "start_time": "2023-03-06T20:33:52.311Z"
   },
   {
    "duration": 378,
    "start_time": "2023-03-06T20:33:52.837Z"
   },
   {
    "duration": 600,
    "start_time": "2023-03-06T20:33:53.406Z"
   },
   {
    "duration": 933,
    "start_time": "2023-03-06T20:33:54.012Z"
   },
   {
    "duration": 138,
    "start_time": "2023-03-06T20:33:54.947Z"
   },
   {
    "duration": 4,
    "start_time": "2023-03-06T20:33:55.218Z"
   },
   {
    "duration": 35,
    "start_time": "2023-03-06T20:33:55.428Z"
   },
   {
    "duration": 22,
    "start_time": "2023-03-06T20:33:55.607Z"
   },
   {
    "duration": 8,
    "start_time": "2023-03-06T20:33:56.199Z"
   },
   {
    "duration": 13,
    "start_time": "2023-03-06T20:33:56.552Z"
   },
   {
    "duration": 17,
    "start_time": "2023-03-06T20:33:56.917Z"
   },
   {
    "duration": 303,
    "start_time": "2023-03-06T20:33:57.268Z"
   },
   {
    "duration": 40,
    "start_time": "2023-03-06T20:33:57.852Z"
   },
   {
    "duration": 2729,
    "start_time": "2023-03-06T20:33:58.047Z"
   },
   {
    "duration": 120,
    "start_time": "2023-03-06T20:34:00.778Z"
   },
   {
    "duration": 38,
    "start_time": "2023-03-06T20:34:00.899Z"
   },
   {
    "duration": 7,
    "start_time": "2023-03-06T20:34:00.938Z"
   },
   {
    "duration": 16,
    "start_time": "2023-03-06T20:34:01.206Z"
   },
   {
    "duration": 36,
    "start_time": "2023-03-06T20:40:33.103Z"
   },
   {
    "duration": 22,
    "start_time": "2023-03-06T20:49:38.071Z"
   },
   {
    "duration": 23,
    "start_time": "2023-03-06T20:49:57.565Z"
   },
   {
    "duration": 40,
    "start_time": "2023-03-06T20:50:21.318Z"
   },
   {
    "duration": 51,
    "start_time": "2023-03-06T20:52:12.261Z"
   },
   {
    "duration": 23,
    "start_time": "2023-03-06T20:52:50.205Z"
   },
   {
    "duration": 47,
    "start_time": "2023-03-06T20:53:58.710Z"
   },
   {
    "duration": 48,
    "start_time": "2023-03-06T20:58:35.604Z"
   },
   {
    "duration": 35,
    "start_time": "2023-03-06T20:58:50.100Z"
   },
   {
    "duration": 49,
    "start_time": "2023-03-06T21:01:29.527Z"
   },
   {
    "duration": 39,
    "start_time": "2023-03-06T21:01:49.843Z"
   },
   {
    "duration": 40,
    "start_time": "2023-03-06T21:02:10.412Z"
   },
   {
    "duration": 43,
    "start_time": "2023-03-06T21:03:15.035Z"
   },
   {
    "duration": 28,
    "start_time": "2023-03-06T21:03:19.724Z"
   },
   {
    "duration": 4,
    "start_time": "2023-03-06T21:09:38.778Z"
   },
   {
    "duration": 11,
    "start_time": "2023-03-06T21:13:05.962Z"
   },
   {
    "duration": 11,
    "start_time": "2023-03-06T21:13:23.974Z"
   },
   {
    "duration": 9,
    "start_time": "2023-03-06T21:14:07.655Z"
   },
   {
    "duration": 4,
    "start_time": "2023-03-06T21:14:28.558Z"
   },
   {
    "duration": 25,
    "start_time": "2023-03-06T21:14:32.435Z"
   },
   {
    "duration": 22,
    "start_time": "2023-03-06T21:15:53.562Z"
   },
   {
    "duration": 23,
    "start_time": "2023-03-06T21:18:22.324Z"
   },
   {
    "duration": 21,
    "start_time": "2023-03-06T21:19:58.129Z"
   },
   {
    "duration": 44,
    "start_time": "2023-03-06T21:20:38.780Z"
   },
   {
    "duration": 3,
    "start_time": "2023-03-06T21:20:45.873Z"
   },
   {
    "duration": 2,
    "start_time": "2023-03-06T21:21:15.645Z"
   },
   {
    "duration": 4,
    "start_time": "2023-03-06T21:21:32.603Z"
   },
   {
    "duration": 3,
    "start_time": "2023-03-06T21:21:36.620Z"
   },
   {
    "duration": 23,
    "start_time": "2023-03-06T21:21:42.576Z"
   },
   {
    "duration": 10,
    "start_time": "2023-03-06T21:22:22.577Z"
   },
   {
    "duration": 10,
    "start_time": "2023-03-06T21:22:51.667Z"
   },
   {
    "duration": 25,
    "start_time": "2023-03-06T21:23:36.970Z"
   },
   {
    "duration": 12,
    "start_time": "2023-03-06T21:24:14.036Z"
   },
   {
    "duration": 4,
    "start_time": "2023-03-06T21:24:21.508Z"
   },
   {
    "duration": 27079,
    "start_time": "2023-03-06T21:24:50.738Z"
   },
   {
    "duration": 29766,
    "start_time": "2023-03-06T21:25:27.052Z"
   },
   {
    "duration": 9827,
    "start_time": "2023-03-06T21:39:28.848Z"
   },
   {
    "duration": 13599,
    "start_time": "2023-03-06T21:40:12.642Z"
   },
   {
    "duration": 50,
    "start_time": "2023-03-06T21:46:52.517Z"
   },
   {
    "duration": 3987,
    "start_time": "2023-03-06T21:47:11.914Z"
   },
   {
    "duration": 1176,
    "start_time": "2023-03-06T21:49:54.150Z"
   },
   {
    "duration": 28,
    "start_time": "2023-03-06T21:50:01.157Z"
   },
   {
    "duration": 31,
    "start_time": "2023-03-06T21:50:13.730Z"
   },
   {
    "duration": 37712,
    "start_time": "2023-03-06T21:50:24.746Z"
   },
   {
    "duration": 11,
    "start_time": "2023-03-06T21:52:42.319Z"
   },
   {
    "duration": 36202,
    "start_time": "2023-03-06T21:53:38.382Z"
   },
   {
    "duration": 37205,
    "start_time": "2023-03-06T21:54:38.641Z"
   },
   {
    "duration": 43504,
    "start_time": "2023-03-06T21:55:46.594Z"
   },
   {
    "duration": 10,
    "start_time": "2023-03-06T21:56:48.995Z"
   },
   {
    "duration": 36166,
    "start_time": "2023-03-06T21:57:17.652Z"
   },
   {
    "duration": 11,
    "start_time": "2023-03-06T21:58:24.323Z"
   },
   {
    "duration": 36305,
    "start_time": "2023-03-06T21:58:56.450Z"
   },
   {
    "duration": 10,
    "start_time": "2023-03-06T22:00:22.445Z"
   },
   {
    "duration": 17,
    "start_time": "2023-03-06T22:07:03.843Z"
   },
   {
    "duration": 117,
    "start_time": "2023-03-06T22:07:28.846Z"
   },
   {
    "duration": 116,
    "start_time": "2023-03-06T22:07:35.837Z"
   },
   {
    "duration": 20,
    "start_time": "2023-03-06T22:10:39.835Z"
   },
   {
    "duration": 36419,
    "start_time": "2023-03-06T22:10:50.219Z"
   },
   {
    "duration": 120,
    "start_time": "2023-03-06T22:11:36.166Z"
   },
   {
    "duration": 11,
    "start_time": "2023-03-06T22:13:02.724Z"
   },
   {
    "duration": 10,
    "start_time": "2023-03-06T22:13:21.751Z"
   },
   {
    "duration": 9,
    "start_time": "2023-03-06T22:13:32.457Z"
   },
   {
    "duration": 9,
    "start_time": "2023-03-06T22:13:55.702Z"
   },
   {
    "duration": 10,
    "start_time": "2023-03-06T22:38:27.275Z"
   },
   {
    "duration": 1618,
    "start_time": "2023-03-06T22:41:32.690Z"
   },
   {
    "duration": 567,
    "start_time": "2023-03-06T22:42:25.242Z"
   },
   {
    "duration": 532,
    "start_time": "2023-03-06T22:42:35.105Z"
   },
   {
    "duration": 376,
    "start_time": "2023-03-06T22:42:48.177Z"
   },
   {
    "duration": 366,
    "start_time": "2023-03-06T22:44:22.582Z"
   },
   {
    "duration": 7869,
    "start_time": "2023-03-06T22:49:29.904Z"
   },
   {
    "duration": 8065,
    "start_time": "2023-03-06T22:50:03.109Z"
   },
   {
    "duration": 1840,
    "start_time": "2023-03-07T14:16:09.808Z"
   },
   {
    "duration": 151,
    "start_time": "2023-03-07T14:16:11.651Z"
   },
   {
    "duration": 21,
    "start_time": "2023-03-07T14:16:11.805Z"
   },
   {
    "duration": 12,
    "start_time": "2023-03-07T14:16:11.827Z"
   },
   {
    "duration": 12,
    "start_time": "2023-03-07T14:16:11.841Z"
   },
   {
    "duration": 46,
    "start_time": "2023-03-07T14:16:11.855Z"
   },
   {
    "duration": 10,
    "start_time": "2023-03-07T14:16:11.902Z"
   },
   {
    "duration": 18,
    "start_time": "2023-03-07T14:16:11.914Z"
   },
   {
    "duration": 10,
    "start_time": "2023-03-07T14:16:11.934Z"
   },
   {
    "duration": 191,
    "start_time": "2023-03-07T14:16:11.946Z"
   },
   {
    "duration": 11,
    "start_time": "2023-03-07T14:16:12.139Z"
   },
   {
    "duration": 18,
    "start_time": "2023-03-07T14:16:12.151Z"
   },
   {
    "duration": 16,
    "start_time": "2023-03-07T14:16:12.172Z"
   },
   {
    "duration": 44,
    "start_time": "2023-03-07T14:16:12.192Z"
   },
   {
    "duration": 8,
    "start_time": "2023-03-07T14:16:12.238Z"
   },
   {
    "duration": 13,
    "start_time": "2023-03-07T14:16:12.248Z"
   },
   {
    "duration": 11,
    "start_time": "2023-03-07T14:16:12.263Z"
   },
   {
    "duration": 29,
    "start_time": "2023-03-07T14:16:12.276Z"
   },
   {
    "duration": 34,
    "start_time": "2023-03-07T14:16:12.307Z"
   },
   {
    "duration": 21,
    "start_time": "2023-03-07T14:16:12.342Z"
   },
   {
    "duration": 173,
    "start_time": "2023-03-07T14:16:12.365Z"
   },
   {
    "duration": 0,
    "start_time": "2023-03-07T14:16:12.540Z"
   },
   {
    "duration": 0,
    "start_time": "2023-03-07T14:16:12.542Z"
   },
   {
    "duration": 0,
    "start_time": "2023-03-07T14:16:12.544Z"
   },
   {
    "duration": 0,
    "start_time": "2023-03-07T14:16:12.545Z"
   },
   {
    "duration": 0,
    "start_time": "2023-03-07T14:16:12.547Z"
   },
   {
    "duration": 0,
    "start_time": "2023-03-07T14:16:12.549Z"
   },
   {
    "duration": 0,
    "start_time": "2023-03-07T14:16:12.550Z"
   },
   {
    "duration": 0,
    "start_time": "2023-03-07T14:16:12.551Z"
   },
   {
    "duration": 1,
    "start_time": "2023-03-07T14:16:12.552Z"
   },
   {
    "duration": 0,
    "start_time": "2023-03-07T14:16:12.555Z"
   },
   {
    "duration": 0,
    "start_time": "2023-03-07T14:16:12.557Z"
   },
   {
    "duration": 0,
    "start_time": "2023-03-07T14:16:12.558Z"
   },
   {
    "duration": 0,
    "start_time": "2023-03-07T14:16:12.559Z"
   },
   {
    "duration": 0,
    "start_time": "2023-03-07T14:16:12.561Z"
   },
   {
    "duration": 0,
    "start_time": "2023-03-07T14:16:12.562Z"
   },
   {
    "duration": 0,
    "start_time": "2023-03-07T14:16:12.563Z"
   },
   {
    "duration": 0,
    "start_time": "2023-03-07T14:16:12.564Z"
   },
   {
    "duration": 0,
    "start_time": "2023-03-07T14:16:12.566Z"
   },
   {
    "duration": 0,
    "start_time": "2023-03-07T14:16:12.568Z"
   },
   {
    "duration": 0,
    "start_time": "2023-03-07T14:16:12.569Z"
   },
   {
    "duration": 0,
    "start_time": "2023-03-07T14:16:12.571Z"
   },
   {
    "duration": 0,
    "start_time": "2023-03-07T14:16:12.572Z"
   },
   {
    "duration": 0,
    "start_time": "2023-03-07T14:16:12.573Z"
   },
   {
    "duration": 0,
    "start_time": "2023-03-07T14:16:12.574Z"
   },
   {
    "duration": 0,
    "start_time": "2023-03-07T14:16:12.576Z"
   },
   {
    "duration": 0,
    "start_time": "2023-03-07T14:16:12.578Z"
   },
   {
    "duration": 17,
    "start_time": "2023-03-07T14:18:48.152Z"
   },
   {
    "duration": 151,
    "start_time": "2023-03-07T14:18:56.364Z"
   },
   {
    "duration": 209,
    "start_time": "2023-03-07T14:18:59.659Z"
   },
   {
    "duration": 129,
    "start_time": "2023-03-07T14:19:46.698Z"
   },
   {
    "duration": 469,
    "start_time": "2023-03-07T14:19:52.625Z"
   },
   {
    "duration": 497,
    "start_time": "2023-03-07T14:20:05.033Z"
   },
   {
    "duration": 868,
    "start_time": "2023-03-07T14:20:18.815Z"
   },
   {
    "duration": 144,
    "start_time": "2023-03-07T14:20:37.623Z"
   },
   {
    "duration": 3,
    "start_time": "2023-03-07T14:20:47.296Z"
   },
   {
    "duration": 38,
    "start_time": "2023-03-07T14:20:50.400Z"
   },
   {
    "duration": 37,
    "start_time": "2023-03-07T14:20:55.021Z"
   },
   {
    "duration": 8,
    "start_time": "2023-03-07T14:21:12.846Z"
   },
   {
    "duration": 14,
    "start_time": "2023-03-07T14:21:17.525Z"
   },
   {
    "duration": 24,
    "start_time": "2023-03-07T14:21:58.060Z"
   },
   {
    "duration": 282,
    "start_time": "2023-03-07T14:22:09.302Z"
   },
   {
    "duration": 12,
    "start_time": "2023-03-07T14:22:34.832Z"
   },
   {
    "duration": 42,
    "start_time": "2023-03-07T14:23:44.893Z"
   },
   {
    "duration": 2876,
    "start_time": "2023-03-07T14:23:47.955Z"
   },
   {
    "duration": 209,
    "start_time": "2023-03-07T14:25:58.232Z"
   },
   {
    "duration": 29,
    "start_time": "2023-03-07T14:26:15.799Z"
   },
   {
    "duration": 7,
    "start_time": "2023-03-07T14:26:27.000Z"
   },
   {
    "duration": 4,
    "start_time": "2023-03-07T14:26:37.113Z"
   },
   {
    "duration": 41,
    "start_time": "2023-03-07T14:27:39.819Z"
   },
   {
    "duration": 32,
    "start_time": "2023-03-07T14:30:00.714Z"
   },
   {
    "duration": 34480,
    "start_time": "2023-03-07T14:30:12.765Z"
   },
   {
    "duration": 324,
    "start_time": "2023-03-07T14:30:47.247Z"
   },
   {
    "duration": 261,
    "start_time": "2023-03-07T14:30:47.572Z"
   },
   {
    "duration": 242,
    "start_time": "2023-03-07T14:33:17.127Z"
   },
   {
    "duration": 1974,
    "start_time": "2023-03-07T20:18:07.919Z"
   },
   {
    "duration": 321,
    "start_time": "2023-03-07T20:18:09.895Z"
   },
   {
    "duration": 25,
    "start_time": "2023-03-07T20:18:10.218Z"
   },
   {
    "duration": 18,
    "start_time": "2023-03-07T20:18:10.246Z"
   },
   {
    "duration": 11,
    "start_time": "2023-03-07T20:18:10.265Z"
   },
   {
    "duration": 45,
    "start_time": "2023-03-07T20:18:10.277Z"
   },
   {
    "duration": 22,
    "start_time": "2023-03-07T20:18:10.327Z"
   },
   {
    "duration": 17,
    "start_time": "2023-03-07T20:18:10.351Z"
   },
   {
    "duration": 17,
    "start_time": "2023-03-07T20:18:11.044Z"
   },
   {
    "duration": 122,
    "start_time": "2023-03-07T20:18:14.332Z"
   },
   {
    "duration": 11,
    "start_time": "2023-03-07T20:18:14.477Z"
   },
   {
    "duration": 13,
    "start_time": "2023-03-07T20:18:14.658Z"
   },
   {
    "duration": 13,
    "start_time": "2023-03-07T20:18:15.069Z"
   },
   {
    "duration": 72,
    "start_time": "2023-03-07T20:18:15.585Z"
   },
   {
    "duration": 8,
    "start_time": "2023-03-07T20:18:15.741Z"
   },
   {
    "duration": 11,
    "start_time": "2023-03-07T20:18:15.889Z"
   },
   {
    "duration": 7,
    "start_time": "2023-03-07T20:18:17.645Z"
   },
   {
    "duration": 31,
    "start_time": "2023-03-07T20:18:20.940Z"
   },
   {
    "duration": 29,
    "start_time": "2023-03-07T20:18:27.211Z"
   },
   {
    "duration": 21,
    "start_time": "2023-03-07T20:18:28.728Z"
   },
   {
    "duration": 12,
    "start_time": "2023-03-07T20:18:42.943Z"
   },
   {
    "duration": 53,
    "start_time": "2023-03-07T20:19:14.451Z"
   },
   {
    "duration": 15,
    "start_time": "2023-03-07T20:23:17.385Z"
   },
   {
    "duration": 11,
    "start_time": "2023-03-07T20:23:17.537Z"
   },
   {
    "duration": 9,
    "start_time": "2023-03-07T20:23:17.872Z"
   },
   {
    "duration": 174,
    "start_time": "2023-03-07T20:23:18.374Z"
   },
   {
    "duration": 233,
    "start_time": "2023-03-07T20:23:18.878Z"
   },
   {
    "duration": 175,
    "start_time": "2023-03-07T20:23:19.122Z"
   },
   {
    "duration": 532,
    "start_time": "2023-03-07T20:23:19.557Z"
   },
   {
    "duration": 587,
    "start_time": "2023-03-07T20:23:20.159Z"
   },
   {
    "duration": 984,
    "start_time": "2023-03-07T20:23:21.170Z"
   },
   {
    "duration": 154,
    "start_time": "2023-03-07T20:23:22.156Z"
   },
   {
    "duration": 2,
    "start_time": "2023-03-07T20:23:23.416Z"
   },
   {
    "duration": 38,
    "start_time": "2023-03-07T20:23:23.845Z"
   },
   {
    "duration": 28,
    "start_time": "2023-03-07T20:23:24.338Z"
   },
   {
    "duration": 8,
    "start_time": "2023-03-07T20:23:25.963Z"
   },
   {
    "duration": 17,
    "start_time": "2023-03-07T20:23:26.740Z"
   },
   {
    "duration": 21,
    "start_time": "2023-03-07T20:23:28.237Z"
   },
   {
    "duration": 817,
    "start_time": "2023-03-07T20:24:34.926Z"
   },
   {
    "duration": 24,
    "start_time": "2023-03-07T20:26:06.838Z"
   },
   {
    "duration": 321,
    "start_time": "2023-03-07T20:26:18.281Z"
   },
   {
    "duration": 391,
    "start_time": "2023-03-07T20:27:22.563Z"
   },
   {
    "duration": 45,
    "start_time": "2023-03-07T20:29:52.485Z"
   },
   {
    "duration": 2843,
    "start_time": "2023-03-07T20:30:32.403Z"
   },
   {
    "duration": 44,
    "start_time": "2023-03-07T20:30:39.454Z"
   },
   {
    "duration": 597,
    "start_time": "2023-03-07T20:30:43.496Z"
   },
   {
    "duration": 51,
    "start_time": "2023-03-07T20:31:44.750Z"
   },
   {
    "duration": 52,
    "start_time": "2023-03-07T20:32:15.714Z"
   },
   {
    "duration": 54,
    "start_time": "2023-03-07T20:37:11.256Z"
   },
   {
    "duration": 46,
    "start_time": "2023-03-07T20:39:34.584Z"
   },
   {
    "duration": 46,
    "start_time": "2023-03-07T20:40:17.018Z"
   },
   {
    "duration": 22,
    "start_time": "2023-03-07T20:41:28.047Z"
   },
   {
    "duration": 19,
    "start_time": "2023-03-07T20:42:45.695Z"
   },
   {
    "duration": 8,
    "start_time": "2023-03-07T20:43:08.263Z"
   },
   {
    "duration": 13,
    "start_time": "2023-03-07T20:43:19.195Z"
   },
   {
    "duration": 7,
    "start_time": "2023-03-07T20:43:47.256Z"
   },
   {
    "duration": 7,
    "start_time": "2023-03-07T20:44:10.073Z"
   },
   {
    "duration": 3,
    "start_time": "2023-03-07T20:44:22.087Z"
   },
   {
    "duration": 4,
    "start_time": "2023-03-07T20:44:37.981Z"
   },
   {
    "duration": 13,
    "start_time": "2023-03-07T20:45:18.336Z"
   },
   {
    "duration": 7,
    "start_time": "2023-03-07T20:45:27.272Z"
   },
   {
    "duration": 5,
    "start_time": "2023-03-07T20:45:37.436Z"
   },
   {
    "duration": 18,
    "start_time": "2023-03-07T20:46:20.842Z"
   },
   {
    "duration": 7,
    "start_time": "2023-03-07T20:47:10.852Z"
   },
   {
    "duration": 9,
    "start_time": "2023-03-07T20:47:34.444Z"
   },
   {
    "duration": 9,
    "start_time": "2023-03-07T20:48:26.859Z"
   },
   {
    "duration": 45,
    "start_time": "2023-03-07T20:50:14.998Z"
   },
   {
    "duration": 26,
    "start_time": "2023-03-07T20:50:28.206Z"
   },
   {
    "duration": 5,
    "start_time": "2023-03-07T20:53:27.956Z"
   },
   {
    "duration": 4,
    "start_time": "2023-03-07T20:58:12.842Z"
   },
   {
    "duration": 10,
    "start_time": "2023-03-07T20:59:39.828Z"
   },
   {
    "duration": 5,
    "start_time": "2023-03-07T20:59:57.292Z"
   },
   {
    "duration": 15,
    "start_time": "2023-03-07T20:59:58.340Z"
   },
   {
    "duration": 12,
    "start_time": "2023-03-07T21:00:19.849Z"
   },
   {
    "duration": 46,
    "start_time": "2023-03-07T21:01:20.740Z"
   },
   {
    "duration": 63,
    "start_time": "2023-03-07T21:02:12.221Z"
   },
   {
    "duration": 63,
    "start_time": "2023-03-07T21:02:41.259Z"
   },
   {
    "duration": 85,
    "start_time": "2023-03-07T21:03:23.716Z"
   },
   {
    "duration": 38,
    "start_time": "2023-03-07T21:03:47.532Z"
   },
   {
    "duration": 45,
    "start_time": "2023-03-07T21:05:35.693Z"
   },
   {
    "duration": 37,
    "start_time": "2023-03-07T21:06:21.105Z"
   },
   {
    "duration": 65273,
    "start_time": "2023-03-07T21:06:34.774Z"
   },
   {
    "duration": 53881,
    "start_time": "2023-03-07T21:08:51.121Z"
   },
   {
    "duration": 257,
    "start_time": "2023-03-07T21:10:03.573Z"
   },
   {
    "duration": 66,
    "start_time": "2023-03-07T21:10:29.842Z"
   },
   {
    "duration": 4864,
    "start_time": "2023-03-07T21:10:35.150Z"
   },
   {
    "duration": 54,
    "start_time": "2023-03-07T21:10:49.463Z"
   },
   {
    "duration": 30,
    "start_time": "2023-03-07T21:11:06.001Z"
   },
   {
    "duration": 181,
    "start_time": "2023-03-07T21:11:27.866Z"
   },
   {
    "duration": 394,
    "start_time": "2023-03-07T21:12:32.123Z"
   },
   {
    "duration": 36908,
    "start_time": "2023-03-07T21:13:14.077Z"
   },
   {
    "duration": 138,
    "start_time": "2023-03-07T21:13:57.975Z"
   },
   {
    "duration": 24428,
    "start_time": "2023-03-07T21:14:30.882Z"
   },
   {
    "duration": 145,
    "start_time": "2023-03-07T21:15:01.542Z"
   },
   {
    "duration": 1716,
    "start_time": "2023-03-07T21:16:39.597Z"
   },
   {
    "duration": 59,
    "start_time": "2023-03-07T21:16:41.316Z"
   },
   {
    "duration": 22,
    "start_time": "2023-03-07T21:16:41.377Z"
   },
   {
    "duration": 19,
    "start_time": "2023-03-07T21:16:41.401Z"
   },
   {
    "duration": 24,
    "start_time": "2023-03-07T21:16:41.423Z"
   },
   {
    "duration": 34,
    "start_time": "2023-03-07T21:16:41.454Z"
   },
   {
    "duration": 13,
    "start_time": "2023-03-07T21:16:41.490Z"
   },
   {
    "duration": 25,
    "start_time": "2023-03-07T21:16:41.505Z"
   },
   {
    "duration": 30,
    "start_time": "2023-03-07T21:16:41.532Z"
   },
   {
    "duration": 29,
    "start_time": "2023-03-07T21:16:41.564Z"
   },
   {
    "duration": 14,
    "start_time": "2023-03-07T21:16:41.594Z"
   },
   {
    "duration": 14,
    "start_time": "2023-03-07T21:16:41.610Z"
   },
   {
    "duration": 15,
    "start_time": "2023-03-07T21:16:41.626Z"
   },
   {
    "duration": 19,
    "start_time": "2023-03-07T21:16:41.646Z"
   },
   {
    "duration": 8,
    "start_time": "2023-03-07T21:16:41.667Z"
   },
   {
    "duration": 11,
    "start_time": "2023-03-07T21:16:41.677Z"
   },
   {
    "duration": 9,
    "start_time": "2023-03-07T21:16:41.689Z"
   },
   {
    "duration": 55,
    "start_time": "2023-03-07T21:16:41.700Z"
   },
   {
    "duration": 17,
    "start_time": "2023-03-07T21:16:41.757Z"
   },
   {
    "duration": 17,
    "start_time": "2023-03-07T21:16:41.776Z"
   },
   {
    "duration": 45,
    "start_time": "2023-03-07T21:16:41.795Z"
   },
   {
    "duration": 204,
    "start_time": "2023-03-07T21:16:41.846Z"
   },
   {
    "duration": 225,
    "start_time": "2023-03-07T21:16:42.052Z"
   },
   {
    "duration": 186,
    "start_time": "2023-03-07T21:16:42.279Z"
   },
   {
    "duration": 606,
    "start_time": "2023-03-07T21:16:42.467Z"
   },
   {
    "duration": 602,
    "start_time": "2023-03-07T21:16:43.075Z"
   },
   {
    "duration": 1010,
    "start_time": "2023-03-07T21:16:43.679Z"
   },
   {
    "duration": 162,
    "start_time": "2023-03-07T21:16:44.691Z"
   },
   {
    "duration": 3,
    "start_time": "2023-03-07T21:16:44.855Z"
   },
   {
    "duration": 41,
    "start_time": "2023-03-07T21:16:44.860Z"
   },
   {
    "duration": 54,
    "start_time": "2023-03-07T21:16:44.903Z"
   },
   {
    "duration": 9,
    "start_time": "2023-03-07T21:16:44.959Z"
   },
   {
    "duration": 17,
    "start_time": "2023-03-07T21:16:44.969Z"
   },
   {
    "duration": 63,
    "start_time": "2023-03-07T21:16:44.988Z"
   },
   {
    "duration": 285,
    "start_time": "2023-03-07T21:16:45.053Z"
   },
   {
    "duration": 43,
    "start_time": "2023-03-07T21:16:45.340Z"
   },
   {
    "duration": 2629,
    "start_time": "2023-03-07T21:16:45.385Z"
   },
   {
    "duration": 560,
    "start_time": "2023-03-07T21:16:48.016Z"
   },
   {
    "duration": 262,
    "start_time": "2023-03-07T21:16:48.579Z"
   },
   {
    "duration": 40,
    "start_time": "2023-03-07T21:16:48.847Z"
   },
   {
    "duration": 12,
    "start_time": "2023-03-07T21:16:48.892Z"
   },
   {
    "duration": 47,
    "start_time": "2023-03-07T21:16:48.933Z"
   },
   {
    "duration": 50,
    "start_time": "2023-03-07T21:16:48.983Z"
   },
   {
    "duration": 65391,
    "start_time": "2023-03-07T21:16:49.035Z"
   },
   {
    "duration": 39942,
    "start_time": "2023-03-07T21:17:54.428Z"
   },
   {
    "duration": 4565,
    "start_time": "2023-03-07T21:18:34.373Z"
   },
   {
    "duration": 223,
    "start_time": "2023-03-07T21:18:38.941Z"
   },
   {
    "duration": 410,
    "start_time": "2023-03-07T21:18:39.167Z"
   },
   {
    "duration": 20,
    "start_time": "2023-03-07T21:20:43.647Z"
   },
   {
    "duration": 25,
    "start_time": "2023-03-07T21:21:04.523Z"
   },
   {
    "duration": 1673,
    "start_time": "2023-03-07T21:21:18.801Z"
   },
   {
    "duration": 61,
    "start_time": "2023-03-07T21:21:20.477Z"
   },
   {
    "duration": 17,
    "start_time": "2023-03-07T21:21:20.541Z"
   },
   {
    "duration": 16,
    "start_time": "2023-03-07T21:21:20.560Z"
   },
   {
    "duration": 20,
    "start_time": "2023-03-07T21:21:20.578Z"
   },
   {
    "duration": 37,
    "start_time": "2023-03-07T21:21:20.600Z"
   },
   {
    "duration": 9,
    "start_time": "2023-03-07T21:21:20.640Z"
   },
   {
    "duration": 16,
    "start_time": "2023-03-07T21:21:20.651Z"
   },
   {
    "duration": 18,
    "start_time": "2023-03-07T21:21:20.668Z"
   },
   {
    "duration": 24,
    "start_time": "2023-03-07T21:21:20.689Z"
   },
   {
    "duration": 26,
    "start_time": "2023-03-07T21:21:20.715Z"
   },
   {
    "duration": 15,
    "start_time": "2023-03-07T21:21:20.743Z"
   },
   {
    "duration": 23,
    "start_time": "2023-03-07T21:21:20.760Z"
   },
   {
    "duration": 19,
    "start_time": "2023-03-07T21:21:20.785Z"
   },
   {
    "duration": 8,
    "start_time": "2023-03-07T21:21:20.805Z"
   },
   {
    "duration": 27,
    "start_time": "2023-03-07T21:21:20.815Z"
   },
   {
    "duration": 17,
    "start_time": "2023-03-07T21:21:20.844Z"
   },
   {
    "duration": 21,
    "start_time": "2023-03-07T21:21:20.863Z"
   },
   {
    "duration": 45,
    "start_time": "2023-03-07T21:21:20.886Z"
   },
   {
    "duration": 25,
    "start_time": "2023-03-07T21:21:20.938Z"
   },
   {
    "duration": 14,
    "start_time": "2023-03-07T21:21:20.965Z"
   },
   {
    "duration": 190,
    "start_time": "2023-03-07T21:21:20.980Z"
   },
   {
    "duration": 203,
    "start_time": "2023-03-07T21:21:21.172Z"
   },
   {
    "duration": 180,
    "start_time": "2023-03-07T21:21:21.377Z"
   },
   {
    "duration": 550,
    "start_time": "2023-03-07T21:21:21.559Z"
   },
   {
    "duration": 592,
    "start_time": "2023-03-07T21:21:22.110Z"
   },
   {
    "duration": 957,
    "start_time": "2023-03-07T21:21:22.704Z"
   },
   {
    "duration": 165,
    "start_time": "2023-03-07T21:21:23.665Z"
   },
   {
    "duration": 7,
    "start_time": "2023-03-07T21:21:23.832Z"
   },
   {
    "duration": 51,
    "start_time": "2023-03-07T21:21:23.841Z"
   },
   {
    "duration": 18,
    "start_time": "2023-03-07T21:21:23.894Z"
   },
   {
    "duration": 43,
    "start_time": "2023-03-07T21:21:23.914Z"
   },
   {
    "duration": 19,
    "start_time": "2023-03-07T21:21:23.959Z"
   },
   {
    "duration": 8,
    "start_time": "2023-03-07T21:21:23.980Z"
   },
   {
    "duration": 60,
    "start_time": "2023-03-07T21:21:23.989Z"
   },
   {
    "duration": 21,
    "start_time": "2023-03-07T21:21:24.051Z"
   },
   {
    "duration": 298,
    "start_time": "2023-03-07T21:21:24.074Z"
   },
   {
    "duration": 66,
    "start_time": "2023-03-07T21:21:24.373Z"
   },
   {
    "duration": 2699,
    "start_time": "2023-03-07T21:21:24.440Z"
   },
   {
    "duration": 570,
    "start_time": "2023-03-07T21:21:27.142Z"
   },
   {
    "duration": 241,
    "start_time": "2023-03-07T21:21:27.715Z"
   },
   {
    "duration": 27,
    "start_time": "2023-03-07T21:21:27.958Z"
   },
   {
    "duration": 9,
    "start_time": "2023-03-07T21:21:27.987Z"
   },
   {
    "duration": 66,
    "start_time": "2023-03-07T21:21:27.998Z"
   },
   {
    "duration": 27,
    "start_time": "2023-03-07T21:21:28.066Z"
   },
   {
    "duration": 63944,
    "start_time": "2023-03-07T21:21:28.095Z"
   },
   {
    "duration": 34918,
    "start_time": "2023-03-07T21:22:32.041Z"
   },
   {
    "duration": 4771,
    "start_time": "2023-03-07T21:23:06.960Z"
   },
   {
    "duration": 182,
    "start_time": "2023-03-07T21:23:11.735Z"
   },
   {
    "duration": 410,
    "start_time": "2023-03-07T21:23:11.919Z"
   },
   {
    "duration": 56,
    "start_time": "2023-03-07T21:23:39.302Z"
   },
   {
    "duration": 1740,
    "start_time": "2023-03-08T07:21:26.320Z"
   },
   {
    "duration": 140,
    "start_time": "2023-03-08T07:21:28.062Z"
   },
   {
    "duration": 15,
    "start_time": "2023-03-08T07:21:28.204Z"
   },
   {
    "duration": 13,
    "start_time": "2023-03-08T07:21:28.221Z"
   },
   {
    "duration": 14,
    "start_time": "2023-03-08T07:21:28.235Z"
   },
   {
    "duration": 43,
    "start_time": "2023-03-08T07:21:28.250Z"
   },
   {
    "duration": 9,
    "start_time": "2023-03-08T07:21:28.295Z"
   },
   {
    "duration": 13,
    "start_time": "2023-03-08T07:21:28.305Z"
   },
   {
    "duration": 10,
    "start_time": "2023-03-08T07:21:28.319Z"
   },
   {
    "duration": 95,
    "start_time": "2023-03-08T07:21:28.331Z"
   },
   {
    "duration": 10,
    "start_time": "2023-03-08T07:21:28.428Z"
   },
   {
    "duration": 11,
    "start_time": "2023-03-08T07:21:28.440Z"
   },
   {
    "duration": 27,
    "start_time": "2023-03-08T07:21:28.453Z"
   },
   {
    "duration": 47,
    "start_time": "2023-03-08T07:21:28.481Z"
   },
   {
    "duration": 7,
    "start_time": "2023-03-08T07:21:28.529Z"
   },
   {
    "duration": 11,
    "start_time": "2023-03-08T07:21:28.537Z"
   },
   {
    "duration": 7,
    "start_time": "2023-03-08T07:21:28.550Z"
   },
   {
    "duration": 18,
    "start_time": "2023-03-08T07:21:28.559Z"
   },
   {
    "duration": 37,
    "start_time": "2023-03-08T07:21:28.579Z"
   },
   {
    "duration": 20,
    "start_time": "2023-03-08T07:21:28.618Z"
   },
   {
    "duration": 11,
    "start_time": "2023-03-08T07:21:28.640Z"
   },
   {
    "duration": 193,
    "start_time": "2023-03-08T07:21:28.652Z"
   },
   {
    "duration": 182,
    "start_time": "2023-03-08T07:21:28.846Z"
   },
   {
    "duration": 153,
    "start_time": "2023-03-08T07:21:29.029Z"
   },
   {
    "duration": 509,
    "start_time": "2023-03-08T07:21:29.184Z"
   },
   {
    "duration": 485,
    "start_time": "2023-03-08T07:21:29.694Z"
   },
   {
    "duration": 859,
    "start_time": "2023-03-08T07:21:30.181Z"
   },
   {
    "duration": 136,
    "start_time": "2023-03-08T07:21:31.044Z"
   },
   {
    "duration": 2,
    "start_time": "2023-03-08T07:21:31.182Z"
   },
   {
    "duration": 51,
    "start_time": "2023-03-08T07:21:31.186Z"
   },
   {
    "duration": 19,
    "start_time": "2023-03-08T07:21:31.238Z"
   },
   {
    "duration": 60,
    "start_time": "2023-03-08T07:21:31.259Z"
   },
   {
    "duration": 19,
    "start_time": "2023-03-08T07:21:31.321Z"
   },
   {
    "duration": 24,
    "start_time": "2023-03-08T07:21:31.341Z"
   },
   {
    "duration": 29,
    "start_time": "2023-03-08T07:21:31.367Z"
   },
   {
    "duration": 27,
    "start_time": "2023-03-08T07:21:31.397Z"
   },
   {
    "duration": 247,
    "start_time": "2023-03-08T07:21:31.426Z"
   },
   {
    "duration": 47,
    "start_time": "2023-03-08T07:21:31.674Z"
   },
   {
    "duration": 2328,
    "start_time": "2023-03-08T07:21:31.722Z"
   },
   {
    "duration": 614,
    "start_time": "2023-03-08T07:21:34.052Z"
   },
   {
    "duration": 209,
    "start_time": "2023-03-08T07:21:34.667Z"
   },
   {
    "duration": 35,
    "start_time": "2023-03-08T07:21:34.877Z"
   },
   {
    "duration": 7,
    "start_time": "2023-03-08T07:21:34.913Z"
   },
   {
    "duration": 42,
    "start_time": "2023-03-08T07:21:34.922Z"
   },
   {
    "duration": 25,
    "start_time": "2023-03-08T07:21:34.965Z"
   },
   {
    "duration": 22827,
    "start_time": "2023-03-08T07:21:34.992Z"
   },
   {
    "duration": 1561,
    "start_time": "2023-03-08T07:22:39.076Z"
   },
   {
    "duration": 48,
    "start_time": "2023-03-08T07:22:40.639Z"
   },
   {
    "duration": 15,
    "start_time": "2023-03-08T07:22:40.689Z"
   },
   {
    "duration": 14,
    "start_time": "2023-03-08T07:22:40.705Z"
   },
   {
    "duration": 10,
    "start_time": "2023-03-08T07:22:40.720Z"
   },
   {
    "duration": 21,
    "start_time": "2023-03-08T07:22:40.731Z"
   },
   {
    "duration": 8,
    "start_time": "2023-03-08T07:22:40.754Z"
   },
   {
    "duration": 12,
    "start_time": "2023-03-08T07:22:40.764Z"
   },
   {
    "duration": 7,
    "start_time": "2023-03-08T07:22:40.778Z"
   },
   {
    "duration": 21,
    "start_time": "2023-03-08T07:22:40.815Z"
   },
   {
    "duration": 10,
    "start_time": "2023-03-08T07:22:40.838Z"
   },
   {
    "duration": 19,
    "start_time": "2023-03-08T07:22:40.850Z"
   },
   {
    "duration": 10,
    "start_time": "2023-03-08T07:22:40.871Z"
   },
   {
    "duration": 18,
    "start_time": "2023-03-08T07:22:40.883Z"
   },
   {
    "duration": 9,
    "start_time": "2023-03-08T07:22:40.903Z"
   },
   {
    "duration": 11,
    "start_time": "2023-03-08T07:22:40.914Z"
   },
   {
    "duration": 11,
    "start_time": "2023-03-08T07:22:40.926Z"
   },
   {
    "duration": 20,
    "start_time": "2023-03-08T07:22:40.939Z"
   },
   {
    "duration": 15,
    "start_time": "2023-03-08T07:22:40.961Z"
   },
   {
    "duration": 43,
    "start_time": "2023-03-08T07:22:40.977Z"
   },
   {
    "duration": 10,
    "start_time": "2023-03-08T07:22:41.021Z"
   },
   {
    "duration": 172,
    "start_time": "2023-03-08T07:22:41.033Z"
   },
   {
    "duration": 172,
    "start_time": "2023-03-08T07:22:41.207Z"
   },
   {
    "duration": 132,
    "start_time": "2023-03-08T07:22:41.381Z"
   },
   {
    "duration": 472,
    "start_time": "2023-03-08T07:22:41.515Z"
   },
   {
    "duration": 479,
    "start_time": "2023-03-08T07:22:41.989Z"
   },
   {
    "duration": 843,
    "start_time": "2023-03-08T07:22:42.470Z"
   },
   {
    "duration": 127,
    "start_time": "2023-03-08T07:22:43.317Z"
   },
   {
    "duration": 3,
    "start_time": "2023-03-08T07:22:43.445Z"
   },
   {
    "duration": 37,
    "start_time": "2023-03-08T07:22:43.449Z"
   },
   {
    "duration": 35,
    "start_time": "2023-03-08T07:22:43.488Z"
   },
   {
    "duration": 25,
    "start_time": "2023-03-08T07:22:43.524Z"
   },
   {
    "duration": 16,
    "start_time": "2023-03-08T07:22:43.551Z"
   },
   {
    "duration": 8,
    "start_time": "2023-03-08T07:22:43.569Z"
   },
   {
    "duration": 42,
    "start_time": "2023-03-08T07:22:43.578Z"
   },
   {
    "duration": 18,
    "start_time": "2023-03-08T07:22:43.621Z"
   },
   {
    "duration": 249,
    "start_time": "2023-03-08T07:22:43.641Z"
   },
   {
    "duration": 45,
    "start_time": "2023-03-08T07:22:43.892Z"
   },
   {
    "duration": 2408,
    "start_time": "2023-03-08T07:22:43.938Z"
   },
   {
    "duration": 503,
    "start_time": "2023-03-08T07:22:46.347Z"
   },
   {
    "duration": 220,
    "start_time": "2023-03-08T07:22:46.851Z"
   },
   {
    "duration": 25,
    "start_time": "2023-03-08T07:22:47.073Z"
   },
   {
    "duration": 8,
    "start_time": "2023-03-08T07:22:47.111Z"
   },
   {
    "duration": 36,
    "start_time": "2023-03-08T07:22:47.121Z"
   },
   {
    "duration": 21,
    "start_time": "2023-03-08T07:22:47.158Z"
   },
   {
    "duration": 52,
    "start_time": "2023-03-08T07:22:47.181Z"
   },
   {
    "duration": 25477,
    "start_time": "2023-03-08T07:22:47.235Z"
   },
   {
    "duration": 37816,
    "start_time": "2023-03-08T07:23:12.715Z"
   },
   {
    "duration": 3905,
    "start_time": "2023-03-08T07:23:50.533Z"
   },
   {
    "duration": 142,
    "start_time": "2023-03-08T07:23:54.440Z"
   },
   {
    "duration": 331,
    "start_time": "2023-03-08T07:23:54.584Z"
   },
   {
    "duration": 51094,
    "start_time": "2023-03-08T07:27:23.277Z"
   },
   {
    "duration": 38288,
    "start_time": "2023-03-08T07:28:26.204Z"
   },
   {
    "duration": 226,
    "start_time": "2023-03-08T07:35:17.005Z"
   },
   {
    "duration": 69649,
    "start_time": "2023-03-08T07:35:29.593Z"
   },
   {
    "duration": 92,
    "start_time": "2023-03-08T07:44:13.986Z"
   },
   {
    "duration": 68282,
    "start_time": "2023-03-08T07:44:25.553Z"
   },
   {
    "duration": 133,
    "start_time": "2023-03-08T07:45:33.837Z"
   },
   {
    "duration": 38488,
    "start_time": "2023-03-08T07:45:54.915Z"
   },
   {
    "duration": 131,
    "start_time": "2023-03-08T07:46:33.405Z"
   },
   {
    "duration": 2209,
    "start_time": "2023-03-08T22:51:33.956Z"
   },
   {
    "duration": 207,
    "start_time": "2023-03-08T22:51:36.168Z"
   },
   {
    "duration": 44,
    "start_time": "2023-03-08T22:51:36.378Z"
   },
   {
    "duration": 31,
    "start_time": "2023-03-08T22:51:36.427Z"
   },
   {
    "duration": 19,
    "start_time": "2023-03-08T22:51:36.460Z"
   },
   {
    "duration": 174,
    "start_time": "2023-03-08T22:51:36.484Z"
   },
   {
    "duration": 13,
    "start_time": "2023-03-08T22:51:36.660Z"
   },
   {
    "duration": 43,
    "start_time": "2023-03-08T22:51:36.675Z"
   },
   {
    "duration": 16,
    "start_time": "2023-03-08T22:51:36.720Z"
   },
   {
    "duration": 112,
    "start_time": "2023-03-08T22:51:41.066Z"
   },
   {
    "duration": 13,
    "start_time": "2023-03-08T22:51:41.314Z"
   },
   {
    "duration": 15,
    "start_time": "2023-03-08T22:51:41.460Z"
   },
   {
    "duration": 11,
    "start_time": "2023-03-08T22:51:41.625Z"
   },
   {
    "duration": 119,
    "start_time": "2023-03-08T22:51:42.148Z"
   },
   {
    "duration": 9,
    "start_time": "2023-03-08T22:51:42.957Z"
   },
   {
    "duration": 37,
    "start_time": "2023-03-08T22:51:42.968Z"
   },
   {
    "duration": 11,
    "start_time": "2023-03-08T22:51:43.007Z"
   },
   {
    "duration": 28,
    "start_time": "2023-03-08T22:51:44.020Z"
   },
   {
    "duration": 22,
    "start_time": "2023-03-08T22:51:44.335Z"
   },
   {
    "duration": 24,
    "start_time": "2023-03-08T22:51:44.810Z"
   },
   {
    "duration": 12,
    "start_time": "2023-03-08T22:51:45.214Z"
   },
   {
    "duration": 253,
    "start_time": "2023-03-08T22:51:45.872Z"
   },
   {
    "duration": 242,
    "start_time": "2023-03-08T22:51:46.499Z"
   },
   {
    "duration": 155,
    "start_time": "2023-03-08T22:51:46.746Z"
   },
   {
    "duration": 612,
    "start_time": "2023-03-08T22:51:47.624Z"
   },
   {
    "duration": 716,
    "start_time": "2023-03-08T22:51:48.239Z"
   },
   {
    "duration": 1019,
    "start_time": "2023-03-08T22:51:48.957Z"
   },
   {
    "duration": 164,
    "start_time": "2023-03-08T22:51:49.981Z"
   },
   {
    "duration": 4,
    "start_time": "2023-03-08T22:51:50.801Z"
   },
   {
    "duration": 40,
    "start_time": "2023-03-08T22:51:51.310Z"
   },
   {
    "duration": 21,
    "start_time": "2023-03-08T22:51:51.353Z"
   },
   {
    "duration": 38,
    "start_time": "2023-03-08T22:51:51.376Z"
   },
   {
    "duration": 29,
    "start_time": "2023-03-08T22:51:51.698Z"
   },
   {
    "duration": 11,
    "start_time": "2023-03-08T22:52:16.446Z"
   },
   {
    "duration": 21,
    "start_time": "2023-03-08T22:52:16.775Z"
   },
   {
    "duration": 26,
    "start_time": "2023-03-08T22:52:17.237Z"
   },
   {
    "duration": 315,
    "start_time": "2023-03-08T22:52:17.568Z"
   },
   {
    "duration": 67,
    "start_time": "2023-03-08T22:52:23.434Z"
   },
   {
    "duration": 3412,
    "start_time": "2023-03-08T22:52:23.655Z"
   },
   {
    "duration": 715,
    "start_time": "2023-03-08T22:52:27.073Z"
   },
   {
    "duration": 326,
    "start_time": "2023-03-08T22:52:27.791Z"
   },
   {
    "duration": 60,
    "start_time": "2023-03-08T22:52:28.120Z"
   },
   {
    "duration": 14,
    "start_time": "2023-03-08T22:52:28.183Z"
   },
   {
    "duration": 49,
    "start_time": "2023-03-08T22:52:28.888Z"
   },
   {
    "duration": 52,
    "start_time": "2023-03-08T22:52:30.890Z"
   },
   {
    "duration": 957,
    "start_time": "2023-03-08T22:57:43.598Z"
   },
   {
    "duration": 19,
    "start_time": "2023-03-08T22:57:55.647Z"
   },
   {
    "duration": 4,
    "start_time": "2023-03-08T22:58:25.820Z"
   },
   {
    "duration": 63,
    "start_time": "2023-03-08T22:58:25.828Z"
   },
   {
    "duration": 17,
    "start_time": "2023-03-08T22:58:25.892Z"
   },
   {
    "duration": 22,
    "start_time": "2023-03-08T22:58:25.912Z"
   },
   {
    "duration": 15,
    "start_time": "2023-03-08T22:58:25.937Z"
   },
   {
    "duration": 21,
    "start_time": "2023-03-08T22:58:25.955Z"
   },
   {
    "duration": 19,
    "start_time": "2023-03-08T22:58:25.977Z"
   },
   {
    "duration": 20,
    "start_time": "2023-03-08T22:58:25.997Z"
   },
   {
    "duration": 12,
    "start_time": "2023-03-08T22:58:26.019Z"
   },
   {
    "duration": 25,
    "start_time": "2023-03-08T22:58:26.033Z"
   },
   {
    "duration": 12,
    "start_time": "2023-03-08T22:58:26.060Z"
   },
   {
    "duration": 15,
    "start_time": "2023-03-08T22:58:26.094Z"
   },
   {
    "duration": 21,
    "start_time": "2023-03-08T22:58:26.111Z"
   },
   {
    "duration": 29,
    "start_time": "2023-03-08T22:58:26.135Z"
   },
   {
    "duration": 9,
    "start_time": "2023-03-08T22:58:26.166Z"
   },
   {
    "duration": 34,
    "start_time": "2023-03-08T22:58:26.177Z"
   },
   {
    "duration": 24,
    "start_time": "2023-03-08T22:58:26.213Z"
   },
   {
    "duration": 20,
    "start_time": "2023-03-08T22:58:26.238Z"
   },
   {
    "duration": 13,
    "start_time": "2023-03-08T22:58:26.260Z"
   },
   {
    "duration": 16,
    "start_time": "2023-03-08T22:58:26.274Z"
   },
   {
    "duration": 23,
    "start_time": "2023-03-08T22:58:26.292Z"
   },
   {
    "duration": 144,
    "start_time": "2023-03-08T22:58:26.317Z"
   },
   {
    "duration": 178,
    "start_time": "2023-03-08T22:58:26.463Z"
   },
   {
    "duration": 132,
    "start_time": "2023-03-08T22:58:26.643Z"
   },
   {
    "duration": 420,
    "start_time": "2023-03-08T22:58:26.779Z"
   },
   {
    "duration": 574,
    "start_time": "2023-03-08T22:58:27.200Z"
   },
   {
    "duration": 786,
    "start_time": "2023-03-08T22:58:27.779Z"
   },
   {
    "duration": 126,
    "start_time": "2023-03-08T22:58:28.566Z"
   },
   {
    "duration": 2,
    "start_time": "2023-03-08T22:58:28.694Z"
   },
   {
    "duration": 35,
    "start_time": "2023-03-08T22:58:28.698Z"
   },
   {
    "duration": 16,
    "start_time": "2023-03-08T22:58:28.735Z"
   },
   {
    "duration": 45,
    "start_time": "2023-03-08T22:58:28.752Z"
   },
   {
    "duration": 15,
    "start_time": "2023-03-08T22:58:28.799Z"
   },
   {
    "duration": 853,
    "start_time": "2023-03-08T22:58:47.432Z"
   },
   {
    "duration": 119,
    "start_time": "2023-03-08T23:08:36.663Z"
   },
   {
    "duration": 6,
    "start_time": "2023-03-08T23:08:50.799Z"
   },
   {
    "duration": 57,
    "start_time": "2023-03-08T23:08:50.807Z"
   },
   {
    "duration": 11,
    "start_time": "2023-03-08T23:08:50.866Z"
   },
   {
    "duration": 19,
    "start_time": "2023-03-08T23:08:50.972Z"
   },
   {
    "duration": 36,
    "start_time": "2023-03-08T23:08:50.994Z"
   },
   {
    "duration": 21,
    "start_time": "2023-03-08T23:08:51.032Z"
   },
   {
    "duration": 9,
    "start_time": "2023-03-08T23:08:51.055Z"
   },
   {
    "duration": 36,
    "start_time": "2023-03-08T23:08:51.066Z"
   },
   {
    "duration": 23,
    "start_time": "2023-03-08T23:08:51.107Z"
   },
   {
    "duration": 25,
    "start_time": "2023-03-08T23:08:51.308Z"
   },
   {
    "duration": 10,
    "start_time": "2023-03-08T23:08:51.336Z"
   },
   {
    "duration": 24,
    "start_time": "2023-03-08T23:08:51.348Z"
   },
   {
    "duration": 42,
    "start_time": "2023-03-08T23:08:51.374Z"
   },
   {
    "duration": 24,
    "start_time": "2023-03-08T23:08:51.418Z"
   },
   {
    "duration": 7,
    "start_time": "2023-03-08T23:08:51.443Z"
   },
   {
    "duration": 12,
    "start_time": "2023-03-08T23:08:51.452Z"
   },
   {
    "duration": 9,
    "start_time": "2023-03-08T23:08:51.465Z"
   },
   {
    "duration": 46,
    "start_time": "2023-03-08T23:08:51.476Z"
   },
   {
    "duration": 14,
    "start_time": "2023-03-08T23:08:51.523Z"
   },
   {
    "duration": 13,
    "start_time": "2023-03-08T23:08:51.539Z"
   },
   {
    "duration": 10,
    "start_time": "2023-03-08T23:08:51.553Z"
   },
   {
    "duration": 147,
    "start_time": "2023-03-08T23:08:51.564Z"
   },
   {
    "duration": 261,
    "start_time": "2023-03-08T23:08:51.712Z"
   },
   {
    "duration": 134,
    "start_time": "2023-03-08T23:08:51.974Z"
   },
   {
    "duration": 388,
    "start_time": "2023-03-08T23:08:52.109Z"
   },
   {
    "duration": 507,
    "start_time": "2023-03-08T23:08:52.499Z"
   },
   {
    "duration": 845,
    "start_time": "2023-03-08T23:08:53.008Z"
   },
   {
    "duration": 142,
    "start_time": "2023-03-08T23:08:53.855Z"
   },
   {
    "duration": 7,
    "start_time": "2023-03-08T23:08:53.998Z"
   },
   {
    "duration": 51,
    "start_time": "2023-03-08T23:08:54.006Z"
   },
   {
    "duration": 17,
    "start_time": "2023-03-08T23:08:54.058Z"
   },
   {
    "duration": 49,
    "start_time": "2023-03-08T23:08:54.077Z"
   },
   {
    "duration": 16,
    "start_time": "2023-03-08T23:08:54.128Z"
   },
   {
    "duration": 1005,
    "start_time": "2023-03-08T23:08:54.145Z"
   },
   {
    "duration": 8,
    "start_time": "2023-03-08T23:08:55.151Z"
   },
   {
    "duration": 36,
    "start_time": "2023-03-08T23:08:55.161Z"
   },
   {
    "duration": 23,
    "start_time": "2023-03-08T23:08:55.198Z"
   },
   {
    "duration": 225,
    "start_time": "2023-03-08T23:08:55.223Z"
   },
   {
    "duration": 59,
    "start_time": "2023-03-08T23:08:55.450Z"
   },
   {
    "duration": 2216,
    "start_time": "2023-03-08T23:08:55.512Z"
   },
   {
    "duration": 476,
    "start_time": "2023-03-08T23:08:57.730Z"
   },
   {
    "duration": 99,
    "start_time": "2023-03-08T23:08:58.207Z"
   },
   {
    "duration": 24,
    "start_time": "2023-03-08T23:08:58.307Z"
   },
   {
    "duration": 14,
    "start_time": "2023-03-08T23:08:58.333Z"
   },
   {
    "duration": 53,
    "start_time": "2023-03-08T23:08:58.348Z"
   },
   {
    "duration": 24,
    "start_time": "2023-03-08T23:08:58.408Z"
   },
   {
    "duration": 88670,
    "start_time": "2023-03-08T23:08:58.434Z"
   },
   {
    "duration": 43281,
    "start_time": "2023-03-08T23:10:27.114Z"
   },
   {
    "duration": 3866,
    "start_time": "2023-03-08T23:11:10.396Z"
   },
   {
    "duration": 133,
    "start_time": "2023-03-08T23:11:14.263Z"
   },
   {
    "duration": 345,
    "start_time": "2023-03-08T23:11:14.398Z"
   },
   {
    "duration": 40,
    "start_time": "2023-03-08T23:12:46.906Z"
   },
   {
    "duration": 136,
    "start_time": "2023-03-08T23:12:55.871Z"
   },
   {
    "duration": 22217,
    "start_time": "2023-03-08T23:13:58.220Z"
   },
   {
    "duration": 46743,
    "start_time": "2023-03-08T23:14:59.568Z"
   },
   {
    "duration": 27,
    "start_time": "2023-03-08T23:17:30.370Z"
   },
   {
    "duration": 4,
    "start_time": "2023-03-08T23:18:17.571Z"
   },
   {
    "duration": 76,
    "start_time": "2023-03-08T23:18:17.576Z"
   },
   {
    "duration": 9,
    "start_time": "2023-03-08T23:18:17.654Z"
   },
   {
    "duration": 13,
    "start_time": "2023-03-08T23:18:17.665Z"
   },
   {
    "duration": 25,
    "start_time": "2023-03-08T23:18:17.690Z"
   },
   {
    "duration": 36,
    "start_time": "2023-03-08T23:18:17.716Z"
   },
   {
    "duration": 8,
    "start_time": "2023-03-08T23:18:17.753Z"
   },
   {
    "duration": 12,
    "start_time": "2023-03-08T23:18:17.762Z"
   },
   {
    "duration": 28,
    "start_time": "2023-03-08T23:18:17.775Z"
   },
   {
    "duration": 33,
    "start_time": "2023-03-08T23:18:17.806Z"
   },
   {
    "duration": 10,
    "start_time": "2023-03-08T23:18:17.840Z"
   },
   {
    "duration": 11,
    "start_time": "2023-03-08T23:18:17.851Z"
   },
   {
    "duration": 9,
    "start_time": "2023-03-08T23:18:17.863Z"
   },
   {
    "duration": 34,
    "start_time": "2023-03-08T23:18:17.874Z"
   },
   {
    "duration": 6,
    "start_time": "2023-03-08T23:18:17.909Z"
   },
   {
    "duration": 10,
    "start_time": "2023-03-08T23:18:17.916Z"
   },
   {
    "duration": 5,
    "start_time": "2023-03-08T23:18:17.927Z"
   },
   {
    "duration": 15,
    "start_time": "2023-03-08T23:18:17.933Z"
   },
   {
    "duration": 11,
    "start_time": "2023-03-08T23:18:17.950Z"
   },
   {
    "duration": 44,
    "start_time": "2023-03-08T23:18:17.962Z"
   },
   {
    "duration": 11,
    "start_time": "2023-03-08T23:18:18.007Z"
   },
   {
    "duration": 141,
    "start_time": "2023-03-08T23:18:18.020Z"
   },
   {
    "duration": 175,
    "start_time": "2023-03-08T23:18:18.163Z"
   },
   {
    "duration": 125,
    "start_time": "2023-03-08T23:18:18.339Z"
   },
   {
    "duration": 385,
    "start_time": "2023-03-08T23:18:18.466Z"
   },
   {
    "duration": 473,
    "start_time": "2023-03-08T23:18:18.852Z"
   },
   {
    "duration": 848,
    "start_time": "2023-03-08T23:18:19.326Z"
   },
   {
    "duration": 231,
    "start_time": "2023-03-08T23:18:20.177Z"
   },
   {
    "duration": 2,
    "start_time": "2023-03-08T23:18:20.411Z"
   },
   {
    "duration": 37,
    "start_time": "2023-03-08T23:18:20.415Z"
   },
   {
    "duration": 15,
    "start_time": "2023-03-08T23:18:20.453Z"
   },
   {
    "duration": 41,
    "start_time": "2023-03-08T23:18:20.479Z"
   },
   {
    "duration": 17,
    "start_time": "2023-03-08T23:18:20.522Z"
   },
   {
    "duration": 905,
    "start_time": "2023-03-08T23:18:20.540Z"
   },
   {
    "duration": 7,
    "start_time": "2023-03-08T23:18:21.446Z"
   },
   {
    "duration": 42,
    "start_time": "2023-03-08T23:18:21.454Z"
   },
   {
    "duration": 21,
    "start_time": "2023-03-08T23:18:21.498Z"
   },
   {
    "duration": 226,
    "start_time": "2023-03-08T23:18:21.521Z"
   },
   {
    "duration": 62,
    "start_time": "2023-03-08T23:18:21.749Z"
   },
   {
    "duration": 2076,
    "start_time": "2023-03-08T23:18:21.813Z"
   },
   {
    "duration": 444,
    "start_time": "2023-03-08T23:18:23.892Z"
   },
   {
    "duration": 122,
    "start_time": "2023-03-08T23:18:24.337Z"
   },
   {
    "duration": 40,
    "start_time": "2023-03-08T23:18:24.461Z"
   },
   {
    "duration": 8,
    "start_time": "2023-03-08T23:18:24.503Z"
   },
   {
    "duration": 38,
    "start_time": "2023-03-08T23:18:24.512Z"
   },
   {
    "duration": 22,
    "start_time": "2023-03-08T23:18:24.552Z"
   },
   {
    "duration": 1419,
    "start_time": "2023-03-08T23:21:34.180Z"
   },
   {
    "duration": 50,
    "start_time": "2023-03-08T23:21:35.601Z"
   },
   {
    "duration": 13,
    "start_time": "2023-03-08T23:21:35.653Z"
   },
   {
    "duration": 11,
    "start_time": "2023-03-08T23:21:35.667Z"
   },
   {
    "duration": 13,
    "start_time": "2023-03-08T23:21:35.686Z"
   },
   {
    "duration": 22,
    "start_time": "2023-03-08T23:21:35.700Z"
   },
   {
    "duration": 7,
    "start_time": "2023-03-08T23:21:35.724Z"
   },
   {
    "duration": 16,
    "start_time": "2023-03-08T23:21:35.732Z"
   },
   {
    "duration": 28,
    "start_time": "2023-03-08T23:21:35.749Z"
   },
   {
    "duration": 45,
    "start_time": "2023-03-08T23:21:35.778Z"
   },
   {
    "duration": 10,
    "start_time": "2023-03-08T23:21:35.824Z"
   },
   {
    "duration": 13,
    "start_time": "2023-03-08T23:21:35.835Z"
   },
   {
    "duration": 16,
    "start_time": "2023-03-08T23:21:35.850Z"
   },
   {
    "duration": 30,
    "start_time": "2023-03-08T23:21:35.869Z"
   },
   {
    "duration": 8,
    "start_time": "2023-03-08T23:21:35.902Z"
   },
   {
    "duration": 15,
    "start_time": "2023-03-08T23:21:35.911Z"
   },
   {
    "duration": 7,
    "start_time": "2023-03-08T23:21:35.930Z"
   },
   {
    "duration": 39,
    "start_time": "2023-03-08T23:21:35.939Z"
   },
   {
    "duration": 42,
    "start_time": "2023-03-08T23:21:35.982Z"
   },
   {
    "duration": 16,
    "start_time": "2023-03-08T23:21:36.026Z"
   },
   {
    "duration": 10,
    "start_time": "2023-03-08T23:21:36.044Z"
   },
   {
    "duration": 181,
    "start_time": "2023-03-08T23:21:36.055Z"
   },
   {
    "duration": 158,
    "start_time": "2023-03-08T23:21:36.237Z"
   },
   {
    "duration": 126,
    "start_time": "2023-03-08T23:21:36.397Z"
   },
   {
    "duration": 438,
    "start_time": "2023-03-08T23:21:36.525Z"
   },
   {
    "duration": 433,
    "start_time": "2023-03-08T23:21:36.965Z"
   },
   {
    "duration": 762,
    "start_time": "2023-03-08T23:21:37.399Z"
   },
   {
    "duration": 118,
    "start_time": "2023-03-08T23:21:38.163Z"
   },
   {
    "duration": 2,
    "start_time": "2023-03-08T23:21:38.282Z"
   },
   {
    "duration": 37,
    "start_time": "2023-03-08T23:21:38.285Z"
   },
   {
    "duration": 16,
    "start_time": "2023-03-08T23:21:38.324Z"
   },
   {
    "duration": 57,
    "start_time": "2023-03-08T23:21:38.342Z"
   },
   {
    "duration": 15,
    "start_time": "2023-03-08T23:21:38.401Z"
   },
   {
    "duration": 933,
    "start_time": "2023-03-08T23:21:38.418Z"
   },
   {
    "duration": 7,
    "start_time": "2023-03-08T23:21:39.353Z"
   },
   {
    "duration": 32,
    "start_time": "2023-03-08T23:21:39.362Z"
   },
   {
    "duration": 14,
    "start_time": "2023-03-08T23:21:39.396Z"
   },
   {
    "duration": 231,
    "start_time": "2023-03-08T23:21:39.411Z"
   },
   {
    "duration": 47,
    "start_time": "2023-03-08T23:21:39.644Z"
   },
   {
    "duration": 2048,
    "start_time": "2023-03-08T23:21:39.693Z"
   },
   {
    "duration": 494,
    "start_time": "2023-03-08T23:21:41.744Z"
   },
   {
    "duration": 94,
    "start_time": "2023-03-08T23:21:42.240Z"
   },
   {
    "duration": 23,
    "start_time": "2023-03-08T23:21:42.335Z"
   },
   {
    "duration": 7,
    "start_time": "2023-03-08T23:21:42.359Z"
   },
   {
    "duration": 34,
    "start_time": "2023-03-08T23:21:42.386Z"
   },
   {
    "duration": 31,
    "start_time": "2023-03-08T23:22:04.780Z"
   },
   {
    "duration": 104930,
    "start_time": "2023-03-08T23:22:11.500Z"
   },
   {
    "duration": 127,
    "start_time": "2023-03-08T23:24:08.869Z"
   },
   {
    "duration": 1456,
    "start_time": "2023-03-08T23:25:27.206Z"
   },
   {
    "duration": 64,
    "start_time": "2023-03-08T23:25:28.664Z"
   },
   {
    "duration": 13,
    "start_time": "2023-03-08T23:25:28.729Z"
   },
   {
    "duration": 13,
    "start_time": "2023-03-08T23:25:28.744Z"
   },
   {
    "duration": 8,
    "start_time": "2023-03-08T23:25:28.759Z"
   },
   {
    "duration": 41,
    "start_time": "2023-03-08T23:25:28.769Z"
   },
   {
    "duration": 8,
    "start_time": "2023-03-08T23:25:28.812Z"
   },
   {
    "duration": 11,
    "start_time": "2023-03-08T23:25:28.822Z"
   },
   {
    "duration": 9,
    "start_time": "2023-03-08T23:25:28.834Z"
   },
   {
    "duration": 22,
    "start_time": "2023-03-08T23:25:28.845Z"
   },
   {
    "duration": 24,
    "start_time": "2023-03-08T23:25:28.868Z"
   },
   {
    "duration": 33,
    "start_time": "2023-03-08T23:25:28.893Z"
   },
   {
    "duration": 12,
    "start_time": "2023-03-08T23:25:28.927Z"
   },
   {
    "duration": 18,
    "start_time": "2023-03-08T23:25:28.942Z"
   },
   {
    "duration": 7,
    "start_time": "2023-03-08T23:25:28.961Z"
   },
   {
    "duration": 11,
    "start_time": "2023-03-08T23:25:28.969Z"
   },
   {
    "duration": 18,
    "start_time": "2023-03-08T23:25:28.992Z"
   },
   {
    "duration": 26,
    "start_time": "2023-03-08T23:25:29.012Z"
   },
   {
    "duration": 12,
    "start_time": "2023-03-08T23:25:29.040Z"
   },
   {
    "duration": 13,
    "start_time": "2023-03-08T23:25:29.053Z"
   },
   {
    "duration": 10,
    "start_time": "2023-03-08T23:25:29.067Z"
   },
   {
    "duration": 178,
    "start_time": "2023-03-08T23:25:29.078Z"
   },
   {
    "duration": 175,
    "start_time": "2023-03-08T23:25:29.258Z"
   },
   {
    "duration": 127,
    "start_time": "2023-03-08T23:25:29.434Z"
   },
   {
    "duration": 455,
    "start_time": "2023-03-08T23:25:29.563Z"
   },
   {
    "duration": 481,
    "start_time": "2023-03-08T23:25:30.020Z"
   },
   {
    "duration": 865,
    "start_time": "2023-03-08T23:25:30.506Z"
   },
   {
    "duration": 122,
    "start_time": "2023-03-08T23:25:31.373Z"
   },
   {
    "duration": 8,
    "start_time": "2023-03-08T23:25:31.497Z"
   },
   {
    "duration": 105,
    "start_time": "2023-03-08T23:25:31.507Z"
   },
   {
    "duration": 34,
    "start_time": "2023-03-08T23:25:31.614Z"
   },
   {
    "duration": 51,
    "start_time": "2023-03-08T23:25:31.650Z"
   },
   {
    "duration": 36,
    "start_time": "2023-03-08T23:25:31.702Z"
   },
   {
    "duration": 1065,
    "start_time": "2023-03-08T23:25:31.740Z"
   },
   {
    "duration": 8,
    "start_time": "2023-03-08T23:25:32.807Z"
   },
   {
    "duration": 23,
    "start_time": "2023-03-08T23:25:32.816Z"
   },
   {
    "duration": 15,
    "start_time": "2023-03-08T23:25:32.841Z"
   },
   {
    "duration": 247,
    "start_time": "2023-03-08T23:25:32.858Z"
   },
   {
    "duration": 39,
    "start_time": "2023-03-08T23:25:33.106Z"
   },
   {
    "duration": 2173,
    "start_time": "2023-03-08T23:25:33.147Z"
   },
   {
    "duration": 482,
    "start_time": "2023-03-08T23:25:35.324Z"
   },
   {
    "duration": 104,
    "start_time": "2023-03-08T23:25:35.807Z"
   },
   {
    "duration": 26,
    "start_time": "2023-03-08T23:25:35.913Z"
   },
   {
    "duration": 9,
    "start_time": "2023-03-08T23:25:35.941Z"
   },
   {
    "duration": 54,
    "start_time": "2023-03-08T23:25:35.952Z"
   },
   {
    "duration": 28,
    "start_time": "2023-03-08T23:25:36.008Z"
   },
   {
    "duration": 90859,
    "start_time": "2023-03-08T23:25:36.038Z"
   },
   {
    "duration": 110856,
    "start_time": "2023-03-08T23:27:06.910Z"
   },
   {
    "duration": 3830,
    "start_time": "2023-03-08T23:28:57.768Z"
   },
   {
    "duration": 134,
    "start_time": "2023-03-08T23:29:01.600Z"
   },
   {
    "duration": 333,
    "start_time": "2023-03-08T23:29:01.735Z"
   },
   {
    "duration": 59,
    "start_time": "2023-03-10T07:50:40.320Z"
   }
  ],
  "kernelspec": {
   "display_name": "Python 3 (ipykernel)",
   "language": "python",
   "name": "python3"
  },
  "language_info": {
   "codemirror_mode": {
    "name": "ipython",
    "version": 3
   },
   "file_extension": ".py",
   "mimetype": "text/x-python",
   "name": "python",
   "nbconvert_exporter": "python",
   "pygments_lexer": "ipython3",
   "version": "3.9.5"
  },
  "toc": {
   "base_numbering": 1,
   "nav_menu": {},
   "number_sections": true,
   "sideBar": true,
   "skip_h1_title": true,
   "title_cell": "Table of Contents",
   "title_sidebar": "Contents",
   "toc_cell": false,
   "toc_position": {},
   "toc_section_display": true,
   "toc_window_display": false
  }
 },
 "nbformat": 4,
 "nbformat_minor": 2
}
