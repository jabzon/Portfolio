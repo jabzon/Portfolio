{
 "cells": [
  {
   "cell_type": "markdown",
   "metadata": {},
   "source": [
    "# Выявление определяющих успешность игры закономерностей"
   ]
  },
  {
   "cell_type": "markdown",
   "metadata": {},
   "source": [
    "**Описание проекта:**\n",
    "\n",
    "Работа выполняется для интернет-магазина «Стримчик», который продаёт по всему миру компьютерные игры. Из открытых источников доступны исторические данные о продажах игр, оценки пользователей и экспертов, жанры и платформы (например, Xbox или PlayStation). \n",
    "Нужно выявить определяющие успешность игры закономерности. Это позволит сделать ставку на потенциально популярный продукт и спланировать рекламные кампании.\n",
    "\n",
    "**План работы:**\n",
    "\n",
    "- Обзор данных\n",
    "\n",
    "- Подготовка данных\n",
    "\n",
    "- Исследовательский анализ \n",
    "\n",
    "- Составление портрета пользователя каждого региона\n",
    "\n",
    "- Проверка гипотез\n",
    "\n",
    "- Вывод"
   ]
  },
  {
   "cell_type": "markdown",
   "metadata": {},
   "source": [
    "## Обзор данных"
   ]
  },
  {
   "cell_type": "code",
   "execution_count": 19,
   "metadata": {},
   "outputs": [],
   "source": [
    "# Импорт библиотек\n",
    "import pandas as pd\n",
    "import matplotlib.pyplot as plt\n",
    "import math\n",
    "import numpy as np\n",
    "from scipy import stats as st\n",
    "import seaborn as sns\n",
    "import warnings\n",
    "warnings.filterwarnings(\"ignore\")"
   ]
  },
  {
   "cell_type": "code",
   "execution_count": 20,
   "metadata": {},
   "outputs": [
    {
     "data": {
      "text/html": [
       "<div>\n",
       "<style scoped>\n",
       "    .dataframe tbody tr th:only-of-type {\n",
       "        vertical-align: middle;\n",
       "    }\n",
       "\n",
       "    .dataframe tbody tr th {\n",
       "        vertical-align: top;\n",
       "    }\n",
       "\n",
       "    .dataframe thead th {\n",
       "        text-align: right;\n",
       "    }\n",
       "</style>\n",
       "<table border=\"1\" class=\"dataframe\">\n",
       "  <thead>\n",
       "    <tr style=\"text-align: right;\">\n",
       "      <th></th>\n",
       "      <th>Name</th>\n",
       "      <th>Platform</th>\n",
       "      <th>Year_of_Release</th>\n",
       "      <th>Genre</th>\n",
       "      <th>NA_sales</th>\n",
       "      <th>EU_sales</th>\n",
       "      <th>JP_sales</th>\n",
       "      <th>Other_sales</th>\n",
       "      <th>Critic_Score</th>\n",
       "      <th>User_Score</th>\n",
       "      <th>Rating</th>\n",
       "    </tr>\n",
       "  </thead>\n",
       "  <tbody>\n",
       "    <tr>\n",
       "      <th>0</th>\n",
       "      <td>Wii Sports</td>\n",
       "      <td>Wii</td>\n",
       "      <td>2006.0</td>\n",
       "      <td>Sports</td>\n",
       "      <td>41.36</td>\n",
       "      <td>28.96</td>\n",
       "      <td>3.77</td>\n",
       "      <td>8.45</td>\n",
       "      <td>76.0</td>\n",
       "      <td>8</td>\n",
       "      <td>E</td>\n",
       "    </tr>\n",
       "    <tr>\n",
       "      <th>1</th>\n",
       "      <td>Super Mario Bros.</td>\n",
       "      <td>NES</td>\n",
       "      <td>1985.0</td>\n",
       "      <td>Platform</td>\n",
       "      <td>29.08</td>\n",
       "      <td>3.58</td>\n",
       "      <td>6.81</td>\n",
       "      <td>0.77</td>\n",
       "      <td>NaN</td>\n",
       "      <td>NaN</td>\n",
       "      <td>NaN</td>\n",
       "    </tr>\n",
       "    <tr>\n",
       "      <th>2</th>\n",
       "      <td>Mario Kart Wii</td>\n",
       "      <td>Wii</td>\n",
       "      <td>2008.0</td>\n",
       "      <td>Racing</td>\n",
       "      <td>15.68</td>\n",
       "      <td>12.76</td>\n",
       "      <td>3.79</td>\n",
       "      <td>3.29</td>\n",
       "      <td>82.0</td>\n",
       "      <td>8.3</td>\n",
       "      <td>E</td>\n",
       "    </tr>\n",
       "    <tr>\n",
       "      <th>3</th>\n",
       "      <td>Wii Sports Resort</td>\n",
       "      <td>Wii</td>\n",
       "      <td>2009.0</td>\n",
       "      <td>Sports</td>\n",
       "      <td>15.61</td>\n",
       "      <td>10.93</td>\n",
       "      <td>3.28</td>\n",
       "      <td>2.95</td>\n",
       "      <td>80.0</td>\n",
       "      <td>8</td>\n",
       "      <td>E</td>\n",
       "    </tr>\n",
       "    <tr>\n",
       "      <th>4</th>\n",
       "      <td>Pokemon Red/Pokemon Blue</td>\n",
       "      <td>GB</td>\n",
       "      <td>1996.0</td>\n",
       "      <td>Role-Playing</td>\n",
       "      <td>11.27</td>\n",
       "      <td>8.89</td>\n",
       "      <td>10.22</td>\n",
       "      <td>1.00</td>\n",
       "      <td>NaN</td>\n",
       "      <td>NaN</td>\n",
       "      <td>NaN</td>\n",
       "    </tr>\n",
       "    <tr>\n",
       "      <th>5</th>\n",
       "      <td>Tetris</td>\n",
       "      <td>GB</td>\n",
       "      <td>1989.0</td>\n",
       "      <td>Puzzle</td>\n",
       "      <td>23.20</td>\n",
       "      <td>2.26</td>\n",
       "      <td>4.22</td>\n",
       "      <td>0.58</td>\n",
       "      <td>NaN</td>\n",
       "      <td>NaN</td>\n",
       "      <td>NaN</td>\n",
       "    </tr>\n",
       "    <tr>\n",
       "      <th>6</th>\n",
       "      <td>New Super Mario Bros.</td>\n",
       "      <td>DS</td>\n",
       "      <td>2006.0</td>\n",
       "      <td>Platform</td>\n",
       "      <td>11.28</td>\n",
       "      <td>9.14</td>\n",
       "      <td>6.50</td>\n",
       "      <td>2.88</td>\n",
       "      <td>89.0</td>\n",
       "      <td>8.5</td>\n",
       "      <td>E</td>\n",
       "    </tr>\n",
       "    <tr>\n",
       "      <th>7</th>\n",
       "      <td>Wii Play</td>\n",
       "      <td>Wii</td>\n",
       "      <td>2006.0</td>\n",
       "      <td>Misc</td>\n",
       "      <td>13.96</td>\n",
       "      <td>9.18</td>\n",
       "      <td>2.93</td>\n",
       "      <td>2.84</td>\n",
       "      <td>58.0</td>\n",
       "      <td>6.6</td>\n",
       "      <td>E</td>\n",
       "    </tr>\n",
       "    <tr>\n",
       "      <th>8</th>\n",
       "      <td>New Super Mario Bros. Wii</td>\n",
       "      <td>Wii</td>\n",
       "      <td>2009.0</td>\n",
       "      <td>Platform</td>\n",
       "      <td>14.44</td>\n",
       "      <td>6.94</td>\n",
       "      <td>4.70</td>\n",
       "      <td>2.24</td>\n",
       "      <td>87.0</td>\n",
       "      <td>8.4</td>\n",
       "      <td>E</td>\n",
       "    </tr>\n",
       "    <tr>\n",
       "      <th>9</th>\n",
       "      <td>Duck Hunt</td>\n",
       "      <td>NES</td>\n",
       "      <td>1984.0</td>\n",
       "      <td>Shooter</td>\n",
       "      <td>26.93</td>\n",
       "      <td>0.63</td>\n",
       "      <td>0.28</td>\n",
       "      <td>0.47</td>\n",
       "      <td>NaN</td>\n",
       "      <td>NaN</td>\n",
       "      <td>NaN</td>\n",
       "    </tr>\n",
       "  </tbody>\n",
       "</table>\n",
       "</div>"
      ],
      "text/plain": [
       "                        Name Platform  Year_of_Release         Genre  \\\n",
       "0                 Wii Sports      Wii           2006.0        Sports   \n",
       "1          Super Mario Bros.      NES           1985.0      Platform   \n",
       "2             Mario Kart Wii      Wii           2008.0        Racing   \n",
       "3          Wii Sports Resort      Wii           2009.0        Sports   \n",
       "4   Pokemon Red/Pokemon Blue       GB           1996.0  Role-Playing   \n",
       "5                     Tetris       GB           1989.0        Puzzle   \n",
       "6      New Super Mario Bros.       DS           2006.0      Platform   \n",
       "7                   Wii Play      Wii           2006.0          Misc   \n",
       "8  New Super Mario Bros. Wii      Wii           2009.0      Platform   \n",
       "9                  Duck Hunt      NES           1984.0       Shooter   \n",
       "\n",
       "   NA_sales  EU_sales  JP_sales  Other_sales  Critic_Score User_Score Rating  \n",
       "0     41.36     28.96      3.77         8.45          76.0          8      E  \n",
       "1     29.08      3.58      6.81         0.77           NaN        NaN    NaN  \n",
       "2     15.68     12.76      3.79         3.29          82.0        8.3      E  \n",
       "3     15.61     10.93      3.28         2.95          80.0          8      E  \n",
       "4     11.27      8.89     10.22         1.00           NaN        NaN    NaN  \n",
       "5     23.20      2.26      4.22         0.58           NaN        NaN    NaN  \n",
       "6     11.28      9.14      6.50         2.88          89.0        8.5      E  \n",
       "7     13.96      9.18      2.93         2.84          58.0        6.6      E  \n",
       "8     14.44      6.94      4.70         2.24          87.0        8.4      E  \n",
       "9     26.93      0.63      0.28         0.47           NaN        NaN    NaN  "
      ]
     },
     "execution_count": 20,
     "metadata": {},
     "output_type": "execute_result"
    }
   ],
   "source": [
    "df = pd.read_csv('/datasets/games.csv')\n",
    "df.head(10) # просматриваю первые 10 строк с помощью head()"
   ]
  },
  {
   "cell_type": "code",
   "execution_count": 21,
   "metadata": {},
   "outputs": [
    {
     "name": "stdout",
     "output_type": "stream",
     "text": [
      "<class 'pandas.core.frame.DataFrame'>\n",
      "RangeIndex: 16715 entries, 0 to 16714\n",
      "Data columns (total 11 columns):\n",
      " #   Column           Non-Null Count  Dtype  \n",
      "---  ------           --------------  -----  \n",
      " 0   Name             16713 non-null  object \n",
      " 1   Platform         16715 non-null  object \n",
      " 2   Year_of_Release  16446 non-null  float64\n",
      " 3   Genre            16713 non-null  object \n",
      " 4   NA_sales         16715 non-null  float64\n",
      " 5   EU_sales         16715 non-null  float64\n",
      " 6   JP_sales         16715 non-null  float64\n",
      " 7   Other_sales      16715 non-null  float64\n",
      " 8   Critic_Score     8137 non-null   float64\n",
      " 9   User_Score       10014 non-null  object \n",
      " 10  Rating           9949 non-null   object \n",
      "dtypes: float64(6), object(5)\n",
      "memory usage: 1.4+ MB\n"
     ]
    }
   ],
   "source": [
    "df.info() # узнаю общуую информацию по датасету с помощью info()"
   ]
  },
  {
   "cell_type": "markdown",
   "metadata": {},
   "source": [
    "<!-- Название стобцов нужно привести к нижнему регистру, есть пропуски в столбцах Name, Year_of_Release, Genre, Critic_Score, -->"
   ]
  },
  {
   "cell_type": "markdown",
   "metadata": {},
   "source": [
    "Нужно привести все названия столбцов к нижнему регистру. Есть пропуски в атрибутах Name, Year_of_Release, Critic_Score, User_Score, Rating. Так же нужно заменить тип столбца User_Score u Year_of_Release"
   ]
  },
  {
   "cell_type": "code",
   "execution_count": 22,
   "metadata": {},
   "outputs": [
    {
     "data": {
      "text/plain": [
       "0"
      ]
     },
     "execution_count": 22,
     "metadata": {},
     "output_type": "execute_result"
    }
   ],
   "source": [
    "# Найдем дубликаты\n",
    "df.duplicated().sum() # узнаю количество дубликатов с помощью duplicated() и суммирую их с помощью sum()"
   ]
  },
  {
   "cell_type": "markdown",
   "metadata": {},
   "source": [
    "Явных дубликатов нет"
   ]
  },
  {
   "cell_type": "markdown",
   "metadata": {},
   "source": [
    "## Подготовка данных к анализу"
   ]
  },
  {
   "cell_type": "code",
   "execution_count": 23,
   "metadata": {},
   "outputs": [
    {
     "data": {
      "text/plain": [
       "Index(['name', 'platform', 'year_of_release', 'genre', 'na_sales', 'eu_sales',\n",
       "       'jp_sales', 'other_sales', 'critic_score', 'user_score', 'rating'],\n",
       "      dtype='object')"
      ]
     },
     "execution_count": 23,
     "metadata": {},
     "output_type": "execute_result"
    }
   ],
   "source": [
    "# Изменим регистр названий столбцов\n",
    "df.columns = df.columns.str.lower() # изменяю регистр на нижний с помощью str.lower()\n",
    "df.columns # проверка"
   ]
  },
  {
   "cell_type": "code",
   "execution_count": 24,
   "metadata": {},
   "outputs": [
    {
     "data": {
      "text/html": [
       "<div>\n",
       "<style scoped>\n",
       "    .dataframe tbody tr th:only-of-type {\n",
       "        vertical-align: middle;\n",
       "    }\n",
       "\n",
       "    .dataframe tbody tr th {\n",
       "        vertical-align: top;\n",
       "    }\n",
       "\n",
       "    .dataframe thead th {\n",
       "        text-align: right;\n",
       "    }\n",
       "</style>\n",
       "<table border=\"1\" class=\"dataframe\">\n",
       "  <thead>\n",
       "    <tr style=\"text-align: right;\">\n",
       "      <th></th>\n",
       "      <th>name</th>\n",
       "      <th>platform</th>\n",
       "      <th>year_of_release</th>\n",
       "      <th>genre</th>\n",
       "      <th>na_sales</th>\n",
       "      <th>eu_sales</th>\n",
       "      <th>jp_sales</th>\n",
       "      <th>other_sales</th>\n",
       "      <th>critic_score</th>\n",
       "      <th>user_score</th>\n",
       "      <th>rating</th>\n",
       "    </tr>\n",
       "  </thead>\n",
       "  <tbody>\n",
       "    <tr>\n",
       "      <th>0</th>\n",
       "      <td>Wii Sports</td>\n",
       "      <td>Wii</td>\n",
       "      <td>2006</td>\n",
       "      <td>Sports</td>\n",
       "      <td>41.36</td>\n",
       "      <td>28.96</td>\n",
       "      <td>3.77</td>\n",
       "      <td>8.45</td>\n",
       "      <td>76.0</td>\n",
       "      <td>8</td>\n",
       "      <td>E</td>\n",
       "    </tr>\n",
       "    <tr>\n",
       "      <th>1</th>\n",
       "      <td>Super Mario Bros.</td>\n",
       "      <td>NES</td>\n",
       "      <td>1985</td>\n",
       "      <td>Platform</td>\n",
       "      <td>29.08</td>\n",
       "      <td>3.58</td>\n",
       "      <td>6.81</td>\n",
       "      <td>0.77</td>\n",
       "      <td>NaN</td>\n",
       "      <td>NaN</td>\n",
       "      <td>NaN</td>\n",
       "    </tr>\n",
       "    <tr>\n",
       "      <th>2</th>\n",
       "      <td>Mario Kart Wii</td>\n",
       "      <td>Wii</td>\n",
       "      <td>2008</td>\n",
       "      <td>Racing</td>\n",
       "      <td>15.68</td>\n",
       "      <td>12.76</td>\n",
       "      <td>3.79</td>\n",
       "      <td>3.29</td>\n",
       "      <td>82.0</td>\n",
       "      <td>8.3</td>\n",
       "      <td>E</td>\n",
       "    </tr>\n",
       "    <tr>\n",
       "      <th>3</th>\n",
       "      <td>Wii Sports Resort</td>\n",
       "      <td>Wii</td>\n",
       "      <td>2009</td>\n",
       "      <td>Sports</td>\n",
       "      <td>15.61</td>\n",
       "      <td>10.93</td>\n",
       "      <td>3.28</td>\n",
       "      <td>2.95</td>\n",
       "      <td>80.0</td>\n",
       "      <td>8</td>\n",
       "      <td>E</td>\n",
       "    </tr>\n",
       "    <tr>\n",
       "      <th>4</th>\n",
       "      <td>Pokemon Red/Pokemon Blue</td>\n",
       "      <td>GB</td>\n",
       "      <td>1996</td>\n",
       "      <td>Role-Playing</td>\n",
       "      <td>11.27</td>\n",
       "      <td>8.89</td>\n",
       "      <td>10.22</td>\n",
       "      <td>1.00</td>\n",
       "      <td>NaN</td>\n",
       "      <td>NaN</td>\n",
       "      <td>NaN</td>\n",
       "    </tr>\n",
       "    <tr>\n",
       "      <th>...</th>\n",
       "      <td>...</td>\n",
       "      <td>...</td>\n",
       "      <td>...</td>\n",
       "      <td>...</td>\n",
       "      <td>...</td>\n",
       "      <td>...</td>\n",
       "      <td>...</td>\n",
       "      <td>...</td>\n",
       "      <td>...</td>\n",
       "      <td>...</td>\n",
       "      <td>...</td>\n",
       "    </tr>\n",
       "    <tr>\n",
       "      <th>16441</th>\n",
       "      <td>Samurai Warriors: Sanada Maru</td>\n",
       "      <td>PS3</td>\n",
       "      <td>2016</td>\n",
       "      <td>Action</td>\n",
       "      <td>0.00</td>\n",
       "      <td>0.00</td>\n",
       "      <td>0.01</td>\n",
       "      <td>0.00</td>\n",
       "      <td>NaN</td>\n",
       "      <td>NaN</td>\n",
       "      <td>NaN</td>\n",
       "    </tr>\n",
       "    <tr>\n",
       "      <th>16442</th>\n",
       "      <td>LMA Manager 2007</td>\n",
       "      <td>X360</td>\n",
       "      <td>2006</td>\n",
       "      <td>Sports</td>\n",
       "      <td>0.00</td>\n",
       "      <td>0.01</td>\n",
       "      <td>0.00</td>\n",
       "      <td>0.00</td>\n",
       "      <td>NaN</td>\n",
       "      <td>NaN</td>\n",
       "      <td>NaN</td>\n",
       "    </tr>\n",
       "    <tr>\n",
       "      <th>16443</th>\n",
       "      <td>Haitaka no Psychedelica</td>\n",
       "      <td>PSV</td>\n",
       "      <td>2016</td>\n",
       "      <td>Adventure</td>\n",
       "      <td>0.00</td>\n",
       "      <td>0.00</td>\n",
       "      <td>0.01</td>\n",
       "      <td>0.00</td>\n",
       "      <td>NaN</td>\n",
       "      <td>NaN</td>\n",
       "      <td>NaN</td>\n",
       "    </tr>\n",
       "    <tr>\n",
       "      <th>16444</th>\n",
       "      <td>Spirits &amp; Spells</td>\n",
       "      <td>GBA</td>\n",
       "      <td>2003</td>\n",
       "      <td>Platform</td>\n",
       "      <td>0.01</td>\n",
       "      <td>0.00</td>\n",
       "      <td>0.00</td>\n",
       "      <td>0.00</td>\n",
       "      <td>NaN</td>\n",
       "      <td>NaN</td>\n",
       "      <td>NaN</td>\n",
       "    </tr>\n",
       "    <tr>\n",
       "      <th>16445</th>\n",
       "      <td>Winning Post 8 2016</td>\n",
       "      <td>PSV</td>\n",
       "      <td>2016</td>\n",
       "      <td>Simulation</td>\n",
       "      <td>0.00</td>\n",
       "      <td>0.00</td>\n",
       "      <td>0.01</td>\n",
       "      <td>0.00</td>\n",
       "      <td>NaN</td>\n",
       "      <td>NaN</td>\n",
       "      <td>NaN</td>\n",
       "    </tr>\n",
       "  </tbody>\n",
       "</table>\n",
       "<p>16446 rows × 11 columns</p>\n",
       "</div>"
      ],
      "text/plain": [
       "                                name platform  year_of_release         genre  \\\n",
       "0                         Wii Sports      Wii             2006        Sports   \n",
       "1                  Super Mario Bros.      NES             1985      Platform   \n",
       "2                     Mario Kart Wii      Wii             2008        Racing   \n",
       "3                  Wii Sports Resort      Wii             2009        Sports   \n",
       "4           Pokemon Red/Pokemon Blue       GB             1996  Role-Playing   \n",
       "...                              ...      ...              ...           ...   \n",
       "16441  Samurai Warriors: Sanada Maru      PS3             2016        Action   \n",
       "16442               LMA Manager 2007     X360             2006        Sports   \n",
       "16443        Haitaka no Psychedelica      PSV             2016     Adventure   \n",
       "16444               Spirits & Spells      GBA             2003      Platform   \n",
       "16445            Winning Post 8 2016      PSV             2016    Simulation   \n",
       "\n",
       "       na_sales  eu_sales  jp_sales  other_sales  critic_score user_score  \\\n",
       "0         41.36     28.96      3.77         8.45          76.0          8   \n",
       "1         29.08      3.58      6.81         0.77           NaN        NaN   \n",
       "2         15.68     12.76      3.79         3.29          82.0        8.3   \n",
       "3         15.61     10.93      3.28         2.95          80.0          8   \n",
       "4         11.27      8.89     10.22         1.00           NaN        NaN   \n",
       "...         ...       ...       ...          ...           ...        ...   \n",
       "16441      0.00      0.00      0.01         0.00           NaN        NaN   \n",
       "16442      0.00      0.01      0.00         0.00           NaN        NaN   \n",
       "16443      0.00      0.00      0.01         0.00           NaN        NaN   \n",
       "16444      0.01      0.00      0.00         0.00           NaN        NaN   \n",
       "16445      0.00      0.00      0.01         0.00           NaN        NaN   \n",
       "\n",
       "      rating  \n",
       "0          E  \n",
       "1        NaN  \n",
       "2          E  \n",
       "3          E  \n",
       "4        NaN  \n",
       "...      ...  \n",
       "16441    NaN  \n",
       "16442    NaN  \n",
       "16443    NaN  \n",
       "16444    NaN  \n",
       "16445    NaN  \n",
       "\n",
       "[16446 rows x 11 columns]"
      ]
     },
     "execution_count": 24,
     "metadata": {},
     "output_type": "execute_result"
    }
   ],
   "source": [
    "# Изменим тип данных в столбце year_of_release, для этого сначало удалим в нем пропуски, их мало.\n",
    "df.dropna(subset=['year_of_release'], inplace = True) # Удаляю пропуски с поиощью dropna()\n",
    "df = df.reset_index(drop=True) # Возвращаю нормальную индексацию\n",
    "df['year_of_release'] = df['year_of_release'].astype(int) # Меняю тип с помощью astype() на int\n",
    "df # проверка"
   ]
  },
  {
   "cell_type": "code",
   "execution_count": 25,
   "metadata": {},
   "outputs": [
    {
     "data": {
      "text/plain": [
       "name               0.000122\n",
       "platform           0.000000\n",
       "year_of_release    0.000000\n",
       "genre              0.000122\n",
       "na_sales           0.000000\n",
       "eu_sales           0.000000\n",
       "jp_sales           0.000000\n",
       "other_sales        0.000000\n",
       "critic_score       0.514593\n",
       "user_score         0.401739\n",
       "rating             0.406056\n",
       "dtype: float64"
      ]
     },
     "execution_count": 25,
     "metadata": {},
     "output_type": "execute_result"
    }
   ],
   "source": [
    "# Посмотрим на соотнешение пропусков \n",
    "df.isna().mean() # узнаю соотношение пропусков с помощью isna().mean()"
   ]
  },
  {
   "cell_type": "markdown",
   "metadata": {},
   "source": [
    "Удалим строки в которых есть пропуски в name. Пропуски в столбцах critic_score, user_score и rating связаны скорее всего либо с годом выхода(раньше общедоступные оценки играм дать было сложно) либо с тем, что игра новая и оценок для нее еще нет, их  мы удалить не можем, и обработав их, мы исказим исследование. Пропуски в rating попробуем обработать."
   ]
  },
  {
   "cell_type": "code",
   "execution_count": 26,
   "metadata": {},
   "outputs": [
    {
     "data": {
      "text/html": [
       "<div>\n",
       "<style scoped>\n",
       "    .dataframe tbody tr th:only-of-type {\n",
       "        vertical-align: middle;\n",
       "    }\n",
       "\n",
       "    .dataframe tbody tr th {\n",
       "        vertical-align: top;\n",
       "    }\n",
       "\n",
       "    .dataframe thead th {\n",
       "        text-align: right;\n",
       "    }\n",
       "</style>\n",
       "<table border=\"1\" class=\"dataframe\">\n",
       "  <thead>\n",
       "    <tr style=\"text-align: right;\">\n",
       "      <th></th>\n",
       "      <th>name</th>\n",
       "      <th>platform</th>\n",
       "      <th>year_of_release</th>\n",
       "      <th>genre</th>\n",
       "      <th>na_sales</th>\n",
       "      <th>eu_sales</th>\n",
       "      <th>jp_sales</th>\n",
       "      <th>other_sales</th>\n",
       "      <th>critic_score</th>\n",
       "      <th>user_score</th>\n",
       "      <th>rating</th>\n",
       "    </tr>\n",
       "  </thead>\n",
       "  <tbody>\n",
       "    <tr>\n",
       "      <th>0</th>\n",
       "      <td>Wii Sports</td>\n",
       "      <td>Wii</td>\n",
       "      <td>2006</td>\n",
       "      <td>Sports</td>\n",
       "      <td>41.36</td>\n",
       "      <td>28.96</td>\n",
       "      <td>3.77</td>\n",
       "      <td>8.45</td>\n",
       "      <td>76.0</td>\n",
       "      <td>8</td>\n",
       "      <td>E</td>\n",
       "    </tr>\n",
       "    <tr>\n",
       "      <th>1</th>\n",
       "      <td>Super Mario Bros.</td>\n",
       "      <td>NES</td>\n",
       "      <td>1985</td>\n",
       "      <td>Platform</td>\n",
       "      <td>29.08</td>\n",
       "      <td>3.58</td>\n",
       "      <td>6.81</td>\n",
       "      <td>0.77</td>\n",
       "      <td>NaN</td>\n",
       "      <td>NaN</td>\n",
       "      <td>NaN</td>\n",
       "    </tr>\n",
       "    <tr>\n",
       "      <th>2</th>\n",
       "      <td>Mario Kart Wii</td>\n",
       "      <td>Wii</td>\n",
       "      <td>2008</td>\n",
       "      <td>Racing</td>\n",
       "      <td>15.68</td>\n",
       "      <td>12.76</td>\n",
       "      <td>3.79</td>\n",
       "      <td>3.29</td>\n",
       "      <td>82.0</td>\n",
       "      <td>8.3</td>\n",
       "      <td>E</td>\n",
       "    </tr>\n",
       "    <tr>\n",
       "      <th>3</th>\n",
       "      <td>Wii Sports Resort</td>\n",
       "      <td>Wii</td>\n",
       "      <td>2009</td>\n",
       "      <td>Sports</td>\n",
       "      <td>15.61</td>\n",
       "      <td>10.93</td>\n",
       "      <td>3.28</td>\n",
       "      <td>2.95</td>\n",
       "      <td>80.0</td>\n",
       "      <td>8</td>\n",
       "      <td>E</td>\n",
       "    </tr>\n",
       "    <tr>\n",
       "      <th>4</th>\n",
       "      <td>Pokemon Red/Pokemon Blue</td>\n",
       "      <td>GB</td>\n",
       "      <td>1996</td>\n",
       "      <td>Role-Playing</td>\n",
       "      <td>11.27</td>\n",
       "      <td>8.89</td>\n",
       "      <td>10.22</td>\n",
       "      <td>1.00</td>\n",
       "      <td>NaN</td>\n",
       "      <td>NaN</td>\n",
       "      <td>NaN</td>\n",
       "    </tr>\n",
       "    <tr>\n",
       "      <th>...</th>\n",
       "      <td>...</td>\n",
       "      <td>...</td>\n",
       "      <td>...</td>\n",
       "      <td>...</td>\n",
       "      <td>...</td>\n",
       "      <td>...</td>\n",
       "      <td>...</td>\n",
       "      <td>...</td>\n",
       "      <td>...</td>\n",
       "      <td>...</td>\n",
       "      <td>...</td>\n",
       "    </tr>\n",
       "    <tr>\n",
       "      <th>16439</th>\n",
       "      <td>Samurai Warriors: Sanada Maru</td>\n",
       "      <td>PS3</td>\n",
       "      <td>2016</td>\n",
       "      <td>Action</td>\n",
       "      <td>0.00</td>\n",
       "      <td>0.00</td>\n",
       "      <td>0.01</td>\n",
       "      <td>0.00</td>\n",
       "      <td>NaN</td>\n",
       "      <td>NaN</td>\n",
       "      <td>NaN</td>\n",
       "    </tr>\n",
       "    <tr>\n",
       "      <th>16440</th>\n",
       "      <td>LMA Manager 2007</td>\n",
       "      <td>X360</td>\n",
       "      <td>2006</td>\n",
       "      <td>Sports</td>\n",
       "      <td>0.00</td>\n",
       "      <td>0.01</td>\n",
       "      <td>0.00</td>\n",
       "      <td>0.00</td>\n",
       "      <td>NaN</td>\n",
       "      <td>NaN</td>\n",
       "      <td>NaN</td>\n",
       "    </tr>\n",
       "    <tr>\n",
       "      <th>16441</th>\n",
       "      <td>Haitaka no Psychedelica</td>\n",
       "      <td>PSV</td>\n",
       "      <td>2016</td>\n",
       "      <td>Adventure</td>\n",
       "      <td>0.00</td>\n",
       "      <td>0.00</td>\n",
       "      <td>0.01</td>\n",
       "      <td>0.00</td>\n",
       "      <td>NaN</td>\n",
       "      <td>NaN</td>\n",
       "      <td>NaN</td>\n",
       "    </tr>\n",
       "    <tr>\n",
       "      <th>16442</th>\n",
       "      <td>Spirits &amp; Spells</td>\n",
       "      <td>GBA</td>\n",
       "      <td>2003</td>\n",
       "      <td>Platform</td>\n",
       "      <td>0.01</td>\n",
       "      <td>0.00</td>\n",
       "      <td>0.00</td>\n",
       "      <td>0.00</td>\n",
       "      <td>NaN</td>\n",
       "      <td>NaN</td>\n",
       "      <td>NaN</td>\n",
       "    </tr>\n",
       "    <tr>\n",
       "      <th>16443</th>\n",
       "      <td>Winning Post 8 2016</td>\n",
       "      <td>PSV</td>\n",
       "      <td>2016</td>\n",
       "      <td>Simulation</td>\n",
       "      <td>0.00</td>\n",
       "      <td>0.00</td>\n",
       "      <td>0.01</td>\n",
       "      <td>0.00</td>\n",
       "      <td>NaN</td>\n",
       "      <td>NaN</td>\n",
       "      <td>NaN</td>\n",
       "    </tr>\n",
       "  </tbody>\n",
       "</table>\n",
       "<p>16444 rows × 11 columns</p>\n",
       "</div>"
      ],
      "text/plain": [
       "                                name platform  year_of_release         genre  \\\n",
       "0                         Wii Sports      Wii             2006        Sports   \n",
       "1                  Super Mario Bros.      NES             1985      Platform   \n",
       "2                     Mario Kart Wii      Wii             2008        Racing   \n",
       "3                  Wii Sports Resort      Wii             2009        Sports   \n",
       "4           Pokemon Red/Pokemon Blue       GB             1996  Role-Playing   \n",
       "...                              ...      ...              ...           ...   \n",
       "16439  Samurai Warriors: Sanada Maru      PS3             2016        Action   \n",
       "16440               LMA Manager 2007     X360             2006        Sports   \n",
       "16441        Haitaka no Psychedelica      PSV             2016     Adventure   \n",
       "16442               Spirits & Spells      GBA             2003      Platform   \n",
       "16443            Winning Post 8 2016      PSV             2016    Simulation   \n",
       "\n",
       "       na_sales  eu_sales  jp_sales  other_sales  critic_score user_score  \\\n",
       "0         41.36     28.96      3.77         8.45          76.0          8   \n",
       "1         29.08      3.58      6.81         0.77           NaN        NaN   \n",
       "2         15.68     12.76      3.79         3.29          82.0        8.3   \n",
       "3         15.61     10.93      3.28         2.95          80.0          8   \n",
       "4         11.27      8.89     10.22         1.00           NaN        NaN   \n",
       "...         ...       ...       ...          ...           ...        ...   \n",
       "16439      0.00      0.00      0.01         0.00           NaN        NaN   \n",
       "16440      0.00      0.01      0.00         0.00           NaN        NaN   \n",
       "16441      0.00      0.00      0.01         0.00           NaN        NaN   \n",
       "16442      0.01      0.00      0.00         0.00           NaN        NaN   \n",
       "16443      0.00      0.00      0.01         0.00           NaN        NaN   \n",
       "\n",
       "      rating  \n",
       "0          E  \n",
       "1        NaN  \n",
       "2          E  \n",
       "3          E  \n",
       "4        NaN  \n",
       "...      ...  \n",
       "16439    NaN  \n",
       "16440    NaN  \n",
       "16441    NaN  \n",
       "16442    NaN  \n",
       "16443    NaN  \n",
       "\n",
       "[16444 rows x 11 columns]"
      ]
     },
     "execution_count": 26,
     "metadata": {},
     "output_type": "execute_result"
    }
   ],
   "source": [
    "# Удаляю пропуски в name, так же, как делал это с year_of_release\n",
    "df.dropna(subset=['name'], inplace = True)\n",
    "df = df.reset_index(drop=True)\n",
    "df # проверка"
   ]
  },
  {
   "cell_type": "code",
   "execution_count": 27,
   "metadata": {},
   "outputs": [
    {
     "name": "stdout",
     "output_type": "stream",
     "text": [
      "['8' nan '8.3' '8.5' '6.6' '8.4' '8.6' '7.7' '6.3' '7.4' '8.2' '9' '7.9'\n",
      " '8.1' '8.7' '7.1' '3.4' '5.3' '4.8' '3.2' '8.9' '6.4' '7.8' '7.5' '2.6'\n",
      " '7.2' '9.2' '7' '7.3' '4.3' '7.6' '5.7' '5' '9.1' '6.5' 'tbd' '8.8' '6.9'\n",
      " '9.4' '6.8' '6.1' '6.7' '5.4' '4' '4.9' '4.5' '9.3' '6.2' '4.2' '6' '3.7'\n",
      " '4.1' '5.8' '5.6' '5.5' '4.4' '4.6' '5.9' '3.9' '3.1' '2.9' '5.2' '3.3'\n",
      " '4.7' '5.1' '3.5' '2.5' '1.9' '3' '2.7' '2.2' '2' '9.5' '2.1' '3.6' '2.8'\n",
      " '1.8' '3.8' '0' '1.6' '9.6' '2.4' '1.7' '1.1' '0.3' '1.5' '0.7' '1.2'\n",
      " '2.3' '0.5' '1.3' '0.2' '0.6' '1.4' '0.9' '1' '9.7']\n"
     ]
    }
   ],
   "source": [
    "# Узнаем все уникальные значения user_score\n",
    "print(df['user_score'].unique()) # узнаю все уникальные значения с помощью unique()\n",
    "# Так как в user_score встречается tbd(еще невыставленный рейтинг) заменим его на NaN\n",
    "df['user_score'].loc[df['user_score'] == 'tbd'] = np.nan # нахожу tbd с помощью loc и  заменяю  на nan с помощью np.nan\n",
    "# Изменим тип данных в столбце user_score\n",
    "df['user_score'] = df['user_score'].astype(float) "
   ]
  },
  {
   "cell_type": "code",
   "execution_count": 28,
   "metadata": {},
   "outputs": [
    {
     "data": {
      "text/plain": [
       "0    82.54\n",
       "1    40.24\n",
       "2    35.52\n",
       "3    32.77\n",
       "4    31.38\n",
       "5    30.26\n",
       "6    29.80\n",
       "7    28.91\n",
       "8    28.32\n",
       "9    28.31\n",
       "Name: sum_sales, dtype: float64"
      ]
     },
     "execution_count": 28,
     "metadata": {},
     "output_type": "execute_result"
    }
   ],
   "source": [
    "# Посчитаем суммарные продажи во всех регионах и запишим их в отдельный столбец\n",
    "df['sum_sales'] = df['na_sales'] + df['eu_sales'] + df['jp_sales'] + df['other_sales']\n",
    "df['sum_sales'].head(10) # проверка"
   ]
  },
  {
   "cell_type": "code",
   "execution_count": 29,
   "metadata": {},
   "outputs": [
    {
     "data": {
      "text/html": [
       "<div>\n",
       "<style scoped>\n",
       "    .dataframe tbody tr th:only-of-type {\n",
       "        vertical-align: middle;\n",
       "    }\n",
       "\n",
       "    .dataframe tbody tr th {\n",
       "        vertical-align: top;\n",
       "    }\n",
       "\n",
       "    .dataframe thead th {\n",
       "        text-align: right;\n",
       "    }\n",
       "</style>\n",
       "<table border=\"1\" class=\"dataframe\">\n",
       "  <thead>\n",
       "    <tr style=\"text-align: right;\">\n",
       "      <th></th>\n",
       "      <th>name</th>\n",
       "    </tr>\n",
       "    <tr>\n",
       "      <th>rating</th>\n",
       "      <th></th>\n",
       "    </tr>\n",
       "  </thead>\n",
       "  <tbody>\n",
       "    <tr>\n",
       "      <th>AO</th>\n",
       "      <td>1</td>\n",
       "    </tr>\n",
       "    <tr>\n",
       "      <th>E</th>\n",
       "      <td>3921</td>\n",
       "    </tr>\n",
       "    <tr>\n",
       "      <th>E10+</th>\n",
       "      <td>1393</td>\n",
       "    </tr>\n",
       "    <tr>\n",
       "      <th>EC</th>\n",
       "      <td>8</td>\n",
       "    </tr>\n",
       "    <tr>\n",
       "      <th>K-A</th>\n",
       "      <td>3</td>\n",
       "    </tr>\n",
       "    <tr>\n",
       "      <th>M</th>\n",
       "      <td>1536</td>\n",
       "    </tr>\n",
       "    <tr>\n",
       "      <th>RP</th>\n",
       "      <td>1</td>\n",
       "    </tr>\n",
       "    <tr>\n",
       "      <th>T</th>\n",
       "      <td>2905</td>\n",
       "    </tr>\n",
       "  </tbody>\n",
       "</table>\n",
       "</div>"
      ],
      "text/plain": [
       "        name\n",
       "rating      \n",
       "AO         1\n",
       "E       3921\n",
       "E10+    1393\n",
       "EC         8\n",
       "K-A        3\n",
       "M       1536\n",
       "RP         1\n",
       "T       2905"
      ]
     },
     "execution_count": 29,
     "metadata": {},
     "output_type": "execute_result"
    }
   ],
   "source": [
    "# Узнаем какие есть значения у столбца rating и сколько каждого из них\n",
    "df.pivot_table(index='rating', values='name', aggfunc='count')"
   ]
  },
  {
   "cell_type": "markdown",
   "metadata": {},
   "source": [
    "Будет логично заменить категории AO, EC, K-A на other и дать пропускам значение RP((«Rating Pending») — «Рейтинг ожидается»)"
   ]
  },
  {
   "cell_type": "code",
   "execution_count": 30,
   "metadata": {},
   "outputs": [
    {
     "data": {
      "text/plain": [
       "array(['E', 'RP', 'M', 'T', 'E10+', 'other'], dtype=object)"
      ]
     },
     "execution_count": 30,
     "metadata": {},
     "output_type": "execute_result"
    }
   ],
   "source": [
    "df.loc[df['rating'] == 'AO', 'rating'] = 'other' # использую loc для замены значений\n",
    "df.loc[df['rating'] == 'EC', 'rating'] = 'other' \n",
    "df.loc[df['rating'] == 'K-A', 'rating'] = 'other'\n",
    "df['rating'] = df['rating'].fillna('RP') # вставляю вместо пропусков RP\n",
    "df['rating'].unique() # проверка "
   ]
  },
  {
   "cell_type": "code",
   "execution_count": 31,
   "metadata": {},
   "outputs": [
    {
     "name": "stdout",
     "output_type": "stream",
     "text": [
      "<class 'pandas.core.frame.DataFrame'>\n",
      "RangeIndex: 16444 entries, 0 to 16443\n",
      "Data columns (total 12 columns):\n",
      " #   Column           Non-Null Count  Dtype  \n",
      "---  ------           --------------  -----  \n",
      " 0   name             16444 non-null  object \n",
      " 1   platform         16444 non-null  object \n",
      " 2   year_of_release  16444 non-null  int64  \n",
      " 3   genre            16444 non-null  object \n",
      " 4   na_sales         16444 non-null  float64\n",
      " 5   eu_sales         16444 non-null  float64\n",
      " 6   jp_sales         16444 non-null  float64\n",
      " 7   other_sales      16444 non-null  float64\n",
      " 8   critic_score     7983 non-null   float64\n",
      " 9   user_score       7463 non-null   float64\n",
      " 10  rating           16444 non-null  object \n",
      " 11  sum_sales        16444 non-null  float64\n",
      "dtypes: float64(7), int64(1), object(4)\n",
      "memory usage: 1.5+ MB\n"
     ]
    }
   ],
   "source": [
    "df.info()"
   ]
  },
  {
   "cell_type": "markdown",
   "metadata": {},
   "source": [
    "##  Исследовательский анализ данных"
   ]
  },
  {
   "cell_type": "markdown",
   "metadata": {},
   "source": [
    "Посмотрим сколько игр выпускалось в разные годы"
   ]
  },
  {
   "cell_type": "code",
   "execution_count": 32,
   "metadata": {},
   "outputs": [
    {
     "data": {
      "text/html": [
       "<div>\n",
       "<style scoped>\n",
       "    .dataframe tbody tr th:only-of-type {\n",
       "        vertical-align: middle;\n",
       "    }\n",
       "\n",
       "    .dataframe tbody tr th {\n",
       "        vertical-align: top;\n",
       "    }\n",
       "\n",
       "    .dataframe thead th {\n",
       "        text-align: right;\n",
       "    }\n",
       "</style>\n",
       "<table border=\"1\" class=\"dataframe\">\n",
       "  <thead>\n",
       "    <tr style=\"text-align: right;\">\n",
       "      <th></th>\n",
       "      <th>name</th>\n",
       "    </tr>\n",
       "    <tr>\n",
       "      <th>year_of_release</th>\n",
       "      <th></th>\n",
       "    </tr>\n",
       "  </thead>\n",
       "  <tbody>\n",
       "    <tr>\n",
       "      <th>1980</th>\n",
       "      <td>9</td>\n",
       "    </tr>\n",
       "    <tr>\n",
       "      <th>1981</th>\n",
       "      <td>46</td>\n",
       "    </tr>\n",
       "    <tr>\n",
       "      <th>1982</th>\n",
       "      <td>36</td>\n",
       "    </tr>\n",
       "    <tr>\n",
       "      <th>1983</th>\n",
       "      <td>17</td>\n",
       "    </tr>\n",
       "    <tr>\n",
       "      <th>1984</th>\n",
       "      <td>14</td>\n",
       "    </tr>\n",
       "    <tr>\n",
       "      <th>1985</th>\n",
       "      <td>14</td>\n",
       "    </tr>\n",
       "    <tr>\n",
       "      <th>1986</th>\n",
       "      <td>21</td>\n",
       "    </tr>\n",
       "    <tr>\n",
       "      <th>1987</th>\n",
       "      <td>16</td>\n",
       "    </tr>\n",
       "    <tr>\n",
       "      <th>1988</th>\n",
       "      <td>15</td>\n",
       "    </tr>\n",
       "    <tr>\n",
       "      <th>1989</th>\n",
       "      <td>17</td>\n",
       "    </tr>\n",
       "    <tr>\n",
       "      <th>1990</th>\n",
       "      <td>16</td>\n",
       "    </tr>\n",
       "    <tr>\n",
       "      <th>1991</th>\n",
       "      <td>41</td>\n",
       "    </tr>\n",
       "    <tr>\n",
       "      <th>1992</th>\n",
       "      <td>43</td>\n",
       "    </tr>\n",
       "    <tr>\n",
       "      <th>1993</th>\n",
       "      <td>60</td>\n",
       "    </tr>\n",
       "    <tr>\n",
       "      <th>1994</th>\n",
       "      <td>121</td>\n",
       "    </tr>\n",
       "    <tr>\n",
       "      <th>1995</th>\n",
       "      <td>219</td>\n",
       "    </tr>\n",
       "    <tr>\n",
       "      <th>1996</th>\n",
       "      <td>263</td>\n",
       "    </tr>\n",
       "    <tr>\n",
       "      <th>1997</th>\n",
       "      <td>289</td>\n",
       "    </tr>\n",
       "    <tr>\n",
       "      <th>1998</th>\n",
       "      <td>379</td>\n",
       "    </tr>\n",
       "    <tr>\n",
       "      <th>1999</th>\n",
       "      <td>338</td>\n",
       "    </tr>\n",
       "    <tr>\n",
       "      <th>2000</th>\n",
       "      <td>350</td>\n",
       "    </tr>\n",
       "    <tr>\n",
       "      <th>2001</th>\n",
       "      <td>482</td>\n",
       "    </tr>\n",
       "    <tr>\n",
       "      <th>2002</th>\n",
       "      <td>829</td>\n",
       "    </tr>\n",
       "    <tr>\n",
       "      <th>2003</th>\n",
       "      <td>775</td>\n",
       "    </tr>\n",
       "    <tr>\n",
       "      <th>2004</th>\n",
       "      <td>762</td>\n",
       "    </tr>\n",
       "    <tr>\n",
       "      <th>2005</th>\n",
       "      <td>939</td>\n",
       "    </tr>\n",
       "    <tr>\n",
       "      <th>2006</th>\n",
       "      <td>1006</td>\n",
       "    </tr>\n",
       "    <tr>\n",
       "      <th>2007</th>\n",
       "      <td>1197</td>\n",
       "    </tr>\n",
       "    <tr>\n",
       "      <th>2008</th>\n",
       "      <td>1427</td>\n",
       "    </tr>\n",
       "    <tr>\n",
       "      <th>2009</th>\n",
       "      <td>1426</td>\n",
       "    </tr>\n",
       "    <tr>\n",
       "      <th>2010</th>\n",
       "      <td>1255</td>\n",
       "    </tr>\n",
       "    <tr>\n",
       "      <th>2011</th>\n",
       "      <td>1136</td>\n",
       "    </tr>\n",
       "    <tr>\n",
       "      <th>2012</th>\n",
       "      <td>653</td>\n",
       "    </tr>\n",
       "    <tr>\n",
       "      <th>2013</th>\n",
       "      <td>544</td>\n",
       "    </tr>\n",
       "    <tr>\n",
       "      <th>2014</th>\n",
       "      <td>581</td>\n",
       "    </tr>\n",
       "    <tr>\n",
       "      <th>2015</th>\n",
       "      <td>606</td>\n",
       "    </tr>\n",
       "    <tr>\n",
       "      <th>2016</th>\n",
       "      <td>502</td>\n",
       "    </tr>\n",
       "  </tbody>\n",
       "</table>\n",
       "</div>"
      ],
      "text/plain": [
       "                 name\n",
       "year_of_release      \n",
       "1980                9\n",
       "1981               46\n",
       "1982               36\n",
       "1983               17\n",
       "1984               14\n",
       "1985               14\n",
       "1986               21\n",
       "1987               16\n",
       "1988               15\n",
       "1989               17\n",
       "1990               16\n",
       "1991               41\n",
       "1992               43\n",
       "1993               60\n",
       "1994              121\n",
       "1995              219\n",
       "1996              263\n",
       "1997              289\n",
       "1998              379\n",
       "1999              338\n",
       "2000              350\n",
       "2001              482\n",
       "2002              829\n",
       "2003              775\n",
       "2004              762\n",
       "2005              939\n",
       "2006             1006\n",
       "2007             1197\n",
       "2008             1427\n",
       "2009             1426\n",
       "2010             1255\n",
       "2011             1136\n",
       "2012              653\n",
       "2013              544\n",
       "2014              581\n",
       "2015              606\n",
       "2016              502"
      ]
     },
     "execution_count": 32,
     "metadata": {},
     "output_type": "execute_result"
    }
   ],
   "source": [
    "# Создадим сводную таблицу\n",
    "years = df.pivot_table(index='year_of_release', values='name', aggfunc='count') # с помощью pivot_table создаю сводную таблицу\n",
    "# уберем все неизвестные\n",
    "years = years.query('year_of_release > 1')\n",
    "years"
   ]
  },
  {
   "cell_type": "code",
   "execution_count": 33,
   "metadata": {},
   "outputs": [
    {
     "data": {
      "image/png": "[encoded data removed]",
      "text/plain": [
       "<Figure size 432x288 with 1 Axes>"
      ]
     },
     "metadata": {
      "needs_background": "light"
     },
     "output_type": "display_data"
    }
   ],
   "source": [
    "years.plot(); # создаю график с помощью plot()"
   ]
  },
  {
   "cell_type": "markdown",
   "metadata": {},
   "source": [
    "Можно сделать вывод, что игры до 1995 года выходили не так часто."
   ]
  },
  {
   "cell_type": "markdown",
   "metadata": {},
   "source": [
    "Узнаем какие платформы были самые популярные за весь период"
   ]
  },
  {
   "cell_type": "code",
   "execution_count": 34,
   "metadata": {},
   "outputs": [
    {
     "data": {
      "image/png": "[encoded data removed]",
      "text/plain": [
       "<Figure size 432x288 with 1 Axes>"
      ]
     },
     "metadata": {
      "needs_background": "light"
     },
     "output_type": "display_data"
    }
   ],
   "source": [
    "top20 = (df.pivot_table(index='platform', values='name', aggfunc='count')\n",
    " .sort_values('name', ascending=False).head(20))\n",
    "top20.plot(kind='bar');\n",
    "# создаю сводную таблицу, сортирую по убыванию количества выпущенных игр, создаю гоафик"
   ]
  },
  {
   "cell_type": "markdown",
   "metadata": {},
   "source": [
    "Вот и наши 20 фаворитов. Посмотрим как они выпускали игры по годам."
   ]
  },
  {
   "cell_type": "code",
   "execution_count": 35,
   "metadata": {},
   "outputs": [
    {
     "data": {
      "image/png": "[encoded data removed]",
      "text/plain": [
       "<Figure size 432x288 with 1 Axes>"
      ]
     },
     "metadata": {
      "needs_background": "light"
     },
     "output_type": "display_data"
    },
    {
     "data": {
      "image/png": "[encoded data removed]",
      "text/plain": [
       "<Figure size 432x288 with 1 Axes>"
      ]
     },
     "metadata": {
      "needs_background": "light"
     },
     "output_type": "display_data"
    },
    {
     "data": {
      "image/png": "[encoded data removed]",
      "text/plain": [
       "<Figure size 432x288 with 1 Axes>"
      ]
     },
     "metadata": {
      "needs_background": "light"
     },
     "output_type": "display_data"
    },
    {
     "data": {
      "image/png": "[encoded data removed]",
      "text/plain": [
       "<Figure size 432x288 with 1 Axes>"
      ]
     },
     "metadata": {
      "needs_background": "light"
     },
     "output_type": "display_data"
    },
    {
     "data": {
      "image/png": "[encoded data removed]",
      "text/plain": [
       "<Figure size 432x288 with 1 Axes>"
      ]
     },
     "metadata": {
      "needs_background": "light"
     },
     "output_type": "display_data"
    },
    {
     "data": {
      "image/png": "[encoded data removed]",
      "text/plain": [
       "<Figure size 432x288 with 1 Axes>"
      ]
     },
     "metadata": {
      "needs_background": "light"
     },
     "output_type": "display_data"
    },
    {
     "data": {
      "image/png": "[encoded data removed]",
      "text/plain": [
       "<Figure size 432x288 with 1 Axes>"
      ]
     },
     "metadata": {
      "needs_background": "light"
     },
     "output_type": "display_data"
    },
    {
     "data": {
      "image/png": "[encoded data removed]",
      "text/plain": [
       "<Figure size 432x288 with 1 Axes>"
      ]
     },
     "metadata": {
      "needs_background": "light"
     },
     "output_type": "display_data"
    },
    {
     "data": {
      "image/png": "[encoded data removed]",
      "text/plain": [
       "<Figure size 432x288 with 1 Axes>"
      ]
     },
     "metadata": {
      "needs_background": "light"
     },
     "output_type": "display_data"
    },
    {
     "data": {
      "image/png": "[encoded data removed]",
      "text/plain": [
       "<Figure size 432x288 with 1 Axes>"
      ]
     },
     "metadata": {
      "needs_background": "light"
     },
     "output_type": "display_data"
    },
    {
     "data": {
      "image/png": "[encoded data removed]",
      "text/plain": [
       "<Figure size 432x288 with 1 Axes>"
      ]
     },
     "metadata": {
      "needs_background": "light"
     },
     "output_type": "display_data"
    },
    {
     "data": {
      "image/png": "[encoded data removed]",
      "text/plain": [
       "<Figure size 432x288 with 1 Axes>"
      ]
     },
     "metadata": {
      "needs_background": "light"
     },
     "output_type": "display_data"
    },
    {
     "data": {
      "image/png": "[encoded data removed]",
      "text/plain": [
       "<Figure size 432x288 with 1 Axes>"
      ]
     },
     "metadata": {
      "needs_background": "light"
     },
     "output_type": "display_data"
    },
    {
     "data": {
      "image/png": "[encoded data removed]",
      "text/plain": [
       "<Figure size 432x288 with 1 Axes>"
      ]
     },
     "metadata": {
      "needs_background": "light"
     },
     "output_type": "display_data"
    },
    {
     "data": {
      "image/png": "[encoded data removed]",
      "text/plain": [
       "<Figure size 432x288 with 1 Axes>"
      ]
     },
     "metadata": {
      "needs_background": "light"
     },
     "output_type": "display_data"
    },
    {
     "data": {
      "image/png": "[encoded data removed]",
      "text/plain": [
       "<Figure size 432x288 with 1 Axes>"
      ]
     },
     "metadata": {
      "needs_background": "light"
     },
     "output_type": "display_data"
    },
    {
     "data": {
      "image/png": "[encoded data removed]",
      "text/plain": [
       "<Figure size 432x288 with 1 Axes>"
      ]
     },
     "metadata": {
      "needs_background": "light"
     },
     "output_type": "display_data"
    },
    {
     "data": {
      "image/png": "[encoded data removed]",
      "text/plain": [
       "<Figure size 432x288 with 1 Axes>"
      ]
     },
     "metadata": {
      "needs_background": "light"
     },
     "output_type": "display_data"
    },
    {
     "data": {
      "image/png": "[encoded data removed]",
      "text/plain": [
       "<Figure size 432x288 with 1 Axes>"
      ]
     },
     "metadata": {
      "needs_background": "light"
     },
     "output_type": "display_data"
    },
    {
     "data": {
      "image/png": "[encoded data removed]",
      "text/plain": [
       "<Figure size 432x288 with 1 Axes>"
      ]
     },
     "metadata": {
      "needs_background": "light"
     },
     "output_type": "display_data"
    }
   ],
   "source": [
    "platforms = top20.index # создаю список с названием платформ c помощью индекса из прошлой сводной таблицы\n",
    "for i in platforms: # создаю цикл для постройки графика для каждой платформы\n",
    "    a = df.query('platform == @i')\n",
    "    a.pivot_table(index='year_of_release', values='name', aggfunc='count').plot(title=i)"
   ]
  },
  {
   "cell_type": "markdown",
   "metadata": {},
   "source": [
    "Можно сделать вывод, что платформы сменяют друг друга примерно раз в 6 лет"
   ]
  },
  {
   "cell_type": "markdown",
   "metadata": {},
   "source": [
    "Теперь найдем данные за актуальный период, в этот период входят платформы PS3, Wii, X360, 3DS, PSV, PS4, XOne, WiiU и PC так как лишь на них выходят игры во время 2016 год. Создадим датафрейм за актуальный период, который поможет построить прогноз на 2017 год. Уберем все игры до 2014 года и оставим лишь актуальные платформы."
   ]
  },
  {
   "cell_type": "code",
   "execution_count": 36,
   "metadata": {
    "scrolled": false
   },
   "outputs": [
    {
     "data": {
      "text/html": [
       "<div>\n",
       "<style scoped>\n",
       "    .dataframe tbody tr th:only-of-type {\n",
       "        vertical-align: middle;\n",
       "    }\n",
       "\n",
       "    .dataframe tbody tr th {\n",
       "        vertical-align: top;\n",
       "    }\n",
       "\n",
       "    .dataframe thead th {\n",
       "        text-align: right;\n",
       "    }\n",
       "</style>\n",
       "<table border=\"1\" class=\"dataframe\">\n",
       "  <thead>\n",
       "    <tr style=\"text-align: right;\">\n",
       "      <th></th>\n",
       "      <th>name</th>\n",
       "      <th>platform</th>\n",
       "      <th>year_of_release</th>\n",
       "      <th>genre</th>\n",
       "      <th>na_sales</th>\n",
       "      <th>eu_sales</th>\n",
       "      <th>jp_sales</th>\n",
       "      <th>other_sales</th>\n",
       "      <th>critic_score</th>\n",
       "      <th>user_score</th>\n",
       "      <th>rating</th>\n",
       "      <th>sum_sales</th>\n",
       "    </tr>\n",
       "  </thead>\n",
       "  <tbody>\n",
       "    <tr>\n",
       "      <th>0</th>\n",
       "      <td>Call of Duty: Black Ops 3</td>\n",
       "      <td>PS4</td>\n",
       "      <td>2015</td>\n",
       "      <td>Shooter</td>\n",
       "      <td>6.03</td>\n",
       "      <td>5.86</td>\n",
       "      <td>0.36</td>\n",
       "      <td>2.38</td>\n",
       "      <td>NaN</td>\n",
       "      <td>NaN</td>\n",
       "      <td>RP</td>\n",
       "      <td>14.63</td>\n",
       "    </tr>\n",
       "    <tr>\n",
       "      <th>1</th>\n",
       "      <td>Grand Theft Auto V</td>\n",
       "      <td>PS4</td>\n",
       "      <td>2014</td>\n",
       "      <td>Action</td>\n",
       "      <td>3.96</td>\n",
       "      <td>6.31</td>\n",
       "      <td>0.38</td>\n",
       "      <td>1.97</td>\n",
       "      <td>97.0</td>\n",
       "      <td>8.3</td>\n",
       "      <td>M</td>\n",
       "      <td>12.62</td>\n",
       "    </tr>\n",
       "    <tr>\n",
       "      <th>2</th>\n",
       "      <td>Pokemon Omega Ruby/Pokemon Alpha Sapphire</td>\n",
       "      <td>3DS</td>\n",
       "      <td>2014</td>\n",
       "      <td>Role-Playing</td>\n",
       "      <td>4.35</td>\n",
       "      <td>3.49</td>\n",
       "      <td>3.10</td>\n",
       "      <td>0.74</td>\n",
       "      <td>NaN</td>\n",
       "      <td>NaN</td>\n",
       "      <td>RP</td>\n",
       "      <td>11.68</td>\n",
       "    </tr>\n",
       "    <tr>\n",
       "      <th>3</th>\n",
       "      <td>FIFA 16</td>\n",
       "      <td>PS4</td>\n",
       "      <td>2015</td>\n",
       "      <td>Sports</td>\n",
       "      <td>1.12</td>\n",
       "      <td>6.12</td>\n",
       "      <td>0.06</td>\n",
       "      <td>1.28</td>\n",
       "      <td>82.0</td>\n",
       "      <td>4.3</td>\n",
       "      <td>E</td>\n",
       "      <td>8.58</td>\n",
       "    </tr>\n",
       "    <tr>\n",
       "      <th>4</th>\n",
       "      <td>Star Wars Battlefront (2015)</td>\n",
       "      <td>PS4</td>\n",
       "      <td>2015</td>\n",
       "      <td>Shooter</td>\n",
       "      <td>2.99</td>\n",
       "      <td>3.49</td>\n",
       "      <td>0.22</td>\n",
       "      <td>1.28</td>\n",
       "      <td>NaN</td>\n",
       "      <td>NaN</td>\n",
       "      <td>RP</td>\n",
       "      <td>7.98</td>\n",
       "    </tr>\n",
       "    <tr>\n",
       "      <th>...</th>\n",
       "      <td>...</td>\n",
       "      <td>...</td>\n",
       "      <td>...</td>\n",
       "      <td>...</td>\n",
       "      <td>...</td>\n",
       "      <td>...</td>\n",
       "      <td>...</td>\n",
       "      <td>...</td>\n",
       "      <td>...</td>\n",
       "      <td>...</td>\n",
       "      <td>...</td>\n",
       "      <td>...</td>\n",
       "    </tr>\n",
       "    <tr>\n",
       "      <th>1671</th>\n",
       "      <td>Strawberry Nauts</td>\n",
       "      <td>PSV</td>\n",
       "      <td>2016</td>\n",
       "      <td>Adventure</td>\n",
       "      <td>0.00</td>\n",
       "      <td>0.00</td>\n",
       "      <td>0.01</td>\n",
       "      <td>0.00</td>\n",
       "      <td>NaN</td>\n",
       "      <td>NaN</td>\n",
       "      <td>RP</td>\n",
       "      <td>0.01</td>\n",
       "    </tr>\n",
       "    <tr>\n",
       "      <th>1672</th>\n",
       "      <td>Aiyoku no Eustia</td>\n",
       "      <td>PSV</td>\n",
       "      <td>2014</td>\n",
       "      <td>Misc</td>\n",
       "      <td>0.00</td>\n",
       "      <td>0.00</td>\n",
       "      <td>0.01</td>\n",
       "      <td>0.00</td>\n",
       "      <td>NaN</td>\n",
       "      <td>NaN</td>\n",
       "      <td>RP</td>\n",
       "      <td>0.01</td>\n",
       "    </tr>\n",
       "    <tr>\n",
       "      <th>1673</th>\n",
       "      <td>Samurai Warriors: Sanada Maru</td>\n",
       "      <td>PS3</td>\n",
       "      <td>2016</td>\n",
       "      <td>Action</td>\n",
       "      <td>0.00</td>\n",
       "      <td>0.00</td>\n",
       "      <td>0.01</td>\n",
       "      <td>0.00</td>\n",
       "      <td>NaN</td>\n",
       "      <td>NaN</td>\n",
       "      <td>RP</td>\n",
       "      <td>0.01</td>\n",
       "    </tr>\n",
       "    <tr>\n",
       "      <th>1674</th>\n",
       "      <td>Haitaka no Psychedelica</td>\n",
       "      <td>PSV</td>\n",
       "      <td>2016</td>\n",
       "      <td>Adventure</td>\n",
       "      <td>0.00</td>\n",
       "      <td>0.00</td>\n",
       "      <td>0.01</td>\n",
       "      <td>0.00</td>\n",
       "      <td>NaN</td>\n",
       "      <td>NaN</td>\n",
       "      <td>RP</td>\n",
       "      <td>0.01</td>\n",
       "    </tr>\n",
       "    <tr>\n",
       "      <th>1675</th>\n",
       "      <td>Winning Post 8 2016</td>\n",
       "      <td>PSV</td>\n",
       "      <td>2016</td>\n",
       "      <td>Simulation</td>\n",
       "      <td>0.00</td>\n",
       "      <td>0.00</td>\n",
       "      <td>0.01</td>\n",
       "      <td>0.00</td>\n",
       "      <td>NaN</td>\n",
       "      <td>NaN</td>\n",
       "      <td>RP</td>\n",
       "      <td>0.01</td>\n",
       "    </tr>\n",
       "  </tbody>\n",
       "</table>\n",
       "<p>1676 rows × 12 columns</p>\n",
       "</div>"
      ],
      "text/plain": [
       "                                           name platform  year_of_release  \\\n",
       "0                     Call of Duty: Black Ops 3      PS4             2015   \n",
       "1                            Grand Theft Auto V      PS4             2014   \n",
       "2     Pokemon Omega Ruby/Pokemon Alpha Sapphire      3DS             2014   \n",
       "3                                       FIFA 16      PS4             2015   \n",
       "4                  Star Wars Battlefront (2015)      PS4             2015   \n",
       "...                                         ...      ...              ...   \n",
       "1671                           Strawberry Nauts      PSV             2016   \n",
       "1672                           Aiyoku no Eustia      PSV             2014   \n",
       "1673              Samurai Warriors: Sanada Maru      PS3             2016   \n",
       "1674                    Haitaka no Psychedelica      PSV             2016   \n",
       "1675                        Winning Post 8 2016      PSV             2016   \n",
       "\n",
       "             genre  na_sales  eu_sales  jp_sales  other_sales  critic_score  \\\n",
       "0          Shooter      6.03      5.86      0.36         2.38           NaN   \n",
       "1           Action      3.96      6.31      0.38         1.97          97.0   \n",
       "2     Role-Playing      4.35      3.49      3.10         0.74           NaN   \n",
       "3           Sports      1.12      6.12      0.06         1.28          82.0   \n",
       "4          Shooter      2.99      3.49      0.22         1.28           NaN   \n",
       "...            ...       ...       ...       ...          ...           ...   \n",
       "1671     Adventure      0.00      0.00      0.01         0.00           NaN   \n",
       "1672          Misc      0.00      0.00      0.01         0.00           NaN   \n",
       "1673        Action      0.00      0.00      0.01         0.00           NaN   \n",
       "1674     Adventure      0.00      0.00      0.01         0.00           NaN   \n",
       "1675    Simulation      0.00      0.00      0.01         0.00           NaN   \n",
       "\n",
       "      user_score rating  sum_sales  \n",
       "0            NaN     RP      14.63  \n",
       "1            8.3      M      12.62  \n",
       "2            NaN     RP      11.68  \n",
       "3            4.3      E       8.58  \n",
       "4            NaN     RP       7.98  \n",
       "...          ...    ...        ...  \n",
       "1671         NaN     RP       0.01  \n",
       "1672         NaN     RP       0.01  \n",
       "1673         NaN     RP       0.01  \n",
       "1674         NaN     RP       0.01  \n",
       "1675         NaN     RP       0.01  \n",
       "\n",
       "[1676 rows x 12 columns]"
      ]
     },
     "execution_count": 36,
     "metadata": {},
     "output_type": "execute_result"
    }
   ],
   "source": [
    "# сделаем срез по этим платформам и нужным годам\n",
    "actual_df = df.query('platform in [\"PS3\", \"Wii\", \"X360\", \"PC\", \"3DS\", \"PSV\", \"PS4\", \"XOne\", \"WiiU\"]').reset_index(drop=True)\n",
    "actual_df = actual_df.query('year_of_release >= 2014').reset_index(drop=True)\n",
    "actual_df "
   ]
  },
  {
   "cell_type": "markdown",
   "metadata": {},
   "source": [
    "Найдем прибыль для каждой платформы по годам из обновленного датафрейма"
   ]
  },
  {
   "cell_type": "code",
   "execution_count": 37,
   "metadata": {},
   "outputs": [
    {
     "data": {
      "image/png": "[encoded data removed]",
      "text/plain": [
       "<Figure size 432x288 with 1 Axes>"
      ]
     },
     "metadata": {
      "needs_background": "light"
     },
     "output_type": "display_data"
    },
    {
     "data": {
      "image/png": "[encoded data removed]",
      "text/plain": [
       "<Figure size 432x288 with 1 Axes>"
      ]
     },
     "metadata": {
      "needs_background": "light"
     },
     "output_type": "display_data"
    },
    {
     "data": {
      "image/png": "[encoded data removed]",
      "text/plain": [
       "<Figure size 432x288 with 1 Axes>"
      ]
     },
     "metadata": {
      "needs_background": "light"
     },
     "output_type": "display_data"
    },
    {
     "data": {
      "image/png": "[encoded data removed]",
      "text/plain": [
       "<Figure size 432x288 with 1 Axes>"
      ]
     },
     "metadata": {
      "needs_background": "light"
     },
     "output_type": "display_data"
    },
    {
     "data": {
      "image/png": "[encoded data removed]",
      "text/plain": [
       "<Figure size 432x288 with 1 Axes>"
      ]
     },
     "metadata": {
      "needs_background": "light"
     },
     "output_type": "display_data"
    },
    {
     "data": {
      "image/png": "[encoded data removed]",
      "text/plain": [
       "<Figure size 432x288 with 1 Axes>"
      ]
     },
     "metadata": {
      "needs_background": "light"
     },
     "output_type": "display_data"
    },
    {
     "data": {
      "image/png": "[encoded data removed]",
      "text/plain": [
       "<Figure size 432x288 with 1 Axes>"
      ]
     },
     "metadata": {
      "needs_background": "light"
     },
     "output_type": "display_data"
    },
    {
     "data": {
      "image/png": "[encoded data removed]",
      "text/plain": [
       "<Figure size 432x288 with 1 Axes>"
      ]
     },
     "metadata": {
      "needs_background": "light"
     },
     "output_type": "display_data"
    },
    {
     "data": {
      "image/png": "[encoded data removed]",
      "text/plain": [
       "<Figure size 432x288 with 1 Axes>"
      ]
     },
     "metadata": {
      "needs_background": "light"
     },
     "output_type": "display_data"
    }
   ],
   "source": [
    "platforms = actual_df['platform'].unique() # создаю список всех платформ\n",
    "for i in platforms: # прохожусь по всем платформам и строю графики с заработком по годам\n",
    "    (actual_df.query('platform == @i')\n",
    "     .pivot_table(index='year_of_release', values='sum_sales', aggfunc='sum')\n",
    "     .plot(kind='bar', title=i))"
   ]
  },
  {
   "cell_type": "markdown",
   "metadata": {},
   "source": [
    "Виден переход от старого покаления платформ к новому. По продажам пока лидируют PS3 и X360, но они падают и уступают места PS4 c XOne. Так же можно выделить 3DS и PC как платформы с хорошими продажами, особенно PC со своей 30-тилетней историей продаж."
   ]
  },
  {
   "cell_type": "markdown",
   "metadata": {},
   "source": [
    "Построем график «ящик с усами» по глобальным продажам игр в разбивке по платформам"
   ]
  },
  {
   "cell_type": "code",
   "execution_count": 38,
   "metadata": {},
   "outputs": [
    {
     "data": {
      "image/png": "[encoded data removed]",
      "text/plain": [
       "<Figure size 1080x216 with 1 Axes>"
      ]
     },
     "metadata": {
      "needs_background": "light"
     },
     "output_type": "display_data"
    }
   ],
   "source": [
    "actual_df.boxplot('sum_sales', by='platform',figsize=(15,3))\n",
    "\n",
    "plt.xlabel('Платформы')\n",
    "plt.ylabel('Продажи')\n",
    "\n",
    "plt.suptitle('')\n",
    "plt.title('Глобальные продажи игр')\n",
    "\n",
    "plt.show()"
   ]
  },
  {
   "cell_type": "code",
   "execution_count": 39,
   "metadata": {},
   "outputs": [
    {
     "data": {
      "image/png": "[encoded data removed]",
      "text/plain": [
       "<Figure size 1080x216 with 1 Axes>"
      ]
     },
     "metadata": {
      "needs_background": "light"
     },
     "output_type": "display_data"
    }
   ],
   "source": [
    "# Уменьшим масштаб\n",
    "actual_df.boxplot('sum_sales', by='platform',figsize=(15,3)).set_ylim(0,2)\n",
    "\n",
    "plt.xlabel('Платформы')\n",
    "plt.ylabel('Продажи')\n",
    "\n",
    "plt.suptitle('')\n",
    "plt.title('Глобальные продажи игр до 2')\n",
    "\n",
    "plt.show()"
   ]
  },
  {
   "cell_type": "markdown",
   "metadata": {},
   "source": [
    "Некоторые платформы имеют средние продажи меньше 1, дальше 1.75 по средним продажам никто не зашел. Так же у каждой платформы есть скачки в несколько раз больше 4 квартиля. Кто-то может сказать, что это выбросы. Я так не считаю. Есть игры которые покупаются в разы больше остальных, они видимо и создают видимость выбросов. Реальные выбросы так не отследить. Можно выделить XOne и PS4, как самые перспективные платформы и PSV как самую бесперспективную."
   ]
  },
  {
   "cell_type": "markdown",
   "metadata": {},
   "source": [
    "Посмотрим, как влияют на продажи внутри одной популярной платформы отзывы пользователей и критиков. Возьмем PS3."
   ]
  },
  {
   "cell_type": "code",
   "execution_count": 40,
   "metadata": {},
   "outputs": [],
   "source": [
    "# Создадим функцию для построения диаграммы рассеяния и подсчета корреляции между отзывами и продажами\n",
    "def critic(platforms): # на вход дается название платформы\n",
    "    a = actual_df.query('platform == @platforms')\n",
    "    a.plot(x='critic_score', y='sum_sales', kind='scatter') # строю диаграмму рассеяния для отзывов критиков\n",
    "    print('Корреляция с отзывами критиков ' + str(a['critic_score'].corr(a['sum_sales']))) # Считаю корреляцию с помощью corr\n",
    "    a.plot(x='user_score', y='sum_sales', kind='scatter') # строю диаграмму рассеяния для отзвов пользователей\n",
    "    print('Корреляция с отзывами пользователей ' + str(a['user_score'].corr(a['sum_sales'])))"
   ]
  },
  {
   "cell_type": "code",
   "execution_count": 41,
   "metadata": {},
   "outputs": [
    {
     "name": "stdout",
     "output_type": "stream",
     "text": [
      "Корреляция с отзывами критиков 0.44657460493190704\n",
      "Корреляция с отзывами пользователей -0.16676141347662118\n"
     ]
    },
    {
     "data": {
      "image/png": "[encoded data removed]",
      "text/plain": [
       "<Figure size 432x288 with 1 Axes>"
      ]
     },
     "metadata": {
      "needs_background": "light"
     },
     "output_type": "display_data"
    },
    {
     "data": {
      "image/png": "[encoded data removed]",
      "text/plain": [
       "<Figure size 432x288 with 1 Axes>"
      ]
     },
     "metadata": {
      "needs_background": "light"
     },
     "output_type": "display_data"
    }
   ],
   "source": [
    "# Посмотрим на PS3\n",
    "critic('PS3')"
   ]
  },
  {
   "cell_type": "code",
   "execution_count": 42,
   "metadata": {},
   "outputs": [
    {
     "name": "stdout",
     "output_type": "stream",
     "text": [
      "Корреляция с отзывами критиков 0.5257228356581523\n",
      "Корреляция с отзывами пользователей -0.138444570945665\n"
     ]
    },
    {
     "data": {
      "image/png": "[encoded data removed]",
      "text/plain": [
       "<Figure size 432x288 with 1 Axes>"
      ]
     },
     "metadata": {
      "needs_background": "light"
     },
     "output_type": "display_data"
    },
    {
     "data": {
      "image/png": "[encoded data removed]",
      "text/plain": [
       "<Figure size 432x288 with 1 Axes>"
      ]
     },
     "metadata": {
      "needs_background": "light"
     },
     "output_type": "display_data"
    }
   ],
   "source": [
    "# Посмотрим на X360\n",
    "critic('X360')"
   ]
  },
  {
   "cell_type": "code",
   "execution_count": 43,
   "metadata": {},
   "outputs": [
    {
     "name": "stdout",
     "output_type": "stream",
     "text": [
      "Корреляция с отзывами критиков 0.40266141068104083\n",
      "Корреляция с отзывами пользователей -0.040131589472697356\n"
     ]
    },
    {
     "data": {
      "image/png": "[encoded data removed]",
      "text/plain": [
       "<Figure size 432x288 with 1 Axes>"
      ]
     },
     "metadata": {
      "needs_background": "light"
     },
     "output_type": "display_data"
    },
    {
     "data": {
      "image/png": "[encoded data removed]",
      "text/plain": [
       "<Figure size 432x288 with 1 Axes>"
      ]
     },
     "metadata": {
      "needs_background": "light"
     },
     "output_type": "display_data"
    }
   ],
   "source": [
    "# Посмотрим на PS4\n",
    "critic('PS4')"
   ]
  },
  {
   "cell_type": "code",
   "execution_count": 44,
   "metadata": {},
   "outputs": [
    {
     "name": "stdout",
     "output_type": "stream",
     "text": [
      "Корреляция с отзывами критиков 0.42867694370333226\n",
      "Корреляция с отзывами пользователей -0.0703839280647581\n"
     ]
    },
    {
     "data": {
      "image/png": "[encoded data removed]",
      "text/plain": [
       "<Figure size 432x288 with 1 Axes>"
      ]
     },
     "metadata": {
      "needs_background": "light"
     },
     "output_type": "display_data"
    },
    {
     "data": {
      "image/png": "[encoded data removed]",
      "text/plain": [
       "<Figure size 432x288 with 1 Axes>"
      ]
     },
     "metadata": {
      "needs_background": "light"
     },
     "output_type": "display_data"
    }
   ],
   "source": [
    "# Посмотрим на XOne\n",
    "critic('XOne')"
   ]
  },
  {
   "cell_type": "markdown",
   "metadata": {},
   "source": [
    "Можно сделать выводы, что от отзывов пользователей почти ничего не зависит, но от отзывы критиков имеют умеренную корреляцию."
   ]
  },
  {
   "cell_type": "markdown",
   "metadata": {},
   "source": [
    "Соотнесем результаты прошлых шагов с исследованиями по всем платформам сразу"
   ]
  },
  {
   "cell_type": "code",
   "execution_count": 45,
   "metadata": {
    "scrolled": true
   },
   "outputs": [
    {
     "name": "stdout",
     "output_type": "stream",
     "text": [
      "Корреляция с отзывами критиков 0.328105086966363\n",
      "Корреляция с отзывами пользователей -0.013070305002484585\n"
     ]
    },
    {
     "data": {
      "image/png": "[encoded data removed]",
      "text/plain": [
       "<Figure size 432x288 with 1 Axes>"
      ]
     },
     "metadata": {
      "needs_background": "light"
     },
     "output_type": "display_data"
    },
    {
     "data": {
      "image/png": "[encoded data removed]",
      "text/plain": [
       "<Figure size 432x288 with 1 Axes>"
      ]
     },
     "metadata": {
      "needs_background": "light"
     },
     "output_type": "display_data"
    }
   ],
   "source": [
    "actual_df.plot(x='critic_score', y='sum_sales', kind='scatter') # строю диаграмму рассеяния для отзывов критиков\n",
    "print('Корреляция с отзывами критиков ' + str(actual_df['critic_score'].corr(actual_df['sum_sales']))) # Считаю корреляцию с помощью corr\n",
    "actual_df.plot(x='user_score', y='sum_sales', kind='scatter') # строю диаграмму рассеяния для отзвов пользователей\n",
    "print('Корреляция с отзывами пользователей ' + str(actual_df['user_score'].corr(actual_df['sum_sales'])))"
   ]
  },
  {
   "cell_type": "markdown",
   "metadata": {},
   "source": [
    "Можно сделать выводы, что отзывы пользователей не влияют на продаваемость игр, в отличии от отзывов критиков - они имеют умеренную корреляцию. Но точно сказать об этом в данном исследование мы не можем, т.к. есть нехватка данных."
   ]
  },
  {
   "cell_type": "markdown",
   "metadata": {},
   "source": [
    "Посмотрим на распределение продаж игр по жанрам"
   ]
  },
  {
   "cell_type": "code",
   "execution_count": 46,
   "metadata": {},
   "outputs": [
    {
     "data": {
      "image/png": "[encoded data removed]",
      "text/plain": [
       "<Figure size 432x288 with 1 Axes>"
      ]
     },
     "metadata": {
      "needs_background": "light"
     },
     "output_type": "display_data"
    }
   ],
   "source": [
    "actual_df.pivot_table(index='genre', values='sum_sales', aggfunc='sum').plot(kind='bar');"
   ]
  },
  {
   "cell_type": "code",
   "execution_count": 30,
   "metadata": {},
   "outputs": [
    {
     "data": {
      "image/png": "[encoded data removed]",
      "text/plain": [
       "<Figure size 864x1152 with 12 Axes>"
      ]
     },
     "metadata": {
      "needs_background": "light"
     },
     "output_type": "display_data"
    }
   ],
   "source": [
    "cnt = len(actual_df['genre'].unique())\n",
    "v_cnt = int(np.ceil(cnt/3)) \n",
    "fig = plt.figure(figsize=(12, 4*v_cnt))\n",
    "for i, genre in zip(range(1, cnt+1), actual_df['genre'].unique()):\n",
    "    ax = fig.add_subplot(v_cnt,3,i)\n",
    "    ax.title.set_text(genre)\n",
    "    actual_df.query('genre == @genre').boxplot('sum_sales')"
   ]
  },
  {
   "cell_type": "code",
   "execution_count": 31,
   "metadata": {},
   "outputs": [
    {
     "data": {
      "image/png": "[encoded data removed]",
      "text/plain": [
       "<Figure size 864x1152 with 12 Axes>"
      ]
     },
     "metadata": {
      "needs_background": "light"
     },
     "output_type": "display_data"
    }
   ],
   "source": [
    "# уменьшим масштаб\n",
    "fig = plt.figure(figsize=(12, 4*v_cnt))\n",
    "for i, genre in zip(range(1, cnt+1), actual_df['genre'].unique()):\n",
    "    ax = fig.add_subplot(v_cnt,3,i)\n",
    "    ax.title.set_text(genre)\n",
    "    plt.ylim(0,2)\n",
    "    actual_df.query('genre == @genre').boxplot('sum_sales')"
   ]
  },
  {
   "cell_type": "markdown",
   "metadata": {},
   "source": [
    "Можно выделить жанры спорт, шутер и экшен как популярные и продаваемые. Особо выыделяется жанр экшен, как самый продаваемый и жанры пазл, приключения и стратегии как самые непопулярный."
   ]
  },
  {
   "cell_type": "markdown",
   "metadata": {},
   "source": [
    "## Составим портрет пользователя каждого региона"
   ]
  },
  {
   "cell_type": "markdown",
   "metadata": {},
   "source": [
    "Определим самые популярные платформы, самые популярные жанры, влияет ли рейтинг ESRB на продажи в отдельном регионе?"
   ]
  },
  {
   "cell_type": "code",
   "execution_count": 32,
   "metadata": {},
   "outputs": [],
   "source": [
    "# Создадим функцию на вход которой подается название столбца и название заголовка,\n",
    "# она создаст графики по всем параметрам за раз \n",
    "def user_portrait(row, title):\n",
    "    fig, axes = plt.subplots(1, 3, figsize=(20, 8))\n",
    "    for pivot, ax in zip(list(['eu_sales','jp_sales','na_sales']),axes):\n",
    "        ppivot = actual_df.pivot_table(index=row, values=pivot, aggfunc='sum'\n",
    "                  ).sort_values(by=pivot, ascending=False).reset_index().rename_axis(None, axis=1).head(5)\n",
    "        display(ppivot)\n",
    "        sns.barplot(data=ppivot, x=row, y=pivot, ax=ax)\n",
    "        fig.suptitle(title, fontsize=15)\n",
    "plt.show()\n",
    "sns.set()"
   ]
  },
  {
   "cell_type": "code",
   "execution_count": 33,
   "metadata": {},
   "outputs": [
    {
     "data": {
      "text/html": [
       "<div>\n",
       "<style scoped>\n",
       "    .dataframe tbody tr th:only-of-type {\n",
       "        vertical-align: middle;\n",
       "    }\n",
       "\n",
       "    .dataframe tbody tr th {\n",
       "        vertical-align: top;\n",
       "    }\n",
       "\n",
       "    .dataframe thead th {\n",
       "        text-align: right;\n",
       "    }\n",
       "</style>\n",
       "<table border=\"1\" class=\"dataframe\">\n",
       "  <thead>\n",
       "    <tr style=\"text-align: right;\">\n",
       "      <th></th>\n",
       "      <th>platform</th>\n",
       "      <th>eu_sales</th>\n",
       "    </tr>\n",
       "  </thead>\n",
       "  <tbody>\n",
       "    <tr>\n",
       "      <th>0</th>\n",
       "      <td>PS4</td>\n",
       "      <td>130.04</td>\n",
       "    </tr>\n",
       "    <tr>\n",
       "      <th>1</th>\n",
       "      <td>XOne</td>\n",
       "      <td>46.25</td>\n",
       "    </tr>\n",
       "    <tr>\n",
       "      <th>2</th>\n",
       "      <td>PS3</td>\n",
       "      <td>25.54</td>\n",
       "    </tr>\n",
       "    <tr>\n",
       "      <th>3</th>\n",
       "      <td>PC</td>\n",
       "      <td>17.97</td>\n",
       "    </tr>\n",
       "    <tr>\n",
       "      <th>4</th>\n",
       "      <td>3DS</td>\n",
       "      <td>16.12</td>\n",
       "    </tr>\n",
       "  </tbody>\n",
       "</table>\n",
       "</div>"
      ],
      "text/plain": [
       "  platform  eu_sales\n",
       "0      PS4    130.04\n",
       "1     XOne     46.25\n",
       "2      PS3     25.54\n",
       "3       PC     17.97\n",
       "4      3DS     16.12"
      ]
     },
     "metadata": {},
     "output_type": "display_data"
    },
    {
     "data": {
      "text/html": [
       "<div>\n",
       "<style scoped>\n",
       "    .dataframe tbody tr th:only-of-type {\n",
       "        vertical-align: middle;\n",
       "    }\n",
       "\n",
       "    .dataframe tbody tr th {\n",
       "        vertical-align: top;\n",
       "    }\n",
       "\n",
       "    .dataframe thead th {\n",
       "        text-align: right;\n",
       "    }\n",
       "</style>\n",
       "<table border=\"1\" class=\"dataframe\">\n",
       "  <thead>\n",
       "    <tr style=\"text-align: right;\">\n",
       "      <th></th>\n",
       "      <th>platform</th>\n",
       "      <th>jp_sales</th>\n",
       "    </tr>\n",
       "  </thead>\n",
       "  <tbody>\n",
       "    <tr>\n",
       "      <th>0</th>\n",
       "      <td>3DS</td>\n",
       "      <td>44.24</td>\n",
       "    </tr>\n",
       "    <tr>\n",
       "      <th>1</th>\n",
       "      <td>PS4</td>\n",
       "      <td>15.02</td>\n",
       "    </tr>\n",
       "    <tr>\n",
       "      <th>2</th>\n",
       "      <td>PSV</td>\n",
       "      <td>14.54</td>\n",
       "    </tr>\n",
       "    <tr>\n",
       "      <th>3</th>\n",
       "      <td>PS3</td>\n",
       "      <td>11.22</td>\n",
       "    </tr>\n",
       "    <tr>\n",
       "      <th>4</th>\n",
       "      <td>WiiU</td>\n",
       "      <td>7.31</td>\n",
       "    </tr>\n",
       "  </tbody>\n",
       "</table>\n",
       "</div>"
      ],
      "text/plain": [
       "  platform  jp_sales\n",
       "0      3DS     44.24\n",
       "1      PS4     15.02\n",
       "2      PSV     14.54\n",
       "3      PS3     11.22\n",
       "4     WiiU      7.31"
      ]
     },
     "metadata": {},
     "output_type": "display_data"
    },
    {
     "data": {
      "text/html": [
       "<div>\n",
       "<style scoped>\n",
       "    .dataframe tbody tr th:only-of-type {\n",
       "        vertical-align: middle;\n",
       "    }\n",
       "\n",
       "    .dataframe tbody tr th {\n",
       "        vertical-align: top;\n",
       "    }\n",
       "\n",
       "    .dataframe thead th {\n",
       "        text-align: right;\n",
       "    }\n",
       "</style>\n",
       "<table border=\"1\" class=\"dataframe\">\n",
       "  <thead>\n",
       "    <tr style=\"text-align: right;\">\n",
       "      <th></th>\n",
       "      <th>platform</th>\n",
       "      <th>na_sales</th>\n",
       "    </tr>\n",
       "  </thead>\n",
       "  <tbody>\n",
       "    <tr>\n",
       "      <th>0</th>\n",
       "      <td>PS4</td>\n",
       "      <td>98.61</td>\n",
       "    </tr>\n",
       "    <tr>\n",
       "      <th>1</th>\n",
       "      <td>XOne</td>\n",
       "      <td>81.27</td>\n",
       "    </tr>\n",
       "    <tr>\n",
       "      <th>2</th>\n",
       "      <td>X360</td>\n",
       "      <td>28.30</td>\n",
       "    </tr>\n",
       "    <tr>\n",
       "      <th>3</th>\n",
       "      <td>3DS</td>\n",
       "      <td>22.64</td>\n",
       "    </tr>\n",
       "    <tr>\n",
       "      <th>4</th>\n",
       "      <td>PS3</td>\n",
       "      <td>22.05</td>\n",
       "    </tr>\n",
       "  </tbody>\n",
       "</table>\n",
       "</div>"
      ],
      "text/plain": [
       "  platform  na_sales\n",
       "0      PS4     98.61\n",
       "1     XOne     81.27\n",
       "2     X360     28.30\n",
       "3      3DS     22.64\n",
       "4      PS3     22.05"
      ]
     },
     "metadata": {},
     "output_type": "display_data"
    },
    {
     "data": {
      "image/png": "[encoded data removed]",
      "text/plain": [
       "<Figure size 1440x576 with 3 Axes>"
      ]
     },
     "metadata": {},
     "output_type": "display_data"
    }
   ],
   "source": [
    "user_portrait('platform', 'Топ 5 платформ')"
   ]
  },
  {
   "cell_type": "code",
   "execution_count": 34,
   "metadata": {},
   "outputs": [
    {
     "data": {
      "text/html": [
       "<div>\n",
       "<style scoped>\n",
       "    .dataframe tbody tr th:only-of-type {\n",
       "        vertical-align: middle;\n",
       "    }\n",
       "\n",
       "    .dataframe tbody tr th {\n",
       "        vertical-align: top;\n",
       "    }\n",
       "\n",
       "    .dataframe thead th {\n",
       "        text-align: right;\n",
       "    }\n",
       "</style>\n",
       "<table border=\"1\" class=\"dataframe\">\n",
       "  <thead>\n",
       "    <tr style=\"text-align: right;\">\n",
       "      <th></th>\n",
       "      <th>genre</th>\n",
       "      <th>eu_sales</th>\n",
       "    </tr>\n",
       "  </thead>\n",
       "  <tbody>\n",
       "    <tr>\n",
       "      <th>0</th>\n",
       "      <td>Action</td>\n",
       "      <td>74.68</td>\n",
       "    </tr>\n",
       "    <tr>\n",
       "      <th>1</th>\n",
       "      <td>Shooter</td>\n",
       "      <td>65.52</td>\n",
       "    </tr>\n",
       "    <tr>\n",
       "      <th>2</th>\n",
       "      <td>Sports</td>\n",
       "      <td>45.73</td>\n",
       "    </tr>\n",
       "    <tr>\n",
       "      <th>3</th>\n",
       "      <td>Role-Playing</td>\n",
       "      <td>28.17</td>\n",
       "    </tr>\n",
       "    <tr>\n",
       "      <th>4</th>\n",
       "      <td>Racing</td>\n",
       "      <td>14.13</td>\n",
       "    </tr>\n",
       "  </tbody>\n",
       "</table>\n",
       "</div>"
      ],
      "text/plain": [
       "          genre  eu_sales\n",
       "0        Action     74.68\n",
       "1       Shooter     65.52\n",
       "2        Sports     45.73\n",
       "3  Role-Playing     28.17\n",
       "4        Racing     14.13"
      ]
     },
     "metadata": {},
     "output_type": "display_data"
    },
    {
     "data": {
      "text/html": [
       "<div>\n",
       "<style scoped>\n",
       "    .dataframe tbody tr th:only-of-type {\n",
       "        vertical-align: middle;\n",
       "    }\n",
       "\n",
       "    .dataframe tbody tr th {\n",
       "        vertical-align: top;\n",
       "    }\n",
       "\n",
       "    .dataframe thead th {\n",
       "        text-align: right;\n",
       "    }\n",
       "</style>\n",
       "<table border=\"1\" class=\"dataframe\">\n",
       "  <thead>\n",
       "    <tr style=\"text-align: right;\">\n",
       "      <th></th>\n",
       "      <th>genre</th>\n",
       "      <th>jp_sales</th>\n",
       "    </tr>\n",
       "  </thead>\n",
       "  <tbody>\n",
       "    <tr>\n",
       "      <th>0</th>\n",
       "      <td>Role-Playing</td>\n",
       "      <td>31.16</td>\n",
       "    </tr>\n",
       "    <tr>\n",
       "      <th>1</th>\n",
       "      <td>Action</td>\n",
       "      <td>29.38</td>\n",
       "    </tr>\n",
       "    <tr>\n",
       "      <th>2</th>\n",
       "      <td>Fighting</td>\n",
       "      <td>6.37</td>\n",
       "    </tr>\n",
       "    <tr>\n",
       "      <th>3</th>\n",
       "      <td>Misc</td>\n",
       "      <td>5.59</td>\n",
       "    </tr>\n",
       "    <tr>\n",
       "      <th>4</th>\n",
       "      <td>Shooter</td>\n",
       "      <td>4.87</td>\n",
       "    </tr>\n",
       "  </tbody>\n",
       "</table>\n",
       "</div>"
      ],
      "text/plain": [
       "          genre  jp_sales\n",
       "0  Role-Playing     31.16\n",
       "1        Action     29.38\n",
       "2      Fighting      6.37\n",
       "3          Misc      5.59\n",
       "4       Shooter      4.87"
      ]
     },
     "metadata": {},
     "output_type": "display_data"
    },
    {
     "data": {
      "text/html": [
       "<div>\n",
       "<style scoped>\n",
       "    .dataframe tbody tr th:only-of-type {\n",
       "        vertical-align: middle;\n",
       "    }\n",
       "\n",
       "    .dataframe tbody tr th {\n",
       "        vertical-align: top;\n",
       "    }\n",
       "\n",
       "    .dataframe thead th {\n",
       "        text-align: right;\n",
       "    }\n",
       "</style>\n",
       "<table border=\"1\" class=\"dataframe\">\n",
       "  <thead>\n",
       "    <tr style=\"text-align: right;\">\n",
       "      <th></th>\n",
       "      <th>genre</th>\n",
       "      <th>na_sales</th>\n",
       "    </tr>\n",
       "  </thead>\n",
       "  <tbody>\n",
       "    <tr>\n",
       "      <th>0</th>\n",
       "      <td>Shooter</td>\n",
       "      <td>79.02</td>\n",
       "    </tr>\n",
       "    <tr>\n",
       "      <th>1</th>\n",
       "      <td>Action</td>\n",
       "      <td>72.53</td>\n",
       "    </tr>\n",
       "    <tr>\n",
       "      <th>2</th>\n",
       "      <td>Sports</td>\n",
       "      <td>46.13</td>\n",
       "    </tr>\n",
       "    <tr>\n",
       "      <th>3</th>\n",
       "      <td>Role-Playing</td>\n",
       "      <td>33.47</td>\n",
       "    </tr>\n",
       "    <tr>\n",
       "      <th>4</th>\n",
       "      <td>Misc</td>\n",
       "      <td>15.05</td>\n",
       "    </tr>\n",
       "  </tbody>\n",
       "</table>\n",
       "</div>"
      ],
      "text/plain": [
       "          genre  na_sales\n",
       "0       Shooter     79.02\n",
       "1        Action     72.53\n",
       "2        Sports     46.13\n",
       "3  Role-Playing     33.47\n",
       "4          Misc     15.05"
      ]
     },
     "metadata": {},
     "output_type": "display_data"
    },
    {
     "data": {
      "image/png": "[encoded data removed]",
      "text/plain": [
       "<Figure size 1440x576 with 3 Axes>"
      ]
     },
     "metadata": {},
     "output_type": "display_data"
    }
   ],
   "source": [
    "user_portrait('genre','Топ 5 жанров')"
   ]
  },
  {
   "cell_type": "code",
   "execution_count": 35,
   "metadata": {},
   "outputs": [
    {
     "data": {
      "text/html": [
       "<div>\n",
       "<style scoped>\n",
       "    .dataframe tbody tr th:only-of-type {\n",
       "        vertical-align: middle;\n",
       "    }\n",
       "\n",
       "    .dataframe tbody tr th {\n",
       "        vertical-align: top;\n",
       "    }\n",
       "\n",
       "    .dataframe thead th {\n",
       "        text-align: right;\n",
       "    }\n",
       "</style>\n",
       "<table border=\"1\" class=\"dataframe\">\n",
       "  <thead>\n",
       "    <tr style=\"text-align: right;\">\n",
       "      <th></th>\n",
       "      <th>rating</th>\n",
       "      <th>eu_sales</th>\n",
       "    </tr>\n",
       "  </thead>\n",
       "  <tbody>\n",
       "    <tr>\n",
       "      <th>0</th>\n",
       "      <td>M</td>\n",
       "      <td>93.44</td>\n",
       "    </tr>\n",
       "    <tr>\n",
       "      <th>1</th>\n",
       "      <td>RP</td>\n",
       "      <td>58.95</td>\n",
       "    </tr>\n",
       "    <tr>\n",
       "      <th>2</th>\n",
       "      <td>E</td>\n",
       "      <td>58.06</td>\n",
       "    </tr>\n",
       "    <tr>\n",
       "      <th>3</th>\n",
       "      <td>T</td>\n",
       "      <td>34.07</td>\n",
       "    </tr>\n",
       "    <tr>\n",
       "      <th>4</th>\n",
       "      <td>E10+</td>\n",
       "      <td>26.16</td>\n",
       "    </tr>\n",
       "  </tbody>\n",
       "</table>\n",
       "</div>"
      ],
      "text/plain": [
       "  rating  eu_sales\n",
       "0      M     93.44\n",
       "1     RP     58.95\n",
       "2      E     58.06\n",
       "3      T     34.07\n",
       "4   E10+     26.16"
      ]
     },
     "metadata": {},
     "output_type": "display_data"
    },
    {
     "data": {
      "text/html": [
       "<div>\n",
       "<style scoped>\n",
       "    .dataframe tbody tr th:only-of-type {\n",
       "        vertical-align: middle;\n",
       "    }\n",
       "\n",
       "    .dataframe tbody tr th {\n",
       "        vertical-align: top;\n",
       "    }\n",
       "\n",
       "    .dataframe thead th {\n",
       "        text-align: right;\n",
       "    }\n",
       "</style>\n",
       "<table border=\"1\" class=\"dataframe\">\n",
       "  <thead>\n",
       "    <tr style=\"text-align: right;\">\n",
       "      <th></th>\n",
       "      <th>rating</th>\n",
       "      <th>jp_sales</th>\n",
       "    </tr>\n",
       "  </thead>\n",
       "  <tbody>\n",
       "    <tr>\n",
       "      <th>0</th>\n",
       "      <td>RP</td>\n",
       "      <td>56.54</td>\n",
       "    </tr>\n",
       "    <tr>\n",
       "      <th>1</th>\n",
       "      <td>T</td>\n",
       "      <td>14.78</td>\n",
       "    </tr>\n",
       "    <tr>\n",
       "      <th>2</th>\n",
       "      <td>E</td>\n",
       "      <td>8.94</td>\n",
       "    </tr>\n",
       "    <tr>\n",
       "      <th>3</th>\n",
       "      <td>M</td>\n",
       "      <td>8.01</td>\n",
       "    </tr>\n",
       "    <tr>\n",
       "      <th>4</th>\n",
       "      <td>E10+</td>\n",
       "      <td>4.46</td>\n",
       "    </tr>\n",
       "  </tbody>\n",
       "</table>\n",
       "</div>"
      ],
      "text/plain": [
       "  rating  jp_sales\n",
       "0     RP     56.54\n",
       "1      T     14.78\n",
       "2      E      8.94\n",
       "3      M      8.01\n",
       "4   E10+      4.46"
      ]
     },
     "metadata": {},
     "output_type": "display_data"
    },
    {
     "data": {
      "text/html": [
       "<div>\n",
       "<style scoped>\n",
       "    .dataframe tbody tr th:only-of-type {\n",
       "        vertical-align: middle;\n",
       "    }\n",
       "\n",
       "    .dataframe tbody tr th {\n",
       "        vertical-align: top;\n",
       "    }\n",
       "\n",
       "    .dataframe thead th {\n",
       "        text-align: right;\n",
       "    }\n",
       "</style>\n",
       "<table border=\"1\" class=\"dataframe\">\n",
       "  <thead>\n",
       "    <tr style=\"text-align: right;\">\n",
       "      <th></th>\n",
       "      <th>rating</th>\n",
       "      <th>na_sales</th>\n",
       "    </tr>\n",
       "  </thead>\n",
       "  <tbody>\n",
       "    <tr>\n",
       "      <th>0</th>\n",
       "      <td>M</td>\n",
       "      <td>96.42</td>\n",
       "    </tr>\n",
       "    <tr>\n",
       "      <th>1</th>\n",
       "      <td>RP</td>\n",
       "      <td>64.72</td>\n",
       "    </tr>\n",
       "    <tr>\n",
       "      <th>2</th>\n",
       "      <td>E</td>\n",
       "      <td>50.74</td>\n",
       "    </tr>\n",
       "    <tr>\n",
       "      <th>3</th>\n",
       "      <td>T</td>\n",
       "      <td>38.95</td>\n",
       "    </tr>\n",
       "    <tr>\n",
       "      <th>4</th>\n",
       "      <td>E10+</td>\n",
       "      <td>33.23</td>\n",
       "    </tr>\n",
       "  </tbody>\n",
       "</table>\n",
       "</div>"
      ],
      "text/plain": [
       "  rating  na_sales\n",
       "0      M     96.42\n",
       "1     RP     64.72\n",
       "2      E     50.74\n",
       "3      T     38.95\n",
       "4   E10+     33.23"
      ]
     },
     "metadata": {},
     "output_type": "display_data"
    },
    {
     "data": {
      "image/png": "[encoded data removed]",
      "text/plain": [
       "<Figure size 1440x576 with 3 Axes>"
      ]
     },
     "metadata": {},
     "output_type": "display_data"
    }
   ],
   "source": [
    "user_portrait('rating','Топ 5 платформ, жанров и рейтингов в Северной Америке')"
   ]
  },
  {
   "cell_type": "markdown",
   "metadata": {},
   "source": [
    "Топ 5 платформ Европы - PS4, XOne, PS3, PC, 3DS\n",
    "\n",
    "Японии - 3DS, PS4, PSV, PS3, WiiU\n",
    "\n",
    "Северной америки - PS4, XOne, X360, 3DS, PS3\n",
    "\n",
    "Япония выделяется любителями PSV и WiiU. Только в Европе популярен РС. И лишь Америка еще не простилась с X360. PS3, PS4 и 3DS полюбились всем регионам. Скорее всего такая разница объясняется разными культурами гейминга и доступности определенных платформ.\n",
    "\n",
    "Топ 5 жанров Европы - Action, Shooter, Sports, Role-Playing, Racing\n",
    "\n",
    "Японии - Role-Playing, Action, Fighting, Misc, Shooter\n",
    "\n",
    "Северной Америки - Shooter, Action, Sports, Role-Playing, Misc\n",
    "\n",
    "В Японии больше всего любят ролевые игры и только в Японии любят файтинги - это объясняется выходом в 2015 году tekken 7 и остальными релизами компании Bandai Namco Games. Картина Америки и Европы похожи, только в Европе популярны гонки, объяснить это можно любовью европейцев к машинам, и прекрасному европейскому машиностроению. Всем регионам нравятся ролевые игры, шутеры и экшен.\n",
    "\n",
    "Видно, что в Японии рейтинг ESRB ставится не часто. Рейтинг E и Т имеет большею часть от продаж , чем в других регионах, в отличии от рейтинга М."
   ]
  },
  {
   "cell_type": "markdown",
   "metadata": {},
   "source": [
    "## Проверка гипотез"
   ]
  },
  {
   "cell_type": "markdown",
   "metadata": {},
   "source": [
    "Первая гипотеза - средние пользовательские рейтинги платформ Xbox One и PC одинаковые. Нулевая гипотезза - Средние пользовательские рейтинги платформ Xbox One и PC одинаковые, альтернативная гипотеза - Средние пользовательские рейтинги платформ Xbox One и PC разные.Так как нам даны данные лишь с одного магазина, а не всех продаж всех магазинов по миру проведем t-тест."
   ]
  },
  {
   "cell_type": "markdown",
   "metadata": {},
   "source": [
    "В Python есть специальный метод для проверки гипотезы о равенстве среднего двух генеральных совокупностей по взятым из них выборкам: scipy.stats.ttest_ind (array1, array2, equal_var), использую его."
   ]
  },
  {
   "cell_type": "code",
   "execution_count": 36,
   "metadata": {},
   "outputs": [
    {
     "data": {
      "text/html": [
       "<div>\n",
       "<style scoped>\n",
       "    .dataframe tbody tr th:only-of-type {\n",
       "        vertical-align: middle;\n",
       "    }\n",
       "\n",
       "    .dataframe tbody tr th {\n",
       "        vertical-align: top;\n",
       "    }\n",
       "\n",
       "    .dataframe thead th {\n",
       "        text-align: right;\n",
       "    }\n",
       "</style>\n",
       "<table border=\"1\" class=\"dataframe\">\n",
       "  <thead>\n",
       "    <tr style=\"text-align: right;\">\n",
       "      <th></th>\n",
       "      <th>name</th>\n",
       "      <th>platform</th>\n",
       "      <th>year_of_release</th>\n",
       "      <th>genre</th>\n",
       "      <th>na_sales</th>\n",
       "      <th>eu_sales</th>\n",
       "      <th>jp_sales</th>\n",
       "      <th>other_sales</th>\n",
       "      <th>critic_score</th>\n",
       "      <th>user_score</th>\n",
       "      <th>rating</th>\n",
       "      <th>sum_sales</th>\n",
       "    </tr>\n",
       "  </thead>\n",
       "  <tbody>\n",
       "    <tr>\n",
       "      <th>0</th>\n",
       "      <td>Grand Theft Auto V</td>\n",
       "      <td>PS4</td>\n",
       "      <td>2014</td>\n",
       "      <td>Action</td>\n",
       "      <td>3.96</td>\n",
       "      <td>6.31</td>\n",
       "      <td>0.38</td>\n",
       "      <td>1.97</td>\n",
       "      <td>97.0</td>\n",
       "      <td>8.3</td>\n",
       "      <td>M</td>\n",
       "      <td>12.62</td>\n",
       "    </tr>\n",
       "    <tr>\n",
       "      <th>1</th>\n",
       "      <td>FIFA 16</td>\n",
       "      <td>PS4</td>\n",
       "      <td>2015</td>\n",
       "      <td>Sports</td>\n",
       "      <td>1.12</td>\n",
       "      <td>6.12</td>\n",
       "      <td>0.06</td>\n",
       "      <td>1.28</td>\n",
       "      <td>82.0</td>\n",
       "      <td>4.3</td>\n",
       "      <td>E</td>\n",
       "      <td>8.58</td>\n",
       "    </tr>\n",
       "    <tr>\n",
       "      <th>2</th>\n",
       "      <td>Call of Duty: Advanced Warfare</td>\n",
       "      <td>PS4</td>\n",
       "      <td>2014</td>\n",
       "      <td>Shooter</td>\n",
       "      <td>2.81</td>\n",
       "      <td>3.48</td>\n",
       "      <td>0.14</td>\n",
       "      <td>1.23</td>\n",
       "      <td>83.0</td>\n",
       "      <td>5.7</td>\n",
       "      <td>M</td>\n",
       "      <td>7.66</td>\n",
       "    </tr>\n",
       "    <tr>\n",
       "      <th>3</th>\n",
       "      <td>FIFA 17</td>\n",
       "      <td>PS4</td>\n",
       "      <td>2016</td>\n",
       "      <td>Sports</td>\n",
       "      <td>0.66</td>\n",
       "      <td>5.75</td>\n",
       "      <td>0.08</td>\n",
       "      <td>1.11</td>\n",
       "      <td>85.0</td>\n",
       "      <td>5.0</td>\n",
       "      <td>E</td>\n",
       "      <td>7.60</td>\n",
       "    </tr>\n",
       "    <tr>\n",
       "      <th>4</th>\n",
       "      <td>Fallout 4</td>\n",
       "      <td>PS4</td>\n",
       "      <td>2015</td>\n",
       "      <td>Role-Playing</td>\n",
       "      <td>2.53</td>\n",
       "      <td>3.27</td>\n",
       "      <td>0.24</td>\n",
       "      <td>1.13</td>\n",
       "      <td>87.0</td>\n",
       "      <td>6.5</td>\n",
       "      <td>M</td>\n",
       "      <td>7.17</td>\n",
       "    </tr>\n",
       "    <tr>\n",
       "      <th>...</th>\n",
       "      <td>...</td>\n",
       "      <td>...</td>\n",
       "      <td>...</td>\n",
       "      <td>...</td>\n",
       "      <td>...</td>\n",
       "      <td>...</td>\n",
       "      <td>...</td>\n",
       "      <td>...</td>\n",
       "      <td>...</td>\n",
       "      <td>...</td>\n",
       "      <td>...</td>\n",
       "      <td>...</td>\n",
       "    </tr>\n",
       "    <tr>\n",
       "      <th>883</th>\n",
       "      <td>Sébastien Loeb Rally Evo</td>\n",
       "      <td>XOne</td>\n",
       "      <td>2016</td>\n",
       "      <td>Racing</td>\n",
       "      <td>0.00</td>\n",
       "      <td>0.01</td>\n",
       "      <td>0.00</td>\n",
       "      <td>0.00</td>\n",
       "      <td>63.0</td>\n",
       "      <td>8.2</td>\n",
       "      <td>E</td>\n",
       "      <td>0.01</td>\n",
       "    </tr>\n",
       "    <tr>\n",
       "      <th>884</th>\n",
       "      <td>Rugby Challenge 3</td>\n",
       "      <td>XOne</td>\n",
       "      <td>2016</td>\n",
       "      <td>Sports</td>\n",
       "      <td>0.00</td>\n",
       "      <td>0.01</td>\n",
       "      <td>0.00</td>\n",
       "      <td>0.00</td>\n",
       "      <td>NaN</td>\n",
       "      <td>6.6</td>\n",
       "      <td>E</td>\n",
       "      <td>0.01</td>\n",
       "    </tr>\n",
       "    <tr>\n",
       "      <th>885</th>\n",
       "      <td>Fast Racing Neo</td>\n",
       "      <td>WiiU</td>\n",
       "      <td>2016</td>\n",
       "      <td>Action</td>\n",
       "      <td>0.00</td>\n",
       "      <td>0.01</td>\n",
       "      <td>0.00</td>\n",
       "      <td>0.00</td>\n",
       "      <td>81.0</td>\n",
       "      <td>8.5</td>\n",
       "      <td>E</td>\n",
       "      <td>0.01</td>\n",
       "    </tr>\n",
       "    <tr>\n",
       "      <th>886</th>\n",
       "      <td>Prison Architect</td>\n",
       "      <td>XOne</td>\n",
       "      <td>2016</td>\n",
       "      <td>Action</td>\n",
       "      <td>0.01</td>\n",
       "      <td>0.00</td>\n",
       "      <td>0.00</td>\n",
       "      <td>0.00</td>\n",
       "      <td>74.0</td>\n",
       "      <td>6.7</td>\n",
       "      <td>RP</td>\n",
       "      <td>0.01</td>\n",
       "    </tr>\n",
       "    <tr>\n",
       "      <th>887</th>\n",
       "      <td>Metal Gear Solid V: Ground Zeroes</td>\n",
       "      <td>PC</td>\n",
       "      <td>2014</td>\n",
       "      <td>Action</td>\n",
       "      <td>0.00</td>\n",
       "      <td>0.01</td>\n",
       "      <td>0.00</td>\n",
       "      <td>0.00</td>\n",
       "      <td>80.0</td>\n",
       "      <td>7.6</td>\n",
       "      <td>M</td>\n",
       "      <td>0.01</td>\n",
       "    </tr>\n",
       "  </tbody>\n",
       "</table>\n",
       "<p>888 rows × 12 columns</p>\n",
       "</div>"
      ],
      "text/plain": [
       "                                  name platform  year_of_release  \\\n",
       "0                   Grand Theft Auto V      PS4             2014   \n",
       "1                              FIFA 16      PS4             2015   \n",
       "2       Call of Duty: Advanced Warfare      PS4             2014   \n",
       "3                              FIFA 17      PS4             2016   \n",
       "4                            Fallout 4      PS4             2015   \n",
       "..                                 ...      ...              ...   \n",
       "883           Sébastien Loeb Rally Evo     XOne             2016   \n",
       "884                  Rugby Challenge 3     XOne             2016   \n",
       "885                   Fast Racing Neo      WiiU             2016   \n",
       "886                   Prison Architect     XOne             2016   \n",
       "887  Metal Gear Solid V: Ground Zeroes       PC             2014   \n",
       "\n",
       "            genre  na_sales  eu_sales  jp_sales  other_sales  critic_score  \\\n",
       "0          Action      3.96      6.31      0.38         1.97          97.0   \n",
       "1          Sports      1.12      6.12      0.06         1.28          82.0   \n",
       "2         Shooter      2.81      3.48      0.14         1.23          83.0   \n",
       "3          Sports      0.66      5.75      0.08         1.11          85.0   \n",
       "4    Role-Playing      2.53      3.27      0.24         1.13          87.0   \n",
       "..            ...       ...       ...       ...          ...           ...   \n",
       "883        Racing      0.00      0.01      0.00         0.00          63.0   \n",
       "884        Sports      0.00      0.01      0.00         0.00           NaN   \n",
       "885        Action      0.00      0.01      0.00         0.00          81.0   \n",
       "886        Action      0.01      0.00      0.00         0.00          74.0   \n",
       "887        Action      0.00      0.01      0.00         0.00          80.0   \n",
       "\n",
       "     user_score rating  sum_sales  \n",
       "0           8.3      M      12.62  \n",
       "1           4.3      E       8.58  \n",
       "2           5.7      M       7.66  \n",
       "3           5.0      E       7.60  \n",
       "4           6.5      M       7.17  \n",
       "..          ...    ...        ...  \n",
       "883         8.2      E       0.01  \n",
       "884         6.6      E       0.01  \n",
       "885         8.5      E       0.01  \n",
       "886         6.7     RP       0.01  \n",
       "887         7.6      M       0.01  \n",
       "\n",
       "[888 rows x 12 columns]"
      ]
     },
     "execution_count": 36,
     "metadata": {},
     "output_type": "execute_result"
    }
   ],
   "source": [
    "# Перед t-тестом удалим строки с пропусками в user_score чтобы не исказить исследование\n",
    "\n",
    "actual_df.dropna(subset=['user_score'], inplace = True)\n",
    "actual_df = actual_df.reset_index(drop=True)\n",
    "actual_df"
   ]
  },
  {
   "cell_type": "code",
   "execution_count": 37,
   "metadata": {},
   "outputs": [
    {
     "name": "stdout",
     "output_type": "stream",
     "text": [
      "1.8910066518847013\n",
      "2.901154315133451\n"
     ]
    }
   ],
   "source": [
    "# Перед проверкой узнаем дисперсии для обоих выборок\n",
    "XOne = actual_df.query('platform == \"XOne\"')\n",
    "print(XOne['user_score'].var())\n",
    "PC = actual_df.query('platform == \"PC\"')\n",
    "print(PC['user_score'].var())"
   ]
  },
  {
   "cell_type": "markdown",
   "metadata": {},
   "source": [
    "Дисперсии отличются не сильно, применять 3 аргумент не придется."
   ]
  },
  {
   "cell_type": "code",
   "execution_count": 38,
   "metadata": {
    "scrolled": true
   },
   "outputs": [
    {
     "name": "stdout",
     "output_type": "stream",
     "text": [
      "p-значение: 0.10450507919348415\n",
      "Первая гипотеза не может быть отвергнута\n"
     ]
    }
   ],
   "source": [
    "XOne_rait = XOne['user_score']\n",
    "PC_rait = PC['user_score']\n",
    "a = st.stats.ttest_ind (XOne_rait, PC_rait)\n",
    "alpha = 0.05 # # критический уровень статистической значимости, если p-value окажется меньше него - отвергнем гипотезу\n",
    "print('p-значение: ' + str(a.pvalue))\n",
    "if a.pvalue < alpha:\n",
    "    print('Гипотеза отвергнута')\n",
    "else:\n",
    "    print('Первая гипотеза не может быть отвергнута')\n",
    "    "
   ]
  },
  {
   "cell_type": "markdown",
   "metadata": {},
   "source": [
    "Вторая гипотеза - средние пользовательские рейтинги жанров Action и Sports разные. Нулевая гипотеза - средние пользовательские рейтинги жанров Action и Sports одинаковые. Альтернативная гипотеза -  средние пользовательские рейтинги жанров Action и Sports разные. Проведем t-тест."
   ]
  },
  {
   "cell_type": "code",
   "execution_count": 40,
   "metadata": {},
   "outputs": [
    {
     "name": "stdout",
     "output_type": "stream",
     "text": [
      "1.8984766584766581\n",
      "3.446979127609048\n"
     ]
    }
   ],
   "source": [
    "# Перед проверкой узнаем дисперсии для обоих выборок\n",
    "action = actual_df.query('genre == \"Action\"')\n",
    "print(action['user_score'].var())\n",
    "sports = actual_df.query('genre == \"Sports\"')\n",
    "print(sports['user_score'].var())"
   ]
  },
  {
   "cell_type": "markdown",
   "metadata": {},
   "source": [
    "Дисперсии отличаются не сильно, 3 аргумент не нужен."
   ]
  },
  {
   "cell_type": "code",
   "execution_count": 41,
   "metadata": {},
   "outputs": [
    {
     "name": "stdout",
     "output_type": "stream",
     "text": [
      "p-значение: 2.8711147985105864e-19\n",
      "Вторая гипотеза не может быть отвергнута\n"
     ]
    }
   ],
   "source": [
    "action_rait = action['user_score']\n",
    "sports_rait = sports['user_score']\n",
    "a = st.stats.ttest_ind (action_rait, sports_rait)\n",
    "alpha = 0.05 \n",
    "print('p-значение: ' + str(a.pvalue))\n",
    "if a.pvalue < alpha:\n",
    "    print('Вторая гипотеза не может быть отвергнута')\n",
    "else:\n",
    "    print('Вторая гипотеза отвергнута')"
   ]
  },
  {
   "cell_type": "markdown",
   "metadata": {},
   "source": [
    "По результатом t-теста вторая гипотеза не может быть отвергнута. Средние пользовательские рейтинги жанров Action и Sports могут быть одинаковыми. Популярность этих жанров высока, как мы могли узнать из прошлых шагов, так что не удивительно, что их рейтинги могут быть одинаковы."
   ]
  },
  {
   "cell_type": "markdown",
   "metadata": {},
   "source": [
    "## Вывод "
   ]
  },
  {
   "cell_type": "markdown",
   "metadata": {},
   "source": [
    "Платформы сменяют друг друга примерно раз в 6 лет.  По продажам пока лидируют PS3 и X360, но они падают и уступают места PS4 c XOne. Так же можно выделить 3DS и PC как платформы с хорошими продажами, особенно PC со своей 30-тилетней историей продаж. Есть игры которые продаются во много раз лучше остальных. \n",
    "\n",
    "Отзывы пользователей и критиков практически не влияют на популярность игр. Можно выделить жанры спорт, шутер и экшен как популярные и продаваемые. Особо выделяется жанр экшен, как самый продаваемый и жанры пазл, приключения и стратегии как самые непопулярный. \n",
    "\n",
    "Топ 5 платформ Европы - PS4, XOne, PS3, PC, 3DS; Японии - 3DS, PS4, PSV, PS3, WiiU; Северной америки - PS4, XOne, X360, 3DS, PS3. Топ 5 жанров Европы - Action, Shooter, Sports, Role-Playing, Racing; Японии - Role-Playing, Action, Fighting, Misc, Shooter; Северной Америки - Shooter, Action, Sports, Role-Playing, Misc. Рейтинг  ESRB влияет на продажи в Японии но при этом часто не используется. \n",
    "\n",
    "Пользовательские рейтинги платформ XOne u PC могут быть разными и средние пользовательские рейтинги жанров Action и Sports могут быть одинаковыми."
   ]
  }
 ],
 "metadata": {
  "ExecuteTimeLog": [
   {
    "duration": 48,
    "start_time": "2022-09-03T09:38:53.161Z"
   },
   {
    "duration": 1200,
    "start_time": "2022-09-03T09:38:56.993Z"
   },
   {
    "duration": 95,
    "start_time": "2022-09-03T09:38:58.195Z"
   },
   {
    "duration": 75,
    "start_time": "2022-09-03T09:39:07.274Z"
   },
   {
    "duration": 13,
    "start_time": "2022-09-03T09:40:58.143Z"
   },
   {
    "duration": 15,
    "start_time": "2022-09-03T09:51:16.289Z"
   },
   {
    "duration": 64,
    "start_time": "2022-09-03T09:55:16.136Z"
   },
   {
    "duration": 9,
    "start_time": "2022-09-03T09:55:23.777Z"
   },
   {
    "duration": 14,
    "start_time": "2022-09-03T09:57:09.631Z"
   },
   {
    "duration": 13,
    "start_time": "2022-09-03T09:57:15.181Z"
   },
   {
    "duration": 10,
    "start_time": "2022-09-03T09:57:25.082Z"
   },
   {
    "duration": 8,
    "start_time": "2022-09-03T09:57:37.590Z"
   },
   {
    "duration": 3,
    "start_time": "2022-09-03T09:58:11.433Z"
   },
   {
    "duration": 5,
    "start_time": "2022-09-03T09:58:20.327Z"
   },
   {
    "duration": 704,
    "start_time": "2022-09-03T10:01:52.333Z"
   },
   {
    "duration": 869,
    "start_time": "2022-09-03T10:02:06.081Z"
   },
   {
    "duration": 822,
    "start_time": "2022-09-03T10:02:18.957Z"
   },
   {
    "duration": 15,
    "start_time": "2022-09-03T10:02:30.497Z"
   },
   {
    "duration": 9,
    "start_time": "2022-09-03T10:04:03.248Z"
   },
   {
    "duration": 10,
    "start_time": "2022-09-03T10:04:21.595Z"
   },
   {
    "duration": 12,
    "start_time": "2022-09-03T10:04:35.745Z"
   },
   {
    "duration": 9,
    "start_time": "2022-09-03T10:05:49.321Z"
   },
   {
    "duration": 7,
    "start_time": "2022-09-03T10:27:26.189Z"
   },
   {
    "duration": 5,
    "start_time": "2022-09-03T10:27:32.311Z"
   },
   {
    "duration": 10,
    "start_time": "2022-09-03T10:27:42.806Z"
   },
   {
    "duration": 8,
    "start_time": "2022-09-03T10:28:06.461Z"
   },
   {
    "duration": 10,
    "start_time": "2022-09-03T10:33:24.014Z"
   },
   {
    "duration": 104,
    "start_time": "2022-09-03T10:51:10.525Z"
   },
   {
    "duration": 13,
    "start_time": "2022-09-03T10:51:15.638Z"
   },
   {
    "duration": 9,
    "start_time": "2022-09-03T10:54:57.626Z"
   },
   {
    "duration": 23,
    "start_time": "2022-09-03T10:59:30.257Z"
   },
   {
    "duration": 3,
    "start_time": "2022-09-03T10:59:49.679Z"
   },
   {
    "duration": 60,
    "start_time": "2022-09-03T10:59:49.845Z"
   },
   {
    "duration": 12,
    "start_time": "2022-09-03T10:59:49.994Z"
   },
   {
    "duration": 16,
    "start_time": "2022-09-03T10:59:50.476Z"
   },
   {
    "duration": 4,
    "start_time": "2022-09-03T10:59:52.172Z"
   },
   {
    "duration": 9,
    "start_time": "2022-09-03T10:59:53.134Z"
   },
   {
    "duration": 15,
    "start_time": "2022-09-03T10:59:57.401Z"
   },
   {
    "duration": 14,
    "start_time": "2022-09-03T10:59:57.571Z"
   },
   {
    "duration": 14,
    "start_time": "2022-09-03T11:00:08.222Z"
   },
   {
    "duration": 8,
    "start_time": "2022-09-03T11:00:29.081Z"
   },
   {
    "duration": 4,
    "start_time": "2022-09-03T11:00:29.249Z"
   },
   {
    "duration": 3,
    "start_time": "2022-09-03T11:00:35.380Z"
   },
   {
    "duration": 75,
    "start_time": "2022-09-03T11:00:35.535Z"
   },
   {
    "duration": 16,
    "start_time": "2022-09-03T11:00:35.677Z"
   },
   {
    "duration": 13,
    "start_time": "2022-09-03T11:00:36.122Z"
   },
   {
    "duration": 5,
    "start_time": "2022-09-03T11:00:36.610Z"
   },
   {
    "duration": 8,
    "start_time": "2022-09-03T11:00:36.771Z"
   },
   {
    "duration": 11,
    "start_time": "2022-09-03T11:00:37.070Z"
   },
   {
    "duration": 13,
    "start_time": "2022-09-03T11:00:37.226Z"
   },
   {
    "duration": 7,
    "start_time": "2022-09-03T11:04:26.882Z"
   },
   {
    "duration": 3,
    "start_time": "2022-09-03T11:04:40.262Z"
   },
   {
    "duration": 77,
    "start_time": "2022-09-03T11:04:40.408Z"
   },
   {
    "duration": 14,
    "start_time": "2022-09-03T11:04:40.584Z"
   },
   {
    "duration": 14,
    "start_time": "2022-09-03T11:04:41.032Z"
   },
   {
    "duration": 9,
    "start_time": "2022-09-03T11:04:48.754Z"
   },
   {
    "duration": 12,
    "start_time": "2022-09-03T11:04:49.474Z"
   },
   {
    "duration": 5,
    "start_time": "2022-09-03T11:08:08.804Z"
   },
   {
    "duration": 7,
    "start_time": "2022-09-03T11:08:22.022Z"
   },
   {
    "duration": 9,
    "start_time": "2022-09-03T11:08:48.588Z"
   },
   {
    "duration": 7,
    "start_time": "2022-09-03T11:08:54.190Z"
   },
   {
    "duration": 6,
    "start_time": "2022-09-03T11:09:15.615Z"
   },
   {
    "duration": 17,
    "start_time": "2022-09-03T11:10:47.686Z"
   },
   {
    "duration": 53,
    "start_time": "2022-09-03T11:14:54.874Z"
   },
   {
    "duration": 12,
    "start_time": "2022-09-03T11:17:12.358Z"
   },
   {
    "duration": 22,
    "start_time": "2022-09-03T11:17:28.880Z"
   },
   {
    "duration": 15,
    "start_time": "2022-09-03T11:18:54.168Z"
   },
   {
    "duration": 16,
    "start_time": "2022-09-03T11:25:51.114Z"
   },
   {
    "duration": 32,
    "start_time": "2022-09-03T11:26:27.214Z"
   },
   {
    "duration": 26,
    "start_time": "2022-09-03T11:27:37.858Z"
   },
   {
    "duration": 14,
    "start_time": "2022-09-03T11:28:34.301Z"
   },
   {
    "duration": 3,
    "start_time": "2022-09-03T11:28:54.126Z"
   },
   {
    "duration": 64,
    "start_time": "2022-09-03T11:28:54.270Z"
   },
   {
    "duration": 13,
    "start_time": "2022-09-03T11:28:54.417Z"
   },
   {
    "duration": 15,
    "start_time": "2022-09-03T11:28:54.849Z"
   },
   {
    "duration": 6,
    "start_time": "2022-09-03T11:28:55.273Z"
   },
   {
    "duration": 13,
    "start_time": "2022-09-03T11:28:55.417Z"
   },
   {
    "duration": 6,
    "start_time": "2022-09-03T11:28:55.709Z"
   },
   {
    "duration": 6,
    "start_time": "2022-09-03T11:28:55.864Z"
   },
   {
    "duration": 13,
    "start_time": "2022-09-03T11:29:23.646Z"
   },
   {
    "duration": 22,
    "start_time": "2022-09-03T11:29:28.122Z"
   },
   {
    "duration": 10,
    "start_time": "2022-09-03T11:30:10.771Z"
   },
   {
    "duration": 365,
    "start_time": "2022-09-03T11:38:04.142Z"
   },
   {
    "duration": 4,
    "start_time": "2022-09-03T11:38:23.048Z"
   },
   {
    "duration": 10,
    "start_time": "2022-09-03T11:38:33.630Z"
   },
   {
    "duration": 12,
    "start_time": "2022-09-03T11:38:37.784Z"
   },
   {
    "duration": 17,
    "start_time": "2022-09-03T11:39:20.248Z"
   },
   {
    "duration": 8,
    "start_time": "2022-09-03T11:50:50.812Z"
   },
   {
    "duration": 5,
    "start_time": "2022-09-03T11:58:54.541Z"
   },
   {
    "duration": 9,
    "start_time": "2022-09-03T12:00:23.885Z"
   },
   {
    "duration": 8,
    "start_time": "2022-09-03T12:00:56.656Z"
   },
   {
    "duration": 25,
    "start_time": "2022-09-03T12:01:00.731Z"
   },
   {
    "duration": 8,
    "start_time": "2022-09-03T12:02:00.190Z"
   },
   {
    "duration": 8,
    "start_time": "2022-09-03T12:04:13.779Z"
   },
   {
    "duration": 22,
    "start_time": "2022-09-03T12:07:33.454Z"
   },
   {
    "duration": 12,
    "start_time": "2022-09-03T12:10:42.628Z"
   },
   {
    "duration": 9,
    "start_time": "2022-09-03T12:11:01.916Z"
   },
   {
    "duration": 5,
    "start_time": "2022-09-03T12:11:27.712Z"
   },
   {
    "duration": 8,
    "start_time": "2022-09-03T12:11:52.389Z"
   },
   {
    "duration": 4,
    "start_time": "2022-09-03T12:12:00.535Z"
   },
   {
    "duration": 6,
    "start_time": "2022-09-03T12:12:47.361Z"
   },
   {
    "duration": 65,
    "start_time": "2022-09-03T12:12:47.583Z"
   },
   {
    "duration": 13,
    "start_time": "2022-09-03T12:12:47.698Z"
   },
   {
    "duration": 13,
    "start_time": "2022-09-03T12:12:48.141Z"
   },
   {
    "duration": 8,
    "start_time": "2022-09-03T12:12:48.566Z"
   },
   {
    "duration": 13,
    "start_time": "2022-09-03T12:12:48.712Z"
   },
   {
    "duration": 6,
    "start_time": "2022-09-03T12:12:48.853Z"
   },
   {
    "duration": 11,
    "start_time": "2022-09-03T12:12:48.999Z"
   },
   {
    "duration": 6,
    "start_time": "2022-09-03T12:12:49.332Z"
   },
   {
    "duration": 25,
    "start_time": "2022-09-03T12:12:49.497Z"
   },
   {
    "duration": 12,
    "start_time": "2022-09-03T12:12:49.680Z"
   },
   {
    "duration": 26,
    "start_time": "2022-09-03T12:12:50.184Z"
   },
   {
    "duration": 26,
    "start_time": "2022-09-03T12:13:27.204Z"
   },
   {
    "duration": 14,
    "start_time": "2022-09-03T12:14:56.338Z"
   },
   {
    "duration": 13,
    "start_time": "2022-09-03T12:15:18.681Z"
   },
   {
    "duration": 3,
    "start_time": "2022-09-03T12:16:18.016Z"
   },
   {
    "duration": 66,
    "start_time": "2022-09-03T12:16:18.342Z"
   },
   {
    "duration": 19,
    "start_time": "2022-09-03T12:16:18.685Z"
   },
   {
    "duration": 15,
    "start_time": "2022-09-03T12:16:19.632Z"
   },
   {
    "duration": 5,
    "start_time": "2022-09-03T12:16:20.449Z"
   },
   {
    "duration": 5,
    "start_time": "2022-09-03T12:16:20.680Z"
   },
   {
    "duration": 10,
    "start_time": "2022-09-03T12:16:20.929Z"
   },
   {
    "duration": 10,
    "start_time": "2022-09-03T12:16:21.452Z"
   },
   {
    "duration": 18,
    "start_time": "2022-09-03T12:16:21.675Z"
   },
   {
    "duration": 8,
    "start_time": "2022-09-03T12:16:21.945Z"
   },
   {
    "duration": 14,
    "start_time": "2022-09-03T12:16:22.189Z"
   },
   {
    "duration": 33,
    "start_time": "2022-09-03T12:16:22.946Z"
   },
   {
    "duration": 11,
    "start_time": "2022-09-03T12:17:32.871Z"
   },
   {
    "duration": 3,
    "start_time": "2022-09-03T12:17:41.168Z"
   },
   {
    "duration": 61,
    "start_time": "2022-09-03T12:17:41.297Z"
   },
   {
    "duration": 17,
    "start_time": "2022-09-03T12:17:41.451Z"
   },
   {
    "duration": 15,
    "start_time": "2022-09-03T12:17:41.869Z"
   },
   {
    "duration": 5,
    "start_time": "2022-09-03T12:17:42.291Z"
   },
   {
    "duration": 5,
    "start_time": "2022-09-03T12:17:42.431Z"
   },
   {
    "duration": 9,
    "start_time": "2022-09-03T12:17:42.577Z"
   },
   {
    "duration": 7,
    "start_time": "2022-09-03T12:17:42.892Z"
   },
   {
    "duration": 13,
    "start_time": "2022-09-03T12:17:43.027Z"
   },
   {
    "duration": 7,
    "start_time": "2022-09-03T12:17:43.183Z"
   },
   {
    "duration": 21,
    "start_time": "2022-09-03T12:17:43.374Z"
   },
   {
    "duration": 41,
    "start_time": "2022-09-03T12:17:43.830Z"
   },
   {
    "duration": 8,
    "start_time": "2022-09-03T12:19:15.635Z"
   },
   {
    "duration": 25,
    "start_time": "2022-09-03T12:19:35.514Z"
   },
   {
    "duration": 13,
    "start_time": "2022-09-03T12:20:06.328Z"
   },
   {
    "duration": 53,
    "start_time": "2022-09-04T09:56:45.588Z"
   },
   {
    "duration": 1289,
    "start_time": "2022-09-04T09:56:49.927Z"
   },
   {
    "duration": 134,
    "start_time": "2022-09-04T09:56:51.219Z"
   },
   {
    "duration": 19,
    "start_time": "2022-09-04T09:56:51.355Z"
   },
   {
    "duration": 26,
    "start_time": "2022-09-04T09:56:51.377Z"
   },
   {
    "duration": 27,
    "start_time": "2022-09-04T09:56:51.405Z"
   },
   {
    "duration": 41,
    "start_time": "2022-09-04T09:56:51.434Z"
   },
   {
    "duration": 35,
    "start_time": "2022-09-04T09:56:51.477Z"
   },
   {
    "duration": 7,
    "start_time": "2022-09-04T09:56:51.663Z"
   },
   {
    "duration": 17,
    "start_time": "2022-09-04T09:56:51.829Z"
   },
   {
    "duration": 10,
    "start_time": "2022-09-04T09:56:51.979Z"
   },
   {
    "duration": 13,
    "start_time": "2022-09-04T09:56:52.129Z"
   },
   {
    "duration": 10,
    "start_time": "2022-09-04T09:56:52.628Z"
   },
   {
    "duration": 13,
    "start_time": "2022-09-04T09:57:06.002Z"
   },
   {
    "duration": 140,
    "start_time": "2022-09-04T10:01:49.524Z"
   },
   {
    "duration": 147,
    "start_time": "2022-09-04T10:02:22.427Z"
   },
   {
    "duration": 123,
    "start_time": "2022-09-04T10:02:33.327Z"
   },
   {
    "duration": 10,
    "start_time": "2022-09-04T10:04:11.074Z"
   },
   {
    "duration": 124,
    "start_time": "2022-09-04T10:04:13.743Z"
   },
   {
    "duration": 20,
    "start_time": "2022-09-04T10:06:07.795Z"
   },
   {
    "duration": 25,
    "start_time": "2022-09-04T10:14:54.053Z"
   },
   {
    "duration": 15,
    "start_time": "2022-09-04T10:58:40.281Z"
   },
   {
    "duration": 13,
    "start_time": "2022-09-04T10:59:42.245Z"
   },
   {
    "duration": 15,
    "start_time": "2022-09-04T10:59:49.959Z"
   },
   {
    "duration": 14,
    "start_time": "2022-09-04T11:01:40.953Z"
   },
   {
    "duration": 14,
    "start_time": "2022-09-04T11:02:03.285Z"
   },
   {
    "duration": 12,
    "start_time": "2022-09-04T11:02:16.157Z"
   },
   {
    "duration": 12,
    "start_time": "2022-09-04T11:03:25.080Z"
   },
   {
    "duration": 23,
    "start_time": "2022-09-04T11:03:26.987Z"
   },
   {
    "duration": 12,
    "start_time": "2022-09-04T11:03:27.340Z"
   },
   {
    "duration": 68,
    "start_time": "2022-09-04T11:03:43.975Z"
   },
   {
    "duration": 14,
    "start_time": "2022-09-04T11:03:57.082Z"
   },
   {
    "duration": 13,
    "start_time": "2022-09-04T11:04:14.349Z"
   },
   {
    "duration": 16,
    "start_time": "2022-09-04T11:04:24.557Z"
   },
   {
    "duration": 13,
    "start_time": "2022-09-04T11:05:48.081Z"
   },
   {
    "duration": 159,
    "start_time": "2022-09-04T11:06:15.054Z"
   },
   {
    "duration": 142,
    "start_time": "2022-09-04T11:10:47.647Z"
   },
   {
    "duration": 7,
    "start_time": "2022-09-04T11:12:46.652Z"
   },
   {
    "duration": 11,
    "start_time": "2022-09-04T11:13:20.707Z"
   },
   {
    "duration": 4,
    "start_time": "2022-09-04T11:15:33.578Z"
   },
   {
    "duration": 31,
    "start_time": "2022-09-04T11:18:33.779Z"
   },
   {
    "duration": 12,
    "start_time": "2022-09-04T11:19:00.345Z"
   },
   {
    "duration": 1359,
    "start_time": "2022-09-04T11:19:11.280Z"
   },
   {
    "duration": 1286,
    "start_time": "2022-09-04T11:20:31.375Z"
   },
   {
    "duration": 3,
    "start_time": "2022-09-04T11:24:16.169Z"
   },
   {
    "duration": 6,
    "start_time": "2022-09-04T11:34:28.995Z"
   },
   {
    "duration": 22,
    "start_time": "2022-09-04T11:34:37.946Z"
   },
   {
    "duration": 17,
    "start_time": "2022-09-04T11:35:07.219Z"
   },
   {
    "duration": 28,
    "start_time": "2022-09-04T11:35:42.195Z"
   },
   {
    "duration": 17,
    "start_time": "2022-09-04T11:43:00.479Z"
   },
   {
    "duration": 774,
    "start_time": "2022-09-04T11:50:44.715Z"
   },
   {
    "duration": 49,
    "start_time": "2022-09-06T08:10:35.780Z"
   },
   {
    "duration": 8,
    "start_time": "2022-09-06T08:10:39.896Z"
   },
   {
    "duration": 7,
    "start_time": "2022-09-06T08:10:53.195Z"
   },
   {
    "duration": 1480,
    "start_time": "2022-09-06T08:11:24.146Z"
   },
   {
    "duration": 210,
    "start_time": "2022-09-06T08:11:25.629Z"
   },
   {
    "duration": 14,
    "start_time": "2022-09-06T08:11:25.841Z"
   },
   {
    "duration": 15,
    "start_time": "2022-09-06T08:11:25.857Z"
   },
   {
    "duration": 5,
    "start_time": "2022-09-06T08:11:25.873Z"
   },
   {
    "duration": 17,
    "start_time": "2022-09-06T08:11:25.879Z"
   },
   {
    "duration": 16,
    "start_time": "2022-09-06T08:11:25.898Z"
   },
   {
    "duration": 7,
    "start_time": "2022-09-06T08:11:25.915Z"
   },
   {
    "duration": 14,
    "start_time": "2022-09-06T08:11:25.923Z"
   },
   {
    "duration": 8,
    "start_time": "2022-09-06T08:11:25.939Z"
   },
   {
    "duration": 17,
    "start_time": "2022-09-06T08:11:25.967Z"
   },
   {
    "duration": 21,
    "start_time": "2022-09-06T08:11:25.986Z"
   },
   {
    "duration": 198,
    "start_time": "2022-09-06T08:11:26.009Z"
   },
   {
    "duration": 32,
    "start_time": "2022-09-06T08:11:26.209Z"
   },
   {
    "duration": 204,
    "start_time": "2022-09-06T08:11:26.243Z"
   },
   {
    "duration": 1630,
    "start_time": "2022-09-06T08:11:26.449Z"
   },
   {
    "duration": 25,
    "start_time": "2022-09-06T08:11:28.080Z"
   },
   {
    "duration": 20,
    "start_time": "2022-09-06T08:11:28.106Z"
   },
   {
    "duration": 893,
    "start_time": "2022-09-06T08:11:28.128Z"
   },
   {
    "duration": 151,
    "start_time": "2022-09-06T08:12:59.742Z"
   },
   {
    "duration": 779,
    "start_time": "2022-09-06T08:15:46.537Z"
   },
   {
    "duration": 145,
    "start_time": "2022-09-06T08:15:47.318Z"
   },
   {
    "duration": 46,
    "start_time": "2022-09-06T08:17:22.867Z"
   },
   {
    "duration": 182,
    "start_time": "2022-09-06T08:17:54.068Z"
   },
   {
    "duration": 108,
    "start_time": "2022-09-06T08:18:38.992Z"
   },
   {
    "duration": 101,
    "start_time": "2022-09-06T08:20:08.174Z"
   },
   {
    "duration": 94,
    "start_time": "2022-09-06T08:20:27.496Z"
   },
   {
    "duration": 105,
    "start_time": "2022-09-06T08:23:54.262Z"
   },
   {
    "duration": 190,
    "start_time": "2022-09-06T08:24:13.549Z"
   },
   {
    "duration": 98,
    "start_time": "2022-09-06T08:25:03.316Z"
   },
   {
    "duration": 103,
    "start_time": "2022-09-06T08:25:53.791Z"
   },
   {
    "duration": 112,
    "start_time": "2022-09-06T08:28:11.970Z"
   },
   {
    "duration": 111,
    "start_time": "2022-09-06T08:28:23.188Z"
   },
   {
    "duration": 117,
    "start_time": "2022-09-06T08:30:40.882Z"
   },
   {
    "duration": 149,
    "start_time": "2022-09-06T08:33:58.982Z"
   },
   {
    "duration": 123,
    "start_time": "2022-09-06T08:49:43.977Z"
   },
   {
    "duration": 138,
    "start_time": "2022-09-06T08:50:05.066Z"
   },
   {
    "duration": 76,
    "start_time": "2022-09-06T08:50:55.500Z"
   },
   {
    "duration": 257,
    "start_time": "2022-09-06T08:50:59.521Z"
   },
   {
    "duration": 298,
    "start_time": "2022-09-06T08:54:41.785Z"
   },
   {
    "duration": 873,
    "start_time": "2022-09-06T08:54:54.822Z"
   },
   {
    "duration": 1543,
    "start_time": "2022-09-06T08:55:21.742Z"
   },
   {
    "duration": 254,
    "start_time": "2022-09-06T08:55:50.757Z"
   },
   {
    "duration": 253,
    "start_time": "2022-09-06T08:56:29.522Z"
   },
   {
    "duration": 331,
    "start_time": "2022-09-06T08:57:01.136Z"
   },
   {
    "duration": 138,
    "start_time": "2022-09-06T08:57:19.397Z"
   },
   {
    "duration": 252,
    "start_time": "2022-09-06T08:57:30.715Z"
   },
   {
    "duration": 249,
    "start_time": "2022-09-06T08:59:05.039Z"
   },
   {
    "duration": 237,
    "start_time": "2022-09-06T08:59:51.778Z"
   },
   {
    "duration": 133,
    "start_time": "2022-09-06T09:00:25.695Z"
   },
   {
    "duration": 262,
    "start_time": "2022-09-06T09:00:41.473Z"
   },
   {
    "duration": 7,
    "start_time": "2022-09-06T09:05:21.626Z"
   },
   {
    "duration": 3,
    "start_time": "2022-09-06T09:05:34.877Z"
   },
   {
    "duration": 69,
    "start_time": "2022-09-06T09:05:34.882Z"
   },
   {
    "duration": 14,
    "start_time": "2022-09-06T09:05:34.952Z"
   },
   {
    "duration": 16,
    "start_time": "2022-09-06T09:05:34.968Z"
   },
   {
    "duration": 5,
    "start_time": "2022-09-06T09:05:34.985Z"
   },
   {
    "duration": 7,
    "start_time": "2022-09-06T09:05:34.991Z"
   },
   {
    "duration": 12,
    "start_time": "2022-09-06T09:05:34.999Z"
   },
   {
    "duration": 11,
    "start_time": "2022-09-06T09:05:35.012Z"
   },
   {
    "duration": 8,
    "start_time": "2022-09-06T09:05:35.025Z"
   },
   {
    "duration": 14,
    "start_time": "2022-09-06T09:05:35.067Z"
   },
   {
    "duration": 15,
    "start_time": "2022-09-06T09:05:35.082Z"
   },
   {
    "duration": 170,
    "start_time": "2022-09-06T09:05:35.099Z"
   },
   {
    "duration": 30,
    "start_time": "2022-09-06T09:05:35.271Z"
   },
   {
    "duration": 182,
    "start_time": "2022-09-06T09:05:35.303Z"
   },
   {
    "duration": 1645,
    "start_time": "2022-09-06T09:05:35.487Z"
   },
   {
    "duration": 38,
    "start_time": "2022-09-06T09:05:37.134Z"
   },
   {
    "duration": 21,
    "start_time": "2022-09-06T09:05:37.174Z"
   },
   {
    "duration": 835,
    "start_time": "2022-09-06T09:05:37.197Z"
   },
   {
    "duration": 107,
    "start_time": "2022-09-06T09:05:38.033Z"
   },
   {
    "duration": 105,
    "start_time": "2022-09-06T09:05:38.142Z"
   },
   {
    "duration": 109,
    "start_time": "2022-09-06T09:05:38.249Z"
   },
   {
    "duration": 127,
    "start_time": "2022-09-06T09:05:38.367Z"
   },
   {
    "duration": 283,
    "start_time": "2022-09-06T09:05:38.496Z"
   },
   {
    "duration": 87,
    "start_time": "2022-09-06T09:07:02.566Z"
   },
   {
    "duration": 243,
    "start_time": "2022-09-06T09:07:16.188Z"
   },
   {
    "duration": 295,
    "start_time": "2022-09-06T09:07:31.815Z"
   },
   {
    "duration": 251,
    "start_time": "2022-09-06T09:07:57.823Z"
   },
   {
    "duration": 47,
    "start_time": "2022-09-06T09:16:02.551Z"
   },
   {
    "duration": 8,
    "start_time": "2022-09-06T09:16:11.485Z"
   },
   {
    "duration": 260,
    "start_time": "2022-09-06T09:18:07.374Z"
   },
   {
    "duration": 13,
    "start_time": "2022-09-06T09:23:41.420Z"
   },
   {
    "duration": 15,
    "start_time": "2022-09-06T09:24:12.060Z"
   },
   {
    "duration": 195,
    "start_time": "2022-09-06T09:24:37.953Z"
   },
   {
    "duration": 206,
    "start_time": "2022-09-06T09:49:25.380Z"
   },
   {
    "duration": 224,
    "start_time": "2022-09-06T09:49:43.641Z"
   },
   {
    "duration": 13,
    "start_time": "2022-09-06T09:51:56.392Z"
   },
   {
    "duration": 10,
    "start_time": "2022-09-06T09:55:32.188Z"
   },
   {
    "duration": 223,
    "start_time": "2022-09-06T09:55:40.979Z"
   },
   {
    "duration": 4,
    "start_time": "2022-09-06T09:56:46.752Z"
   },
   {
    "duration": 68,
    "start_time": "2022-09-06T09:56:46.758Z"
   },
   {
    "duration": 14,
    "start_time": "2022-09-06T09:56:46.828Z"
   },
   {
    "duration": 14,
    "start_time": "2022-09-06T09:56:46.844Z"
   },
   {
    "duration": 9,
    "start_time": "2022-09-06T09:56:46.860Z"
   },
   {
    "duration": 7,
    "start_time": "2022-09-06T09:56:46.871Z"
   },
   {
    "duration": 10,
    "start_time": "2022-09-06T09:56:46.880Z"
   },
   {
    "duration": 10,
    "start_time": "2022-09-06T09:56:46.892Z"
   },
   {
    "duration": 8,
    "start_time": "2022-09-06T09:56:46.903Z"
   },
   {
    "duration": 17,
    "start_time": "2022-09-06T09:56:46.912Z"
   },
   {
    "duration": 49,
    "start_time": "2022-09-06T09:56:46.933Z"
   },
   {
    "duration": 160,
    "start_time": "2022-09-06T09:56:46.984Z"
   },
   {
    "duration": 40,
    "start_time": "2022-09-06T09:56:47.146Z"
   },
   {
    "duration": 224,
    "start_time": "2022-09-06T09:56:47.188Z"
   },
   {
    "duration": 9,
    "start_time": "2022-09-06T09:56:47.414Z"
   },
   {
    "duration": 0,
    "start_time": "2022-09-06T09:56:47.424Z"
   },
   {
    "duration": 0,
    "start_time": "2022-09-06T09:56:47.426Z"
   },
   {
    "duration": 0,
    "start_time": "2022-09-06T09:56:47.427Z"
   },
   {
    "duration": 0,
    "start_time": "2022-09-06T09:56:47.428Z"
   },
   {
    "duration": 0,
    "start_time": "2022-09-06T09:56:47.429Z"
   },
   {
    "duration": 0,
    "start_time": "2022-09-06T09:56:47.431Z"
   },
   {
    "duration": 0,
    "start_time": "2022-09-06T09:56:47.432Z"
   },
   {
    "duration": 0,
    "start_time": "2022-09-06T09:56:47.433Z"
   },
   {
    "duration": 0,
    "start_time": "2022-09-06T09:56:47.434Z"
   },
   {
    "duration": 0,
    "start_time": "2022-09-06T09:56:47.435Z"
   },
   {
    "duration": 9,
    "start_time": "2022-09-06T09:57:28.267Z"
   },
   {
    "duration": 10,
    "start_time": "2022-09-06T09:58:03.869Z"
   },
   {
    "duration": 4,
    "start_time": "2022-09-06T09:58:11.929Z"
   },
   {
    "duration": 242,
    "start_time": "2022-09-06T09:58:35.344Z"
   },
   {
    "duration": 8,
    "start_time": "2022-09-06T09:58:40.898Z"
   },
   {
    "duration": 1327,
    "start_time": "2022-09-06T09:58:56.387Z"
   },
   {
    "duration": 2,
    "start_time": "2022-09-06T09:59:27.757Z"
   },
   {
    "duration": 6,
    "start_time": "2022-09-06T09:59:34.449Z"
   },
   {
    "duration": 4,
    "start_time": "2022-09-06T09:59:58.254Z"
   },
   {
    "duration": 3123,
    "start_time": "2022-09-06T10:00:32.976Z"
   },
   {
    "duration": 24,
    "start_time": "2022-09-06T10:03:42.613Z"
   },
   {
    "duration": 21,
    "start_time": "2022-09-06T10:03:53.078Z"
   },
   {
    "duration": 1672,
    "start_time": "2022-09-06T10:05:52.098Z"
   },
   {
    "duration": 104,
    "start_time": "2022-09-06T10:13:54.498Z"
   },
   {
    "duration": 97,
    "start_time": "2022-09-06T10:13:54.842Z"
   },
   {
    "duration": 103,
    "start_time": "2022-09-06T10:13:55.167Z"
   },
   {
    "duration": 115,
    "start_time": "2022-09-06T10:13:58.554Z"
   },
   {
    "duration": 4,
    "start_time": "2022-09-06T10:20:41.662Z"
   },
   {
    "duration": 2,
    "start_time": "2022-09-06T10:21:16.369Z"
   },
   {
    "duration": 100,
    "start_time": "2022-09-06T10:21:16.813Z"
   },
   {
    "duration": 109,
    "start_time": "2022-09-06T10:22:13.214Z"
   },
   {
    "duration": 237,
    "start_time": "2022-09-06T10:49:02.723Z"
   },
   {
    "duration": 168,
    "start_time": "2022-09-06T10:49:41.640Z"
   },
   {
    "duration": 262,
    "start_time": "2022-09-06T10:52:37.301Z"
   },
   {
    "duration": 1165,
    "start_time": "2022-09-06T11:27:13.088Z"
   },
   {
    "duration": 150,
    "start_time": "2022-09-06T11:27:45.421Z"
   },
   {
    "duration": 261,
    "start_time": "2022-09-06T11:28:09.070Z"
   },
   {
    "duration": 1426,
    "start_time": "2022-09-11T13:23:04.442Z"
   },
   {
    "duration": 250,
    "start_time": "2022-09-11T13:23:05.870Z"
   },
   {
    "duration": 15,
    "start_time": "2022-09-11T13:23:06.121Z"
   },
   {
    "duration": 19,
    "start_time": "2022-09-11T13:23:06.138Z"
   },
   {
    "duration": 7,
    "start_time": "2022-09-11T13:23:06.159Z"
   },
   {
    "duration": 27,
    "start_time": "2022-09-11T13:23:06.174Z"
   },
   {
    "duration": 11,
    "start_time": "2022-09-11T13:23:06.203Z"
   },
   {
    "duration": 10,
    "start_time": "2022-09-11T13:23:06.216Z"
   },
   {
    "duration": 14,
    "start_time": "2022-09-11T13:23:06.228Z"
   },
   {
    "duration": 14,
    "start_time": "2022-09-11T13:23:06.244Z"
   },
   {
    "duration": 35,
    "start_time": "2022-09-11T13:23:06.267Z"
   },
   {
    "duration": 218,
    "start_time": "2022-09-11T13:23:06.304Z"
   },
   {
    "duration": 35,
    "start_time": "2022-09-11T13:23:06.525Z"
   },
   {
    "duration": 329,
    "start_time": "2022-09-11T13:23:06.561Z"
   },
   {
    "duration": 3521,
    "start_time": "2022-09-11T13:23:06.897Z"
   },
   {
    "duration": 31,
    "start_time": "2022-09-11T13:23:10.420Z"
   },
   {
    "duration": 1799,
    "start_time": "2022-09-11T13:23:10.453Z"
   },
   {
    "duration": 364,
    "start_time": "2022-09-11T13:23:12.254Z"
   },
   {
    "duration": 123,
    "start_time": "2022-09-11T13:23:12.620Z"
   },
   {
    "duration": 300,
    "start_time": "2022-09-11T13:23:12.745Z"
   },
   {
    "duration": 138,
    "start_time": "2022-09-11T13:23:13.048Z"
   },
   {
    "duration": 135,
    "start_time": "2022-09-11T13:23:13.195Z"
   },
   {
    "duration": 310,
    "start_time": "2022-09-11T13:23:13.332Z"
   },
   {
    "duration": 329,
    "start_time": "2022-09-11T13:23:13.644Z"
   },
   {
    "duration": 213,
    "start_time": "2022-09-11T13:23:13.974Z"
   },
   {
    "duration": 898,
    "start_time": "2022-09-11T13:25:02.892Z"
   },
   {
    "duration": 981,
    "start_time": "2022-09-11T13:32:43.424Z"
   },
   {
    "duration": 103,
    "start_time": "2022-09-11T13:51:11.008Z"
   },
   {
    "duration": 132,
    "start_time": "2022-09-11T13:51:16.593Z"
   },
   {
    "duration": 605,
    "start_time": "2022-09-11T13:51:36.489Z"
   },
   {
    "duration": 554,
    "start_time": "2022-09-11T13:52:18.841Z"
   },
   {
    "duration": 16,
    "start_time": "2022-09-11T13:52:36.346Z"
   },
   {
    "duration": 17,
    "start_time": "2022-09-11T13:54:00.906Z"
   },
   {
    "duration": 93,
    "start_time": "2022-09-11T13:54:17.099Z"
   },
   {
    "duration": 810,
    "start_time": "2022-09-11T13:54:27.033Z"
   },
   {
    "duration": 824,
    "start_time": "2022-09-11T13:55:08.353Z"
   },
   {
    "duration": 960,
    "start_time": "2022-09-11T13:55:12.228Z"
   },
   {
    "duration": 22,
    "start_time": "2022-09-11T13:55:48.990Z"
   },
   {
    "duration": 17,
    "start_time": "2022-09-11T13:56:06.393Z"
   },
   {
    "duration": 23,
    "start_time": "2022-09-11T13:56:17.298Z"
   },
   {
    "duration": 846,
    "start_time": "2022-09-11T13:57:13.210Z"
   },
   {
    "duration": 1108,
    "start_time": "2022-09-11T14:08:36.108Z"
   },
   {
    "duration": 637,
    "start_time": "2022-09-11T14:22:11.287Z"
   },
   {
    "duration": 1214,
    "start_time": "2022-09-11T14:39:54.990Z"
   },
   {
    "duration": 19,
    "start_time": "2022-09-11T14:42:24.873Z"
   },
   {
    "duration": 17,
    "start_time": "2022-09-11T14:43:03.347Z"
   },
   {
    "duration": 18,
    "start_time": "2022-09-11T14:43:10.255Z"
   },
   {
    "duration": 8,
    "start_time": "2022-09-11T14:44:09.392Z"
   },
   {
    "duration": 10,
    "start_time": "2022-09-11T14:44:13.973Z"
   },
   {
    "duration": 5,
    "start_time": "2022-09-11T14:47:48.751Z"
   },
   {
    "duration": 9,
    "start_time": "2022-09-11T14:53:25.786Z"
   },
   {
    "duration": 4,
    "start_time": "2022-09-11T14:56:23.914Z"
   },
   {
    "duration": 6,
    "start_time": "2022-09-11T14:56:29.004Z"
   },
   {
    "duration": 49,
    "start_time": "2022-09-11T19:55:55.695Z"
   },
   {
    "duration": 1122,
    "start_time": "2022-09-11T19:56:00.887Z"
   },
   {
    "duration": 78,
    "start_time": "2022-09-11T19:56:02.011Z"
   },
   {
    "duration": 18,
    "start_time": "2022-09-11T19:56:02.090Z"
   },
   {
    "duration": 31,
    "start_time": "2022-09-11T19:56:02.110Z"
   },
   {
    "duration": 6,
    "start_time": "2022-09-11T19:56:02.145Z"
   },
   {
    "duration": 29,
    "start_time": "2022-09-11T19:56:02.152Z"
   },
   {
    "duration": 17,
    "start_time": "2022-09-11T19:56:02.183Z"
   },
   {
    "duration": 23,
    "start_time": "2022-09-11T19:56:02.202Z"
   },
   {
    "duration": 35,
    "start_time": "2022-09-11T19:56:02.227Z"
   },
   {
    "duration": 28,
    "start_time": "2022-09-11T19:56:02.264Z"
   },
   {
    "duration": 38,
    "start_time": "2022-09-11T19:56:02.294Z"
   },
   {
    "duration": 195,
    "start_time": "2022-09-11T19:56:02.333Z"
   },
   {
    "duration": 29,
    "start_time": "2022-09-11T19:56:02.530Z"
   },
   {
    "duration": 263,
    "start_time": "2022-09-11T19:56:02.564Z"
   },
   {
    "duration": 2998,
    "start_time": "2022-09-11T19:56:02.830Z"
   },
   {
    "duration": 26,
    "start_time": "2022-09-11T19:56:05.831Z"
   },
   {
    "duration": 1473,
    "start_time": "2022-09-11T19:56:05.858Z"
   },
   {
    "duration": 959,
    "start_time": "2022-09-11T19:56:07.332Z"
   },
   {
    "duration": 259,
    "start_time": "2022-09-11T19:56:08.292Z"
   },
   {
    "duration": 287,
    "start_time": "2022-09-11T19:56:08.553Z"
   },
   {
    "duration": 266,
    "start_time": "2022-09-11T19:56:08.842Z"
   },
   {
    "duration": 70,
    "start_time": "2022-09-11T19:56:09.109Z"
   },
   {
    "duration": 0,
    "start_time": "2022-09-11T19:56:09.181Z"
   },
   {
    "duration": 0,
    "start_time": "2022-09-11T19:56:09.182Z"
   },
   {
    "duration": 0,
    "start_time": "2022-09-11T19:56:09.184Z"
   },
   {
    "duration": 0,
    "start_time": "2022-09-11T19:56:09.185Z"
   },
   {
    "duration": 0,
    "start_time": "2022-09-11T19:56:09.187Z"
   },
   {
    "duration": 0,
    "start_time": "2022-09-11T19:56:09.189Z"
   },
   {
    "duration": 0,
    "start_time": "2022-09-11T19:56:09.191Z"
   },
   {
    "duration": 0,
    "start_time": "2022-09-11T19:56:09.192Z"
   },
   {
    "duration": 1091,
    "start_time": "2022-09-11T19:56:32.176Z"
   },
   {
    "duration": 68,
    "start_time": "2022-09-11T19:56:33.269Z"
   },
   {
    "duration": 15,
    "start_time": "2022-09-11T19:56:33.339Z"
   },
   {
    "duration": 35,
    "start_time": "2022-09-11T19:56:33.356Z"
   },
   {
    "duration": 16,
    "start_time": "2022-09-11T19:56:33.393Z"
   },
   {
    "duration": 32,
    "start_time": "2022-09-11T19:56:33.411Z"
   },
   {
    "duration": 31,
    "start_time": "2022-09-11T19:56:33.445Z"
   },
   {
    "duration": 26,
    "start_time": "2022-09-11T19:56:33.478Z"
   },
   {
    "duration": 26,
    "start_time": "2022-09-11T19:56:33.506Z"
   },
   {
    "duration": 20,
    "start_time": "2022-09-11T19:56:33.535Z"
   },
   {
    "duration": 29,
    "start_time": "2022-09-11T19:56:33.557Z"
   },
   {
    "duration": 179,
    "start_time": "2022-09-11T19:56:33.588Z"
   },
   {
    "duration": 29,
    "start_time": "2022-09-11T19:56:33.769Z"
   },
   {
    "duration": 254,
    "start_time": "2022-09-11T19:56:33.800Z"
   },
   {
    "duration": 3095,
    "start_time": "2022-09-11T19:56:34.056Z"
   },
   {
    "duration": 26,
    "start_time": "2022-09-11T19:56:37.152Z"
   },
   {
    "duration": 1508,
    "start_time": "2022-09-11T19:56:37.180Z"
   },
   {
    "duration": 1060,
    "start_time": "2022-09-11T19:56:38.690Z"
   },
   {
    "duration": 262,
    "start_time": "2022-09-11T19:56:39.752Z"
   },
   {
    "duration": 284,
    "start_time": "2022-09-11T19:56:40.021Z"
   },
   {
    "duration": 190,
    "start_time": "2022-09-11T19:56:40.307Z"
   },
   {
    "duration": 778,
    "start_time": "2022-09-11T19:56:40.499Z"
   },
   {
    "duration": 991,
    "start_time": "2022-09-11T19:56:41.278Z"
   },
   {
    "duration": 610,
    "start_time": "2022-09-11T19:56:42.271Z"
   },
   {
    "duration": 11,
    "start_time": "2022-09-11T19:56:42.883Z"
   },
   {
    "duration": 7,
    "start_time": "2022-09-11T19:56:42.895Z"
   },
   {
    "duration": 4,
    "start_time": "2022-09-11T19:56:42.920Z"
   },
   {
    "duration": 10,
    "start_time": "2022-09-11T19:56:42.927Z"
   },
   {
    "duration": 5,
    "start_time": "2022-09-11T19:56:42.939Z"
   },
   {
    "duration": 5,
    "start_time": "2022-09-11T20:00:21.831Z"
   },
   {
    "duration": 99,
    "start_time": "2022-09-11T20:00:38.008Z"
   },
   {
    "duration": 4,
    "start_time": "2022-09-11T20:00:42.143Z"
   },
   {
    "duration": 9,
    "start_time": "2022-09-11T20:00:50.888Z"
   },
   {
    "duration": 9,
    "start_time": "2022-09-11T20:00:54.809Z"
   },
   {
    "duration": 10,
    "start_time": "2022-09-11T20:01:49.146Z"
   },
   {
    "duration": 12,
    "start_time": "2022-09-11T20:01:54.095Z"
   },
   {
    "duration": 4,
    "start_time": "2022-09-11T20:02:01.227Z"
   },
   {
    "duration": 3,
    "start_time": "2022-09-11T20:02:05.426Z"
   },
   {
    "duration": 1086,
    "start_time": "2022-09-11T20:11:36.981Z"
   },
   {
    "duration": 67,
    "start_time": "2022-09-11T20:11:38.069Z"
   },
   {
    "duration": 15,
    "start_time": "2022-09-11T20:11:38.137Z"
   },
   {
    "duration": 16,
    "start_time": "2022-09-11T20:11:38.154Z"
   },
   {
    "duration": 5,
    "start_time": "2022-09-11T20:11:38.172Z"
   },
   {
    "duration": 15,
    "start_time": "2022-09-11T20:11:38.178Z"
   },
   {
    "duration": 30,
    "start_time": "2022-09-11T20:11:38.195Z"
   },
   {
    "duration": 15,
    "start_time": "2022-09-11T20:11:38.227Z"
   },
   {
    "duration": 9,
    "start_time": "2022-09-11T20:11:38.244Z"
   },
   {
    "duration": 13,
    "start_time": "2022-09-11T20:11:38.257Z"
   },
   {
    "duration": 17,
    "start_time": "2022-09-11T20:11:38.272Z"
   },
   {
    "duration": 167,
    "start_time": "2022-09-11T20:11:38.320Z"
   },
   {
    "duration": 39,
    "start_time": "2022-09-11T20:11:38.489Z"
   },
   {
    "duration": 231,
    "start_time": "2022-09-11T20:11:38.530Z"
   },
   {
    "duration": 3076,
    "start_time": "2022-09-11T20:11:38.763Z"
   },
   {
    "duration": 26,
    "start_time": "2022-09-11T20:11:41.842Z"
   },
   {
    "duration": 1532,
    "start_time": "2022-09-11T20:11:41.870Z"
   },
   {
    "duration": 1038,
    "start_time": "2022-09-11T20:11:43.404Z"
   },
   {
    "duration": 281,
    "start_time": "2022-09-11T20:11:44.444Z"
   },
   {
    "duration": 304,
    "start_time": "2022-09-11T20:11:44.727Z"
   },
   {
    "duration": 189,
    "start_time": "2022-09-11T20:11:45.033Z"
   },
   {
    "duration": 804,
    "start_time": "2022-09-11T20:11:45.224Z"
   },
   {
    "duration": 969,
    "start_time": "2022-09-11T20:11:46.029Z"
   },
   {
    "duration": 580,
    "start_time": "2022-09-11T20:11:47.000Z"
   },
   {
    "duration": 11,
    "start_time": "2022-09-11T20:11:47.581Z"
   },
   {
    "duration": 6,
    "start_time": "2022-09-11T20:11:47.594Z"
   },
   {
    "duration": 4,
    "start_time": "2022-09-11T20:11:47.620Z"
   },
   {
    "duration": 11,
    "start_time": "2022-09-11T20:11:47.627Z"
   },
   {
    "duration": 5,
    "start_time": "2022-09-11T20:11:47.640Z"
   },
   {
    "duration": 6,
    "start_time": "2022-09-11T20:11:47.647Z"
   },
   {
    "duration": 52,
    "start_time": "2022-09-14T10:06:00.272Z"
   },
   {
    "duration": 1312,
    "start_time": "2022-09-14T10:06:09.683Z"
   },
   {
    "duration": 208,
    "start_time": "2022-09-14T10:06:10.998Z"
   },
   {
    "duration": 15,
    "start_time": "2022-09-14T10:06:11.208Z"
   },
   {
    "duration": 23,
    "start_time": "2022-09-14T10:06:11.226Z"
   },
   {
    "duration": 5,
    "start_time": "2022-09-14T10:06:11.581Z"
   },
   {
    "duration": 29,
    "start_time": "2022-09-14T10:06:12.115Z"
   },
   {
    "duration": 10,
    "start_time": "2022-09-14T10:06:12.287Z"
   },
   {
    "duration": 27,
    "start_time": "2022-09-14T10:11:21.985Z"
   },
   {
    "duration": 5,
    "start_time": "2022-09-14T10:14:18.958Z"
   },
   {
    "duration": 3,
    "start_time": "2022-09-14T10:24:19.731Z"
   },
   {
    "duration": 70,
    "start_time": "2022-09-14T10:24:20.646Z"
   },
   {
    "duration": 18,
    "start_time": "2022-09-14T10:24:26.752Z"
   },
   {
    "duration": 16,
    "start_time": "2022-09-14T10:24:31.917Z"
   },
   {
    "duration": 6,
    "start_time": "2022-09-14T10:24:35.154Z"
   },
   {
    "duration": 24,
    "start_time": "2022-09-14T10:25:15.321Z"
   },
   {
    "duration": 85,
    "start_time": "2022-09-14T10:25:32.885Z"
   },
   {
    "duration": 89,
    "start_time": "2022-09-14T10:25:56.029Z"
   },
   {
    "duration": 24,
    "start_time": "2022-09-14T10:26:01.235Z"
   },
   {
    "duration": 25,
    "start_time": "2022-09-14T10:26:38.292Z"
   },
   {
    "duration": 3,
    "start_time": "2022-09-14T10:27:00.927Z"
   },
   {
    "duration": 75,
    "start_time": "2022-09-14T10:27:01.241Z"
   },
   {
    "duration": 13,
    "start_time": "2022-09-14T10:27:05.134Z"
   },
   {
    "duration": 21,
    "start_time": "2022-09-14T10:27:05.605Z"
   },
   {
    "duration": 6,
    "start_time": "2022-09-14T10:27:06.907Z"
   },
   {
    "duration": 25,
    "start_time": "2022-09-14T10:27:08.456Z"
   },
   {
    "duration": 24,
    "start_time": "2022-09-14T10:27:20.839Z"
   },
   {
    "duration": 14,
    "start_time": "2022-09-14T10:28:54.728Z"
   },
   {
    "duration": 27,
    "start_time": "2022-09-14T10:29:08.786Z"
   },
   {
    "duration": 24,
    "start_time": "2022-09-14T10:29:58.185Z"
   },
   {
    "duration": 25,
    "start_time": "2022-09-14T10:30:11.972Z"
   },
   {
    "duration": 25,
    "start_time": "2022-09-14T10:31:58.293Z"
   },
   {
    "duration": 9,
    "start_time": "2022-09-14T10:31:58.504Z"
   },
   {
    "duration": 24,
    "start_time": "2022-09-14T10:32:22.169Z"
   },
   {
    "duration": 11,
    "start_time": "2022-09-14T10:32:29.949Z"
   },
   {
    "duration": 15,
    "start_time": "2022-09-14T10:34:46.274Z"
   },
   {
    "duration": 1684,
    "start_time": "2022-09-14T10:42:19.762Z"
   },
   {
    "duration": 6,
    "start_time": "2022-09-14T10:42:33.599Z"
   },
   {
    "duration": 7,
    "start_time": "2022-09-14T10:42:49.677Z"
   },
   {
    "duration": 3161,
    "start_time": "2022-09-14T10:43:56.746Z"
   },
   {
    "duration": 1892,
    "start_time": "2022-09-14T10:44:14.157Z"
   },
   {
    "duration": 353,
    "start_time": "2022-09-14T10:44:52.202Z"
   },
   {
    "duration": 9,
    "start_time": "2022-09-14T10:45:28.641Z"
   },
   {
    "duration": 10,
    "start_time": "2022-09-14T10:47:22.963Z"
   },
   {
    "duration": 13,
    "start_time": "2022-09-14T10:48:08.735Z"
   },
   {
    "duration": 12,
    "start_time": "2022-09-14T10:48:12.062Z"
   },
   {
    "duration": 12,
    "start_time": "2022-09-14T10:48:31.144Z"
   },
   {
    "duration": 23,
    "start_time": "2022-09-14T10:48:58.301Z"
   },
   {
    "duration": 18,
    "start_time": "2022-09-14T10:50:30.855Z"
   },
   {
    "duration": 8,
    "start_time": "2022-09-14T10:51:43.466Z"
   },
   {
    "duration": 23,
    "start_time": "2022-09-14T10:51:43.707Z"
   },
   {
    "duration": 13,
    "start_time": "2022-09-14T10:51:44.021Z"
   },
   {
    "duration": 18,
    "start_time": "2022-09-14T10:51:44.356Z"
   },
   {
    "duration": 16,
    "start_time": "2022-09-14T10:51:46.271Z"
   },
   {
    "duration": 169,
    "start_time": "2022-09-14T10:51:46.909Z"
   },
   {
    "duration": 28,
    "start_time": "2022-09-14T10:51:48.530Z"
   },
   {
    "duration": 243,
    "start_time": "2022-09-14T10:51:49.458Z"
   },
   {
    "duration": 3330,
    "start_time": "2022-09-14T10:51:50.673Z"
   },
   {
    "duration": 31,
    "start_time": "2022-09-14T10:51:54.006Z"
   },
   {
    "duration": 1665,
    "start_time": "2022-09-14T10:51:54.039Z"
   },
   {
    "duration": 97,
    "start_time": "2022-09-14T10:53:13.619Z"
   },
   {
    "duration": 1718,
    "start_time": "2022-09-14T10:53:17.592Z"
   },
   {
    "duration": 134,
    "start_time": "2022-09-14T10:53:40.996Z"
   },
   {
    "duration": 82,
    "start_time": "2022-09-14T10:55:10.207Z"
   },
   {
    "duration": 278,
    "start_time": "2022-09-14T10:55:17.795Z"
   },
   {
    "duration": 123,
    "start_time": "2022-09-14T10:58:11.989Z"
   },
   {
    "duration": 15,
    "start_time": "2022-09-14T11:05:07.564Z"
   },
   {
    "duration": 147,
    "start_time": "2022-09-14T11:05:07.720Z"
   },
   {
    "duration": 236,
    "start_time": "2022-09-14T11:05:08.938Z"
   },
   {
    "duration": 3223,
    "start_time": "2022-09-14T11:05:09.731Z"
   },
   {
    "duration": 11,
    "start_time": "2022-09-14T11:05:14.665Z"
   },
   {
    "duration": 33,
    "start_time": "2022-09-14T11:06:46.315Z"
   },
   {
    "duration": 28,
    "start_time": "2022-09-14T11:08:23.223Z"
   },
   {
    "duration": 1225,
    "start_time": "2022-09-14T11:09:43.905Z"
   },
   {
    "duration": 948,
    "start_time": "2022-09-14T11:10:24.635Z"
   },
   {
    "duration": 3,
    "start_time": "2022-09-14T11:50:50.271Z"
   },
   {
    "duration": 57,
    "start_time": "2022-09-14T11:50:50.339Z"
   },
   {
    "duration": 4,
    "start_time": "2022-09-14T12:22:16.651Z"
   },
   {
    "duration": 80,
    "start_time": "2022-09-14T12:22:17.889Z"
   },
   {
    "duration": 4,
    "start_time": "2022-09-14T12:22:25.277Z"
   },
   {
    "duration": 83,
    "start_time": "2022-09-14T12:22:25.284Z"
   },
   {
    "duration": 15,
    "start_time": "2022-09-14T12:22:25.369Z"
   },
   {
    "duration": 23,
    "start_time": "2022-09-14T12:22:25.386Z"
   },
   {
    "duration": 7,
    "start_time": "2022-09-14T12:22:25.414Z"
   },
   {
    "duration": 27,
    "start_time": "2022-09-14T12:22:25.423Z"
   },
   {
    "duration": 14,
    "start_time": "2022-09-14T12:22:25.452Z"
   },
   {
    "duration": 56,
    "start_time": "2022-09-14T12:22:25.467Z"
   },
   {
    "duration": 9,
    "start_time": "2022-09-14T12:22:25.525Z"
   },
   {
    "duration": 8,
    "start_time": "2022-09-14T12:22:25.536Z"
   },
   {
    "duration": 55,
    "start_time": "2022-09-14T12:22:25.547Z"
   },
   {
    "duration": 16,
    "start_time": "2022-09-14T12:22:25.605Z"
   },
   {
    "duration": 20,
    "start_time": "2022-09-14T12:22:25.623Z"
   },
   {
    "duration": 16,
    "start_time": "2022-09-14T12:22:25.645Z"
   },
   {
    "duration": 203,
    "start_time": "2022-09-14T12:22:25.662Z"
   },
   {
    "duration": 267,
    "start_time": "2022-09-14T12:22:25.867Z"
   },
   {
    "duration": 3220,
    "start_time": "2022-09-14T12:22:26.136Z"
   },
   {
    "duration": 41,
    "start_time": "2022-09-14T12:22:29.358Z"
   },
   {
    "duration": 1454,
    "start_time": "2022-09-14T12:22:29.400Z"
   },
   {
    "duration": 1481,
    "start_time": "2022-09-14T12:22:30.857Z"
   },
   {
    "duration": 282,
    "start_time": "2022-09-14T12:22:32.339Z"
   },
   {
    "duration": 350,
    "start_time": "2022-09-14T12:22:32.623Z"
   },
   {
    "duration": 218,
    "start_time": "2022-09-14T12:22:32.978Z"
   },
   {
    "duration": 857,
    "start_time": "2022-09-14T12:22:33.198Z"
   },
   {
    "duration": 1088,
    "start_time": "2022-09-14T12:22:34.057Z"
   },
   {
    "duration": 619,
    "start_time": "2022-09-14T12:22:35.148Z"
   },
   {
    "duration": 9,
    "start_time": "2022-09-14T12:22:35.769Z"
   },
   {
    "duration": 19,
    "start_time": "2022-09-14T12:22:35.780Z"
   },
   {
    "duration": 11,
    "start_time": "2022-09-14T12:22:35.805Z"
   },
   {
    "duration": 22,
    "start_time": "2022-09-14T12:22:35.819Z"
   },
   {
    "duration": 10,
    "start_time": "2022-09-14T12:22:35.843Z"
   },
   {
    "duration": 22,
    "start_time": "2022-09-14T12:22:35.854Z"
   },
   {
    "duration": 134,
    "start_time": "2022-09-14T12:26:58.340Z"
   },
   {
    "duration": 985,
    "start_time": "2022-09-14T12:27:18.440Z"
   },
   {
    "duration": 1926,
    "start_time": "2022-09-14T12:30:08.816Z"
   },
   {
    "duration": 1008,
    "start_time": "2022-09-14T12:30:35.952Z"
   },
   {
    "duration": 1130,
    "start_time": "2022-09-14T12:30:45.737Z"
   },
   {
    "duration": 1634,
    "start_time": "2022-09-14T12:30:53.221Z"
   },
   {
    "duration": 885,
    "start_time": "2022-09-14T12:31:14.846Z"
   },
   {
    "duration": 116,
    "start_time": "2022-09-14T12:39:41.668Z"
   },
   {
    "duration": 75,
    "start_time": "2022-09-14T12:43:13.677Z"
   },
   {
    "duration": 7,
    "start_time": "2022-09-14T12:43:17.396Z"
   },
   {
    "duration": 49,
    "start_time": "2022-09-14T12:43:33.255Z"
   },
   {
    "duration": 8,
    "start_time": "2022-09-14T12:43:58.711Z"
   },
   {
    "duration": 254,
    "start_time": "2022-09-14T12:43:59.825Z"
   },
   {
    "duration": 4,
    "start_time": "2022-09-14T12:45:57.116Z"
   },
   {
    "duration": 305,
    "start_time": "2022-09-14T12:45:58.741Z"
   },
   {
    "duration": 293,
    "start_time": "2022-09-14T12:46:32.973Z"
   },
   {
    "duration": 335,
    "start_time": "2022-09-14T12:47:27.730Z"
   },
   {
    "duration": 337,
    "start_time": "2022-09-14T12:48:08.191Z"
   },
   {
    "duration": 307,
    "start_time": "2022-09-14T12:48:42.238Z"
   },
   {
    "duration": 268,
    "start_time": "2022-09-14T12:51:54.708Z"
   },
   {
    "duration": 910,
    "start_time": "2022-09-14T12:56:09.495Z"
   },
   {
    "duration": 987,
    "start_time": "2022-09-14T12:56:33.936Z"
   },
   {
    "duration": 350,
    "start_time": "2022-09-14T12:57:52.536Z"
   },
   {
    "duration": 1039,
    "start_time": "2022-09-14T12:58:19.253Z"
   },
   {
    "duration": 10,
    "start_time": "2022-09-14T13:05:01.697Z"
   },
   {
    "duration": 56,
    "start_time": "2022-09-14T13:06:28.897Z"
   },
   {
    "duration": 6,
    "start_time": "2022-09-14T13:06:42.707Z"
   },
   {
    "duration": 423,
    "start_time": "2022-09-14T13:07:23.144Z"
   },
   {
    "duration": 992,
    "start_time": "2022-09-14T13:12:31.688Z"
   },
   {
    "duration": 6,
    "start_time": "2022-09-14T13:15:02.900Z"
   },
   {
    "duration": 402,
    "start_time": "2022-09-14T13:15:07.822Z"
   },
   {
    "duration": 6,
    "start_time": "2022-09-14T13:15:20.838Z"
   },
   {
    "duration": 454,
    "start_time": "2022-09-14T13:15:23.248Z"
   },
   {
    "duration": 438,
    "start_time": "2022-09-14T13:17:07.479Z"
   },
   {
    "duration": 390,
    "start_time": "2022-09-14T13:18:30.866Z"
   },
   {
    "duration": 418,
    "start_time": "2022-09-14T13:26:29.285Z"
   },
   {
    "duration": 491,
    "start_time": "2022-09-14T13:26:37.592Z"
   },
   {
    "duration": 93,
    "start_time": "2022-09-14T13:49:38.279Z"
   },
   {
    "duration": 10,
    "start_time": "2022-09-14T13:50:03.611Z"
   },
   {
    "duration": 8,
    "start_time": "2022-09-14T13:50:06.671Z"
   },
   {
    "duration": 4,
    "start_time": "2022-09-14T13:50:08.939Z"
   },
   {
    "duration": 10,
    "start_time": "2022-09-14T13:53:10.430Z"
   },
   {
    "duration": 13,
    "start_time": "2022-09-14T13:53:39.056Z"
   },
   {
    "duration": 4,
    "start_time": "2022-09-14T13:55:23.414Z"
   },
   {
    "duration": 7,
    "start_time": "2022-09-14T13:55:27.654Z"
   },
   {
    "duration": 14,
    "start_time": "2022-09-14T13:55:27.816Z"
   },
   {
    "duration": 13,
    "start_time": "2022-09-14T13:55:28.093Z"
   },
   {
    "duration": 14,
    "start_time": "2022-09-14T13:55:28.417Z"
   },
   {
    "duration": 17,
    "start_time": "2022-09-14T13:55:35.861Z"
   },
   {
    "duration": 199,
    "start_time": "2022-09-14T13:55:36.016Z"
   },
   {
    "duration": 330,
    "start_time": "2022-09-14T13:55:36.599Z"
   },
   {
    "duration": 3805,
    "start_time": "2022-09-14T13:55:36.932Z"
   },
   {
    "duration": 30,
    "start_time": "2022-09-14T13:55:40.740Z"
   },
   {
    "duration": 1520,
    "start_time": "2022-09-14T13:55:40.772Z"
   },
   {
    "duration": 836,
    "start_time": "2022-09-14T13:55:42.294Z"
   },
   {
    "duration": 1396,
    "start_time": "2022-09-14T13:55:43.133Z"
   },
   {
    "duration": 4,
    "start_time": "2022-09-14T13:55:44.532Z"
   },
   {
    "duration": 361,
    "start_time": "2022-09-14T13:55:44.538Z"
   },
   {
    "duration": 396,
    "start_time": "2022-09-14T13:55:44.901Z"
   },
   {
    "duration": 419,
    "start_time": "2022-09-14T13:55:45.300Z"
   },
   {
    "duration": 424,
    "start_time": "2022-09-14T13:55:45.721Z"
   },
   {
    "duration": 369,
    "start_time": "2022-09-14T13:55:46.147Z"
   },
   {
    "duration": 228,
    "start_time": "2022-09-14T13:56:27.690Z"
   },
   {
    "duration": 1106,
    "start_time": "2022-09-14T13:56:30.682Z"
   },
   {
    "duration": 1085,
    "start_time": "2022-09-14T13:56:31.791Z"
   },
   {
    "duration": 6,
    "start_time": "2022-09-14T13:56:32.878Z"
   },
   {
    "duration": 450,
    "start_time": "2022-09-14T13:56:32.895Z"
   },
   {
    "duration": 420,
    "start_time": "2022-09-14T13:56:33.347Z"
   },
   {
    "duration": 427,
    "start_time": "2022-09-14T13:56:33.768Z"
   },
   {
    "duration": 11,
    "start_time": "2022-09-14T13:56:34.197Z"
   },
   {
    "duration": 5,
    "start_time": "2022-09-14T13:56:37.515Z"
   },
   {
    "duration": 4,
    "start_time": "2022-09-14T13:56:38.864Z"
   },
   {
    "duration": 11,
    "start_time": "2022-09-14T13:57:10.222Z"
   },
   {
    "duration": 6,
    "start_time": "2022-09-14T13:57:11.309Z"
   },
   {
    "duration": 6,
    "start_time": "2022-09-14T13:57:13.422Z"
   },
   {
    "duration": 11,
    "start_time": "2022-09-14T13:58:35.785Z"
   },
   {
    "duration": 6,
    "start_time": "2022-09-14T13:58:36.074Z"
   },
   {
    "duration": 3,
    "start_time": "2022-09-14T13:58:47.661Z"
   },
   {
    "duration": 9,
    "start_time": "2022-09-14T13:59:48.587Z"
   },
   {
    "duration": 118,
    "start_time": "2022-09-14T14:00:01.153Z"
   },
   {
    "duration": 11,
    "start_time": "2022-09-14T14:00:05.726Z"
   },
   {
    "duration": 4,
    "start_time": "2022-09-14T14:00:16.438Z"
   },
   {
    "duration": 7,
    "start_time": "2022-09-14T14:00:44.499Z"
   },
   {
    "duration": 78,
    "start_time": "2022-09-14T14:01:48.320Z"
   },
   {
    "duration": 5,
    "start_time": "2022-09-14T14:02:33.852Z"
   },
   {
    "duration": 450,
    "start_time": "2022-09-14T14:02:34.532Z"
   },
   {
    "duration": 483,
    "start_time": "2022-09-14T14:02:35.293Z"
   },
   {
    "duration": 433,
    "start_time": "2022-09-14T14:02:36.055Z"
   },
   {
    "duration": 72,
    "start_time": "2022-09-14T14:08:56.313Z"
   },
   {
    "duration": 43,
    "start_time": "2022-09-14T22:03:23.550Z"
   },
   {
    "duration": 1072,
    "start_time": "2022-09-14T22:04:04.276Z"
   },
   {
    "duration": 64,
    "start_time": "2022-09-14T22:04:05.350Z"
   },
   {
    "duration": 13,
    "start_time": "2022-09-14T22:04:05.415Z"
   },
   {
    "duration": 18,
    "start_time": "2022-09-14T22:04:05.430Z"
   },
   {
    "duration": 4,
    "start_time": "2022-09-14T22:04:05.450Z"
   },
   {
    "duration": 40,
    "start_time": "2022-09-14T22:04:05.455Z"
   },
   {
    "duration": 8,
    "start_time": "2022-09-14T22:04:05.496Z"
   },
   {
    "duration": 20,
    "start_time": "2022-09-14T22:04:05.505Z"
   },
   {
    "duration": 11,
    "start_time": "2022-09-14T22:04:05.526Z"
   },
   {
    "duration": 4,
    "start_time": "2022-09-14T22:04:05.538Z"
   },
   {
    "duration": 35,
    "start_time": "2022-09-14T22:04:05.543Z"
   },
   {
    "duration": 13,
    "start_time": "2022-09-14T22:04:05.579Z"
   },
   {
    "duration": 10,
    "start_time": "2022-09-14T22:04:05.594Z"
   },
   {
    "duration": 11,
    "start_time": "2022-09-14T22:04:05.607Z"
   },
   {
    "duration": 14,
    "start_time": "2022-09-14T22:04:05.619Z"
   },
   {
    "duration": 169,
    "start_time": "2022-09-14T22:04:05.635Z"
   },
   {
    "duration": 203,
    "start_time": "2022-09-14T22:04:05.805Z"
   },
   {
    "duration": 2561,
    "start_time": "2022-09-14T22:04:06.009Z"
   },
   {
    "duration": 25,
    "start_time": "2022-09-14T22:04:08.576Z"
   },
   {
    "duration": 1035,
    "start_time": "2022-09-14T22:04:08.603Z"
   },
   {
    "duration": 784,
    "start_time": "2022-09-14T22:04:09.639Z"
   },
   {
    "duration": 641,
    "start_time": "2022-09-14T22:04:10.424Z"
   },
   {
    "duration": 203,
    "start_time": "2022-09-14T22:04:11.066Z"
   },
   {
    "duration": 4,
    "start_time": "2022-09-14T22:04:11.276Z"
   },
   {
    "duration": 216,
    "start_time": "2022-09-14T22:04:11.281Z"
   },
   {
    "duration": 260,
    "start_time": "2022-09-14T22:04:11.499Z"
   },
   {
    "duration": 253,
    "start_time": "2022-09-14T22:04:11.761Z"
   },
   {
    "duration": 342,
    "start_time": "2022-09-14T22:04:12.015Z"
   },
   {
    "duration": 229,
    "start_time": "2022-09-14T22:04:12.359Z"
   },
   {
    "duration": 171,
    "start_time": "2022-09-14T22:04:12.590Z"
   },
   {
    "duration": 837,
    "start_time": "2022-09-14T22:04:12.763Z"
   },
   {
    "duration": 969,
    "start_time": "2022-09-14T22:04:13.601Z"
   },
   {
    "duration": 5,
    "start_time": "2022-09-14T22:04:14.576Z"
   },
   {
    "duration": 363,
    "start_time": "2022-09-14T22:04:14.582Z"
   },
   {
    "duration": 357,
    "start_time": "2022-09-14T22:04:14.946Z"
   },
   {
    "duration": 350,
    "start_time": "2022-09-14T22:04:15.305Z"
   },
   {
    "duration": 8,
    "start_time": "2022-09-14T22:04:15.657Z"
   },
   {
    "duration": 11,
    "start_time": "2022-09-14T22:04:15.666Z"
   },
   {
    "duration": 7,
    "start_time": "2022-09-14T22:04:15.678Z"
   },
   {
    "duration": 15,
    "start_time": "2022-09-14T22:04:15.687Z"
   },
   {
    "duration": 5,
    "start_time": "2022-09-14T22:04:15.706Z"
   },
   {
    "duration": 4,
    "start_time": "2022-09-14T22:04:15.713Z"
   },
   {
    "duration": 219,
    "start_time": "2022-09-14T22:05:31.826Z"
   },
   {
    "duration": 7,
    "start_time": "2022-09-14T22:18:37.089Z"
   },
   {
    "duration": 1053,
    "start_time": "2022-09-14T22:28:39.388Z"
   },
   {
    "duration": 64,
    "start_time": "2022-09-14T22:28:40.443Z"
   },
   {
    "duration": 12,
    "start_time": "2022-09-14T22:28:40.508Z"
   },
   {
    "duration": 13,
    "start_time": "2022-09-14T22:28:40.522Z"
   },
   {
    "duration": 4,
    "start_time": "2022-09-14T22:28:40.536Z"
   },
   {
    "duration": 40,
    "start_time": "2022-09-14T22:28:40.542Z"
   },
   {
    "duration": 8,
    "start_time": "2022-09-14T22:28:40.584Z"
   },
   {
    "duration": 23,
    "start_time": "2022-09-14T22:28:40.594Z"
   },
   {
    "duration": 10,
    "start_time": "2022-09-14T22:28:40.618Z"
   },
   {
    "duration": 3,
    "start_time": "2022-09-14T22:28:40.630Z"
   },
   {
    "duration": 7,
    "start_time": "2022-09-14T22:28:40.634Z"
   },
   {
    "duration": 40,
    "start_time": "2022-09-14T22:28:40.643Z"
   },
   {
    "duration": 10,
    "start_time": "2022-09-14T22:28:40.685Z"
   },
   {
    "duration": 12,
    "start_time": "2022-09-14T22:28:40.696Z"
   },
   {
    "duration": 14,
    "start_time": "2022-09-14T22:28:40.709Z"
   },
   {
    "duration": 155,
    "start_time": "2022-09-14T22:28:40.724Z"
   },
   {
    "duration": 194,
    "start_time": "2022-09-14T22:28:40.880Z"
   },
   {
    "duration": 2506,
    "start_time": "2022-09-14T22:28:41.077Z"
   },
   {
    "duration": 26,
    "start_time": "2022-09-14T22:28:43.584Z"
   },
   {
    "duration": 1076,
    "start_time": "2022-09-14T22:28:43.611Z"
   },
   {
    "duration": 757,
    "start_time": "2022-09-14T22:28:44.689Z"
   },
   {
    "duration": 633,
    "start_time": "2022-09-14T22:28:45.447Z"
   },
   {
    "duration": 200,
    "start_time": "2022-09-14T22:28:46.081Z"
   },
   {
    "duration": 4,
    "start_time": "2022-09-14T22:28:46.283Z"
   },
   {
    "duration": 210,
    "start_time": "2022-09-14T22:28:46.288Z"
   },
   {
    "duration": 244,
    "start_time": "2022-09-14T22:28:46.500Z"
   },
   {
    "duration": 249,
    "start_time": "2022-09-14T22:28:46.745Z"
   },
   {
    "duration": 341,
    "start_time": "2022-09-14T22:28:46.996Z"
   },
   {
    "duration": 218,
    "start_time": "2022-09-14T22:28:47.339Z"
   },
   {
    "duration": 207,
    "start_time": "2022-09-14T22:28:47.558Z"
   },
   {
    "duration": 828,
    "start_time": "2022-09-14T22:28:47.766Z"
   },
   {
    "duration": 970,
    "start_time": "2022-09-14T22:28:48.595Z"
   },
   {
    "duration": 5,
    "start_time": "2022-09-14T22:28:49.567Z"
   },
   {
    "duration": 389,
    "start_time": "2022-09-14T22:28:49.578Z"
   },
   {
    "duration": 367,
    "start_time": "2022-09-14T22:28:49.969Z"
   },
   {
    "duration": 356,
    "start_time": "2022-09-14T22:28:50.338Z"
   },
   {
    "duration": 8,
    "start_time": "2022-09-14T22:28:50.696Z"
   },
   {
    "duration": 9,
    "start_time": "2022-09-14T22:28:50.706Z"
   },
   {
    "duration": 7,
    "start_time": "2022-09-14T22:28:50.717Z"
   },
   {
    "duration": 7,
    "start_time": "2022-09-14T22:28:50.726Z"
   },
   {
    "duration": 11,
    "start_time": "2022-09-14T22:28:50.735Z"
   },
   {
    "duration": 5,
    "start_time": "2022-09-14T22:28:50.747Z"
   },
   {
    "duration": 3,
    "start_time": "2022-09-14T22:28:50.777Z"
   },
   {
    "duration": 1144,
    "start_time": "2022-09-15T20:17:41.141Z"
   },
   {
    "duration": 106,
    "start_time": "2022-09-15T20:17:42.287Z"
   },
   {
    "duration": 12,
    "start_time": "2022-09-15T20:17:42.395Z"
   },
   {
    "duration": 15,
    "start_time": "2022-09-15T20:17:42.968Z"
   },
   {
    "duration": 4,
    "start_time": "2022-09-15T20:17:44.924Z"
   },
   {
    "duration": 24,
    "start_time": "2022-09-15T20:17:45.286Z"
   },
   {
    "duration": 11,
    "start_time": "2022-09-15T20:17:45.461Z"
   },
   {
    "duration": 24,
    "start_time": "2022-09-15T20:17:46.401Z"
   },
   {
    "duration": 12,
    "start_time": "2022-09-15T20:17:47.044Z"
   },
   {
    "duration": 7,
    "start_time": "2022-09-15T20:17:57.971Z"
   },
   {
    "duration": 22,
    "start_time": "2022-09-15T20:19:16.379Z"
   },
   {
    "duration": 7,
    "start_time": "2022-09-15T20:19:16.547Z"
   },
   {
    "duration": 9,
    "start_time": "2022-09-15T20:19:17.086Z"
   },
   {
    "duration": 19,
    "start_time": "2022-09-15T20:19:17.220Z"
   },
   {
    "duration": 14,
    "start_time": "2022-09-15T20:19:17.491Z"
   },
   {
    "duration": 16,
    "start_time": "2022-09-15T20:19:17.983Z"
   },
   {
    "duration": 21,
    "start_time": "2022-09-15T20:19:20.773Z"
   },
   {
    "duration": 167,
    "start_time": "2022-09-15T20:19:20.950Z"
   },
   {
    "duration": 235,
    "start_time": "2022-09-15T20:19:24.081Z"
   },
   {
    "duration": 2715,
    "start_time": "2022-09-15T20:19:25.037Z"
   },
   {
    "duration": 25,
    "start_time": "2022-09-15T20:19:27.753Z"
   },
   {
    "duration": 26,
    "start_time": "2022-09-15T20:21:04.724Z"
   },
   {
    "duration": 74,
    "start_time": "2022-09-15T20:22:51.952Z"
   },
   {
    "duration": 1019,
    "start_time": "2022-09-15T20:23:00.558Z"
   },
   {
    "duration": 796,
    "start_time": "2022-09-15T20:23:01.701Z"
   },
   {
    "duration": 691,
    "start_time": "2022-09-15T20:23:02.498Z"
   },
   {
    "duration": 62,
    "start_time": "2022-09-15T20:25:31.696Z"
   },
   {
    "duration": 215,
    "start_time": "2022-09-15T20:26:15.583Z"
   },
   {
    "duration": 207,
    "start_time": "2022-09-15T20:26:28.590Z"
   },
   {
    "duration": 188,
    "start_time": "2022-09-15T20:26:34.944Z"
   },
   {
    "duration": 285,
    "start_time": "2022-09-15T20:26:51.486Z"
   },
   {
    "duration": 198,
    "start_time": "2022-09-15T20:28:03.118Z"
   },
   {
    "duration": 193,
    "start_time": "2022-09-15T20:28:26.872Z"
   },
   {
    "duration": 190,
    "start_time": "2022-09-15T20:29:20.984Z"
   },
   {
    "duration": 206,
    "start_time": "2022-09-15T20:29:43.865Z"
   },
   {
    "duration": 298,
    "start_time": "2022-09-15T20:33:17.250Z"
   },
   {
    "duration": 5,
    "start_time": "2022-09-15T20:33:29.720Z"
   },
   {
    "duration": 252,
    "start_time": "2022-09-15T20:33:30.413Z"
   },
   {
    "duration": 255,
    "start_time": "2022-09-15T20:33:30.889Z"
   },
   {
    "duration": 266,
    "start_time": "2022-09-15T20:33:31.284Z"
   },
   {
    "duration": 240,
    "start_time": "2022-09-15T20:33:31.689Z"
   },
   {
    "duration": 252,
    "start_time": "2022-09-15T20:33:33.115Z"
   },
   {
    "duration": 51,
    "start_time": "2022-09-15T20:38:42.566Z"
   },
   {
    "duration": 5,
    "start_time": "2022-09-15T20:43:54.653Z"
   },
   {
    "duration": 5,
    "start_time": "2022-09-15T20:46:25.374Z"
   },
   {
    "duration": 410,
    "start_time": "2022-09-15T20:46:34.992Z"
   },
   {
    "duration": 4,
    "start_time": "2022-09-15T20:47:58.268Z"
   },
   {
    "duration": 371,
    "start_time": "2022-09-15T20:47:58.456Z"
   },
   {
    "duration": 5,
    "start_time": "2022-09-15T20:48:40.340Z"
   },
   {
    "duration": 341,
    "start_time": "2022-09-15T20:48:40.504Z"
   },
   {
    "duration": 428,
    "start_time": "2022-09-15T20:48:52.172Z"
   },
   {
    "duration": 5,
    "start_time": "2022-09-15T20:49:17.303Z"
   },
   {
    "duration": 394,
    "start_time": "2022-09-15T20:49:19.874Z"
   },
   {
    "duration": 5,
    "start_time": "2022-09-15T20:49:30.030Z"
   },
   {
    "duration": 394,
    "start_time": "2022-09-15T20:49:30.189Z"
   },
   {
    "duration": 379,
    "start_time": "2022-09-15T20:51:42.013Z"
   },
   {
    "duration": 421,
    "start_time": "2022-09-15T20:52:43.764Z"
   },
   {
    "duration": 453,
    "start_time": "2022-09-15T20:53:02.641Z"
   },
   {
    "duration": 10,
    "start_time": "2022-09-15T21:08:59.788Z"
   },
   {
    "duration": 13,
    "start_time": "2022-09-15T21:09:11.160Z"
   },
   {
    "duration": 2,
    "start_time": "2022-09-15T21:09:50.933Z"
   },
   {
    "duration": 59,
    "start_time": "2022-09-15T21:09:50.940Z"
   },
   {
    "duration": 11,
    "start_time": "2022-09-15T21:09:51.001Z"
   },
   {
    "duration": 12,
    "start_time": "2022-09-15T21:09:51.013Z"
   },
   {
    "duration": 3,
    "start_time": "2022-09-15T21:09:51.027Z"
   },
   {
    "duration": 25,
    "start_time": "2022-09-15T21:09:51.032Z"
   },
   {
    "duration": 10,
    "start_time": "2022-09-15T21:09:51.059Z"
   },
   {
    "duration": 50,
    "start_time": "2022-09-15T21:09:51.070Z"
   },
   {
    "duration": 10,
    "start_time": "2022-09-15T21:09:51.121Z"
   },
   {
    "duration": 10,
    "start_time": "2022-09-15T21:09:51.133Z"
   },
   {
    "duration": 14,
    "start_time": "2022-09-15T21:09:51.145Z"
   },
   {
    "duration": 48,
    "start_time": "2022-09-15T21:09:51.160Z"
   },
   {
    "duration": 13,
    "start_time": "2022-09-15T21:09:51.209Z"
   },
   {
    "duration": 14,
    "start_time": "2022-09-15T21:09:51.223Z"
   },
   {
    "duration": 230,
    "start_time": "2022-09-15T21:09:51.239Z"
   },
   {
    "duration": 241,
    "start_time": "2022-09-15T21:09:51.471Z"
   },
   {
    "duration": 3173,
    "start_time": "2022-09-15T21:09:51.714Z"
   },
   {
    "duration": 32,
    "start_time": "2022-09-15T21:09:54.889Z"
   },
   {
    "duration": 1140,
    "start_time": "2022-09-15T21:09:54.923Z"
   },
   {
    "duration": 212,
    "start_time": "2022-09-15T21:09:56.064Z"
   },
   {
    "duration": 216,
    "start_time": "2022-09-15T21:09:56.278Z"
   },
   {
    "duration": 228,
    "start_time": "2022-09-15T21:09:56.496Z"
   },
   {
    "duration": 3,
    "start_time": "2022-09-15T21:09:56.726Z"
   },
   {
    "duration": 272,
    "start_time": "2022-09-15T21:09:56.730Z"
   },
   {
    "duration": 443,
    "start_time": "2022-09-15T21:09:57.003Z"
   },
   {
    "duration": 318,
    "start_time": "2022-09-15T21:09:57.448Z"
   },
   {
    "duration": 319,
    "start_time": "2022-09-15T21:09:57.767Z"
   },
   {
    "duration": 301,
    "start_time": "2022-09-15T21:09:58.087Z"
   },
   {
    "duration": 205,
    "start_time": "2022-09-15T21:09:58.389Z"
   },
   {
    "duration": 984,
    "start_time": "2022-09-15T21:09:58.595Z"
   },
   {
    "duration": 1010,
    "start_time": "2022-09-15T21:09:59.580Z"
   },
   {
    "duration": 13,
    "start_time": "2022-09-15T21:10:00.591Z"
   },
   {
    "duration": 398,
    "start_time": "2022-09-15T21:10:00.605Z"
   },
   {
    "duration": 388,
    "start_time": "2022-09-15T21:10:01.005Z"
   },
   {
    "duration": 380,
    "start_time": "2022-09-15T21:10:01.394Z"
   },
   {
    "duration": 23,
    "start_time": "2022-09-15T21:10:01.778Z"
   },
   {
    "duration": 7,
    "start_time": "2022-09-15T21:10:01.803Z"
   },
   {
    "duration": 34,
    "start_time": "2022-09-15T21:10:01.811Z"
   },
   {
    "duration": 7,
    "start_time": "2022-09-15T21:10:01.847Z"
   },
   {
    "duration": 14,
    "start_time": "2022-09-15T21:10:01.855Z"
   },
   {
    "duration": 11,
    "start_time": "2022-09-15T21:10:01.871Z"
   },
   {
    "duration": 32,
    "start_time": "2022-09-15T21:10:01.884Z"
   },
   {
    "duration": 12,
    "start_time": "2022-09-15T21:11:29.593Z"
   },
   {
    "duration": 23,
    "start_time": "2022-09-15T21:14:15.074Z"
   },
   {
    "duration": 13,
    "start_time": "2022-09-15T21:14:46.970Z"
   },
   {
    "duration": 8,
    "start_time": "2022-09-15T21:14:56.054Z"
   },
   {
    "duration": 5,
    "start_time": "2022-09-15T21:14:59.246Z"
   },
   {
    "duration": 3,
    "start_time": "2022-09-15T21:15:02.151Z"
   },
   {
    "duration": 3,
    "start_time": "2022-09-15T21:21:48.930Z"
   },
   {
    "duration": 4,
    "start_time": "2022-09-15T21:27:18.975Z"
   },
   {
    "duration": 5,
    "start_time": "2022-09-15T21:27:45.450Z"
   },
   {
    "duration": 9,
    "start_time": "2022-09-15T21:33:05.464Z"
   },
   {
    "duration": 4,
    "start_time": "2022-09-15T21:33:05.788Z"
   },
   {
    "duration": 3,
    "start_time": "2022-09-15T21:33:06.777Z"
   },
   {
    "duration": 4,
    "start_time": "2022-09-15T21:33:25.972Z"
   },
   {
    "duration": 5,
    "start_time": "2022-09-15T21:39:02.432Z"
   },
   {
    "duration": 5,
    "start_time": "2022-09-15T21:39:54.327Z"
   },
   {
    "duration": 5,
    "start_time": "2022-09-15T21:41:09.972Z"
   },
   {
    "duration": 3,
    "start_time": "2022-09-15T21:55:10.009Z"
   },
   {
    "duration": 7,
    "start_time": "2022-09-15T21:55:17.773Z"
   },
   {
    "duration": 290,
    "start_time": "2022-09-15T21:55:36.304Z"
   },
   {
    "duration": 403,
    "start_time": "2022-09-15T21:55:38.999Z"
   },
   {
    "duration": 292,
    "start_time": "2022-09-15T21:55:46.510Z"
   },
   {
    "duration": 5,
    "start_time": "2022-09-15T21:56:14.059Z"
   },
   {
    "duration": 4,
    "start_time": "2022-09-15T21:56:20.580Z"
   },
   {
    "duration": 75,
    "start_time": "2022-09-15T21:57:17.680Z"
   },
   {
    "duration": 2507,
    "start_time": "2022-09-16T17:54:51.994Z"
   },
   {
    "duration": 132,
    "start_time": "2022-09-16T17:54:54.505Z"
   },
   {
    "duration": 78,
    "start_time": "2022-09-16T17:54:54.639Z"
   },
   {
    "duration": 76,
    "start_time": "2022-09-16T17:54:54.720Z"
   },
   {
    "duration": 10,
    "start_time": "2022-09-16T17:54:54.803Z"
   },
   {
    "duration": 189,
    "start_time": "2022-09-16T17:54:54.816Z"
   },
   {
    "duration": 13,
    "start_time": "2022-09-16T17:54:55.007Z"
   },
   {
    "duration": 97,
    "start_time": "2022-09-16T17:54:55.022Z"
   },
   {
    "duration": 77,
    "start_time": "2022-09-16T17:54:55.121Z"
   },
   {
    "duration": 20,
    "start_time": "2022-09-16T17:54:55.200Z"
   },
   {
    "duration": 87,
    "start_time": "2022-09-16T17:54:55.222Z"
   },
   {
    "duration": 83,
    "start_time": "2022-09-16T17:54:55.313Z"
   },
   {
    "duration": 23,
    "start_time": "2022-09-16T17:54:55.398Z"
   },
   {
    "duration": 88,
    "start_time": "2022-09-16T17:54:55.425Z"
   },
   {
    "duration": 401,
    "start_time": "2022-09-16T17:54:55.515Z"
   },
   {
    "duration": 719,
    "start_time": "2022-09-16T17:54:55.918Z"
   },
   {
    "duration": 7771,
    "start_time": "2022-09-16T17:54:56.640Z"
   },
   {
    "duration": 86,
    "start_time": "2022-09-16T17:55:04.413Z"
   },
   {
    "duration": 2916,
    "start_time": "2022-09-16T17:55:04.502Z"
   },
   {
    "duration": 575,
    "start_time": "2022-09-16T17:55:07.420Z"
   },
   {
    "duration": 944,
    "start_time": "2022-09-16T17:55:07.997Z"
   },
   {
    "duration": 528,
    "start_time": "2022-09-16T17:55:08.994Z"
   },
   {
    "duration": 5,
    "start_time": "2022-09-16T17:55:09.525Z"
   },
   {
    "duration": 701,
    "start_time": "2022-09-16T17:55:09.532Z"
   },
   {
    "duration": 701,
    "start_time": "2022-09-16T17:55:10.236Z"
   },
   {
    "duration": 705,
    "start_time": "2022-09-16T17:55:10.996Z"
   },
   {
    "duration": 712,
    "start_time": "2022-09-16T17:55:11.703Z"
   },
   {
    "duration": 815,
    "start_time": "2022-09-16T17:55:12.417Z"
   },
   {
    "duration": 253,
    "start_time": "2022-09-16T17:55:13.234Z"
   },
   {
    "duration": 1249,
    "start_time": "2022-09-16T17:55:13.489Z"
   },
   {
    "duration": 1148,
    "start_time": "2022-09-16T17:55:14.740Z"
   },
   {
    "duration": 12,
    "start_time": "2022-09-16T17:55:15.889Z"
   },
   {
    "duration": 526,
    "start_time": "2022-09-16T17:55:15.902Z"
   },
   {
    "duration": 728,
    "start_time": "2022-09-16T17:55:16.431Z"
   },
   {
    "duration": 484,
    "start_time": "2022-09-16T17:55:17.162Z"
   },
   {
    "duration": 27,
    "start_time": "2022-09-16T17:55:17.648Z"
   },
   {
    "duration": 28,
    "start_time": "2022-09-16T17:55:17.677Z"
   },
   {
    "duration": 11,
    "start_time": "2022-09-16T17:55:17.707Z"
   },
   {
    "duration": 8,
    "start_time": "2022-09-16T17:55:17.720Z"
   },
   {
    "duration": 10,
    "start_time": "2022-09-16T17:55:17.730Z"
   },
   {
    "duration": 5,
    "start_time": "2022-09-16T17:55:17.744Z"
   },
   {
    "duration": 1194,
    "start_time": "2022-09-16T18:21:12.732Z"
   },
   {
    "duration": 74,
    "start_time": "2022-09-16T18:21:13.928Z"
   },
   {
    "duration": 15,
    "start_time": "2022-09-16T18:21:14.005Z"
   },
   {
    "duration": 16,
    "start_time": "2022-09-16T18:21:14.022Z"
   },
   {
    "duration": 5,
    "start_time": "2022-09-16T18:21:14.040Z"
   },
   {
    "duration": 57,
    "start_time": "2022-09-16T18:21:14.047Z"
   },
   {
    "duration": 10,
    "start_time": "2022-09-16T18:21:14.105Z"
   },
   {
    "duration": 30,
    "start_time": "2022-09-16T18:21:14.117Z"
   },
   {
    "duration": 10,
    "start_time": "2022-09-16T18:21:14.149Z"
   },
   {
    "duration": 36,
    "start_time": "2022-09-16T18:21:14.161Z"
   },
   {
    "duration": 18,
    "start_time": "2022-09-16T18:21:14.199Z"
   },
   {
    "duration": 12,
    "start_time": "2022-09-16T18:21:14.219Z"
   },
   {
    "duration": 26,
    "start_time": "2022-09-16T18:21:14.233Z"
   },
   {
    "duration": 33,
    "start_time": "2022-09-16T18:21:14.263Z"
   },
   {
    "duration": 188,
    "start_time": "2022-09-16T18:21:14.298Z"
   },
   {
    "duration": 257,
    "start_time": "2022-09-16T18:21:14.487Z"
   },
   {
    "duration": 3309,
    "start_time": "2022-09-16T18:21:14.746Z"
   },
   {
    "duration": 40,
    "start_time": "2022-09-16T18:21:18.058Z"
   },
   {
    "duration": 1741,
    "start_time": "2022-09-16T18:21:18.100Z"
   },
   {
    "duration": 332,
    "start_time": "2022-09-16T18:21:19.843Z"
   },
   {
    "duration": 439,
    "start_time": "2022-09-16T18:21:20.176Z"
   },
   {
    "duration": 251,
    "start_time": "2022-09-16T18:21:20.617Z"
   },
   {
    "duration": 5,
    "start_time": "2022-09-16T18:21:20.871Z"
   },
   {
    "duration": 280,
    "start_time": "2022-09-16T18:21:20.878Z"
   },
   {
    "duration": 306,
    "start_time": "2022-09-16T18:21:21.160Z"
   },
   {
    "duration": 319,
    "start_time": "2022-09-16T18:21:21.469Z"
   },
   {
    "duration": 316,
    "start_time": "2022-09-16T18:21:21.794Z"
   },
   {
    "duration": 303,
    "start_time": "2022-09-16T18:21:22.111Z"
   },
   {
    "duration": 227,
    "start_time": "2022-09-16T18:21:22.416Z"
   },
   {
    "duration": 1218,
    "start_time": "2022-09-16T18:21:22.645Z"
   },
   {
    "duration": 1089,
    "start_time": "2022-09-16T18:21:23.864Z"
   },
   {
    "duration": 6,
    "start_time": "2022-09-16T18:21:24.956Z"
   },
   {
    "duration": 474,
    "start_time": "2022-09-16T18:21:24.964Z"
   },
   {
    "duration": 613,
    "start_time": "2022-09-16T18:21:25.440Z"
   },
   {
    "duration": 490,
    "start_time": "2022-09-16T18:21:26.055Z"
   },
   {
    "duration": 50,
    "start_time": "2022-09-16T18:21:26.547Z"
   },
   {
    "duration": 13,
    "start_time": "2022-09-16T18:21:26.599Z"
   },
   {
    "duration": 13,
    "start_time": "2022-09-16T18:21:26.614Z"
   },
   {
    "duration": 14,
    "start_time": "2022-09-16T18:21:26.630Z"
   },
   {
    "duration": 20,
    "start_time": "2022-09-16T18:21:26.646Z"
   },
   {
    "duration": 27,
    "start_time": "2022-09-16T18:21:26.672Z"
   },
   {
    "duration": 69,
    "start_time": "2022-09-16T18:21:26.701Z"
   },
   {
    "duration": 4,
    "start_time": "2022-09-16T18:21:26.773Z"
   },
   {
    "duration": 27,
    "start_time": "2022-09-16T18:21:26.778Z"
   },
   {
    "duration": 9,
    "start_time": "2022-09-16T18:21:26.807Z"
   },
   {
    "duration": 13,
    "start_time": "2022-09-16T18:21:26.818Z"
   },
   {
    "duration": 8,
    "start_time": "2022-09-16T18:21:26.833Z"
   },
   {
    "duration": 12,
    "start_time": "2022-09-16T18:21:26.844Z"
   },
   {
    "duration": 701,
    "start_time": "2022-09-16T18:21:26.857Z"
   },
   {
    "duration": 674,
    "start_time": "2022-09-16T18:21:27.560Z"
   },
   {
    "duration": 67,
    "start_time": "2023-03-21T21:07:02.356Z"
   },
   {
    "duration": 1093,
    "start_time": "2023-03-21T21:07:10.845Z"
   },
   {
    "duration": 471,
    "start_time": "2023-03-21T21:07:16.815Z"
   },
   {
    "duration": 3,
    "start_time": "2023-03-21T21:07:17.867Z"
   },
   {
    "duration": 10,
    "start_time": "2023-03-21T21:07:18.928Z"
   },
   {
    "duration": 7,
    "start_time": "2023-03-21T21:07:22.479Z"
   },
   {
    "duration": 5,
    "start_time": "2023-03-21T21:07:23.458Z"
   },
   {
    "duration": 7,
    "start_time": "2023-03-21T21:07:24.325Z"
   },
   {
    "duration": 11,
    "start_time": "2023-03-21T21:07:25.330Z"
   },
   {
    "duration": 621,
    "start_time": "2023-03-21T21:07:26.764Z"
   },
   {
    "duration": 651,
    "start_time": "2023-03-21T21:07:28.396Z"
   },
   {
    "duration": 1410,
    "start_time": "2023-06-04T15:59:22.909Z"
   },
   {
    "duration": 109,
    "start_time": "2023-06-04T15:59:24.322Z"
   },
   {
    "duration": 14,
    "start_time": "2023-06-04T15:59:24.432Z"
   },
   {
    "duration": 29,
    "start_time": "2023-06-04T15:59:24.448Z"
   },
   {
    "duration": 4,
    "start_time": "2023-06-04T15:59:24.479Z"
   },
   {
    "duration": 128,
    "start_time": "2023-06-04T15:59:24.485Z"
   },
   {
    "duration": 10,
    "start_time": "2023-06-04T15:59:24.615Z"
   },
   {
    "duration": 21,
    "start_time": "2023-06-04T15:59:24.837Z"
   },
   {
    "duration": 13,
    "start_time": "2023-06-04T15:59:24.999Z"
   },
   {
    "duration": 8,
    "start_time": "2023-06-04T15:59:26.654Z"
   },
   {
    "duration": 20,
    "start_time": "2023-06-04T15:59:26.825Z"
   },
   {
    "duration": 17,
    "start_time": "2023-06-04T15:59:27.421Z"
   },
   {
    "duration": 15,
    "start_time": "2023-06-04T15:59:27.569Z"
   },
   {
    "duration": 17,
    "start_time": "2023-06-04T15:59:28.706Z"
   },
   {
    "duration": 160,
    "start_time": "2023-06-04T15:59:31.759Z"
   },
   {
    "duration": 188,
    "start_time": "2023-06-04T15:59:46.731Z"
   },
   {
    "duration": 206,
    "start_time": "2023-06-04T15:59:58.145Z"
   },
   {
    "duration": 153,
    "start_time": "2023-06-04T16:03:32.687Z"
   },
   {
    "duration": 3,
    "start_time": "2023-06-04T16:03:45.079Z"
   },
   {
    "duration": 123,
    "start_time": "2023-06-04T16:03:45.084Z"
   },
   {
    "duration": 43,
    "start_time": "2023-06-04T16:03:45.209Z"
   },
   {
    "duration": 44,
    "start_time": "2023-06-04T16:03:45.254Z"
   },
   {
    "duration": 7,
    "start_time": "2023-06-04T16:03:45.301Z"
   },
   {
    "duration": 40,
    "start_time": "2023-06-04T16:03:45.309Z"
   },
   {
    "duration": 34,
    "start_time": "2023-06-04T16:03:45.352Z"
   },
   {
    "duration": 53,
    "start_time": "2023-06-04T16:03:45.388Z"
   },
   {
    "duration": 29,
    "start_time": "2023-06-04T16:03:45.443Z"
   },
   {
    "duration": 16,
    "start_time": "2023-06-04T16:03:45.474Z"
   },
   {
    "duration": 40,
    "start_time": "2023-06-04T16:03:45.492Z"
   },
   {
    "duration": 69,
    "start_time": "2023-06-04T16:03:45.537Z"
   },
   {
    "duration": 73,
    "start_time": "2023-06-04T16:03:45.608Z"
   },
   {
    "duration": 85,
    "start_time": "2023-06-04T16:03:45.683Z"
   },
   {
    "duration": 222,
    "start_time": "2023-06-04T16:03:45.770Z"
   },
   {
    "duration": 305,
    "start_time": "2023-06-04T16:03:45.994Z"
   },
   {
    "duration": 3099,
    "start_time": "2023-06-04T16:03:46.301Z"
   },
   {
    "duration": 50,
    "start_time": "2023-06-04T16:03:49.402Z"
   },
   {
    "duration": 1182,
    "start_time": "2023-06-04T16:03:49.455Z"
   },
   {
    "duration": 336,
    "start_time": "2023-06-04T16:03:50.640Z"
   },
   {
    "duration": 271,
    "start_time": "2023-06-04T16:03:50.978Z"
   },
   {
    "duration": 4,
    "start_time": "2023-06-04T16:03:51.251Z"
   },
   {
    "duration": 283,
    "start_time": "2023-06-04T16:03:51.257Z"
   },
   {
    "duration": 372,
    "start_time": "2023-06-04T16:03:51.543Z"
   },
   {
    "duration": 352,
    "start_time": "2023-06-04T16:03:51.931Z"
   },
   {
    "duration": 314,
    "start_time": "2023-06-04T16:03:52.286Z"
   },
   {
    "duration": 380,
    "start_time": "2023-06-04T16:03:52.602Z"
   },
   {
    "duration": 182,
    "start_time": "2023-06-04T16:03:59.398Z"
   }
  ],
  "kernelspec": {
   "display_name": "Python 3 (ipykernel)",
   "language": "python",
   "name": "python3"
  },
  "language_info": {
   "codemirror_mode": {
    "name": "ipython",
    "version": 3
   },
   "file_extension": ".py",
   "mimetype": "text/x-python",
   "name": "python",
   "nbconvert_exporter": "python",
   "pygments_lexer": "ipython3",
   "version": "3.9.5"
  },
  "toc": {
   "base_numbering": 1,
   "nav_menu": {},
   "number_sections": true,
   "sideBar": true,
   "skip_h1_title": true,
   "title_cell": "Table of Contents",
   "title_sidebar": "Contents",
   "toc_cell": false,
   "toc_position": {
    "height": "510px",
    "left": "352px",
    "top": "111.125px",
    "width": "231px"
   },
   "toc_section_display": true,
   "toc_window_display": false
  }
 },
 "nbformat": 4,
 "nbformat_minor": 2
}
