{
 "cells": [
  {
   "cell_type": "markdown",
   "metadata": {
    "toc": true
   },
   "source": [
    "<h1>Содержание<span class=\"tocSkip\"></span></h1>\n",
    "<div class=\"toc\"><ul class=\"toc-item\"><li><span><a href=\"#Подготовка-данных\" data-toc-modified-id=\"Подготовка-данных-1\"><span class=\"toc-item-num\">1&nbsp;&nbsp;</span>Подготовка данных</a></span></li><li><span><a href=\"#Анализ-данных\" data-toc-modified-id=\"Анализ-данных-2\"><span class=\"toc-item-num\">2&nbsp;&nbsp;</span>Анализ данных</a></span></li><li><span><a href=\"#Модель\" data-toc-modified-id=\"Модель-3\"><span class=\"toc-item-num\">3&nbsp;&nbsp;</span>Модель</a></span></li><li><span><a href=\"#Вывод\" data-toc-modified-id=\"Вывод-4\"><span class=\"toc-item-num\">4&nbsp;&nbsp;</span>Вывод</a></span></li></ul></div>"
   ]
  },
  {
   "cell_type": "markdown",
   "metadata": {},
   "source": [
    "# Восстановление золота из руды"
   ]
  },
  {
   "cell_type": "markdown",
   "metadata": {},
   "source": [
    "Подготовить прототип модели машинного обучения для «Цифры». Компания разрабатывает решения для эффективной работы промышленных предприятий.\n",
    "\n",
    "Модель должна предсказать коэффициент восстановления золота из золотосодержащей руды. Используйте данные с параметрами добычи и очистки. \n",
    "\n",
    "Модель поможет оптимизировать производство, чтобы не запускать предприятие с убыточными характеристиками.\n",
    "\n",
    "План проекта:\n",
    "\n",
    "1. Подготовить данные;\n",
    "2. Провести исследовательский анализ данных;\n",
    "3. Построить и обучить модель."
   ]
  },
  {
   "cell_type": "markdown",
   "metadata": {},
   "source": [
    "## Подготовка данных"
   ]
  },
  {
   "cell_type": "code",
   "execution_count": 1,
   "metadata": {},
   "outputs": [],
   "source": [
    "# Импорт библиотек\n",
    "import pandas as pd\n",
    "\n",
    "import matplotlib.pyplot as plt\n",
    "\n",
    "import numpy as np\n",
    "\n",
    "import seaborn as sns\n",
    "\n",
    "from sklearn.dummy import DummyRegressor\n",
    "from sklearn.metrics import mean_absolute_error\n",
    "from sklearn.metrics import make_scorer\n",
    "from sklearn.model_selection import train_test_split\n",
    "from sklearn.model_selection import cross_val_score\n",
    "from sklearn.model_selection import GridSearchCV\n",
    "from sklearn.preprocessing import StandardScaler\n",
    "from sklearn.linear_model import LinearRegression\n",
    "from sklearn.tree import DecisionTreeRegressor\n",
    "from sklearn.ensemble import RandomForestRegressor\n",
    "\n",
    "from numpy.random import RandomState"
   ]
  },
  {
   "cell_type": "code",
   "execution_count": 2,
   "metadata": {},
   "outputs": [
    {
     "data": {
      "text/html": [
       "<div>\n",
       "<style scoped>\n",
       "    .dataframe tbody tr th:only-of-type {\n",
       "        vertical-align: middle;\n",
       "    }\n",
       "\n",
       "    .dataframe tbody tr th {\n",
       "        vertical-align: top;\n",
       "    }\n",
       "\n",
       "    .dataframe thead th {\n",
       "        text-align: right;\n",
       "    }\n",
       "</style>\n",
       "<table border=\"1\" class=\"dataframe\">\n",
       "  <thead>\n",
       "    <tr style=\"text-align: right;\">\n",
       "      <th></th>\n",
       "      <th>date</th>\n",
       "      <th>final.output.concentrate_ag</th>\n",
       "      <th>final.output.concentrate_pb</th>\n",
       "      <th>final.output.concentrate_sol</th>\n",
       "      <th>final.output.concentrate_au</th>\n",
       "      <th>final.output.recovery</th>\n",
       "      <th>final.output.tail_ag</th>\n",
       "      <th>final.output.tail_pb</th>\n",
       "      <th>final.output.tail_sol</th>\n",
       "      <th>final.output.tail_au</th>\n",
       "      <th>...</th>\n",
       "      <th>secondary_cleaner.state.floatbank4_a_air</th>\n",
       "      <th>secondary_cleaner.state.floatbank4_a_level</th>\n",
       "      <th>secondary_cleaner.state.floatbank4_b_air</th>\n",
       "      <th>secondary_cleaner.state.floatbank4_b_level</th>\n",
       "      <th>secondary_cleaner.state.floatbank5_a_air</th>\n",
       "      <th>secondary_cleaner.state.floatbank5_a_level</th>\n",
       "      <th>secondary_cleaner.state.floatbank5_b_air</th>\n",
       "      <th>secondary_cleaner.state.floatbank5_b_level</th>\n",
       "      <th>secondary_cleaner.state.floatbank6_a_air</th>\n",
       "      <th>secondary_cleaner.state.floatbank6_a_level</th>\n",
       "    </tr>\n",
       "  </thead>\n",
       "  <tbody>\n",
       "    <tr>\n",
       "      <th>0</th>\n",
       "      <td>2016-01-15 00:00:00</td>\n",
       "      <td>6.055403</td>\n",
       "      <td>9.889648</td>\n",
       "      <td>5.507324</td>\n",
       "      <td>42.192020</td>\n",
       "      <td>70.541216</td>\n",
       "      <td>10.411962</td>\n",
       "      <td>0.895447</td>\n",
       "      <td>16.904297</td>\n",
       "      <td>2.143149</td>\n",
       "      <td>...</td>\n",
       "      <td>14.016835</td>\n",
       "      <td>-502.488007</td>\n",
       "      <td>12.099931</td>\n",
       "      <td>-504.715942</td>\n",
       "      <td>9.925633</td>\n",
       "      <td>-498.310211</td>\n",
       "      <td>8.079666</td>\n",
       "      <td>-500.470978</td>\n",
       "      <td>14.151341</td>\n",
       "      <td>-605.841980</td>\n",
       "    </tr>\n",
       "    <tr>\n",
       "      <th>1</th>\n",
       "      <td>2016-01-15 01:00:00</td>\n",
       "      <td>6.029369</td>\n",
       "      <td>9.968944</td>\n",
       "      <td>5.257781</td>\n",
       "      <td>42.701629</td>\n",
       "      <td>69.266198</td>\n",
       "      <td>10.462676</td>\n",
       "      <td>0.927452</td>\n",
       "      <td>16.634514</td>\n",
       "      <td>2.224930</td>\n",
       "      <td>...</td>\n",
       "      <td>13.992281</td>\n",
       "      <td>-505.503262</td>\n",
       "      <td>11.950531</td>\n",
       "      <td>-501.331529</td>\n",
       "      <td>10.039245</td>\n",
       "      <td>-500.169983</td>\n",
       "      <td>7.984757</td>\n",
       "      <td>-500.582168</td>\n",
       "      <td>13.998353</td>\n",
       "      <td>-599.787184</td>\n",
       "    </tr>\n",
       "    <tr>\n",
       "      <th>2</th>\n",
       "      <td>2016-01-15 02:00:00</td>\n",
       "      <td>6.055926</td>\n",
       "      <td>10.213995</td>\n",
       "      <td>5.383759</td>\n",
       "      <td>42.657501</td>\n",
       "      <td>68.116445</td>\n",
       "      <td>10.507046</td>\n",
       "      <td>0.953716</td>\n",
       "      <td>16.208849</td>\n",
       "      <td>2.257889</td>\n",
       "      <td>...</td>\n",
       "      <td>14.015015</td>\n",
       "      <td>-502.520901</td>\n",
       "      <td>11.912783</td>\n",
       "      <td>-501.133383</td>\n",
       "      <td>10.070913</td>\n",
       "      <td>-500.129135</td>\n",
       "      <td>8.013877</td>\n",
       "      <td>-500.517572</td>\n",
       "      <td>14.028663</td>\n",
       "      <td>-601.427363</td>\n",
       "    </tr>\n",
       "    <tr>\n",
       "      <th>3</th>\n",
       "      <td>2016-01-15 03:00:00</td>\n",
       "      <td>6.047977</td>\n",
       "      <td>9.977019</td>\n",
       "      <td>4.858634</td>\n",
       "      <td>42.689819</td>\n",
       "      <td>68.347543</td>\n",
       "      <td>10.422762</td>\n",
       "      <td>0.883763</td>\n",
       "      <td>16.532835</td>\n",
       "      <td>2.146849</td>\n",
       "      <td>...</td>\n",
       "      <td>14.036510</td>\n",
       "      <td>-500.857308</td>\n",
       "      <td>11.999550</td>\n",
       "      <td>-501.193686</td>\n",
       "      <td>9.970366</td>\n",
       "      <td>-499.201640</td>\n",
       "      <td>7.977324</td>\n",
       "      <td>-500.255908</td>\n",
       "      <td>14.005551</td>\n",
       "      <td>-599.996129</td>\n",
       "    </tr>\n",
       "    <tr>\n",
       "      <th>4</th>\n",
       "      <td>2016-01-15 04:00:00</td>\n",
       "      <td>6.148599</td>\n",
       "      <td>10.142511</td>\n",
       "      <td>4.939416</td>\n",
       "      <td>42.774141</td>\n",
       "      <td>66.927016</td>\n",
       "      <td>10.360302</td>\n",
       "      <td>0.792826</td>\n",
       "      <td>16.525686</td>\n",
       "      <td>2.055292</td>\n",
       "      <td>...</td>\n",
       "      <td>14.027298</td>\n",
       "      <td>-499.838632</td>\n",
       "      <td>11.953070</td>\n",
       "      <td>-501.053894</td>\n",
       "      <td>9.925709</td>\n",
       "      <td>-501.686727</td>\n",
       "      <td>7.894242</td>\n",
       "      <td>-500.356035</td>\n",
       "      <td>13.996647</td>\n",
       "      <td>-601.496691</td>\n",
       "    </tr>\n",
       "    <tr>\n",
       "      <th>5</th>\n",
       "      <td>2016-01-15 05:00:00</td>\n",
       "      <td>6.482968</td>\n",
       "      <td>10.049416</td>\n",
       "      <td>5.480257</td>\n",
       "      <td>41.633678</td>\n",
       "      <td>69.465816</td>\n",
       "      <td>10.182708</td>\n",
       "      <td>0.664118</td>\n",
       "      <td>16.999638</td>\n",
       "      <td>1.918586</td>\n",
       "      <td>...</td>\n",
       "      <td>13.938497</td>\n",
       "      <td>-500.970168</td>\n",
       "      <td>11.883350</td>\n",
       "      <td>-500.395298</td>\n",
       "      <td>10.054147</td>\n",
       "      <td>-496.374715</td>\n",
       "      <td>7.965083</td>\n",
       "      <td>-499.364752</td>\n",
       "      <td>14.017067</td>\n",
       "      <td>-599.707915</td>\n",
       "    </tr>\n",
       "    <tr>\n",
       "      <th>6</th>\n",
       "      <td>2016-01-15 06:00:00</td>\n",
       "      <td>6.533849</td>\n",
       "      <td>10.058141</td>\n",
       "      <td>4.569100</td>\n",
       "      <td>41.995316</td>\n",
       "      <td>69.300835</td>\n",
       "      <td>10.304598</td>\n",
       "      <td>0.807342</td>\n",
       "      <td>16.723575</td>\n",
       "      <td>2.058913</td>\n",
       "      <td>...</td>\n",
       "      <td>14.046819</td>\n",
       "      <td>-500.971133</td>\n",
       "      <td>12.091543</td>\n",
       "      <td>-500.501426</td>\n",
       "      <td>10.003247</td>\n",
       "      <td>-497.083180</td>\n",
       "      <td>8.010890</td>\n",
       "      <td>-500.002423</td>\n",
       "      <td>14.029649</td>\n",
       "      <td>-600.905470</td>\n",
       "    </tr>\n",
       "    <tr>\n",
       "      <th>7</th>\n",
       "      <td>2016-01-15 07:00:00</td>\n",
       "      <td>6.130823</td>\n",
       "      <td>9.935481</td>\n",
       "      <td>4.389813</td>\n",
       "      <td>42.452727</td>\n",
       "      <td>70.230976</td>\n",
       "      <td>10.443288</td>\n",
       "      <td>0.949346</td>\n",
       "      <td>16.689959</td>\n",
       "      <td>2.143437</td>\n",
       "      <td>...</td>\n",
       "      <td>13.974691</td>\n",
       "      <td>-501.819696</td>\n",
       "      <td>12.101324</td>\n",
       "      <td>-500.583446</td>\n",
       "      <td>9.873169</td>\n",
       "      <td>-499.171928</td>\n",
       "      <td>7.993381</td>\n",
       "      <td>-499.794518</td>\n",
       "      <td>13.984498</td>\n",
       "      <td>-600.411070</td>\n",
       "    </tr>\n",
       "    <tr>\n",
       "      <th>8</th>\n",
       "      <td>2016-01-15 08:00:00</td>\n",
       "      <td>5.834140</td>\n",
       "      <td>10.071156</td>\n",
       "      <td>4.876389</td>\n",
       "      <td>43.404078</td>\n",
       "      <td>69.688595</td>\n",
       "      <td>10.420140</td>\n",
       "      <td>1.065453</td>\n",
       "      <td>17.201948</td>\n",
       "      <td>2.209881</td>\n",
       "      <td>...</td>\n",
       "      <td>13.964030</td>\n",
       "      <td>-504.252450</td>\n",
       "      <td>12.060738</td>\n",
       "      <td>-501.174549</td>\n",
       "      <td>10.033838</td>\n",
       "      <td>-501.178133</td>\n",
       "      <td>7.881604</td>\n",
       "      <td>-499.729434</td>\n",
       "      <td>13.967135</td>\n",
       "      <td>-599.061188</td>\n",
       "    </tr>\n",
       "    <tr>\n",
       "      <th>9</th>\n",
       "      <td>2016-01-15 09:00:00</td>\n",
       "      <td>5.687063</td>\n",
       "      <td>9.980404</td>\n",
       "      <td>5.282514</td>\n",
       "      <td>43.235220</td>\n",
       "      <td>70.279619</td>\n",
       "      <td>10.487013</td>\n",
       "      <td>1.159805</td>\n",
       "      <td>17.483979</td>\n",
       "      <td>2.209593</td>\n",
       "      <td>...</td>\n",
       "      <td>13.989632</td>\n",
       "      <td>-503.195299</td>\n",
       "      <td>12.052233</td>\n",
       "      <td>-500.928547</td>\n",
       "      <td>9.962574</td>\n",
       "      <td>-502.986357</td>\n",
       "      <td>7.979219</td>\n",
       "      <td>-500.146835</td>\n",
       "      <td>13.981614</td>\n",
       "      <td>-598.070855</td>\n",
       "    </tr>\n",
       "  </tbody>\n",
       "</table>\n",
       "<p>10 rows × 87 columns</p>\n",
       "</div>"
      ],
      "text/plain": [
       "                  date  final.output.concentrate_ag  \\\n",
       "0  2016-01-15 00:00:00                     6.055403   \n",
       "1  2016-01-15 01:00:00                     6.029369   \n",
       "2  2016-01-15 02:00:00                     6.055926   \n",
       "3  2016-01-15 03:00:00                     6.047977   \n",
       "4  2016-01-15 04:00:00                     6.148599   \n",
       "5  2016-01-15 05:00:00                     6.482968   \n",
       "6  2016-01-15 06:00:00                     6.533849   \n",
       "7  2016-01-15 07:00:00                     6.130823   \n",
       "8  2016-01-15 08:00:00                     5.834140   \n",
       "9  2016-01-15 09:00:00                     5.687063   \n",
       "\n",
       "   final.output.concentrate_pb  final.output.concentrate_sol  \\\n",
       "0                     9.889648                      5.507324   \n",
       "1                     9.968944                      5.257781   \n",
       "2                    10.213995                      5.383759   \n",
       "3                     9.977019                      4.858634   \n",
       "4                    10.142511                      4.939416   \n",
       "5                    10.049416                      5.480257   \n",
       "6                    10.058141                      4.569100   \n",
       "7                     9.935481                      4.389813   \n",
       "8                    10.071156                      4.876389   \n",
       "9                     9.980404                      5.282514   \n",
       "\n",
       "   final.output.concentrate_au  final.output.recovery  final.output.tail_ag  \\\n",
       "0                    42.192020              70.541216             10.411962   \n",
       "1                    42.701629              69.266198             10.462676   \n",
       "2                    42.657501              68.116445             10.507046   \n",
       "3                    42.689819              68.347543             10.422762   \n",
       "4                    42.774141              66.927016             10.360302   \n",
       "5                    41.633678              69.465816             10.182708   \n",
       "6                    41.995316              69.300835             10.304598   \n",
       "7                    42.452727              70.230976             10.443288   \n",
       "8                    43.404078              69.688595             10.420140   \n",
       "9                    43.235220              70.279619             10.487013   \n",
       "\n",
       "   final.output.tail_pb  final.output.tail_sol  final.output.tail_au  ...  \\\n",
       "0              0.895447              16.904297              2.143149  ...   \n",
       "1              0.927452              16.634514              2.224930  ...   \n",
       "2              0.953716              16.208849              2.257889  ...   \n",
       "3              0.883763              16.532835              2.146849  ...   \n",
       "4              0.792826              16.525686              2.055292  ...   \n",
       "5              0.664118              16.999638              1.918586  ...   \n",
       "6              0.807342              16.723575              2.058913  ...   \n",
       "7              0.949346              16.689959              2.143437  ...   \n",
       "8              1.065453              17.201948              2.209881  ...   \n",
       "9              1.159805              17.483979              2.209593  ...   \n",
       "\n",
       "   secondary_cleaner.state.floatbank4_a_air  \\\n",
       "0                                 14.016835   \n",
       "1                                 13.992281   \n",
       "2                                 14.015015   \n",
       "3                                 14.036510   \n",
       "4                                 14.027298   \n",
       "5                                 13.938497   \n",
       "6                                 14.046819   \n",
       "7                                 13.974691   \n",
       "8                                 13.964030   \n",
       "9                                 13.989632   \n",
       "\n",
       "   secondary_cleaner.state.floatbank4_a_level  \\\n",
       "0                                 -502.488007   \n",
       "1                                 -505.503262   \n",
       "2                                 -502.520901   \n",
       "3                                 -500.857308   \n",
       "4                                 -499.838632   \n",
       "5                                 -500.970168   \n",
       "6                                 -500.971133   \n",
       "7                                 -501.819696   \n",
       "8                                 -504.252450   \n",
       "9                                 -503.195299   \n",
       "\n",
       "   secondary_cleaner.state.floatbank4_b_air  \\\n",
       "0                                 12.099931   \n",
       "1                                 11.950531   \n",
       "2                                 11.912783   \n",
       "3                                 11.999550   \n",
       "4                                 11.953070   \n",
       "5                                 11.883350   \n",
       "6                                 12.091543   \n",
       "7                                 12.101324   \n",
       "8                                 12.060738   \n",
       "9                                 12.052233   \n",
       "\n",
       "   secondary_cleaner.state.floatbank4_b_level  \\\n",
       "0                                 -504.715942   \n",
       "1                                 -501.331529   \n",
       "2                                 -501.133383   \n",
       "3                                 -501.193686   \n",
       "4                                 -501.053894   \n",
       "5                                 -500.395298   \n",
       "6                                 -500.501426   \n",
       "7                                 -500.583446   \n",
       "8                                 -501.174549   \n",
       "9                                 -500.928547   \n",
       "\n",
       "   secondary_cleaner.state.floatbank5_a_air  \\\n",
       "0                                  9.925633   \n",
       "1                                 10.039245   \n",
       "2                                 10.070913   \n",
       "3                                  9.970366   \n",
       "4                                  9.925709   \n",
       "5                                 10.054147   \n",
       "6                                 10.003247   \n",
       "7                                  9.873169   \n",
       "8                                 10.033838   \n",
       "9                                  9.962574   \n",
       "\n",
       "   secondary_cleaner.state.floatbank5_a_level  \\\n",
       "0                                 -498.310211   \n",
       "1                                 -500.169983   \n",
       "2                                 -500.129135   \n",
       "3                                 -499.201640   \n",
       "4                                 -501.686727   \n",
       "5                                 -496.374715   \n",
       "6                                 -497.083180   \n",
       "7                                 -499.171928   \n",
       "8                                 -501.178133   \n",
       "9                                 -502.986357   \n",
       "\n",
       "   secondary_cleaner.state.floatbank5_b_air  \\\n",
       "0                                  8.079666   \n",
       "1                                  7.984757   \n",
       "2                                  8.013877   \n",
       "3                                  7.977324   \n",
       "4                                  7.894242   \n",
       "5                                  7.965083   \n",
       "6                                  8.010890   \n",
       "7                                  7.993381   \n",
       "8                                  7.881604   \n",
       "9                                  7.979219   \n",
       "\n",
       "   secondary_cleaner.state.floatbank5_b_level  \\\n",
       "0                                 -500.470978   \n",
       "1                                 -500.582168   \n",
       "2                                 -500.517572   \n",
       "3                                 -500.255908   \n",
       "4                                 -500.356035   \n",
       "5                                 -499.364752   \n",
       "6                                 -500.002423   \n",
       "7                                 -499.794518   \n",
       "8                                 -499.729434   \n",
       "9                                 -500.146835   \n",
       "\n",
       "   secondary_cleaner.state.floatbank6_a_air  \\\n",
       "0                                 14.151341   \n",
       "1                                 13.998353   \n",
       "2                                 14.028663   \n",
       "3                                 14.005551   \n",
       "4                                 13.996647   \n",
       "5                                 14.017067   \n",
       "6                                 14.029649   \n",
       "7                                 13.984498   \n",
       "8                                 13.967135   \n",
       "9                                 13.981614   \n",
       "\n",
       "   secondary_cleaner.state.floatbank6_a_level  \n",
       "0                                 -605.841980  \n",
       "1                                 -599.787184  \n",
       "2                                 -601.427363  \n",
       "3                                 -599.996129  \n",
       "4                                 -601.496691  \n",
       "5                                 -599.707915  \n",
       "6                                 -600.905470  \n",
       "7                                 -600.411070  \n",
       "8                                 -599.061188  \n",
       "9                                 -598.070855  \n",
       "\n",
       "[10 rows x 87 columns]"
      ]
     },
     "execution_count": 2,
     "metadata": {},
     "output_type": "execute_result"
    }
   ],
   "source": [
    "# Откроем файл с обучающей выборкой\n",
    "df_train = pd.read_csv('/datasets/gold_recovery_train_new.csv')\n",
    "df_train.head(10) # вывод первых 10 строк"
   ]
  },
  {
   "cell_type": "code",
   "execution_count": 3,
   "metadata": {},
   "outputs": [
    {
     "name": "stdout",
     "output_type": "stream",
     "text": [
      "<class 'pandas.core.frame.DataFrame'>\n",
      "RangeIndex: 14149 entries, 0 to 14148\n",
      "Data columns (total 87 columns):\n",
      " #   Column                                              Non-Null Count  Dtype  \n",
      "---  ------                                              --------------  -----  \n",
      " 0   date                                                14149 non-null  object \n",
      " 1   final.output.concentrate_ag                         14148 non-null  float64\n",
      " 2   final.output.concentrate_pb                         14148 non-null  float64\n",
      " 3   final.output.concentrate_sol                        13938 non-null  float64\n",
      " 4   final.output.concentrate_au                         14149 non-null  float64\n",
      " 5   final.output.recovery                               14149 non-null  float64\n",
      " 6   final.output.tail_ag                                14149 non-null  float64\n",
      " 7   final.output.tail_pb                                14049 non-null  float64\n",
      " 8   final.output.tail_sol                               14144 non-null  float64\n",
      " 9   final.output.tail_au                                14149 non-null  float64\n",
      " 10  primary_cleaner.input.sulfate                       14129 non-null  float64\n",
      " 11  primary_cleaner.input.depressant                    14117 non-null  float64\n",
      " 12  primary_cleaner.input.feed_size                     14149 non-null  float64\n",
      " 13  primary_cleaner.input.xanthate                      14049 non-null  float64\n",
      " 14  primary_cleaner.output.concentrate_ag               14149 non-null  float64\n",
      " 15  primary_cleaner.output.concentrate_pb               14063 non-null  float64\n",
      " 16  primary_cleaner.output.concentrate_sol              13863 non-null  float64\n",
      " 17  primary_cleaner.output.concentrate_au               14149 non-null  float64\n",
      " 18  primary_cleaner.output.tail_ag                      14148 non-null  float64\n",
      " 19  primary_cleaner.output.tail_pb                      14134 non-null  float64\n",
      " 20  primary_cleaner.output.tail_sol                     14103 non-null  float64\n",
      " 21  primary_cleaner.output.tail_au                      14149 non-null  float64\n",
      " 22  primary_cleaner.state.floatbank8_a_air              14145 non-null  float64\n",
      " 23  primary_cleaner.state.floatbank8_a_level            14148 non-null  float64\n",
      " 24  primary_cleaner.state.floatbank8_b_air              14145 non-null  float64\n",
      " 25  primary_cleaner.state.floatbank8_b_level            14148 non-null  float64\n",
      " 26  primary_cleaner.state.floatbank8_c_air              14147 non-null  float64\n",
      " 27  primary_cleaner.state.floatbank8_c_level            14148 non-null  float64\n",
      " 28  primary_cleaner.state.floatbank8_d_air              14146 non-null  float64\n",
      " 29  primary_cleaner.state.floatbank8_d_level            14148 non-null  float64\n",
      " 30  rougher.calculation.sulfate_to_au_concentrate       14148 non-null  float64\n",
      " 31  rougher.calculation.floatbank10_sulfate_to_au_feed  14148 non-null  float64\n",
      " 32  rougher.calculation.floatbank11_sulfate_to_au_feed  14148 non-null  float64\n",
      " 33  rougher.calculation.au_pb_ratio                     14149 non-null  float64\n",
      " 34  rougher.input.feed_ag                               14149 non-null  float64\n",
      " 35  rougher.input.feed_pb                               14049 non-null  float64\n",
      " 36  rougher.input.feed_rate                             14141 non-null  float64\n",
      " 37  rougher.input.feed_size                             14005 non-null  float64\n",
      " 38  rougher.input.feed_sol                              14071 non-null  float64\n",
      " 39  rougher.input.feed_au                               14149 non-null  float64\n",
      " 40  rougher.input.floatbank10_sulfate                   14120 non-null  float64\n",
      " 41  rougher.input.floatbank10_xanthate                  14141 non-null  float64\n",
      " 42  rougher.input.floatbank11_sulfate                   14113 non-null  float64\n",
      " 43  rougher.input.floatbank11_xanthate                  13721 non-null  float64\n",
      " 44  rougher.output.concentrate_ag                       14149 non-null  float64\n",
      " 45  rougher.output.concentrate_pb                       14149 non-null  float64\n",
      " 46  rougher.output.concentrate_sol                      14127 non-null  float64\n",
      " 47  rougher.output.concentrate_au                       14149 non-null  float64\n",
      " 48  rougher.output.recovery                             14149 non-null  float64\n",
      " 49  rougher.output.tail_ag                              14148 non-null  float64\n",
      " 50  rougher.output.tail_pb                              14149 non-null  float64\n",
      " 51  rougher.output.tail_sol                             14149 non-null  float64\n",
      " 52  rougher.output.tail_au                              14149 non-null  float64\n",
      " 53  rougher.state.floatbank10_a_air                     14148 non-null  float64\n",
      " 54  rougher.state.floatbank10_a_level                   14148 non-null  float64\n",
      " 55  rougher.state.floatbank10_b_air                     14148 non-null  float64\n",
      " 56  rougher.state.floatbank10_b_level                   14148 non-null  float64\n",
      " 57  rougher.state.floatbank10_c_air                     14148 non-null  float64\n",
      " 58  rougher.state.floatbank10_c_level                   14148 non-null  float64\n",
      " 59  rougher.state.floatbank10_d_air                     14149 non-null  float64\n",
      " 60  rougher.state.floatbank10_d_level                   14149 non-null  float64\n",
      " 61  rougher.state.floatbank10_e_air                     13713 non-null  float64\n",
      " 62  rougher.state.floatbank10_e_level                   14149 non-null  float64\n",
      " 63  rougher.state.floatbank10_f_air                     14149 non-null  float64\n",
      " 64  rougher.state.floatbank10_f_level                   14149 non-null  float64\n",
      " 65  secondary_cleaner.output.tail_ag                    14147 non-null  float64\n",
      " 66  secondary_cleaner.output.tail_pb                    14139 non-null  float64\n",
      " 67  secondary_cleaner.output.tail_sol                   12544 non-null  float64\n",
      " 68  secondary_cleaner.output.tail_au                    14149 non-null  float64\n",
      " 69  secondary_cleaner.state.floatbank2_a_air            13932 non-null  float64\n",
      " 70  secondary_cleaner.state.floatbank2_a_level          14148 non-null  float64\n",
      " 71  secondary_cleaner.state.floatbank2_b_air            14128 non-null  float64\n",
      " 72  secondary_cleaner.state.floatbank2_b_level          14148 non-null  float64\n",
      " 73  secondary_cleaner.state.floatbank3_a_air            14145 non-null  float64\n",
      " 74  secondary_cleaner.state.floatbank3_a_level          14148 non-null  float64\n",
      " 75  secondary_cleaner.state.floatbank3_b_air            14148 non-null  float64\n",
      " 76  secondary_cleaner.state.floatbank3_b_level          14148 non-null  float64\n",
      " 77  secondary_cleaner.state.floatbank4_a_air            14143 non-null  float64\n",
      " 78  secondary_cleaner.state.floatbank4_a_level          14148 non-null  float64\n",
      " 79  secondary_cleaner.state.floatbank4_b_air            14148 non-null  float64\n",
      " 80  secondary_cleaner.state.floatbank4_b_level          14148 non-null  float64\n",
      " 81  secondary_cleaner.state.floatbank5_a_air            14148 non-null  float64\n",
      " 82  secondary_cleaner.state.floatbank5_a_level          14148 non-null  float64\n",
      " 83  secondary_cleaner.state.floatbank5_b_air            14148 non-null  float64\n",
      " 84  secondary_cleaner.state.floatbank5_b_level          14148 non-null  float64\n",
      " 85  secondary_cleaner.state.floatbank6_a_air            14147 non-null  float64\n",
      " 86  secondary_cleaner.state.floatbank6_a_level          14148 non-null  float64\n",
      "dtypes: float64(86), object(1)\n",
      "memory usage: 9.4+ MB\n"
     ]
    }
   ],
   "source": [
    "# вывод общей информации\n",
    "df_train.info()"
   ]
  },
  {
   "cell_type": "code",
   "execution_count": 4,
   "metadata": {},
   "outputs": [
    {
     "data": {
      "text/plain": [
       "0"
      ]
     },
     "execution_count": 4,
     "metadata": {},
     "output_type": "execute_result"
    }
   ],
   "source": [
    "# проверка на дубликаты\n",
    "df_train.duplicated().sum()"
   ]
  },
  {
   "cell_type": "markdown",
   "metadata": {},
   "source": [
    "Можно было бы изменить тип столбца date, но вскоре он будет удален. Так же во многих стоолбцах заметны пропуски, их достаточно мало, можно их удалить. Явных дубликатов не найдено."
   ]
  },
  {
   "cell_type": "markdown",
   "metadata": {},
   "source": [
    "Проверим, что эффективность обогащения рассчитана правильно. Обучим модель линейной регрессии и узнаем MAE для rougher.output.recovery"
   ]
  },
  {
   "cell_type": "code",
   "execution_count": 5,
   "metadata": {},
   "outputs": [
    {
     "data": {
      "text/html": [
       "<div>\n",
       "<style scoped>\n",
       "    .dataframe tbody tr th:only-of-type {\n",
       "        vertical-align: middle;\n",
       "    }\n",
       "\n",
       "    .dataframe tbody tr th {\n",
       "        vertical-align: top;\n",
       "    }\n",
       "\n",
       "    .dataframe thead th {\n",
       "        text-align: right;\n",
       "    }\n",
       "</style>\n",
       "<table border=\"1\" class=\"dataframe\">\n",
       "  <thead>\n",
       "    <tr style=\"text-align: right;\">\n",
       "      <th></th>\n",
       "      <th>date</th>\n",
       "      <th>primary_cleaner.input.sulfate</th>\n",
       "      <th>primary_cleaner.input.depressant</th>\n",
       "      <th>primary_cleaner.input.feed_size</th>\n",
       "      <th>primary_cleaner.input.xanthate</th>\n",
       "      <th>primary_cleaner.state.floatbank8_a_air</th>\n",
       "      <th>primary_cleaner.state.floatbank8_a_level</th>\n",
       "      <th>primary_cleaner.state.floatbank8_b_air</th>\n",
       "      <th>primary_cleaner.state.floatbank8_b_level</th>\n",
       "      <th>primary_cleaner.state.floatbank8_c_air</th>\n",
       "      <th>...</th>\n",
       "      <th>secondary_cleaner.state.floatbank4_a_air</th>\n",
       "      <th>secondary_cleaner.state.floatbank4_a_level</th>\n",
       "      <th>secondary_cleaner.state.floatbank4_b_air</th>\n",
       "      <th>secondary_cleaner.state.floatbank4_b_level</th>\n",
       "      <th>secondary_cleaner.state.floatbank5_a_air</th>\n",
       "      <th>secondary_cleaner.state.floatbank5_a_level</th>\n",
       "      <th>secondary_cleaner.state.floatbank5_b_air</th>\n",
       "      <th>secondary_cleaner.state.floatbank5_b_level</th>\n",
       "      <th>secondary_cleaner.state.floatbank6_a_air</th>\n",
       "      <th>secondary_cleaner.state.floatbank6_a_level</th>\n",
       "    </tr>\n",
       "  </thead>\n",
       "  <tbody>\n",
       "    <tr>\n",
       "      <th>0</th>\n",
       "      <td>2016-09-01 00:59:59</td>\n",
       "      <td>210.800909</td>\n",
       "      <td>14.993118</td>\n",
       "      <td>8.080000</td>\n",
       "      <td>1.005021</td>\n",
       "      <td>1398.981301</td>\n",
       "      <td>-500.225577</td>\n",
       "      <td>1399.144926</td>\n",
       "      <td>-499.919735</td>\n",
       "      <td>1400.102998</td>\n",
       "      <td>...</td>\n",
       "      <td>12.023554</td>\n",
       "      <td>-497.795834</td>\n",
       "      <td>8.016656</td>\n",
       "      <td>-501.289139</td>\n",
       "      <td>7.946562</td>\n",
       "      <td>-432.317850</td>\n",
       "      <td>4.872511</td>\n",
       "      <td>-500.037437</td>\n",
       "      <td>26.705889</td>\n",
       "      <td>-499.709414</td>\n",
       "    </tr>\n",
       "    <tr>\n",
       "      <th>1</th>\n",
       "      <td>2016-09-01 01:59:59</td>\n",
       "      <td>215.392455</td>\n",
       "      <td>14.987471</td>\n",
       "      <td>8.080000</td>\n",
       "      <td>0.990469</td>\n",
       "      <td>1398.777912</td>\n",
       "      <td>-500.057435</td>\n",
       "      <td>1398.055362</td>\n",
       "      <td>-499.778182</td>\n",
       "      <td>1396.151033</td>\n",
       "      <td>...</td>\n",
       "      <td>12.058140</td>\n",
       "      <td>-498.695773</td>\n",
       "      <td>8.130979</td>\n",
       "      <td>-499.634209</td>\n",
       "      <td>7.958270</td>\n",
       "      <td>-525.839648</td>\n",
       "      <td>4.878850</td>\n",
       "      <td>-500.162375</td>\n",
       "      <td>25.019940</td>\n",
       "      <td>-499.819438</td>\n",
       "    </tr>\n",
       "    <tr>\n",
       "      <th>2</th>\n",
       "      <td>2016-09-01 02:59:59</td>\n",
       "      <td>215.259946</td>\n",
       "      <td>12.884934</td>\n",
       "      <td>7.786667</td>\n",
       "      <td>0.996043</td>\n",
       "      <td>1398.493666</td>\n",
       "      <td>-500.868360</td>\n",
       "      <td>1398.860436</td>\n",
       "      <td>-499.764529</td>\n",
       "      <td>1398.075709</td>\n",
       "      <td>...</td>\n",
       "      <td>11.962366</td>\n",
       "      <td>-498.767484</td>\n",
       "      <td>8.096893</td>\n",
       "      <td>-500.827423</td>\n",
       "      <td>8.071056</td>\n",
       "      <td>-500.801673</td>\n",
       "      <td>4.905125</td>\n",
       "      <td>-499.828510</td>\n",
       "      <td>24.994862</td>\n",
       "      <td>-500.622559</td>\n",
       "    </tr>\n",
       "    <tr>\n",
       "      <th>3</th>\n",
       "      <td>2016-09-01 03:59:59</td>\n",
       "      <td>215.336236</td>\n",
       "      <td>12.006805</td>\n",
       "      <td>7.640000</td>\n",
       "      <td>0.863514</td>\n",
       "      <td>1399.618111</td>\n",
       "      <td>-498.863574</td>\n",
       "      <td>1397.440120</td>\n",
       "      <td>-499.211024</td>\n",
       "      <td>1400.129303</td>\n",
       "      <td>...</td>\n",
       "      <td>12.033091</td>\n",
       "      <td>-498.350935</td>\n",
       "      <td>8.074946</td>\n",
       "      <td>-499.474407</td>\n",
       "      <td>7.897085</td>\n",
       "      <td>-500.868509</td>\n",
       "      <td>4.931400</td>\n",
       "      <td>-499.963623</td>\n",
       "      <td>24.948919</td>\n",
       "      <td>-498.709987</td>\n",
       "    </tr>\n",
       "    <tr>\n",
       "      <th>4</th>\n",
       "      <td>2016-09-01 04:59:59</td>\n",
       "      <td>199.099327</td>\n",
       "      <td>10.682530</td>\n",
       "      <td>7.530000</td>\n",
       "      <td>0.805575</td>\n",
       "      <td>1401.268123</td>\n",
       "      <td>-500.808305</td>\n",
       "      <td>1398.128818</td>\n",
       "      <td>-499.504543</td>\n",
       "      <td>1402.172226</td>\n",
       "      <td>...</td>\n",
       "      <td>12.025367</td>\n",
       "      <td>-500.786497</td>\n",
       "      <td>8.054678</td>\n",
       "      <td>-500.397500</td>\n",
       "      <td>8.107890</td>\n",
       "      <td>-509.526725</td>\n",
       "      <td>4.957674</td>\n",
       "      <td>-500.360026</td>\n",
       "      <td>25.003331</td>\n",
       "      <td>-500.856333</td>\n",
       "    </tr>\n",
       "    <tr>\n",
       "      <th>5</th>\n",
       "      <td>2016-09-01 05:59:59</td>\n",
       "      <td>168.485085</td>\n",
       "      <td>8.817007</td>\n",
       "      <td>7.420000</td>\n",
       "      <td>0.791191</td>\n",
       "      <td>1402.826803</td>\n",
       "      <td>-499.299521</td>\n",
       "      <td>1401.511119</td>\n",
       "      <td>-499.205357</td>\n",
       "      <td>1404.088107</td>\n",
       "      <td>...</td>\n",
       "      <td>12.029797</td>\n",
       "      <td>-499.814895</td>\n",
       "      <td>8.036586</td>\n",
       "      <td>-500.371492</td>\n",
       "      <td>8.041446</td>\n",
       "      <td>-510.037054</td>\n",
       "      <td>4.983949</td>\n",
       "      <td>-499.990990</td>\n",
       "      <td>24.978973</td>\n",
       "      <td>-500.475640</td>\n",
       "    </tr>\n",
       "    <tr>\n",
       "      <th>6</th>\n",
       "      <td>2016-09-01 06:59:59</td>\n",
       "      <td>144.133440</td>\n",
       "      <td>7.924610</td>\n",
       "      <td>7.420000</td>\n",
       "      <td>0.788838</td>\n",
       "      <td>1398.252401</td>\n",
       "      <td>-499.748672</td>\n",
       "      <td>1393.255503</td>\n",
       "      <td>-499.195380</td>\n",
       "      <td>1396.738566</td>\n",
       "      <td>...</td>\n",
       "      <td>12.026296</td>\n",
       "      <td>-499.473127</td>\n",
       "      <td>8.027984</td>\n",
       "      <td>-500.983079</td>\n",
       "      <td>7.907340</td>\n",
       "      <td>-507.964971</td>\n",
       "      <td>5.010224</td>\n",
       "      <td>-500.043697</td>\n",
       "      <td>25.040709</td>\n",
       "      <td>-499.501984</td>\n",
       "    </tr>\n",
       "    <tr>\n",
       "      <th>7</th>\n",
       "      <td>2016-09-01 07:59:59</td>\n",
       "      <td>133.513396</td>\n",
       "      <td>8.055252</td>\n",
       "      <td>6.988000</td>\n",
       "      <td>0.801871</td>\n",
       "      <td>1401.669677</td>\n",
       "      <td>-501.777839</td>\n",
       "      <td>1400.754446</td>\n",
       "      <td>-502.514024</td>\n",
       "      <td>1400.465244</td>\n",
       "      <td>...</td>\n",
       "      <td>12.040911</td>\n",
       "      <td>-501.293852</td>\n",
       "      <td>8.020490</td>\n",
       "      <td>-499.185229</td>\n",
       "      <td>8.116897</td>\n",
       "      <td>-511.927561</td>\n",
       "      <td>5.036498</td>\n",
       "      <td>-500.149615</td>\n",
       "      <td>25.032580</td>\n",
       "      <td>-503.970657</td>\n",
       "    </tr>\n",
       "    <tr>\n",
       "      <th>8</th>\n",
       "      <td>2016-09-01 08:59:59</td>\n",
       "      <td>133.735356</td>\n",
       "      <td>7.999618</td>\n",
       "      <td>6.935000</td>\n",
       "      <td>0.789329</td>\n",
       "      <td>1402.358981</td>\n",
       "      <td>-499.981597</td>\n",
       "      <td>1400.985954</td>\n",
       "      <td>-496.802968</td>\n",
       "      <td>1401.168584</td>\n",
       "      <td>...</td>\n",
       "      <td>11.998184</td>\n",
       "      <td>-499.481608</td>\n",
       "      <td>8.012610</td>\n",
       "      <td>-500.896783</td>\n",
       "      <td>7.974422</td>\n",
       "      <td>-521.199104</td>\n",
       "      <td>5.061599</td>\n",
       "      <td>-499.791519</td>\n",
       "      <td>25.005063</td>\n",
       "      <td>-497.613716</td>\n",
       "    </tr>\n",
       "    <tr>\n",
       "      <th>9</th>\n",
       "      <td>2016-09-01 09:59:59</td>\n",
       "      <td>126.961069</td>\n",
       "      <td>8.017856</td>\n",
       "      <td>7.030000</td>\n",
       "      <td>0.805298</td>\n",
       "      <td>1400.816120</td>\n",
       "      <td>-499.014158</td>\n",
       "      <td>1399.975401</td>\n",
       "      <td>-499.570552</td>\n",
       "      <td>1401.871924</td>\n",
       "      <td>...</td>\n",
       "      <td>12.040725</td>\n",
       "      <td>-499.987743</td>\n",
       "      <td>7.989503</td>\n",
       "      <td>-499.750625</td>\n",
       "      <td>7.989710</td>\n",
       "      <td>-509.946737</td>\n",
       "      <td>5.068811</td>\n",
       "      <td>-499.293900</td>\n",
       "      <td>24.992741</td>\n",
       "      <td>-499.272255</td>\n",
       "    </tr>\n",
       "  </tbody>\n",
       "</table>\n",
       "<p>10 rows × 53 columns</p>\n",
       "</div>"
      ],
      "text/plain": [
       "                  date  primary_cleaner.input.sulfate  \\\n",
       "0  2016-09-01 00:59:59                     210.800909   \n",
       "1  2016-09-01 01:59:59                     215.392455   \n",
       "2  2016-09-01 02:59:59                     215.259946   \n",
       "3  2016-09-01 03:59:59                     215.336236   \n",
       "4  2016-09-01 04:59:59                     199.099327   \n",
       "5  2016-09-01 05:59:59                     168.485085   \n",
       "6  2016-09-01 06:59:59                     144.133440   \n",
       "7  2016-09-01 07:59:59                     133.513396   \n",
       "8  2016-09-01 08:59:59                     133.735356   \n",
       "9  2016-09-01 09:59:59                     126.961069   \n",
       "\n",
       "   primary_cleaner.input.depressant  primary_cleaner.input.feed_size  \\\n",
       "0                         14.993118                         8.080000   \n",
       "1                         14.987471                         8.080000   \n",
       "2                         12.884934                         7.786667   \n",
       "3                         12.006805                         7.640000   \n",
       "4                         10.682530                         7.530000   \n",
       "5                          8.817007                         7.420000   \n",
       "6                          7.924610                         7.420000   \n",
       "7                          8.055252                         6.988000   \n",
       "8                          7.999618                         6.935000   \n",
       "9                          8.017856                         7.030000   \n",
       "\n",
       "   primary_cleaner.input.xanthate  primary_cleaner.state.floatbank8_a_air  \\\n",
       "0                        1.005021                             1398.981301   \n",
       "1                        0.990469                             1398.777912   \n",
       "2                        0.996043                             1398.493666   \n",
       "3                        0.863514                             1399.618111   \n",
       "4                        0.805575                             1401.268123   \n",
       "5                        0.791191                             1402.826803   \n",
       "6                        0.788838                             1398.252401   \n",
       "7                        0.801871                             1401.669677   \n",
       "8                        0.789329                             1402.358981   \n",
       "9                        0.805298                             1400.816120   \n",
       "\n",
       "   primary_cleaner.state.floatbank8_a_level  \\\n",
       "0                               -500.225577   \n",
       "1                               -500.057435   \n",
       "2                               -500.868360   \n",
       "3                               -498.863574   \n",
       "4                               -500.808305   \n",
       "5                               -499.299521   \n",
       "6                               -499.748672   \n",
       "7                               -501.777839   \n",
       "8                               -499.981597   \n",
       "9                               -499.014158   \n",
       "\n",
       "   primary_cleaner.state.floatbank8_b_air  \\\n",
       "0                             1399.144926   \n",
       "1                             1398.055362   \n",
       "2                             1398.860436   \n",
       "3                             1397.440120   \n",
       "4                             1398.128818   \n",
       "5                             1401.511119   \n",
       "6                             1393.255503   \n",
       "7                             1400.754446   \n",
       "8                             1400.985954   \n",
       "9                             1399.975401   \n",
       "\n",
       "   primary_cleaner.state.floatbank8_b_level  \\\n",
       "0                               -499.919735   \n",
       "1                               -499.778182   \n",
       "2                               -499.764529   \n",
       "3                               -499.211024   \n",
       "4                               -499.504543   \n",
       "5                               -499.205357   \n",
       "6                               -499.195380   \n",
       "7                               -502.514024   \n",
       "8                               -496.802968   \n",
       "9                               -499.570552   \n",
       "\n",
       "   primary_cleaner.state.floatbank8_c_air  ...  \\\n",
       "0                             1400.102998  ...   \n",
       "1                             1396.151033  ...   \n",
       "2                             1398.075709  ...   \n",
       "3                             1400.129303  ...   \n",
       "4                             1402.172226  ...   \n",
       "5                             1404.088107  ...   \n",
       "6                             1396.738566  ...   \n",
       "7                             1400.465244  ...   \n",
       "8                             1401.168584  ...   \n",
       "9                             1401.871924  ...   \n",
       "\n",
       "   secondary_cleaner.state.floatbank4_a_air  \\\n",
       "0                                 12.023554   \n",
       "1                                 12.058140   \n",
       "2                                 11.962366   \n",
       "3                                 12.033091   \n",
       "4                                 12.025367   \n",
       "5                                 12.029797   \n",
       "6                                 12.026296   \n",
       "7                                 12.040911   \n",
       "8                                 11.998184   \n",
       "9                                 12.040725   \n",
       "\n",
       "   secondary_cleaner.state.floatbank4_a_level  \\\n",
       "0                                 -497.795834   \n",
       "1                                 -498.695773   \n",
       "2                                 -498.767484   \n",
       "3                                 -498.350935   \n",
       "4                                 -500.786497   \n",
       "5                                 -499.814895   \n",
       "6                                 -499.473127   \n",
       "7                                 -501.293852   \n",
       "8                                 -499.481608   \n",
       "9                                 -499.987743   \n",
       "\n",
       "   secondary_cleaner.state.floatbank4_b_air  \\\n",
       "0                                  8.016656   \n",
       "1                                  8.130979   \n",
       "2                                  8.096893   \n",
       "3                                  8.074946   \n",
       "4                                  8.054678   \n",
       "5                                  8.036586   \n",
       "6                                  8.027984   \n",
       "7                                  8.020490   \n",
       "8                                  8.012610   \n",
       "9                                  7.989503   \n",
       "\n",
       "   secondary_cleaner.state.floatbank4_b_level  \\\n",
       "0                                 -501.289139   \n",
       "1                                 -499.634209   \n",
       "2                                 -500.827423   \n",
       "3                                 -499.474407   \n",
       "4                                 -500.397500   \n",
       "5                                 -500.371492   \n",
       "6                                 -500.983079   \n",
       "7                                 -499.185229   \n",
       "8                                 -500.896783   \n",
       "9                                 -499.750625   \n",
       "\n",
       "   secondary_cleaner.state.floatbank5_a_air  \\\n",
       "0                                  7.946562   \n",
       "1                                  7.958270   \n",
       "2                                  8.071056   \n",
       "3                                  7.897085   \n",
       "4                                  8.107890   \n",
       "5                                  8.041446   \n",
       "6                                  7.907340   \n",
       "7                                  8.116897   \n",
       "8                                  7.974422   \n",
       "9                                  7.989710   \n",
       "\n",
       "   secondary_cleaner.state.floatbank5_a_level  \\\n",
       "0                                 -432.317850   \n",
       "1                                 -525.839648   \n",
       "2                                 -500.801673   \n",
       "3                                 -500.868509   \n",
       "4                                 -509.526725   \n",
       "5                                 -510.037054   \n",
       "6                                 -507.964971   \n",
       "7                                 -511.927561   \n",
       "8                                 -521.199104   \n",
       "9                                 -509.946737   \n",
       "\n",
       "   secondary_cleaner.state.floatbank5_b_air  \\\n",
       "0                                  4.872511   \n",
       "1                                  4.878850   \n",
       "2                                  4.905125   \n",
       "3                                  4.931400   \n",
       "4                                  4.957674   \n",
       "5                                  4.983949   \n",
       "6                                  5.010224   \n",
       "7                                  5.036498   \n",
       "8                                  5.061599   \n",
       "9                                  5.068811   \n",
       "\n",
       "   secondary_cleaner.state.floatbank5_b_level  \\\n",
       "0                                 -500.037437   \n",
       "1                                 -500.162375   \n",
       "2                                 -499.828510   \n",
       "3                                 -499.963623   \n",
       "4                                 -500.360026   \n",
       "5                                 -499.990990   \n",
       "6                                 -500.043697   \n",
       "7                                 -500.149615   \n",
       "8                                 -499.791519   \n",
       "9                                 -499.293900   \n",
       "\n",
       "   secondary_cleaner.state.floatbank6_a_air  \\\n",
       "0                                 26.705889   \n",
       "1                                 25.019940   \n",
       "2                                 24.994862   \n",
       "3                                 24.948919   \n",
       "4                                 25.003331   \n",
       "5                                 24.978973   \n",
       "6                                 25.040709   \n",
       "7                                 25.032580   \n",
       "8                                 25.005063   \n",
       "9                                 24.992741   \n",
       "\n",
       "   secondary_cleaner.state.floatbank6_a_level  \n",
       "0                                 -499.709414  \n",
       "1                                 -499.819438  \n",
       "2                                 -500.622559  \n",
       "3                                 -498.709987  \n",
       "4                                 -500.856333  \n",
       "5                                 -500.475640  \n",
       "6                                 -499.501984  \n",
       "7                                 -503.970657  \n",
       "8                                 -497.613716  \n",
       "9                                 -499.272255  \n",
       "\n",
       "[10 rows x 53 columns]"
      ]
     },
     "execution_count": 5,
     "metadata": {},
     "output_type": "execute_result"
    }
   ],
   "source": [
    "# Откроем файл с тестовой выборкой\n",
    "df_test = pd.read_csv('/datasets/gold_recovery_test_new.csv')\n",
    "df_test.head(10) # вывод первых 10 строк"
   ]
  },
  {
   "cell_type": "code",
   "execution_count": 6,
   "metadata": {},
   "outputs": [
    {
     "name": "stdout",
     "output_type": "stream",
     "text": [
      "<class 'pandas.core.frame.DataFrame'>\n",
      "RangeIndex: 5290 entries, 0 to 5289\n",
      "Data columns (total 53 columns):\n",
      " #   Column                                      Non-Null Count  Dtype  \n",
      "---  ------                                      --------------  -----  \n",
      " 0   date                                        5290 non-null   object \n",
      " 1   primary_cleaner.input.sulfate               5286 non-null   float64\n",
      " 2   primary_cleaner.input.depressant            5285 non-null   float64\n",
      " 3   primary_cleaner.input.feed_size             5290 non-null   float64\n",
      " 4   primary_cleaner.input.xanthate              5286 non-null   float64\n",
      " 5   primary_cleaner.state.floatbank8_a_air      5290 non-null   float64\n",
      " 6   primary_cleaner.state.floatbank8_a_level    5290 non-null   float64\n",
      " 7   primary_cleaner.state.floatbank8_b_air      5290 non-null   float64\n",
      " 8   primary_cleaner.state.floatbank8_b_level    5290 non-null   float64\n",
      " 9   primary_cleaner.state.floatbank8_c_air      5290 non-null   float64\n",
      " 10  primary_cleaner.state.floatbank8_c_level    5290 non-null   float64\n",
      " 11  primary_cleaner.state.floatbank8_d_air      5290 non-null   float64\n",
      " 12  primary_cleaner.state.floatbank8_d_level    5290 non-null   float64\n",
      " 13  rougher.input.feed_ag                       5290 non-null   float64\n",
      " 14  rougher.input.feed_pb                       5290 non-null   float64\n",
      " 15  rougher.input.feed_rate                     5287 non-null   float64\n",
      " 16  rougher.input.feed_size                     5289 non-null   float64\n",
      " 17  rougher.input.feed_sol                      5269 non-null   float64\n",
      " 18  rougher.input.feed_au                       5290 non-null   float64\n",
      " 19  rougher.input.floatbank10_sulfate           5285 non-null   float64\n",
      " 20  rougher.input.floatbank10_xanthate          5290 non-null   float64\n",
      " 21  rougher.input.floatbank11_sulfate           5282 non-null   float64\n",
      " 22  rougher.input.floatbank11_xanthate          5265 non-null   float64\n",
      " 23  rougher.state.floatbank10_a_air             5290 non-null   float64\n",
      " 24  rougher.state.floatbank10_a_level           5290 non-null   float64\n",
      " 25  rougher.state.floatbank10_b_air             5290 non-null   float64\n",
      " 26  rougher.state.floatbank10_b_level           5290 non-null   float64\n",
      " 27  rougher.state.floatbank10_c_air             5290 non-null   float64\n",
      " 28  rougher.state.floatbank10_c_level           5290 non-null   float64\n",
      " 29  rougher.state.floatbank10_d_air             5290 non-null   float64\n",
      " 30  rougher.state.floatbank10_d_level           5290 non-null   float64\n",
      " 31  rougher.state.floatbank10_e_air             5290 non-null   float64\n",
      " 32  rougher.state.floatbank10_e_level           5290 non-null   float64\n",
      " 33  rougher.state.floatbank10_f_air             5290 non-null   float64\n",
      " 34  rougher.state.floatbank10_f_level           5290 non-null   float64\n",
      " 35  secondary_cleaner.state.floatbank2_a_air    5287 non-null   float64\n",
      " 36  secondary_cleaner.state.floatbank2_a_level  5290 non-null   float64\n",
      " 37  secondary_cleaner.state.floatbank2_b_air    5288 non-null   float64\n",
      " 38  secondary_cleaner.state.floatbank2_b_level  5290 non-null   float64\n",
      " 39  secondary_cleaner.state.floatbank3_a_air    5281 non-null   float64\n",
      " 40  secondary_cleaner.state.floatbank3_a_level  5290 non-null   float64\n",
      " 41  secondary_cleaner.state.floatbank3_b_air    5290 non-null   float64\n",
      " 42  secondary_cleaner.state.floatbank3_b_level  5290 non-null   float64\n",
      " 43  secondary_cleaner.state.floatbank4_a_air    5290 non-null   float64\n",
      " 44  secondary_cleaner.state.floatbank4_a_level  5290 non-null   float64\n",
      " 45  secondary_cleaner.state.floatbank4_b_air    5290 non-null   float64\n",
      " 46  secondary_cleaner.state.floatbank4_b_level  5290 non-null   float64\n",
      " 47  secondary_cleaner.state.floatbank5_a_air    5290 non-null   float64\n",
      " 48  secondary_cleaner.state.floatbank5_a_level  5290 non-null   float64\n",
      " 49  secondary_cleaner.state.floatbank5_b_air    5290 non-null   float64\n",
      " 50  secondary_cleaner.state.floatbank5_b_level  5290 non-null   float64\n",
      " 51  secondary_cleaner.state.floatbank6_a_air    5290 non-null   float64\n",
      " 52  secondary_cleaner.state.floatbank6_a_level  5290 non-null   float64\n",
      "dtypes: float64(52), object(1)\n",
      "memory usage: 2.1+ MB\n"
     ]
    }
   ],
   "source": [
    "df_test.info()"
   ]
  },
  {
   "cell_type": "code",
   "execution_count": 7,
   "metadata": {},
   "outputs": [
    {
     "data": {
      "text/plain": [
       "0"
      ]
     },
     "execution_count": 7,
     "metadata": {},
     "output_type": "execute_result"
    }
   ],
   "source": [
    "df_test.duplicated().sum()"
   ]
  },
  {
   "cell_type": "markdown",
   "metadata": {},
   "source": [
    "Ситуация от предыдущего датафрейма отличается не сильно, но не хвататет некоторых признаков, сейчас узнаем каких."
   ]
  },
  {
   "cell_type": "code",
   "execution_count": 8,
   "metadata": {},
   "outputs": [
    {
     "name": "stdout",
     "output_type": "stream",
     "text": [
      "<class 'pandas.core.frame.DataFrame'>\n",
      "RangeIndex: 14149 entries, 0 to 14148\n",
      "Data columns (total 34 columns):\n",
      " #   Column                                              Non-Null Count  Dtype  \n",
      "---  ------                                              --------------  -----  \n",
      " 0   final.output.concentrate_ag                         14148 non-null  float64\n",
      " 1   final.output.concentrate_pb                         14148 non-null  float64\n",
      " 2   final.output.concentrate_sol                        13938 non-null  float64\n",
      " 3   final.output.concentrate_au                         14149 non-null  float64\n",
      " 4   final.output.recovery                               14149 non-null  float64\n",
      " 5   final.output.tail_ag                                14149 non-null  float64\n",
      " 6   final.output.tail_pb                                14049 non-null  float64\n",
      " 7   final.output.tail_sol                               14144 non-null  float64\n",
      " 8   final.output.tail_au                                14149 non-null  float64\n",
      " 9   primary_cleaner.output.concentrate_ag               14149 non-null  float64\n",
      " 10  primary_cleaner.output.concentrate_pb               14063 non-null  float64\n",
      " 11  primary_cleaner.output.concentrate_sol              13863 non-null  float64\n",
      " 12  primary_cleaner.output.concentrate_au               14149 non-null  float64\n",
      " 13  primary_cleaner.output.tail_ag                      14148 non-null  float64\n",
      " 14  primary_cleaner.output.tail_pb                      14134 non-null  float64\n",
      " 15  primary_cleaner.output.tail_sol                     14103 non-null  float64\n",
      " 16  primary_cleaner.output.tail_au                      14149 non-null  float64\n",
      " 17  rougher.calculation.sulfate_to_au_concentrate       14148 non-null  float64\n",
      " 18  rougher.calculation.floatbank10_sulfate_to_au_feed  14148 non-null  float64\n",
      " 19  rougher.calculation.floatbank11_sulfate_to_au_feed  14148 non-null  float64\n",
      " 20  rougher.calculation.au_pb_ratio                     14149 non-null  float64\n",
      " 21  rougher.output.concentrate_ag                       14149 non-null  float64\n",
      " 22  rougher.output.concentrate_pb                       14149 non-null  float64\n",
      " 23  rougher.output.concentrate_sol                      14127 non-null  float64\n",
      " 24  rougher.output.concentrate_au                       14149 non-null  float64\n",
      " 25  rougher.output.recovery                             14149 non-null  float64\n",
      " 26  rougher.output.tail_ag                              14148 non-null  float64\n",
      " 27  rougher.output.tail_pb                              14149 non-null  float64\n",
      " 28  rougher.output.tail_sol                             14149 non-null  float64\n",
      " 29  rougher.output.tail_au                              14149 non-null  float64\n",
      " 30  secondary_cleaner.output.tail_ag                    14147 non-null  float64\n",
      " 31  secondary_cleaner.output.tail_pb                    14139 non-null  float64\n",
      " 32  secondary_cleaner.output.tail_sol                   12544 non-null  float64\n",
      " 33  secondary_cleaner.output.tail_au                    14149 non-null  float64\n",
      "dtypes: float64(34)\n",
      "memory usage: 3.7 MB\n"
     ]
    }
   ],
   "source": [
    "test_columns = list(df_test.columns) # создаем list с признаками из тестовой выборки\n",
    "dif = df_train.drop(test_columns, axis=1) # удаляем признаки из тестовой в обучающей\n",
    "dif.info()"
   ]
  },
  {
   "cell_type": "markdown",
   "metadata": {},
   "source": [
    "В тестовом датафрейме отсутствуют финальные характеристики, параметры продукта, расчетные характеристики, отвальные хвосты."
   ]
  },
  {
   "cell_type": "code",
   "execution_count": 9,
   "metadata": {},
   "outputs": [
    {
     "data": {
      "text/html": [
       "<div>\n",
       "<style scoped>\n",
       "    .dataframe tbody tr th:only-of-type {\n",
       "        vertical-align: middle;\n",
       "    }\n",
       "\n",
       "    .dataframe tbody tr th {\n",
       "        vertical-align: top;\n",
       "    }\n",
       "\n",
       "    .dataframe thead th {\n",
       "        text-align: right;\n",
       "    }\n",
       "</style>\n",
       "<table border=\"1\" class=\"dataframe\">\n",
       "  <thead>\n",
       "    <tr style=\"text-align: right;\">\n",
       "      <th></th>\n",
       "      <th>date</th>\n",
       "      <th>final.output.concentrate_ag</th>\n",
       "      <th>final.output.concentrate_pb</th>\n",
       "      <th>final.output.concentrate_sol</th>\n",
       "      <th>final.output.concentrate_au</th>\n",
       "      <th>final.output.recovery</th>\n",
       "      <th>final.output.tail_ag</th>\n",
       "      <th>final.output.tail_pb</th>\n",
       "      <th>final.output.tail_sol</th>\n",
       "      <th>final.output.tail_au</th>\n",
       "      <th>...</th>\n",
       "      <th>secondary_cleaner.state.floatbank4_a_air</th>\n",
       "      <th>secondary_cleaner.state.floatbank4_a_level</th>\n",
       "      <th>secondary_cleaner.state.floatbank4_b_air</th>\n",
       "      <th>secondary_cleaner.state.floatbank4_b_level</th>\n",
       "      <th>secondary_cleaner.state.floatbank5_a_air</th>\n",
       "      <th>secondary_cleaner.state.floatbank5_a_level</th>\n",
       "      <th>secondary_cleaner.state.floatbank5_b_air</th>\n",
       "      <th>secondary_cleaner.state.floatbank5_b_level</th>\n",
       "      <th>secondary_cleaner.state.floatbank6_a_air</th>\n",
       "      <th>secondary_cleaner.state.floatbank6_a_level</th>\n",
       "    </tr>\n",
       "  </thead>\n",
       "  <tbody>\n",
       "    <tr>\n",
       "      <th>0</th>\n",
       "      <td>2016-01-15 00:00:00</td>\n",
       "      <td>6.055403</td>\n",
       "      <td>9.889648</td>\n",
       "      <td>5.507324</td>\n",
       "      <td>42.192020</td>\n",
       "      <td>70.541216</td>\n",
       "      <td>10.411962</td>\n",
       "      <td>0.895447</td>\n",
       "      <td>16.904297</td>\n",
       "      <td>2.143149</td>\n",
       "      <td>...</td>\n",
       "      <td>14.016835</td>\n",
       "      <td>-502.488007</td>\n",
       "      <td>12.099931</td>\n",
       "      <td>-504.715942</td>\n",
       "      <td>9.925633</td>\n",
       "      <td>-498.310211</td>\n",
       "      <td>8.079666</td>\n",
       "      <td>-500.470978</td>\n",
       "      <td>14.151341</td>\n",
       "      <td>-605.841980</td>\n",
       "    </tr>\n",
       "    <tr>\n",
       "      <th>1</th>\n",
       "      <td>2016-01-15 01:00:00</td>\n",
       "      <td>6.029369</td>\n",
       "      <td>9.968944</td>\n",
       "      <td>5.257781</td>\n",
       "      <td>42.701629</td>\n",
       "      <td>69.266198</td>\n",
       "      <td>10.462676</td>\n",
       "      <td>0.927452</td>\n",
       "      <td>16.634514</td>\n",
       "      <td>2.224930</td>\n",
       "      <td>...</td>\n",
       "      <td>13.992281</td>\n",
       "      <td>-505.503262</td>\n",
       "      <td>11.950531</td>\n",
       "      <td>-501.331529</td>\n",
       "      <td>10.039245</td>\n",
       "      <td>-500.169983</td>\n",
       "      <td>7.984757</td>\n",
       "      <td>-500.582168</td>\n",
       "      <td>13.998353</td>\n",
       "      <td>-599.787184</td>\n",
       "    </tr>\n",
       "    <tr>\n",
       "      <th>2</th>\n",
       "      <td>2016-01-15 02:00:00</td>\n",
       "      <td>6.055926</td>\n",
       "      <td>10.213995</td>\n",
       "      <td>5.383759</td>\n",
       "      <td>42.657501</td>\n",
       "      <td>68.116445</td>\n",
       "      <td>10.507046</td>\n",
       "      <td>0.953716</td>\n",
       "      <td>16.208849</td>\n",
       "      <td>2.257889</td>\n",
       "      <td>...</td>\n",
       "      <td>14.015015</td>\n",
       "      <td>-502.520901</td>\n",
       "      <td>11.912783</td>\n",
       "      <td>-501.133383</td>\n",
       "      <td>10.070913</td>\n",
       "      <td>-500.129135</td>\n",
       "      <td>8.013877</td>\n",
       "      <td>-500.517572</td>\n",
       "      <td>14.028663</td>\n",
       "      <td>-601.427363</td>\n",
       "    </tr>\n",
       "    <tr>\n",
       "      <th>3</th>\n",
       "      <td>2016-01-15 03:00:00</td>\n",
       "      <td>6.047977</td>\n",
       "      <td>9.977019</td>\n",
       "      <td>4.858634</td>\n",
       "      <td>42.689819</td>\n",
       "      <td>68.347543</td>\n",
       "      <td>10.422762</td>\n",
       "      <td>0.883763</td>\n",
       "      <td>16.532835</td>\n",
       "      <td>2.146849</td>\n",
       "      <td>...</td>\n",
       "      <td>14.036510</td>\n",
       "      <td>-500.857308</td>\n",
       "      <td>11.999550</td>\n",
       "      <td>-501.193686</td>\n",
       "      <td>9.970366</td>\n",
       "      <td>-499.201640</td>\n",
       "      <td>7.977324</td>\n",
       "      <td>-500.255908</td>\n",
       "      <td>14.005551</td>\n",
       "      <td>-599.996129</td>\n",
       "    </tr>\n",
       "    <tr>\n",
       "      <th>4</th>\n",
       "      <td>2016-01-15 04:00:00</td>\n",
       "      <td>6.148599</td>\n",
       "      <td>10.142511</td>\n",
       "      <td>4.939416</td>\n",
       "      <td>42.774141</td>\n",
       "      <td>66.927016</td>\n",
       "      <td>10.360302</td>\n",
       "      <td>0.792826</td>\n",
       "      <td>16.525686</td>\n",
       "      <td>2.055292</td>\n",
       "      <td>...</td>\n",
       "      <td>14.027298</td>\n",
       "      <td>-499.838632</td>\n",
       "      <td>11.953070</td>\n",
       "      <td>-501.053894</td>\n",
       "      <td>9.925709</td>\n",
       "      <td>-501.686727</td>\n",
       "      <td>7.894242</td>\n",
       "      <td>-500.356035</td>\n",
       "      <td>13.996647</td>\n",
       "      <td>-601.496691</td>\n",
       "    </tr>\n",
       "    <tr>\n",
       "      <th>5</th>\n",
       "      <td>2016-01-15 05:00:00</td>\n",
       "      <td>6.482968</td>\n",
       "      <td>10.049416</td>\n",
       "      <td>5.480257</td>\n",
       "      <td>41.633678</td>\n",
       "      <td>69.465816</td>\n",
       "      <td>10.182708</td>\n",
       "      <td>0.664118</td>\n",
       "      <td>16.999638</td>\n",
       "      <td>1.918586</td>\n",
       "      <td>...</td>\n",
       "      <td>13.938497</td>\n",
       "      <td>-500.970168</td>\n",
       "      <td>11.883350</td>\n",
       "      <td>-500.395298</td>\n",
       "      <td>10.054147</td>\n",
       "      <td>-496.374715</td>\n",
       "      <td>7.965083</td>\n",
       "      <td>-499.364752</td>\n",
       "      <td>14.017067</td>\n",
       "      <td>-599.707915</td>\n",
       "    </tr>\n",
       "    <tr>\n",
       "      <th>6</th>\n",
       "      <td>2016-01-15 06:00:00</td>\n",
       "      <td>6.533849</td>\n",
       "      <td>10.058141</td>\n",
       "      <td>4.569100</td>\n",
       "      <td>41.995316</td>\n",
       "      <td>69.300835</td>\n",
       "      <td>10.304598</td>\n",
       "      <td>0.807342</td>\n",
       "      <td>16.723575</td>\n",
       "      <td>2.058913</td>\n",
       "      <td>...</td>\n",
       "      <td>14.046819</td>\n",
       "      <td>-500.971133</td>\n",
       "      <td>12.091543</td>\n",
       "      <td>-500.501426</td>\n",
       "      <td>10.003247</td>\n",
       "      <td>-497.083180</td>\n",
       "      <td>8.010890</td>\n",
       "      <td>-500.002423</td>\n",
       "      <td>14.029649</td>\n",
       "      <td>-600.905470</td>\n",
       "    </tr>\n",
       "    <tr>\n",
       "      <th>7</th>\n",
       "      <td>2016-01-15 07:00:00</td>\n",
       "      <td>6.130823</td>\n",
       "      <td>9.935481</td>\n",
       "      <td>4.389813</td>\n",
       "      <td>42.452727</td>\n",
       "      <td>70.230976</td>\n",
       "      <td>10.443288</td>\n",
       "      <td>0.949346</td>\n",
       "      <td>16.689959</td>\n",
       "      <td>2.143437</td>\n",
       "      <td>...</td>\n",
       "      <td>13.974691</td>\n",
       "      <td>-501.819696</td>\n",
       "      <td>12.101324</td>\n",
       "      <td>-500.583446</td>\n",
       "      <td>9.873169</td>\n",
       "      <td>-499.171928</td>\n",
       "      <td>7.993381</td>\n",
       "      <td>-499.794518</td>\n",
       "      <td>13.984498</td>\n",
       "      <td>-600.411070</td>\n",
       "    </tr>\n",
       "    <tr>\n",
       "      <th>8</th>\n",
       "      <td>2016-01-15 08:00:00</td>\n",
       "      <td>5.834140</td>\n",
       "      <td>10.071156</td>\n",
       "      <td>4.876389</td>\n",
       "      <td>43.404078</td>\n",
       "      <td>69.688595</td>\n",
       "      <td>10.420140</td>\n",
       "      <td>1.065453</td>\n",
       "      <td>17.201948</td>\n",
       "      <td>2.209881</td>\n",
       "      <td>...</td>\n",
       "      <td>13.964030</td>\n",
       "      <td>-504.252450</td>\n",
       "      <td>12.060738</td>\n",
       "      <td>-501.174549</td>\n",
       "      <td>10.033838</td>\n",
       "      <td>-501.178133</td>\n",
       "      <td>7.881604</td>\n",
       "      <td>-499.729434</td>\n",
       "      <td>13.967135</td>\n",
       "      <td>-599.061188</td>\n",
       "    </tr>\n",
       "    <tr>\n",
       "      <th>9</th>\n",
       "      <td>2016-01-15 09:00:00</td>\n",
       "      <td>5.687063</td>\n",
       "      <td>9.980404</td>\n",
       "      <td>5.282514</td>\n",
       "      <td>43.235220</td>\n",
       "      <td>70.279619</td>\n",
       "      <td>10.487013</td>\n",
       "      <td>1.159805</td>\n",
       "      <td>17.483979</td>\n",
       "      <td>2.209593</td>\n",
       "      <td>...</td>\n",
       "      <td>13.989632</td>\n",
       "      <td>-503.195299</td>\n",
       "      <td>12.052233</td>\n",
       "      <td>-500.928547</td>\n",
       "      <td>9.962574</td>\n",
       "      <td>-502.986357</td>\n",
       "      <td>7.979219</td>\n",
       "      <td>-500.146835</td>\n",
       "      <td>13.981614</td>\n",
       "      <td>-598.070855</td>\n",
       "    </tr>\n",
       "  </tbody>\n",
       "</table>\n",
       "<p>10 rows × 87 columns</p>\n",
       "</div>"
      ],
      "text/plain": [
       "                  date  final.output.concentrate_ag  \\\n",
       "0  2016-01-15 00:00:00                     6.055403   \n",
       "1  2016-01-15 01:00:00                     6.029369   \n",
       "2  2016-01-15 02:00:00                     6.055926   \n",
       "3  2016-01-15 03:00:00                     6.047977   \n",
       "4  2016-01-15 04:00:00                     6.148599   \n",
       "5  2016-01-15 05:00:00                     6.482968   \n",
       "6  2016-01-15 06:00:00                     6.533849   \n",
       "7  2016-01-15 07:00:00                     6.130823   \n",
       "8  2016-01-15 08:00:00                     5.834140   \n",
       "9  2016-01-15 09:00:00                     5.687063   \n",
       "\n",
       "   final.output.concentrate_pb  final.output.concentrate_sol  \\\n",
       "0                     9.889648                      5.507324   \n",
       "1                     9.968944                      5.257781   \n",
       "2                    10.213995                      5.383759   \n",
       "3                     9.977019                      4.858634   \n",
       "4                    10.142511                      4.939416   \n",
       "5                    10.049416                      5.480257   \n",
       "6                    10.058141                      4.569100   \n",
       "7                     9.935481                      4.389813   \n",
       "8                    10.071156                      4.876389   \n",
       "9                     9.980404                      5.282514   \n",
       "\n",
       "   final.output.concentrate_au  final.output.recovery  final.output.tail_ag  \\\n",
       "0                    42.192020              70.541216             10.411962   \n",
       "1                    42.701629              69.266198             10.462676   \n",
       "2                    42.657501              68.116445             10.507046   \n",
       "3                    42.689819              68.347543             10.422762   \n",
       "4                    42.774141              66.927016             10.360302   \n",
       "5                    41.633678              69.465816             10.182708   \n",
       "6                    41.995316              69.300835             10.304598   \n",
       "7                    42.452727              70.230976             10.443288   \n",
       "8                    43.404078              69.688595             10.420140   \n",
       "9                    43.235220              70.279619             10.487013   \n",
       "\n",
       "   final.output.tail_pb  final.output.tail_sol  final.output.tail_au  ...  \\\n",
       "0              0.895447              16.904297              2.143149  ...   \n",
       "1              0.927452              16.634514              2.224930  ...   \n",
       "2              0.953716              16.208849              2.257889  ...   \n",
       "3              0.883763              16.532835              2.146849  ...   \n",
       "4              0.792826              16.525686              2.055292  ...   \n",
       "5              0.664118              16.999638              1.918586  ...   \n",
       "6              0.807342              16.723575              2.058913  ...   \n",
       "7              0.949346              16.689959              2.143437  ...   \n",
       "8              1.065453              17.201948              2.209881  ...   \n",
       "9              1.159805              17.483979              2.209593  ...   \n",
       "\n",
       "   secondary_cleaner.state.floatbank4_a_air  \\\n",
       "0                                 14.016835   \n",
       "1                                 13.992281   \n",
       "2                                 14.015015   \n",
       "3                                 14.036510   \n",
       "4                                 14.027298   \n",
       "5                                 13.938497   \n",
       "6                                 14.046819   \n",
       "7                                 13.974691   \n",
       "8                                 13.964030   \n",
       "9                                 13.989632   \n",
       "\n",
       "   secondary_cleaner.state.floatbank4_a_level  \\\n",
       "0                                 -502.488007   \n",
       "1                                 -505.503262   \n",
       "2                                 -502.520901   \n",
       "3                                 -500.857308   \n",
       "4                                 -499.838632   \n",
       "5                                 -500.970168   \n",
       "6                                 -500.971133   \n",
       "7                                 -501.819696   \n",
       "8                                 -504.252450   \n",
       "9                                 -503.195299   \n",
       "\n",
       "   secondary_cleaner.state.floatbank4_b_air  \\\n",
       "0                                 12.099931   \n",
       "1                                 11.950531   \n",
       "2                                 11.912783   \n",
       "3                                 11.999550   \n",
       "4                                 11.953070   \n",
       "5                                 11.883350   \n",
       "6                                 12.091543   \n",
       "7                                 12.101324   \n",
       "8                                 12.060738   \n",
       "9                                 12.052233   \n",
       "\n",
       "   secondary_cleaner.state.floatbank4_b_level  \\\n",
       "0                                 -504.715942   \n",
       "1                                 -501.331529   \n",
       "2                                 -501.133383   \n",
       "3                                 -501.193686   \n",
       "4                                 -501.053894   \n",
       "5                                 -500.395298   \n",
       "6                                 -500.501426   \n",
       "7                                 -500.583446   \n",
       "8                                 -501.174549   \n",
       "9                                 -500.928547   \n",
       "\n",
       "   secondary_cleaner.state.floatbank5_a_air  \\\n",
       "0                                  9.925633   \n",
       "1                                 10.039245   \n",
       "2                                 10.070913   \n",
       "3                                  9.970366   \n",
       "4                                  9.925709   \n",
       "5                                 10.054147   \n",
       "6                                 10.003247   \n",
       "7                                  9.873169   \n",
       "8                                 10.033838   \n",
       "9                                  9.962574   \n",
       "\n",
       "   secondary_cleaner.state.floatbank5_a_level  \\\n",
       "0                                 -498.310211   \n",
       "1                                 -500.169983   \n",
       "2                                 -500.129135   \n",
       "3                                 -499.201640   \n",
       "4                                 -501.686727   \n",
       "5                                 -496.374715   \n",
       "6                                 -497.083180   \n",
       "7                                 -499.171928   \n",
       "8                                 -501.178133   \n",
       "9                                 -502.986357   \n",
       "\n",
       "   secondary_cleaner.state.floatbank5_b_air  \\\n",
       "0                                  8.079666   \n",
       "1                                  7.984757   \n",
       "2                                  8.013877   \n",
       "3                                  7.977324   \n",
       "4                                  7.894242   \n",
       "5                                  7.965083   \n",
       "6                                  8.010890   \n",
       "7                                  7.993381   \n",
       "8                                  7.881604   \n",
       "9                                  7.979219   \n",
       "\n",
       "   secondary_cleaner.state.floatbank5_b_level  \\\n",
       "0                                 -500.470978   \n",
       "1                                 -500.582168   \n",
       "2                                 -500.517572   \n",
       "3                                 -500.255908   \n",
       "4                                 -500.356035   \n",
       "5                                 -499.364752   \n",
       "6                                 -500.002423   \n",
       "7                                 -499.794518   \n",
       "8                                 -499.729434   \n",
       "9                                 -500.146835   \n",
       "\n",
       "   secondary_cleaner.state.floatbank6_a_air  \\\n",
       "0                                 14.151341   \n",
       "1                                 13.998353   \n",
       "2                                 14.028663   \n",
       "3                                 14.005551   \n",
       "4                                 13.996647   \n",
       "5                                 14.017067   \n",
       "6                                 14.029649   \n",
       "7                                 13.984498   \n",
       "8                                 13.967135   \n",
       "9                                 13.981614   \n",
       "\n",
       "   secondary_cleaner.state.floatbank6_a_level  \n",
       "0                                 -605.841980  \n",
       "1                                 -599.787184  \n",
       "2                                 -601.427363  \n",
       "3                                 -599.996129  \n",
       "4                                 -601.496691  \n",
       "5                                 -599.707915  \n",
       "6                                 -600.905470  \n",
       "7                                 -600.411070  \n",
       "8                                 -599.061188  \n",
       "9                                 -598.070855  \n",
       "\n",
       "[10 rows x 87 columns]"
      ]
     },
     "execution_count": 9,
     "metadata": {},
     "output_type": "execute_result"
    }
   ],
   "source": [
    "# Откроем файл со всеми данными\n",
    "df_full = pd.read_csv('/datasets/gold_recovery_full_new.csv')\n",
    "df_full.head(10) # вывод первых 10 строк"
   ]
  },
  {
   "cell_type": "code",
   "execution_count": 10,
   "metadata": {},
   "outputs": [
    {
     "name": "stdout",
     "output_type": "stream",
     "text": [
      "<class 'pandas.core.frame.DataFrame'>\n",
      "RangeIndex: 19439 entries, 0 to 19438\n",
      "Data columns (total 87 columns):\n",
      " #   Column                                              Non-Null Count  Dtype  \n",
      "---  ------                                              --------------  -----  \n",
      " 0   date                                                19439 non-null  object \n",
      " 1   final.output.concentrate_ag                         19438 non-null  float64\n",
      " 2   final.output.concentrate_pb                         19438 non-null  float64\n",
      " 3   final.output.concentrate_sol                        19228 non-null  float64\n",
      " 4   final.output.concentrate_au                         19439 non-null  float64\n",
      " 5   final.output.recovery                               19439 non-null  float64\n",
      " 6   final.output.tail_ag                                19438 non-null  float64\n",
      " 7   final.output.tail_pb                                19338 non-null  float64\n",
      " 8   final.output.tail_sol                               19433 non-null  float64\n",
      " 9   final.output.tail_au                                19439 non-null  float64\n",
      " 10  primary_cleaner.input.sulfate                       19415 non-null  float64\n",
      " 11  primary_cleaner.input.depressant                    19402 non-null  float64\n",
      " 12  primary_cleaner.input.feed_size                     19439 non-null  float64\n",
      " 13  primary_cleaner.input.xanthate                      19335 non-null  float64\n",
      " 14  primary_cleaner.output.concentrate_ag               19439 non-null  float64\n",
      " 15  primary_cleaner.output.concentrate_pb               19323 non-null  float64\n",
      " 16  primary_cleaner.output.concentrate_sol              19069 non-null  float64\n",
      " 17  primary_cleaner.output.concentrate_au               19439 non-null  float64\n",
      " 18  primary_cleaner.output.tail_ag                      19435 non-null  float64\n",
      " 19  primary_cleaner.output.tail_pb                      19418 non-null  float64\n",
      " 20  primary_cleaner.output.tail_sol                     19377 non-null  float64\n",
      " 21  primary_cleaner.output.tail_au                      19439 non-null  float64\n",
      " 22  primary_cleaner.state.floatbank8_a_air              19435 non-null  float64\n",
      " 23  primary_cleaner.state.floatbank8_a_level            19438 non-null  float64\n",
      " 24  primary_cleaner.state.floatbank8_b_air              19435 non-null  float64\n",
      " 25  primary_cleaner.state.floatbank8_b_level            19438 non-null  float64\n",
      " 26  primary_cleaner.state.floatbank8_c_air              19437 non-null  float64\n",
      " 27  primary_cleaner.state.floatbank8_c_level            19438 non-null  float64\n",
      " 28  primary_cleaner.state.floatbank8_d_air              19436 non-null  float64\n",
      " 29  primary_cleaner.state.floatbank8_d_level            19438 non-null  float64\n",
      " 30  rougher.calculation.sulfate_to_au_concentrate       19437 non-null  float64\n",
      " 31  rougher.calculation.floatbank10_sulfate_to_au_feed  19437 non-null  float64\n",
      " 32  rougher.calculation.floatbank11_sulfate_to_au_feed  19437 non-null  float64\n",
      " 33  rougher.calculation.au_pb_ratio                     19439 non-null  float64\n",
      " 34  rougher.input.feed_ag                               19439 non-null  float64\n",
      " 35  rougher.input.feed_pb                               19339 non-null  float64\n",
      " 36  rougher.input.feed_rate                             19428 non-null  float64\n",
      " 37  rougher.input.feed_size                             19294 non-null  float64\n",
      " 38  rougher.input.feed_sol                              19340 non-null  float64\n",
      " 39  rougher.input.feed_au                               19439 non-null  float64\n",
      " 40  rougher.input.floatbank10_sulfate                   19405 non-null  float64\n",
      " 41  rougher.input.floatbank10_xanthate                  19431 non-null  float64\n",
      " 42  rougher.input.floatbank11_sulfate                   19395 non-null  float64\n",
      " 43  rougher.input.floatbank11_xanthate                  18986 non-null  float64\n",
      " 44  rougher.output.concentrate_ag                       19439 non-null  float64\n",
      " 45  rougher.output.concentrate_pb                       19439 non-null  float64\n",
      " 46  rougher.output.concentrate_sol                      19416 non-null  float64\n",
      " 47  rougher.output.concentrate_au                       19439 non-null  float64\n",
      " 48  rougher.output.recovery                             19439 non-null  float64\n",
      " 49  rougher.output.tail_ag                              19438 non-null  float64\n",
      " 50  rougher.output.tail_pb                              19439 non-null  float64\n",
      " 51  rougher.output.tail_sol                             19439 non-null  float64\n",
      " 52  rougher.output.tail_au                              19439 non-null  float64\n",
      " 53  rougher.state.floatbank10_a_air                     19438 non-null  float64\n",
      " 54  rougher.state.floatbank10_a_level                   19438 non-null  float64\n",
      " 55  rougher.state.floatbank10_b_air                     19438 non-null  float64\n",
      " 56  rougher.state.floatbank10_b_level                   19438 non-null  float64\n",
      " 57  rougher.state.floatbank10_c_air                     19438 non-null  float64\n",
      " 58  rougher.state.floatbank10_c_level                   19438 non-null  float64\n",
      " 59  rougher.state.floatbank10_d_air                     19439 non-null  float64\n",
      " 60  rougher.state.floatbank10_d_level                   19439 non-null  float64\n",
      " 61  rougher.state.floatbank10_e_air                     19003 non-null  float64\n",
      " 62  rougher.state.floatbank10_e_level                   19439 non-null  float64\n",
      " 63  rougher.state.floatbank10_f_air                     19439 non-null  float64\n",
      " 64  rougher.state.floatbank10_f_level                   19439 non-null  float64\n",
      " 65  secondary_cleaner.output.tail_ag                    19437 non-null  float64\n",
      " 66  secondary_cleaner.output.tail_pb                    19427 non-null  float64\n",
      " 67  secondary_cleaner.output.tail_sol                   17691 non-null  float64\n",
      " 68  secondary_cleaner.output.tail_au                    19439 non-null  float64\n",
      " 69  secondary_cleaner.state.floatbank2_a_air            19219 non-null  float64\n",
      " 70  secondary_cleaner.state.floatbank2_a_level          19438 non-null  float64\n",
      " 71  secondary_cleaner.state.floatbank2_b_air            19416 non-null  float64\n",
      " 72  secondary_cleaner.state.floatbank2_b_level          19438 non-null  float64\n",
      " 73  secondary_cleaner.state.floatbank3_a_air            19426 non-null  float64\n",
      " 74  secondary_cleaner.state.floatbank3_a_level          19438 non-null  float64\n",
      " 75  secondary_cleaner.state.floatbank3_b_air            19438 non-null  float64\n",
      " 76  secondary_cleaner.state.floatbank3_b_level          19438 non-null  float64\n",
      " 77  secondary_cleaner.state.floatbank4_a_air            19433 non-null  float64\n",
      " 78  secondary_cleaner.state.floatbank4_a_level          19438 non-null  float64\n",
      " 79  secondary_cleaner.state.floatbank4_b_air            19438 non-null  float64\n",
      " 80  secondary_cleaner.state.floatbank4_b_level          19438 non-null  float64\n",
      " 81  secondary_cleaner.state.floatbank5_a_air            19438 non-null  float64\n",
      " 82  secondary_cleaner.state.floatbank5_a_level          19438 non-null  float64\n",
      " 83  secondary_cleaner.state.floatbank5_b_air            19438 non-null  float64\n",
      " 84  secondary_cleaner.state.floatbank5_b_level          19438 non-null  float64\n",
      " 85  secondary_cleaner.state.floatbank6_a_air            19437 non-null  float64\n",
      " 86  secondary_cleaner.state.floatbank6_a_level          19438 non-null  float64\n",
      "dtypes: float64(86), object(1)\n",
      "memory usage: 12.9+ MB\n"
     ]
    }
   ],
   "source": [
    "df_full.info()"
   ]
  },
  {
   "cell_type": "code",
   "execution_count": 11,
   "metadata": {
    "scrolled": true
   },
   "outputs": [
    {
     "data": {
      "text/plain": [
       "0"
      ]
     },
     "execution_count": 11,
     "metadata": {},
     "output_type": "execute_result"
    }
   ],
   "source": [
    "df_full.duplicated().sum()"
   ]
  },
  {
   "cell_type": "markdown",
   "metadata": {},
   "source": [
    "Cитуация такая же, как с обучающей выборкой."
   ]
  },
  {
   "cell_type": "markdown",
   "metadata": {},
   "source": [
    "Проверим, что эффективность обогащения рассчитана правильно."
   ]
  },
  {
   "cell_type": "code",
   "execution_count": 12,
   "metadata": {},
   "outputs": [
    {
     "name": "stdout",
     "output_type": "stream",
     "text": [
      "9.73512347450521e-15\n"
     ]
    }
   ],
   "source": [
    "# Посчитаем recovery по формуле и вычислим MAE для rougher.output.recovery\n",
    "df_train['recovery'] = ((\n",
    "    df_train['rougher.output.concentrate_au'] * (df_train['rougher.input.feed_au'] - df_train['rougher.output.tail_au']))\n",
    "    / (df_train['rougher.input.feed_au'] * (df_train['rougher.output.concentrate_au'] - df_train['rougher.output.tail_au']))\n",
    "    * 100)  \n",
    "print(mean_absolute_error(df_train['recovery'], df_train['rougher.output.recovery']))"
   ]
  },
  {
   "cell_type": "markdown",
   "metadata": {},
   "source": [
    "MAE очень маленькое, значит все расчитано правильно."
   ]
  },
  {
   "cell_type": "markdown",
   "metadata": {},
   "source": [
    "Проведем небольшую предобработку данных - заполним пропуски с помощью fillna(method='ffill') которая для каждого признака заполнит пропуски на основании предыдущей записи. Здесь это применимо т.к. данные представляют из себя срезы по времени и соответсвенно по времени и отсортированы. Так же добавим недостающие признаки тестовой выборке из полного датафрейма."
   ]
  },
  {
   "cell_type": "code",
   "execution_count": 13,
   "metadata": {},
   "outputs": [
    {
     "name": "stdout",
     "output_type": "stream",
     "text": [
      "<class 'pandas.core.frame.DataFrame'>\n",
      "Int64Index: 5290 entries, 0 to 5289\n",
      "Data columns (total 55 columns):\n",
      " #   Column                                      Non-Null Count  Dtype  \n",
      "---  ------                                      --------------  -----  \n",
      " 0   date                                        5290 non-null   object \n",
      " 1   primary_cleaner.input.sulfate               5286 non-null   float64\n",
      " 2   primary_cleaner.input.depressant            5285 non-null   float64\n",
      " 3   primary_cleaner.input.feed_size             5290 non-null   float64\n",
      " 4   primary_cleaner.input.xanthate              5286 non-null   float64\n",
      " 5   primary_cleaner.state.floatbank8_a_air      5290 non-null   float64\n",
      " 6   primary_cleaner.state.floatbank8_a_level    5290 non-null   float64\n",
      " 7   primary_cleaner.state.floatbank8_b_air      5290 non-null   float64\n",
      " 8   primary_cleaner.state.floatbank8_b_level    5290 non-null   float64\n",
      " 9   primary_cleaner.state.floatbank8_c_air      5290 non-null   float64\n",
      " 10  primary_cleaner.state.floatbank8_c_level    5290 non-null   float64\n",
      " 11  primary_cleaner.state.floatbank8_d_air      5290 non-null   float64\n",
      " 12  primary_cleaner.state.floatbank8_d_level    5290 non-null   float64\n",
      " 13  rougher.input.feed_ag                       5290 non-null   float64\n",
      " 14  rougher.input.feed_pb                       5290 non-null   float64\n",
      " 15  rougher.input.feed_rate                     5287 non-null   float64\n",
      " 16  rougher.input.feed_size                     5289 non-null   float64\n",
      " 17  rougher.input.feed_sol                      5269 non-null   float64\n",
      " 18  rougher.input.feed_au                       5290 non-null   float64\n",
      " 19  rougher.input.floatbank10_sulfate           5285 non-null   float64\n",
      " 20  rougher.input.floatbank10_xanthate          5290 non-null   float64\n",
      " 21  rougher.input.floatbank11_sulfate           5282 non-null   float64\n",
      " 22  rougher.input.floatbank11_xanthate          5265 non-null   float64\n",
      " 23  rougher.state.floatbank10_a_air             5290 non-null   float64\n",
      " 24  rougher.state.floatbank10_a_level           5290 non-null   float64\n",
      " 25  rougher.state.floatbank10_b_air             5290 non-null   float64\n",
      " 26  rougher.state.floatbank10_b_level           5290 non-null   float64\n",
      " 27  rougher.state.floatbank10_c_air             5290 non-null   float64\n",
      " 28  rougher.state.floatbank10_c_level           5290 non-null   float64\n",
      " 29  rougher.state.floatbank10_d_air             5290 non-null   float64\n",
      " 30  rougher.state.floatbank10_d_level           5290 non-null   float64\n",
      " 31  rougher.state.floatbank10_e_air             5290 non-null   float64\n",
      " 32  rougher.state.floatbank10_e_level           5290 non-null   float64\n",
      " 33  rougher.state.floatbank10_f_air             5290 non-null   float64\n",
      " 34  rougher.state.floatbank10_f_level           5290 non-null   float64\n",
      " 35  secondary_cleaner.state.floatbank2_a_air    5287 non-null   float64\n",
      " 36  secondary_cleaner.state.floatbank2_a_level  5290 non-null   float64\n",
      " 37  secondary_cleaner.state.floatbank2_b_air    5288 non-null   float64\n",
      " 38  secondary_cleaner.state.floatbank2_b_level  5290 non-null   float64\n",
      " 39  secondary_cleaner.state.floatbank3_a_air    5281 non-null   float64\n",
      " 40  secondary_cleaner.state.floatbank3_a_level  5290 non-null   float64\n",
      " 41  secondary_cleaner.state.floatbank3_b_air    5290 non-null   float64\n",
      " 42  secondary_cleaner.state.floatbank3_b_level  5290 non-null   float64\n",
      " 43  secondary_cleaner.state.floatbank4_a_air    5290 non-null   float64\n",
      " 44  secondary_cleaner.state.floatbank4_a_level  5290 non-null   float64\n",
      " 45  secondary_cleaner.state.floatbank4_b_air    5290 non-null   float64\n",
      " 46  secondary_cleaner.state.floatbank4_b_level  5290 non-null   float64\n",
      " 47  secondary_cleaner.state.floatbank5_a_air    5290 non-null   float64\n",
      " 48  secondary_cleaner.state.floatbank5_a_level  5290 non-null   float64\n",
      " 49  secondary_cleaner.state.floatbank5_b_air    5290 non-null   float64\n",
      " 50  secondary_cleaner.state.floatbank5_b_level  5290 non-null   float64\n",
      " 51  secondary_cleaner.state.floatbank6_a_air    5290 non-null   float64\n",
      " 52  secondary_cleaner.state.floatbank6_a_level  5290 non-null   float64\n",
      " 53  rougher.output.recovery                     5290 non-null   float64\n",
      " 54  final.output.recovery                       5290 non-null   float64\n",
      "dtypes: float64(54), object(1)\n",
      "memory usage: 2.3+ MB\n"
     ]
    }
   ],
   "source": [
    "# добавление таргетов в тестовую выборку\n",
    "df_test = pd.merge(df_test, df_full[['date','rougher.output.recovery','final.output.recovery']], on=\"date\")\n",
    "df_test.info()"
   ]
  },
  {
   "cell_type": "code",
   "execution_count": 14,
   "metadata": {},
   "outputs": [],
   "source": [
    "# Заполним пропуски \n",
    "df_train = df_train.fillna(method='ffill')\n",
    "df_test = df_test.fillna(method='ffill')"
   ]
  },
  {
   "cell_type": "markdown",
   "metadata": {},
   "source": [
    "## Анализ данных"
   ]
  },
  {
   "cell_type": "markdown",
   "metadata": {},
   "source": [
    " Посмотрите, как меняется концентрация металлов (Au, Ag, Pb) на различных этапах очистки."
   ]
  },
  {
   "cell_type": "code",
   "execution_count": 15,
   "metadata": {},
   "outputs": [
    {
     "data": {
      "image/png": "[encoded data removed]",
      "text/plain": [
       "<Figure size 864x360 with 3 Axes>"
      ]
     },
     "metadata": {
      "needs_background": "light"
     },
     "output_type": "display_data"
    }
   ],
   "source": [
    "rougher_ag = df_full[\"rougher.output.concentrate_ag\"]\n",
    "rougher_au = df_full[\"rougher.output.concentrate_au\"]\n",
    "rougher_pb = df_full[\"rougher.output.concentrate_pb\"]\n",
    "\n",
    "secondary_ag = df_full[\"final.output.concentrate_ag\"]\n",
    "secondary_au = df_full[\"final.output.concentrate_au\"]\n",
    "secondary_pb = df_full[\"final.output.concentrate_pb\"]\n",
    "\n",
    "primary_ag = df_full[\"primary_cleaner.output.concentrate_ag\"]\n",
    "primary_au = df_full[\"primary_cleaner.output.concentrate_au\"]\n",
    "primary_pb = df_full[\"primary_cleaner.output.concentrate_pb\"]\n",
    "\n",
    "plumbum = [rougher_pb, primary_pb, secondary_pb]\n",
    "silver = [rougher_ag, primary_ag, secondary_ag]\n",
    "gold = [rougher_au, primary_au, secondary_au]\n",
    "\n",
    "fig, axes = plt.subplots(1, 3, figsize=(12, 5))\n",
    "for metal, ax, name in zip([ plumbum, silver, gold], axes, [\"plumbum\", \"silver\", \"gold\"]):\n",
    "    for stage, color, label in zip(metal, [\"r\", \"y\", \"g\"], [\"rougher\", \"primary\", \"secondary\"]):\n",
    "        ax.hist(stage, alpha=0.5, bins=30, label=label)\n",
    "    ax.legend()\n",
    "    ax.set_title(name)\n",
    "plt.show()"
   ]
  },
  {
   "cell_type": "markdown",
   "metadata": {},
   "source": [
    "Видно, что концентрация серебра и свинца на каждом этапе очистки падает, а концентрация золота растет. Распределение нормальное."
   ]
  },
  {
   "cell_type": "markdown",
   "metadata": {},
   "source": [
    "Сравним распределения размеров гранул сырья на обучающей и тестовой выборках."
   ]
  },
  {
   "cell_type": "code",
   "execution_count": 16,
   "metadata": {},
   "outputs": [
    {
     "data": {
      "image/png": "[encoded data removed]",
      "text/plain": [
       "<Figure size 432x288 with 1 Axes>"
      ]
     },
     "metadata": {
      "needs_background": "light"
     },
     "output_type": "display_data"
    },
    {
     "data": {
      "image/png": "[encoded data removed]",
      "text/plain": [
       "<Figure size 432x288 with 1 Axes>"
      ]
     },
     "metadata": {
      "needs_background": "light"
     },
     "output_type": "display_data"
    }
   ],
   "source": [
    "# Для сравнения используем метод ядерной оценки плотности, который пытается аппроксимировать \n",
    "# гистограмму непрерывной функцией при помощи ядерной оценки плотности.\n",
    "# Создадим функцию для постройки этого графика и сравним распределения гранул сырья для черного и первично очищенного\n",
    "def kde(feed_size, xmax):\n",
    "    sns.kdeplot(df_train[feed_size], label='train rougher.input.feed_size', alpha=0.5, shade=True)\n",
    "    sns.kdeplot(df_test[feed_size], label='test rougher.input.feed_size', alpha=0.7, shade=True)\n",
    "    \n",
    "    plt.xlim([0, xmax])\n",
    "    plt.xlabel('Значения')\n",
    "    plt.ylabel('Плотность')\n",
    "    plt.legend(loc=\"upper right\")\n",
    "    plt.show()\n",
    "    \n",
    "kde('rougher.input.feed_size', 140)\n",
    "kde('primary_cleaner.input.feed_size', 10)"
   ]
  },
  {
   "cell_type": "markdown",
   "metadata": {},
   "source": [
    "Распределения достаточно близки, можно сделать вывод, что оценки будут сравнимы."
   ]
  },
  {
   "cell_type": "markdown",
   "metadata": {},
   "source": [
    "Исследуем суммарную концентрацию всех веществ на разных стадиях: в сырье, в черновом и финальном концентратах."
   ]
  },
  {
   "cell_type": "code",
   "execution_count": 17,
   "metadata": {},
   "outputs": [
    {
     "name": "stdout",
     "output_type": "stream",
     "text": [
      "       rougher_input_feed_sum\n",
      "count            19245.000000\n",
      "mean                57.407926\n",
      "std                  7.165219\n",
      "min                  0.040000\n",
      "25%                 53.660745\n",
      "50%                 57.647093\n",
      "75%                 62.012223\n",
      "max                 76.978947\n"
     ]
    },
    {
     "data": {
      "image/png": "[encoded data removed]",
      "text/plain": [
       "<Figure size 879.5x360 with 1 Axes>"
      ]
     },
     "metadata": {
      "needs_background": "light"
     },
     "output_type": "display_data"
    }
   ],
   "source": [
    "# Проссумируем концентрацию всех веществ на каждом этапе, запишем это в отдельные переменные, создадим датафрейм со всеми ними\n",
    "rougher_input_feed_sum = (df_full['rougher.input.feed_au'] + df_full['rougher.input.feed_ag'] + \n",
    "                          df_full['rougher.input.feed_pb'] + df_full['rougher.input.feed_sol'])\n",
    "\n",
    "rougher_output_concentrate_sum = (df_full['rougher.output.concentrate_au'] + df_full['rougher.output.concentrate_ag'] + \n",
    "                                  df_full['rougher.output.concentrate_pb'] + df_full['rougher.output.concentrate_sol'])\n",
    "\n",
    "primary_cleaner_output_concentrate_sum = (df_full['primary_cleaner.output.concentrate_au'] + \n",
    "                                          df_full['primary_cleaner.output.concentrate_ag'] + \n",
    "                                          df_full['primary_cleaner.output.concentrate_pb'] + \n",
    "                                          df_full['primary_cleaner.output.concentrate_sol'])\n",
    "\n",
    "final_output_concentrate_sum = (df_full['final.output.concentrate_au'] + df_full['final.output.concentrate_ag'] + \n",
    "                                df_full['final.output.concentrate_pb'] + df_full['final.output.concentrate_sol'])\n",
    "\n",
    "sum_concentrate = pd.DataFrame()\n",
    "sum_concentrate['rougher_input_feed_sum'] = \\\n",
    "    df_full['rougher.input.feed_au'] + \\\n",
    "    df_full['rougher.input.feed_ag'] + \\\n",
    "    df_full['rougher.input.feed_pb'] + \\\n",
    "    df_full['rougher.input.feed_sol']\n",
    "\n",
    "plot = sns.displot(sum_concentrate, kind=\"kde\", fill=True, aspect=2)\n",
    "plot.fig.suptitle('Суммарные концентрации элементов на разных стадиях обогащения')\n",
    "\n",
    "print(sum_concentrate.describe())"
   ]
  },
  {
   "cell_type": "markdown",
   "metadata": {},
   "source": [
    "Видно, что есть знаечния равные 0, их нужно удалить. Заодно удалим и остальные нули, на других этапах.\n"
   ]
  },
  {
   "cell_type": "code",
   "execution_count": 18,
   "metadata": {},
   "outputs": [
    {
     "data": {
      "text/plain": [
       "18848"
      ]
     },
     "execution_count": 18,
     "metadata": {},
     "output_type": "execute_result"
    }
   ],
   "source": [
    "df_full = df_full[df_full[['final.output.concentrate_au','final.output.concentrate_ag',\n",
    "                           'final.output.concentrate_pb','final.output.concentrate_sol']].min(axis=1) > 0]\n",
    "df_full = df_full[df_full[['rougher.input.feed_au', 'rougher.input.feed_ag',\n",
    "                           'rougher.input.feed_pb', 'rougher.input.feed_sol']].min(axis=1) > 0]\n",
    "df_full = df_full[df_full[['rougher.output.concentrate_au', 'rougher.output.concentrate_ag', \n",
    "                           'rougher.output.concentrate_pb','rougher.output.concentrate_sol']].min(axis=1) > 0]\n",
    "df_full = df_full[df_full[['primary_cleaner.output.concentrate_au', 'primary_cleaner.output.concentrate_ag', \n",
    "                           'primary_cleaner.output.concentrate_pb', 'primary_cleaner.output.concentrate_sol']].min(axis=1) > 0]\n",
    "len(df_full)"
   ]
  },
  {
   "cell_type": "markdown",
   "metadata": {},
   "source": [
    "Удаление было произведено из всего датафрейма, теперь нужно убрать эти нули в обучающей выборке."
   ]
  },
  {
   "cell_type": "code",
   "execution_count": 19,
   "metadata": {},
   "outputs": [
    {
     "data": {
      "text/plain": [
       "13725"
      ]
     },
     "execution_count": 19,
     "metadata": {},
     "output_type": "execute_result"
    }
   ],
   "source": [
    "# Оставляю в обучающей выборке только те строки, которые входят в уже отфильтрованный датафрейм с помощью merge\n",
    "df_train = pd.merge(df_train, df_full[['date']], on=\"date\")\n",
    "len(df_train)"
   ]
  },
  {
   "cell_type": "markdown",
   "metadata": {},
   "source": [
    "## Модель"
   ]
  },
  {
   "cell_type": "markdown",
   "metadata": {},
   "source": [
    "Перед обучением созданием модели удалим признак date, он нам больше не поможет."
   ]
  },
  {
   "cell_type": "code",
   "execution_count": 20,
   "metadata": {},
   "outputs": [],
   "source": [
    "df_train = df_train.drop('date', axis=1)\n",
    "df_test = df_test.drop('date', axis=1)"
   ]
  },
  {
   "cell_type": "code",
   "execution_count": 21,
   "metadata": {},
   "outputs": [],
   "source": [
    "# Создадим функцию для подсчета sMAPE\n",
    "def sMAPE(predict, target):\n",
    "    smape = abs(target-predict)/((abs(target)+abs(predict))/2)*100\n",
    "    smape=smape.fillna(value=0)\n",
    "    smape = sum(smape)/len(smape)\n",
    "    return smape"
   ]
  },
  {
   "cell_type": "markdown",
   "metadata": {},
   "source": [
    "Подберем модель для rougher."
   ]
  },
  {
   "cell_type": "code",
   "execution_count": 82,
   "metadata": {},
   "outputs": [
    {
     "name": "stdout",
     "output_type": "stream",
     "text": [
      "Лучшие параметры: {'max_depth': 5, 'n_estimators': 30} \n",
      "\n",
      "Лучшый счет: -6.59206030332227 \n",
      "\n"
     ]
    }
   ],
   "source": [
    "# выделим features и target для обучающей выборки\n",
    "rougher_columns = [c for c in df_test.columns if \"rougher\" in c and c != \"rougher.output.recovery\"] # Берем только признаки rougher\n",
    "x_rougher = df_train[rougher_columns]\n",
    "y_rougher = df_train['rougher.output.recovery']\n",
    "\n",
    "# масштабируем признаки\n",
    "scaler = StandardScaler()\n",
    "scaler.fit(x_rougher)\n",
    "x_rougher = scaler.transform(x_rougher)\n",
    "\n",
    "# обучим модель случайного леса\n",
    "rfc = RandomForestRegressor(random_state=12345)\n",
    "\n",
    "parametrs = { 'n_estimators': range (30, 61, 10), # число деревьев в лесу\n",
    "              'max_depth': range (5,11, 2)} # глубина\n",
    "\n",
    "grid = GridSearchCV(rfc, parametrs, cv=5, scoring=make_scorer(sMAPE, greater_is_better=False))\n",
    "grid.fit(x_rougher, y_rougher)\n",
    "\n",
    "print('Лучшие параметры:', grid.best_params_, '\\n')\n",
    "print('Лучшый счет:', grid.best_score_, '\\n')"
   ]
  },
  {
   "cell_type": "markdown",
   "metadata": {},
   "source": [
    "Неплохой результат - чем ближе к 0, тем лучше. Посмотрим, что нам покажет линейнейная регрессия"
   ]
  },
  {
   "cell_type": "code",
   "execution_count": 83,
   "metadata": {},
   "outputs": [
    {
     "name": "stdout",
     "output_type": "stream",
     "text": [
      "sMAPE на обучающей выборке: -6.677118661212688\n"
     ]
    }
   ],
   "source": [
    "# Обучим так же модель линейной регресии, будем использовать кросс-валидацию\n",
    "model_reg = LinearRegression()\n",
    "\n",
    "scores = cross_val_score(model_reg, x_rougher, y_rougher, \n",
    "                        cv=5, scoring=make_scorer(sMAPE, greater_is_better=False))\n",
    "final_score = pd.Series(scores).mean()\n",
    "print('sMAPE на обучающей выборке:', final_score)"
   ]
  },
  {
   "cell_type": "markdown",
   "metadata": {},
   "source": [
    "Линейная регрессия показала результат немного хуже. Будем тестить на случайном лесу."
   ]
  },
  {
   "cell_type": "code",
   "execution_count": 23,
   "metadata": {},
   "outputs": [],
   "source": [
    "# выделим features и target для тестовой выборки\n",
    "x_test_rougher = df_test[rougher_columns]\n",
    "y_test_rougher = df_test['rougher.output.recovery']"
   ]
  },
  {
   "cell_type": "code",
   "execution_count": 24,
   "metadata": {},
   "outputs": [],
   "source": [
    "# cделаем масштабирование признаков\n",
    "x_test_rougher = scaler.transform(x_test_rougher)"
   ]
  },
  {
   "cell_type": "code",
   "execution_count": 86,
   "metadata": {},
   "outputs": [
    {
     "name": "stdout",
     "output_type": "stream",
     "text": [
      "8.360437757036706\n"
     ]
    }
   ],
   "source": [
    "pred = grid.predict(x_test_rougher)\n",
    "rougher_sMAPE = sMAPE(y_test_rougher, pred)\n",
    "print(rougher_sMAPE)"
   ]
  },
  {
   "cell_type": "markdown",
   "metadata": {},
   "source": [
    "Проверим модель на адекватность с помощью DummyRegressor"
   ]
  },
  {
   "cell_type": "code",
   "execution_count": 25,
   "metadata": {},
   "outputs": [
    {
     "data": {
      "text/plain": [
       "8.78264680914839"
      ]
     },
     "execution_count": 25,
     "metadata": {},
     "output_type": "execute_result"
    }
   ],
   "source": [
    "X = np.array(x_test_rougher)\n",
    "y = np.array(y_test_rougher)\n",
    "dummy = DummyRegressor(strategy='mean')\n",
    "dummy.fit(X, y)\n",
    "dummy_pred = dummy.predict(x_test_rougher)\n",
    "dummy.score(x_test_rougher, y_test_rougher)\n",
    "sMAPE(y_test_rougher, dummy_pred)"
   ]
  },
  {
   "cell_type": "markdown",
   "metadata": {},
   "source": [
    "C моделью все хорошо."
   ]
  },
  {
   "cell_type": "markdown",
   "metadata": {},
   "source": [
    "Хорошие результаты, осталось лишь подобрать модель для final.output.recovery и вычислить на ней sMAPE."
   ]
  },
  {
   "cell_type": "markdown",
   "metadata": {},
   "source": [
    "Теперь подберем модель для final.output.recovery."
   ]
  },
  {
   "cell_type": "code",
   "execution_count": 41,
   "metadata": {},
   "outputs": [
    {
     "name": "stdout",
     "output_type": "stream",
     "text": [
      "Лучшие параметры: {'max_depth': 6, 'n_estimators': 40} \n",
      "\n",
      "Лучшый счет: -9.206509252713776 \n",
      "\n"
     ]
    }
   ],
   "source": [
    "# выделим features и target\n",
    "x_train = df_train[test_columns]\n",
    "x_train = x_train.drop('final.output.recovery', axis=1)\n",
    "y_train = df_train['final.output.recovery']\n",
    "\n",
    "\n",
    "# проведем масштабирование\n",
    "scaler.fit(x_train)\n",
    "x_train = scaler.transform(x_train)\n",
    "\n",
    "# обучим модель случайного леса\n",
    "rfc_final = RandomForestRegressor(random_state=12345)\n",
    "\n",
    "parametrs = { # 'n_estimators': range (40, 81, 10), # число деревьев в лесу\n",
    "              'max_depth': range (6,11, 2)} # глубина\n",
    "\n",
    "grid = GridSearchCV(rfc_final, parametrs, cv=5, scoring=make_scorer(sMAPE, greater_is_better=False))\n",
    "grid.fit(x_train, y_train)\n",
    "\n",
    "print('Лучшие параметры:', grid.best_params_, '\\n')\n",
    "print('Лучшый счет:', grid.best_score_, '\\n')"
   ]
  },
  {
   "cell_type": "markdown",
   "metadata": {},
   "source": [
    "Хороший результат, посмотрим на модель линейной регрессии."
   ]
  },
  {
   "cell_type": "code",
   "execution_count": 76,
   "metadata": {},
   "outputs": [
    {
     "name": "stdout",
     "output_type": "stream",
     "text": [
      "sMAPE: -8.245181484338023\n"
     ]
    }
   ],
   "source": [
    "model_reg_final = LinearRegression()\n",
    "\n",
    "scores = cross_val_score(model_reg_final, x_train, y_train, \n",
    "                        cv=5, scoring=make_scorer(sMAPE, greater_is_better=False))\n",
    "final_score = pd.Series(scores).mean()\n",
    "print('sMAPE:', final_score)"
   ]
  },
  {
   "cell_type": "markdown",
   "metadata": {},
   "source": [
    "sMAPE лучше у случайного леса, его и будем использовать в тесте."
   ]
  },
  {
   "cell_type": "code",
   "execution_count": 45,
   "metadata": {},
   "outputs": [],
   "source": [
    "# выделим features и target для тестовой выборки\n",
    "x_test = df_test[test_columns]\n",
    "# x_test = x_test.drop('final.output.recovery', axis=1)\n",
    "y_test = df_test['final.output.recovery']"
   ]
  },
  {
   "cell_type": "code",
   "execution_count": null,
   "metadata": {},
   "outputs": [],
   "source": [
    "# выделим features и target для тестовой выборки\n",
    "x_test = df_test[test_columns]\n",
    "x_test = x_test.drop('final.output.recovery', axis=1)\n",
    "y_test = df_test['final.output.recovery']\n",
    "\n",
    "# cделаем масштабирование признаков\n",
    "x_test = scaler.transform(x_test)\n",
    "\n",
    "pred = grid.predict(x_test)\n",
    "final_sMAPE = sMAPE(y_test, pred)\n",
    "print(final_sMAPE)"
   ]
  },
  {
   "cell_type": "markdown",
   "metadata": {},
   "source": [
    "Проверка на адеккватсность"
   ]
  },
  {
   "cell_type": "code",
   "execution_count": 47,
   "metadata": {},
   "outputs": [
    {
     "data": {
      "text/plain": [
       "9.37099559434784"
      ]
     },
     "execution_count": 47,
     "metadata": {},
     "output_type": "execute_result"
    }
   ],
   "source": [
    "X = np.array(x_test)\n",
    "y = np.array(y_test)\n",
    "dummy = DummyRegressor(strategy='mean')\n",
    "dummy.fit(X, y)\n",
    "dummy_pred = dummy.predict(x_test)\n",
    "dummy.score(x_test, y_test)\n",
    "sMAPE(y_test, dummy_pred)"
   ]
  },
  {
   "cell_type": "code",
   "execution_count": 91,
   "metadata": {},
   "outputs": [
    {
     "name": "stdout",
     "output_type": "stream",
     "text": [
      "Финальная sMAPE: 8.117174017095385\n"
     ]
    }
   ],
   "source": [
    "print('Финальная sMAPE:', (0.25 * rougher_sMAPE + 0.75 * final_sMAPE))"
   ]
  },
  {
   "cell_type": "markdown",
   "metadata": {},
   "source": [
    "## Вывод"
   ]
  },
  {
   "cell_type": "markdown",
   "metadata": {},
   "source": [
    "Была проведена предобработка данных:\n",
    "-были заполнены пропуски на основании предыдущей записи\n",
    "-в тестовую выборку были добавлены недостающие признаки\n",
    "\n",
    "Мы узнали как менялась концентрация металлов - концентрация серебра и свинца на каждом этапе очистки падает, а концентрация золота растет. Распределение нормальное.\n",
    "\n",
    "Распределения размеров гранул сырья на обучающей и тестовой выборках не сильно отличается.\n",
    "\n",
    "Было исследовано суммарная концентрация всех веществ на разных стадиях, были найдены нули, которые в итоге удалены.\n",
    "\n",
    "Была написана функция для подсчета sMAPE. Исследовались модели линейной регрессии и случайного леса. И для фотации, и для финального концентрата были выбраны модели случайного леса.\n",
    "\n",
    "Финальная sMAPE: 8.117174017095385"
   ]
  }
 ],
 "metadata": {
  "ExecuteTimeLog": [
   {
    "duration": 50,
    "start_time": "2022-11-08T20:24:40.315Z"
   },
   {
    "duration": 1586,
    "start_time": "2022-11-08T20:24:44.670Z"
   },
   {
    "duration": 98,
    "start_time": "2022-11-08T20:24:46.259Z"
   },
   {
    "duration": 1065,
    "start_time": "2022-11-08T20:29:21.875Z"
   },
   {
    "duration": 294,
    "start_time": "2022-11-08T20:29:40.055Z"
   },
   {
    "duration": 17,
    "start_time": "2022-11-08T20:31:49.032Z"
   },
   {
    "duration": 126,
    "start_time": "2022-11-08T20:32:58.680Z"
   },
   {
    "duration": 10,
    "start_time": "2022-11-08T20:34:55.488Z"
   },
   {
    "duration": 9,
    "start_time": "2022-11-08T20:35:02.912Z"
   },
   {
    "duration": 150,
    "start_time": "2022-11-08T20:48:29.408Z"
   },
   {
    "duration": 14,
    "start_time": "2022-11-08T20:48:58.180Z"
   },
   {
    "duration": 19,
    "start_time": "2022-11-08T20:49:27.157Z"
   },
   {
    "duration": 9,
    "start_time": "2022-11-08T20:55:14.339Z"
   },
   {
    "duration": 9,
    "start_time": "2022-11-08T21:54:52.122Z"
   },
   {
    "duration": 9,
    "start_time": "2022-11-08T21:55:02.854Z"
   },
   {
    "duration": 41,
    "start_time": "2022-11-09T19:28:48.614Z"
   },
   {
    "duration": 1435,
    "start_time": "2022-11-09T19:28:57.088Z"
   },
   {
    "duration": 1040,
    "start_time": "2022-11-09T19:28:58.525Z"
   },
   {
    "duration": 15,
    "start_time": "2022-11-09T19:28:59.566Z"
   },
   {
    "duration": 110,
    "start_time": "2022-11-09T19:28:59.583Z"
   },
   {
    "duration": 155,
    "start_time": "2022-11-09T19:28:59.694Z"
   },
   {
    "duration": 11,
    "start_time": "2022-11-09T19:28:59.850Z"
   },
   {
    "duration": 19,
    "start_time": "2022-11-09T19:28:59.863Z"
   },
   {
    "duration": 5,
    "start_time": "2022-11-09T19:28:59.884Z"
   },
   {
    "duration": 70,
    "start_time": "2022-11-09T19:35:31.842Z"
   },
   {
    "duration": 12,
    "start_time": "2022-11-09T19:35:40.878Z"
   },
   {
    "duration": 15,
    "start_time": "2022-11-09T19:36:03.062Z"
   },
   {
    "duration": 8,
    "start_time": "2022-11-09T19:36:53.802Z"
   },
   {
    "duration": 8,
    "start_time": "2022-11-09T19:37:05.902Z"
   },
   {
    "duration": 3,
    "start_time": "2022-11-09T19:39:08.862Z"
   },
   {
    "duration": 2,
    "start_time": "2022-11-09T19:39:21.660Z"
   },
   {
    "duration": 3,
    "start_time": "2022-11-09T19:39:24.739Z"
   },
   {
    "duration": 12,
    "start_time": "2022-11-09T19:39:33.271Z"
   },
   {
    "duration": 3,
    "start_time": "2022-11-09T19:39:50.394Z"
   },
   {
    "duration": 3,
    "start_time": "2022-11-09T19:40:06.871Z"
   },
   {
    "duration": 14,
    "start_time": "2022-11-09T19:40:17.380Z"
   },
   {
    "duration": 5,
    "start_time": "2022-11-09T19:42:00.219Z"
   },
   {
    "duration": 25,
    "start_time": "2022-11-09T19:42:06.979Z"
   },
   {
    "duration": 13,
    "start_time": "2022-11-09T19:42:23.123Z"
   },
   {
    "duration": 2,
    "start_time": "2022-11-09T19:55:09.363Z"
   },
   {
    "duration": 91,
    "start_time": "2022-11-09T20:00:59.416Z"
   },
   {
    "duration": 22,
    "start_time": "2022-11-09T20:01:30.635Z"
   },
   {
    "duration": 1446,
    "start_time": "2022-11-11T15:31:07.326Z"
   },
   {
    "duration": 855,
    "start_time": "2022-11-11T15:31:08.774Z"
   },
   {
    "duration": 17,
    "start_time": "2022-11-11T15:31:09.631Z"
   },
   {
    "duration": 110,
    "start_time": "2022-11-11T15:31:09.650Z"
   },
   {
    "duration": 116,
    "start_time": "2022-11-11T15:31:09.761Z"
   },
   {
    "duration": 0,
    "start_time": "2022-11-11T15:31:09.879Z"
   },
   {
    "duration": 0,
    "start_time": "2022-11-11T15:31:09.880Z"
   },
   {
    "duration": 0,
    "start_time": "2022-11-11T15:31:09.880Z"
   },
   {
    "duration": 0,
    "start_time": "2022-11-11T15:31:09.881Z"
   },
   {
    "duration": 0,
    "start_time": "2022-11-11T15:31:09.882Z"
   },
   {
    "duration": 0,
    "start_time": "2022-11-11T15:31:09.883Z"
   },
   {
    "duration": 0,
    "start_time": "2022-11-11T15:31:09.884Z"
   },
   {
    "duration": 4,
    "start_time": "2022-11-11T15:31:51.522Z"
   },
   {
    "duration": 272,
    "start_time": "2022-11-11T15:31:51.528Z"
   },
   {
    "duration": 14,
    "start_time": "2022-11-11T15:31:51.801Z"
   },
   {
    "duration": 126,
    "start_time": "2022-11-11T15:31:51.816Z"
   },
   {
    "duration": 427,
    "start_time": "2022-11-11T15:31:51.944Z"
   },
   {
    "duration": 12,
    "start_time": "2022-11-11T15:31:52.372Z"
   },
   {
    "duration": 21,
    "start_time": "2022-11-11T15:31:52.385Z"
   },
   {
    "duration": 12,
    "start_time": "2022-11-11T15:31:52.408Z"
   },
   {
    "duration": 1741,
    "start_time": "2022-11-11T15:31:52.422Z"
   },
   {
    "duration": 41,
    "start_time": "2022-11-11T15:31:54.165Z"
   },
   {
    "duration": 0,
    "start_time": "2022-11-11T15:31:54.208Z"
   },
   {
    "duration": 362,
    "start_time": "2022-11-11T15:32:36.157Z"
   },
   {
    "duration": 351,
    "start_time": "2022-11-11T15:33:07.366Z"
   },
   {
    "duration": 3,
    "start_time": "2022-11-11T15:33:18.343Z"
   },
   {
    "duration": 293,
    "start_time": "2022-11-11T15:33:18.347Z"
   },
   {
    "duration": 23,
    "start_time": "2022-11-11T15:33:18.642Z"
   },
   {
    "duration": 127,
    "start_time": "2022-11-11T15:33:18.667Z"
   },
   {
    "duration": 93,
    "start_time": "2022-11-11T15:33:18.796Z"
   },
   {
    "duration": 11,
    "start_time": "2022-11-11T15:33:18.891Z"
   },
   {
    "duration": 19,
    "start_time": "2022-11-11T15:33:18.903Z"
   },
   {
    "duration": 35,
    "start_time": "2022-11-11T15:33:18.924Z"
   },
   {
    "duration": 409,
    "start_time": "2022-11-11T15:33:18.961Z"
   },
   {
    "duration": 21,
    "start_time": "2022-11-11T15:33:19.372Z"
   },
   {
    "duration": 17,
    "start_time": "2022-11-11T15:33:38.876Z"
   },
   {
    "duration": 87,
    "start_time": "2022-11-11T15:35:15.303Z"
   },
   {
    "duration": 47,
    "start_time": "2022-11-11T16:21:16.702Z"
   },
   {
    "duration": 6,
    "start_time": "2022-11-11T16:22:15.332Z"
   },
   {
    "duration": 8,
    "start_time": "2022-11-11T16:22:42.700Z"
   },
   {
    "duration": 7,
    "start_time": "2022-11-11T16:36:54.311Z"
   },
   {
    "duration": 36,
    "start_time": "2022-11-11T16:54:22.080Z"
   },
   {
    "duration": 32,
    "start_time": "2022-11-11T16:54:46.380Z"
   },
   {
    "duration": 28,
    "start_time": "2022-11-11T16:54:48.779Z"
   },
   {
    "duration": 24,
    "start_time": "2022-11-11T16:55:03.859Z"
   },
   {
    "duration": 25,
    "start_time": "2022-11-11T16:55:21.399Z"
   },
   {
    "duration": 18,
    "start_time": "2022-11-11T16:55:34.284Z"
   },
   {
    "duration": 4,
    "start_time": "2022-11-11T16:55:43.530Z"
   },
   {
    "duration": 295,
    "start_time": "2022-11-11T16:55:43.537Z"
   },
   {
    "duration": 15,
    "start_time": "2022-11-11T16:55:43.833Z"
   },
   {
    "duration": 110,
    "start_time": "2022-11-11T16:55:43.859Z"
   },
   {
    "duration": 94,
    "start_time": "2022-11-11T16:55:43.971Z"
   },
   {
    "duration": 12,
    "start_time": "2022-11-11T16:55:44.067Z"
   },
   {
    "duration": 29,
    "start_time": "2022-11-11T16:55:44.081Z"
   },
   {
    "duration": 12,
    "start_time": "2022-11-11T16:55:44.111Z"
   },
   {
    "duration": 381,
    "start_time": "2022-11-11T16:55:44.124Z"
   },
   {
    "duration": 16,
    "start_time": "2022-11-11T16:55:44.506Z"
   },
   {
    "duration": 114,
    "start_time": "2022-11-11T16:55:44.524Z"
   },
   {
    "duration": 53,
    "start_time": "2022-11-11T16:55:44.640Z"
   },
   {
    "duration": 0,
    "start_time": "2022-11-11T16:55:44.696Z"
   },
   {
    "duration": 0,
    "start_time": "2022-11-11T16:55:44.697Z"
   },
   {
    "duration": 7,
    "start_time": "2022-11-11T16:55:57.155Z"
   },
   {
    "duration": 29,
    "start_time": "2022-11-11T16:55:57.624Z"
   },
   {
    "duration": 8,
    "start_time": "2022-11-11T16:58:45.493Z"
   },
   {
    "duration": 31,
    "start_time": "2022-11-11T16:59:16.569Z"
   },
   {
    "duration": 13,
    "start_time": "2022-11-11T16:59:24.039Z"
   },
   {
    "duration": 8,
    "start_time": "2022-11-11T17:19:47.928Z"
   },
   {
    "duration": 51,
    "start_time": "2022-11-12T20:55:40.834Z"
   },
   {
    "duration": 1702,
    "start_time": "2022-11-12T20:55:46.969Z"
   },
   {
    "duration": 1232,
    "start_time": "2022-11-12T20:55:48.673Z"
   },
   {
    "duration": 20,
    "start_time": "2022-11-12T20:55:49.907Z"
   },
   {
    "duration": 150,
    "start_time": "2022-11-12T20:55:49.930Z"
   },
   {
    "duration": 174,
    "start_time": "2022-11-12T20:55:50.082Z"
   },
   {
    "duration": 15,
    "start_time": "2022-11-12T20:55:50.258Z"
   },
   {
    "duration": 28,
    "start_time": "2022-11-12T20:55:50.275Z"
   },
   {
    "duration": 18,
    "start_time": "2022-11-12T20:55:50.304Z"
   },
   {
    "duration": 588,
    "start_time": "2022-11-12T20:55:50.324Z"
   },
   {
    "duration": 21,
    "start_time": "2022-11-12T20:55:50.914Z"
   },
   {
    "duration": 119,
    "start_time": "2022-11-12T20:55:50.936Z"
   },
   {
    "duration": 8,
    "start_time": "2022-11-12T20:55:51.057Z"
   },
   {
    "duration": 40,
    "start_time": "2022-11-12T20:55:51.078Z"
   },
   {
    "duration": 13,
    "start_time": "2022-11-12T20:55:51.119Z"
   },
   {
    "duration": 1365,
    "start_time": "2022-11-12T20:55:51.134Z"
   },
   {
    "duration": 4,
    "start_time": "2022-11-12T20:56:14.440Z"
   },
   {
    "duration": 12,
    "start_time": "2022-11-12T21:04:09.666Z"
   },
   {
    "duration": 6,
    "start_time": "2022-11-12T21:04:33.838Z"
   },
   {
    "duration": 10,
    "start_time": "2022-11-12T21:05:24.737Z"
   },
   {
    "duration": 69,
    "start_time": "2022-11-12T21:08:23.576Z"
   },
   {
    "duration": 3,
    "start_time": "2022-11-12T21:31:11.200Z"
   },
   {
    "duration": 319,
    "start_time": "2022-11-12T21:32:34.436Z"
   },
   {
    "duration": 19,
    "start_time": "2022-11-12T21:32:44.811Z"
   },
   {
    "duration": 126,
    "start_time": "2022-11-12T21:32:46.365Z"
   },
   {
    "duration": 118,
    "start_time": "2022-11-12T21:32:57.869Z"
   },
   {
    "duration": 17,
    "start_time": "2022-11-12T21:32:58.020Z"
   },
   {
    "duration": 24,
    "start_time": "2022-11-12T21:32:58.171Z"
   },
   {
    "duration": 21,
    "start_time": "2022-11-12T21:32:58.478Z"
   },
   {
    "duration": 453,
    "start_time": "2022-11-12T21:33:01.886Z"
   },
   {
    "duration": 21,
    "start_time": "2022-11-12T21:33:02.507Z"
   },
   {
    "duration": 93,
    "start_time": "2022-11-12T21:33:03.310Z"
   },
   {
    "duration": 7,
    "start_time": "2022-11-12T21:33:04.560Z"
   },
   {
    "duration": 38,
    "start_time": "2022-11-12T21:33:05.066Z"
   },
   {
    "duration": 10,
    "start_time": "2022-11-12T21:33:05.258Z"
   },
   {
    "duration": 78,
    "start_time": "2022-11-12T21:33:06.888Z"
   },
   {
    "duration": 5,
    "start_time": "2022-11-12T21:33:07.126Z"
   },
   {
    "duration": 66,
    "start_time": "2022-11-12T21:36:37.384Z"
   },
   {
    "duration": 1422,
    "start_time": "2022-11-12T21:36:49.795Z"
   },
   {
    "duration": 334,
    "start_time": "2022-11-12T21:36:51.219Z"
   },
   {
    "duration": 24,
    "start_time": "2022-11-12T21:36:51.555Z"
   },
   {
    "duration": 143,
    "start_time": "2022-11-12T21:36:51.581Z"
   },
   {
    "duration": 125,
    "start_time": "2022-11-12T21:36:51.726Z"
   },
   {
    "duration": 14,
    "start_time": "2022-11-12T21:36:51.853Z"
   },
   {
    "duration": 21,
    "start_time": "2022-11-12T21:36:51.878Z"
   },
   {
    "duration": 15,
    "start_time": "2022-11-12T21:36:51.901Z"
   },
   {
    "duration": 410,
    "start_time": "2022-11-12T21:36:51.918Z"
   },
   {
    "duration": 17,
    "start_time": "2022-11-12T21:36:52.330Z"
   },
   {
    "duration": 113,
    "start_time": "2022-11-12T21:36:52.349Z"
   },
   {
    "duration": 18,
    "start_time": "2022-11-12T21:36:52.463Z"
   },
   {
    "duration": 32,
    "start_time": "2022-11-12T21:36:52.482Z"
   },
   {
    "duration": 12,
    "start_time": "2022-11-12T21:36:52.517Z"
   },
   {
    "duration": 71,
    "start_time": "2022-11-12T21:36:52.531Z"
   },
   {
    "duration": 0,
    "start_time": "2022-11-12T21:36:52.604Z"
   },
   {
    "duration": 0,
    "start_time": "2022-11-12T21:36:52.605Z"
   },
   {
    "duration": 175,
    "start_time": "2022-11-12T21:37:02.183Z"
   },
   {
    "duration": 51,
    "start_time": "2022-11-12T21:41:17.422Z"
   },
   {
    "duration": 1420,
    "start_time": "2022-11-12T21:41:21.732Z"
   },
   {
    "duration": 327,
    "start_time": "2022-11-12T21:41:23.154Z"
   },
   {
    "duration": 18,
    "start_time": "2022-11-12T21:41:23.483Z"
   },
   {
    "duration": 150,
    "start_time": "2022-11-12T21:41:23.503Z"
   },
   {
    "duration": 103,
    "start_time": "2022-11-12T21:41:23.655Z"
   },
   {
    "duration": 24,
    "start_time": "2022-11-12T21:41:23.760Z"
   },
   {
    "duration": 22,
    "start_time": "2022-11-12T21:41:23.786Z"
   },
   {
    "duration": 19,
    "start_time": "2022-11-12T21:41:23.810Z"
   },
   {
    "duration": 548,
    "start_time": "2022-11-12T21:41:23.831Z"
   },
   {
    "duration": 24,
    "start_time": "2022-11-12T21:41:24.381Z"
   },
   {
    "duration": 118,
    "start_time": "2022-11-12T21:41:24.407Z"
   },
   {
    "duration": 11,
    "start_time": "2022-11-12T21:41:24.527Z"
   },
   {
    "duration": 65,
    "start_time": "2022-11-12T21:41:24.540Z"
   },
   {
    "duration": 15,
    "start_time": "2022-11-12T21:41:24.608Z"
   },
   {
    "duration": 71,
    "start_time": "2022-11-12T21:41:24.625Z"
   },
   {
    "duration": 0,
    "start_time": "2022-11-12T21:41:24.698Z"
   },
   {
    "duration": 0,
    "start_time": "2022-11-12T21:41:24.699Z"
   },
   {
    "duration": 209,
    "start_time": "2022-11-12T21:41:28.621Z"
   },
   {
    "duration": 168,
    "start_time": "2022-11-12T21:43:54.910Z"
   },
   {
    "duration": 573,
    "start_time": "2022-11-12T21:58:06.370Z"
   },
   {
    "duration": 851,
    "start_time": "2022-11-12T22:01:22.671Z"
   },
   {
    "duration": 889,
    "start_time": "2022-11-12T22:04:22.449Z"
   },
   {
    "duration": 1009,
    "start_time": "2022-11-12T22:04:34.143Z"
   },
   {
    "duration": 841,
    "start_time": "2022-11-12T22:04:55.795Z"
   },
   {
    "duration": 948,
    "start_time": "2022-11-12T22:05:17.308Z"
   },
   {
    "duration": 855,
    "start_time": "2022-11-12T22:06:31.345Z"
   },
   {
    "duration": 1028,
    "start_time": "2022-11-12T22:09:52.744Z"
   },
   {
    "duration": 925,
    "start_time": "2022-11-12T22:10:34.497Z"
   },
   {
    "duration": 1065,
    "start_time": "2022-11-12T22:11:50.032Z"
   },
   {
    "duration": 144,
    "start_time": "2022-11-12T22:20:33.301Z"
   },
   {
    "duration": 1567,
    "start_time": "2022-11-12T22:22:53.865Z"
   },
   {
    "duration": 324,
    "start_time": "2022-11-12T22:22:55.433Z"
   },
   {
    "duration": 23,
    "start_time": "2022-11-12T22:22:55.759Z"
   },
   {
    "duration": 136,
    "start_time": "2022-11-12T22:22:55.783Z"
   },
   {
    "duration": 104,
    "start_time": "2022-11-12T22:22:55.921Z"
   },
   {
    "duration": 15,
    "start_time": "2022-11-12T22:22:56.027Z"
   },
   {
    "duration": 39,
    "start_time": "2022-11-12T22:22:56.044Z"
   },
   {
    "duration": 13,
    "start_time": "2022-11-12T22:22:56.085Z"
   },
   {
    "duration": 448,
    "start_time": "2022-11-12T22:22:56.100Z"
   },
   {
    "duration": 33,
    "start_time": "2022-11-12T22:22:56.550Z"
   },
   {
    "duration": 137,
    "start_time": "2022-11-12T22:22:56.585Z"
   },
   {
    "duration": 10,
    "start_time": "2022-11-12T22:22:56.724Z"
   },
   {
    "duration": 57,
    "start_time": "2022-11-12T22:22:56.736Z"
   },
   {
    "duration": 12,
    "start_time": "2022-11-12T22:22:56.796Z"
   },
   {
    "duration": 881,
    "start_time": "2022-11-12T22:22:56.810Z"
   },
   {
    "duration": 248,
    "start_time": "2022-11-12T22:22:57.694Z"
   },
   {
    "duration": 120,
    "start_time": "2022-11-12T22:50:35.244Z"
   },
   {
    "duration": 12,
    "start_time": "2022-11-12T22:50:59.280Z"
   },
   {
    "duration": 4,
    "start_time": "2022-11-12T23:00:40.938Z"
   },
   {
    "duration": 13,
    "start_time": "2022-11-12T23:00:59.283Z"
   },
   {
    "duration": 11,
    "start_time": "2022-11-12T23:01:22.691Z"
   },
   {
    "duration": 61,
    "start_time": "2022-11-12T23:01:40.791Z"
   },
   {
    "duration": 410,
    "start_time": "2022-11-12T23:01:52.396Z"
   },
   {
    "duration": 103,
    "start_time": "2022-11-12T23:07:28.917Z"
   },
   {
    "duration": 453,
    "start_time": "2022-11-12T23:08:11.635Z"
   },
   {
    "duration": 907,
    "start_time": "2022-11-12T23:08:43.461Z"
   },
   {
    "duration": 871,
    "start_time": "2022-11-12T23:11:43.913Z"
   },
   {
    "duration": 79,
    "start_time": "2022-11-12T23:38:45.227Z"
   },
   {
    "duration": 1568,
    "start_time": "2022-11-12T23:41:11.162Z"
   },
   {
    "duration": 357,
    "start_time": "2022-11-12T23:41:12.732Z"
   },
   {
    "duration": 21,
    "start_time": "2022-11-12T23:41:13.091Z"
   },
   {
    "duration": 156,
    "start_time": "2022-11-12T23:41:13.115Z"
   },
   {
    "duration": 104,
    "start_time": "2022-11-12T23:41:13.277Z"
   },
   {
    "duration": 15,
    "start_time": "2022-11-12T23:41:13.383Z"
   },
   {
    "duration": 24,
    "start_time": "2022-11-12T23:41:13.400Z"
   },
   {
    "duration": 14,
    "start_time": "2022-11-12T23:41:13.426Z"
   },
   {
    "duration": 432,
    "start_time": "2022-11-12T23:41:13.442Z"
   },
   {
    "duration": 24,
    "start_time": "2022-11-12T23:41:13.879Z"
   },
   {
    "duration": 143,
    "start_time": "2022-11-12T23:41:13.905Z"
   },
   {
    "duration": 11,
    "start_time": "2022-11-12T23:41:14.052Z"
   },
   {
    "duration": 63,
    "start_time": "2022-11-12T23:41:14.065Z"
   },
   {
    "duration": 12,
    "start_time": "2022-11-12T23:41:14.130Z"
   },
   {
    "duration": 950,
    "start_time": "2022-11-12T23:41:14.144Z"
   },
   {
    "duration": 797,
    "start_time": "2022-11-12T23:41:15.096Z"
   },
   {
    "duration": 70,
    "start_time": "2022-11-12T23:41:15.895Z"
   },
   {
    "duration": 0,
    "start_time": "2022-11-12T23:41:15.967Z"
   },
   {
    "duration": 136,
    "start_time": "2022-11-12T23:41:29.680Z"
   },
   {
    "duration": 773,
    "start_time": "2022-11-12T23:41:52.219Z"
   },
   {
    "duration": 743,
    "start_time": "2022-11-12T23:44:46.337Z"
   },
   {
    "duration": 15,
    "start_time": "2022-11-12T23:46:57.682Z"
   },
   {
    "duration": 23,
    "start_time": "2022-11-12T23:47:13.396Z"
   },
   {
    "duration": 17,
    "start_time": "2022-11-12T23:48:23.969Z"
   },
   {
    "duration": 17,
    "start_time": "2022-11-12T23:49:14.410Z"
   },
   {
    "duration": 10,
    "start_time": "2022-11-12T23:50:25.547Z"
   },
   {
    "duration": 19,
    "start_time": "2022-11-12T23:50:37.140Z"
   },
   {
    "duration": 4,
    "start_time": "2022-11-12T23:51:40.446Z"
   },
   {
    "duration": 321,
    "start_time": "2022-11-12T23:51:40.453Z"
   },
   {
    "duration": 19,
    "start_time": "2022-11-12T23:51:40.777Z"
   },
   {
    "duration": 146,
    "start_time": "2022-11-12T23:51:40.798Z"
   },
   {
    "duration": 117,
    "start_time": "2022-11-12T23:51:40.946Z"
   },
   {
    "duration": 20,
    "start_time": "2022-11-12T23:51:41.065Z"
   },
   {
    "duration": 30,
    "start_time": "2022-11-12T23:51:41.087Z"
   },
   {
    "duration": 17,
    "start_time": "2022-11-12T23:51:41.119Z"
   },
   {
    "duration": 454,
    "start_time": "2022-11-12T23:51:41.138Z"
   },
   {
    "duration": 19,
    "start_time": "2022-11-12T23:51:41.594Z"
   },
   {
    "duration": 118,
    "start_time": "2022-11-12T23:51:41.616Z"
   },
   {
    "duration": 9,
    "start_time": "2022-11-12T23:51:41.735Z"
   },
   {
    "duration": 38,
    "start_time": "2022-11-12T23:51:41.746Z"
   },
   {
    "duration": 852,
    "start_time": "2022-11-12T23:51:41.786Z"
   },
   {
    "duration": 945,
    "start_time": "2022-11-12T23:51:42.641Z"
   },
   {
    "duration": 792,
    "start_time": "2022-11-12T23:51:43.588Z"
   },
   {
    "duration": 14,
    "start_time": "2022-11-12T23:51:44.382Z"
   },
   {
    "duration": 69,
    "start_time": "2022-11-12T23:51:44.398Z"
   },
   {
    "duration": 0,
    "start_time": "2022-11-12T23:51:44.468Z"
   },
   {
    "duration": 23,
    "start_time": "2022-11-12T23:51:53.762Z"
   },
   {
    "duration": 6,
    "start_time": "2022-11-13T00:11:12.646Z"
   },
   {
    "duration": 22,
    "start_time": "2022-11-13T00:11:19.509Z"
   },
   {
    "duration": 4,
    "start_time": "2022-11-13T00:11:44.956Z"
   },
   {
    "duration": 330,
    "start_time": "2022-11-13T00:11:44.963Z"
   },
   {
    "duration": 19,
    "start_time": "2022-11-13T00:11:45.295Z"
   },
   {
    "duration": 137,
    "start_time": "2022-11-13T00:11:45.315Z"
   },
   {
    "duration": 97,
    "start_time": "2022-11-13T00:11:45.454Z"
   },
   {
    "duration": 29,
    "start_time": "2022-11-13T00:11:45.553Z"
   },
   {
    "duration": 23,
    "start_time": "2022-11-13T00:11:45.584Z"
   },
   {
    "duration": 15,
    "start_time": "2022-11-13T00:11:45.609Z"
   },
   {
    "duration": 423,
    "start_time": "2022-11-13T00:11:45.626Z"
   },
   {
    "duration": 39,
    "start_time": "2022-11-13T00:11:46.050Z"
   },
   {
    "duration": 100,
    "start_time": "2022-11-13T00:11:46.092Z"
   },
   {
    "duration": 8,
    "start_time": "2022-11-13T00:11:46.194Z"
   },
   {
    "duration": 39,
    "start_time": "2022-11-13T00:11:46.204Z"
   },
   {
    "duration": 861,
    "start_time": "2022-11-13T00:11:46.245Z"
   },
   {
    "duration": 912,
    "start_time": "2022-11-13T00:11:47.108Z"
   },
   {
    "duration": 782,
    "start_time": "2022-11-13T00:11:48.022Z"
   },
   {
    "duration": 15,
    "start_time": "2022-11-13T00:11:48.806Z"
   },
   {
    "duration": 24,
    "start_time": "2022-11-13T00:11:48.822Z"
   },
   {
    "duration": 59,
    "start_time": "2022-11-13T00:11:48.848Z"
   },
   {
    "duration": 15,
    "start_time": "2022-11-13T00:12:16.072Z"
   },
   {
    "duration": 4,
    "start_time": "2022-11-13T00:12:27.782Z"
   },
   {
    "duration": 347,
    "start_time": "2022-11-13T00:12:27.789Z"
   },
   {
    "duration": 151,
    "start_time": "2022-11-13T00:12:28.138Z"
   },
   {
    "duration": 132,
    "start_time": "2022-11-13T00:12:28.292Z"
   },
   {
    "duration": 95,
    "start_time": "2022-11-13T00:12:28.426Z"
   },
   {
    "duration": 14,
    "start_time": "2022-11-13T00:12:28.523Z"
   },
   {
    "duration": 41,
    "start_time": "2022-11-13T00:12:28.539Z"
   },
   {
    "duration": 18,
    "start_time": "2022-11-13T00:12:28.582Z"
   },
   {
    "duration": 404,
    "start_time": "2022-11-13T00:12:28.603Z"
   },
   {
    "duration": 22,
    "start_time": "2022-11-13T00:12:29.009Z"
   },
   {
    "duration": 122,
    "start_time": "2022-11-13T00:12:29.032Z"
   },
   {
    "duration": 8,
    "start_time": "2022-11-13T00:12:29.156Z"
   },
   {
    "duration": 16,
    "start_time": "2022-11-13T00:12:29.177Z"
   },
   {
    "duration": 839,
    "start_time": "2022-11-13T00:12:29.195Z"
   },
   {
    "duration": 859,
    "start_time": "2022-11-13T00:12:30.036Z"
   },
   {
    "duration": 684,
    "start_time": "2022-11-13T00:12:30.896Z"
   },
   {
    "duration": 18,
    "start_time": "2022-11-13T00:12:31.582Z"
   },
   {
    "duration": 27,
    "start_time": "2022-11-13T00:12:31.602Z"
   },
   {
    "duration": 9,
    "start_time": "2022-11-13T00:12:31.632Z"
   },
   {
    "duration": 15,
    "start_time": "2022-11-13T00:13:40.142Z"
   },
   {
    "duration": 4,
    "start_time": "2022-11-13T00:21:38.505Z"
   },
   {
    "duration": 4,
    "start_time": "2022-11-13T00:21:46.658Z"
   },
   {
    "duration": 17,
    "start_time": "2022-11-13T00:33:09.840Z"
   },
   {
    "duration": 1141,
    "start_time": "2022-11-13T00:39:56.686Z"
   },
   {
    "duration": 1376,
    "start_time": "2022-11-13T00:40:09.582Z"
   },
   {
    "duration": 28,
    "start_time": "2022-11-13T00:51:21.782Z"
   },
   {
    "duration": 28,
    "start_time": "2022-11-13T00:57:10.974Z"
   },
   {
    "duration": 4,
    "start_time": "2022-11-13T00:57:56.883Z"
   },
   {
    "duration": 12,
    "start_time": "2022-11-13T01:01:45.247Z"
   },
   {
    "duration": 12,
    "start_time": "2022-11-13T01:01:57.145Z"
   },
   {
    "duration": 4,
    "start_time": "2022-11-13T01:02:22.535Z"
   },
   {
    "duration": 1018,
    "start_time": "2022-11-13T01:02:28.967Z"
   },
   {
    "duration": 217,
    "start_time": "2022-11-13T01:06:13.567Z"
   },
   {
    "duration": 4,
    "start_time": "2022-11-13T01:19:33.566Z"
   },
   {
    "duration": 4,
    "start_time": "2022-11-13T01:20:56.666Z"
   },
   {
    "duration": 12,
    "start_time": "2022-11-13T01:21:01.426Z"
   },
   {
    "duration": 1418,
    "start_time": "2022-11-13T01:21:08.946Z"
   },
   {
    "duration": 55,
    "start_time": "2022-11-13T20:36:08.664Z"
   },
   {
    "duration": 1628,
    "start_time": "2022-11-13T20:36:19.137Z"
   },
   {
    "duration": 1146,
    "start_time": "2022-11-13T20:36:20.767Z"
   },
   {
    "duration": 27,
    "start_time": "2022-11-13T20:36:21.915Z"
   },
   {
    "duration": 142,
    "start_time": "2022-11-13T20:36:21.944Z"
   },
   {
    "duration": 433,
    "start_time": "2022-11-13T20:36:22.089Z"
   },
   {
    "duration": 15,
    "start_time": "2022-11-13T20:36:22.534Z"
   },
   {
    "duration": 22,
    "start_time": "2022-11-13T20:36:22.550Z"
   },
   {
    "duration": 15,
    "start_time": "2022-11-13T20:36:22.574Z"
   },
   {
    "duration": 1907,
    "start_time": "2022-11-13T20:36:22.591Z"
   },
   {
    "duration": 22,
    "start_time": "2022-11-13T20:36:24.500Z"
   },
   {
    "duration": 114,
    "start_time": "2022-11-13T20:36:24.528Z"
   },
   {
    "duration": 8,
    "start_time": "2022-11-13T20:36:24.644Z"
   },
   {
    "duration": 32,
    "start_time": "2022-11-13T20:36:24.653Z"
   },
   {
    "duration": 966,
    "start_time": "2022-11-13T20:36:24.688Z"
   },
   {
    "duration": 915,
    "start_time": "2022-11-13T20:36:25.656Z"
   },
   {
    "duration": 857,
    "start_time": "2022-11-13T20:36:26.573Z"
   },
   {
    "duration": 16,
    "start_time": "2022-11-13T20:36:27.439Z"
   },
   {
    "duration": 26,
    "start_time": "2022-11-13T20:36:27.457Z"
   },
   {
    "duration": 13,
    "start_time": "2022-11-13T20:36:27.485Z"
   },
   {
    "duration": 7,
    "start_time": "2022-11-13T20:36:27.500Z"
   },
   {
    "duration": 56,
    "start_time": "2022-11-13T20:36:27.508Z"
   },
   {
    "duration": 0,
    "start_time": "2022-11-13T20:36:27.566Z"
   },
   {
    "duration": 0,
    "start_time": "2022-11-13T20:36:27.568Z"
   },
   {
    "duration": 0,
    "start_time": "2022-11-13T20:36:27.569Z"
   },
   {
    "duration": 5,
    "start_time": "2022-11-13T20:36:35.983Z"
   },
   {
    "duration": 89,
    "start_time": "2022-11-13T20:37:02.463Z"
   },
   {
    "duration": 39,
    "start_time": "2022-11-13T20:38:30.835Z"
   },
   {
    "duration": 9,
    "start_time": "2022-11-13T20:38:38.971Z"
   },
   {
    "duration": 3,
    "start_time": "2022-11-13T20:41:00.699Z"
   },
   {
    "duration": 11,
    "start_time": "2022-11-13T20:41:07.921Z"
   },
   {
    "duration": 10,
    "start_time": "2022-11-13T20:41:49.017Z"
   },
   {
    "duration": 13,
    "start_time": "2022-11-13T20:42:16.427Z"
   },
   {
    "duration": 12,
    "start_time": "2022-11-13T20:44:32.172Z"
   },
   {
    "duration": 4,
    "start_time": "2022-11-13T20:48:54.201Z"
   },
   {
    "duration": 304,
    "start_time": "2022-11-13T20:48:54.206Z"
   },
   {
    "duration": 19,
    "start_time": "2022-11-13T20:48:54.512Z"
   },
   {
    "duration": 137,
    "start_time": "2022-11-13T20:48:54.533Z"
   },
   {
    "duration": 87,
    "start_time": "2022-11-13T20:48:54.672Z"
   },
   {
    "duration": 12,
    "start_time": "2022-11-13T20:48:54.760Z"
   },
   {
    "duration": 26,
    "start_time": "2022-11-13T20:48:54.774Z"
   },
   {
    "duration": 27,
    "start_time": "2022-11-13T20:48:54.801Z"
   },
   {
    "duration": 343,
    "start_time": "2022-11-13T20:48:54.830Z"
   },
   {
    "duration": 18,
    "start_time": "2022-11-13T20:48:55.174Z"
   },
   {
    "duration": 103,
    "start_time": "2022-11-13T20:48:55.193Z"
   },
   {
    "duration": 8,
    "start_time": "2022-11-13T20:48:55.297Z"
   },
   {
    "duration": 24,
    "start_time": "2022-11-13T20:48:55.306Z"
   },
   {
    "duration": 791,
    "start_time": "2022-11-13T20:48:55.332Z"
   },
   {
    "duration": 880,
    "start_time": "2022-11-13T20:48:56.125Z"
   },
   {
    "duration": 698,
    "start_time": "2022-11-13T20:48:57.007Z"
   },
   {
    "duration": 17,
    "start_time": "2022-11-13T20:48:57.707Z"
   },
   {
    "duration": 20,
    "start_time": "2022-11-13T20:48:57.726Z"
   },
   {
    "duration": 7,
    "start_time": "2022-11-13T20:48:57.747Z"
   },
   {
    "duration": 5,
    "start_time": "2022-11-13T20:48:57.755Z"
   },
   {
    "duration": 6,
    "start_time": "2022-11-13T20:48:57.762Z"
   },
   {
    "duration": 13,
    "start_time": "2022-11-13T20:48:57.769Z"
   },
   {
    "duration": 0,
    "start_time": "2022-11-13T20:48:57.783Z"
   },
   {
    "duration": 5,
    "start_time": "2022-11-13T20:50:53.156Z"
   },
   {
    "duration": 797,
    "start_time": "2022-11-13T20:50:58.623Z"
   },
   {
    "duration": 11,
    "start_time": "2022-11-13T20:54:29.959Z"
   },
   {
    "duration": 13,
    "start_time": "2022-11-13T20:54:45.200Z"
   },
   {
    "duration": 651,
    "start_time": "2022-11-13T20:54:47.874Z"
   },
   {
    "duration": 1041,
    "start_time": "2022-11-13T20:58:26.479Z"
   },
   {
    "duration": 1185,
    "start_time": "2022-11-13T20:58:42.640Z"
   },
   {
    "duration": 5926,
    "start_time": "2022-11-13T21:02:12.399Z"
   },
   {
    "duration": 4089,
    "start_time": "2022-11-13T21:12:49.381Z"
   },
   {
    "duration": 8033,
    "start_time": "2022-11-13T21:13:50.399Z"
   },
   {
    "duration": 732,
    "start_time": "2022-11-13T21:15:57.282Z"
   },
   {
    "duration": 6,
    "start_time": "2022-11-13T22:04:16.625Z"
   },
   {
    "duration": 10,
    "start_time": "2022-11-13T22:05:30.504Z"
   },
   {
    "duration": 9,
    "start_time": "2022-11-13T22:05:48.906Z"
   },
   {
    "duration": 7,
    "start_time": "2022-11-13T22:05:49.283Z"
   },
   {
    "duration": 11,
    "start_time": "2022-11-13T22:06:38.802Z"
   },
   {
    "duration": 352,
    "start_time": "2022-11-13T22:06:44.377Z"
   },
   {
    "duration": 4,
    "start_time": "2022-11-13T22:10:05.343Z"
   },
   {
    "duration": 13,
    "start_time": "2022-11-13T22:10:05.498Z"
   },
   {
    "duration": 983,
    "start_time": "2022-11-13T22:10:05.640Z"
   },
   {
    "duration": 47327,
    "start_time": "2022-11-13T22:11:28.398Z"
   },
   {
    "duration": 1977,
    "start_time": "2022-11-13T22:18:33.086Z"
   },
   {
    "duration": 4,
    "start_time": "2022-11-13T22:25:10.601Z"
   },
   {
    "duration": 1223,
    "start_time": "2022-11-13T22:25:15.709Z"
   },
   {
    "duration": 4,
    "start_time": "2022-11-13T22:26:23.325Z"
   },
   {
    "duration": 811,
    "start_time": "2022-11-13T22:26:26.210Z"
   },
   {
    "duration": 3,
    "start_time": "2022-11-13T22:29:43.172Z"
   },
   {
    "duration": 990,
    "start_time": "2022-11-13T22:29:47.729Z"
   },
   {
    "duration": 2064,
    "start_time": "2022-11-13T22:29:51.228Z"
   },
   {
    "duration": 4,
    "start_time": "2022-11-13T22:36:00.589Z"
   },
   {
    "duration": 321,
    "start_time": "2022-11-13T22:36:00.595Z"
   },
   {
    "duration": 18,
    "start_time": "2022-11-13T22:36:00.919Z"
   },
   {
    "duration": 133,
    "start_time": "2022-11-13T22:36:00.940Z"
   },
   {
    "duration": 92,
    "start_time": "2022-11-13T22:36:01.075Z"
   },
   {
    "duration": 13,
    "start_time": "2022-11-13T22:36:01.169Z"
   },
   {
    "duration": 39,
    "start_time": "2022-11-13T22:36:01.184Z"
   },
   {
    "duration": 17,
    "start_time": "2022-11-13T22:36:01.224Z"
   },
   {
    "duration": 388,
    "start_time": "2022-11-13T22:36:01.243Z"
   },
   {
    "duration": 19,
    "start_time": "2022-11-13T22:36:01.634Z"
   },
   {
    "duration": 102,
    "start_time": "2022-11-13T22:36:01.655Z"
   },
   {
    "duration": 6,
    "start_time": "2022-11-13T22:36:01.760Z"
   },
   {
    "duration": 29,
    "start_time": "2022-11-13T22:36:01.768Z"
   },
   {
    "duration": 14,
    "start_time": "2022-11-13T22:36:01.798Z"
   },
   {
    "duration": 833,
    "start_time": "2022-11-13T22:36:01.819Z"
   },
   {
    "duration": 887,
    "start_time": "2022-11-13T22:36:02.654Z"
   },
   {
    "duration": 880,
    "start_time": "2022-11-13T22:36:03.543Z"
   },
   {
    "duration": 13,
    "start_time": "2022-11-13T22:36:04.425Z"
   },
   {
    "duration": 29,
    "start_time": "2022-11-13T22:36:04.440Z"
   },
   {
    "duration": 9,
    "start_time": "2022-11-13T22:36:04.471Z"
   },
   {
    "duration": 9,
    "start_time": "2022-11-13T22:36:04.481Z"
   },
   {
    "duration": 9,
    "start_time": "2022-11-13T22:36:04.492Z"
   },
   {
    "duration": 15,
    "start_time": "2022-11-13T22:36:04.519Z"
   },
   {
    "duration": 893,
    "start_time": "2022-11-13T22:36:04.536Z"
   },
   {
    "duration": 2201,
    "start_time": "2022-11-13T22:36:05.432Z"
   },
   {
    "duration": 45,
    "start_time": "2022-11-13T22:36:07.634Z"
   },
   {
    "duration": 5,
    "start_time": "2022-11-13T22:36:32.869Z"
   },
   {
    "duration": 339,
    "start_time": "2022-11-13T22:36:32.876Z"
   },
   {
    "duration": 17,
    "start_time": "2022-11-13T22:36:33.218Z"
   },
   {
    "duration": 132,
    "start_time": "2022-11-13T22:36:33.237Z"
   },
   {
    "duration": 113,
    "start_time": "2022-11-13T22:36:33.371Z"
   },
   {
    "duration": 14,
    "start_time": "2022-11-13T22:36:33.486Z"
   },
   {
    "duration": 40,
    "start_time": "2022-11-13T22:36:33.502Z"
   },
   {
    "duration": 16,
    "start_time": "2022-11-13T22:36:33.544Z"
   },
   {
    "duration": 382,
    "start_time": "2022-11-13T22:36:33.562Z"
   },
   {
    "duration": 18,
    "start_time": "2022-11-13T22:36:33.945Z"
   },
   {
    "duration": 105,
    "start_time": "2022-11-13T22:36:33.964Z"
   },
   {
    "duration": 7,
    "start_time": "2022-11-13T22:36:34.070Z"
   },
   {
    "duration": 22,
    "start_time": "2022-11-13T22:36:34.079Z"
   },
   {
    "duration": 37,
    "start_time": "2022-11-13T22:36:34.103Z"
   },
   {
    "duration": 821,
    "start_time": "2022-11-13T22:36:34.142Z"
   },
   {
    "duration": 960,
    "start_time": "2022-11-13T22:36:34.965Z"
   },
   {
    "duration": 702,
    "start_time": "2022-11-13T22:36:35.927Z"
   },
   {
    "duration": 13,
    "start_time": "2022-11-13T22:36:36.631Z"
   },
   {
    "duration": 25,
    "start_time": "2022-11-13T22:36:36.646Z"
   },
   {
    "duration": 8,
    "start_time": "2022-11-13T22:36:36.673Z"
   },
   {
    "duration": 36,
    "start_time": "2022-11-13T22:36:36.683Z"
   },
   {
    "duration": 4,
    "start_time": "2022-11-13T22:36:36.721Z"
   },
   {
    "duration": 16,
    "start_time": "2022-11-13T22:36:36.727Z"
   },
   {
    "duration": 978,
    "start_time": "2022-11-13T22:36:36.746Z"
   },
   {
    "duration": 2167,
    "start_time": "2022-11-13T22:36:37.726Z"
   },
   {
    "duration": 38,
    "start_time": "2022-11-13T22:36:39.895Z"
   },
   {
    "duration": 5,
    "start_time": "2022-11-13T22:39:58.703Z"
   },
   {
    "duration": 319,
    "start_time": "2022-11-13T22:39:58.710Z"
   },
   {
    "duration": 18,
    "start_time": "2022-11-13T22:39:59.030Z"
   },
   {
    "duration": 139,
    "start_time": "2022-11-13T22:39:59.051Z"
   },
   {
    "duration": 90,
    "start_time": "2022-11-13T22:39:59.191Z"
   },
   {
    "duration": 14,
    "start_time": "2022-11-13T22:39:59.283Z"
   },
   {
    "duration": 38,
    "start_time": "2022-11-13T22:39:59.299Z"
   },
   {
    "duration": 15,
    "start_time": "2022-11-13T22:39:59.339Z"
   },
   {
    "duration": 376,
    "start_time": "2022-11-13T22:39:59.356Z"
   },
   {
    "duration": 18,
    "start_time": "2022-11-13T22:39:59.737Z"
   },
   {
    "duration": 109,
    "start_time": "2022-11-13T22:39:59.757Z"
   },
   {
    "duration": 9,
    "start_time": "2022-11-13T22:39:59.868Z"
   },
   {
    "duration": 17,
    "start_time": "2022-11-13T22:39:59.878Z"
   },
   {
    "duration": 48,
    "start_time": "2022-11-13T22:39:59.897Z"
   },
   {
    "duration": 994,
    "start_time": "2022-11-13T22:39:59.947Z"
   },
   {
    "duration": 785,
    "start_time": "2022-11-13T22:40:00.943Z"
   },
   {
    "duration": 689,
    "start_time": "2022-11-13T22:40:01.730Z"
   },
   {
    "duration": 14,
    "start_time": "2022-11-13T22:40:02.421Z"
   },
   {
    "duration": 63,
    "start_time": "2022-11-13T22:40:02.436Z"
   },
   {
    "duration": 59,
    "start_time": "2022-11-13T22:40:02.501Z"
   },
   {
    "duration": 36,
    "start_time": "2022-11-13T22:40:02.562Z"
   },
   {
    "duration": 29,
    "start_time": "2022-11-13T22:40:02.600Z"
   },
   {
    "duration": 41,
    "start_time": "2022-11-13T22:40:02.632Z"
   },
   {
    "duration": 961,
    "start_time": "2022-11-13T22:40:02.675Z"
   },
   {
    "duration": 3227,
    "start_time": "2022-11-13T22:40:03.639Z"
   },
   {
    "duration": 52,
    "start_time": "2022-11-13T22:40:06.920Z"
   },
   {
    "duration": 4,
    "start_time": "2022-11-13T22:41:21.483Z"
   },
   {
    "duration": 310,
    "start_time": "2022-11-13T22:41:21.489Z"
   },
   {
    "duration": 26,
    "start_time": "2022-11-13T22:41:21.801Z"
   },
   {
    "duration": 125,
    "start_time": "2022-11-13T22:41:21.829Z"
   },
   {
    "duration": 96,
    "start_time": "2022-11-13T22:41:21.956Z"
   },
   {
    "duration": 13,
    "start_time": "2022-11-13T22:41:22.054Z"
   },
   {
    "duration": 22,
    "start_time": "2022-11-13T22:41:22.069Z"
   },
   {
    "duration": 31,
    "start_time": "2022-11-13T22:41:22.093Z"
   },
   {
    "duration": 378,
    "start_time": "2022-11-13T22:41:22.126Z"
   },
   {
    "duration": 23,
    "start_time": "2022-11-13T22:41:22.507Z"
   },
   {
    "duration": 98,
    "start_time": "2022-11-13T22:41:22.532Z"
   },
   {
    "duration": 7,
    "start_time": "2022-11-13T22:41:22.631Z"
   },
   {
    "duration": 16,
    "start_time": "2022-11-13T22:41:22.640Z"
   },
   {
    "duration": 9,
    "start_time": "2022-11-13T22:41:22.658Z"
   },
   {
    "duration": 0,
    "start_time": "2022-11-13T22:41:22.669Z"
   },
   {
    "duration": 0,
    "start_time": "2022-11-13T22:41:22.671Z"
   },
   {
    "duration": 0,
    "start_time": "2022-11-13T22:41:22.672Z"
   },
   {
    "duration": 0,
    "start_time": "2022-11-13T22:41:22.673Z"
   },
   {
    "duration": 0,
    "start_time": "2022-11-13T22:41:22.674Z"
   },
   {
    "duration": 0,
    "start_time": "2022-11-13T22:41:22.675Z"
   },
   {
    "duration": 0,
    "start_time": "2022-11-13T22:41:22.676Z"
   },
   {
    "duration": 0,
    "start_time": "2022-11-13T22:41:22.677Z"
   },
   {
    "duration": 0,
    "start_time": "2022-11-13T22:41:22.678Z"
   },
   {
    "duration": 0,
    "start_time": "2022-11-13T22:41:22.679Z"
   },
   {
    "duration": 0,
    "start_time": "2022-11-13T22:41:22.680Z"
   },
   {
    "duration": 0,
    "start_time": "2022-11-13T22:41:22.681Z"
   },
   {
    "duration": 43,
    "start_time": "2022-11-13T22:41:40.079Z"
   },
   {
    "duration": 4,
    "start_time": "2022-11-13T22:45:25.259Z"
   },
   {
    "duration": 319,
    "start_time": "2022-11-13T22:45:25.266Z"
   },
   {
    "duration": 17,
    "start_time": "2022-11-13T22:45:25.586Z"
   },
   {
    "duration": 132,
    "start_time": "2022-11-13T22:45:25.605Z"
   },
   {
    "duration": 90,
    "start_time": "2022-11-13T22:45:25.739Z"
   },
   {
    "duration": 12,
    "start_time": "2022-11-13T22:45:25.831Z"
   },
   {
    "duration": 21,
    "start_time": "2022-11-13T22:45:25.845Z"
   },
   {
    "duration": 14,
    "start_time": "2022-11-13T22:45:25.868Z"
   },
   {
    "duration": 371,
    "start_time": "2022-11-13T22:45:25.883Z"
   },
   {
    "duration": 20,
    "start_time": "2022-11-13T22:45:26.256Z"
   },
   {
    "duration": 129,
    "start_time": "2022-11-13T22:45:26.278Z"
   },
   {
    "duration": 15,
    "start_time": "2022-11-13T22:45:26.409Z"
   },
   {
    "duration": 41,
    "start_time": "2022-11-13T22:45:26.426Z"
   },
   {
    "duration": 51,
    "start_time": "2022-11-13T22:45:26.472Z"
   },
   {
    "duration": 951,
    "start_time": "2022-11-13T22:45:26.525Z"
   },
   {
    "duration": 1055,
    "start_time": "2022-11-13T22:45:27.478Z"
   },
   {
    "duration": 0,
    "start_time": "2022-11-13T22:45:28.535Z"
   },
   {
    "duration": 0,
    "start_time": "2022-11-13T22:45:28.536Z"
   },
   {
    "duration": 0,
    "start_time": "2022-11-13T22:45:28.538Z"
   },
   {
    "duration": 0,
    "start_time": "2022-11-13T22:45:28.538Z"
   },
   {
    "duration": 0,
    "start_time": "2022-11-13T22:45:28.540Z"
   },
   {
    "duration": 0,
    "start_time": "2022-11-13T22:45:28.541Z"
   },
   {
    "duration": 0,
    "start_time": "2022-11-13T22:45:28.542Z"
   },
   {
    "duration": 0,
    "start_time": "2022-11-13T22:45:28.543Z"
   },
   {
    "duration": 0,
    "start_time": "2022-11-13T22:45:28.544Z"
   },
   {
    "duration": 0,
    "start_time": "2022-11-13T22:45:28.545Z"
   },
   {
    "duration": 5,
    "start_time": "2022-11-13T22:46:11.583Z"
   },
   {
    "duration": 314,
    "start_time": "2022-11-13T22:46:11.590Z"
   },
   {
    "duration": 26,
    "start_time": "2022-11-13T22:46:11.906Z"
   },
   {
    "duration": 127,
    "start_time": "2022-11-13T22:46:11.934Z"
   },
   {
    "duration": 83,
    "start_time": "2022-11-13T22:46:12.063Z"
   },
   {
    "duration": 12,
    "start_time": "2022-11-13T22:46:12.148Z"
   },
   {
    "duration": 21,
    "start_time": "2022-11-13T22:46:12.162Z"
   },
   {
    "duration": 13,
    "start_time": "2022-11-13T22:46:12.185Z"
   },
   {
    "duration": 384,
    "start_time": "2022-11-13T22:46:12.220Z"
   },
   {
    "duration": 20,
    "start_time": "2022-11-13T22:46:12.606Z"
   },
   {
    "duration": 104,
    "start_time": "2022-11-13T22:46:12.627Z"
   },
   {
    "duration": 8,
    "start_time": "2022-11-13T22:46:12.732Z"
   },
   {
    "duration": 25,
    "start_time": "2022-11-13T22:46:12.742Z"
   },
   {
    "duration": 57,
    "start_time": "2022-11-13T22:46:12.769Z"
   },
   {
    "duration": 851,
    "start_time": "2022-11-13T22:46:12.828Z"
   },
   {
    "duration": 1109,
    "start_time": "2022-11-13T22:46:13.681Z"
   },
   {
    "duration": 0,
    "start_time": "2022-11-13T22:46:14.792Z"
   },
   {
    "duration": 0,
    "start_time": "2022-11-13T22:46:14.794Z"
   },
   {
    "duration": 0,
    "start_time": "2022-11-13T22:46:14.795Z"
   },
   {
    "duration": 0,
    "start_time": "2022-11-13T22:46:14.796Z"
   },
   {
    "duration": 0,
    "start_time": "2022-11-13T22:46:14.798Z"
   },
   {
    "duration": 0,
    "start_time": "2022-11-13T22:46:14.799Z"
   },
   {
    "duration": 1,
    "start_time": "2022-11-13T22:46:14.799Z"
   },
   {
    "duration": 0,
    "start_time": "2022-11-13T22:46:14.801Z"
   },
   {
    "duration": 0,
    "start_time": "2022-11-13T22:46:14.802Z"
   },
   {
    "duration": 0,
    "start_time": "2022-11-13T22:46:14.819Z"
   },
   {
    "duration": 46,
    "start_time": "2022-11-13T22:53:31.121Z"
   },
   {
    "duration": 3,
    "start_time": "2022-11-13T22:53:35.385Z"
   },
   {
    "duration": 339,
    "start_time": "2022-11-13T22:53:35.390Z"
   },
   {
    "duration": 23,
    "start_time": "2022-11-13T22:53:35.731Z"
   },
   {
    "duration": 125,
    "start_time": "2022-11-13T22:53:35.756Z"
   },
   {
    "duration": 161,
    "start_time": "2022-11-13T22:53:35.884Z"
   },
   {
    "duration": 14,
    "start_time": "2022-11-13T22:53:36.047Z"
   },
   {
    "duration": 22,
    "start_time": "2022-11-13T22:53:36.063Z"
   },
   {
    "duration": 42,
    "start_time": "2022-11-13T22:53:36.086Z"
   },
   {
    "duration": 353,
    "start_time": "2022-11-13T22:53:36.130Z"
   },
   {
    "duration": 20,
    "start_time": "2022-11-13T22:53:36.485Z"
   },
   {
    "duration": 103,
    "start_time": "2022-11-13T22:53:36.508Z"
   },
   {
    "duration": 13,
    "start_time": "2022-11-13T22:53:36.612Z"
   },
   {
    "duration": 23,
    "start_time": "2022-11-13T22:53:36.627Z"
   },
   {
    "duration": 28,
    "start_time": "2022-11-13T22:53:36.652Z"
   },
   {
    "duration": 1543,
    "start_time": "2022-11-13T22:53:36.681Z"
   },
   {
    "duration": 1331,
    "start_time": "2022-11-13T22:53:38.225Z"
   },
   {
    "duration": 0,
    "start_time": "2022-11-13T22:53:39.558Z"
   },
   {
    "duration": 0,
    "start_time": "2022-11-13T22:53:39.559Z"
   },
   {
    "duration": 0,
    "start_time": "2022-11-13T22:53:39.560Z"
   },
   {
    "duration": 0,
    "start_time": "2022-11-13T22:53:39.562Z"
   },
   {
    "duration": 0,
    "start_time": "2022-11-13T22:53:39.563Z"
   },
   {
    "duration": 1,
    "start_time": "2022-11-13T22:53:39.563Z"
   },
   {
    "duration": 0,
    "start_time": "2022-11-13T22:53:39.564Z"
   },
   {
    "duration": 1,
    "start_time": "2022-11-13T22:53:39.565Z"
   },
   {
    "duration": 0,
    "start_time": "2022-11-13T22:53:39.567Z"
   },
   {
    "duration": 0,
    "start_time": "2022-11-13T22:53:39.568Z"
   },
   {
    "duration": 3,
    "start_time": "2022-11-13T22:56:34.547Z"
   },
   {
    "duration": 324,
    "start_time": "2022-11-13T22:56:34.552Z"
   },
   {
    "duration": 17,
    "start_time": "2022-11-13T22:56:34.878Z"
   },
   {
    "duration": 144,
    "start_time": "2022-11-13T22:56:34.897Z"
   },
   {
    "duration": 84,
    "start_time": "2022-11-13T22:56:35.042Z"
   },
   {
    "duration": 14,
    "start_time": "2022-11-13T22:56:35.127Z"
   },
   {
    "duration": 27,
    "start_time": "2022-11-13T22:56:35.142Z"
   },
   {
    "duration": 25,
    "start_time": "2022-11-13T22:56:35.170Z"
   },
   {
    "duration": 338,
    "start_time": "2022-11-13T22:56:35.197Z"
   },
   {
    "duration": 17,
    "start_time": "2022-11-13T22:56:35.538Z"
   },
   {
    "duration": 105,
    "start_time": "2022-11-13T22:56:35.557Z"
   },
   {
    "duration": 8,
    "start_time": "2022-11-13T22:56:35.664Z"
   },
   {
    "duration": 67,
    "start_time": "2022-11-13T22:56:35.673Z"
   },
   {
    "duration": 40,
    "start_time": "2022-11-13T22:56:35.742Z"
   },
   {
    "duration": 867,
    "start_time": "2022-11-13T22:56:35.784Z"
   },
   {
    "duration": 1095,
    "start_time": "2022-11-13T22:56:36.653Z"
   },
   {
    "duration": 0,
    "start_time": "2022-11-13T22:56:37.750Z"
   },
   {
    "duration": 0,
    "start_time": "2022-11-13T22:56:37.751Z"
   },
   {
    "duration": 0,
    "start_time": "2022-11-13T22:56:37.752Z"
   },
   {
    "duration": 0,
    "start_time": "2022-11-13T22:56:37.753Z"
   },
   {
    "duration": 0,
    "start_time": "2022-11-13T22:56:37.754Z"
   },
   {
    "duration": 0,
    "start_time": "2022-11-13T22:56:37.755Z"
   },
   {
    "duration": 0,
    "start_time": "2022-11-13T22:56:37.756Z"
   },
   {
    "duration": 0,
    "start_time": "2022-11-13T22:56:37.757Z"
   },
   {
    "duration": 0,
    "start_time": "2022-11-13T22:56:37.758Z"
   },
   {
    "duration": 0,
    "start_time": "2022-11-13T22:56:37.759Z"
   },
   {
    "duration": 6,
    "start_time": "2022-11-13T22:59:16.284Z"
   },
   {
    "duration": 330,
    "start_time": "2022-11-13T22:59:16.292Z"
   },
   {
    "duration": 16,
    "start_time": "2022-11-13T22:59:16.624Z"
   },
   {
    "duration": 131,
    "start_time": "2022-11-13T22:59:16.642Z"
   },
   {
    "duration": 95,
    "start_time": "2022-11-13T22:59:16.775Z"
   },
   {
    "duration": 13,
    "start_time": "2022-11-13T22:59:16.872Z"
   },
   {
    "duration": 34,
    "start_time": "2022-11-13T22:59:16.886Z"
   },
   {
    "duration": 13,
    "start_time": "2022-11-13T22:59:16.922Z"
   },
   {
    "duration": 370,
    "start_time": "2022-11-13T22:59:16.937Z"
   },
   {
    "duration": 25,
    "start_time": "2022-11-13T22:59:17.310Z"
   },
   {
    "duration": 97,
    "start_time": "2022-11-13T22:59:17.337Z"
   },
   {
    "duration": 8,
    "start_time": "2022-11-13T22:59:17.436Z"
   },
   {
    "duration": 21,
    "start_time": "2022-11-13T22:59:17.446Z"
   },
   {
    "duration": 15,
    "start_time": "2022-11-13T22:59:17.469Z"
   },
   {
    "duration": 0,
    "start_time": "2022-11-13T22:59:17.486Z"
   },
   {
    "duration": 0,
    "start_time": "2022-11-13T22:59:17.488Z"
   },
   {
    "duration": 0,
    "start_time": "2022-11-13T22:59:17.489Z"
   },
   {
    "duration": 0,
    "start_time": "2022-11-13T22:59:17.490Z"
   },
   {
    "duration": 0,
    "start_time": "2022-11-13T22:59:17.491Z"
   },
   {
    "duration": 0,
    "start_time": "2022-11-13T22:59:17.492Z"
   },
   {
    "duration": 0,
    "start_time": "2022-11-13T22:59:17.494Z"
   },
   {
    "duration": 0,
    "start_time": "2022-11-13T22:59:17.519Z"
   },
   {
    "duration": 0,
    "start_time": "2022-11-13T22:59:17.520Z"
   },
   {
    "duration": 0,
    "start_time": "2022-11-13T22:59:17.522Z"
   },
   {
    "duration": 0,
    "start_time": "2022-11-13T22:59:17.523Z"
   },
   {
    "duration": 0,
    "start_time": "2022-11-13T22:59:17.524Z"
   },
   {
    "duration": 13,
    "start_time": "2022-11-13T23:03:02.305Z"
   },
   {
    "duration": 5,
    "start_time": "2022-11-13T23:03:05.322Z"
   },
   {
    "duration": 425,
    "start_time": "2022-11-13T23:03:05.329Z"
   },
   {
    "duration": 18,
    "start_time": "2022-11-13T23:03:05.756Z"
   },
   {
    "duration": 139,
    "start_time": "2022-11-13T23:03:05.776Z"
   },
   {
    "duration": 90,
    "start_time": "2022-11-13T23:03:05.919Z"
   },
   {
    "duration": 15,
    "start_time": "2022-11-13T23:03:06.011Z"
   },
   {
    "duration": 22,
    "start_time": "2022-11-13T23:03:06.028Z"
   },
   {
    "duration": 14,
    "start_time": "2022-11-13T23:03:06.052Z"
   },
   {
    "duration": 399,
    "start_time": "2022-11-13T23:03:06.068Z"
   },
   {
    "duration": 19,
    "start_time": "2022-11-13T23:03:06.469Z"
   },
   {
    "duration": 108,
    "start_time": "2022-11-13T23:03:06.489Z"
   },
   {
    "duration": 20,
    "start_time": "2022-11-13T23:03:06.599Z"
   },
   {
    "duration": 29,
    "start_time": "2022-11-13T23:03:06.621Z"
   },
   {
    "duration": 12,
    "start_time": "2022-11-13T23:03:06.653Z"
   },
   {
    "duration": 957,
    "start_time": "2022-11-13T23:03:06.667Z"
   },
   {
    "duration": 694,
    "start_time": "2022-11-13T23:03:07.625Z"
   },
   {
    "duration": 0,
    "start_time": "2022-11-13T23:03:08.322Z"
   },
   {
    "duration": 0,
    "start_time": "2022-11-13T23:03:08.323Z"
   },
   {
    "duration": 0,
    "start_time": "2022-11-13T23:03:08.325Z"
   },
   {
    "duration": 0,
    "start_time": "2022-11-13T23:03:08.326Z"
   },
   {
    "duration": 0,
    "start_time": "2022-11-13T23:03:08.327Z"
   },
   {
    "duration": 0,
    "start_time": "2022-11-13T23:03:08.329Z"
   },
   {
    "duration": 0,
    "start_time": "2022-11-13T23:03:08.329Z"
   },
   {
    "duration": 1,
    "start_time": "2022-11-13T23:03:08.330Z"
   },
   {
    "duration": 0,
    "start_time": "2022-11-13T23:03:08.332Z"
   },
   {
    "duration": 0,
    "start_time": "2022-11-13T23:03:08.332Z"
   },
   {
    "duration": 4,
    "start_time": "2022-11-13T23:03:26.881Z"
   },
   {
    "duration": 277,
    "start_time": "2022-11-13T23:03:26.887Z"
   },
   {
    "duration": 16,
    "start_time": "2022-11-13T23:03:27.166Z"
   },
   {
    "duration": 133,
    "start_time": "2022-11-13T23:03:27.184Z"
   },
   {
    "duration": 87,
    "start_time": "2022-11-13T23:03:27.320Z"
   },
   {
    "duration": 14,
    "start_time": "2022-11-13T23:03:27.408Z"
   },
   {
    "duration": 36,
    "start_time": "2022-11-13T23:03:27.424Z"
   },
   {
    "duration": 28,
    "start_time": "2022-11-13T23:03:27.461Z"
   },
   {
    "duration": 334,
    "start_time": "2022-11-13T23:03:27.491Z"
   },
   {
    "duration": 18,
    "start_time": "2022-11-13T23:03:27.826Z"
   },
   {
    "duration": 112,
    "start_time": "2022-11-13T23:03:27.846Z"
   },
   {
    "duration": 8,
    "start_time": "2022-11-13T23:03:27.960Z"
   },
   {
    "duration": 32,
    "start_time": "2022-11-13T23:03:27.970Z"
   },
   {
    "duration": 25,
    "start_time": "2022-11-13T23:03:28.004Z"
   },
   {
    "duration": 1714,
    "start_time": "2022-11-13T23:03:28.031Z"
   },
   {
    "duration": 651,
    "start_time": "2022-11-13T23:03:29.747Z"
   },
   {
    "duration": 0,
    "start_time": "2022-11-13T23:03:30.400Z"
   },
   {
    "duration": 0,
    "start_time": "2022-11-13T23:03:30.401Z"
   },
   {
    "duration": 0,
    "start_time": "2022-11-13T23:03:30.402Z"
   },
   {
    "duration": 0,
    "start_time": "2022-11-13T23:03:30.403Z"
   },
   {
    "duration": 0,
    "start_time": "2022-11-13T23:03:30.404Z"
   },
   {
    "duration": 0,
    "start_time": "2022-11-13T23:03:30.406Z"
   },
   {
    "duration": 0,
    "start_time": "2022-11-13T23:03:30.419Z"
   },
   {
    "duration": 0,
    "start_time": "2022-11-13T23:03:30.420Z"
   },
   {
    "duration": 0,
    "start_time": "2022-11-13T23:03:30.421Z"
   },
   {
    "duration": 0,
    "start_time": "2022-11-13T23:03:30.422Z"
   },
   {
    "duration": 4,
    "start_time": "2022-11-13T23:04:01.105Z"
   },
   {
    "duration": 311,
    "start_time": "2022-11-13T23:04:01.151Z"
   },
   {
    "duration": 17,
    "start_time": "2022-11-13T23:04:01.465Z"
   },
   {
    "duration": 163,
    "start_time": "2022-11-13T23:04:01.483Z"
   },
   {
    "duration": 98,
    "start_time": "2022-11-13T23:04:01.649Z"
   },
   {
    "duration": 13,
    "start_time": "2022-11-13T23:04:01.750Z"
   },
   {
    "duration": 69,
    "start_time": "2022-11-13T23:04:01.765Z"
   },
   {
    "duration": 40,
    "start_time": "2022-11-13T23:04:01.835Z"
   },
   {
    "duration": 424,
    "start_time": "2022-11-13T23:04:01.878Z"
   },
   {
    "duration": 24,
    "start_time": "2022-11-13T23:04:02.303Z"
   },
   {
    "duration": 101,
    "start_time": "2022-11-13T23:04:02.329Z"
   },
   {
    "duration": 7,
    "start_time": "2022-11-13T23:04:02.432Z"
   },
   {
    "duration": 29,
    "start_time": "2022-11-13T23:04:02.440Z"
   },
   {
    "duration": 20,
    "start_time": "2022-11-13T23:04:02.471Z"
   },
   {
    "duration": 1330,
    "start_time": "2022-11-13T23:04:02.494Z"
   },
   {
    "duration": 620,
    "start_time": "2022-11-13T23:04:03.826Z"
   },
   {
    "duration": 0,
    "start_time": "2022-11-13T23:04:04.448Z"
   },
   {
    "duration": 0,
    "start_time": "2022-11-13T23:04:04.449Z"
   },
   {
    "duration": 0,
    "start_time": "2022-11-13T23:04:04.451Z"
   },
   {
    "duration": 0,
    "start_time": "2022-11-13T23:04:04.453Z"
   },
   {
    "duration": 0,
    "start_time": "2022-11-13T23:04:04.454Z"
   },
   {
    "duration": 0,
    "start_time": "2022-11-13T23:04:04.456Z"
   },
   {
    "duration": 0,
    "start_time": "2022-11-13T23:04:04.457Z"
   },
   {
    "duration": 0,
    "start_time": "2022-11-13T23:04:04.458Z"
   },
   {
    "duration": 0,
    "start_time": "2022-11-13T23:04:04.459Z"
   },
   {
    "duration": 0,
    "start_time": "2022-11-13T23:04:04.460Z"
   },
   {
    "duration": 5,
    "start_time": "2022-11-13T23:04:27.529Z"
   },
   {
    "duration": 303,
    "start_time": "2022-11-13T23:04:27.536Z"
   },
   {
    "duration": 16,
    "start_time": "2022-11-13T23:04:27.841Z"
   },
   {
    "duration": 141,
    "start_time": "2022-11-13T23:04:27.859Z"
   },
   {
    "duration": 91,
    "start_time": "2022-11-13T23:04:28.001Z"
   },
   {
    "duration": 13,
    "start_time": "2022-11-13T23:04:28.093Z"
   },
   {
    "duration": 31,
    "start_time": "2022-11-13T23:04:28.107Z"
   },
   {
    "duration": 14,
    "start_time": "2022-11-13T23:04:28.140Z"
   },
   {
    "duration": 374,
    "start_time": "2022-11-13T23:04:28.155Z"
   },
   {
    "duration": 19,
    "start_time": "2022-11-13T23:04:28.531Z"
   },
   {
    "duration": 109,
    "start_time": "2022-11-13T23:04:28.552Z"
   },
   {
    "duration": 8,
    "start_time": "2022-11-13T23:04:28.663Z"
   },
   {
    "duration": 23,
    "start_time": "2022-11-13T23:04:28.673Z"
   },
   {
    "duration": 27,
    "start_time": "2022-11-13T23:04:28.698Z"
   },
   {
    "duration": 0,
    "start_time": "2022-11-13T23:04:28.728Z"
   },
   {
    "duration": 0,
    "start_time": "2022-11-13T23:04:28.729Z"
   },
   {
    "duration": 0,
    "start_time": "2022-11-13T23:04:28.731Z"
   },
   {
    "duration": 0,
    "start_time": "2022-11-13T23:04:28.732Z"
   },
   {
    "duration": 0,
    "start_time": "2022-11-13T23:04:28.734Z"
   },
   {
    "duration": 0,
    "start_time": "2022-11-13T23:04:28.735Z"
   },
   {
    "duration": 0,
    "start_time": "2022-11-13T23:04:28.737Z"
   },
   {
    "duration": 0,
    "start_time": "2022-11-13T23:04:28.738Z"
   },
   {
    "duration": 0,
    "start_time": "2022-11-13T23:04:28.740Z"
   },
   {
    "duration": 0,
    "start_time": "2022-11-13T23:04:28.741Z"
   },
   {
    "duration": 0,
    "start_time": "2022-11-13T23:04:28.742Z"
   },
   {
    "duration": 0,
    "start_time": "2022-11-13T23:04:28.743Z"
   },
   {
    "duration": 31,
    "start_time": "2022-11-13T23:10:50.521Z"
   },
   {
    "duration": 4,
    "start_time": "2022-11-13T23:11:59.592Z"
   },
   {
    "duration": 305,
    "start_time": "2022-11-13T23:11:59.598Z"
   },
   {
    "duration": 26,
    "start_time": "2022-11-13T23:11:59.905Z"
   },
   {
    "duration": 125,
    "start_time": "2022-11-13T23:11:59.932Z"
   },
   {
    "duration": 91,
    "start_time": "2022-11-13T23:12:00.058Z"
   },
   {
    "duration": 12,
    "start_time": "2022-11-13T23:12:00.151Z"
   },
   {
    "duration": 38,
    "start_time": "2022-11-13T23:12:00.165Z"
   },
   {
    "duration": 55,
    "start_time": "2022-11-13T23:12:00.205Z"
   },
   {
    "duration": 382,
    "start_time": "2022-11-13T23:12:00.262Z"
   },
   {
    "duration": 18,
    "start_time": "2022-11-13T23:12:00.647Z"
   },
   {
    "duration": 105,
    "start_time": "2022-11-13T23:12:00.667Z"
   },
   {
    "duration": 7,
    "start_time": "2022-11-13T23:12:00.773Z"
   },
   {
    "duration": 43,
    "start_time": "2022-11-13T23:12:00.782Z"
   },
   {
    "duration": 31,
    "start_time": "2022-11-13T23:12:00.827Z"
   },
   {
    "duration": 1863,
    "start_time": "2022-11-13T23:12:00.860Z"
   },
   {
    "duration": 1158,
    "start_time": "2022-11-13T23:12:02.725Z"
   },
   {
    "duration": 734,
    "start_time": "2022-11-13T23:12:03.885Z"
   },
   {
    "duration": 12,
    "start_time": "2022-11-13T23:12:04.621Z"
   },
   {
    "duration": 18,
    "start_time": "2022-11-13T23:12:04.635Z"
   },
   {
    "duration": 47,
    "start_time": "2022-11-13T23:12:04.655Z"
   },
   {
    "duration": 11,
    "start_time": "2022-11-13T23:12:04.704Z"
   },
   {
    "duration": 16,
    "start_time": "2022-11-13T23:12:04.717Z"
   },
   {
    "duration": 19,
    "start_time": "2022-11-13T23:12:04.734Z"
   },
   {
    "duration": 972,
    "start_time": "2022-11-13T23:12:04.756Z"
   },
   {
    "duration": 2168,
    "start_time": "2022-11-13T23:12:05.729Z"
   },
   {
    "duration": 61,
    "start_time": "2022-11-13T23:12:07.899Z"
   },
   {
    "duration": 3,
    "start_time": "2022-11-13T23:12:21.233Z"
   },
   {
    "duration": 328,
    "start_time": "2022-11-13T23:12:21.238Z"
   },
   {
    "duration": 17,
    "start_time": "2022-11-13T23:12:21.568Z"
   },
   {
    "duration": 126,
    "start_time": "2022-11-13T23:12:21.586Z"
   },
   {
    "duration": 91,
    "start_time": "2022-11-13T23:12:21.718Z"
   },
   {
    "duration": 14,
    "start_time": "2022-11-13T23:12:21.810Z"
   },
   {
    "duration": 21,
    "start_time": "2022-11-13T23:12:21.825Z"
   },
   {
    "duration": 13,
    "start_time": "2022-11-13T23:12:21.847Z"
   },
   {
    "duration": 381,
    "start_time": "2022-11-13T23:12:21.861Z"
   },
   {
    "duration": 19,
    "start_time": "2022-11-13T23:12:22.243Z"
   },
   {
    "duration": 109,
    "start_time": "2022-11-13T23:12:22.266Z"
   },
   {
    "duration": 7,
    "start_time": "2022-11-13T23:12:22.376Z"
   },
   {
    "duration": 53,
    "start_time": "2022-11-13T23:12:22.385Z"
   },
   {
    "duration": 36,
    "start_time": "2022-11-13T23:12:22.440Z"
   },
   {
    "duration": 1564,
    "start_time": "2022-11-13T23:12:22.478Z"
   },
   {
    "duration": 1529,
    "start_time": "2022-11-13T23:12:24.044Z"
   },
   {
    "duration": 759,
    "start_time": "2022-11-13T23:12:25.574Z"
   },
   {
    "duration": 14,
    "start_time": "2022-11-13T23:12:26.335Z"
   },
   {
    "duration": 34,
    "start_time": "2022-11-13T23:12:26.351Z"
   },
   {
    "duration": 13,
    "start_time": "2022-11-13T23:12:26.388Z"
   },
   {
    "duration": 17,
    "start_time": "2022-11-13T23:12:26.403Z"
   },
   {
    "duration": 35,
    "start_time": "2022-11-13T23:12:26.423Z"
   },
   {
    "duration": 32,
    "start_time": "2022-11-13T23:12:26.460Z"
   },
   {
    "duration": 836,
    "start_time": "2022-11-13T23:12:26.494Z"
   },
   {
    "duration": 2043,
    "start_time": "2022-11-13T23:12:27.420Z"
   },
   {
    "duration": 62,
    "start_time": "2022-11-13T23:12:29.464Z"
   },
   {
    "duration": 5,
    "start_time": "2022-11-13T23:12:49.665Z"
   },
   {
    "duration": 307,
    "start_time": "2022-11-13T23:12:49.672Z"
   },
   {
    "duration": 15,
    "start_time": "2022-11-13T23:12:49.980Z"
   },
   {
    "duration": 129,
    "start_time": "2022-11-13T23:12:49.997Z"
   },
   {
    "duration": 94,
    "start_time": "2022-11-13T23:12:50.127Z"
   },
   {
    "duration": 13,
    "start_time": "2022-11-13T23:12:50.222Z"
   },
   {
    "duration": 36,
    "start_time": "2022-11-13T23:12:50.236Z"
   },
   {
    "duration": 12,
    "start_time": "2022-11-13T23:12:50.274Z"
   },
   {
    "duration": 368,
    "start_time": "2022-11-13T23:12:50.288Z"
   },
   {
    "duration": 18,
    "start_time": "2022-11-13T23:12:50.659Z"
   },
   {
    "duration": 104,
    "start_time": "2022-11-13T23:12:50.679Z"
   },
   {
    "duration": 9,
    "start_time": "2022-11-13T23:12:50.784Z"
   },
   {
    "duration": 49,
    "start_time": "2022-11-13T23:12:50.794Z"
   },
   {
    "duration": 33,
    "start_time": "2022-11-13T23:12:50.845Z"
   },
   {
    "duration": 1558,
    "start_time": "2022-11-13T23:12:50.880Z"
   },
   {
    "duration": 1438,
    "start_time": "2022-11-13T23:12:52.440Z"
   },
   {
    "duration": 719,
    "start_time": "2022-11-13T23:12:53.880Z"
   },
   {
    "duration": 28,
    "start_time": "2022-11-13T23:12:54.601Z"
   },
   {
    "duration": 19,
    "start_time": "2022-11-13T23:12:54.630Z"
   },
   {
    "duration": 11,
    "start_time": "2022-11-13T23:12:54.651Z"
   },
   {
    "duration": 11,
    "start_time": "2022-11-13T23:12:54.663Z"
   },
   {
    "duration": 10,
    "start_time": "2022-11-13T23:12:54.676Z"
   },
   {
    "duration": 25,
    "start_time": "2022-11-13T23:12:54.687Z"
   },
   {
    "duration": 1704,
    "start_time": "2022-11-13T23:12:54.719Z"
   },
   {
    "duration": 2113,
    "start_time": "2022-11-13T23:12:56.424Z"
   },
   {
    "duration": 50,
    "start_time": "2022-11-13T23:12:58.539Z"
   },
   {
    "duration": 18,
    "start_time": "2022-11-13T23:24:02.377Z"
   },
   {
    "duration": 4,
    "start_time": "2022-11-13T23:24:07.113Z"
   },
   {
    "duration": 310,
    "start_time": "2022-11-13T23:24:07.119Z"
   },
   {
    "duration": 17,
    "start_time": "2022-11-13T23:24:07.432Z"
   },
   {
    "duration": 134,
    "start_time": "2022-11-13T23:24:07.452Z"
   },
   {
    "duration": 89,
    "start_time": "2022-11-13T23:24:07.588Z"
   },
   {
    "duration": 14,
    "start_time": "2022-11-13T23:24:07.679Z"
   },
   {
    "duration": 39,
    "start_time": "2022-11-13T23:24:07.695Z"
   },
   {
    "duration": 16,
    "start_time": "2022-11-13T23:24:07.736Z"
   },
   {
    "duration": 353,
    "start_time": "2022-11-13T23:24:07.755Z"
   },
   {
    "duration": 19,
    "start_time": "2022-11-13T23:24:08.110Z"
   },
   {
    "duration": 109,
    "start_time": "2022-11-13T23:24:08.131Z"
   },
   {
    "duration": 7,
    "start_time": "2022-11-13T23:24:08.242Z"
   },
   {
    "duration": 23,
    "start_time": "2022-11-13T23:24:08.251Z"
   },
   {
    "duration": 49,
    "start_time": "2022-11-13T23:24:08.276Z"
   },
   {
    "duration": 928,
    "start_time": "2022-11-13T23:24:08.327Z"
   },
   {
    "duration": 1784,
    "start_time": "2022-11-13T23:24:09.257Z"
   },
   {
    "duration": 988,
    "start_time": "2022-11-13T23:24:11.042Z"
   },
   {
    "duration": 14,
    "start_time": "2022-11-13T23:24:12.031Z"
   },
   {
    "duration": 26,
    "start_time": "2022-11-13T23:24:12.047Z"
   },
   {
    "duration": 12,
    "start_time": "2022-11-13T23:24:12.120Z"
   },
   {
    "duration": 20,
    "start_time": "2022-11-13T23:24:12.133Z"
   },
   {
    "duration": 12,
    "start_time": "2022-11-13T23:24:12.154Z"
   },
   {
    "duration": 20,
    "start_time": "2022-11-13T23:24:12.168Z"
   },
   {
    "duration": 730,
    "start_time": "2022-11-13T23:24:12.191Z"
   },
   {
    "duration": 2042,
    "start_time": "2022-11-13T23:24:12.923Z"
   },
   {
    "duration": 45,
    "start_time": "2022-11-13T23:24:14.968Z"
   },
   {
    "duration": 4,
    "start_time": "2022-11-13T23:26:06.050Z"
   },
   {
    "duration": 323,
    "start_time": "2022-11-13T23:26:06.056Z"
   },
   {
    "duration": 23,
    "start_time": "2022-11-13T23:26:06.381Z"
   },
   {
    "duration": 129,
    "start_time": "2022-11-13T23:26:06.419Z"
   },
   {
    "duration": 86,
    "start_time": "2022-11-13T23:26:06.550Z"
   },
   {
    "duration": 13,
    "start_time": "2022-11-13T23:26:06.638Z"
   },
   {
    "duration": 21,
    "start_time": "2022-11-13T23:26:06.653Z"
   },
   {
    "duration": 13,
    "start_time": "2022-11-13T23:26:06.676Z"
   },
   {
    "duration": 347,
    "start_time": "2022-11-13T23:26:06.690Z"
   },
   {
    "duration": 17,
    "start_time": "2022-11-13T23:26:07.039Z"
   },
   {
    "duration": 99,
    "start_time": "2022-11-13T23:26:07.058Z"
   },
   {
    "duration": 8,
    "start_time": "2022-11-13T23:26:07.159Z"
   },
   {
    "duration": 31,
    "start_time": "2022-11-13T23:26:07.169Z"
   },
   {
    "duration": 25,
    "start_time": "2022-11-13T23:26:07.202Z"
   },
   {
    "duration": 0,
    "start_time": "2022-11-13T23:26:07.229Z"
   },
   {
    "duration": 0,
    "start_time": "2022-11-13T23:26:07.230Z"
   },
   {
    "duration": 0,
    "start_time": "2022-11-13T23:26:07.232Z"
   },
   {
    "duration": 0,
    "start_time": "2022-11-13T23:26:07.233Z"
   },
   {
    "duration": 0,
    "start_time": "2022-11-13T23:26:07.235Z"
   },
   {
    "duration": 0,
    "start_time": "2022-11-13T23:26:07.236Z"
   },
   {
    "duration": 0,
    "start_time": "2022-11-13T23:26:07.238Z"
   },
   {
    "duration": 0,
    "start_time": "2022-11-13T23:26:07.239Z"
   },
   {
    "duration": 0,
    "start_time": "2022-11-13T23:26:07.241Z"
   },
   {
    "duration": 0,
    "start_time": "2022-11-13T23:26:07.243Z"
   },
   {
    "duration": 0,
    "start_time": "2022-11-13T23:26:07.244Z"
   },
   {
    "duration": 0,
    "start_time": "2022-11-13T23:26:07.245Z"
   },
   {
    "duration": 4,
    "start_time": "2022-11-13T23:28:19.045Z"
   },
   {
    "duration": 316,
    "start_time": "2022-11-13T23:28:19.051Z"
   },
   {
    "duration": 16,
    "start_time": "2022-11-13T23:28:19.368Z"
   },
   {
    "duration": 136,
    "start_time": "2022-11-13T23:28:19.387Z"
   },
   {
    "duration": 88,
    "start_time": "2022-11-13T23:28:19.525Z"
   },
   {
    "duration": 14,
    "start_time": "2022-11-13T23:28:19.614Z"
   },
   {
    "duration": 23,
    "start_time": "2022-11-13T23:28:19.630Z"
   },
   {
    "duration": 13,
    "start_time": "2022-11-13T23:28:19.655Z"
   },
   {
    "duration": 367,
    "start_time": "2022-11-13T23:28:19.670Z"
   },
   {
    "duration": 18,
    "start_time": "2022-11-13T23:28:20.038Z"
   },
   {
    "duration": 97,
    "start_time": "2022-11-13T23:28:20.058Z"
   },
   {
    "duration": 7,
    "start_time": "2022-11-13T23:28:20.157Z"
   },
   {
    "duration": 18,
    "start_time": "2022-11-13T23:28:20.166Z"
   },
   {
    "duration": 10,
    "start_time": "2022-11-13T23:28:20.186Z"
   },
   {
    "duration": 0,
    "start_time": "2022-11-13T23:28:20.219Z"
   },
   {
    "duration": 0,
    "start_time": "2022-11-13T23:28:20.221Z"
   },
   {
    "duration": 0,
    "start_time": "2022-11-13T23:28:20.222Z"
   },
   {
    "duration": 0,
    "start_time": "2022-11-13T23:28:20.223Z"
   },
   {
    "duration": 0,
    "start_time": "2022-11-13T23:28:20.224Z"
   },
   {
    "duration": 0,
    "start_time": "2022-11-13T23:28:20.225Z"
   },
   {
    "duration": 0,
    "start_time": "2022-11-13T23:28:20.226Z"
   },
   {
    "duration": 0,
    "start_time": "2022-11-13T23:28:20.227Z"
   },
   {
    "duration": 0,
    "start_time": "2022-11-13T23:28:20.228Z"
   },
   {
    "duration": 0,
    "start_time": "2022-11-13T23:28:20.230Z"
   },
   {
    "duration": 0,
    "start_time": "2022-11-13T23:28:20.231Z"
   },
   {
    "duration": 0,
    "start_time": "2022-11-13T23:28:20.232Z"
   },
   {
    "duration": 4,
    "start_time": "2022-11-13T23:28:44.567Z"
   },
   {
    "duration": 278,
    "start_time": "2022-11-13T23:28:44.573Z"
   },
   {
    "duration": 16,
    "start_time": "2022-11-13T23:28:44.853Z"
   },
   {
    "duration": 128,
    "start_time": "2022-11-13T23:28:44.871Z"
   },
   {
    "duration": 91,
    "start_time": "2022-11-13T23:28:45.001Z"
   },
   {
    "duration": 13,
    "start_time": "2022-11-13T23:28:45.094Z"
   },
   {
    "duration": 28,
    "start_time": "2022-11-13T23:28:45.108Z"
   },
   {
    "duration": 14,
    "start_time": "2022-11-13T23:28:45.138Z"
   },
   {
    "duration": 359,
    "start_time": "2022-11-13T23:28:45.154Z"
   },
   {
    "duration": 18,
    "start_time": "2022-11-13T23:28:45.519Z"
   },
   {
    "duration": 97,
    "start_time": "2022-11-13T23:28:45.539Z"
   },
   {
    "duration": 7,
    "start_time": "2022-11-13T23:28:45.638Z"
   },
   {
    "duration": 23,
    "start_time": "2022-11-13T23:28:45.646Z"
   },
   {
    "duration": 49,
    "start_time": "2022-11-13T23:28:45.671Z"
   },
   {
    "duration": 1897,
    "start_time": "2022-11-13T23:28:45.722Z"
   },
   {
    "duration": 798,
    "start_time": "2022-11-13T23:28:47.621Z"
   },
   {
    "duration": 702,
    "start_time": "2022-11-13T23:28:48.421Z"
   },
   {
    "duration": 13,
    "start_time": "2022-11-13T23:28:49.125Z"
   },
   {
    "duration": 18,
    "start_time": "2022-11-13T23:28:49.140Z"
   },
   {
    "duration": 20,
    "start_time": "2022-11-13T23:28:49.160Z"
   },
   {
    "duration": 18,
    "start_time": "2022-11-13T23:28:49.182Z"
   },
   {
    "duration": 21,
    "start_time": "2022-11-13T23:28:49.202Z"
   },
   {
    "duration": 20,
    "start_time": "2022-11-13T23:28:49.225Z"
   },
   {
    "duration": 881,
    "start_time": "2022-11-13T23:28:49.247Z"
   },
   {
    "duration": 2014,
    "start_time": "2022-11-13T23:28:50.220Z"
   },
   {
    "duration": 43,
    "start_time": "2022-11-13T23:28:52.235Z"
   },
   {
    "duration": 1932,
    "start_time": "2022-11-13T23:31:45.888Z"
   },
   {
    "duration": 609,
    "start_time": "2022-11-13T23:31:47.822Z"
   },
   {
    "duration": 18,
    "start_time": "2022-11-13T23:31:48.433Z"
   },
   {
    "duration": 276,
    "start_time": "2022-11-13T23:31:48.452Z"
   },
   {
    "duration": 119,
    "start_time": "2022-11-13T23:31:48.730Z"
   },
   {
    "duration": 12,
    "start_time": "2022-11-13T23:31:48.851Z"
   },
   {
    "duration": 23,
    "start_time": "2022-11-13T23:31:48.864Z"
   },
   {
    "duration": 35,
    "start_time": "2022-11-13T23:31:48.888Z"
   },
   {
    "duration": 401,
    "start_time": "2022-11-13T23:31:48.925Z"
   },
   {
    "duration": 19,
    "start_time": "2022-11-13T23:31:49.329Z"
   },
   {
    "duration": 113,
    "start_time": "2022-11-13T23:31:49.349Z"
   },
   {
    "duration": 8,
    "start_time": "2022-11-13T23:31:49.463Z"
   },
   {
    "duration": 38,
    "start_time": "2022-11-13T23:31:49.473Z"
   },
   {
    "duration": 27,
    "start_time": "2022-11-13T23:31:49.512Z"
   },
   {
    "duration": 889,
    "start_time": "2022-11-13T23:31:49.541Z"
   },
   {
    "duration": 786,
    "start_time": "2022-11-13T23:31:50.432Z"
   },
   {
    "duration": 706,
    "start_time": "2022-11-13T23:31:51.220Z"
   },
   {
    "duration": 17,
    "start_time": "2022-11-13T23:31:51.929Z"
   },
   {
    "duration": 28,
    "start_time": "2022-11-13T23:31:51.948Z"
   },
   {
    "duration": 10,
    "start_time": "2022-11-13T23:31:51.978Z"
   },
   {
    "duration": 17,
    "start_time": "2022-11-13T23:31:51.989Z"
   },
   {
    "duration": 44,
    "start_time": "2022-11-13T23:31:52.008Z"
   },
   {
    "duration": 52,
    "start_time": "2022-11-13T23:31:52.053Z"
   },
   {
    "duration": 1411,
    "start_time": "2022-11-13T23:31:52.107Z"
   },
   {
    "duration": 2090,
    "start_time": "2022-11-13T23:31:53.521Z"
   },
   {
    "duration": 45,
    "start_time": "2022-11-13T23:31:55.613Z"
   },
   {
    "duration": 5,
    "start_time": "2022-11-13T23:33:24.025Z"
   },
   {
    "duration": 369,
    "start_time": "2022-11-13T23:33:24.033Z"
   },
   {
    "duration": 22,
    "start_time": "2022-11-13T23:33:24.404Z"
   },
   {
    "duration": 130,
    "start_time": "2022-11-13T23:33:24.429Z"
   },
   {
    "duration": 100,
    "start_time": "2022-11-13T23:33:24.562Z"
   },
   {
    "duration": 14,
    "start_time": "2022-11-13T23:33:24.664Z"
   },
   {
    "duration": 34,
    "start_time": "2022-11-13T23:33:24.680Z"
   },
   {
    "duration": 15,
    "start_time": "2022-11-13T23:33:24.720Z"
   },
   {
    "duration": 402,
    "start_time": "2022-11-13T23:33:24.737Z"
   },
   {
    "duration": 19,
    "start_time": "2022-11-13T23:33:25.143Z"
   },
   {
    "duration": 109,
    "start_time": "2022-11-13T23:33:25.164Z"
   },
   {
    "duration": 7,
    "start_time": "2022-11-13T23:33:25.275Z"
   },
   {
    "duration": 55,
    "start_time": "2022-11-13T23:33:25.284Z"
   },
   {
    "duration": 25,
    "start_time": "2022-11-13T23:33:25.341Z"
   },
   {
    "duration": 1274,
    "start_time": "2022-11-13T23:33:25.368Z"
   },
   {
    "duration": 1415,
    "start_time": "2022-11-13T23:33:26.644Z"
   },
   {
    "duration": 758,
    "start_time": "2022-11-13T23:33:28.061Z"
   },
   {
    "duration": 14,
    "start_time": "2022-11-13T23:33:28.821Z"
   },
   {
    "duration": 21,
    "start_time": "2022-11-13T23:33:28.837Z"
   },
   {
    "duration": 9,
    "start_time": "2022-11-13T23:33:28.860Z"
   },
   {
    "duration": 10,
    "start_time": "2022-11-13T23:33:28.870Z"
   },
   {
    "duration": 15,
    "start_time": "2022-11-13T23:33:28.882Z"
   },
   {
    "duration": 37,
    "start_time": "2022-11-13T23:33:28.898Z"
   },
   {
    "duration": 992,
    "start_time": "2022-11-13T23:33:28.937Z"
   },
   {
    "duration": 2246,
    "start_time": "2022-11-13T23:33:29.932Z"
   },
   {
    "duration": 52,
    "start_time": "2022-11-13T23:33:32.180Z"
   },
   {
    "duration": 4,
    "start_time": "2022-11-13T23:55:25.735Z"
   },
   {
    "duration": 301,
    "start_time": "2022-11-13T23:55:25.742Z"
   },
   {
    "duration": 18,
    "start_time": "2022-11-13T23:55:26.045Z"
   },
   {
    "duration": 135,
    "start_time": "2022-11-13T23:55:26.065Z"
   },
   {
    "duration": 91,
    "start_time": "2022-11-13T23:55:26.203Z"
   },
   {
    "duration": 15,
    "start_time": "2022-11-13T23:55:26.297Z"
   },
   {
    "duration": 33,
    "start_time": "2022-11-13T23:55:26.320Z"
   },
   {
    "duration": 18,
    "start_time": "2022-11-13T23:55:26.355Z"
   },
   {
    "duration": 376,
    "start_time": "2022-11-13T23:55:26.375Z"
   },
   {
    "duration": 18,
    "start_time": "2022-11-13T23:55:26.753Z"
   },
   {
    "duration": 106,
    "start_time": "2022-11-13T23:55:26.773Z"
   },
   {
    "duration": 8,
    "start_time": "2022-11-13T23:55:26.881Z"
   },
   {
    "duration": 33,
    "start_time": "2022-11-13T23:55:26.891Z"
   },
   {
    "duration": 23,
    "start_time": "2022-11-13T23:55:26.927Z"
   },
   {
    "duration": 793,
    "start_time": "2022-11-13T23:55:26.953Z"
   },
   {
    "duration": 768,
    "start_time": "2022-11-13T23:55:27.747Z"
   },
   {
    "duration": 907,
    "start_time": "2022-11-13T23:55:28.517Z"
   },
   {
    "duration": 11,
    "start_time": "2022-11-13T23:55:29.425Z"
   },
   {
    "duration": 23,
    "start_time": "2022-11-13T23:55:29.438Z"
   },
   {
    "duration": 59,
    "start_time": "2022-11-13T23:55:29.463Z"
   },
   {
    "duration": 11,
    "start_time": "2022-11-13T23:55:29.524Z"
   },
   {
    "duration": 8,
    "start_time": "2022-11-13T23:55:29.536Z"
   },
   {
    "duration": 30,
    "start_time": "2022-11-13T23:55:29.546Z"
   },
   {
    "duration": 1046,
    "start_time": "2022-11-13T23:55:29.577Z"
   },
   {
    "duration": 2598,
    "start_time": "2022-11-13T23:55:30.625Z"
   },
   {
    "duration": 4,
    "start_time": "2022-11-13T23:55:41.032Z"
   },
   {
    "duration": 303,
    "start_time": "2022-11-13T23:55:41.038Z"
   },
   {
    "duration": 18,
    "start_time": "2022-11-13T23:55:41.343Z"
   },
   {
    "duration": 133,
    "start_time": "2022-11-13T23:55:41.364Z"
   },
   {
    "duration": 102,
    "start_time": "2022-11-13T23:55:41.499Z"
   },
   {
    "duration": 27,
    "start_time": "2022-11-13T23:55:41.603Z"
   },
   {
    "duration": 23,
    "start_time": "2022-11-13T23:55:41.632Z"
   },
   {
    "duration": 14,
    "start_time": "2022-11-13T23:55:41.656Z"
   },
   {
    "duration": 386,
    "start_time": "2022-11-13T23:55:41.672Z"
   },
   {
    "duration": 18,
    "start_time": "2022-11-13T23:55:42.060Z"
   },
   {
    "duration": 99,
    "start_time": "2022-11-13T23:55:42.080Z"
   },
   {
    "duration": 8,
    "start_time": "2022-11-13T23:55:42.181Z"
   },
   {
    "duration": 33,
    "start_time": "2022-11-13T23:55:42.190Z"
   },
   {
    "duration": 28,
    "start_time": "2022-11-13T23:55:42.225Z"
   },
   {
    "duration": 1395,
    "start_time": "2022-11-13T23:55:42.254Z"
   },
   {
    "duration": 1175,
    "start_time": "2022-11-13T23:55:43.650Z"
   },
   {
    "duration": 670,
    "start_time": "2022-11-13T23:55:44.827Z"
   },
   {
    "duration": 25,
    "start_time": "2022-11-13T23:55:45.499Z"
   },
   {
    "duration": 21,
    "start_time": "2022-11-13T23:55:45.526Z"
   },
   {
    "duration": 13,
    "start_time": "2022-11-13T23:55:45.549Z"
   },
   {
    "duration": 4,
    "start_time": "2022-11-13T23:55:45.563Z"
   },
   {
    "duration": 7,
    "start_time": "2022-11-13T23:55:45.568Z"
   },
   {
    "duration": 42,
    "start_time": "2022-11-13T23:55:45.577Z"
   },
   {
    "duration": 1000,
    "start_time": "2022-11-13T23:55:45.621Z"
   },
   {
    "duration": 1969,
    "start_time": "2022-11-13T23:55:46.623Z"
   },
   {
    "duration": 2000,
    "start_time": "2022-11-14T00:02:05.500Z"
   },
   {
    "duration": 585,
    "start_time": "2022-11-14T00:02:34.198Z"
   },
   {
    "duration": 4,
    "start_time": "2022-11-14T00:02:59.513Z"
   },
   {
    "duration": 20,
    "start_time": "2022-11-14T00:04:01.951Z"
   },
   {
    "duration": 19,
    "start_time": "2022-11-14T00:04:35.631Z"
   },
   {
    "duration": 15,
    "start_time": "2022-11-14T00:05:00.803Z"
   },
   {
    "duration": 12,
    "start_time": "2022-11-14T00:05:08.799Z"
   },
   {
    "duration": 10,
    "start_time": "2022-11-14T00:05:12.739Z"
   },
   {
    "duration": 9,
    "start_time": "2022-11-14T00:07:20.732Z"
   },
   {
    "duration": 13,
    "start_time": "2022-11-14T00:07:31.278Z"
   },
   {
    "duration": 12,
    "start_time": "2022-11-14T00:07:55.415Z"
   },
   {
    "duration": 1959,
    "start_time": "2022-11-14T00:08:05.635Z"
   },
   {
    "duration": 53,
    "start_time": "2022-11-14T00:08:07.596Z"
   },
   {
    "duration": 0,
    "start_time": "2022-11-14T00:08:07.651Z"
   },
   {
    "duration": 0,
    "start_time": "2022-11-14T00:08:07.652Z"
   },
   {
    "duration": 0,
    "start_time": "2022-11-14T00:08:07.653Z"
   },
   {
    "duration": 1918,
    "start_time": "2022-11-14T00:08:18.657Z"
   },
   {
    "duration": 3,
    "start_time": "2022-11-14T00:08:20.577Z"
   },
   {
    "duration": 25,
    "start_time": "2022-11-14T00:08:20.581Z"
   },
   {
    "duration": 15,
    "start_time": "2022-11-14T00:08:20.608Z"
   },
   {
    "duration": 12,
    "start_time": "2022-11-14T00:09:12.574Z"
   },
   {
    "duration": 502,
    "start_time": "2022-11-14T00:10:01.643Z"
   },
   {
    "duration": 5,
    "start_time": "2022-11-14T00:11:06.285Z"
   },
   {
    "duration": 335,
    "start_time": "2022-11-14T00:11:06.292Z"
   },
   {
    "duration": 16,
    "start_time": "2022-11-14T00:11:06.628Z"
   },
   {
    "duration": 128,
    "start_time": "2022-11-14T00:11:06.646Z"
   },
   {
    "duration": 85,
    "start_time": "2022-11-14T00:11:06.776Z"
   },
   {
    "duration": 13,
    "start_time": "2022-11-14T00:11:06.862Z"
   },
   {
    "duration": 27,
    "start_time": "2022-11-14T00:11:06.877Z"
   },
   {
    "duration": 22,
    "start_time": "2022-11-14T00:11:06.906Z"
   },
   {
    "duration": 355,
    "start_time": "2022-11-14T00:11:06.931Z"
   },
   {
    "duration": 19,
    "start_time": "2022-11-14T00:11:07.288Z"
   },
   {
    "duration": 96,
    "start_time": "2022-11-14T00:11:07.309Z"
   },
   {
    "duration": 16,
    "start_time": "2022-11-14T00:11:07.406Z"
   },
   {
    "duration": 19,
    "start_time": "2022-11-14T00:11:07.424Z"
   },
   {
    "duration": 24,
    "start_time": "2022-11-14T00:11:07.445Z"
   },
   {
    "duration": 1255,
    "start_time": "2022-11-14T00:11:07.470Z"
   },
   {
    "duration": 1234,
    "start_time": "2022-11-14T00:11:08.727Z"
   },
   {
    "duration": 829,
    "start_time": "2022-11-14T00:11:09.963Z"
   },
   {
    "duration": 10,
    "start_time": "2022-11-14T00:11:10.794Z"
   },
   {
    "duration": 17,
    "start_time": "2022-11-14T00:11:10.819Z"
   },
   {
    "duration": 11,
    "start_time": "2022-11-14T00:11:10.837Z"
   },
   {
    "duration": 8,
    "start_time": "2022-11-14T00:11:10.849Z"
   },
   {
    "duration": 12,
    "start_time": "2022-11-14T00:11:10.859Z"
   },
   {
    "duration": 16,
    "start_time": "2022-11-14T00:11:10.872Z"
   },
   {
    "duration": 934,
    "start_time": "2022-11-14T00:11:10.892Z"
   },
   {
    "duration": 2533,
    "start_time": "2022-11-14T00:11:11.827Z"
   },
   {
    "duration": 57,
    "start_time": "2022-11-14T00:11:14.362Z"
   },
   {
    "duration": 10,
    "start_time": "2022-11-14T00:11:14.421Z"
   },
   {
    "duration": 835,
    "start_time": "2022-11-14T00:11:14.432Z"
   },
   {
    "duration": 1544,
    "start_time": "2022-11-14T11:46:26.953Z"
   },
   {
    "duration": 853,
    "start_time": "2022-11-14T11:46:28.500Z"
   },
   {
    "duration": 18,
    "start_time": "2022-11-14T11:46:29.355Z"
   },
   {
    "duration": 129,
    "start_time": "2022-11-14T11:46:29.376Z"
   },
   {
    "duration": 431,
    "start_time": "2022-11-14T11:46:29.507Z"
   },
   {
    "duration": 11,
    "start_time": "2022-11-14T11:46:29.940Z"
   },
   {
    "duration": 19,
    "start_time": "2022-11-14T11:46:29.953Z"
   },
   {
    "duration": 12,
    "start_time": "2022-11-14T11:46:29.974Z"
   },
   {
    "duration": 1991,
    "start_time": "2022-11-14T11:46:29.987Z"
   },
   {
    "duration": 16,
    "start_time": "2022-11-14T11:46:31.981Z"
   },
   {
    "duration": 104,
    "start_time": "2022-11-14T11:46:31.999Z"
   },
   {
    "duration": 7,
    "start_time": "2022-11-14T11:46:32.105Z"
   },
   {
    "duration": 35,
    "start_time": "2022-11-14T11:46:32.113Z"
   },
   {
    "duration": 124,
    "start_time": "2022-11-14T11:46:32.150Z"
   },
   {
    "duration": 0,
    "start_time": "2022-11-14T11:46:32.276Z"
   },
   {
    "duration": 0,
    "start_time": "2022-11-14T11:46:32.277Z"
   },
   {
    "duration": 0,
    "start_time": "2022-11-14T11:46:32.278Z"
   },
   {
    "duration": 0,
    "start_time": "2022-11-14T11:46:32.279Z"
   },
   {
    "duration": 0,
    "start_time": "2022-11-14T11:46:32.281Z"
   },
   {
    "duration": 0,
    "start_time": "2022-11-14T11:46:32.282Z"
   },
   {
    "duration": 0,
    "start_time": "2022-11-14T11:46:32.283Z"
   },
   {
    "duration": 0,
    "start_time": "2022-11-14T11:46:32.284Z"
   },
   {
    "duration": 0,
    "start_time": "2022-11-14T11:46:32.285Z"
   },
   {
    "duration": 0,
    "start_time": "2022-11-14T11:46:32.286Z"
   },
   {
    "duration": 0,
    "start_time": "2022-11-14T11:46:32.287Z"
   },
   {
    "duration": 0,
    "start_time": "2022-11-14T11:46:32.289Z"
   },
   {
    "duration": 0,
    "start_time": "2022-11-14T11:46:32.290Z"
   },
   {
    "duration": 0,
    "start_time": "2022-11-14T11:46:32.291Z"
   },
   {
    "duration": 14,
    "start_time": "2022-11-14T11:46:56.718Z"
   },
   {
    "duration": 48,
    "start_time": "2022-11-14T11:48:40.933Z"
   },
   {
    "duration": 1430,
    "start_time": "2022-11-14T11:48:49.909Z"
   },
   {
    "duration": 854,
    "start_time": "2022-11-14T11:48:51.341Z"
   },
   {
    "duration": 18,
    "start_time": "2022-11-14T11:48:52.197Z"
   },
   {
    "duration": 116,
    "start_time": "2022-11-14T11:48:52.217Z"
   },
   {
    "duration": 444,
    "start_time": "2022-11-14T11:48:52.335Z"
   },
   {
    "duration": 58,
    "start_time": "2022-11-14T11:48:52.781Z"
   },
   {
    "duration": 21,
    "start_time": "2022-11-14T11:48:52.840Z"
   },
   {
    "duration": 12,
    "start_time": "2022-11-14T11:48:52.863Z"
   },
   {
    "duration": 1881,
    "start_time": "2022-11-14T11:48:52.876Z"
   },
   {
    "duration": 16,
    "start_time": "2022-11-14T11:48:54.760Z"
   },
   {
    "duration": 96,
    "start_time": "2022-11-14T11:48:54.777Z"
   },
   {
    "duration": 7,
    "start_time": "2022-11-14T11:48:54.875Z"
   },
   {
    "duration": 22,
    "start_time": "2022-11-14T11:48:54.884Z"
   },
   {
    "duration": 46,
    "start_time": "2022-11-14T11:49:38.225Z"
   },
   {
    "duration": 1337,
    "start_time": "2022-11-14T11:49:41.638Z"
   },
   {
    "duration": 847,
    "start_time": "2022-11-14T11:49:42.977Z"
   },
   {
    "duration": 18,
    "start_time": "2022-11-14T11:49:43.825Z"
   },
   {
    "duration": 120,
    "start_time": "2022-11-14T11:49:43.845Z"
   },
   {
    "duration": 418,
    "start_time": "2022-11-14T11:49:43.967Z"
   },
   {
    "duration": 54,
    "start_time": "2022-11-14T11:49:44.386Z"
   },
   {
    "duration": 22,
    "start_time": "2022-11-14T11:49:44.441Z"
   },
   {
    "duration": 12,
    "start_time": "2022-11-14T11:49:44.464Z"
   },
   {
    "duration": 1948,
    "start_time": "2022-11-14T11:49:44.533Z"
   },
   {
    "duration": 23,
    "start_time": "2022-11-14T11:49:46.485Z"
   },
   {
    "duration": 119,
    "start_time": "2022-11-14T11:49:46.511Z"
   },
   {
    "duration": 8,
    "start_time": "2022-11-14T11:49:46.632Z"
   },
   {
    "duration": 28,
    "start_time": "2022-11-14T11:49:46.641Z"
   },
   {
    "duration": 50,
    "start_time": "2022-11-14T11:52:01.300Z"
   },
   {
    "duration": 1402,
    "start_time": "2022-11-14T11:52:13.801Z"
   },
   {
    "duration": 940,
    "start_time": "2022-11-14T11:52:15.205Z"
   },
   {
    "duration": 17,
    "start_time": "2022-11-14T11:52:16.147Z"
   },
   {
    "duration": 274,
    "start_time": "2022-11-14T11:52:16.166Z"
   },
   {
    "duration": 597,
    "start_time": "2022-11-14T11:52:16.443Z"
   },
   {
    "duration": 18,
    "start_time": "2022-11-14T11:52:17.042Z"
   },
   {
    "duration": 73,
    "start_time": "2022-11-14T11:52:17.061Z"
   },
   {
    "duration": 12,
    "start_time": "2022-11-14T11:52:17.136Z"
   },
   {
    "duration": 1819,
    "start_time": "2022-11-14T11:52:17.150Z"
   },
   {
    "duration": 21,
    "start_time": "2022-11-14T11:52:18.973Z"
   },
   {
    "duration": 114,
    "start_time": "2022-11-14T11:52:18.996Z"
   },
   {
    "duration": 9,
    "start_time": "2022-11-14T11:52:19.111Z"
   },
   {
    "duration": 22,
    "start_time": "2022-11-14T11:52:19.132Z"
   },
   {
    "duration": 32,
    "start_time": "2022-11-14T11:52:19.156Z"
   },
   {
    "duration": 852,
    "start_time": "2022-11-14T11:52:19.190Z"
   },
   {
    "duration": 893,
    "start_time": "2022-11-14T11:52:20.044Z"
   },
   {
    "duration": 669,
    "start_time": "2022-11-14T11:52:20.939Z"
   },
   {
    "duration": 28,
    "start_time": "2022-11-14T11:52:21.610Z"
   },
   {
    "duration": 19,
    "start_time": "2022-11-14T11:52:21.640Z"
   },
   {
    "duration": 13,
    "start_time": "2022-11-14T11:52:21.660Z"
   },
   {
    "duration": 7,
    "start_time": "2022-11-14T11:52:21.675Z"
   },
   {
    "duration": 8,
    "start_time": "2022-11-14T11:52:21.684Z"
   },
   {
    "duration": 19,
    "start_time": "2022-11-14T11:52:21.693Z"
   },
   {
    "duration": 920,
    "start_time": "2022-11-14T11:52:21.714Z"
   },
   {
    "duration": 2150,
    "start_time": "2022-11-14T11:52:22.636Z"
   },
   {
    "duration": 4,
    "start_time": "2022-11-14T11:52:24.788Z"
   },
   {
    "duration": 29,
    "start_time": "2022-11-14T11:52:24.794Z"
   },
   {
    "duration": 613,
    "start_time": "2022-11-14T11:52:24.827Z"
   },
   {
    "duration": 4,
    "start_time": "2022-11-14T11:54:53.210Z"
   },
   {
    "duration": 310,
    "start_time": "2022-11-14T11:54:53.216Z"
   },
   {
    "duration": 19,
    "start_time": "2022-11-14T11:54:53.528Z"
   },
   {
    "duration": 131,
    "start_time": "2022-11-14T11:54:53.549Z"
   },
   {
    "duration": 96,
    "start_time": "2022-11-14T11:54:53.682Z"
   },
   {
    "duration": 13,
    "start_time": "2022-11-14T11:54:53.779Z"
   },
   {
    "duration": 21,
    "start_time": "2022-11-14T11:54:53.793Z"
   },
   {
    "duration": 26,
    "start_time": "2022-11-14T11:54:53.815Z"
   },
   {
    "duration": 365,
    "start_time": "2022-11-14T11:54:53.842Z"
   },
   {
    "duration": 28,
    "start_time": "2022-11-14T11:54:54.209Z"
   },
   {
    "duration": 99,
    "start_time": "2022-11-14T11:54:54.240Z"
   },
   {
    "duration": 6,
    "start_time": "2022-11-14T11:54:54.341Z"
   },
   {
    "duration": 30,
    "start_time": "2022-11-14T11:54:54.348Z"
   },
   {
    "duration": 23,
    "start_time": "2022-11-14T11:54:54.379Z"
   },
   {
    "duration": 1329,
    "start_time": "2022-11-14T11:54:54.404Z"
   },
   {
    "duration": 1364,
    "start_time": "2022-11-14T11:54:55.735Z"
   },
   {
    "duration": 721,
    "start_time": "2022-11-14T11:54:57.100Z"
   },
   {
    "duration": 21,
    "start_time": "2022-11-14T11:54:57.822Z"
   },
   {
    "duration": 19,
    "start_time": "2022-11-14T11:54:57.844Z"
   },
   {
    "duration": 7,
    "start_time": "2022-11-14T11:54:57.865Z"
   },
   {
    "duration": 10,
    "start_time": "2022-11-14T11:54:57.874Z"
   },
   {
    "duration": 7,
    "start_time": "2022-11-14T11:54:57.886Z"
   },
   {
    "duration": 25,
    "start_time": "2022-11-14T11:54:57.895Z"
   },
   {
    "duration": 1112,
    "start_time": "2022-11-14T11:54:57.921Z"
   },
   {
    "duration": 2193,
    "start_time": "2022-11-14T11:54:59.035Z"
   },
   {
    "duration": 3,
    "start_time": "2022-11-14T11:55:01.233Z"
   },
   {
    "duration": 50,
    "start_time": "2022-11-14T11:55:01.237Z"
   },
   {
    "duration": 580,
    "start_time": "2022-11-14T11:55:01.289Z"
   },
   {
    "duration": 4,
    "start_time": "2022-11-14T12:00:27.193Z"
   },
   {
    "duration": 9,
    "start_time": "2022-11-14T12:00:29.319Z"
   },
   {
    "duration": 526,
    "start_time": "2022-11-14T12:00:29.983Z"
   },
   {
    "duration": 4,
    "start_time": "2022-11-14T12:00:46.879Z"
   },
   {
    "duration": 280,
    "start_time": "2022-11-14T12:00:46.884Z"
   },
   {
    "duration": 17,
    "start_time": "2022-11-14T12:00:47.166Z"
   },
   {
    "duration": 132,
    "start_time": "2022-11-14T12:00:47.186Z"
   },
   {
    "duration": 98,
    "start_time": "2022-11-14T12:00:47.320Z"
   },
   {
    "duration": 17,
    "start_time": "2022-11-14T12:00:47.420Z"
   },
   {
    "duration": 22,
    "start_time": "2022-11-14T12:00:47.439Z"
   },
   {
    "duration": 13,
    "start_time": "2022-11-14T12:00:47.462Z"
   },
   {
    "duration": 355,
    "start_time": "2022-11-14T12:00:47.478Z"
   },
   {
    "duration": 17,
    "start_time": "2022-11-14T12:00:47.835Z"
   },
   {
    "duration": 101,
    "start_time": "2022-11-14T12:00:47.854Z"
   },
   {
    "duration": 7,
    "start_time": "2022-11-14T12:00:47.957Z"
   },
   {
    "duration": 37,
    "start_time": "2022-11-14T12:00:47.965Z"
   },
   {
    "duration": 31,
    "start_time": "2022-11-14T12:00:48.004Z"
   },
   {
    "duration": 832,
    "start_time": "2022-11-14T12:00:48.037Z"
   },
   {
    "duration": 848,
    "start_time": "2022-11-14T12:00:48.871Z"
   },
   {
    "duration": 704,
    "start_time": "2022-11-14T12:00:49.720Z"
   },
   {
    "duration": 12,
    "start_time": "2022-11-14T12:00:50.432Z"
   },
   {
    "duration": 19,
    "start_time": "2022-11-14T12:00:50.446Z"
   },
   {
    "duration": 7,
    "start_time": "2022-11-14T12:00:50.467Z"
   },
   {
    "duration": 5,
    "start_time": "2022-11-14T12:00:50.476Z"
   },
   {
    "duration": 7,
    "start_time": "2022-11-14T12:00:50.482Z"
   },
   {
    "duration": 24,
    "start_time": "2022-11-14T12:00:50.490Z"
   },
   {
    "duration": 998,
    "start_time": "2022-11-14T12:00:50.536Z"
   },
   {
    "duration": 2148,
    "start_time": "2022-11-14T12:00:51.536Z"
   },
   {
    "duration": 4,
    "start_time": "2022-11-14T12:00:53.686Z"
   },
   {
    "duration": 23,
    "start_time": "2022-11-14T12:00:53.692Z"
   },
   {
    "duration": 528,
    "start_time": "2022-11-14T12:00:53.717Z"
   },
   {
    "duration": 539,
    "start_time": "2022-11-14T12:00:59.464Z"
   },
   {
    "duration": 16,
    "start_time": "2022-11-14T12:01:46.115Z"
   },
   {
    "duration": 10,
    "start_time": "2022-11-14T12:01:47.056Z"
   },
   {
    "duration": 1015,
    "start_time": "2022-11-14T12:01:50.520Z"
   },
   {
    "duration": 5,
    "start_time": "2022-11-14T12:02:11.473Z"
   },
   {
    "duration": 13,
    "start_time": "2022-11-14T12:02:12.550Z"
   },
   {
    "duration": 1014,
    "start_time": "2022-11-14T12:02:13.022Z"
   },
   {
    "duration": 10,
    "start_time": "2022-11-14T12:05:45.549Z"
   },
   {
    "duration": 10,
    "start_time": "2022-11-14T12:05:57.793Z"
   },
   {
    "duration": 768,
    "start_time": "2022-11-14T12:07:08.751Z"
   },
   {
    "duration": 4,
    "start_time": "2022-11-14T12:10:01.861Z"
   },
   {
    "duration": 299,
    "start_time": "2022-11-14T12:10:01.867Z"
   },
   {
    "duration": 16,
    "start_time": "2022-11-14T12:10:02.168Z"
   },
   {
    "duration": 130,
    "start_time": "2022-11-14T12:10:02.186Z"
   },
   {
    "duration": 92,
    "start_time": "2022-11-14T12:10:02.317Z"
   },
   {
    "duration": 11,
    "start_time": "2022-11-14T12:10:02.411Z"
   },
   {
    "duration": 30,
    "start_time": "2022-11-14T12:10:02.424Z"
   },
   {
    "duration": 23,
    "start_time": "2022-11-14T12:10:02.456Z"
   },
   {
    "duration": 434,
    "start_time": "2022-11-14T12:10:02.482Z"
   },
   {
    "duration": 21,
    "start_time": "2022-11-14T12:10:02.918Z"
   },
   {
    "duration": 92,
    "start_time": "2022-11-14T12:10:02.941Z"
   },
   {
    "duration": 7,
    "start_time": "2022-11-14T12:10:03.035Z"
   },
   {
    "duration": 37,
    "start_time": "2022-11-14T12:10:03.043Z"
   },
   {
    "duration": 45,
    "start_time": "2022-11-14T12:10:03.082Z"
   },
   {
    "duration": 1518,
    "start_time": "2022-11-14T12:10:03.129Z"
   },
   {
    "duration": 1085,
    "start_time": "2022-11-14T12:10:04.649Z"
   },
   {
    "duration": 700,
    "start_time": "2022-11-14T12:10:05.736Z"
   },
   {
    "duration": 16,
    "start_time": "2022-11-14T12:10:06.437Z"
   },
   {
    "duration": 42,
    "start_time": "2022-11-14T12:10:06.455Z"
   },
   {
    "duration": 43,
    "start_time": "2022-11-14T12:10:06.499Z"
   },
   {
    "duration": 20,
    "start_time": "2022-11-14T12:10:06.544Z"
   },
   {
    "duration": 44,
    "start_time": "2022-11-14T12:10:06.566Z"
   },
   {
    "duration": 0,
    "start_time": "2022-11-14T12:10:06.613Z"
   },
   {
    "duration": 0,
    "start_time": "2022-11-14T12:10:06.614Z"
   },
   {
    "duration": 1,
    "start_time": "2022-11-14T12:10:06.616Z"
   },
   {
    "duration": 0,
    "start_time": "2022-11-14T12:10:06.618Z"
   },
   {
    "duration": 0,
    "start_time": "2022-11-14T12:10:06.619Z"
   },
   {
    "duration": 0,
    "start_time": "2022-11-14T12:10:06.621Z"
   },
   {
    "duration": 4,
    "start_time": "2022-11-14T12:10:52.135Z"
   },
   {
    "duration": 181859,
    "start_time": "2022-11-14T12:10:59.873Z"
   },
   {
    "duration": 21,
    "start_time": "2022-11-14T12:17:41.430Z"
   },
   {
    "duration": 181666,
    "start_time": "2022-11-14T12:18:15.013Z"
   },
   {
    "duration": 4,
    "start_time": "2022-11-14T12:22:39.454Z"
   },
   {
    "duration": 284,
    "start_time": "2022-11-14T12:22:39.460Z"
   },
   {
    "duration": 16,
    "start_time": "2022-11-14T12:22:39.746Z"
   },
   {
    "duration": 131,
    "start_time": "2022-11-14T12:22:39.764Z"
   },
   {
    "duration": 92,
    "start_time": "2022-11-14T12:22:39.896Z"
   },
   {
    "duration": 15,
    "start_time": "2022-11-14T12:22:39.989Z"
   },
   {
    "duration": 38,
    "start_time": "2022-11-14T12:22:40.006Z"
   },
   {
    "duration": 15,
    "start_time": "2022-11-14T12:22:40.046Z"
   },
   {
    "duration": 396,
    "start_time": "2022-11-14T12:22:40.064Z"
   },
   {
    "duration": 25,
    "start_time": "2022-11-14T12:22:40.462Z"
   },
   {
    "duration": 105,
    "start_time": "2022-11-14T12:22:40.489Z"
   },
   {
    "duration": 7,
    "start_time": "2022-11-14T12:22:40.596Z"
   },
   {
    "duration": 42,
    "start_time": "2022-11-14T12:22:40.605Z"
   },
   {
    "duration": 19,
    "start_time": "2022-11-14T12:22:40.649Z"
   },
   {
    "duration": 1680,
    "start_time": "2022-11-14T12:22:40.670Z"
   },
   {
    "duration": 1070,
    "start_time": "2022-11-14T12:22:42.352Z"
   },
   {
    "duration": 727,
    "start_time": "2022-11-14T12:22:43.424Z"
   },
   {
    "duration": 14,
    "start_time": "2022-11-14T12:22:44.153Z"
   },
   {
    "duration": 24,
    "start_time": "2022-11-14T12:22:44.169Z"
   },
   {
    "duration": 15,
    "start_time": "2022-11-14T12:22:44.195Z"
   },
   {
    "duration": 35,
    "start_time": "2022-11-14T12:22:44.211Z"
   },
   {
    "duration": 280878,
    "start_time": "2022-11-14T12:22:44.247Z"
   },
   {
    "duration": 1110,
    "start_time": "2022-11-14T12:27:25.127Z"
   },
   {
    "duration": 2157,
    "start_time": "2022-11-14T12:27:26.241Z"
   },
   {
    "duration": 10,
    "start_time": "2022-11-14T12:27:28.400Z"
   },
   {
    "duration": 25,
    "start_time": "2022-11-14T12:27:28.412Z"
   },
   {
    "duration": 534,
    "start_time": "2022-11-14T12:27:28.439Z"
   },
   {
    "duration": 9,
    "start_time": "2022-11-14T12:33:41.258Z"
   },
   {
    "duration": 4,
    "start_time": "2022-11-14T12:33:54.987Z"
   },
   {
    "duration": 10,
    "start_time": "2022-11-14T12:33:55.144Z"
   },
   {
    "duration": 11,
    "start_time": "2022-11-14T12:33:55.293Z"
   },
   {
    "duration": 16,
    "start_time": "2022-11-14T12:34:23.982Z"
   },
   {
    "duration": 17,
    "start_time": "2022-11-14T12:35:36.471Z"
   },
   {
    "duration": 10,
    "start_time": "2022-11-14T12:37:56.024Z"
   },
   {
    "duration": 6,
    "start_time": "2022-11-14T12:38:03.833Z"
   },
   {
    "duration": 5,
    "start_time": "2022-11-14T12:39:06.325Z"
   },
   {
    "duration": 30,
    "start_time": "2022-11-14T12:39:14.638Z"
   },
   {
    "duration": 16,
    "start_time": "2022-11-14T12:39:23.039Z"
   },
   {
    "duration": 35,
    "start_time": "2022-11-14T12:40:08.989Z"
   },
   {
    "duration": 16,
    "start_time": "2022-11-14T12:40:16.754Z"
   },
   {
    "duration": 16,
    "start_time": "2022-11-14T12:40:24.658Z"
   },
   {
    "duration": 17,
    "start_time": "2022-11-14T12:41:07.902Z"
   },
   {
    "duration": 5,
    "start_time": "2022-11-14T12:45:25.991Z"
   },
   {
    "duration": 335,
    "start_time": "2022-11-14T12:45:25.999Z"
   },
   {
    "duration": 17,
    "start_time": "2022-11-14T12:45:26.336Z"
   },
   {
    "duration": 157,
    "start_time": "2022-11-14T12:45:26.355Z"
   },
   {
    "duration": 112,
    "start_time": "2022-11-14T12:45:26.514Z"
   },
   {
    "duration": 16,
    "start_time": "2022-11-14T12:45:26.633Z"
   },
   {
    "duration": 39,
    "start_time": "2022-11-14T12:45:26.651Z"
   },
   {
    "duration": 18,
    "start_time": "2022-11-14T12:45:26.692Z"
   },
   {
    "duration": 382,
    "start_time": "2022-11-14T12:45:26.732Z"
   },
   {
    "duration": 24,
    "start_time": "2022-11-14T12:45:27.116Z"
   },
   {
    "duration": 132,
    "start_time": "2022-11-14T12:45:27.142Z"
   },
   {
    "duration": 10,
    "start_time": "2022-11-14T12:45:27.276Z"
   },
   {
    "duration": 50,
    "start_time": "2022-11-14T12:45:27.288Z"
   },
   {
    "duration": 17,
    "start_time": "2022-11-14T12:45:27.341Z"
   },
   {
    "duration": 891,
    "start_time": "2022-11-14T12:45:27.360Z"
   },
   {
    "duration": 1082,
    "start_time": "2022-11-14T12:45:28.253Z"
   },
   {
    "duration": 1112,
    "start_time": "2022-11-14T12:45:29.337Z"
   },
   {
    "duration": 15,
    "start_time": "2022-11-14T12:45:30.451Z"
   },
   {
    "duration": 83,
    "start_time": "2022-11-14T12:45:30.468Z"
   },
   {
    "duration": 37,
    "start_time": "2022-11-14T12:45:30.553Z"
   },
   {
    "duration": 43,
    "start_time": "2022-11-14T12:45:30.592Z"
   },
   {
    "duration": 281325,
    "start_time": "2022-11-14T12:45:30.638Z"
   },
   {
    "duration": 68,
    "start_time": "2022-11-14T12:50:11.965Z"
   },
   {
    "duration": 1,
    "start_time": "2022-11-14T12:50:12.035Z"
   },
   {
    "duration": 0,
    "start_time": "2022-11-14T12:50:12.037Z"
   },
   {
    "duration": 0,
    "start_time": "2022-11-14T12:50:12.038Z"
   },
   {
    "duration": 0,
    "start_time": "2022-11-14T12:50:12.040Z"
   },
   {
    "duration": 0,
    "start_time": "2022-11-14T12:50:12.041Z"
   },
   {
    "duration": 1127,
    "start_time": "2022-11-14T12:50:37.111Z"
   },
   {
    "duration": 96,
    "start_time": "2022-11-14T12:50:38.240Z"
   },
   {
    "duration": 19,
    "start_time": "2022-11-14T12:50:38.337Z"
   },
   {
    "duration": 11,
    "start_time": "2022-11-14T12:50:38.358Z"
   },
   {
    "duration": 11,
    "start_time": "2022-11-14T12:50:38.370Z"
   },
   {
    "duration": 8,
    "start_time": "2022-11-14T12:50:46.177Z"
   },
   {
    "duration": 9115,
    "start_time": "2022-11-14T12:50:46.946Z"
   },
   {
    "duration": 33324,
    "start_time": "2022-11-14T12:53:06.026Z"
   },
   {
    "duration": 69,
    "start_time": "2022-11-14T12:54:04.864Z"
   },
   {
    "duration": 1503,
    "start_time": "2022-11-14T13:00:40.603Z"
   },
   {
    "duration": 285,
    "start_time": "2022-11-14T13:00:42.108Z"
   },
   {
    "duration": 17,
    "start_time": "2022-11-14T13:00:42.394Z"
   },
   {
    "duration": 126,
    "start_time": "2022-11-14T13:00:42.413Z"
   },
   {
    "duration": 92,
    "start_time": "2022-11-14T13:00:42.541Z"
   },
   {
    "duration": 12,
    "start_time": "2022-11-14T13:00:42.635Z"
   },
   {
    "duration": 26,
    "start_time": "2022-11-14T13:00:42.648Z"
   },
   {
    "duration": 16,
    "start_time": "2022-11-14T13:00:42.675Z"
   },
   {
    "duration": 357,
    "start_time": "2022-11-14T13:00:42.693Z"
   },
   {
    "duration": 16,
    "start_time": "2022-11-14T13:00:43.053Z"
   },
   {
    "duration": 96,
    "start_time": "2022-11-14T13:00:43.071Z"
   },
   {
    "duration": 7,
    "start_time": "2022-11-14T13:00:43.169Z"
   },
   {
    "duration": 44,
    "start_time": "2022-11-14T13:00:43.178Z"
   },
   {
    "duration": 28,
    "start_time": "2022-11-14T13:00:43.224Z"
   },
   {
    "duration": 854,
    "start_time": "2022-11-14T13:00:43.254Z"
   },
   {
    "duration": 822,
    "start_time": "2022-11-14T13:00:44.110Z"
   },
   {
    "duration": 678,
    "start_time": "2022-11-14T13:00:44.934Z"
   },
   {
    "duration": 24,
    "start_time": "2022-11-14T13:00:45.614Z"
   },
   {
    "duration": 20,
    "start_time": "2022-11-14T13:00:45.640Z"
   },
   {
    "duration": 8,
    "start_time": "2022-11-14T13:00:45.662Z"
   },
   {
    "duration": 8,
    "start_time": "2022-11-14T13:00:45.672Z"
   },
   {
    "duration": 282849,
    "start_time": "2022-11-14T13:00:45.682Z"
   },
   {
    "duration": 1000,
    "start_time": "2022-11-14T13:05:28.533Z"
   },
   {
    "duration": 4,
    "start_time": "2022-11-14T13:05:29.535Z"
   },
   {
    "duration": 14,
    "start_time": "2022-11-14T13:05:29.541Z"
   },
   {
    "duration": 100,
    "start_time": "2022-11-14T13:05:29.556Z"
   },
   {
    "duration": 714956,
    "start_time": "2022-11-14T13:08:57.826Z"
   },
   {
    "duration": 1849,
    "start_time": "2022-11-14T13:20:52.784Z"
   },
   {
    "duration": 179,
    "start_time": "2022-11-14T13:20:54.635Z"
   },
   {
    "duration": 241,
    "start_time": "2022-11-14T13:22:27.397Z"
   },
   {
    "duration": 29,
    "start_time": "2022-11-14T13:24:23.751Z"
   },
   {
    "duration": 6,
    "start_time": "2022-11-14T13:25:11.707Z"
   },
   {
    "duration": 31,
    "start_time": "2022-11-14T13:25:24.068Z"
   },
   {
    "duration": 12,
    "start_time": "2022-11-14T13:26:55.089Z"
   },
   {
    "duration": 705623,
    "start_time": "2022-11-14T13:29:10.511Z"
   },
   {
    "duration": 2006,
    "start_time": "2022-11-14T13:40:56.136Z"
   },
   {
    "duration": 504,
    "start_time": "2022-11-14T13:40:58.144Z"
   },
   {
    "duration": 0,
    "start_time": "2022-11-14T13:40:58.733Z"
   },
   {
    "duration": 214,
    "start_time": "2022-11-14T13:41:30.821Z"
   },
   {
    "duration": 31,
    "start_time": "2022-11-14T13:42:28.377Z"
   },
   {
    "duration": 164,
    "start_time": "2022-11-14T13:42:42.176Z"
   },
   {
    "duration": 1346,
    "start_time": "2022-11-14T13:59:12.127Z"
   },
   {
    "duration": 296,
    "start_time": "2022-11-14T13:59:13.475Z"
   },
   {
    "duration": 18,
    "start_time": "2022-11-14T13:59:13.772Z"
   },
   {
    "duration": 141,
    "start_time": "2022-11-14T13:59:13.792Z"
   },
   {
    "duration": 97,
    "start_time": "2022-11-14T13:59:13.934Z"
   },
   {
    "duration": 13,
    "start_time": "2022-11-14T13:59:14.033Z"
   },
   {
    "duration": 36,
    "start_time": "2022-11-14T13:59:14.048Z"
   },
   {
    "duration": 14,
    "start_time": "2022-11-14T13:59:14.086Z"
   },
   {
    "duration": 376,
    "start_time": "2022-11-14T13:59:14.101Z"
   },
   {
    "duration": 19,
    "start_time": "2022-11-14T13:59:14.480Z"
   },
   {
    "duration": 109,
    "start_time": "2022-11-14T13:59:14.500Z"
   },
   {
    "duration": 7,
    "start_time": "2022-11-14T13:59:14.611Z"
   },
   {
    "duration": 46,
    "start_time": "2022-11-14T13:59:14.619Z"
   },
   {
    "duration": 29,
    "start_time": "2022-11-14T13:59:14.666Z"
   },
   {
    "duration": 891,
    "start_time": "2022-11-14T13:59:14.696Z"
   },
   {
    "duration": 880,
    "start_time": "2022-11-14T13:59:15.589Z"
   },
   {
    "duration": 766,
    "start_time": "2022-11-14T13:59:16.472Z"
   },
   {
    "duration": 16,
    "start_time": "2022-11-14T13:59:17.240Z"
   },
   {
    "duration": 20,
    "start_time": "2022-11-14T13:59:17.258Z"
   },
   {
    "duration": 8,
    "start_time": "2022-11-14T13:59:17.280Z"
   },
   {
    "duration": 7,
    "start_time": "2022-11-14T13:59:17.290Z"
   },
   {
    "duration": 279082,
    "start_time": "2022-11-14T13:59:17.298Z"
   },
   {
    "duration": 1153,
    "start_time": "2022-11-14T14:03:56.382Z"
   },
   {
    "duration": 5,
    "start_time": "2022-11-14T14:03:57.537Z"
   },
   {
    "duration": 14,
    "start_time": "2022-11-14T14:03:57.544Z"
   },
   {
    "duration": 27,
    "start_time": "2022-11-14T14:03:57.633Z"
   },
   {
    "duration": 2765049,
    "start_time": "2022-11-14T14:03:57.662Z"
   },
   {
    "duration": 1525,
    "start_time": "2022-11-14T14:50:02.714Z"
   },
   {
    "duration": 394,
    "start_time": "2022-11-14T14:50:04.243Z"
   },
   {
    "duration": 230,
    "start_time": "2022-11-14T14:50:04.639Z"
   },
   {
    "duration": 10,
    "start_time": "2022-11-14T14:53:41.301Z"
   },
   {
    "duration": 9,
    "start_time": "2022-11-14T14:54:19.771Z"
   },
   {
    "duration": 3,
    "start_time": "2022-11-14T14:54:27.914Z"
   },
   {
    "duration": 43,
    "start_time": "2022-11-14T14:59:27.129Z"
   },
   {
    "duration": 16998,
    "start_time": "2022-11-14T15:00:06.077Z"
   },
   {
    "duration": 25,
    "start_time": "2022-11-14T15:03:49.326Z"
   },
   {
    "duration": 28,
    "start_time": "2022-11-14T15:05:47.913Z"
   },
   {
    "duration": 4,
    "start_time": "2022-11-14T15:05:59.340Z"
   },
   {
    "duration": 5703,
    "start_time": "2022-11-14T16:12:27.833Z"
   },
   {
    "duration": 1485,
    "start_time": "2022-11-14T16:12:33.540Z"
   },
   {
    "duration": 23,
    "start_time": "2022-11-14T16:12:35.114Z"
   },
   {
    "duration": 479,
    "start_time": "2022-11-14T16:12:35.141Z"
   },
   {
    "duration": 322,
    "start_time": "2022-11-14T16:12:35.623Z"
   },
   {
    "duration": 71,
    "start_time": "2022-11-14T16:12:35.947Z"
   },
   {
    "duration": 204,
    "start_time": "2022-11-14T16:12:36.020Z"
   },
   {
    "duration": 16,
    "start_time": "2022-11-14T16:12:36.226Z"
   },
   {
    "duration": 1878,
    "start_time": "2022-11-14T16:12:36.244Z"
   },
   {
    "duration": 97,
    "start_time": "2022-11-14T16:12:38.124Z"
   },
   {
    "duration": 508,
    "start_time": "2022-11-14T16:12:38.224Z"
   },
   {
    "duration": 9,
    "start_time": "2022-11-14T16:12:38.814Z"
   },
   {
    "duration": 190,
    "start_time": "2022-11-14T16:12:38.824Z"
   },
   {
    "duration": 109,
    "start_time": "2022-11-14T16:12:39.016Z"
   },
   {
    "duration": 2407,
    "start_time": "2022-11-14T16:12:39.127Z"
   },
   {
    "duration": 1579,
    "start_time": "2022-11-14T16:12:41.536Z"
   },
   {
    "duration": 1825,
    "start_time": "2022-11-14T16:12:43.118Z"
   },
   {
    "duration": 18,
    "start_time": "2022-11-14T16:12:45.014Z"
   },
   {
    "duration": 93,
    "start_time": "2022-11-14T16:12:45.034Z"
   },
   {
    "duration": 8,
    "start_time": "2022-11-14T16:12:45.129Z"
   },
   {
    "duration": 74,
    "start_time": "2022-11-14T16:12:45.139Z"
   },
   {
    "duration": 22,
    "start_time": "2022-11-14T16:12:45.214Z"
   },
   {
    "duration": 26,
    "start_time": "2022-11-14T16:17:29.014Z"
   },
   {
    "duration": 97,
    "start_time": "2022-11-14T18:29:45.459Z"
   },
   {
    "duration": 42,
    "start_time": "2022-11-14T18:33:08.527Z"
   },
   {
    "duration": 1593,
    "start_time": "2022-11-14T18:33:17.099Z"
   },
   {
    "duration": 862,
    "start_time": "2022-11-14T18:33:18.694Z"
   },
   {
    "duration": 18,
    "start_time": "2022-11-14T18:33:19.558Z"
   },
   {
    "duration": 120,
    "start_time": "2022-11-14T18:33:19.578Z"
   },
   {
    "duration": 402,
    "start_time": "2022-11-14T18:33:19.700Z"
   },
   {
    "duration": 14,
    "start_time": "2022-11-14T18:33:20.103Z"
   },
   {
    "duration": 36,
    "start_time": "2022-11-14T18:33:20.119Z"
   },
   {
    "duration": 12,
    "start_time": "2022-11-14T18:33:20.157Z"
   },
   {
    "duration": 1794,
    "start_time": "2022-11-14T18:33:20.170Z"
   },
   {
    "duration": 17,
    "start_time": "2022-11-14T18:33:21.966Z"
   },
   {
    "duration": 107,
    "start_time": "2022-11-14T18:33:21.985Z"
   },
   {
    "duration": 9,
    "start_time": "2022-11-14T18:33:22.094Z"
   },
   {
    "duration": 107,
    "start_time": "2022-11-14T18:33:22.612Z"
   },
   {
    "duration": 10,
    "start_time": "2022-11-14T18:33:32.899Z"
   },
   {
    "duration": 24,
    "start_time": "2022-11-14T18:33:42.538Z"
   },
   {
    "duration": 45,
    "start_time": "2022-11-14T18:59:47.400Z"
   },
   {
    "duration": 23,
    "start_time": "2022-11-14T19:04:32.680Z"
   },
   {
    "duration": 32,
    "start_time": "2022-11-14T19:04:33.148Z"
   },
   {
    "duration": 854,
    "start_time": "2022-11-14T19:04:33.656Z"
   },
   {
    "duration": 832,
    "start_time": "2022-11-14T19:05:27.067Z"
   },
   {
    "duration": 130,
    "start_time": "2022-11-14T19:05:56.737Z"
   },
   {
    "duration": 369,
    "start_time": "2022-11-14T19:20:56.936Z"
   },
   {
    "duration": 353,
    "start_time": "2022-11-14T19:23:41.575Z"
   },
   {
    "duration": 11,
    "start_time": "2022-11-14T19:23:52.767Z"
   },
   {
    "duration": 6,
    "start_time": "2022-11-14T19:26:01.540Z"
   },
   {
    "duration": 13,
    "start_time": "2022-11-14T19:27:57.988Z"
   },
   {
    "duration": 5,
    "start_time": "2022-11-14T19:51:26.749Z"
   },
   {
    "duration": 275,
    "start_time": "2022-11-14T19:51:27.058Z"
   },
   {
    "duration": 17,
    "start_time": "2022-11-14T19:51:27.336Z"
   },
   {
    "duration": 125,
    "start_time": "2022-11-14T19:51:27.363Z"
   },
   {
    "duration": 82,
    "start_time": "2022-11-14T19:51:27.873Z"
   },
   {
    "duration": 16,
    "start_time": "2022-11-14T19:51:28.028Z"
   },
   {
    "duration": 35,
    "start_time": "2022-11-14T19:51:28.178Z"
   },
   {
    "duration": 17,
    "start_time": "2022-11-14T19:51:28.505Z"
   },
   {
    "duration": 373,
    "start_time": "2022-11-14T19:51:29.012Z"
   },
   {
    "duration": 16,
    "start_time": "2022-11-14T19:51:29.544Z"
   },
   {
    "duration": 88,
    "start_time": "2022-11-14T19:51:30.888Z"
   },
   {
    "duration": 7,
    "start_time": "2022-11-14T19:51:32.863Z"
   },
   {
    "duration": 23,
    "start_time": "2022-11-14T19:51:35.938Z"
   },
   {
    "duration": 16,
    "start_time": "2022-11-14T19:51:50.592Z"
   },
   {
    "duration": 1470,
    "start_time": "2022-11-15T11:52:32.245Z"
   },
   {
    "duration": 888,
    "start_time": "2022-11-15T11:52:33.717Z"
   },
   {
    "duration": 26,
    "start_time": "2022-11-15T11:52:34.607Z"
   },
   {
    "duration": 174,
    "start_time": "2022-11-15T11:52:34.635Z"
   },
   {
    "duration": 490,
    "start_time": "2022-11-15T11:52:34.811Z"
   },
   {
    "duration": 14,
    "start_time": "2022-11-15T11:52:35.302Z"
   },
   {
    "duration": 37,
    "start_time": "2022-11-15T11:52:35.318Z"
   },
   {
    "duration": 17,
    "start_time": "2022-11-15T11:52:35.356Z"
   },
   {
    "duration": 1871,
    "start_time": "2022-11-15T11:52:35.374Z"
   },
   {
    "duration": 17,
    "start_time": "2022-11-15T11:52:37.247Z"
   },
   {
    "duration": 94,
    "start_time": "2022-11-15T11:52:37.266Z"
   },
   {
    "duration": 9,
    "start_time": "2022-11-15T11:52:37.361Z"
   },
   {
    "duration": 32,
    "start_time": "2022-11-15T11:52:37.371Z"
   },
   {
    "duration": 23,
    "start_time": "2022-11-15T11:52:37.426Z"
   },
   {
    "duration": 769,
    "start_time": "2022-11-15T11:52:38.072Z"
   },
   {
    "duration": 825,
    "start_time": "2022-11-15T11:52:38.843Z"
   },
   {
    "duration": 695,
    "start_time": "2022-11-15T11:52:40.094Z"
   },
   {
    "duration": 209,
    "start_time": "2022-11-15T11:56:38.282Z"
   },
   {
    "duration": 6,
    "start_time": "2022-11-15T11:56:51.028Z"
   },
   {
    "duration": 4,
    "start_time": "2022-11-15T11:57:03.737Z"
   },
   {
    "duration": 277,
    "start_time": "2022-11-15T11:57:04.021Z"
   },
   {
    "duration": 17,
    "start_time": "2022-11-15T11:57:04.300Z"
   },
   {
    "duration": 125,
    "start_time": "2022-11-15T11:57:04.318Z"
   },
   {
    "duration": 97,
    "start_time": "2022-11-15T11:57:04.795Z"
   },
   {
    "duration": 11,
    "start_time": "2022-11-15T11:57:04.948Z"
   },
   {
    "duration": 19,
    "start_time": "2022-11-15T11:57:05.106Z"
   },
   {
    "duration": 12,
    "start_time": "2022-11-15T11:57:05.380Z"
   },
   {
    "duration": 373,
    "start_time": "2022-11-15T11:57:05.821Z"
   },
   {
    "duration": 16,
    "start_time": "2022-11-15T11:57:06.198Z"
   },
   {
    "duration": 95,
    "start_time": "2022-11-15T11:57:06.215Z"
   },
   {
    "duration": 6,
    "start_time": "2022-11-15T11:57:06.669Z"
   },
   {
    "duration": 22,
    "start_time": "2022-11-15T11:57:07.294Z"
   },
   {
    "duration": 18,
    "start_time": "2022-11-15T11:57:08.240Z"
   },
   {
    "duration": 699,
    "start_time": "2022-11-15T11:57:08.905Z"
   },
   {
    "duration": 954,
    "start_time": "2022-11-15T11:57:09.607Z"
   },
   {
    "duration": 741,
    "start_time": "2022-11-15T11:57:12.148Z"
   },
   {
    "duration": 5,
    "start_time": "2022-11-15T12:02:18.479Z"
   },
   {
    "duration": 305,
    "start_time": "2022-11-15T12:02:18.847Z"
   },
   {
    "duration": 18,
    "start_time": "2022-11-15T12:02:19.154Z"
   },
   {
    "duration": 143,
    "start_time": "2022-11-15T12:02:19.175Z"
   },
   {
    "duration": 90,
    "start_time": "2022-11-15T12:02:19.636Z"
   },
   {
    "duration": 12,
    "start_time": "2022-11-15T12:02:19.811Z"
   },
   {
    "duration": 34,
    "start_time": "2022-11-15T12:02:19.955Z"
   },
   {
    "duration": 20,
    "start_time": "2022-11-15T12:02:20.273Z"
   },
   {
    "duration": 402,
    "start_time": "2022-11-15T12:02:20.758Z"
   },
   {
    "duration": 19,
    "start_time": "2022-11-15T12:02:21.162Z"
   },
   {
    "duration": 104,
    "start_time": "2022-11-15T12:02:21.197Z"
   },
   {
    "duration": 8,
    "start_time": "2022-11-15T12:02:21.848Z"
   },
   {
    "duration": 30,
    "start_time": "2022-11-15T12:02:22.569Z"
   },
   {
    "duration": 16,
    "start_time": "2022-11-15T12:02:23.337Z"
   },
   {
    "duration": 778,
    "start_time": "2022-11-15T12:02:24.044Z"
   },
   {
    "duration": 717,
    "start_time": "2022-11-15T12:02:24.958Z"
   },
   {
    "duration": 643,
    "start_time": "2022-11-15T12:02:27.539Z"
   },
   {
    "duration": 86,
    "start_time": "2022-11-15T12:03:49.443Z"
   },
   {
    "duration": 50,
    "start_time": "2022-11-15T12:05:59.935Z"
   },
   {
    "duration": 375,
    "start_time": "2022-11-15T12:06:26.399Z"
   },
   {
    "duration": 29,
    "start_time": "2022-11-15T12:06:34.381Z"
   },
   {
    "duration": 16,
    "start_time": "2022-11-15T12:06:38.621Z"
   },
   {
    "duration": 55,
    "start_time": "2022-11-15T12:07:10.235Z"
   },
   {
    "duration": 3,
    "start_time": "2022-11-15T12:09:37.066Z"
   },
   {
    "duration": 5,
    "start_time": "2022-11-15T12:09:40.769Z"
   },
   {
    "duration": 18,
    "start_time": "2022-11-15T12:11:27.730Z"
   },
   {
    "duration": 3,
    "start_time": "2022-11-15T12:14:49.852Z"
   },
   {
    "duration": 101,
    "start_time": "2022-11-15T12:14:59.035Z"
   },
   {
    "duration": 13,
    "start_time": "2022-11-15T12:18:32.694Z"
   },
   {
    "duration": 2,
    "start_time": "2022-11-15T12:18:41.977Z"
   },
   {
    "duration": 10,
    "start_time": "2022-11-15T12:18:53.836Z"
   },
   {
    "duration": 10,
    "start_time": "2022-11-15T12:20:23.483Z"
   },
   {
    "duration": 3,
    "start_time": "2022-11-15T12:20:32.415Z"
   },
   {
    "duration": 3,
    "start_time": "2022-11-15T12:21:58.690Z"
   },
   {
    "duration": 3,
    "start_time": "2022-11-15T12:23:09.404Z"
   },
   {
    "duration": 296,
    "start_time": "2022-11-15T12:23:09.409Z"
   },
   {
    "duration": 15,
    "start_time": "2022-11-15T12:23:09.707Z"
   },
   {
    "duration": 117,
    "start_time": "2022-11-15T12:23:09.723Z"
   },
   {
    "duration": 99,
    "start_time": "2022-11-15T12:23:09.842Z"
   },
   {
    "duration": 12,
    "start_time": "2022-11-15T12:23:09.942Z"
   },
   {
    "duration": 21,
    "start_time": "2022-11-15T12:23:09.956Z"
   },
   {
    "duration": 28,
    "start_time": "2022-11-15T12:23:09.978Z"
   },
   {
    "duration": 358,
    "start_time": "2022-11-15T12:23:10.008Z"
   },
   {
    "duration": 14,
    "start_time": "2022-11-15T12:23:10.368Z"
   },
   {
    "duration": 91,
    "start_time": "2022-11-15T12:23:10.384Z"
   },
   {
    "duration": 7,
    "start_time": "2022-11-15T12:23:10.477Z"
   },
   {
    "duration": 41,
    "start_time": "2022-11-15T12:23:10.485Z"
   },
   {
    "duration": 29,
    "start_time": "2022-11-15T12:23:10.529Z"
   },
   {
    "duration": 789,
    "start_time": "2022-11-15T12:23:10.560Z"
   },
   {
    "duration": 966,
    "start_time": "2022-11-15T12:23:11.351Z"
   },
   {
    "duration": 1094,
    "start_time": "2022-11-15T12:23:12.318Z"
   },
   {
    "duration": 85,
    "start_time": "2022-11-15T12:23:13.414Z"
   },
   {
    "duration": 16,
    "start_time": "2022-11-15T12:23:13.500Z"
   },
   {
    "duration": 6,
    "start_time": "2022-11-15T12:23:13.518Z"
   },
   {
    "duration": 7,
    "start_time": "2022-11-15T12:23:13.526Z"
   },
   {
    "duration": 1675,
    "start_time": "2022-11-15T13:04:45.817Z"
   },
   {
    "duration": 1262,
    "start_time": "2022-11-15T13:04:47.494Z"
   },
   {
    "duration": 19,
    "start_time": "2022-11-15T13:04:48.758Z"
   },
   {
    "duration": 291,
    "start_time": "2022-11-15T13:04:48.779Z"
   },
   {
    "duration": 447,
    "start_time": "2022-11-15T13:04:49.072Z"
   },
   {
    "duration": 13,
    "start_time": "2022-11-15T13:04:49.520Z"
   },
   {
    "duration": 22,
    "start_time": "2022-11-15T13:04:49.535Z"
   },
   {
    "duration": 15,
    "start_time": "2022-11-15T13:04:49.559Z"
   },
   {
    "duration": 1870,
    "start_time": "2022-11-15T13:04:49.576Z"
   },
   {
    "duration": 18,
    "start_time": "2022-11-15T13:04:51.449Z"
   },
   {
    "duration": 100,
    "start_time": "2022-11-15T13:04:51.468Z"
   },
   {
    "duration": 8,
    "start_time": "2022-11-15T13:04:51.570Z"
   },
   {
    "duration": 51,
    "start_time": "2022-11-15T13:04:51.579Z"
   },
   {
    "duration": 55,
    "start_time": "2022-11-15T13:04:51.633Z"
   },
   {
    "duration": 919,
    "start_time": "2022-11-15T13:04:51.690Z"
   },
   {
    "duration": 964,
    "start_time": "2022-11-15T13:04:52.611Z"
   },
   {
    "duration": 788,
    "start_time": "2022-11-15T13:04:53.578Z"
   },
   {
    "duration": 48,
    "start_time": "2022-11-15T13:04:54.368Z"
   },
   {
    "duration": 17,
    "start_time": "2022-11-15T13:04:54.418Z"
   },
   {
    "duration": 31,
    "start_time": "2022-11-15T13:04:54.436Z"
   },
   {
    "duration": 25,
    "start_time": "2022-11-15T13:04:54.468Z"
   },
   {
    "duration": 166484,
    "start_time": "2022-11-15T13:04:54.494Z"
   },
   {
    "duration": 127,
    "start_time": "2022-11-15T13:07:40.980Z"
   },
   {
    "duration": 0,
    "start_time": "2022-11-15T13:07:41.109Z"
   },
   {
    "duration": 0,
    "start_time": "2022-11-15T13:07:41.110Z"
   },
   {
    "duration": 0,
    "start_time": "2022-11-15T13:07:41.112Z"
   },
   {
    "duration": 0,
    "start_time": "2022-11-15T13:07:41.112Z"
   },
   {
    "duration": 0,
    "start_time": "2022-11-15T13:07:41.114Z"
   },
   {
    "duration": 0,
    "start_time": "2022-11-15T13:07:41.115Z"
   },
   {
    "duration": 0,
    "start_time": "2022-11-15T13:07:41.116Z"
   },
   {
    "duration": 0,
    "start_time": "2022-11-15T13:07:41.117Z"
   },
   {
    "duration": 0,
    "start_time": "2022-11-15T13:07:41.118Z"
   },
   {
    "duration": 0,
    "start_time": "2022-11-15T13:07:41.119Z"
   },
   {
    "duration": 876,
    "start_time": "2022-11-15T13:07:59.187Z"
   },
   {
    "duration": 5,
    "start_time": "2022-11-15T13:08:08.605Z"
   },
   {
    "duration": 5,
    "start_time": "2022-11-15T13:08:08.785Z"
   },
   {
    "duration": 13,
    "start_time": "2022-11-15T13:08:09.943Z"
   },
   {
    "duration": 3,
    "start_time": "2022-11-15T13:08:14.008Z"
   },
   {
    "duration": 22,
    "start_time": "2022-11-15T13:08:14.642Z"
   },
   {
    "duration": 9,
    "start_time": "2022-11-15T13:08:15.733Z"
   },
   {
    "duration": 13,
    "start_time": "2022-11-15T13:08:51.852Z"
   },
   {
    "duration": 5,
    "start_time": "2022-11-15T13:09:24.768Z"
   },
   {
    "duration": 3,
    "start_time": "2022-11-15T13:10:43.950Z"
   },
   {
    "duration": 3,
    "start_time": "2022-11-15T13:10:52.364Z"
   },
   {
    "duration": 3,
    "start_time": "2022-11-15T13:11:01.817Z"
   },
   {
    "duration": 3,
    "start_time": "2022-11-15T13:11:15.456Z"
   },
   {
    "duration": 3,
    "start_time": "2022-11-15T13:45:02.585Z"
   },
   {
    "duration": 5,
    "start_time": "2022-11-15T13:46:35.981Z"
   },
   {
    "duration": 13,
    "start_time": "2022-11-15T13:48:24.793Z"
   },
   {
    "duration": 4,
    "start_time": "2022-11-15T14:01:08.301Z"
   },
   {
    "duration": 302,
    "start_time": "2022-11-15T14:01:08.307Z"
   },
   {
    "duration": 18,
    "start_time": "2022-11-15T14:01:08.655Z"
   },
   {
    "duration": 135,
    "start_time": "2022-11-15T14:01:08.675Z"
   },
   {
    "duration": 90,
    "start_time": "2022-11-15T14:01:09.126Z"
   },
   {
    "duration": 12,
    "start_time": "2022-11-15T14:01:09.218Z"
   },
   {
    "duration": 31,
    "start_time": "2022-11-15T14:01:09.231Z"
   },
   {
    "duration": 14,
    "start_time": "2022-11-15T14:01:09.264Z"
   },
   {
    "duration": 367,
    "start_time": "2022-11-15T14:01:09.280Z"
   },
   {
    "duration": 21,
    "start_time": "2022-11-15T14:01:09.649Z"
   },
   {
    "duration": 103,
    "start_time": "2022-11-15T14:01:09.672Z"
   },
   {
    "duration": 8,
    "start_time": "2022-11-15T14:01:09.777Z"
   },
   {
    "duration": 24,
    "start_time": "2022-11-15T14:01:09.786Z"
   },
   {
    "duration": 15,
    "start_time": "2022-11-15T14:01:09.811Z"
   },
   {
    "duration": 815,
    "start_time": "2022-11-15T14:01:09.828Z"
   },
   {
    "duration": 1001,
    "start_time": "2022-11-15T14:01:11.083Z"
   },
   {
    "duration": 1090,
    "start_time": "2022-11-15T14:01:12.086Z"
   },
   {
    "duration": 88,
    "start_time": "2022-11-15T14:01:13.178Z"
   },
   {
    "duration": 17,
    "start_time": "2022-11-15T14:01:13.267Z"
   },
   {
    "duration": 7,
    "start_time": "2022-11-15T14:01:13.286Z"
   },
   {
    "duration": 60,
    "start_time": "2022-11-15T14:01:13.295Z"
   },
   {
    "duration": 247207,
    "start_time": "2022-11-15T14:01:13.357Z"
   },
   {
    "duration": 498,
    "start_time": "2022-11-15T14:05:20.566Z"
   },
   {
    "duration": 5,
    "start_time": "2022-11-15T14:05:21.156Z"
   },
   {
    "duration": 94,
    "start_time": "2022-11-15T14:05:21.165Z"
   },
   {
    "duration": 33,
    "start_time": "2022-11-15T14:05:21.260Z"
   },
   {
    "duration": 26,
    "start_time": "2022-11-15T14:05:21.294Z"
   },
   {
    "duration": 25,
    "start_time": "2022-11-15T14:05:21.322Z"
   },
   {
    "duration": 0,
    "start_time": "2022-11-15T14:05:21.348Z"
   },
   {
    "duration": 0,
    "start_time": "2022-11-15T14:05:21.349Z"
   },
   {
    "duration": 0,
    "start_time": "2022-11-15T14:05:21.351Z"
   },
   {
    "duration": 0,
    "start_time": "2022-11-15T14:05:21.352Z"
   },
   {
    "duration": 0,
    "start_time": "2022-11-15T14:05:21.353Z"
   },
   {
    "duration": 6,
    "start_time": "2022-11-15T14:08:04.680Z"
   },
   {
    "duration": 34,
    "start_time": "2022-11-15T14:08:13.847Z"
   },
   {
    "duration": 29,
    "start_time": "2022-11-15T14:09:12.159Z"
   },
   {
    "duration": 52,
    "start_time": "2022-11-15T14:09:17.856Z"
   },
   {
    "duration": 9,
    "start_time": "2022-11-15T14:09:25.697Z"
   },
   {
    "duration": 14,
    "start_time": "2022-11-15T14:09:29.381Z"
   },
   {
    "duration": 18,
    "start_time": "2022-11-15T14:10:29.968Z"
   },
   {
    "duration": 1121498,
    "start_time": "2022-11-15T14:11:24.999Z"
   },
   {
    "duration": 1161,
    "start_time": "2022-11-15T14:30:06.499Z"
   },
   {
    "duration": 105,
    "start_time": "2022-11-15T14:30:07.662Z"
   },
   {
    "duration": 0,
    "start_time": "2022-11-15T14:30:07.769Z"
   },
   {
    "duration": 27,
    "start_time": "2022-11-15T14:56:14.775Z"
   },
   {
    "duration": 4,
    "start_time": "2022-11-15T14:56:26.077Z"
   },
   {
    "duration": 5,
    "start_time": "2022-11-15T15:01:15.320Z"
   },
   {
    "duration": 16,
    "start_time": "2022-11-15T15:07:08.827Z"
   },
   {
    "duration": 244892,
    "start_time": "2022-11-15T15:07:50.598Z"
   },
   {
    "duration": 371,
    "start_time": "2022-11-15T15:11:55.492Z"
   },
   {
    "duration": 97,
    "start_time": "2022-11-15T15:11:55.864Z"
   },
   {
    "duration": 132,
    "start_time": "2022-11-15T15:11:55.965Z"
   },
   {
    "duration": 38,
    "start_time": "2022-11-15T15:11:56.099Z"
   },
   {
    "duration": 46,
    "start_time": "2022-11-15T15:11:56.139Z"
   },
   {
    "duration": 8,
    "start_time": "2022-11-15T15:49:47.346Z"
   },
   {
    "duration": 7,
    "start_time": "2022-11-15T15:50:48.314Z"
   },
   {
    "duration": 7,
    "start_time": "2022-11-15T15:51:32.576Z"
   },
   {
    "duration": 3,
    "start_time": "2022-11-15T15:51:35.200Z"
   },
   {
    "duration": 53,
    "start_time": "2022-11-15T15:52:15.909Z"
   },
   {
    "duration": 45,
    "start_time": "2022-11-15T15:53:26.799Z"
   },
   {
    "duration": 1886,
    "start_time": "2022-11-16T09:22:37.382Z"
   },
   {
    "duration": 286,
    "start_time": "2022-11-16T09:22:39.270Z"
   },
   {
    "duration": 17,
    "start_time": "2022-11-16T09:22:39.558Z"
   },
   {
    "duration": 127,
    "start_time": "2022-11-16T09:22:39.577Z"
   },
   {
    "duration": 99,
    "start_time": "2022-11-16T09:22:39.705Z"
   },
   {
    "duration": 11,
    "start_time": "2022-11-16T09:22:39.806Z"
   },
   {
    "duration": 26,
    "start_time": "2022-11-16T09:22:39.819Z"
   },
   {
    "duration": 12,
    "start_time": "2022-11-16T09:22:39.847Z"
   },
   {
    "duration": 378,
    "start_time": "2022-11-16T09:22:39.860Z"
   },
   {
    "duration": 19,
    "start_time": "2022-11-16T09:22:40.241Z"
   },
   {
    "duration": 123,
    "start_time": "2022-11-16T09:22:40.262Z"
   },
   {
    "duration": 12,
    "start_time": "2022-11-16T09:22:40.386Z"
   },
   {
    "duration": 35,
    "start_time": "2022-11-16T09:22:40.400Z"
   },
   {
    "duration": 27,
    "start_time": "2022-11-16T09:22:40.437Z"
   },
   {
    "duration": 831,
    "start_time": "2022-11-16T09:22:40.466Z"
   },
   {
    "duration": 779,
    "start_time": "2022-11-16T09:22:41.299Z"
   },
   {
    "duration": 694,
    "start_time": "2022-11-16T09:22:42.080Z"
   },
   {
    "duration": 60,
    "start_time": "2022-11-16T09:22:42.776Z"
   },
   {
    "duration": 15,
    "start_time": "2022-11-16T09:22:42.837Z"
   },
   {
    "duration": 12,
    "start_time": "2022-11-16T09:22:42.854Z"
   },
   {
    "duration": 10,
    "start_time": "2022-11-16T09:22:42.868Z"
   },
   {
    "duration": 21,
    "start_time": "2022-11-16T09:22:42.879Z"
   },
   {
    "duration": 4,
    "start_time": "2022-11-16T09:22:51.579Z"
   },
   {
    "duration": 5,
    "start_time": "2022-11-16T09:22:55.969Z"
   },
   {
    "duration": 8,
    "start_time": "2022-11-16T09:23:02.643Z"
   },
   {
    "duration": 117,
    "start_time": "2022-11-16T09:23:34.616Z"
   },
   {
    "duration": 9,
    "start_time": "2022-11-16T09:24:45.536Z"
   },
   {
    "duration": 57,
    "start_time": "2022-11-16T09:25:04.729Z"
   },
   {
    "duration": 9,
    "start_time": "2022-11-16T09:25:16.442Z"
   },
   {
    "duration": 1173,
    "start_time": "2022-11-16T09:25:44.445Z"
   },
   {
    "duration": 4,
    "start_time": "2022-11-16T09:27:53.504Z"
   },
   {
    "duration": 16,
    "start_time": "2022-11-16T09:28:26.918Z"
   },
   {
    "duration": 20,
    "start_time": "2022-11-16T09:28:53.421Z"
   },
   {
    "duration": 10,
    "start_time": "2022-11-16T09:30:00.636Z"
   },
   {
    "duration": 14,
    "start_time": "2022-11-16T09:30:11.451Z"
   },
   {
    "duration": 4,
    "start_time": "2022-11-16T09:30:50.415Z"
   },
   {
    "duration": 13,
    "start_time": "2022-11-16T09:31:02.863Z"
   },
   {
    "duration": 608634,
    "start_time": "2022-11-16T09:31:28.991Z"
   },
   {
    "duration": 17,
    "start_time": "2022-11-16T09:42:08.199Z"
   },
   {
    "duration": 149370,
    "start_time": "2022-11-16T09:42:25.227Z"
   },
   {
    "duration": 321138,
    "start_time": "2022-11-16T09:45:43.239Z"
   },
   {
    "duration": 20,
    "start_time": "2022-11-16T09:54:44.803Z"
   },
   {
    "duration": 6,
    "start_time": "2022-11-16T09:55:18.016Z"
   },
   {
    "duration": 17,
    "start_time": "2022-11-16T09:55:20.198Z"
   },
   {
    "duration": 4,
    "start_time": "2022-11-16T09:55:34.322Z"
   },
   {
    "duration": 46,
    "start_time": "2022-11-16T09:55:36.057Z"
   },
   {
    "duration": 9,
    "start_time": "2022-11-16T09:56:23.949Z"
   },
   {
    "duration": 1534,
    "start_time": "2023-06-10T11:20:39.558Z"
   }
  ],
  "kernelspec": {
   "display_name": "Python 3 (ipykernel)",
   "language": "python",
   "name": "python3"
  },
  "language_info": {
   "codemirror_mode": {
    "name": "ipython",
    "version": 3
   },
   "file_extension": ".py",
   "mimetype": "text/x-python",
   "name": "python",
   "nbconvert_exporter": "python",
   "pygments_lexer": "ipython3",
   "version": "3.9.5"
  },
  "toc": {
   "base_numbering": 1,
   "nav_menu": {},
   "number_sections": true,
   "sideBar": true,
   "skip_h1_title": true,
   "title_cell": "Содержание",
   "title_sidebar": "Contents",
   "toc_cell": true,
   "toc_position": {
    "height": "calc(100% - 180px)",
    "left": "10px",
    "top": "150px",
    "width": "289.432px"
   },
   "toc_section_display": true,
   "toc_window_display": false
  }
 },
 "nbformat": 4,
 "nbformat_minor": 2
}
